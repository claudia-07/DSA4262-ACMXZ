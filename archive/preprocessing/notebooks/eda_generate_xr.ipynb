{
 "cells": [
  {
   "cell_type": "code",
   "execution_count": 36,
   "metadata": {},
   "outputs": [],
   "source": [
    "import pandas as pd\n",
    "import numpy as np\n",
    "import sys\n",
    "import os \n",
    "import matplotlib.pyplot as plt\n",
    "from matplotlib import ticker\n",
    "from sklearn.pipeline import Pipeline\n",
    "from sklearn.preprocessing import MinMaxScaler, StandardScaler\n",
    "from sklearn.compose import ColumnTransformer\n",
    "from category_encoders import OneHotEncoder"
   ]
  },
  {
   "cell_type": "code",
   "execution_count": 3,
   "metadata": {},
   "outputs": [],
   "source": [
    "sys.path.append(os.path.abspath('../../util/model'))\n",
    "from training import get_percent"
   ]
  },
  {
   "cell_type": "code",
   "execution_count": 4,
   "metadata": {},
   "outputs": [],
   "source": [
    "info_data_path = \"../../data/raw_data/data.info\"\n",
    "with open(info_data_path, 'r') as f:\n",
    "    info = f.read().splitlines()\n",
    "data_df1 = pd.read_parquet(\"../../data/merged_data/merged_data_v2_1.parquet\")\n",
    "data_df2 = pd.read_parquet(\"../../data/merged_data/merged_data_v2_2.parquet\")\n",
    "data_df3 = pd.read_parquet(\"../../data/merged_data/merged_data_v2_3.parquet\")"
   ]
  },
  {
   "cell_type": "code",
   "execution_count": 5,
   "metadata": {},
   "outputs": [
    {
     "name": "stdout",
     "output_type": "stream",
     "text": [
      "(5000000, 15)\n",
      "(5000000, 15)\n",
      "(1027106, 15)\n"
     ]
    }
   ],
   "source": [
    "print(data_df1.shape)\n",
    "print(data_df2.shape)\n",
    "print(data_df3.shape)\n"
   ]
  },
  {
   "cell_type": "code",
   "execution_count": 6,
   "metadata": {},
   "outputs": [],
   "source": [
    "raw_df =  pd.concat([data_df1, data_df2, data_df3])"
   ]
  },
  {
   "cell_type": "code",
   "execution_count": 7,
   "metadata": {},
   "outputs": [],
   "source": [
    "def model_features_and_clean(df):\n",
    "    '''Function to select features for modelling and clean the initial raw data. \n",
    "        Removes rows which contain NAN values in key_columns, and converts all NAN values to 0 for non_nan_cols\n",
    "\n",
    "    :Parameters:\n",
    "    ------------\n",
    "        self.df: DataFrame\n",
    "            DataFrame containing raw data\n",
    "\n",
    "    :Returns:\n",
    "    ---------\n",
    "        self.df: DataFrame\n",
    "            DataFrame containing features required for modelling\n",
    "    '''\n",
    "\n",
    "    model_features_list = ['transcript', 'position', 'nucleotides', 'reads_count', 'gene_id',\n",
    "                            'dwellingtime_-1', 'std_-1', 'mean_-1',\n",
    "                            'dwellingtime_0', 'std_0', 'mean_0',\n",
    "                            'dwellingtime_+1', 'std_+1', 'mean_+1','label']\n",
    "    non_nan_cols = []\n",
    "    key_columns = ['label'] \n",
    "\n",
    "    df = df[model_features_list]\n",
    "    df[non_nan_cols] = df[non_nan_cols].fillna(0)\n",
    "    df = df.dropna(subset=key_columns)\n",
    "    return df"
   ]
  },
  {
   "cell_type": "code",
   "execution_count": 8,
   "metadata": {},
   "outputs": [],
   "source": [
    "cleaned_df = model_features_and_clean(raw_df)"
   ]
  },
  {
   "cell_type": "code",
   "execution_count": 9,
   "metadata": {},
   "outputs": [],
   "source": [
    "# function to clean ==> added in np.min and np.max for all \n",
    "def feature_eng(df):\n",
    "    temp = pd.DataFrame(df.groupby(['gene_id', 'transcript', 'position', 'nucleotides', 'reads_count', 'label'], as_index=False)\n",
    "                           .agg({'dwellingtime_-1': [get_percent(25), get_percent(50), get_percent(75), np.mean, np.min, np.max],\n",
    "                                'std_-1': [get_percent(25), get_percent(50), get_percent(75), np.mean, np.min, np.max],\n",
    "                                'mean_-1': [get_percent(25), get_percent(50), get_percent(75), np.mean, np.min, np.max],\n",
    "                                'dwellingtime_0': [get_percent(25), get_percent(50), get_percent(75), np.mean, np.min, np.max],\n",
    "                                'std_0': [get_percent(25), get_percent(50), get_percent(75), np.mean, np.min, np.max],\n",
    "                                'mean_0': [get_percent(25), get_percent(50), get_percent(75), np.mean, np.min, np.max],\n",
    "                                'dwellingtime_+1': [get_percent(25), get_percent(50), get_percent(75), np.mean, np.min, np.max],\n",
    "                                'std_+1': [get_percent(25), get_percent(50), get_percent(75), np.mean, np.min, np.max],\n",
    "                                'mean_+1': [get_percent(25), get_percent(50), get_percent(75), np.mean, np.min, np.max]}))\n",
    "    temp.columns = ['gene_id', 'transcript', 'position', 'nucleotides', 'reads_count', 'label',\n",
    "                        'dwelling_time_-1_25', 'dwelling_time_-1_50', 'dwelling_time_-1_75', 'dwelling_time_-1_mean','dwelling_time_-1_min', 'dwelling_time_-1_max',\n",
    "                        'std_-1_25', 'std_-1_50', 'std_-1_75', 'std_-1_mean','std_-1_min', 'std_-1_max',\n",
    "                        'mean_-1_25', 'mean_-1_50', 'mean_-1_75', 'mean_-1_mean','mean_-1_min', 'mean_-1_max',\n",
    "                        'dwelling_time_0_25', 'dwelling_time_0_50', 'dwelling_time_0_75', 'dwelling_time_0_mean','dwelling_time_0_min','dwelling_time_0_max',\n",
    "                        'std_0_25', 'std_0_50', 'std_0_75', 'std_0_mean','std_0_min', 'std_0_max',\n",
    "                        'mean_0_25', 'mean_0_50', 'mean_0_75', 'mean_0_mean','mean_0_min', 'mean_0_max',\n",
    "                        'dwelling_time_+1_25', 'dwelling_time_+1_50', 'dwelling_time_+1_75', 'dwelling_time_+1_mean','dwelling_time_+1_min','dwelling_time_+1_max',\n",
    "                        'std_+1_25', 'std_+1_50', 'std_+1_75', 'std_+1_mean','std_+1_min', 'std_+1_max',\n",
    "                        'mean_+1_25', 'mean_+1_50', 'mean_+1_75', 'mean_+1_mean','mean_+1_min', 'mean_+1_max']\n",
    "    return temp"
   ]
  },
  {
   "cell_type": "code",
   "execution_count": 10,
   "metadata": {},
   "outputs": [],
   "source": [
    "percentiles_df = feature_eng(cleaned_df)"
   ]
  },
  {
   "cell_type": "code",
   "execution_count": 11,
   "metadata": {},
   "outputs": [],
   "source": [
    "percentiles_df['position'] = percentiles_df['position'].astype(int)\n",
    "# find the relative position of each read in each transcript\n",
    "percentiles_df['relative_position'] = percentiles_df.groupby(['transcript','gene_id'])['position'].transform(lambda x: (x - x.min())/(x.max()-x.min()))\n",
    "# note: have NAs because there's transcripts with only one position\n",
    "# fill the NAs with 0\n",
    "percentiles_df['relative_position'] = percentiles_df['relative_position'].fillna(0)"
   ]
  },
  {
   "cell_type": "code",
   "execution_count": 12,
   "metadata": {},
   "outputs": [
    {
     "data": {
      "text/plain": [
       "(121838, 61)"
      ]
     },
     "execution_count": 12,
     "metadata": {},
     "output_type": "execute_result"
    }
   ],
   "source": [
    "percentiles_df.shape"
   ]
  },
  {
   "cell_type": "code",
   "execution_count": 13,
   "metadata": {},
   "outputs": [
    {
     "data": {
      "text/html": [
       "<div>\n",
       "<style scoped>\n",
       "    .dataframe tbody tr th:only-of-type {\n",
       "        vertical-align: middle;\n",
       "    }\n",
       "\n",
       "    .dataframe tbody tr th {\n",
       "        vertical-align: top;\n",
       "    }\n",
       "\n",
       "    .dataframe thead th {\n",
       "        text-align: right;\n",
       "    }\n",
       "</style>\n",
       "<table border=\"1\" class=\"dataframe\">\n",
       "  <thead>\n",
       "    <tr style=\"text-align: right;\">\n",
       "      <th></th>\n",
       "      <th>order_0</th>\n",
       "      <th>order_1</th>\n",
       "      <th>order_2</th>\n",
       "      <th>order_3</th>\n",
       "      <th>order_4</th>\n",
       "      <th>order_5</th>\n",
       "      <th>order_6</th>\n",
       "    </tr>\n",
       "  </thead>\n",
       "  <tbody>\n",
       "    <tr>\n",
       "      <th>0</th>\n",
       "      <td>T</td>\n",
       "      <td>A</td>\n",
       "      <td>G</td>\n",
       "      <td>A</td>\n",
       "      <td>C</td>\n",
       "      <td>C</td>\n",
       "      <td>T</td>\n",
       "    </tr>\n",
       "    <tr>\n",
       "      <th>1</th>\n",
       "      <td>A</td>\n",
       "      <td>A</td>\n",
       "      <td>A</td>\n",
       "      <td>A</td>\n",
       "      <td>C</td>\n",
       "      <td>T</td>\n",
       "      <td>A</td>\n",
       "    </tr>\n",
       "    <tr>\n",
       "      <th>2</th>\n",
       "      <td>G</td>\n",
       "      <td>A</td>\n",
       "      <td>A</td>\n",
       "      <td>A</td>\n",
       "      <td>C</td>\n",
       "      <td>A</td>\n",
       "      <td>C</td>\n",
       "    </tr>\n",
       "    <tr>\n",
       "      <th>3</th>\n",
       "      <td>A</td>\n",
       "      <td>T</td>\n",
       "      <td>A</td>\n",
       "      <td>A</td>\n",
       "      <td>C</td>\n",
       "      <td>T</td>\n",
       "      <td>C</td>\n",
       "    </tr>\n",
       "    <tr>\n",
       "      <th>4</th>\n",
       "      <td>T</td>\n",
       "      <td>A</td>\n",
       "      <td>A</td>\n",
       "      <td>A</td>\n",
       "      <td>C</td>\n",
       "      <td>A</td>\n",
       "      <td>A</td>\n",
       "    </tr>\n",
       "  </tbody>\n",
       "</table>\n",
       "</div>"
      ],
      "text/plain": [
       "  order_0 order_1 order_2 order_3 order_4 order_5 order_6\n",
       "0       T       A       G       A       C       C       T\n",
       "1       A       A       A       A       C       T       A\n",
       "2       G       A       A       A       C       A       C\n",
       "3       A       T       A       A       C       T       C\n",
       "4       T       A       A       A       C       A       A"
      ]
     },
     "execution_count": 13,
     "metadata": {},
     "output_type": "execute_result"
    }
   ],
   "source": [
    "# split the nucleotides into seven columns\n",
    "## this is just to show why after encoding some positions are missing\n",
    "order_df = pd.DataFrame(percentiles_df['nucleotides'].str.split('').to_list())[[x for x in range(1, 8)]].rename(\n",
    "    columns = {1: 'order_0', 2:'order_1', \n",
    "               3: 'order_2', 4:'order_3', \n",
    "               5: 'order_4', 6:'order_5',\n",
    "               7: 'order_6'})\n",
    "\n",
    "order_df.head()"
   ]
  },
  {
   "cell_type": "code",
   "execution_count": 14,
   "metadata": {},
   "outputs": [
    {
     "data": {
      "text/plain": [
       "(121838, 7)"
      ]
     },
     "execution_count": 14,
     "metadata": {},
     "output_type": "execute_result"
    }
   ],
   "source": [
    "order_df.shape"
   ]
  },
  {
   "cell_type": "code",
   "execution_count": 27,
   "metadata": {},
   "outputs": [
    {
     "data": {
      "text/plain": [
       "{'A': [38866, 45867, 57985, 121838, 0, 45622, 31695],\n",
       " 'C': [22544, 0, 0, 0, 121838, 36629, 25749],\n",
       " 'T': [28828, 33905, 0, 0, 0, 39587, 34922],\n",
       " 'G': [31600, 42066, 63853, 0, 0, 0, 29472]}"
      ]
     },
     "execution_count": 27,
     "metadata": {},
     "output_type": "execute_result"
    }
   ],
   "source": [
    "x = [\"Position 1\", \"Position 2\", \"Position 3\", \"Position 4\", \"Position 5\", \"Position 6\", \"Position 7\"]\n",
    "nucleotide_counts = {\"A\": [], \"C\": [], \"T\": [], \"G\": []}\n",
    "\n",
    "for col in list(order_df.columns):\n",
    "    for nucleotide in [\"A\", \"C\", \"T\", \"G\"]:\n",
    "        try:\n",
    "            count = order_df[col].value_counts()[nucleotide]\n",
    "            nucleotide_counts[nucleotide].append(count)\n",
    "        except:\n",
    "            nucleotide_counts[nucleotide].append(0)\n",
    "\n",
    "nucleotide_counts"
   ]
  },
  {
   "cell_type": "code",
   "execution_count": 35,
   "metadata": {},
   "outputs": [
    {
     "data": {
      "text/html": [
       "<div>\n",
       "<style scoped>\n",
       "    .dataframe tbody tr th:only-of-type {\n",
       "        vertical-align: middle;\n",
       "    }\n",
       "\n",
       "    .dataframe tbody tr th {\n",
       "        vertical-align: top;\n",
       "    }\n",
       "\n",
       "    .dataframe thead th {\n",
       "        text-align: right;\n",
       "    }\n",
       "</style>\n",
       "<table border=\"1\" class=\"dataframe\">\n",
       "  <thead>\n",
       "    <tr style=\"text-align: right;\">\n",
       "      <th></th>\n",
       "      <th>A</th>\n",
       "      <th>C</th>\n",
       "      <th>T</th>\n",
       "      <th>G</th>\n",
       "    </tr>\n",
       "  </thead>\n",
       "  <tbody>\n",
       "    <tr>\n",
       "      <th>Position 1</th>\n",
       "      <td>38866</td>\n",
       "      <td>22544</td>\n",
       "      <td>28828</td>\n",
       "      <td>31600</td>\n",
       "    </tr>\n",
       "    <tr>\n",
       "      <th>Position 2</th>\n",
       "      <td>45867</td>\n",
       "      <td>0</td>\n",
       "      <td>33905</td>\n",
       "      <td>42066</td>\n",
       "    </tr>\n",
       "    <tr>\n",
       "      <th>Position 3</th>\n",
       "      <td>57985</td>\n",
       "      <td>0</td>\n",
       "      <td>0</td>\n",
       "      <td>63853</td>\n",
       "    </tr>\n",
       "    <tr>\n",
       "      <th>Position 4</th>\n",
       "      <td>121838</td>\n",
       "      <td>0</td>\n",
       "      <td>0</td>\n",
       "      <td>0</td>\n",
       "    </tr>\n",
       "    <tr>\n",
       "      <th>Position 5</th>\n",
       "      <td>0</td>\n",
       "      <td>121838</td>\n",
       "      <td>0</td>\n",
       "      <td>0</td>\n",
       "    </tr>\n",
       "  </tbody>\n",
       "</table>\n",
       "</div>"
      ],
      "text/plain": [
       "                 A       C      T      G\n",
       "Position 1   38866   22544  28828  31600\n",
       "Position 2   45867       0  33905  42066\n",
       "Position 3   57985       0      0  63853\n",
       "Position 4  121838       0      0      0\n",
       "Position 5       0  121838      0      0"
      ]
     },
     "execution_count": 35,
     "metadata": {},
     "output_type": "execute_result"
    }
   ],
   "source": [
    "nucleotide_df = pd.DataFrame(nucleotide_counts[\"A\"], columns = [\"A\"], index = x)\n",
    "nucleotide_df[\"C\"] = nucleotide_counts[\"C\"]\n",
    "nucleotide_df[\"T\"] = nucleotide_counts[\"T\"]\n",
    "nucleotide_df[\"G\"] = nucleotide_counts[\"G\"]\n",
    "nucleotide_df.head()"
   ]
  },
  {
   "cell_type": "code",
   "execution_count": 47,
   "metadata": {},
   "outputs": [
    {
     "data": {
      "image/png": "[encoded data removed]",
      "text/plain": [
       "<Figure size 1080x720 with 1 Axes>"
      ]
     },
     "metadata": {
      "needs_background": "light"
     },
     "output_type": "display_data"
    }
   ],
   "source": [
    "from turtle import width\n",
    "\n",
    "colour_scheme = {\"A\": \"#f75f4f\", \"C\": \"#efb94b\", \"T\": \"#6fa8dc\", \"G\": \"#93c47d\"}\n",
    "nucleotide_df.plot(kind = \"bar\", figsize = (15, 10), color = colour_scheme)\n",
    "\n",
    "plt.ylabel(\"Nucleotide Count\")\n",
    "plt.gca().xaxis.set_tick_params(rotation = 0)"
   ]
  },
  {
   "cell_type": "code",
   "execution_count": null,
   "metadata": {},
   "outputs": [],
   "source": [
    "indiv_df = pd.concat([percentiles_df, order_df], axis = 1)\n",
    "indiv_df.head()"
   ]
  },
  {
   "cell_type": "code",
   "execution_count": 34,
   "metadata": {},
   "outputs": [
    {
     "name": "stdout",
     "output_type": "stream",
     "text": [
      "order_0: ['T' 'A' 'G' 'C']\n",
      "order_1: ['A' 'T' 'G']\n",
      "order_2: ['G' 'A']\n",
      "order_3: ['A']\n",
      "order_4: ['C']\n",
      "order_5: ['C' 'T' 'A']\n",
      "order_6: ['T' 'A' 'C' 'G']\n"
     ]
    }
   ],
   "source": [
    "columns = ['order_0', 'order_1', 'order_2', 'order_3', 'order_4', 'order_5', 'order_6']\n",
    "for col in columns:\n",
    "    print(f'{col}: {indiv_df[col].unique()}')"
   ]
  },
  {
   "cell_type": "code",
   "execution_count": 17,
   "metadata": {},
   "outputs": [],
   "source": [
    "X_raw = percentiles_df.drop(columns = ['label'], axis = 1)\n",
    "y_raw = pd.DataFrame(percentiles_df['label'].astype(int))"
   ]
  },
  {
   "cell_type": "code",
   "execution_count": 28,
   "metadata": {},
   "outputs": [],
   "source": [
    "def encoding_full_data(X_raw, y_raw):\n",
    "    # new numeric cols\n",
    "    numeric_cols =  ['reads_count','dwelling_time_-1_25',\n",
    "                    'dwelling_time_-1_50', 'dwelling_time_-1_75', 'dwelling_time_-1_mean', 'dwelling_time_-1_min', 'dwelling_time_-1_max',\n",
    "                    'std_-1_25', 'std_-1_50', 'std_-1_75', 'std_-1_mean', 'std_-1_min', 'std_-1_max', 'mean_-1_25',\n",
    "                    'mean_-1_50', 'mean_-1_75', 'mean_-1_mean', 'mean_-1_min', 'mean_-1_max', 'dwelling_time_0_25',\n",
    "                    'dwelling_time_0_50', 'dwelling_time_0_75', 'dwelling_time_0_mean',  'dwelling_time_0_min', 'dwelling_time_0_max',\n",
    "                    'std_0_25', 'std_0_50', 'std_0_75', 'std_0_mean',  'std_0_min', 'std_0_max', 'mean_0_25',\n",
    "                    'mean_0_50', 'mean_0_75', 'mean_0_mean','mean_0_min', 'mean_0_max', 'dwelling_time_+1_25',\n",
    "                    'dwelling_time_+1_50', 'dwelling_time_+1_75', 'dwelling_time_+1_mean', 'dwelling_time_+1_min', 'dwelling_time_+1_max',\n",
    "                    'std_+1_25', 'std_+1_50', 'std_+1_75', 'std_+1_mean','std_+1_min', 'std_+1_max', 'mean_+1_25',\n",
    "                    'mean_+1_50', 'mean_+1_75', 'mean_+1_mean', 'mean_+1_min','mean_+1_max', 'relative_position']\n",
    "    one_hot_col = ['position_0', 'position_1', 'position_2', 'position_3', 'position_4', 'position_5', 'position_6']\n",
    "\n",
    "    # piping the encoding\n",
    "    numeric_encoder = Pipeline([('scale', StandardScaler())])\n",
    "    one_hot_encoder = Pipeline([('one_hot_enocde', OneHotEncoder(handle_unknown='ignore'))])\n",
    "    preprocessor = ColumnTransformer(transformers=[(\"num\", numeric_encoder, numeric_cols), \n",
    "                                                    (\"one_hot_encode\", one_hot_encoder, one_hot_col)], remainder='passthrough')\n",
    "\n",
    "    # getting list of column names to map\n",
    "    for i in range(7):\n",
    "        X_raw['position_' + str(i)] = X_raw['nucleotides'].apply(lambda x: x[i])\n",
    "    ref_df = X_raw # df used as reference for encoding\n",
    "    columns_to_map = numeric_cols\n",
    "    one_hot = OneHotEncoder(handle_unknown='ignore',use_cat_names=True)\n",
    "    x_df_ohe = pd.DataFrame(one_hot.fit_transform(ref_df[one_hot_col]))\n",
    "    x_df_ohe.columns = one_hot.get_feature_names()\n",
    "    columns_to_map = numeric_cols + list(x_df_ohe.columns)\n",
    "\n",
    "    print('columns after preprocessing :', columns_to_map,  '\\n')\n",
    "\n",
    "    # applying encoding on columns in df and creating pipeline\n",
    "    X_raw_enc = pd.DataFrame({col: vals for vals, col in zip(preprocessor.fit_transform(ref_df, y_raw).T, columns_to_map)})\n",
    "    pipe = Pipeline(steps=[(\"preprocessor\", preprocessor)])\n",
    "    pipe = pipe.fit(ref_df, y_raw)\n",
    "\n",
    "    return X_raw_enc, pipe, columns_to_map"
   ]
  },
  {
   "cell_type": "code",
   "execution_count": 29,
   "metadata": {},
   "outputs": [
    {
     "name": "stdout",
     "output_type": "stream",
     "text": [
      "columns after preprocessing : ['reads_count', 'dwelling_time_-1_25', 'dwelling_time_-1_50', 'dwelling_time_-1_75', 'dwelling_time_-1_mean', 'dwelling_time_-1_min', 'dwelling_time_-1_max', 'std_-1_25', 'std_-1_50', 'std_-1_75', 'std_-1_mean', 'std_-1_min', 'std_-1_max', 'mean_-1_25', 'mean_-1_50', 'mean_-1_75', 'mean_-1_mean', 'mean_-1_min', 'mean_-1_max', 'dwelling_time_0_25', 'dwelling_time_0_50', 'dwelling_time_0_75', 'dwelling_time_0_mean', 'dwelling_time_0_min', 'dwelling_time_0_max', 'std_0_25', 'std_0_50', 'std_0_75', 'std_0_mean', 'std_0_min', 'std_0_max', 'mean_0_25', 'mean_0_50', 'mean_0_75', 'mean_0_mean', 'mean_0_min', 'mean_0_max', 'dwelling_time_+1_25', 'dwelling_time_+1_50', 'dwelling_time_+1_75', 'dwelling_time_+1_mean', 'dwelling_time_+1_min', 'dwelling_time_+1_max', 'std_+1_25', 'std_+1_50', 'std_+1_75', 'std_+1_mean', 'std_+1_min', 'std_+1_max', 'mean_+1_25', 'mean_+1_50', 'mean_+1_75', 'mean_+1_mean', 'mean_+1_min', 'mean_+1_max', 'relative_position', 'position_0_T', 'position_0_A', 'position_0_G', 'position_0_C', 'position_1_A', 'position_1_T', 'position_1_G', 'position_2_G', 'position_2_A', 'position_3_A', 'position_4_C', 'position_5_C', 'position_5_T', 'position_5_A', 'position_6_T', 'position_6_A', 'position_6_C', 'position_6_G'] \n",
      "\n"
     ]
    }
   ],
   "source": [
    "X_raw_enc, pipe, columns_to_map = encoding_full_data(X_raw, y_raw)"
   ]
  },
  {
   "cell_type": "code",
   "execution_count": 30,
   "metadata": {},
   "outputs": [
    {
     "data": {
      "text/html": [
       "<div>\n",
       "<style scoped>\n",
       "    .dataframe tbody tr th:only-of-type {\n",
       "        vertical-align: middle;\n",
       "    }\n",
       "\n",
       "    .dataframe tbody tr th {\n",
       "        vertical-align: top;\n",
       "    }\n",
       "\n",
       "    .dataframe thead th {\n",
       "        text-align: right;\n",
       "    }\n",
       "</style>\n",
       "<table border=\"1\" class=\"dataframe\">\n",
       "  <thead>\n",
       "    <tr style=\"text-align: right;\">\n",
       "      <th></th>\n",
       "      <th>reads_count</th>\n",
       "      <th>dwelling_time_-1_25</th>\n",
       "      <th>dwelling_time_-1_50</th>\n",
       "      <th>dwelling_time_-1_75</th>\n",
       "      <th>dwelling_time_-1_mean</th>\n",
       "      <th>dwelling_time_-1_min</th>\n",
       "      <th>dwelling_time_-1_max</th>\n",
       "      <th>std_-1_25</th>\n",
       "      <th>std_-1_50</th>\n",
       "      <th>std_-1_75</th>\n",
       "      <th>...</th>\n",
       "      <th>position_2_A</th>\n",
       "      <th>position_3_A</th>\n",
       "      <th>position_4_C</th>\n",
       "      <th>position_5_C</th>\n",
       "      <th>position_5_T</th>\n",
       "      <th>position_5_A</th>\n",
       "      <th>position_6_T</th>\n",
       "      <th>position_6_A</th>\n",
       "      <th>position_6_C</th>\n",
       "      <th>position_6_G</th>\n",
       "    </tr>\n",
       "  </thead>\n",
       "  <tbody>\n",
       "    <tr>\n",
       "      <th>0</th>\n",
       "      <td>-0.506116</td>\n",
       "      <td>2.671903</td>\n",
       "      <td>1.730975</td>\n",
       "      <td>2.008774</td>\n",
       "      <td>1.465633</td>\n",
       "      <td>1.425162</td>\n",
       "      <td>-0.715276</td>\n",
       "      <td>-0.289779</td>\n",
       "      <td>-0.502084</td>\n",
       "      <td>-0.712691</td>\n",
       "      <td>...</td>\n",
       "      <td>0</td>\n",
       "      <td>1</td>\n",
       "      <td>1</td>\n",
       "      <td>1</td>\n",
       "      <td>0</td>\n",
       "      <td>0</td>\n",
       "      <td>1</td>\n",
       "      <td>0</td>\n",
       "      <td>0</td>\n",
       "      <td>0</td>\n",
       "    </tr>\n",
       "    <tr>\n",
       "      <th>1</th>\n",
       "      <td>-0.513397</td>\n",
       "      <td>2.954481</td>\n",
       "      <td>1.754884</td>\n",
       "      <td>1.23072</td>\n",
       "      <td>1.920001</td>\n",
       "      <td>0.016588</td>\n",
       "      <td>1.005682</td>\n",
       "      <td>-0.722286</td>\n",
       "      <td>-0.818518</td>\n",
       "      <td>-0.965746</td>\n",
       "      <td>...</td>\n",
       "      <td>1</td>\n",
       "      <td>1</td>\n",
       "      <td>1</td>\n",
       "      <td>0</td>\n",
       "      <td>1</td>\n",
       "      <td>0</td>\n",
       "      <td>0</td>\n",
       "      <td>1</td>\n",
       "      <td>0</td>\n",
       "      <td>0</td>\n",
       "    </tr>\n",
       "    <tr>\n",
       "      <th>2</th>\n",
       "      <td>-0.498834</td>\n",
       "      <td>0.220651</td>\n",
       "      <td>0.173918</td>\n",
       "      <td>-0.26577</td>\n",
       "      <td>0.437666</td>\n",
       "      <td>0.731387</td>\n",
       "      <td>2.288764</td>\n",
       "      <td>-0.711435</td>\n",
       "      <td>-0.536694</td>\n",
       "      <td>-0.313842</td>\n",
       "      <td>...</td>\n",
       "      <td>1</td>\n",
       "      <td>1</td>\n",
       "      <td>1</td>\n",
       "      <td>0</td>\n",
       "      <td>0</td>\n",
       "      <td>1</td>\n",
       "      <td>0</td>\n",
       "      <td>0</td>\n",
       "      <td>1</td>\n",
       "      <td>0</td>\n",
       "    </tr>\n",
       "    <tr>\n",
       "      <th>3</th>\n",
       "      <td>-0.513397</td>\n",
       "      <td>-0.56653</td>\n",
       "      <td>-0.522423</td>\n",
       "      <td>-0.70431</td>\n",
       "      <td>-0.481384</td>\n",
       "      <td>0.731387</td>\n",
       "      <td>-0.959673</td>\n",
       "      <td>-1.002874</td>\n",
       "      <td>-0.885265</td>\n",
       "      <td>-0.977201</td>\n",
       "      <td>...</td>\n",
       "      <td>1</td>\n",
       "      <td>1</td>\n",
       "      <td>1</td>\n",
       "      <td>0</td>\n",
       "      <td>1</td>\n",
       "      <td>0</td>\n",
       "      <td>0</td>\n",
       "      <td>0</td>\n",
       "      <td>1</td>\n",
       "      <td>0</td>\n",
       "    </tr>\n",
       "    <tr>\n",
       "      <th>4</th>\n",
       "      <td>-0.506116</td>\n",
       "      <td>0.572752</td>\n",
       "      <td>0.463812</td>\n",
       "      <td>1.685427</td>\n",
       "      <td>0.985092</td>\n",
       "      <td>0.016588</td>\n",
       "      <td>0.160478</td>\n",
       "      <td>-0.996673</td>\n",
       "      <td>-1.055843</td>\n",
       "      <td>-1.175063</td>\n",
       "      <td>...</td>\n",
       "      <td>1</td>\n",
       "      <td>1</td>\n",
       "      <td>1</td>\n",
       "      <td>0</td>\n",
       "      <td>0</td>\n",
       "      <td>1</td>\n",
       "      <td>0</td>\n",
       "      <td>1</td>\n",
       "      <td>0</td>\n",
       "      <td>0</td>\n",
       "    </tr>\n",
       "  </tbody>\n",
       "</table>\n",
       "<p>5 rows × 74 columns</p>\n",
       "</div>"
      ],
      "text/plain": [
       "  reads_count dwelling_time_-1_25 dwelling_time_-1_50 dwelling_time_-1_75  \\\n",
       "0   -0.506116            2.671903            1.730975            2.008774   \n",
       "1   -0.513397            2.954481            1.754884             1.23072   \n",
       "2   -0.498834            0.220651            0.173918            -0.26577   \n",
       "3   -0.513397            -0.56653           -0.522423            -0.70431   \n",
       "4   -0.506116            0.572752            0.463812            1.685427   \n",
       "\n",
       "  dwelling_time_-1_mean dwelling_time_-1_min dwelling_time_-1_max std_-1_25  \\\n",
       "0              1.465633             1.425162            -0.715276 -0.289779   \n",
       "1              1.920001             0.016588             1.005682 -0.722286   \n",
       "2              0.437666             0.731387             2.288764 -0.711435   \n",
       "3             -0.481384             0.731387            -0.959673 -1.002874   \n",
       "4              0.985092             0.016588             0.160478 -0.996673   \n",
       "\n",
       "  std_-1_50 std_-1_75  ... position_2_A position_3_A position_4_C  \\\n",
       "0 -0.502084 -0.712691  ...            0            1            1   \n",
       "1 -0.818518 -0.965746  ...            1            1            1   \n",
       "2 -0.536694 -0.313842  ...            1            1            1   \n",
       "3 -0.885265 -0.977201  ...            1            1            1   \n",
       "4 -1.055843 -1.175063  ...            1            1            1   \n",
       "\n",
       "  position_5_C position_5_T position_5_A position_6_T position_6_A  \\\n",
       "0            1            0            0            1            0   \n",
       "1            0            1            0            0            1   \n",
       "2            0            0            1            0            0   \n",
       "3            0            1            0            0            0   \n",
       "4            0            0            1            0            1   \n",
       "\n",
       "  position_6_C position_6_G  \n",
       "0            0            0  \n",
       "1            0            0  \n",
       "2            1            0  \n",
       "3            1            0  \n",
       "4            0            0  \n",
       "\n",
       "[5 rows x 74 columns]"
      ]
     },
     "execution_count": 30,
     "metadata": {},
     "output_type": "execute_result"
    }
   ],
   "source": [
    "X_raw_enc.head()"
   ]
  },
  {
   "cell_type": "code",
   "execution_count": 35,
   "metadata": {},
   "outputs": [
    {
     "data": {
      "text/plain": [
       "(121838, 74)"
      ]
     },
     "execution_count": 35,
     "metadata": {},
     "output_type": "execute_result"
    }
   ],
   "source": [
    "X_raw_enc.shape"
   ]
  },
  {
   "cell_type": "code",
   "execution_count": 38,
   "metadata": {},
   "outputs": [
    {
     "name": "stdout",
     "output_type": "stream",
     "text": [
      "/Users/xinrantao/Desktop/DSA4262-ACMXZ/data/raw_data\n"
     ]
    }
   ],
   "source": [
    "%cd ../../data/raw_data"
   ]
  },
  {
   "cell_type": "code",
   "execution_count": 39,
   "metadata": {},
   "outputs": [],
   "source": [
    "## raw data for eda\n",
    "X_raw_enc.to_parquet(\"X_raw_enc.parquet\") \n",
    "y_raw.to_parquet(\"y_raw.parquet\")"
   ]
  },
  {
   "cell_type": "code",
   "execution_count": 56,
   "metadata": {},
   "outputs": [
    {
     "data": {
      "text/plain": [
       "[10527532, 499574]"
      ]
     },
     "execution_count": 56,
     "metadata": {},
     "output_type": "execute_result"
    }
   ],
   "source": [
    "list(raw_df[\"label\"].value_counts())"
   ]
  },
  {
   "cell_type": "code",
   "execution_count": 57,
   "metadata": {},
   "outputs": [
    {
     "data": {
      "text/html": [
       "<div>\n",
       "<style scoped>\n",
       "    .dataframe tbody tr th:only-of-type {\n",
       "        vertical-align: middle;\n",
       "    }\n",
       "\n",
       "    .dataframe tbody tr th {\n",
       "        vertical-align: top;\n",
       "    }\n",
       "\n",
       "    .dataframe thead th {\n",
       "        text-align: right;\n",
       "    }\n",
       "</style>\n",
       "<table border=\"1\" class=\"dataframe\">\n",
       "  <thead>\n",
       "    <tr style=\"text-align: right;\">\n",
       "      <th></th>\n",
       "      <th>Count</th>\n",
       "    </tr>\n",
       "  </thead>\n",
       "  <tbody>\n",
       "    <tr>\n",
       "      <th>0</th>\n",
       "      <td>10527532</td>\n",
       "    </tr>\n",
       "    <tr>\n",
       "      <th>1</th>\n",
       "      <td>499574</td>\n",
       "    </tr>\n",
       "  </tbody>\n",
       "</table>\n",
       "</div>"
      ],
      "text/plain": [
       "      Count\n",
       "0  10527532\n",
       "1    499574"
      ]
     },
     "execution_count": 57,
     "metadata": {},
     "output_type": "execute_result"
    }
   ],
   "source": [
    "label_count = pd.DataFrame(list(raw_df[\"label\"].value_counts()), columns = [\"Count\"], index = [\"0\", \"1\"])\n",
    "label_count"
   ]
  },
  {
   "cell_type": "code",
   "execution_count": null,
   "metadata": {},
   "outputs": [],
   "source": [
    ", color = [\"#f75f4f\", \"#93c47d\"]"
   ]
  },
  {
   "cell_type": "code",
   "execution_count": 68,
   "metadata": {},
   "outputs": [
    {
     "data": {
      "text/plain": [
       "Text(0.5, 0, 'Label')"
      ]
     },
     "execution_count": 68,
     "metadata": {},
     "output_type": "execute_result"
    },
    {
     "data": {
      "image/png": "[encoded data removed]",
      "text/plain": [
       "<Figure size 360x360 with 1 Axes>"
      ]
     },
     "metadata": {
      "needs_background": "light"
     },
     "output_type": "display_data"
    }
   ],
   "source": [
    "label_count = list(raw_df[\"label\"].value_counts())\n",
    "labels = (\"0\", \"1\")\n",
    "x_pos = np.arange(2)\n",
    "\n",
    "plt.figure(figsize = (5, 5))\n",
    "plt.bar(x_pos, label_count, color = [\"#f75f4f\", \"#93c47d\"])\n",
    "plt.xticks(x_pos, labels)\n",
    "plt.ylabel(\"Count\")\n",
    "plt.xlabel(\"Label\")"
   ]
  }
 ],
 "metadata": {
  "kernelspec": {
   "display_name": "Python 3.8.8 ('base')",
   "language": "python",
   "name": "python3"
  },
  "language_info": {
   "codemirror_mode": {
    "name": "ipython",
    "version": 3
   },
   "file_extension": ".py",
   "mimetype": "text/x-python",
   "name": "python",
   "nbconvert_exporter": "python",
   "pygments_lexer": "ipython3",
   "version": "3.8.8"
  },
  "orig_nbformat": 4,
  "vscode": {
   "interpreter": {
    "hash": "40d3a090f54c6569ab1632332b64b2c03c39dcf918b08424e98f38b5ae0af88f"
   }
  }
 },
 "nbformat": 4,
 "nbformat_minor": 2
}
