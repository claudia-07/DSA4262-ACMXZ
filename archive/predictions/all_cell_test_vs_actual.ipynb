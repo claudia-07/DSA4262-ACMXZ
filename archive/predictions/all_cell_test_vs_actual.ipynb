{
 "cells": [
  {
   "cell_type": "code",
   "execution_count": 1,
   "metadata": {},
   "outputs": [],
   "source": [
    "import pandas as pd\n",
    "import numpy as np\n",
    "import matplotlib.pyplot as plt\n",
    "import os"
   ]
  },
  {
   "cell_type": "code",
   "execution_count": 2,
   "metadata": {},
   "outputs": [],
   "source": [
    "info_data_path = \"../data/model_training/raw_data/data.info\"\n",
    "with open(info_data_path, 'r') as f:\n",
    "    info = f.read().splitlines()\n",
    "\n",
    "info_list = [info[i].split(\",\") for i in range(len(info))]\n",
    "info_df = pd.DataFrame(info_list[1:]) \n",
    "info_df.columns = info_list[0]"
   ]
  },
  {
   "cell_type": "code",
   "execution_count": 3,
   "metadata": {},
   "outputs": [
    {
     "data": {
      "text/html": [
       "<div>\n",
       "<style scoped>\n",
       "    .dataframe tbody tr th:only-of-type {\n",
       "        vertical-align: middle;\n",
       "    }\n",
       "\n",
       "    .dataframe tbody tr th {\n",
       "        vertical-align: top;\n",
       "    }\n",
       "\n",
       "    .dataframe thead th {\n",
       "        text-align: right;\n",
       "    }\n",
       "</style>\n",
       "<table border=\"1\" class=\"dataframe\">\n",
       "  <thead>\n",
       "    <tr style=\"text-align: right;\">\n",
       "      <th></th>\n",
       "      <th>gene_id</th>\n",
       "      <th>transcript_id</th>\n",
       "      <th>transcript_position</th>\n",
       "      <th>label</th>\n",
       "    </tr>\n",
       "  </thead>\n",
       "  <tbody>\n",
       "    <tr>\n",
       "      <th>0</th>\n",
       "      <td>ENSG00000004059</td>\n",
       "      <td>ENST00000000233</td>\n",
       "      <td>244</td>\n",
       "      <td>0</td>\n",
       "    </tr>\n",
       "    <tr>\n",
       "      <th>1</th>\n",
       "      <td>ENSG00000004059</td>\n",
       "      <td>ENST00000000233</td>\n",
       "      <td>261</td>\n",
       "      <td>0</td>\n",
       "    </tr>\n",
       "    <tr>\n",
       "      <th>2</th>\n",
       "      <td>ENSG00000004059</td>\n",
       "      <td>ENST00000000233</td>\n",
       "      <td>316</td>\n",
       "      <td>0</td>\n",
       "    </tr>\n",
       "    <tr>\n",
       "      <th>3</th>\n",
       "      <td>ENSG00000004059</td>\n",
       "      <td>ENST00000000233</td>\n",
       "      <td>332</td>\n",
       "      <td>0</td>\n",
       "    </tr>\n",
       "    <tr>\n",
       "      <th>4</th>\n",
       "      <td>ENSG00000004059</td>\n",
       "      <td>ENST00000000233</td>\n",
       "      <td>368</td>\n",
       "      <td>0</td>\n",
       "    </tr>\n",
       "  </tbody>\n",
       "</table>\n",
       "</div>"
      ],
      "text/plain": [
       "           gene_id    transcript_id  transcript_position  label\n",
       "0  ENSG00000004059  ENST00000000233                  244      0\n",
       "1  ENSG00000004059  ENST00000000233                  261      0\n",
       "2  ENSG00000004059  ENST00000000233                  316      0\n",
       "3  ENSG00000004059  ENST00000000233                  332      0\n",
       "4  ENSG00000004059  ENST00000000233                  368      0"
      ]
     },
     "execution_count": 3,
     "metadata": {},
     "output_type": "execute_result"
    }
   ],
   "source": [
    "info_df[\"transcript_position\"] = info_df[\"transcript_position\"].astype(str).astype(int)\n",
    "info_df[\"label\"] = info_df[\"label\"].astype(str).astype(int)\n",
    "info_df.head()"
   ]
  },
  {
   "cell_type": "markdown",
   "metadata": {},
   "source": [
    "# A549"
   ]
  },
  {
   "cell_type": "code",
   "execution_count": 9,
   "metadata": {},
   "outputs": [],
   "source": [
    "A549_rep5_run1 = pd.read_csv(\"../data/aws_predictions/A549_rep5_run1_prediction.csv\")\n",
    "A549_rep6_run1 = pd.read_csv(\"../data/aws_predictions/A549_rep6_run1_prediction.csv\")"
   ]
  },
  {
   "cell_type": "code",
   "execution_count": 10,
   "metadata": {},
   "outputs": [
    {
     "data": {
      "text/html": [
       "<div>\n",
       "<style scoped>\n",
       "    .dataframe tbody tr th:only-of-type {\n",
       "        vertical-align: middle;\n",
       "    }\n",
       "\n",
       "    .dataframe tbody tr th {\n",
       "        vertical-align: top;\n",
       "    }\n",
       "\n",
       "    .dataframe thead th {\n",
       "        text-align: right;\n",
       "    }\n",
       "</style>\n",
       "<table border=\"1\" class=\"dataframe\">\n",
       "  <thead>\n",
       "    <tr style=\"text-align: right;\">\n",
       "      <th></th>\n",
       "      <th>transcript</th>\n",
       "      <th>position</th>\n",
       "      <th>score_x</th>\n",
       "      <th>score_y</th>\n",
       "      <th>scores_mean</th>\n",
       "      <th>label_mean</th>\n",
       "      <th>gene_id</th>\n",
       "      <th>label</th>\n",
       "      <th>mean_tp</th>\n",
       "    </tr>\n",
       "  </thead>\n",
       "  <tbody>\n",
       "    <tr>\n",
       "      <th>0</th>\n",
       "      <td>ENST00000373020</td>\n",
       "      <td>1006</td>\n",
       "      <td>0.004545</td>\n",
       "      <td>0.031818</td>\n",
       "      <td>0.018182</td>\n",
       "      <td>0</td>\n",
       "      <td>ENSG00000000003</td>\n",
       "      <td>0</td>\n",
       "      <td>True</td>\n",
       "    </tr>\n",
       "    <tr>\n",
       "      <th>1</th>\n",
       "      <td>ENST00000373020</td>\n",
       "      <td>1013</td>\n",
       "      <td>0.009091</td>\n",
       "      <td>0.009091</td>\n",
       "      <td>0.009091</td>\n",
       "      <td>0</td>\n",
       "      <td>ENSG00000000003</td>\n",
       "      <td>0</td>\n",
       "      <td>True</td>\n",
       "    </tr>\n",
       "    <tr>\n",
       "      <th>2</th>\n",
       "      <td>ENST00000373020</td>\n",
       "      <td>1149</td>\n",
       "      <td>0.004545</td>\n",
       "      <td>0.000000</td>\n",
       "      <td>0.002273</td>\n",
       "      <td>0</td>\n",
       "      <td>ENSG00000000003</td>\n",
       "      <td>0</td>\n",
       "      <td>True</td>\n",
       "    </tr>\n",
       "    <tr>\n",
       "      <th>3</th>\n",
       "      <td>ENST00000373020</td>\n",
       "      <td>512</td>\n",
       "      <td>0.013636</td>\n",
       "      <td>0.036364</td>\n",
       "      <td>0.025000</td>\n",
       "      <td>0</td>\n",
       "      <td>ENSG00000000003</td>\n",
       "      <td>0</td>\n",
       "      <td>True</td>\n",
       "    </tr>\n",
       "    <tr>\n",
       "      <th>4</th>\n",
       "      <td>ENST00000373020</td>\n",
       "      <td>689</td>\n",
       "      <td>0.004545</td>\n",
       "      <td>0.027273</td>\n",
       "      <td>0.015909</td>\n",
       "      <td>0</td>\n",
       "      <td>ENSG00000000003</td>\n",
       "      <td>0</td>\n",
       "      <td>True</td>\n",
       "    </tr>\n",
       "  </tbody>\n",
       "</table>\n",
       "</div>"
      ],
      "text/plain": [
       "        transcript  position   score_x   score_y  scores_mean  label_mean  \\\n",
       "0  ENST00000373020      1006  0.004545  0.031818     0.018182           0   \n",
       "1  ENST00000373020      1013  0.009091  0.009091     0.009091           0   \n",
       "2  ENST00000373020      1149  0.004545  0.000000     0.002273           0   \n",
       "3  ENST00000373020       512  0.013636  0.036364     0.025000           0   \n",
       "4  ENST00000373020       689  0.004545  0.027273     0.015909           0   \n",
       "\n",
       "           gene_id  label  mean_tp  \n",
       "0  ENSG00000000003      0     True  \n",
       "1  ENSG00000000003      0     True  \n",
       "2  ENSG00000000003      0     True  \n",
       "3  ENSG00000000003      0     True  \n",
       "4  ENSG00000000003      0     True  "
      ]
     },
     "execution_count": 10,
     "metadata": {},
     "output_type": "execute_result"
    }
   ],
   "source": [
    "## merge the two replicates to compare similar transcript and position\n",
    "A549_merge = A549_rep5_run1.merge(A549_rep6_run1, on = ['transcript','position'], how = 'inner')\n",
    "\n",
    "## calculate mean predicted score \n",
    "A549_merge['scores_mean'] = A549_merge[['score_x', 'score_y']].mean(axis=1)\n",
    "A549_merge[\"label_mean\"] = A549_merge.scores_mean.map(lambda x:1 if x >= 0.35 else 0)\n",
    "\n",
    "## merge with info_df to get the actual labels\n",
    "A549_pred_actual = A549_merge.merge(info_df, how = \"left\", left_on = [\"transcript\", \"position\"], right_on = [\"transcript_id\", \"transcript_position\"])\n",
    "A549_pred_actual = A549_pred_actual.drop([\"transcript_id\", \"transcript_position\"], axis = 1)\n",
    "A549_pred_actual.label= A549_pred_actual.label.astype(int)\n",
    "\n",
    "## create a bool col to check if predicted label mean == actual\n",
    "A549_pred_actual['mean_tp'] = np.where((A549_pred_actual['label_mean'] == A549_pred_actual['label']), True, False)\n",
    "A549_pred_actual.head()"
   ]
  },
  {
   "cell_type": "code",
   "execution_count": 11,
   "metadata": {},
   "outputs": [
    {
     "data": {
      "text/html": [
       "<div>\n",
       "<style scoped>\n",
       "    .dataframe tbody tr th:only-of-type {\n",
       "        vertical-align: middle;\n",
       "    }\n",
       "\n",
       "    .dataframe tbody tr th {\n",
       "        vertical-align: top;\n",
       "    }\n",
       "\n",
       "    .dataframe thead th {\n",
       "        text-align: right;\n",
       "    }\n",
       "</style>\n",
       "<table border=\"1\" class=\"dataframe\">\n",
       "  <thead>\n",
       "    <tr style=\"text-align: right;\">\n",
       "      <th></th>\n",
       "      <th>A549</th>\n",
       "    </tr>\n",
       "  </thead>\n",
       "  <tbody>\n",
       "    <tr>\n",
       "      <th>True</th>\n",
       "      <td>115016</td>\n",
       "    </tr>\n",
       "    <tr>\n",
       "      <th>False</th>\n",
       "      <td>4346</td>\n",
       "    </tr>\n",
       "  </tbody>\n",
       "</table>\n",
       "</div>"
      ],
      "text/plain": [
       "         A549\n",
       "True   115016\n",
       "False    4346"
      ]
     },
     "execution_count": 11,
     "metadata": {},
     "output_type": "execute_result"
    }
   ],
   "source": [
    "ind = [\"True\", \"False\"]\n",
    "plot_df = pd.DataFrame(list(A549_pred_actual[\"mean_tp\"].value_counts()), columns = [\"A549\"], index = ind)\n",
    "plot_df"
   ]
  },
  {
   "cell_type": "markdown",
   "metadata": {},
   "source": [
    "# HCT116"
   ]
  },
  {
   "cell_type": "code",
   "execution_count": 12,
   "metadata": {},
   "outputs": [],
   "source": [
    "Hct116_rep3_run1 = pd.read_csv(\"../data/aws_predictions/Hct116_rep3_run1_prediction.csv\")\n",
    "Hct116_rep3_run4 = pd.read_csv(\"../data/aws_predictions/Hct116_rep3_run4_prediction.csv\")\n",
    "Hct116_rep4_run3 = pd.read_csv(\"../data/aws_predictions/hct116_rep4_run3_prediction.csv\")"
   ]
  },
  {
   "cell_type": "code",
   "execution_count": 13,
   "metadata": {},
   "outputs": [],
   "source": [
    "## merge the two replicates to compare similar transcript and position\n",
    "HCT116_merge = Hct116_rep3_run1.merge(Hct116_rep3_run4, on = ['transcript','position'], how = 'inner')\n",
    "HCT116_merge = HCT116_merge.merge(Hct116_rep4_run3, on = ['transcript','position'], how = 'inner')\n",
    "\n",
    "## calculate mean predicted score \n",
    "HCT116_merge['scores_mean'] = HCT116_merge[['score_x', 'score_y', 'score']].mean(axis=1)\n",
    "HCT116_merge[\"label_mean\"] = HCT116_merge.scores_mean.map(lambda x:1 if x >= 0.35 else 0)\n",
    "\n",
    "## merge with info_df to get the actual labels\n",
    "HCT116_pred_actual = HCT116_merge.merge(info_df, how = \"left\", left_on = [\"transcript\", \"position\"], right_on = [\"transcript_id\", \"transcript_position\"])\n",
    "HCT116_pred_actual = HCT116_pred_actual.drop([\"transcript_id\", \"transcript_position\"], axis = 1)\n",
    "HCT116_pred_actual.label= HCT116_pred_actual.label.astype(int)\n",
    "\n",
    "## create a bool col to check if predicted label mean == actual\n",
    "HCT116_pred_actual['mean_tp'] = np.where((HCT116_pred_actual['label_mean'] == HCT116_pred_actual['label']), True, False)"
   ]
  },
  {
   "cell_type": "code",
   "execution_count": 14,
   "metadata": {},
   "outputs": [
    {
     "data": {
      "text/html": [
       "<div>\n",
       "<style scoped>\n",
       "    .dataframe tbody tr th:only-of-type {\n",
       "        vertical-align: middle;\n",
       "    }\n",
       "\n",
       "    .dataframe tbody tr th {\n",
       "        vertical-align: top;\n",
       "    }\n",
       "\n",
       "    .dataframe thead th {\n",
       "        text-align: right;\n",
       "    }\n",
       "</style>\n",
       "<table border=\"1\" class=\"dataframe\">\n",
       "  <thead>\n",
       "    <tr style=\"text-align: right;\">\n",
       "      <th></th>\n",
       "      <th>A549</th>\n",
       "      <th>HCT116</th>\n",
       "    </tr>\n",
       "  </thead>\n",
       "  <tbody>\n",
       "    <tr>\n",
       "      <th>True</th>\n",
       "      <td>115016</td>\n",
       "      <td>118909</td>\n",
       "    </tr>\n",
       "    <tr>\n",
       "      <th>False</th>\n",
       "      <td>4346</td>\n",
       "      <td>2929</td>\n",
       "    </tr>\n",
       "  </tbody>\n",
       "</table>\n",
       "</div>"
      ],
      "text/plain": [
       "         A549  HCT116\n",
       "True   115016  118909\n",
       "False    4346    2929"
      ]
     },
     "execution_count": 14,
     "metadata": {},
     "output_type": "execute_result"
    }
   ],
   "source": [
    "plot_df[\"HCT116\"] = list(HCT116_pred_actual[\"mean_tp\"].value_counts())\n",
    "plot_df"
   ]
  },
  {
   "cell_type": "markdown",
   "metadata": {},
   "source": [
    "# HEPG2"
   ]
  },
  {
   "cell_type": "code",
   "execution_count": 15,
   "metadata": {},
   "outputs": [],
   "source": [
    "hepG2_rep5_run2 = pd.read_csv(\"../data/aws_predictions/hepG2_rep5_run2_prediction.csv\")\n",
    "hepG2_rep6_run1 = pd.read_csv(\"../data/aws_predictions/hepG2_rep6_run1_prediction.csv\")"
   ]
  },
  {
   "cell_type": "code",
   "execution_count": 16,
   "metadata": {},
   "outputs": [
    {
     "data": {
      "text/html": [
       "<div>\n",
       "<style scoped>\n",
       "    .dataframe tbody tr th:only-of-type {\n",
       "        vertical-align: middle;\n",
       "    }\n",
       "\n",
       "    .dataframe tbody tr th {\n",
       "        vertical-align: top;\n",
       "    }\n",
       "\n",
       "    .dataframe thead th {\n",
       "        text-align: right;\n",
       "    }\n",
       "</style>\n",
       "<table border=\"1\" class=\"dataframe\">\n",
       "  <thead>\n",
       "    <tr style=\"text-align: right;\">\n",
       "      <th></th>\n",
       "      <th>transcript</th>\n",
       "      <th>position</th>\n",
       "      <th>score_x</th>\n",
       "      <th>score_y</th>\n",
       "      <th>scores_mean</th>\n",
       "      <th>label_mean</th>\n",
       "      <th>gene_id</th>\n",
       "      <th>label</th>\n",
       "      <th>mean_tp</th>\n",
       "    </tr>\n",
       "  </thead>\n",
       "  <tbody>\n",
       "    <tr>\n",
       "      <th>0</th>\n",
       "      <td>ENST00000373020</td>\n",
       "      <td>1006</td>\n",
       "      <td>0.009280</td>\n",
       "      <td>0.040909</td>\n",
       "      <td>0.025095</td>\n",
       "      <td>0</td>\n",
       "      <td>ENSG00000000003</td>\n",
       "      <td>0</td>\n",
       "      <td>True</td>\n",
       "    </tr>\n",
       "    <tr>\n",
       "      <th>1</th>\n",
       "      <td>ENST00000373020</td>\n",
       "      <td>1013</td>\n",
       "      <td>0.009091</td>\n",
       "      <td>0.009091</td>\n",
       "      <td>0.009091</td>\n",
       "      <td>0</td>\n",
       "      <td>ENSG00000000003</td>\n",
       "      <td>0</td>\n",
       "      <td>True</td>\n",
       "    </tr>\n",
       "    <tr>\n",
       "      <th>2</th>\n",
       "      <td>ENST00000373020</td>\n",
       "      <td>1149</td>\n",
       "      <td>0.000000</td>\n",
       "      <td>0.000000</td>\n",
       "      <td>0.000000</td>\n",
       "      <td>0</td>\n",
       "      <td>ENSG00000000003</td>\n",
       "      <td>0</td>\n",
       "      <td>True</td>\n",
       "    </tr>\n",
       "    <tr>\n",
       "      <th>3</th>\n",
       "      <td>ENST00000373020</td>\n",
       "      <td>512</td>\n",
       "      <td>0.045455</td>\n",
       "      <td>0.040909</td>\n",
       "      <td>0.043182</td>\n",
       "      <td>0</td>\n",
       "      <td>ENSG00000000003</td>\n",
       "      <td>0</td>\n",
       "      <td>True</td>\n",
       "    </tr>\n",
       "    <tr>\n",
       "      <th>4</th>\n",
       "      <td>ENST00000373020</td>\n",
       "      <td>689</td>\n",
       "      <td>0.022727</td>\n",
       "      <td>0.045455</td>\n",
       "      <td>0.034091</td>\n",
       "      <td>0</td>\n",
       "      <td>ENSG00000000003</td>\n",
       "      <td>0</td>\n",
       "      <td>True</td>\n",
       "    </tr>\n",
       "  </tbody>\n",
       "</table>\n",
       "</div>"
      ],
      "text/plain": [
       "        transcript  position   score_x   score_y  scores_mean  label_mean  \\\n",
       "0  ENST00000373020      1006  0.009280  0.040909     0.025095           0   \n",
       "1  ENST00000373020      1013  0.009091  0.009091     0.009091           0   \n",
       "2  ENST00000373020      1149  0.000000  0.000000     0.000000           0   \n",
       "3  ENST00000373020       512  0.045455  0.040909     0.043182           0   \n",
       "4  ENST00000373020       689  0.022727  0.045455     0.034091           0   \n",
       "\n",
       "           gene_id  label  mean_tp  \n",
       "0  ENSG00000000003      0     True  \n",
       "1  ENSG00000000003      0     True  \n",
       "2  ENSG00000000003      0     True  \n",
       "3  ENSG00000000003      0     True  \n",
       "4  ENSG00000000003      0     True  "
      ]
     },
     "execution_count": 16,
     "metadata": {},
     "output_type": "execute_result"
    }
   ],
   "source": [
    "## merge the two replicates to compare similar transcript and position\n",
    "HEPG2_merge = hepG2_rep5_run2.merge(hepG2_rep6_run1, on = ['transcript','position'], how = 'inner')\n",
    "\n",
    "## calculate mean predicted score \n",
    "HEPG2_merge['scores_mean'] = HEPG2_merge[['score_x', 'score_y']].mean(axis=1)\n",
    "HEPG2_merge[\"label_mean\"] = HEPG2_merge.scores_mean.map(lambda x:1 if x >= 0.35 else 0)\n",
    "\n",
    "## merge with info_df to get the actual labels\n",
    "HEPG2_pred_actual = HEPG2_merge.merge(info_df, how = \"left\", left_on = [\"transcript\", \"position\"], right_on = [\"transcript_id\", \"transcript_position\"])\n",
    "HEPG2_pred_actual = HEPG2_pred_actual.drop([\"transcript_id\", \"transcript_position\"], axis = 1)\n",
    "HEPG2_pred_actual.label= HEPG2_pred_actual.label.astype(int)\n",
    "\n",
    "## create a bool col to check if predicted label mean == actual\n",
    "HEPG2_pred_actual['mean_tp'] = np.where((HEPG2_pred_actual['label_mean'] == HEPG2_pred_actual['label']), True, False)\n",
    "HEPG2_pred_actual.head()"
   ]
  },
  {
   "cell_type": "code",
   "execution_count": 17,
   "metadata": {},
   "outputs": [
    {
     "data": {
      "text/html": [
       "<div>\n",
       "<style scoped>\n",
       "    .dataframe tbody tr th:only-of-type {\n",
       "        vertical-align: middle;\n",
       "    }\n",
       "\n",
       "    .dataframe tbody tr th {\n",
       "        vertical-align: top;\n",
       "    }\n",
       "\n",
       "    .dataframe thead th {\n",
       "        text-align: right;\n",
       "    }\n",
       "</style>\n",
       "<table border=\"1\" class=\"dataframe\">\n",
       "  <thead>\n",
       "    <tr style=\"text-align: right;\">\n",
       "      <th></th>\n",
       "      <th>A549</th>\n",
       "      <th>HCT116</th>\n",
       "      <th>HEPG2</th>\n",
       "    </tr>\n",
       "  </thead>\n",
       "  <tbody>\n",
       "    <tr>\n",
       "      <th>True</th>\n",
       "      <td>115016</td>\n",
       "      <td>118909</td>\n",
       "      <td>114554</td>\n",
       "    </tr>\n",
       "    <tr>\n",
       "      <th>False</th>\n",
       "      <td>4346</td>\n",
       "      <td>2929</td>\n",
       "      <td>4347</td>\n",
       "    </tr>\n",
       "  </tbody>\n",
       "</table>\n",
       "</div>"
      ],
      "text/plain": [
       "         A549  HCT116   HEPG2\n",
       "True   115016  118909  114554\n",
       "False    4346    2929    4347"
      ]
     },
     "execution_count": 17,
     "metadata": {},
     "output_type": "execute_result"
    }
   ],
   "source": [
    "plot_df[\"HEPG2\"] = list(HEPG2_pred_actual[\"mean_tp\"].value_counts())\n",
    "plot_df"
   ]
  },
  {
   "cell_type": "markdown",
   "metadata": {},
   "source": [
    "# K562"
   ]
  },
  {
   "cell_type": "code",
   "execution_count": 18,
   "metadata": {},
   "outputs": [],
   "source": [
    "k562_rep4_run1 = pd.read_csv(\"../data/aws_predictions/k562_rep4_run1_prediction.csv\")\n",
    "k562_rep5_run1 = pd.read_csv(\"../data/aws_predictions/k562_rep5_run1_prediction.csv\")\n",
    "k562_rep6_run1 = pd.read_csv(\"../data/aws_predictions/k562_rep6_run1_prediction.csv\")"
   ]
  },
  {
   "cell_type": "code",
   "execution_count": 19,
   "metadata": {},
   "outputs": [
    {
     "data": {
      "text/html": [
       "<div>\n",
       "<style scoped>\n",
       "    .dataframe tbody tr th:only-of-type {\n",
       "        vertical-align: middle;\n",
       "    }\n",
       "\n",
       "    .dataframe tbody tr th {\n",
       "        vertical-align: top;\n",
       "    }\n",
       "\n",
       "    .dataframe thead th {\n",
       "        text-align: right;\n",
       "    }\n",
       "</style>\n",
       "<table border=\"1\" class=\"dataframe\">\n",
       "  <thead>\n",
       "    <tr style=\"text-align: right;\">\n",
       "      <th></th>\n",
       "      <th>transcript</th>\n",
       "      <th>position</th>\n",
       "      <th>score_x</th>\n",
       "      <th>score_y</th>\n",
       "      <th>score</th>\n",
       "      <th>scores_mean</th>\n",
       "      <th>label_mean</th>\n",
       "      <th>gene_id</th>\n",
       "      <th>label</th>\n",
       "      <th>mean_tp</th>\n",
       "    </tr>\n",
       "  </thead>\n",
       "  <tbody>\n",
       "    <tr>\n",
       "      <th>0</th>\n",
       "      <td>ENST00000371582</td>\n",
       "      <td>1030</td>\n",
       "      <td>0.000000</td>\n",
       "      <td>0.004545</td>\n",
       "      <td>0.027273</td>\n",
       "      <td>0.010606</td>\n",
       "      <td>0</td>\n",
       "      <td>ENSG00000000419</td>\n",
       "      <td>0</td>\n",
       "      <td>True</td>\n",
       "    </tr>\n",
       "    <tr>\n",
       "      <th>1</th>\n",
       "      <td>ENST00000371582</td>\n",
       "      <td>105</td>\n",
       "      <td>0.045739</td>\n",
       "      <td>0.013636</td>\n",
       "      <td>0.009110</td>\n",
       "      <td>0.022829</td>\n",
       "      <td>0</td>\n",
       "      <td>ENSG00000000419</td>\n",
       "      <td>0</td>\n",
       "      <td>True</td>\n",
       "    </tr>\n",
       "    <tr>\n",
       "      <th>2</th>\n",
       "      <td>ENST00000371582</td>\n",
       "      <td>1123</td>\n",
       "      <td>0.045455</td>\n",
       "      <td>0.018182</td>\n",
       "      <td>0.004545</td>\n",
       "      <td>0.022727</td>\n",
       "      <td>0</td>\n",
       "      <td>ENSG00000000419</td>\n",
       "      <td>0</td>\n",
       "      <td>True</td>\n",
       "    </tr>\n",
       "    <tr>\n",
       "      <th>3</th>\n",
       "      <td>ENST00000371582</td>\n",
       "      <td>147</td>\n",
       "      <td>0.027729</td>\n",
       "      <td>0.072751</td>\n",
       "      <td>0.086364</td>\n",
       "      <td>0.062281</td>\n",
       "      <td>0</td>\n",
       "      <td>ENSG00000000419</td>\n",
       "      <td>0</td>\n",
       "      <td>True</td>\n",
       "    </tr>\n",
       "    <tr>\n",
       "      <th>4</th>\n",
       "      <td>ENST00000371582</td>\n",
       "      <td>242</td>\n",
       "      <td>0.054545</td>\n",
       "      <td>0.045583</td>\n",
       "      <td>0.013636</td>\n",
       "      <td>0.037922</td>\n",
       "      <td>0</td>\n",
       "      <td>ENSG00000000419</td>\n",
       "      <td>0</td>\n",
       "      <td>True</td>\n",
       "    </tr>\n",
       "  </tbody>\n",
       "</table>\n",
       "</div>"
      ],
      "text/plain": [
       "        transcript  position   score_x   score_y     score  scores_mean  \\\n",
       "0  ENST00000371582      1030  0.000000  0.004545  0.027273     0.010606   \n",
       "1  ENST00000371582       105  0.045739  0.013636  0.009110     0.022829   \n",
       "2  ENST00000371582      1123  0.045455  0.018182  0.004545     0.022727   \n",
       "3  ENST00000371582       147  0.027729  0.072751  0.086364     0.062281   \n",
       "4  ENST00000371582       242  0.054545  0.045583  0.013636     0.037922   \n",
       "\n",
       "   label_mean          gene_id  label  mean_tp  \n",
       "0           0  ENSG00000000419      0     True  \n",
       "1           0  ENSG00000000419      0     True  \n",
       "2           0  ENSG00000000419      0     True  \n",
       "3           0  ENSG00000000419      0     True  \n",
       "4           0  ENSG00000000419      0     True  "
      ]
     },
     "execution_count": 19,
     "metadata": {},
     "output_type": "execute_result"
    }
   ],
   "source": [
    "## merge the two replicates to compare similar transcript and position\n",
    "K562_merge = k562_rep4_run1.merge(k562_rep5_run1, on = ['transcript','position'], how = 'inner')\n",
    "K562_merge = K562_merge.merge(k562_rep6_run1, on = ['transcript','position'], how = 'inner')\n",
    "\n",
    "## calculate mean predicted score \n",
    "K562_merge['scores_mean'] = K562_merge[['score_x', 'score_y', 'score']].mean(axis=1)\n",
    "K562_merge[\"label_mean\"] = K562_merge.scores_mean.map(lambda x:1 if x >= 0.35 else 0)\n",
    "\n",
    "## merge with info_df to get the actual labels\n",
    "K562_pred_actual = K562_merge.merge(info_df, how = \"left\", left_on = [\"transcript\", \"position\"], right_on = [\"transcript_id\", \"transcript_position\"])\n",
    "K562_pred_actual = K562_pred_actual.drop([\"transcript_id\", \"transcript_position\"], axis = 1)\n",
    "K562_pred_actual.label= K562_pred_actual.label.astype(int)\n",
    "\n",
    "## create a bool col to check if predicted label mean == actual\n",
    "K562_pred_actual['mean_tp'] = np.where((K562_pred_actual['label_mean'] == K562_pred_actual['label']), True, False)\n",
    "K562_pred_actual.head()"
   ]
  },
  {
   "cell_type": "code",
   "execution_count": 20,
   "metadata": {},
   "outputs": [
    {
     "data": {
      "text/html": [
       "<div>\n",
       "<style scoped>\n",
       "    .dataframe tbody tr th:only-of-type {\n",
       "        vertical-align: middle;\n",
       "    }\n",
       "\n",
       "    .dataframe tbody tr th {\n",
       "        vertical-align: top;\n",
       "    }\n",
       "\n",
       "    .dataframe thead th {\n",
       "        text-align: right;\n",
       "    }\n",
       "</style>\n",
       "<table border=\"1\" class=\"dataframe\">\n",
       "  <thead>\n",
       "    <tr style=\"text-align: right;\">\n",
       "      <th></th>\n",
       "      <th>A549</th>\n",
       "      <th>HCT116</th>\n",
       "      <th>HEPG2</th>\n",
       "      <th>K562</th>\n",
       "    </tr>\n",
       "  </thead>\n",
       "  <tbody>\n",
       "    <tr>\n",
       "      <th>True</th>\n",
       "      <td>115016</td>\n",
       "      <td>118909</td>\n",
       "      <td>114554</td>\n",
       "      <td>94450</td>\n",
       "    </tr>\n",
       "    <tr>\n",
       "      <th>False</th>\n",
       "      <td>4346</td>\n",
       "      <td>2929</td>\n",
       "      <td>4347</td>\n",
       "      <td>3493</td>\n",
       "    </tr>\n",
       "  </tbody>\n",
       "</table>\n",
       "</div>"
      ],
      "text/plain": [
       "         A549  HCT116   HEPG2   K562\n",
       "True   115016  118909  114554  94450\n",
       "False    4346    2929    4347   3493"
      ]
     },
     "execution_count": 20,
     "metadata": {},
     "output_type": "execute_result"
    }
   ],
   "source": [
    "plot_df[\"K562\"] = list(K562_pred_actual[\"mean_tp\"].value_counts())\n",
    "plot_df"
   ]
  },
  {
   "cell_type": "markdown",
   "metadata": {},
   "source": [
    "# MCF7"
   ]
  },
  {
   "cell_type": "code",
   "execution_count": 21,
   "metadata": {},
   "outputs": [],
   "source": [
    "mcf7_rep3_run1 = pd.read_csv(\"../data/aws_predictions/mcf7_rep3_run1_prediction.csv\")\n",
    "mcf7_rep4_run1 = pd.read_csv(\"../data/aws_predictions/mcf7_rep4_run1_prediction.csv\")"
   ]
  },
  {
   "cell_type": "code",
   "execution_count": 22,
   "metadata": {},
   "outputs": [
    {
     "data": {
      "text/html": [
       "<div>\n",
       "<style scoped>\n",
       "    .dataframe tbody tr th:only-of-type {\n",
       "        vertical-align: middle;\n",
       "    }\n",
       "\n",
       "    .dataframe tbody tr th {\n",
       "        vertical-align: top;\n",
       "    }\n",
       "\n",
       "    .dataframe thead th {\n",
       "        text-align: right;\n",
       "    }\n",
       "</style>\n",
       "<table border=\"1\" class=\"dataframe\">\n",
       "  <thead>\n",
       "    <tr style=\"text-align: right;\">\n",
       "      <th></th>\n",
       "      <th>transcript</th>\n",
       "      <th>position</th>\n",
       "      <th>score_x</th>\n",
       "      <th>score_y</th>\n",
       "      <th>scores_mean</th>\n",
       "      <th>label_mean</th>\n",
       "      <th>gene_id</th>\n",
       "      <th>label</th>\n",
       "      <th>mean_tp</th>\n",
       "    </tr>\n",
       "  </thead>\n",
       "  <tbody>\n",
       "    <tr>\n",
       "      <th>0</th>\n",
       "      <td>ENST00000373020</td>\n",
       "      <td>1006</td>\n",
       "      <td>0.009091</td>\n",
       "      <td>0.009091</td>\n",
       "      <td>0.009091</td>\n",
       "      <td>0</td>\n",
       "      <td>ENSG00000000003</td>\n",
       "      <td>0</td>\n",
       "      <td>True</td>\n",
       "    </tr>\n",
       "    <tr>\n",
       "      <th>1</th>\n",
       "      <td>ENST00000373020</td>\n",
       "      <td>1013</td>\n",
       "      <td>0.009091</td>\n",
       "      <td>0.009091</td>\n",
       "      <td>0.009091</td>\n",
       "      <td>0</td>\n",
       "      <td>ENSG00000000003</td>\n",
       "      <td>0</td>\n",
       "      <td>True</td>\n",
       "    </tr>\n",
       "    <tr>\n",
       "      <th>2</th>\n",
       "      <td>ENST00000373020</td>\n",
       "      <td>1149</td>\n",
       "      <td>0.000000</td>\n",
       "      <td>0.000000</td>\n",
       "      <td>0.000000</td>\n",
       "      <td>0</td>\n",
       "      <td>ENSG00000000003</td>\n",
       "      <td>0</td>\n",
       "      <td>True</td>\n",
       "    </tr>\n",
       "    <tr>\n",
       "      <th>3</th>\n",
       "      <td>ENST00000373020</td>\n",
       "      <td>512</td>\n",
       "      <td>0.018182</td>\n",
       "      <td>0.018182</td>\n",
       "      <td>0.018182</td>\n",
       "      <td>0</td>\n",
       "      <td>ENSG00000000003</td>\n",
       "      <td>0</td>\n",
       "      <td>True</td>\n",
       "    </tr>\n",
       "    <tr>\n",
       "      <th>4</th>\n",
       "      <td>ENST00000373020</td>\n",
       "      <td>689</td>\n",
       "      <td>0.009091</td>\n",
       "      <td>0.009091</td>\n",
       "      <td>0.009091</td>\n",
       "      <td>0</td>\n",
       "      <td>ENSG00000000003</td>\n",
       "      <td>0</td>\n",
       "      <td>True</td>\n",
       "    </tr>\n",
       "  </tbody>\n",
       "</table>\n",
       "</div>"
      ],
      "text/plain": [
       "        transcript  position   score_x   score_y  scores_mean  label_mean  \\\n",
       "0  ENST00000373020      1006  0.009091  0.009091     0.009091           0   \n",
       "1  ENST00000373020      1013  0.009091  0.009091     0.009091           0   \n",
       "2  ENST00000373020      1149  0.000000  0.000000     0.000000           0   \n",
       "3  ENST00000373020       512  0.018182  0.018182     0.018182           0   \n",
       "4  ENST00000373020       689  0.009091  0.009091     0.009091           0   \n",
       "\n",
       "           gene_id  label  mean_tp  \n",
       "0  ENSG00000000003      0     True  \n",
       "1  ENSG00000000003      0     True  \n",
       "2  ENSG00000000003      0     True  \n",
       "3  ENSG00000000003      0     True  \n",
       "4  ENSG00000000003      0     True  "
      ]
     },
     "execution_count": 22,
     "metadata": {},
     "output_type": "execute_result"
    }
   ],
   "source": [
    "## merge the two replicates to compare similar transcript and position\n",
    "MCF7_merge = mcf7_rep3_run1.merge(mcf7_rep4_run1, on = ['transcript','position'], how = 'inner')\n",
    "\n",
    "## calculate mean predicted score \n",
    "MCF7_merge['scores_mean'] = MCF7_merge[['score_x', 'score_y']].mean(axis=1)\n",
    "MCF7_merge[\"label_mean\"] = MCF7_merge.scores_mean.map(lambda x:1 if x >= 0.35 else 0)\n",
    "\n",
    "## merge with info_df to get the actual labels\n",
    "MCF7_pred_actual = MCF7_merge.merge(info_df, how = \"left\", left_on = [\"transcript\", \"position\"], right_on = [\"transcript_id\", \"transcript_position\"])\n",
    "MCF7_pred_actual = MCF7_pred_actual.drop([\"transcript_id\", \"transcript_position\"], axis = 1)\n",
    "MCF7_pred_actual.label= MCF7_pred_actual.label.astype(int)\n",
    "\n",
    "## create a bool col to check if predicted label mean == actual\n",
    "MCF7_pred_actual['mean_tp'] = np.where((MCF7_pred_actual['label_mean'] == MCF7_pred_actual['label']), True, False)\n",
    "MCF7_pred_actual.head()"
   ]
  },
  {
   "cell_type": "code",
   "execution_count": 23,
   "metadata": {},
   "outputs": [
    {
     "data": {
      "text/html": [
       "<div>\n",
       "<style scoped>\n",
       "    .dataframe tbody tr th:only-of-type {\n",
       "        vertical-align: middle;\n",
       "    }\n",
       "\n",
       "    .dataframe tbody tr th {\n",
       "        vertical-align: top;\n",
       "    }\n",
       "\n",
       "    .dataframe thead th {\n",
       "        text-align: right;\n",
       "    }\n",
       "</style>\n",
       "<table border=\"1\" class=\"dataframe\">\n",
       "  <thead>\n",
       "    <tr style=\"text-align: right;\">\n",
       "      <th></th>\n",
       "      <th>A549</th>\n",
       "      <th>HCT116</th>\n",
       "      <th>HEPG2</th>\n",
       "      <th>K562</th>\n",
       "      <th>MCF7</th>\n",
       "    </tr>\n",
       "  </thead>\n",
       "  <tbody>\n",
       "    <tr>\n",
       "      <th>True</th>\n",
       "      <td>115016</td>\n",
       "      <td>118909</td>\n",
       "      <td>114554</td>\n",
       "      <td>94450</td>\n",
       "      <td>114861</td>\n",
       "    </tr>\n",
       "    <tr>\n",
       "      <th>False</th>\n",
       "      <td>4346</td>\n",
       "      <td>2929</td>\n",
       "      <td>4347</td>\n",
       "      <td>3493</td>\n",
       "      <td>4620</td>\n",
       "    </tr>\n",
       "  </tbody>\n",
       "</table>\n",
       "</div>"
      ],
      "text/plain": [
       "         A549  HCT116   HEPG2   K562    MCF7\n",
       "True   115016  118909  114554  94450  114861\n",
       "False    4346    2929    4347   3493    4620"
      ]
     },
     "execution_count": 23,
     "metadata": {},
     "output_type": "execute_result"
    }
   ],
   "source": [
    "plot_df[\"MCF7\"] = list(MCF7_pred_actual[\"mean_tp\"].value_counts())\n",
    "plot_df"
   ]
  },
  {
   "cell_type": "markdown",
   "metadata": {},
   "source": [
    "# Plot Bar"
   ]
  },
  {
   "cell_type": "code",
   "execution_count": 24,
   "metadata": {},
   "outputs": [
    {
     "data": {
      "text/plain": [
       "Text(0.5, 1.0, 'True Positives According to Threshold')"
      ]
     },
     "execution_count": 24,
     "metadata": {},
     "output_type": "execute_result"
    },
    {
     "data": {
      "image/png": "[encoded data removed]",
      "text/plain": [
       "<Figure size 720x720 with 1 Axes>"
      ]
     },
     "metadata": {
      "needs_background": "light"
     },
     "output_type": "display_data"
    }
   ],
   "source": [
    "from turtle import width\n",
    "\n",
    "colour_scheme = {\"True\": \"#f75f4f\", \"False\": \"#93c47d\"}\n",
    "plot_df_transpose = plot_df.transpose()\n",
    "plot_df_transpose.plot(kind = \"bar\", figsize = (10, 10), color = colour_scheme)\n",
    "\n",
    "plt.ylabel(\"Label Count\")\n",
    "plt.gca().xaxis.set_tick_params(rotation = 0)\n",
    "plt.title(\"True Positives According to Threshold\")"
   ]
  },
  {
   "cell_type": "markdown",
   "metadata": {},
   "source": [
    "# Plot ROC Curve"
   ]
  },
  {
   "cell_type": "code",
   "execution_count": 27,
   "metadata": {},
   "outputs": [],
   "source": [
    "from sklearn.metrics import roc_auc_score, roc_curve, precision_recall_curve, auc, accuracy_score, plot_confusion_matrix"
   ]
  },
  {
   "cell_type": "code",
   "execution_count": 28,
   "metadata": {},
   "outputs": [],
   "source": [
    "cell_lines_df = [A549_pred_actual, HCT116_pred_actual, HEPG2_pred_actual, K562_pred_actual, MCF7_pred_actual]\n",
    "fpr_ls, tpr_ls, roc_auc_ls = [], [], []\n",
    "\n",
    "for cell_line in cell_lines_df:\n",
    "    pred = cell_line[\"scores_mean\"]\n",
    "    test = cell_line[\"label\"]\n",
    "    fpr, tpr, thresholds = roc_curve(test, pred)\n",
    "    roc_auc = roc_auc_score(test, pred)\n",
    "    fpr_ls.append(fpr)\n",
    "    tpr_ls.append(tpr)\n",
    "    roc_auc_ls.append(roc_auc)"
   ]
  },
  {
   "cell_type": "code",
   "execution_count": 30,
   "metadata": {},
   "outputs": [
    {
     "data": {
      "image/png": "[encoded data removed]",
      "text/plain": [
       "<Figure size 432x288 with 1 Axes>"
      ]
     },
     "metadata": {
      "needs_background": "light"
     },
     "output_type": "display_data"
    }
   ],
   "source": [
    "# ROC Curve\n",
    "cell_lines = [\"A549\", \"HCT116\", \"HEPG2\", \"K562\", \"MCF7\"]\n",
    "\n",
    "for i in range(len(cell_lines_df)):\n",
    "    plt.plot(fpr_ls[i], tpr_ls[i], label = f\"{cell_lines[i]}, AUC = %0.2f\" % roc_auc_ls[i])\n",
    "    plt.xlim([0.0, 1.0])\n",
    "    plt.ylim([0.0, 1.05])\n",
    "    plt.xlabel('False Positive Rate')\n",
    "    plt.ylabel('True Positive Rate')\n",
    "    plt.title('Receiver Operating Characteristic')\n",
    "    plt.legend(loc = \"lower right\")"
   ]
  }
 ],
 "metadata": {
  "kernelspec": {
   "display_name": "Python 3.8.10 64-bit",
   "language": "python",
   "name": "python3"
  },
  "language_info": {
   "codemirror_mode": {
    "name": "ipython",
    "version": 3
   },
   "file_extension": ".py",
   "mimetype": "text/x-python",
   "name": "python",
   "nbconvert_exporter": "python",
   "pygments_lexer": "ipython3",
   "version": "3.8.10"
  },
  "orig_nbformat": 4,
  "vscode": {
   "interpreter": {
    "hash": "aee8b7b246df8f9039afb4144a1f6fd8d2ca17a180786b69acc140d282b71a49"
   }
  }
 },
 "nbformat": 4,
 "nbformat_minor": 2
}
