{
 "cells": [
  {
   "cell_type": "code",
   "execution_count": 7,
   "metadata": {},
   "outputs": [],
   "source": [
    "import pandas as pd\n",
    "import numpy as np\n",
    "from sklearn.metrics import roc_auc_score, roc_curve\n",
    "import matplotlib.pyplot as plt"
   ]
  },
  {
   "cell_type": "code",
   "execution_count": 2,
   "metadata": {},
   "outputs": [],
   "source": [
    "info_data_path = \"../data/raw_data/data.info\"\n",
    "with open(info_data_path, 'r') as f:\n",
    "    info = f.read().splitlines()\n",
    "\n",
    "info_list = [info[i].split(\",\") for i in range(len(info))]\n",
    "info_df = pd.DataFrame(info_list[1:]) \n",
    "info_df.columns = info_list[0]"
   ]
  },
  {
   "cell_type": "code",
   "execution_count": 3,
   "metadata": {},
   "outputs": [],
   "source": [
    "info_df[\"transcript_position\"] = info_df[\"transcript_position\"].astype(str).astype(int)"
   ]
  },
  {
   "cell_type": "code",
   "execution_count": 4,
   "metadata": {},
   "outputs": [],
   "source": [
    "A549_rep5_run1 = pd.read_csv(\"../data/aws_predictions/A549_rep5_run1_prediction.csv\")\n",
    "A549_rep6_run1 = pd.read_csv(\"../data/aws_predictions/A549_rep6_run1_prediction.csv\")"
   ]
  },
  {
   "cell_type": "code",
   "execution_count": 8,
   "metadata": {},
   "outputs": [],
   "source": [
    "A549_rep5_run1[\"label\"] = A549_rep5_run1.score.map(lambda x:1 if x>=0.35 else 0)\n",
    "A549_rep6_run1[\"label\"] = A549_rep6_run1.score.map(lambda x:1 if x>=0.35 else 0)"
   ]
  },
  {
   "cell_type": "code",
   "execution_count": 13,
   "metadata": {},
   "outputs": [],
   "source": [
    "merge1 = A549_rep5_run1.merge(A549_rep6_run1, on = ['transcript','position'],how='inner')"
   ]
  },
  {
   "cell_type": "code",
   "execution_count": 15,
   "metadata": {},
   "outputs": [],
   "source": [
    "merge1['new'] = np.where((merge1['label_x'] == merge1['label_y']), True, False)"
   ]
  },
  {
   "cell_type": "code",
   "execution_count": 16,
   "metadata": {},
   "outputs": [],
   "source": [
    "merged_d0 = merge1.merge(info_df, how = \"left\", left_on = [\"transcript\", \"position\"], right_on = [\"transcript_id\", \"transcript_position\"])\n",
    "merged_d0 = merged_d0.drop([\"transcript_id\", \"transcript_position\"], axis = 1)\n",
    "merged_d0.label= merged_d0.label.astype(int)"
   ]
  },
  {
   "cell_type": "code",
   "execution_count": 17,
   "metadata": {},
   "outputs": [],
   "source": [
    "merged_d0['x_actual'] = np.where((merged_d0['label_x'] == merged_d0['label']), True, False)\n",
    "merged_d0['y_actual'] = np.where((merged_d0['label_y'] == merged_d0['label']), True, False)"
   ]
  },
  {
   "cell_type": "code",
   "execution_count": 18,
   "metadata": {},
   "outputs": [],
   "source": [
    "merged_d0['mean_scores'] = merged_d0[['score_x', 'score_y']].mean(axis=1)\n",
    "merged_d0[\"pred_mean\"] = merged_d0.mean_scores.map(lambda x:1 if x>=0.35 else 0)"
   ]
  },
  {
   "cell_type": "code",
   "execution_count": 19,
   "metadata": {},
   "outputs": [],
   "source": [
    "merged_d0['mean_actual'] = np.where((merged_d0['pred_mean'] == merged_d0['label']), True, False)"
   ]
  },
  {
   "cell_type": "code",
   "execution_count": 20,
   "metadata": {},
   "outputs": [],
   "source": [
    "ind = ind = [\"rep_5\", \"rep_6\", \"mean\"]\n",
    "rep5_count = list(merged_d0[\"x_actual\"].value_counts())\n",
    "rep6_count = list(merged_d0[\"y_actual\"].value_counts())\n",
    "mean_count = list(merged_d0[\"mean_actual\"].value_counts())"
   ]
  },
  {
   "cell_type": "code",
   "execution_count": 21,
   "metadata": {},
   "outputs": [],
   "source": [
    "df = pd.DataFrame([rep5_count[0], rep6_count[0], mean_count[0]], columns = [\"True\"], index = ind)\n",
    "df[\"False\"] = [rep5_count[1], rep6_count[1], mean_count[1]]\n",
    "df = df.transpose()"
   ]
  },
  {
   "cell_type": "code",
   "execution_count": 23,
   "metadata": {},
   "outputs": [
    {
     "data": {
      "text/plain": [
       "Text(0.5, 1.0, 'A549 Cancer Cell Line')"
      ]
     },
     "execution_count": 23,
     "metadata": {},
     "output_type": "execute_result"
    },
    {
     "data": {
      "image/png": "[encoded data removed]",
      "text/plain": [
       "<Figure size 720x1080 with 1 Axes>"
      ]
     },
     "metadata": {
      "needs_background": "light"
     },
     "output_type": "display_data"
    }
   ],
   "source": [
    "from turtle import width\n",
    "\n",
    "colour_scheme = {\"rep_5\": \"#f75f4f\", \"rep_6\": \"#efb94b\",  \"mean\": \"#6fa8dc\"}\n",
    "df.plot(kind = \"bar\", figsize = (10, 15), color = colour_scheme)\n",
    "\n",
    "plt.ylabel(\"Label Count\")\n",
    "plt.ylim([0, 125000])\n",
    "plt.gca().xaxis.set_tick_params(rotation = 0)\n",
    "plt.title(\"A549 Cancer Cell Line\")"
   ]
  },
  {
   "cell_type": "code",
   "execution_count": 24,
   "metadata": {},
   "outputs": [
    {
     "data": {
      "text/html": [
       "<div>\n",
       "<style scoped>\n",
       "    .dataframe tbody tr th:only-of-type {\n",
       "        vertical-align: middle;\n",
       "    }\n",
       "\n",
       "    .dataframe tbody tr th {\n",
       "        vertical-align: top;\n",
       "    }\n",
       "\n",
       "    .dataframe thead th {\n",
       "        text-align: right;\n",
       "    }\n",
       "</style>\n",
       "<table border=\"1\" class=\"dataframe\">\n",
       "  <thead>\n",
       "    <tr style=\"text-align: right;\">\n",
       "      <th></th>\n",
       "      <th>transcript</th>\n",
       "      <th>position</th>\n",
       "      <th>score_x</th>\n",
       "      <th>label_x</th>\n",
       "      <th>score_y</th>\n",
       "      <th>label_y</th>\n",
       "      <th>new</th>\n",
       "      <th>gene_id</th>\n",
       "      <th>label</th>\n",
       "      <th>x_actual</th>\n",
       "      <th>y_actual</th>\n",
       "      <th>mean_scores</th>\n",
       "      <th>pred_mean</th>\n",
       "      <th>mean_actual</th>\n",
       "    </tr>\n",
       "  </thead>\n",
       "  <tbody>\n",
       "    <tr>\n",
       "      <th>0</th>\n",
       "      <td>ENST00000373020</td>\n",
       "      <td>1006</td>\n",
       "      <td>0.004545</td>\n",
       "      <td>0</td>\n",
       "      <td>0.031818</td>\n",
       "      <td>0</td>\n",
       "      <td>True</td>\n",
       "      <td>ENSG00000000003</td>\n",
       "      <td>0</td>\n",
       "      <td>True</td>\n",
       "      <td>True</td>\n",
       "      <td>0.018182</td>\n",
       "      <td>0</td>\n",
       "      <td>True</td>\n",
       "    </tr>\n",
       "    <tr>\n",
       "      <th>1</th>\n",
       "      <td>ENST00000373020</td>\n",
       "      <td>1013</td>\n",
       "      <td>0.009091</td>\n",
       "      <td>0</td>\n",
       "      <td>0.009091</td>\n",
       "      <td>0</td>\n",
       "      <td>True</td>\n",
       "      <td>ENSG00000000003</td>\n",
       "      <td>0</td>\n",
       "      <td>True</td>\n",
       "      <td>True</td>\n",
       "      <td>0.009091</td>\n",
       "      <td>0</td>\n",
       "      <td>True</td>\n",
       "    </tr>\n",
       "    <tr>\n",
       "      <th>2</th>\n",
       "      <td>ENST00000373020</td>\n",
       "      <td>1149</td>\n",
       "      <td>0.004545</td>\n",
       "      <td>0</td>\n",
       "      <td>0.000000</td>\n",
       "      <td>0</td>\n",
       "      <td>True</td>\n",
       "      <td>ENSG00000000003</td>\n",
       "      <td>0</td>\n",
       "      <td>True</td>\n",
       "      <td>True</td>\n",
       "      <td>0.002273</td>\n",
       "      <td>0</td>\n",
       "      <td>True</td>\n",
       "    </tr>\n",
       "    <tr>\n",
       "      <th>3</th>\n",
       "      <td>ENST00000373020</td>\n",
       "      <td>512</td>\n",
       "      <td>0.013636</td>\n",
       "      <td>0</td>\n",
       "      <td>0.036364</td>\n",
       "      <td>0</td>\n",
       "      <td>True</td>\n",
       "      <td>ENSG00000000003</td>\n",
       "      <td>0</td>\n",
       "      <td>True</td>\n",
       "      <td>True</td>\n",
       "      <td>0.025000</td>\n",
       "      <td>0</td>\n",
       "      <td>True</td>\n",
       "    </tr>\n",
       "    <tr>\n",
       "      <th>4</th>\n",
       "      <td>ENST00000373020</td>\n",
       "      <td>689</td>\n",
       "      <td>0.004545</td>\n",
       "      <td>0</td>\n",
       "      <td>0.027273</td>\n",
       "      <td>0</td>\n",
       "      <td>True</td>\n",
       "      <td>ENSG00000000003</td>\n",
       "      <td>0</td>\n",
       "      <td>True</td>\n",
       "      <td>True</td>\n",
       "      <td>0.015909</td>\n",
       "      <td>0</td>\n",
       "      <td>True</td>\n",
       "    </tr>\n",
       "  </tbody>\n",
       "</table>\n",
       "</div>"
      ],
      "text/plain": [
       "        transcript  position   score_x  label_x   score_y  label_y   new  \\\n",
       "0  ENST00000373020      1006  0.004545        0  0.031818        0  True   \n",
       "1  ENST00000373020      1013  0.009091        0  0.009091        0  True   \n",
       "2  ENST00000373020      1149  0.004545        0  0.000000        0  True   \n",
       "3  ENST00000373020       512  0.013636        0  0.036364        0  True   \n",
       "4  ENST00000373020       689  0.004545        0  0.027273        0  True   \n",
       "\n",
       "           gene_id  label  x_actual  y_actual  mean_scores  pred_mean  \\\n",
       "0  ENSG00000000003      0      True      True     0.018182          0   \n",
       "1  ENSG00000000003      0      True      True     0.009091          0   \n",
       "2  ENSG00000000003      0      True      True     0.002273          0   \n",
       "3  ENSG00000000003      0      True      True     0.025000          0   \n",
       "4  ENSG00000000003      0      True      True     0.015909          0   \n",
       "\n",
       "   mean_actual  \n",
       "0         True  \n",
       "1         True  \n",
       "2         True  \n",
       "3         True  \n",
       "4         True  "
      ]
     },
     "execution_count": 24,
     "metadata": {},
     "output_type": "execute_result"
    }
   ],
   "source": [
    "merged_d0.head()"
   ]
  },
  {
   "cell_type": "code",
   "execution_count": 26,
   "metadata": {},
   "outputs": [
    {
     "data": {
      "image/png": "[encoded data removed]",
      "text/plain": [
       "<Figure size 432x288 with 1 Axes>"
      ]
     },
     "metadata": {
      "needs_background": "light"
     },
     "output_type": "display_data"
    }
   ],
   "source": [
    "## define roc metrics\n",
    "y_pred = merged_d0.pred_mean\n",
    "y_test = merged_d0.label.astype(int)\n",
    "fpr, tpr, thresholds = roc_curve(y_test, y_pred)\n",
    "roc_auc = roc_auc_score(y_test, y_pred)\n",
    "\n",
    "## plot roc curve\n",
    "plt.figure()\n",
    "plt.plot(fpr, tpr, label = 'Random Forest Classifier (area = %0.2f)' % roc_auc)\n",
    "plt.plot([0, 1], [0, 1],'r--')\n",
    "plt.xlim([0.0, 1.0])\n",
    "plt.ylim([0.0, 1.05])\n",
    "plt.xlabel('False Positive Rate')\n",
    "plt.ylabel('True Positive Rate')\n",
    "plt.title('Random Forest Receiver operating characteristic')\n",
    "plt.legend(loc = \"lower right\")\n",
    "plt.show()"
   ]
  }
 ],
 "metadata": {
  "kernelspec": {
   "display_name": "Python 3.9.13 64-bit",
   "language": "python",
   "name": "python3"
  },
  "language_info": {
   "codemirror_mode": {
    "name": "ipython",
    "version": 3
   },
   "file_extension": ".py",
   "mimetype": "text/x-python",
   "name": "python",
   "nbconvert_exporter": "python",
   "pygments_lexer": "ipython3",
   "version": "3.9.13"
  },
  "orig_nbformat": 4,
  "vscode": {
   "interpreter": {
    "hash": "397704579725e15f5c7cb49fe5f0341eb7531c82d19f2c29d197e8b64ab5776b"
   }
  }
 },
 "nbformat": 4,
 "nbformat_minor": 2
}
