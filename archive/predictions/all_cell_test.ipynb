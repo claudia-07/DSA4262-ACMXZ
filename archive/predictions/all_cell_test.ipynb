{
 "cells": [
  {
   "cell_type": "code",
   "execution_count": 1,
   "metadata": {},
   "outputs": [],
   "source": [
    "import pandas as pd\n",
    "import numpy as np\n",
    "import matplotlib.pyplot as plt"
   ]
  },
  {
   "cell_type": "markdown",
   "metadata": {},
   "source": [
    "# A549"
   ]
  },
  {
   "cell_type": "code",
   "execution_count": 11,
   "metadata": {},
   "outputs": [],
   "source": [
    "A549_rep5_run1 = pd.read_csv(\"../data/aws_predictions/A549_rep5_run1_prediction.csv\")\n",
    "A549_rep6_run1 = pd.read_csv(\"../data/aws_predictions/A549_rep6_run1_prediction.csv\")"
   ]
  },
  {
   "cell_type": "code",
   "execution_count": 12,
   "metadata": {},
   "outputs": [],
   "source": [
    "merge1 = A549_rep5_run1.merge(A549_rep6_run1, on = ['transcript','position'], how = 'inner')"
   ]
  },
  {
   "cell_type": "code",
   "execution_count": 14,
   "metadata": {},
   "outputs": [],
   "source": [
    "merge1['mean_scores'] = merge1[['score_x', 'score_y']].mean(axis=1)"
   ]
  },
  {
   "cell_type": "code",
   "execution_count": 15,
   "metadata": {},
   "outputs": [],
   "source": [
    "merge1[\"pred_mean\"] = merge1.mean_scores.map(lambda x:1 if x>=0.35 else 0)"
   ]
  },
  {
   "cell_type": "code",
   "execution_count": 16,
   "metadata": {},
   "outputs": [
    {
     "data": {
      "text/html": [
       "<div>\n",
       "<style scoped>\n",
       "    .dataframe tbody tr th:only-of-type {\n",
       "        vertical-align: middle;\n",
       "    }\n",
       "\n",
       "    .dataframe tbody tr th {\n",
       "        vertical-align: top;\n",
       "    }\n",
       "\n",
       "    .dataframe thead th {\n",
       "        text-align: right;\n",
       "    }\n",
       "</style>\n",
       "<table border=\"1\" class=\"dataframe\">\n",
       "  <thead>\n",
       "    <tr style=\"text-align: right;\">\n",
       "      <th></th>\n",
       "      <th>transcript</th>\n",
       "      <th>position</th>\n",
       "      <th>score_x</th>\n",
       "      <th>score_y</th>\n",
       "      <th>mean_scores</th>\n",
       "      <th>pred_mean</th>\n",
       "    </tr>\n",
       "  </thead>\n",
       "  <tbody>\n",
       "    <tr>\n",
       "      <th>0</th>\n",
       "      <td>ENST00000373020</td>\n",
       "      <td>1006</td>\n",
       "      <td>0.004545</td>\n",
       "      <td>0.031818</td>\n",
       "      <td>0.018182</td>\n",
       "      <td>0</td>\n",
       "    </tr>\n",
       "    <tr>\n",
       "      <th>1</th>\n",
       "      <td>ENST00000373020</td>\n",
       "      <td>1013</td>\n",
       "      <td>0.009091</td>\n",
       "      <td>0.009091</td>\n",
       "      <td>0.009091</td>\n",
       "      <td>0</td>\n",
       "    </tr>\n",
       "    <tr>\n",
       "      <th>2</th>\n",
       "      <td>ENST00000373020</td>\n",
       "      <td>1149</td>\n",
       "      <td>0.004545</td>\n",
       "      <td>0.000000</td>\n",
       "      <td>0.002273</td>\n",
       "      <td>0</td>\n",
       "    </tr>\n",
       "    <tr>\n",
       "      <th>3</th>\n",
       "      <td>ENST00000373020</td>\n",
       "      <td>512</td>\n",
       "      <td>0.013636</td>\n",
       "      <td>0.036364</td>\n",
       "      <td>0.025000</td>\n",
       "      <td>0</td>\n",
       "    </tr>\n",
       "    <tr>\n",
       "      <th>4</th>\n",
       "      <td>ENST00000373020</td>\n",
       "      <td>689</td>\n",
       "      <td>0.004545</td>\n",
       "      <td>0.027273</td>\n",
       "      <td>0.015909</td>\n",
       "      <td>0</td>\n",
       "    </tr>\n",
       "  </tbody>\n",
       "</table>\n",
       "</div>"
      ],
      "text/plain": [
       "        transcript  position   score_x   score_y  mean_scores  pred_mean\n",
       "0  ENST00000373020      1006  0.004545  0.031818     0.018182          0\n",
       "1  ENST00000373020      1013  0.009091  0.009091     0.009091          0\n",
       "2  ENST00000373020      1149  0.004545  0.000000     0.002273          0\n",
       "3  ENST00000373020       512  0.013636  0.036364     0.025000          0\n",
       "4  ENST00000373020       689  0.004545  0.027273     0.015909          0"
      ]
     },
     "execution_count": 16,
     "metadata": {},
     "output_type": "execute_result"
    }
   ],
   "source": [
    "merge1.head()"
   ]
  },
  {
   "cell_type": "code",
   "execution_count": 17,
   "metadata": {},
   "outputs": [
    {
     "data": {
      "text/plain": [
       "[115580, 3782]"
      ]
     },
     "execution_count": 17,
     "metadata": {},
     "output_type": "execute_result"
    }
   ],
   "source": [
    "list(merge1[\"pred_mean\"].value_counts())"
   ]
  },
  {
   "cell_type": "code",
   "execution_count": 27,
   "metadata": {},
   "outputs": [
    {
     "data": {
      "text/html": [
       "<div>\n",
       "<style scoped>\n",
       "    .dataframe tbody tr th:only-of-type {\n",
       "        vertical-align: middle;\n",
       "    }\n",
       "\n",
       "    .dataframe tbody tr th {\n",
       "        vertical-align: top;\n",
       "    }\n",
       "\n",
       "    .dataframe thead th {\n",
       "        text-align: right;\n",
       "    }\n",
       "</style>\n",
       "<table border=\"1\" class=\"dataframe\">\n",
       "  <thead>\n",
       "    <tr style=\"text-align: right;\">\n",
       "      <th></th>\n",
       "      <th>A549</th>\n",
       "    </tr>\n",
       "  </thead>\n",
       "  <tbody>\n",
       "    <tr>\n",
       "      <th>0</th>\n",
       "      <td>115580</td>\n",
       "    </tr>\n",
       "    <tr>\n",
       "      <th>1</th>\n",
       "      <td>3782</td>\n",
       "    </tr>\n",
       "  </tbody>\n",
       "</table>\n",
       "</div>"
      ],
      "text/plain": [
       "     A549\n",
       "0  115580\n",
       "1    3782"
      ]
     },
     "execution_count": 27,
     "metadata": {},
     "output_type": "execute_result"
    }
   ],
   "source": [
    "ind = [\"0\", \"1\"]\n",
    "plot_df = pd.DataFrame(list(merge1[\"pred_mean\"].value_counts()), columns = [\"A549\"], index = ind)\n",
    "plot_df"
   ]
  },
  {
   "cell_type": "markdown",
   "metadata": {},
   "source": [
    "# HCT116"
   ]
  },
  {
   "cell_type": "code",
   "execution_count": 28,
   "metadata": {},
   "outputs": [],
   "source": [
    "Hct116_rep3_run1 = pd.read_csv(\"../data/aws_predictions/Hct116_rep3_run1_prediction.csv\")\n",
    "Hct116_rep3_run4 = pd.read_csv(\"../data/aws_predictions/Hct116_rep3_run4_prediction.csv\")\n",
    "Hct116_rep4_run3 = pd.read_csv(\"../data/aws_predictions/hct116_rep4_run3_prediction.csv\")"
   ]
  },
  {
   "cell_type": "code",
   "execution_count": 29,
   "metadata": {},
   "outputs": [],
   "source": [
    "mergeHct1 = Hct116_rep3_run1.merge(Hct116_rep3_run4, on = ['transcript','position'],how='inner')\n",
    "mergeHct2 = mergeHct1.merge(Hct116_rep4_run3, on = ['transcript','position'],how='inner')"
   ]
  },
  {
   "cell_type": "code",
   "execution_count": 30,
   "metadata": {},
   "outputs": [],
   "source": [
    "mergeHct2 = mergeHct2.rename({'score':'score_z'},axis=1)"
   ]
  },
  {
   "cell_type": "code",
   "execution_count": 31,
   "metadata": {},
   "outputs": [],
   "source": [
    "mergeHct2['mean_scores'] = mergeHct2[['score_x', 'score_y','score_z']].mean(axis=1)"
   ]
  },
  {
   "cell_type": "code",
   "execution_count": 32,
   "metadata": {},
   "outputs": [],
   "source": [
    "mergeHct2[\"pred_mean\"] = mergeHct2.mean_scores.map(lambda x:1 if x>=0.35 else 0)"
   ]
  },
  {
   "cell_type": "code",
   "execution_count": 33,
   "metadata": {},
   "outputs": [
    {
     "data": {
      "text/html": [
       "<div>\n",
       "<style scoped>\n",
       "    .dataframe tbody tr th:only-of-type {\n",
       "        vertical-align: middle;\n",
       "    }\n",
       "\n",
       "    .dataframe tbody tr th {\n",
       "        vertical-align: top;\n",
       "    }\n",
       "\n",
       "    .dataframe thead th {\n",
       "        text-align: right;\n",
       "    }\n",
       "</style>\n",
       "<table border=\"1\" class=\"dataframe\">\n",
       "  <thead>\n",
       "    <tr style=\"text-align: right;\">\n",
       "      <th></th>\n",
       "      <th>A549</th>\n",
       "      <th>HCT116</th>\n",
       "    </tr>\n",
       "  </thead>\n",
       "  <tbody>\n",
       "    <tr>\n",
       "      <th>0</th>\n",
       "      <td>115580</td>\n",
       "      <td>116832</td>\n",
       "    </tr>\n",
       "    <tr>\n",
       "      <th>1</th>\n",
       "      <td>3782</td>\n",
       "      <td>5006</td>\n",
       "    </tr>\n",
       "  </tbody>\n",
       "</table>\n",
       "</div>"
      ],
      "text/plain": [
       "     A549  HCT116\n",
       "0  115580  116832\n",
       "1    3782    5006"
      ]
     },
     "execution_count": 33,
     "metadata": {},
     "output_type": "execute_result"
    }
   ],
   "source": [
    "plot_df[\"HCT116\"] = list(mergeHct2[\"pred_mean\"].value_counts())\n",
    "plot_df"
   ]
  },
  {
   "cell_type": "markdown",
   "metadata": {},
   "source": [
    "# HEPG2"
   ]
  },
  {
   "cell_type": "code",
   "execution_count": 34,
   "metadata": {},
   "outputs": [],
   "source": [
    "hepG2_rep5_run2 = pd.read_csv(\"../data/aws_predictions/hepG2_rep5_run2_prediction.csv\")\n",
    "hepG2_rep6_run1 = pd.read_csv(\"../data/aws_predictions/hepG2_rep6_run1_prediction.csv\")"
   ]
  },
  {
   "cell_type": "code",
   "execution_count": 35,
   "metadata": {},
   "outputs": [],
   "source": [
    "mergeG2 = hepG2_rep5_run2.merge(hepG2_rep6_run1, on = ['transcript','position'],how='inner')"
   ]
  },
  {
   "cell_type": "code",
   "execution_count": 36,
   "metadata": {},
   "outputs": [],
   "source": [
    "mergeG2['mean_scores'] = mergeG2[['score_x', 'score_y']].mean(axis=1)"
   ]
  },
  {
   "cell_type": "code",
   "execution_count": 37,
   "metadata": {},
   "outputs": [],
   "source": [
    "mergeG2[\"pred_mean\"] = mergeG2.mean_scores.map(lambda x:1 if x>=0.35 else 0)"
   ]
  },
  {
   "cell_type": "code",
   "execution_count": 38,
   "metadata": {},
   "outputs": [
    {
     "data": {
      "text/html": [
       "<div>\n",
       "<style scoped>\n",
       "    .dataframe tbody tr th:only-of-type {\n",
       "        vertical-align: middle;\n",
       "    }\n",
       "\n",
       "    .dataframe tbody tr th {\n",
       "        vertical-align: top;\n",
       "    }\n",
       "\n",
       "    .dataframe thead th {\n",
       "        text-align: right;\n",
       "    }\n",
       "</style>\n",
       "<table border=\"1\" class=\"dataframe\">\n",
       "  <thead>\n",
       "    <tr style=\"text-align: right;\">\n",
       "      <th></th>\n",
       "      <th>A549</th>\n",
       "      <th>HCT116</th>\n",
       "      <th>HEPG2</th>\n",
       "    </tr>\n",
       "  </thead>\n",
       "  <tbody>\n",
       "    <tr>\n",
       "      <th>0</th>\n",
       "      <td>115580</td>\n",
       "      <td>116832</td>\n",
       "      <td>115012</td>\n",
       "    </tr>\n",
       "    <tr>\n",
       "      <th>1</th>\n",
       "      <td>3782</td>\n",
       "      <td>5006</td>\n",
       "      <td>3889</td>\n",
       "    </tr>\n",
       "  </tbody>\n",
       "</table>\n",
       "</div>"
      ],
      "text/plain": [
       "     A549  HCT116   HEPG2\n",
       "0  115580  116832  115012\n",
       "1    3782    5006    3889"
      ]
     },
     "execution_count": 38,
     "metadata": {},
     "output_type": "execute_result"
    }
   ],
   "source": [
    "plot_df[\"HEPG2\"] = list(mergeG2[\"pred_mean\"].value_counts())\n",
    "plot_df"
   ]
  },
  {
   "cell_type": "markdown",
   "metadata": {},
   "source": [
    "# K562"
   ]
  },
  {
   "cell_type": "code",
   "execution_count": 39,
   "metadata": {},
   "outputs": [],
   "source": [
    "k562_rep4_run1 = pd.read_csv(\"../data/aws_predictions/k562_rep4_run1_prediction.csv\")\n",
    "k562_rep5_run1 = pd.read_csv(\"../data/aws_predictions/k562_rep5_run1_prediction.csv\")\n",
    "k562_rep6_run1 = pd.read_csv(\"../data/aws_predictions/k562_rep6_run1_prediction.csv\")"
   ]
  },
  {
   "cell_type": "code",
   "execution_count": 40,
   "metadata": {},
   "outputs": [],
   "source": [
    "mergek562_1 = k562_rep4_run1.merge(k562_rep5_run1, on = ['transcript','position'],how='inner')\n",
    "mergek562_2 = mergek562_1.merge(k562_rep6_run1, on = ['transcript','position'],how='inner')"
   ]
  },
  {
   "cell_type": "code",
   "execution_count": 41,
   "metadata": {},
   "outputs": [],
   "source": [
    "mergek562_2 = mergek562_2.rename({'score':'score_z'},axis=1)"
   ]
  },
  {
   "cell_type": "code",
   "execution_count": 42,
   "metadata": {},
   "outputs": [],
   "source": [
    "mergek562_2['mean_scores'] = mergek562_2[['score_x', 'score_y','score_z']].mean(axis=1)"
   ]
  },
  {
   "cell_type": "code",
   "execution_count": 43,
   "metadata": {},
   "outputs": [],
   "source": [
    "mergek562_2[\"pred_mean\"] = mergek562_2.mean_scores.map(lambda x:1 if x>=0.35 else 0)"
   ]
  },
  {
   "cell_type": "code",
   "execution_count": 44,
   "metadata": {},
   "outputs": [
    {
     "data": {
      "text/html": [
       "<div>\n",
       "<style scoped>\n",
       "    .dataframe tbody tr th:only-of-type {\n",
       "        vertical-align: middle;\n",
       "    }\n",
       "\n",
       "    .dataframe tbody tr th {\n",
       "        vertical-align: top;\n",
       "    }\n",
       "\n",
       "    .dataframe thead th {\n",
       "        text-align: right;\n",
       "    }\n",
       "</style>\n",
       "<table border=\"1\" class=\"dataframe\">\n",
       "  <thead>\n",
       "    <tr style=\"text-align: right;\">\n",
       "      <th></th>\n",
       "      <th>A549</th>\n",
       "      <th>HCT116</th>\n",
       "      <th>HEPG2</th>\n",
       "      <th>K562</th>\n",
       "    </tr>\n",
       "  </thead>\n",
       "  <tbody>\n",
       "    <tr>\n",
       "      <th>0</th>\n",
       "      <td>115580</td>\n",
       "      <td>116832</td>\n",
       "      <td>115012</td>\n",
       "      <td>94893</td>\n",
       "    </tr>\n",
       "    <tr>\n",
       "      <th>1</th>\n",
       "      <td>3782</td>\n",
       "      <td>5006</td>\n",
       "      <td>3889</td>\n",
       "      <td>3050</td>\n",
       "    </tr>\n",
       "  </tbody>\n",
       "</table>\n",
       "</div>"
      ],
      "text/plain": [
       "     A549  HCT116   HEPG2   K562\n",
       "0  115580  116832  115012  94893\n",
       "1    3782    5006    3889   3050"
      ]
     },
     "execution_count": 44,
     "metadata": {},
     "output_type": "execute_result"
    }
   ],
   "source": [
    "plot_df[\"K562\"] = list(mergek562_2[\"pred_mean\"].value_counts())\n",
    "plot_df"
   ]
  },
  {
   "cell_type": "markdown",
   "metadata": {},
   "source": [
    "# MCF7"
   ]
  },
  {
   "cell_type": "code",
   "execution_count": 45,
   "metadata": {},
   "outputs": [],
   "source": [
    "mcf7_rep3_run1 = pd.read_csv(\"../data/aws_predictions/mcf7_rep3_run1_prediction.csv\")\n",
    "mcf7_rep4_run1 = pd.read_csv(\"../data/aws_predictions/mcf7_rep4_run1_prediction.csv\")"
   ]
  },
  {
   "cell_type": "code",
   "execution_count": 46,
   "metadata": {},
   "outputs": [],
   "source": [
    "mergemcf7 = mcf7_rep3_run1.merge(mcf7_rep4_run1, on = ['transcript','position'],how='inner')"
   ]
  },
  {
   "cell_type": "code",
   "execution_count": 47,
   "metadata": {},
   "outputs": [],
   "source": [
    "mergemcf7['mean_scores'] = mergemcf7[['score_x', 'score_y']].mean(axis=1)"
   ]
  },
  {
   "cell_type": "code",
   "execution_count": 48,
   "metadata": {},
   "outputs": [],
   "source": [
    "mergemcf7[\"pred_mean\"] = mergemcf7.mean_scores.map(lambda x:1 if x>=0.35 else 0)"
   ]
  },
  {
   "cell_type": "code",
   "execution_count": 49,
   "metadata": {},
   "outputs": [
    {
     "data": {
      "text/html": [
       "<div>\n",
       "<style scoped>\n",
       "    .dataframe tbody tr th:only-of-type {\n",
       "        vertical-align: middle;\n",
       "    }\n",
       "\n",
       "    .dataframe tbody tr th {\n",
       "        vertical-align: top;\n",
       "    }\n",
       "\n",
       "    .dataframe thead th {\n",
       "        text-align: right;\n",
       "    }\n",
       "</style>\n",
       "<table border=\"1\" class=\"dataframe\">\n",
       "  <thead>\n",
       "    <tr style=\"text-align: right;\">\n",
       "      <th></th>\n",
       "      <th>A549</th>\n",
       "      <th>HCT116</th>\n",
       "      <th>HEPG2</th>\n",
       "      <th>K562</th>\n",
       "      <th>MCF7</th>\n",
       "    </tr>\n",
       "  </thead>\n",
       "  <tbody>\n",
       "    <tr>\n",
       "      <th>0</th>\n",
       "      <td>115580</td>\n",
       "      <td>116832</td>\n",
       "      <td>115012</td>\n",
       "      <td>94893</td>\n",
       "      <td>115434</td>\n",
       "    </tr>\n",
       "    <tr>\n",
       "      <th>1</th>\n",
       "      <td>3782</td>\n",
       "      <td>5006</td>\n",
       "      <td>3889</td>\n",
       "      <td>3050</td>\n",
       "      <td>4047</td>\n",
       "    </tr>\n",
       "  </tbody>\n",
       "</table>\n",
       "</div>"
      ],
      "text/plain": [
       "     A549  HCT116   HEPG2   K562    MCF7\n",
       "0  115580  116832  115012  94893  115434\n",
       "1    3782    5006    3889   3050    4047"
      ]
     },
     "execution_count": 49,
     "metadata": {},
     "output_type": "execute_result"
    }
   ],
   "source": [
    "plot_df[\"MCF7\"] = list(mergemcf7[\"pred_mean\"].value_counts())\n",
    "plot_df"
   ]
  },
  {
   "cell_type": "markdown",
   "metadata": {},
   "source": [
    "# Plot"
   ]
  },
  {
   "cell_type": "code",
   "execution_count": 51,
   "metadata": {},
   "outputs": [
    {
     "data": {
      "image/png": "[encoded data removed]",
      "text/plain": [
       "<Figure size 720x720 with 1 Axes>"
      ]
     },
     "metadata": {
      "needs_background": "light"
     },
     "output_type": "display_data"
    }
   ],
   "source": [
    "from turtle import width\n",
    "\n",
    "colour_scheme = {\"A549\": \"#f75f4f\", \"HCT116\": \"#efb94b\", \"HEPG2\": \"#6fa8dc\", \"K562\": \"#93c47d\", \"MCF7\": \"#c27ba0ff\"}\n",
    "plot_df.plot(kind = \"bar\", figsize = (10, 10), color = colour_scheme)\n",
    "\n",
    "plt.ylabel(\"Label Count\")\n",
    "plt.gca().xaxis.set_tick_params(rotation = 0)"
   ]
  },
  {
   "cell_type": "code",
   "execution_count": 60,
   "metadata": {},
   "outputs": [
    {
     "data": {
      "text/plain": [
       "Text(0.5, 1.0, 'Label Counts of Mean According to Threshold')"
      ]
     },
     "execution_count": 60,
     "metadata": {},
     "output_type": "execute_result"
    },
    {
     "data": {
      "image/png": "[encoded data removed]",
      "text/plain": [
       "<Figure size 720x720 with 1 Axes>"
      ]
     },
     "metadata": {
      "needs_background": "light"
     },
     "output_type": "display_data"
    }
   ],
   "source": [
    "from turtle import width\n",
    "\n",
    "colour_scheme = {\"0\": \"#f75f4f\", \"1\": \"#93c47d\"}\n",
    "plot_df_transpose = plot_df.transpose()\n",
    "plot_df_transpose.plot(kind = \"bar\", figsize = (10, 10), color = colour_scheme)\n",
    "\n",
    "plt.ylabel(\"Label Count\")\n",
    "plt.gca().xaxis.set_tick_params(rotation = 0)\n",
    "plt.title(\"Label Counts of Mean According to Threshold\")"
   ]
  }
 ],
 "metadata": {
  "kernelspec": {
   "display_name": "Python 3.8.10 64-bit",
   "language": "python",
   "name": "python3"
  },
  "language_info": {
   "codemirror_mode": {
    "name": "ipython",
    "version": 3
   },
   "file_extension": ".py",
   "mimetype": "text/x-python",
   "name": "python",
   "nbconvert_exporter": "python",
   "pygments_lexer": "ipython3",
   "version": "3.8.10"
  },
  "orig_nbformat": 4,
  "vscode": {
   "interpreter": {
    "hash": "aee8b7b246df8f9039afb4144a1f6fd8d2ca17a180786b69acc140d282b71a49"
   }
  }
 },
 "nbformat": 4,
 "nbformat_minor": 2
}
