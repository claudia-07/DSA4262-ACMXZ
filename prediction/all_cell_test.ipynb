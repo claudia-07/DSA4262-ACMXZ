{
 "cells": [
  {
   "cell_type": "code",
   "execution_count": 1,
   "metadata": {},
   "outputs": [],
   "source": [
    "from sklearn.ensemble import RandomForestClassifier\n",
    "import pandas as pd\n",
    "import json\n",
    "import numpy as np\n",
    "import pickle\n",
    "from sklearn.pipeline import Pipeline\n",
    "from sklearn.preprocessing import StandardScaler\n",
    "from sklearn.compose import ColumnTransformer\n",
    "from category_encoders import OneHotEncoder\n",
    "from sklearn.metrics import roc_auc_score, roc_curve\n",
    "import matplotlib.pyplot as plt"
   ]
  },
  {
   "cell_type": "code",
   "execution_count": 4,
   "metadata": {},
   "outputs": [],
   "source": [
    "A549_rep5_run1 = pd.read_csv(\"../data/aws_predictions/A549_rep5_run1_prediction.csv\")\n",
    "A549_rep6_run1 = pd.read_csv(\"../data/aws_predictions/A549_rep6_run1_prediction.csv\")"
   ]
  },
  {
   "cell_type": "code",
   "execution_count": 5,
   "metadata": {},
   "outputs": [],
   "source": [
    "merge1 = A549_rep5_run1.merge(A549_rep6_run1, on = ['transcript','position'],how='inner')"
   ]
  },
  {
   "cell_type": "code",
   "execution_count": 7,
   "metadata": {},
   "outputs": [],
   "source": [
    "merge1['mean_scores'] = merge1[['score_x', 'score_y']].mean(axis=1)"
   ]
  },
  {
   "cell_type": "code",
   "execution_count": 8,
   "metadata": {},
   "outputs": [],
   "source": [
    "merge1[\"pred_mean\"] = merge1.mean_scores.map(lambda x:1 if x>=0.35 else 0)"
   ]
  },
  {
   "cell_type": "code",
   "execution_count": 9,
   "metadata": {},
   "outputs": [
    {
     "data": {
      "text/html": [
       "<div>\n",
       "<style scoped>\n",
       "    .dataframe tbody tr th:only-of-type {\n",
       "        vertical-align: middle;\n",
       "    }\n",
       "\n",
       "    .dataframe tbody tr th {\n",
       "        vertical-align: top;\n",
       "    }\n",
       "\n",
       "    .dataframe thead th {\n",
       "        text-align: right;\n",
       "    }\n",
       "</style>\n",
       "<table border=\"1\" class=\"dataframe\">\n",
       "  <thead>\n",
       "    <tr style=\"text-align: right;\">\n",
       "      <th></th>\n",
       "      <th>transcript</th>\n",
       "      <th>position</th>\n",
       "      <th>score_x</th>\n",
       "      <th>score_y</th>\n",
       "      <th>mean_scores</th>\n",
       "      <th>pred_mean</th>\n",
       "    </tr>\n",
       "  </thead>\n",
       "  <tbody>\n",
       "    <tr>\n",
       "      <th>0</th>\n",
       "      <td>ENST00000373020</td>\n",
       "      <td>1006</td>\n",
       "      <td>0.004545</td>\n",
       "      <td>0.031818</td>\n",
       "      <td>0.018182</td>\n",
       "      <td>0</td>\n",
       "    </tr>\n",
       "    <tr>\n",
       "      <th>1</th>\n",
       "      <td>ENST00000373020</td>\n",
       "      <td>1013</td>\n",
       "      <td>0.009091</td>\n",
       "      <td>0.009091</td>\n",
       "      <td>0.009091</td>\n",
       "      <td>0</td>\n",
       "    </tr>\n",
       "    <tr>\n",
       "      <th>2</th>\n",
       "      <td>ENST00000373020</td>\n",
       "      <td>1149</td>\n",
       "      <td>0.004545</td>\n",
       "      <td>0.000000</td>\n",
       "      <td>0.002273</td>\n",
       "      <td>0</td>\n",
       "    </tr>\n",
       "    <tr>\n",
       "      <th>3</th>\n",
       "      <td>ENST00000373020</td>\n",
       "      <td>512</td>\n",
       "      <td>0.013636</td>\n",
       "      <td>0.036364</td>\n",
       "      <td>0.025000</td>\n",
       "      <td>0</td>\n",
       "    </tr>\n",
       "    <tr>\n",
       "      <th>4</th>\n",
       "      <td>ENST00000373020</td>\n",
       "      <td>689</td>\n",
       "      <td>0.004545</td>\n",
       "      <td>0.027273</td>\n",
       "      <td>0.015909</td>\n",
       "      <td>0</td>\n",
       "    </tr>\n",
       "  </tbody>\n",
       "</table>\n",
       "</div>"
      ],
      "text/plain": [
       "        transcript  position   score_x   score_y  mean_scores  pred_mean\n",
       "0  ENST00000373020      1006  0.004545  0.031818     0.018182          0\n",
       "1  ENST00000373020      1013  0.009091  0.009091     0.009091          0\n",
       "2  ENST00000373020      1149  0.004545  0.000000     0.002273          0\n",
       "3  ENST00000373020       512  0.013636  0.036364     0.025000          0\n",
       "4  ENST00000373020       689  0.004545  0.027273     0.015909          0"
      ]
     },
     "execution_count": 9,
     "metadata": {},
     "output_type": "execute_result"
    }
   ],
   "source": [
    "merge1.head()"
   ]
  },
  {
   "cell_type": "code",
   "execution_count": 29,
   "metadata": {},
   "outputs": [
    {
     "data": {
      "text/plain": [
       "0    115580\n",
       "1      3782\n",
       "Name: pred_mean, dtype: int64"
      ]
     },
     "execution_count": 29,
     "metadata": {},
     "output_type": "execute_result"
    }
   ],
   "source": [
    "merge1.pred_mean.value_counts()"
   ]
  },
  {
   "cell_type": "code",
   "execution_count": 10,
   "metadata": {},
   "outputs": [],
   "source": [
    "Hct116_rep3_run1 = pd.read_csv(\"../data/aws_predictions/Hct116_rep3_run1_prediction.csv\")\n",
    "Hct116_rep3_run4 = pd.read_csv(\"../data/aws_predictions/Hct116_rep3_run4_prediction.csv\")\n",
    "Hct116_rep4_run3 = pd.read_csv(\"../data/aws_predictions/hct116_rep4_run3_prediction.csv\")"
   ]
  },
  {
   "cell_type": "code",
   "execution_count": 21,
   "metadata": {},
   "outputs": [],
   "source": [
    "mergeHct1 = Hct116_rep3_run1.merge(Hct116_rep3_run4, on = ['transcript','position'],how='inner')\n",
    "mergeHct2 = mergeHct1.merge(Hct116_rep4_run3, on = ['transcript','position'],how='inner')"
   ]
  },
  {
   "cell_type": "code",
   "execution_count": 23,
   "metadata": {},
   "outputs": [],
   "source": [
    "mergeHct2 = mergeHct2.rename({'score':'score_z'},axis=1)"
   ]
  },
  {
   "cell_type": "code",
   "execution_count": 25,
   "metadata": {},
   "outputs": [],
   "source": [
    "mergeHct2['mean_scores'] = mergeHct2[['score_x', 'score_y','score_z']].mean(axis=1)"
   ]
  },
  {
   "cell_type": "code",
   "execution_count": 26,
   "metadata": {},
   "outputs": [],
   "source": [
    "mergeHct2[\"pred_mean\"] = mergeHct2.mean_scores.map(lambda x:1 if x>=0.35 else 0)"
   ]
  },
  {
   "cell_type": "code",
   "execution_count": 28,
   "metadata": {},
   "outputs": [
    {
     "data": {
      "text/plain": [
       "0    116826\n",
       "1      5012\n",
       "Name: pred_mean, dtype: int64"
      ]
     },
     "execution_count": 28,
     "metadata": {},
     "output_type": "execute_result"
    }
   ],
   "source": [
    "mergeHct2.pred_mean.value_counts()"
   ]
  },
  {
   "cell_type": "code",
   "execution_count": 41,
   "metadata": {},
   "outputs": [],
   "source": [
    "hepG2_rep5_run2 = pd.read_csv(\"../data/aws_predictions/hepG2_rep5_run2_prediction.csv\")\n",
    "hepG2_rep6_run1 = pd.read_csv(\"../data/aws_predictions/hepG2_rep6_run1_prediction.csv\")"
   ]
  },
  {
   "cell_type": "code",
   "execution_count": 42,
   "metadata": {},
   "outputs": [],
   "source": [
    "mergeG2 = hepG2_rep5_run2.merge(hepG2_rep6_run1, on = ['transcript','position'],how='inner')"
   ]
  },
  {
   "cell_type": "code",
   "execution_count": 44,
   "metadata": {},
   "outputs": [],
   "source": [
    "mergeG2['mean_scores'] = mergeG2[['score_x', 'score_y']].mean(axis=1)"
   ]
  },
  {
   "cell_type": "code",
   "execution_count": 45,
   "metadata": {},
   "outputs": [],
   "source": [
    "mergeG2[\"pred_mean\"] = mergeG2.mean_scores.map(lambda x:1 if x>=0.35 else 0)"
   ]
  },
  {
   "cell_type": "code",
   "execution_count": 46,
   "metadata": {},
   "outputs": [
    {
     "data": {
      "text/plain": [
       "0    115011\n",
       "1      3890\n",
       "Name: pred_mean, dtype: int64"
      ]
     },
     "execution_count": 46,
     "metadata": {},
     "output_type": "execute_result"
    }
   ],
   "source": [
    "mergeG2[\"pred_mean\"].value_counts()"
   ]
  },
  {
   "cell_type": "code",
   "execution_count": 39,
   "metadata": {},
   "outputs": [],
   "source": [
    "k562_rep4_run1 = pd.read_csv(\"../data/aws_predictions/k562_rep4_run1_prediction.csv\")\n",
    "k562_rep5_run1 = pd.read_csv(\"../data/aws_predictions/k562_rep5_run1_prediction.csv\")\n",
    "k562_rep6_run1 = pd.read_csv(\"../data/aws_predictions/k562_rep6_run1_prediction.csv\")"
   ]
  },
  {
   "cell_type": "code",
   "execution_count": 47,
   "metadata": {},
   "outputs": [],
   "source": [
    "mergek562_1 = k562_rep4_run1.merge(k562_rep5_run1, on = ['transcript','position'],how='inner')\n",
    "mergek562_2 = mergek562_1.merge(k562_rep6_run1, on = ['transcript','position'],how='inner')"
   ]
  },
  {
   "cell_type": "code",
   "execution_count": 49,
   "metadata": {},
   "outputs": [],
   "source": [
    "mergek562_2 = mergek562_2.rename({'score':'score_z'},axis=1)"
   ]
  },
  {
   "cell_type": "code",
   "execution_count": 50,
   "metadata": {},
   "outputs": [],
   "source": [
    "mergek562_2['mean_scores'] = mergek562_2[['score_x', 'score_y','score_z']].mean(axis=1)"
   ]
  },
  {
   "cell_type": "code",
   "execution_count": 51,
   "metadata": {},
   "outputs": [],
   "source": [
    "mergek562_2[\"pred_mean\"] = mergek562_2.mean_scores.map(lambda x:1 if x>=0.35 else 0)"
   ]
  },
  {
   "cell_type": "code",
   "execution_count": 52,
   "metadata": {},
   "outputs": [
    {
     "data": {
      "text/plain": [
       "0    94893\n",
       "1     3050\n",
       "Name: pred_mean, dtype: int64"
      ]
     },
     "execution_count": 52,
     "metadata": {},
     "output_type": "execute_result"
    }
   ],
   "source": [
    "mergek562_2.pred_mean.value_counts()"
   ]
  },
  {
   "cell_type": "code",
   "execution_count": 53,
   "metadata": {},
   "outputs": [],
   "source": [
    "mcf7_rep3_run1 = pd.read_csv(\"../data/aws_predictions/mcf7_rep3_run1_prediction.csv\")\n",
    "mcf7_rep4_run1 = pd.read_csv(\"../data/aws_predictions/mcf7_rep4_run1_prediction.csv\")"
   ]
  },
  {
   "cell_type": "code",
   "execution_count": 54,
   "metadata": {},
   "outputs": [],
   "source": [
    "mergemcf7 = mcf7_rep3_run1.merge(mcf7_rep4_run1, on = ['transcript','position'],how='inner')"
   ]
  },
  {
   "cell_type": "code",
   "execution_count": 55,
   "metadata": {},
   "outputs": [],
   "source": [
    "mergemcf7['mean_scores'] = mergemcf7[['score_x', 'score_y']].mean(axis=1)"
   ]
  },
  {
   "cell_type": "code",
   "execution_count": 56,
   "metadata": {},
   "outputs": [],
   "source": [
    "mergemcf7[\"pred_mean\"] = mergemcf7.mean_scores.map(lambda x:1 if x>=0.35 else 0)"
   ]
  },
  {
   "cell_type": "code",
   "execution_count": 57,
   "metadata": {},
   "outputs": [
    {
     "data": {
      "text/plain": [
       "0    115434\n",
       "1      4047\n",
       "Name: pred_mean, dtype: int64"
      ]
     },
     "execution_count": 57,
     "metadata": {},
     "output_type": "execute_result"
    }
   ],
   "source": [
    "mergemcf7.pred_mean.value_counts()"
   ]
  }
 ],
 "metadata": {
  "kernelspec": {
   "display_name": "Python 3.8.5",
   "language": "python",
   "name": "python3"
  },
  "language_info": {
   "codemirror_mode": {
    "name": "ipython",
    "version": 3
   },
   "file_extension": ".py",
   "mimetype": "text/x-python",
   "name": "python",
   "nbconvert_exporter": "python",
   "pygments_lexer": "ipython3",
   "version": "3.8.5"
  },
  "orig_nbformat": 4,
  "vscode": {
   "interpreter": {
    "hash": "035e2ad795729c2a3a2cbf8037c9e9fdacdf6652043c15a864379fdc8b06707f"
   }
  }
 },
 "nbformat": 4,
 "nbformat_minor": 2
}
