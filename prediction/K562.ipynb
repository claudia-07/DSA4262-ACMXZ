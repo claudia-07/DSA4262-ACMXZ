{
 "cells": [
  {
   "cell_type": "code",
   "execution_count": 1,
   "source": [
    "import pandas as pd\r\n",
    "import numpy as np\r\n",
    "from sklearn.metrics import roc_auc_score, roc_curve\r\n",
    "import matplotlib.pyplot as plt"
   ],
   "outputs": [],
   "metadata": {}
  },
  {
   "cell_type": "code",
   "execution_count": 2,
   "source": [
    "info_data_path = \"../data/raw_data/data.info\"\r\n",
    "with open(info_data_path, 'r') as f:\r\n",
    "    info = f.read().splitlines()\r\n",
    "\r\n",
    "info_list = [info[i].split(\",\") for i in range(len(info))]\r\n",
    "info_df = pd.DataFrame(info_list[1:]) \r\n",
    "info_df.columns = info_list[0]"
   ],
   "outputs": [],
   "metadata": {}
  },
  {
   "cell_type": "code",
   "execution_count": 3,
   "source": [
    "info_df[\"transcript_position\"] = info_df[\"transcript_position\"].astype(str).astype(int)"
   ],
   "outputs": [],
   "metadata": {}
  },
  {
   "cell_type": "code",
   "execution_count": 4,
   "source": [
    "k562_rep4_run1 = pd.read_csv(\"../data/aws_predictions/k562_rep4_run1_prediction.csv\")\r\n",
    "k562_rep5_run1 = pd.read_csv(\"../data/aws_predictions/k562_rep5_run1_prediction.csv\")\r\n",
    "k562_rep6_run1 = pd.read_csv(\"../data/aws_predictions/k562_rep6_run1_prediction.csv\")"
   ],
   "outputs": [],
   "metadata": {}
  },
  {
   "cell_type": "code",
   "execution_count": 5,
   "source": [
    "k562_rep4_run1[\"label\"] = k562_rep4_run1.score.map(lambda x:1 if x>=0.35 else 0)\r\n",
    "k562_rep5_run1[\"label\"] = k562_rep5_run1.score.map(lambda x:1 if x>=0.35 else 0)\r\n",
    "k562_rep6_run1[\"label\"] = k562_rep6_run1.score.map(lambda x:1 if x>=0.35 else 0)"
   ],
   "outputs": [],
   "metadata": {}
  },
  {
   "cell_type": "code",
   "execution_count": 6,
   "source": [
    "merge1 = k562_rep4_run1.merge(k562_rep5_run1, on = ['transcript','position'],how='inner')\r\n",
    "merge2 = merge1.merge(k562_rep6_run1, on = ['transcript','position'],how='inner')"
   ],
   "outputs": [],
   "metadata": {}
  },
  {
   "cell_type": "code",
   "execution_count": 7,
   "source": [
    "merge2.head()"
   ],
   "outputs": [
    {
     "output_type": "execute_result",
     "data": {
      "text/html": [
       "<div>\n",
       "<style scoped>\n",
       "    .dataframe tbody tr th:only-of-type {\n",
       "        vertical-align: middle;\n",
       "    }\n",
       "\n",
       "    .dataframe tbody tr th {\n",
       "        vertical-align: top;\n",
       "    }\n",
       "\n",
       "    .dataframe thead th {\n",
       "        text-align: right;\n",
       "    }\n",
       "</style>\n",
       "<table border=\"1\" class=\"dataframe\">\n",
       "  <thead>\n",
       "    <tr style=\"text-align: right;\">\n",
       "      <th></th>\n",
       "      <th>transcript</th>\n",
       "      <th>position</th>\n",
       "      <th>score_x</th>\n",
       "      <th>label_x</th>\n",
       "      <th>score_y</th>\n",
       "      <th>label_y</th>\n",
       "      <th>score</th>\n",
       "      <th>label</th>\n",
       "    </tr>\n",
       "  </thead>\n",
       "  <tbody>\n",
       "    <tr>\n",
       "      <th>0</th>\n",
       "      <td>ENST00000371582</td>\n",
       "      <td>1030</td>\n",
       "      <td>0.000000</td>\n",
       "      <td>0</td>\n",
       "      <td>0.004545</td>\n",
       "      <td>0</td>\n",
       "      <td>0.027273</td>\n",
       "      <td>0</td>\n",
       "    </tr>\n",
       "    <tr>\n",
       "      <th>1</th>\n",
       "      <td>ENST00000371582</td>\n",
       "      <td>105</td>\n",
       "      <td>0.045739</td>\n",
       "      <td>0</td>\n",
       "      <td>0.013636</td>\n",
       "      <td>0</td>\n",
       "      <td>0.009110</td>\n",
       "      <td>0</td>\n",
       "    </tr>\n",
       "    <tr>\n",
       "      <th>2</th>\n",
       "      <td>ENST00000371582</td>\n",
       "      <td>1123</td>\n",
       "      <td>0.045455</td>\n",
       "      <td>0</td>\n",
       "      <td>0.018182</td>\n",
       "      <td>0</td>\n",
       "      <td>0.004545</td>\n",
       "      <td>0</td>\n",
       "    </tr>\n",
       "    <tr>\n",
       "      <th>3</th>\n",
       "      <td>ENST00000371582</td>\n",
       "      <td>147</td>\n",
       "      <td>0.027729</td>\n",
       "      <td>0</td>\n",
       "      <td>0.072751</td>\n",
       "      <td>0</td>\n",
       "      <td>0.086364</td>\n",
       "      <td>0</td>\n",
       "    </tr>\n",
       "    <tr>\n",
       "      <th>4</th>\n",
       "      <td>ENST00000371582</td>\n",
       "      <td>242</td>\n",
       "      <td>0.054545</td>\n",
       "      <td>0</td>\n",
       "      <td>0.045583</td>\n",
       "      <td>0</td>\n",
       "      <td>0.013636</td>\n",
       "      <td>0</td>\n",
       "    </tr>\n",
       "  </tbody>\n",
       "</table>\n",
       "</div>"
      ],
      "text/plain": [
       "        transcript  position   score_x  label_x   score_y  label_y     score  \\\n",
       "0  ENST00000371582      1030  0.000000        0  0.004545        0  0.027273   \n",
       "1  ENST00000371582       105  0.045739        0  0.013636        0  0.009110   \n",
       "2  ENST00000371582      1123  0.045455        0  0.018182        0  0.004545   \n",
       "3  ENST00000371582       147  0.027729        0  0.072751        0  0.086364   \n",
       "4  ENST00000371582       242  0.054545        0  0.045583        0  0.013636   \n",
       "\n",
       "   label  \n",
       "0      0  \n",
       "1      0  \n",
       "2      0  \n",
       "3      0  \n",
       "4      0  "
      ]
     },
     "metadata": {},
     "execution_count": 7
    }
   ],
   "metadata": {}
  },
  {
   "cell_type": "code",
   "execution_count": 8,
   "source": [
    "merge2['new_xy'] = np.where((merge2['label_x'] == merge2['label_y']), True, False)"
   ],
   "outputs": [],
   "metadata": {}
  },
  {
   "cell_type": "code",
   "execution_count": 9,
   "source": [
    "merge2['new_xz'] = np.where((merge2['label_x'] == merge2['label']), True, False)"
   ],
   "outputs": [],
   "metadata": {}
  },
  {
   "cell_type": "code",
   "execution_count": 10,
   "source": [
    "merge2['new_yz'] = np.where((merge2['label_y'] == merge2['label']), True, False)"
   ],
   "outputs": [],
   "metadata": {}
  },
  {
   "cell_type": "code",
   "execution_count": 11,
   "source": [
    "merge2 = merge2.rename({'label':'label_z'},axis=1)\r\n",
    "merge2 = merge2.rename({'score':'score_z'},axis=1)"
   ],
   "outputs": [],
   "metadata": {}
  },
  {
   "cell_type": "code",
   "execution_count": 12,
   "source": [
    "merged_d0 = merge2.merge(info_df, how = \"left\", left_on = [\"transcript\", \"position\"], right_on = [\"transcript_id\", \"transcript_position\"])\r\n",
    "merged_d0 = merged_d0.drop([\"transcript_id\", \"transcript_position\"], axis = 1)\r\n",
    "merged_d0.label= merged_d0.label.astype(int)"
   ],
   "outputs": [],
   "metadata": {}
  },
  {
   "cell_type": "code",
   "execution_count": 13,
   "source": [
    "merged_d0['x_actual'] = np.where((merged_d0['label_x'] == merged_d0['label']), True, False)\r\n",
    "merged_d0['y_actual'] = np.where((merged_d0['label_y'] == merged_d0['label']), True, False)\r\n",
    "merged_d0['z_actual'] = np.where((merged_d0['label_z'] == merged_d0['label']), True, False)"
   ],
   "outputs": [],
   "metadata": {}
  },
  {
   "cell_type": "code",
   "execution_count": 14,
   "source": [
    "merged_d0['mean_scores'] = merged_d0[['score_x', 'score_y','score_z']].mean(axis=1)\r\n",
    "merged_d0[\"pred_mean\"] = merged_d0.mean_scores.map(lambda x:1 if x>=0.35 else 0)"
   ],
   "outputs": [],
   "metadata": {}
  },
  {
   "cell_type": "code",
   "execution_count": 15,
   "source": [
    "merged_d0['mean_actual'] = np.where((merged_d0['pred_mean'] == merged_d0['label']), True, False)"
   ],
   "outputs": [],
   "metadata": {}
  },
  {
   "cell_type": "code",
   "execution_count": 16,
   "source": [
    "ind = ind = [\"rep3_run1\", \"rep3_run4\", \"rep4_run3\",\"mean\"]\r\n",
    "rep3_run1_count = list(merged_d0[\"x_actual\"].value_counts())\r\n",
    "rep3_run4_count = list(merged_d0[\"y_actual\"].value_counts())\r\n",
    "rep4_run3_count = list(merged_d0[\"z_actual\"].value_counts())\r\n",
    "mean_count = list(merged_d0[\"mean_actual\"].value_counts())"
   ],
   "outputs": [],
   "metadata": {}
  },
  {
   "cell_type": "code",
   "execution_count": 17,
   "source": [
    "df = pd.DataFrame([rep3_run1_count[0], rep3_run4_count[0], rep4_run3_count[0],mean_count[0]], columns = [\"True\"], index = ind)\r\n",
    "df[\"False\"] = [rep3_run1_count[1], rep3_run4_count[1], rep4_run3_count[1], mean_count[1]]\r\n",
    "df = df.transpose()"
   ],
   "outputs": [],
   "metadata": {}
  },
  {
   "cell_type": "code",
   "execution_count": 19,
   "source": [
    "from turtle import width\r\n",
    "\r\n",
    "colour_scheme = {\"rep3_run1\": \"#f75f4f\", \"rep3_run4\": \"#efb94b\", \"rep4_run3\": \"#93c47d\", \"mean\": \"#6fa8dc\"}\r\n",
    "df.plot(kind = \"bar\", figsize = (10, 15), color = colour_scheme)\r\n",
    "\r\n",
    "plt.ylabel(\"Label Count\")\r\n",
    "plt.ylim([0, 125000])\r\n",
    "plt.gca().xaxis.set_tick_params(rotation = 0)\r\n",
    "plt.title(\"K562 Cancer Cell Line\")"
   ],
   "outputs": [
    {
     "output_type": "execute_result",
     "data": {
      "text/plain": [
       "Text(0.5, 1.0, 'K562 Cancer Cell Line')"
      ]
     },
     "metadata": {},
     "execution_count": 19
    },
    {
     "output_type": "display_data",
     "data": {
      "image/png": "[encoded data removed]",
      "text/plain": [
       "<Figure size 720x1080 with 1 Axes>"
      ]
     },
     "metadata": {
      "needs_background": "light"
     }
    }
   ],
   "metadata": {}
  }
 ],
 "metadata": {
  "orig_nbformat": 4,
  "language_info": {
   "name": "python",
   "version": "3.7.4",
   "mimetype": "text/x-python",
   "codemirror_mode": {
    "name": "ipython",
    "version": 3
   },
   "pygments_lexer": "ipython3",
   "nbconvert_exporter": "python",
   "file_extension": ".py"
  },
  "kernelspec": {
   "name": "python3",
   "display_name": "Python 3.7.4 64-bit"
  },
  "interpreter": {
   "hash": "4c7040833e475a5a37f3a22990e55b5f1a4552efeeda427347d179c3a40a8d42"
  }
 },
 "nbformat": 4,
 "nbformat_minor": 2
}