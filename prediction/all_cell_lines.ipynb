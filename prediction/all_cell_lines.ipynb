{
 "cells": [
  {
   "cell_type": "code",
   "execution_count": 1,
   "metadata": {},
   "outputs": [],
   "source": [
    "import pandas as pd\n",
    "import os\n",
    "import matplotlib.pyplot as plt"
   ]
  },
  {
   "cell_type": "code",
   "execution_count": 9,
   "metadata": {},
   "outputs": [],
   "source": [
    "os.chdir(\"data/aws_predictions/\")"
   ]
  },
  {
   "cell_type": "markdown",
   "metadata": {},
   "source": [
    "# A549"
   ]
  },
  {
   "cell_type": "code",
   "execution_count": 33,
   "metadata": {},
   "outputs": [],
   "source": [
    "A549_rep5_run1 = pd.read_csv(\"A549_rep5_run1_prediction.csv\")\n",
    "A549_rep6_run1 = pd.read_csv(\"A549_rep6_run1_prediction.csv\")"
   ]
  },
  {
   "cell_type": "code",
   "execution_count": 69,
   "metadata": {},
   "outputs": [
    {
     "data": {
      "text/html": [
       "<div>\n",
       "<style scoped>\n",
       "    .dataframe tbody tr th:only-of-type {\n",
       "        vertical-align: middle;\n",
       "    }\n",
       "\n",
       "    .dataframe tbody tr th {\n",
       "        vertical-align: top;\n",
       "    }\n",
       "\n",
       "    .dataframe thead th {\n",
       "        text-align: right;\n",
       "    }\n",
       "</style>\n",
       "<table border=\"1\" class=\"dataframe\">\n",
       "  <thead>\n",
       "    <tr style=\"text-align: right;\">\n",
       "      <th></th>\n",
       "      <th>transcript</th>\n",
       "      <th>position</th>\n",
       "      <th>mean_scores_A549</th>\n",
       "      <th>pred_mean_A549</th>\n",
       "    </tr>\n",
       "  </thead>\n",
       "  <tbody>\n",
       "    <tr>\n",
       "      <th>30</th>\n",
       "      <td>ENST00000371582</td>\n",
       "      <td>875</td>\n",
       "      <td>0.570455</td>\n",
       "      <td>1</td>\n",
       "    </tr>\n",
       "    <tr>\n",
       "      <th>58</th>\n",
       "      <td>ENST00000002165</td>\n",
       "      <td>589</td>\n",
       "      <td>0.740822</td>\n",
       "      <td>1</td>\n",
       "    </tr>\n",
       "    <tr>\n",
       "      <th>139</th>\n",
       "      <td>ENST00000226299</td>\n",
       "      <td>1874</td>\n",
       "      <td>0.381830</td>\n",
       "      <td>1</td>\n",
       "    </tr>\n",
       "    <tr>\n",
       "      <th>190</th>\n",
       "      <td>ENST00000002596</td>\n",
       "      <td>1734</td>\n",
       "      <td>0.527273</td>\n",
       "      <td>1</td>\n",
       "    </tr>\n",
       "    <tr>\n",
       "      <th>191</th>\n",
       "      <td>ENST00000002596</td>\n",
       "      <td>1779</td>\n",
       "      <td>0.350012</td>\n",
       "      <td>1</td>\n",
       "    </tr>\n",
       "  </tbody>\n",
       "</table>\n",
       "</div>"
      ],
      "text/plain": [
       "          transcript  position  mean_scores_A549  pred_mean_A549\n",
       "30   ENST00000371582       875          0.570455               1\n",
       "58   ENST00000002165       589          0.740822               1\n",
       "139  ENST00000226299      1874          0.381830               1\n",
       "190  ENST00000002596      1734          0.527273               1\n",
       "191  ENST00000002596      1779          0.350012               1"
      ]
     },
     "execution_count": 69,
     "metadata": {},
     "output_type": "execute_result"
    }
   ],
   "source": [
    "merge1 = A549_rep5_run1.merge(A549_rep6_run1, on = ['transcript','position'], how = 'inner')\n",
    "merge1['mean_scores_A549'] = merge1[['score_x', 'score_y']].mean(axis=1)\n",
    "merge1[\"pred_mean_A549\"] = merge1.mean_scores_A549.map(lambda x:1 if x>=0.35 else 0)\n",
    "merge1 = merge1.drop(columns = ['score_x','score_y'],axis=1)\n",
    "merge1 = merge1[merge1[\"pred_mean_A549\"] == 1]\n",
    "merge1.head()"
   ]
  },
  {
   "cell_type": "markdown",
   "metadata": {},
   "source": [
    "# HCT116"
   ]
  },
  {
   "cell_type": "code",
   "execution_count": 35,
   "metadata": {},
   "outputs": [],
   "source": [
    "Hct116_rep3_run1 = pd.read_csv(\"Hct116_rep3_run1_prediction.csv\")\n",
    "Hct116_rep3_run4 = pd.read_csv(\"Hct116_rep3_run4_prediction.csv\")\n",
    "Hct116_rep4_run3 = pd.read_csv(\"hct116_rep4_run3_prediction.csv\")"
   ]
  },
  {
   "cell_type": "code",
   "execution_count": 73,
   "metadata": {},
   "outputs": [
    {
     "data": {
      "text/html": [
       "<div>\n",
       "<style scoped>\n",
       "    .dataframe tbody tr th:only-of-type {\n",
       "        vertical-align: middle;\n",
       "    }\n",
       "\n",
       "    .dataframe tbody tr th {\n",
       "        vertical-align: top;\n",
       "    }\n",
       "\n",
       "    .dataframe thead th {\n",
       "        text-align: right;\n",
       "    }\n",
       "</style>\n",
       "<table border=\"1\" class=\"dataframe\">\n",
       "  <thead>\n",
       "    <tr style=\"text-align: right;\">\n",
       "      <th></th>\n",
       "      <th>transcript</th>\n",
       "      <th>position</th>\n",
       "      <th>mean_scores_Hct</th>\n",
       "      <th>pred_mean_Hct</th>\n",
       "    </tr>\n",
       "  </thead>\n",
       "  <tbody>\n",
       "    <tr>\n",
       "      <th>30</th>\n",
       "      <td>ENST00000371582</td>\n",
       "      <td>875</td>\n",
       "      <td>0.448485</td>\n",
       "      <td>1</td>\n",
       "    </tr>\n",
       "    <tr>\n",
       "      <th>41</th>\n",
       "      <td>ENST00000002165</td>\n",
       "      <td>1445</td>\n",
       "      <td>0.387879</td>\n",
       "      <td>1</td>\n",
       "    </tr>\n",
       "    <tr>\n",
       "      <th>58</th>\n",
       "      <td>ENST00000002165</td>\n",
       "      <td>589</td>\n",
       "      <td>0.535606</td>\n",
       "      <td>1</td>\n",
       "    </tr>\n",
       "    <tr>\n",
       "      <th>140</th>\n",
       "      <td>ENST00000226299</td>\n",
       "      <td>1882</td>\n",
       "      <td>0.359091</td>\n",
       "      <td>1</td>\n",
       "    </tr>\n",
       "    <tr>\n",
       "      <th>184</th>\n",
       "      <td>ENST00000002596</td>\n",
       "      <td>1280</td>\n",
       "      <td>0.363642</td>\n",
       "      <td>1</td>\n",
       "    </tr>\n",
       "  </tbody>\n",
       "</table>\n",
       "</div>"
      ],
      "text/plain": [
       "          transcript  position  mean_scores_Hct  pred_mean_Hct\n",
       "30   ENST00000371582       875         0.448485              1\n",
       "41   ENST00000002165      1445         0.387879              1\n",
       "58   ENST00000002165       589         0.535606              1\n",
       "140  ENST00000226299      1882         0.359091              1\n",
       "184  ENST00000002596      1280         0.363642              1"
      ]
     },
     "execution_count": 73,
     "metadata": {},
     "output_type": "execute_result"
    }
   ],
   "source": [
    "mergeHct1 = Hct116_rep3_run1.merge(Hct116_rep3_run4, on = ['transcript','position'],how='inner')\n",
    "mergeHct2 = mergeHct1.merge(Hct116_rep4_run3, on = ['transcript','position'],how='inner')\n",
    "mergeHct2 = mergeHct2.rename({'score':'score_z'},axis=1)\n",
    "mergeHct2['mean_scores_Hct'] = mergeHct2[['score_x', 'score_y','score_z']].mean(axis=1)\n",
    "mergeHct2[\"pred_mean_Hct\"] = mergeHct2.mean_scores_Hct.map(lambda x:1 if x>=0.35 else 0)\n",
    "mergeHct2 = mergeHct2.drop(columns = ['score_x','score_y','score_z'],axis=1)\n",
    "mergeHct2 = mergeHct2[mergeHct2[\"pred_mean_Hct\"] == 1]\n",
    "mergeHct2.head()"
   ]
  },
  {
   "cell_type": "markdown",
   "metadata": {},
   "source": [
    "# HEPG2"
   ]
  },
  {
   "cell_type": "code",
   "execution_count": 37,
   "metadata": {},
   "outputs": [],
   "source": [
    "hepG2_rep5_run2 = pd.read_csv(\"hepG2_rep5_run2_prediction.csv\")\n",
    "hepG2_rep6_run1 = pd.read_csv(\"hepG2_rep6_run1_prediction.csv\")"
   ]
  },
  {
   "cell_type": "code",
   "execution_count": 74,
   "metadata": {},
   "outputs": [
    {
     "data": {
      "text/html": [
       "<div>\n",
       "<style scoped>\n",
       "    .dataframe tbody tr th:only-of-type {\n",
       "        vertical-align: middle;\n",
       "    }\n",
       "\n",
       "    .dataframe tbody tr th {\n",
       "        vertical-align: top;\n",
       "    }\n",
       "\n",
       "    .dataframe thead th {\n",
       "        text-align: right;\n",
       "    }\n",
       "</style>\n",
       "<table border=\"1\" class=\"dataframe\">\n",
       "  <thead>\n",
       "    <tr style=\"text-align: right;\">\n",
       "      <th></th>\n",
       "      <th>transcript</th>\n",
       "      <th>position</th>\n",
       "      <th>mean_scores_Hep</th>\n",
       "      <th>pred_mean_Hep</th>\n",
       "    </tr>\n",
       "  </thead>\n",
       "  <tbody>\n",
       "    <tr>\n",
       "      <th>9</th>\n",
       "      <td>ENST00000373020</td>\n",
       "      <td>936</td>\n",
       "      <td>0.381818</td>\n",
       "      <td>1</td>\n",
       "    </tr>\n",
       "    <tr>\n",
       "      <th>30</th>\n",
       "      <td>ENST00000371582</td>\n",
       "      <td>875</td>\n",
       "      <td>0.515909</td>\n",
       "      <td>1</td>\n",
       "    </tr>\n",
       "    <tr>\n",
       "      <th>41</th>\n",
       "      <td>ENST00000002165</td>\n",
       "      <td>1445</td>\n",
       "      <td>0.368182</td>\n",
       "      <td>1</td>\n",
       "    </tr>\n",
       "    <tr>\n",
       "      <th>58</th>\n",
       "      <td>ENST00000002165</td>\n",
       "      <td>589</td>\n",
       "      <td>0.543182</td>\n",
       "      <td>1</td>\n",
       "    </tr>\n",
       "    <tr>\n",
       "      <th>139</th>\n",
       "      <td>ENST00000226299</td>\n",
       "      <td>1874</td>\n",
       "      <td>0.365909</td>\n",
       "      <td>1</td>\n",
       "    </tr>\n",
       "  </tbody>\n",
       "</table>\n",
       "</div>"
      ],
      "text/plain": [
       "          transcript  position  mean_scores_Hep  pred_mean_Hep\n",
       "9    ENST00000373020       936         0.381818              1\n",
       "30   ENST00000371582       875         0.515909              1\n",
       "41   ENST00000002165      1445         0.368182              1\n",
       "58   ENST00000002165       589         0.543182              1\n",
       "139  ENST00000226299      1874         0.365909              1"
      ]
     },
     "execution_count": 74,
     "metadata": {},
     "output_type": "execute_result"
    }
   ],
   "source": [
    "mergeG2 = hepG2_rep5_run2.merge(hepG2_rep6_run1, on = ['transcript','position'],how='inner')\n",
    "mergeG2['mean_scores_Hep'] = mergeG2[['score_x', 'score_y']].mean(axis=1)\n",
    "mergeG2[\"pred_mean_Hep\"] = mergeG2.mean_scores_Hep.map(lambda x:1 if x>=0.35 else 0)\n",
    "mergeG2 = mergeG2.drop(columns = ['score_x','score_y'],axis=1)\n",
    "mergeG2 = mergeG2[mergeG2[\"pred_mean_Hep\"] == 1]\n",
    "mergeG2.head()"
   ]
  },
  {
   "cell_type": "markdown",
   "metadata": {},
   "source": [
    "# K562"
   ]
  },
  {
   "cell_type": "code",
   "execution_count": 40,
   "metadata": {},
   "outputs": [],
   "source": [
    "k562_rep4_run1 = pd.read_csv(\"k562_rep4_run1_prediction.csv\")\n",
    "k562_rep5_run1 = pd.read_csv(\"k562_rep5_run1_prediction.csv\")\n",
    "k562_rep6_run1 = pd.read_csv(\"k562_rep6_run1_prediction.csv\")"
   ]
  },
  {
   "cell_type": "code",
   "execution_count": 75,
   "metadata": {},
   "outputs": [
    {
     "data": {
      "text/html": [
       "<div>\n",
       "<style scoped>\n",
       "    .dataframe tbody tr th:only-of-type {\n",
       "        vertical-align: middle;\n",
       "    }\n",
       "\n",
       "    .dataframe tbody tr th {\n",
       "        vertical-align: top;\n",
       "    }\n",
       "\n",
       "    .dataframe thead th {\n",
       "        text-align: right;\n",
       "    }\n",
       "</style>\n",
       "<table border=\"1\" class=\"dataframe\">\n",
       "  <thead>\n",
       "    <tr style=\"text-align: right;\">\n",
       "      <th></th>\n",
       "      <th>transcript</th>\n",
       "      <th>position</th>\n",
       "      <th>mean_scores_K562</th>\n",
       "      <th>pred_mean_K562</th>\n",
       "    </tr>\n",
       "  </thead>\n",
       "  <tbody>\n",
       "    <tr>\n",
       "      <th>17</th>\n",
       "      <td>ENST00000371582</td>\n",
       "      <td>875</td>\n",
       "      <td>0.353030</td>\n",
       "      <td>1</td>\n",
       "    </tr>\n",
       "    <tr>\n",
       "      <th>28</th>\n",
       "      <td>ENST00000002165</td>\n",
       "      <td>1445</td>\n",
       "      <td>0.398485</td>\n",
       "      <td>1</td>\n",
       "    </tr>\n",
       "    <tr>\n",
       "      <th>45</th>\n",
       "      <td>ENST00000002165</td>\n",
       "      <td>589</td>\n",
       "      <td>0.637762</td>\n",
       "      <td>1</td>\n",
       "    </tr>\n",
       "    <tr>\n",
       "      <th>227</th>\n",
       "      <td>ENST00000000412</td>\n",
       "      <td>2440</td>\n",
       "      <td>0.565152</td>\n",
       "      <td>1</td>\n",
       "    </tr>\n",
       "    <tr>\n",
       "      <th>232</th>\n",
       "      <td>ENST00000000412</td>\n",
       "      <td>2580</td>\n",
       "      <td>0.518182</td>\n",
       "      <td>1</td>\n",
       "    </tr>\n",
       "  </tbody>\n",
       "</table>\n",
       "</div>"
      ],
      "text/plain": [
       "          transcript  position  mean_scores_K562  pred_mean_K562\n",
       "17   ENST00000371582       875          0.353030               1\n",
       "28   ENST00000002165      1445          0.398485               1\n",
       "45   ENST00000002165       589          0.637762               1\n",
       "227  ENST00000000412      2440          0.565152               1\n",
       "232  ENST00000000412      2580          0.518182               1"
      ]
     },
     "execution_count": 75,
     "metadata": {},
     "output_type": "execute_result"
    }
   ],
   "source": [
    "mergek562_1 = k562_rep4_run1.merge(k562_rep5_run1, on = ['transcript','position'],how='inner')\n",
    "mergek562_2 = mergek562_1.merge(k562_rep6_run1, on = ['transcript','position'],how='inner')\n",
    "mergek562_2 = mergek562_2.rename({'score':'score_z'},axis=1)\n",
    "mergek562_2['mean_scores_K562'] = mergek562_2[['score_x', 'score_y','score_z']].mean(axis=1)\n",
    "mergek562_2[\"pred_mean_K562\"] = mergek562_2.mean_scores_K562.map(lambda x:1 if x>=0.35 else 0)\n",
    "mergek562_2 = mergek562_2.drop(columns = ['score_x','score_y','score_z'],axis=1)\n",
    "mergek562_2 = mergek562_2[mergek562_2[\"pred_mean_K562\"] == 1]\n",
    "mergek562_2.head()"
   ]
  },
  {
   "cell_type": "markdown",
   "metadata": {},
   "source": [
    "# MCF7"
   ]
  },
  {
   "cell_type": "code",
   "execution_count": 42,
   "metadata": {},
   "outputs": [],
   "source": [
    "mcf7_rep3_run1 = pd.read_csv(\"mcf7_rep3_run1_prediction.csv\")\n",
    "mcf7_rep4_run1 = pd.read_csv(\"mcf7_rep4_run1_prediction.csv\")"
   ]
  },
  {
   "cell_type": "code",
   "execution_count": 76,
   "metadata": {},
   "outputs": [
    {
     "data": {
      "text/html": [
       "<div>\n",
       "<style scoped>\n",
       "    .dataframe tbody tr th:only-of-type {\n",
       "        vertical-align: middle;\n",
       "    }\n",
       "\n",
       "    .dataframe tbody tr th {\n",
       "        vertical-align: top;\n",
       "    }\n",
       "\n",
       "    .dataframe thead th {\n",
       "        text-align: right;\n",
       "    }\n",
       "</style>\n",
       "<table border=\"1\" class=\"dataframe\">\n",
       "  <thead>\n",
       "    <tr style=\"text-align: right;\">\n",
       "      <th></th>\n",
       "      <th>transcript</th>\n",
       "      <th>position</th>\n",
       "      <th>mean_scores_MCF7</th>\n",
       "      <th>pred_mean_MCF7</th>\n",
       "    </tr>\n",
       "  </thead>\n",
       "  <tbody>\n",
       "    <tr>\n",
       "      <th>30</th>\n",
       "      <td>ENST00000371582</td>\n",
       "      <td>875</td>\n",
       "      <td>0.522727</td>\n",
       "      <td>1</td>\n",
       "    </tr>\n",
       "    <tr>\n",
       "      <th>41</th>\n",
       "      <td>ENST00000002165</td>\n",
       "      <td>1445</td>\n",
       "      <td>0.404545</td>\n",
       "      <td>1</td>\n",
       "    </tr>\n",
       "    <tr>\n",
       "      <th>58</th>\n",
       "      <td>ENST00000002165</td>\n",
       "      <td>589</td>\n",
       "      <td>0.559091</td>\n",
       "      <td>1</td>\n",
       "    </tr>\n",
       "    <tr>\n",
       "      <th>258</th>\n",
       "      <td>ENST00000000412</td>\n",
       "      <td>2440</td>\n",
       "      <td>0.559091</td>\n",
       "      <td>1</td>\n",
       "    </tr>\n",
       "    <tr>\n",
       "      <th>263</th>\n",
       "      <td>ENST00000000412</td>\n",
       "      <td>2580</td>\n",
       "      <td>0.468182</td>\n",
       "      <td>1</td>\n",
       "    </tr>\n",
       "  </tbody>\n",
       "</table>\n",
       "</div>"
      ],
      "text/plain": [
       "          transcript  position  mean_scores_MCF7  pred_mean_MCF7\n",
       "30   ENST00000371582       875          0.522727               1\n",
       "41   ENST00000002165      1445          0.404545               1\n",
       "58   ENST00000002165       589          0.559091               1\n",
       "258  ENST00000000412      2440          0.559091               1\n",
       "263  ENST00000000412      2580          0.468182               1"
      ]
     },
     "execution_count": 76,
     "metadata": {},
     "output_type": "execute_result"
    }
   ],
   "source": [
    "mergemcf7 = mcf7_rep3_run1.merge(mcf7_rep4_run1, on = ['transcript','position'],how='inner')\n",
    "mergemcf7['mean_scores_MCF7'] = mergemcf7[['score_x', 'score_y']].mean(axis=1)\n",
    "mergemcf7[\"pred_mean_MCF7\"] = mergemcf7.mean_scores_MCF7.map(lambda x:1 if x>=0.35 else 0)\n",
    "mergemcf7 = mergemcf7.drop(columns = ['score_x','score_y'],axis=1)\n",
    "mergemcf7 = mergemcf7[mergemcf7[\"pred_mean_MCF7\"] == 1]\n",
    "mergemcf7.head()"
   ]
  },
  {
   "cell_type": "code",
   "execution_count": 80,
   "metadata": {},
   "outputs": [],
   "source": [
    "all_cells = [merge1,mergeG2,mergeHct2,mergek562_2,mergemcf7]\n",
    "all_cells_df = pd.concat(all_cells,axis=1)"
   ]
  },
  {
   "cell_type": "code",
   "execution_count": 85,
   "metadata": {},
   "outputs": [
    {
     "data": {
      "text/plain": [
       "transcript          139\n",
       "position            139\n",
       "mean_scores_A549    139\n",
       "pred_mean_A549      139\n",
       "transcript          139\n",
       "position            139\n",
       "mean_scores_Hep     139\n",
       "pred_mean_Hep       139\n",
       "dtype: int64"
      ]
     },
     "execution_count": 85,
     "metadata": {},
     "output_type": "execute_result"
    }
   ],
   "source": [
    "##compare how many number of cancer cell with same transcript and position in A549 and Hep\n",
    "A549_with_Hep_cell = [merge1,mergeG2]\n",
    "A549_with_Hep_cell_df = pd.concat(A549_with_Hep_cell,axis=1)\n",
    "A549_with_Hep_cell_df = A549_with_Hep_cell_df.dropna()\n",
    "A549_with_Hep_cell_df.count()\n"
   ]
  },
  {
   "cell_type": "code",
   "execution_count": 86,
   "metadata": {},
   "outputs": [
    {
     "data": {
      "text/plain": [
       "transcript          183\n",
       "position            183\n",
       "mean_scores_A549    183\n",
       "pred_mean_A549      183\n",
       "transcript          183\n",
       "position            183\n",
       "mean_scores_Hct     183\n",
       "pred_mean_Hct       183\n",
       "dtype: int64"
      ]
     },
     "execution_count": 86,
     "metadata": {},
     "output_type": "execute_result"
    }
   ],
   "source": [
    "A549_with_Hct_cell = [merge1,mergeHct2]\n",
    "A549_with_Hct_cell_df = pd.concat(A549_with_Hct_cell,axis=1)\n",
    "A549_with_Hct_cell_df = A549_with_Hct_cell_df.dropna()\n",
    "A549_with_Hct_cell_df.count()"
   ]
  },
  {
   "cell_type": "code",
   "execution_count": 87,
   "metadata": {},
   "outputs": [
    {
     "data": {
      "text/plain": [
       "transcript          87\n",
       "position            87\n",
       "mean_scores_A549    87\n",
       "pred_mean_A549      87\n",
       "transcript          87\n",
       "position            87\n",
       "mean_scores_K562    87\n",
       "pred_mean_K562      87\n",
       "dtype: int64"
      ]
     },
     "execution_count": 87,
     "metadata": {},
     "output_type": "execute_result"
    }
   ],
   "source": [
    "A549_with_K562_cell = [merge1,mergek562_2]\n",
    "A549_with_K562_cell_df = pd.concat(A549_with_K562_cell,axis=1)\n",
    "A549_with_K562_cell_df = A549_with_K562_cell_df.dropna()\n",
    "A549_with_K562_cell_df.count()"
   ]
  },
  {
   "cell_type": "code",
   "execution_count": 88,
   "metadata": {},
   "outputs": [
    {
     "data": {
      "text/plain": [
       "transcript          166\n",
       "position            166\n",
       "mean_scores_A549    166\n",
       "pred_mean_A549      166\n",
       "transcript          166\n",
       "position            166\n",
       "mean_scores_MCF7    166\n",
       "pred_mean_MCF7      166\n",
       "dtype: int64"
      ]
     },
     "execution_count": 88,
     "metadata": {},
     "output_type": "execute_result"
    }
   ],
   "source": [
    "A549_with_MCF7_cell = [merge1,mergemcf7]\n",
    "A549_with_MCF7_cell_df = pd.concat(A549_with_MCF7_cell,axis=1)\n",
    "A549_with_MCF7_cell_df = A549_with_MCF7_cell_df.dropna()\n",
    "A549_with_MCF7_cell_df.count()"
   ]
  },
  {
   "cell_type": "code",
   "execution_count": 89,
   "metadata": {},
   "outputs": [
    {
     "data": {
      "text/plain": [
       "transcript          183\n",
       "position            183\n",
       "mean_scores_A549    183\n",
       "pred_mean_A549      183\n",
       "transcript          183\n",
       "position            183\n",
       "mean_scores_Hct     183\n",
       "pred_mean_Hct       183\n",
       "dtype: int64"
      ]
     },
     "execution_count": 89,
     "metadata": {},
     "output_type": "execute_result"
    }
   ],
   "source": [
    "##time to compare with Hct\n",
    "A549_with_Hct_cell = [merge1,mergeHct2]\n",
    "A549_with_Hct_cell_df = pd.concat(A549_with_Hct_cell,axis=1)\n",
    "A549_with_Hct_cell_df = A549_with_Hct_cell_df.dropna()\n",
    "A549_with_Hct_cell_df.count()"
   ]
  },
  {
   "cell_type": "code",
   "execution_count": 90,
   "metadata": {},
   "outputs": [
    {
     "data": {
      "text/plain": [
       "transcript         156\n",
       "position           156\n",
       "mean_scores_Hct    156\n",
       "pred_mean_Hct      156\n",
       "transcript         156\n",
       "position           156\n",
       "mean_scores_Hep    156\n",
       "pred_mean_Hep      156\n",
       "dtype: int64"
      ]
     },
     "execution_count": 90,
     "metadata": {},
     "output_type": "execute_result"
    }
   ],
   "source": [
    "Hct_with_Hep = [mergeHct2,mergeG2]\n",
    "Hct_with_Hep_df = pd.concat(Hct_with_Hep,axis=1)\n",
    "Hct_with_Hep_df = Hct_with_Hep_df.dropna()\n",
    "Hct_with_Hep_df.count()"
   ]
  },
  {
   "cell_type": "code",
   "execution_count": 91,
   "metadata": {},
   "outputs": [
    {
     "data": {
      "text/plain": [
       "transcript          109\n",
       "position            109\n",
       "mean_scores_Hct     109\n",
       "pred_mean_Hct       109\n",
       "transcript          109\n",
       "position            109\n",
       "mean_scores_K562    109\n",
       "pred_mean_K562      109\n",
       "dtype: int64"
      ]
     },
     "execution_count": 91,
     "metadata": {},
     "output_type": "execute_result"
    }
   ],
   "source": [
    "Hct_with_K562 = [mergeHct2,mergek562_2]\n",
    "Hct_with_K562_df = pd.concat(Hct_with_K562,axis=1)\n",
    "Hct_with_K562_df = Hct_with_K562_df.dropna()\n",
    "Hct_with_K562_df.count()"
   ]
  },
  {
   "cell_type": "code",
   "execution_count": 92,
   "metadata": {},
   "outputs": [
    {
     "data": {
      "text/plain": [
       "transcript          199\n",
       "position            199\n",
       "mean_scores_Hct     199\n",
       "pred_mean_Hct       199\n",
       "transcript          199\n",
       "position            199\n",
       "mean_scores_MCF7    199\n",
       "pred_mean_MCF7      199\n",
       "dtype: int64"
      ]
     },
     "execution_count": 92,
     "metadata": {},
     "output_type": "execute_result"
    }
   ],
   "source": [
    "Hct_with_MCF7 = [mergeHct2,mergemcf7]\n",
    "Hct_with_MCF7_df = pd.concat(Hct_with_MCF7,axis=1)\n",
    "Hct_with_MCF7_df = Hct_with_MCF7_df.dropna()\n",
    "Hct_with_MCF7_df.count()"
   ]
  },
  {
   "cell_type": "code",
   "execution_count": 93,
   "metadata": {},
   "outputs": [
    {
     "data": {
      "text/plain": [
       "transcript          139\n",
       "position            139\n",
       "mean_scores_A549    139\n",
       "pred_mean_A549      139\n",
       "transcript          139\n",
       "position            139\n",
       "mean_scores_Hep     139\n",
       "pred_mean_Hep       139\n",
       "dtype: int64"
      ]
     },
     "execution_count": 93,
     "metadata": {},
     "output_type": "execute_result"
    }
   ],
   "source": [
    "##time to compare for HepG2\n",
    "A549_with_Hep_cell = [merge1,mergeG2]\n",
    "A549_with_Hep_cell_df = pd.concat(A549_with_Hep_cell,axis=1)\n",
    "A549_with_Hep_cell_df = A549_with_Hep_cell_df.dropna()\n",
    "A549_with_Hep_cell_df.count()"
   ]
  },
  {
   "cell_type": "code",
   "execution_count": 94,
   "metadata": {},
   "outputs": [
    {
     "data": {
      "text/plain": [
       "transcript         156\n",
       "position           156\n",
       "mean_scores_Hct    156\n",
       "pred_mean_Hct      156\n",
       "transcript         156\n",
       "position           156\n",
       "mean_scores_Hep    156\n",
       "pred_mean_Hep      156\n",
       "dtype: int64"
      ]
     },
     "execution_count": 94,
     "metadata": {},
     "output_type": "execute_result"
    }
   ],
   "source": [
    "Hct_with_Hep = [mergeHct2,mergeG2]\n",
    "Hct_with_Hep_df = pd.concat(Hct_with_Hep,axis=1)\n",
    "Hct_with_Hep_df = Hct_with_Hep_df.dropna()\n",
    "Hct_with_Hep_df.count()"
   ]
  },
  {
   "cell_type": "code",
   "execution_count": 95,
   "metadata": {},
   "outputs": [
    {
     "data": {
      "text/plain": [
       "transcript          103\n",
       "position            103\n",
       "mean_scores_Hep     103\n",
       "pred_mean_Hep       103\n",
       "transcript          103\n",
       "position            103\n",
       "mean_scores_K562    103\n",
       "pred_mean_K562      103\n",
       "dtype: int64"
      ]
     },
     "execution_count": 95,
     "metadata": {},
     "output_type": "execute_result"
    }
   ],
   "source": [
    "Hep_with_K562 = [mergeG2,mergek562_2]\n",
    "Hep_with_K562_df = pd.concat(Hep_with_K562,axis=1)\n",
    "Hep_with_K562_df = Hep_with_K562_df.dropna()\n",
    "Hep_with_K562_df.count()"
   ]
  },
  {
   "cell_type": "code",
   "execution_count": 97,
   "metadata": {},
   "outputs": [
    {
     "data": {
      "text/plain": [
       "transcript          167\n",
       "position            167\n",
       "mean_scores_Hep     167\n",
       "pred_mean_Hep       167\n",
       "transcript          167\n",
       "position            167\n",
       "mean_scores_MCF7    167\n",
       "pred_mean_MCF7      167\n",
       "dtype: int64"
      ]
     },
     "execution_count": 97,
     "metadata": {},
     "output_type": "execute_result"
    }
   ],
   "source": [
    "Hep_with_MCF7 = [mergeG2,mergemcf7]\n",
    "Hep_with_MCF7_df = pd.concat(Hep_with_MCF7,axis=1)\n",
    "Hep_with_MCF7_df = Hep_with_MCF7_df.dropna()\n",
    "Hep_with_MCF7_df.count()"
   ]
  },
  {
   "cell_type": "code",
   "execution_count": 98,
   "metadata": {},
   "outputs": [
    {
     "data": {
      "text/plain": [
       "transcript          87\n",
       "position            87\n",
       "mean_scores_A549    87\n",
       "pred_mean_A549      87\n",
       "transcript          87\n",
       "position            87\n",
       "mean_scores_K562    87\n",
       "pred_mean_K562      87\n",
       "dtype: int64"
      ]
     },
     "execution_count": 98,
     "metadata": {},
     "output_type": "execute_result"
    }
   ],
   "source": [
    "##K562 comparison\n",
    "A549_with_K562_cell = [merge1,mergek562_2]\n",
    "A549_with_K562_cell_df = pd.concat(A549_with_K562_cell,axis=1)\n",
    "A549_with_K562_cell_df = A549_with_K562_cell_df.dropna()\n",
    "A549_with_K562_cell_df.count()"
   ]
  },
  {
   "cell_type": "code",
   "execution_count": 99,
   "metadata": {},
   "outputs": [
    {
     "data": {
      "text/plain": [
       "transcript          109\n",
       "position            109\n",
       "mean_scores_Hct     109\n",
       "pred_mean_Hct       109\n",
       "transcript          109\n",
       "position            109\n",
       "mean_scores_K562    109\n",
       "pred_mean_K562      109\n",
       "dtype: int64"
      ]
     },
     "execution_count": 99,
     "metadata": {},
     "output_type": "execute_result"
    }
   ],
   "source": [
    "Hct_with_K562 = [mergeHct2,mergek562_2]\n",
    "Hct_with_K562_df = pd.concat(Hct_with_K562,axis=1)\n",
    "Hct_with_K562_df = Hct_with_K562_df.dropna()\n",
    "Hct_with_K562_df.count()"
   ]
  },
  {
   "cell_type": "code",
   "execution_count": 100,
   "metadata": {},
   "outputs": [
    {
     "data": {
      "text/plain": [
       "transcript          103\n",
       "position            103\n",
       "mean_scores_Hep     103\n",
       "pred_mean_Hep       103\n",
       "transcript          103\n",
       "position            103\n",
       "mean_scores_K562    103\n",
       "pred_mean_K562      103\n",
       "dtype: int64"
      ]
     },
     "execution_count": 100,
     "metadata": {},
     "output_type": "execute_result"
    }
   ],
   "source": [
    "Hep_with_K562 = [mergeG2,mergek562_2]\n",
    "Hep_with_K562_df = pd.concat(Hep_with_K562,axis=1)\n",
    "Hep_with_K562_df = Hep_with_K562_df.dropna()\n",
    "Hep_with_K562_df.count()"
   ]
  },
  {
   "cell_type": "code",
   "execution_count": 101,
   "metadata": {},
   "outputs": [
    {
     "data": {
      "text/plain": [
       "transcript          117\n",
       "position            117\n",
       "mean_scores_K562    117\n",
       "pred_mean_K562      117\n",
       "transcript          117\n",
       "position            117\n",
       "mean_scores_MCF7    117\n",
       "pred_mean_MCF7      117\n",
       "dtype: int64"
      ]
     },
     "execution_count": 101,
     "metadata": {},
     "output_type": "execute_result"
    }
   ],
   "source": [
    "K562_with_MCF7 = [mergek562_2,mergemcf7]\n",
    "K562_with_MCF7_df = pd.concat(K562_with_MCF7,axis=1)\n",
    "K562_with_MCF7_df = K562_with_MCF7_df.dropna()\n",
    "K562_with_MCF7_df.count()"
   ]
  },
  {
   "cell_type": "code",
   "execution_count": 102,
   "metadata": {},
   "outputs": [
    {
     "data": {
      "text/plain": [
       "transcript          166\n",
       "position            166\n",
       "mean_scores_A549    166\n",
       "pred_mean_A549      166\n",
       "transcript          166\n",
       "position            166\n",
       "mean_scores_MCF7    166\n",
       "pred_mean_MCF7      166\n",
       "dtype: int64"
      ]
     },
     "execution_count": 102,
     "metadata": {},
     "output_type": "execute_result"
    }
   ],
   "source": [
    "##MCF7 comparison\n",
    "A549_with_MCF7_cell = [merge1,mergemcf7]\n",
    "A549_with_MCF7_cell_df = pd.concat(A549_with_MCF7_cell,axis=1)\n",
    "A549_with_MCF7_cell_df = A549_with_MCF7_cell_df.dropna()\n",
    "A549_with_MCF7_cell_df.count()"
   ]
  },
  {
   "cell_type": "code",
   "execution_count": 103,
   "metadata": {},
   "outputs": [
    {
     "data": {
      "text/plain": [
       "transcript          199\n",
       "position            199\n",
       "mean_scores_Hct     199\n",
       "pred_mean_Hct       199\n",
       "transcript          199\n",
       "position            199\n",
       "mean_scores_MCF7    199\n",
       "pred_mean_MCF7      199\n",
       "dtype: int64"
      ]
     },
     "execution_count": 103,
     "metadata": {},
     "output_type": "execute_result"
    }
   ],
   "source": [
    "Hct_with_MCF7 = [mergeHct2,mergemcf7]\n",
    "Hct_with_MCF7_df = pd.concat(Hct_with_MCF7,axis=1)\n",
    "Hct_with_MCF7_df = Hct_with_MCF7_df.dropna()\n",
    "Hct_with_MCF7_df.count()"
   ]
  },
  {
   "cell_type": "code",
   "execution_count": 104,
   "metadata": {},
   "outputs": [
    {
     "data": {
      "text/plain": [
       "transcript          167\n",
       "position            167\n",
       "mean_scores_Hep     167\n",
       "pred_mean_Hep       167\n",
       "transcript          167\n",
       "position            167\n",
       "mean_scores_MCF7    167\n",
       "pred_mean_MCF7      167\n",
       "dtype: int64"
      ]
     },
     "execution_count": 104,
     "metadata": {},
     "output_type": "execute_result"
    }
   ],
   "source": [
    "Hep_with_MCF7 = [mergeG2,mergemcf7]\n",
    "Hep_with_MCF7_df = pd.concat(Hep_with_MCF7,axis=1)\n",
    "Hep_with_MCF7_df = Hep_with_MCF7_df.dropna()\n",
    "Hep_with_MCF7_df.count()"
   ]
  },
  {
   "cell_type": "code",
   "execution_count": 105,
   "metadata": {},
   "outputs": [
    {
     "data": {
      "text/plain": [
       "transcript          117\n",
       "position            117\n",
       "mean_scores_K562    117\n",
       "pred_mean_K562      117\n",
       "transcript          117\n",
       "position            117\n",
       "mean_scores_MCF7    117\n",
       "pred_mean_MCF7      117\n",
       "dtype: int64"
      ]
     },
     "execution_count": 105,
     "metadata": {},
     "output_type": "execute_result"
    }
   ],
   "source": [
    "K562_with_MCF7 = [mergek562_2,mergemcf7]\n",
    "K562_with_MCF7_df = pd.concat(K562_with_MCF7,axis=1)\n",
    "K562_with_MCF7_df = K562_with_MCF7_df.dropna()\n",
    "K562_with_MCF7_df.count()"
   ]
  }
 ],
 "metadata": {
  "kernelspec": {
   "display_name": "Python 3.8.5",
   "language": "python",
   "name": "python3"
  },
  "language_info": {
   "codemirror_mode": {
    "name": "ipython",
    "version": 3
   },
   "file_extension": ".py",
   "mimetype": "text/x-python",
   "name": "python",
   "nbconvert_exporter": "python",
   "pygments_lexer": "ipython3",
   "version": "3.8.5"
  },
  "orig_nbformat": 4,
  "vscode": {
   "interpreter": {
    "hash": "035e2ad795729c2a3a2cbf8037c9e9fdacdf6652043c15a864379fdc8b06707f"
   }
  }
 },
 "nbformat": 4,
 "nbformat_minor": 2
}
