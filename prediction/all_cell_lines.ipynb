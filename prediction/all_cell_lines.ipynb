{
 "cells": [
  {
   "cell_type": "code",
   "execution_count": 1,
   "metadata": {},
   "outputs": [],
   "source": [
    "import pandas as pd\n",
    "import os\n",
    "import matplotlib.pyplot as plt"
   ]
  },
  {
   "cell_type": "code",
   "execution_count": 2,
   "metadata": {},
   "outputs": [],
   "source": [
    "os.chdir(\"data/aws_predictions/\")"
   ]
  },
  {
   "cell_type": "code",
   "execution_count": 4,
   "metadata": {},
   "outputs": [],
   "source": [
    "info_data_path = \"../model_training/raw_data/data.info\"\n",
    "with open(info_data_path, 'r') as f:\n",
    "    info = f.read().splitlines()\n",
    "\n",
    "info_list = [info[i].split(\",\") for i in range(len(info))]\n",
    "info_df = pd.DataFrame(info_list[1:]) \n",
    "info_df.columns = info_list[0]"
   ]
  },
  {
   "cell_type": "code",
   "execution_count": 5,
   "metadata": {},
   "outputs": [
    {
     "data": {
      "text/plain": [
       "gene_id                object\n",
       "transcript_id          object\n",
       "transcript_position     int64\n",
       "label                   int64\n",
       "dtype: object"
      ]
     },
     "execution_count": 5,
     "metadata": {},
     "output_type": "execute_result"
    }
   ],
   "source": [
    "info_df[\"transcript_position\"] = info_df[\"transcript_position\"].astype(str).astype(int)\n",
    "info_df[\"label\"] = info_df[\"label\"].astype(str).astype(int)\n",
    "info_df.dtypes"
   ]
  },
  {
   "cell_type": "code",
   "execution_count": 6,
   "metadata": {},
   "outputs": [
    {
     "data": {
      "text/html": [
       "<div>\n",
       "<style scoped>\n",
       "    .dataframe tbody tr th:only-of-type {\n",
       "        vertical-align: middle;\n",
       "    }\n",
       "\n",
       "    .dataframe tbody tr th {\n",
       "        vertical-align: top;\n",
       "    }\n",
       "\n",
       "    .dataframe thead th {\n",
       "        text-align: right;\n",
       "    }\n",
       "</style>\n",
       "<table border=\"1\" class=\"dataframe\">\n",
       "  <thead>\n",
       "    <tr style=\"text-align: right;\">\n",
       "      <th></th>\n",
       "      <th>gene_id</th>\n",
       "      <th>transcript_id</th>\n",
       "      <th>transcript_position</th>\n",
       "      <th>label</th>\n",
       "    </tr>\n",
       "  </thead>\n",
       "  <tbody>\n",
       "    <tr>\n",
       "      <th>17</th>\n",
       "      <td>ENSG00000004059</td>\n",
       "      <td>ENST00000000233</td>\n",
       "      <td>913</td>\n",
       "      <td>1</td>\n",
       "    </tr>\n",
       "    <tr>\n",
       "      <th>52</th>\n",
       "      <td>ENSG00000003056</td>\n",
       "      <td>ENST00000000412</td>\n",
       "      <td>2440</td>\n",
       "      <td>1</td>\n",
       "    </tr>\n",
       "    <tr>\n",
       "      <th>53</th>\n",
       "      <td>ENSG00000003056</td>\n",
       "      <td>ENST00000000412</td>\n",
       "      <td>2462</td>\n",
       "      <td>1</td>\n",
       "    </tr>\n",
       "    <tr>\n",
       "      <th>55</th>\n",
       "      <td>ENSG00000003056</td>\n",
       "      <td>ENST00000000412</td>\n",
       "      <td>2499</td>\n",
       "      <td>1</td>\n",
       "    </tr>\n",
       "    <tr>\n",
       "      <th>229</th>\n",
       "      <td>ENSG00000007520</td>\n",
       "      <td>ENST00000007390</td>\n",
       "      <td>1096</td>\n",
       "      <td>1</td>\n",
       "    </tr>\n",
       "  </tbody>\n",
       "</table>\n",
       "</div>"
      ],
      "text/plain": [
       "             gene_id    transcript_id  transcript_position  label\n",
       "17   ENSG00000004059  ENST00000000233                  913      1\n",
       "52   ENSG00000003056  ENST00000000412                 2440      1\n",
       "53   ENSG00000003056  ENST00000000412                 2462      1\n",
       "55   ENSG00000003056  ENST00000000412                 2499      1\n",
       "229  ENSG00000007520  ENST00000007390                 1096      1"
      ]
     },
     "execution_count": 6,
     "metadata": {},
     "output_type": "execute_result"
    }
   ],
   "source": [
    "info_label1 = info_df[info_df[\"label\"] == 1]\n",
    "info_label1.head()"
   ]
  },
  {
   "cell_type": "markdown",
   "metadata": {},
   "source": [
    "# A549"
   ]
  },
  {
   "cell_type": "code",
   "execution_count": 87,
   "metadata": {},
   "outputs": [
    {
     "name": "stdout",
     "output_type": "stream",
     "text": [
      "['A549_rep5_run1_prediction.csv', 'A549_rep6_run1_prediction.csv']\n"
     ]
    }
   ],
   "source": [
    "a549_files = sorted([file for file in os.listdir() if file.startswith(\"A549\")])\n",
    "a549 = [pd.read_csv(file) for file in a549_files]\n",
    "print(a549_files)"
   ]
  },
  {
   "cell_type": "code",
   "execution_count": 88,
   "metadata": {},
   "outputs": [
    {
     "data": {
      "text/html": [
       "<div>\n",
       "<style scoped>\n",
       "    .dataframe tbody tr th:only-of-type {\n",
       "        vertical-align: middle;\n",
       "    }\n",
       "\n",
       "    .dataframe tbody tr th {\n",
       "        vertical-align: top;\n",
       "    }\n",
       "\n",
       "    .dataframe thead th {\n",
       "        text-align: right;\n",
       "    }\n",
       "</style>\n",
       "<table border=\"1\" class=\"dataframe\">\n",
       "  <thead>\n",
       "    <tr style=\"text-align: right;\">\n",
       "      <th></th>\n",
       "      <th>gene_id</th>\n",
       "      <th>transcript_id</th>\n",
       "      <th>transcript_position</th>\n",
       "      <th>label</th>\n",
       "      <th>transcript</th>\n",
       "      <th>position</th>\n",
       "      <th>score</th>\n",
       "    </tr>\n",
       "  </thead>\n",
       "  <tbody>\n",
       "    <tr>\n",
       "      <th>0</th>\n",
       "      <td>ENSG00000004059</td>\n",
       "      <td>ENST00000000233</td>\n",
       "      <td>913</td>\n",
       "      <td>1</td>\n",
       "      <td>ENST00000000233</td>\n",
       "      <td>913.0</td>\n",
       "      <td>0.064488</td>\n",
       "    </tr>\n",
       "    <tr>\n",
       "      <th>1</th>\n",
       "      <td>ENSG00000003056</td>\n",
       "      <td>ENST00000000412</td>\n",
       "      <td>2440</td>\n",
       "      <td>1</td>\n",
       "      <td>ENST00000000412</td>\n",
       "      <td>2440.0</td>\n",
       "      <td>0.608392</td>\n",
       "    </tr>\n",
       "    <tr>\n",
       "      <th>2</th>\n",
       "      <td>ENSG00000003056</td>\n",
       "      <td>ENST00000000412</td>\n",
       "      <td>2462</td>\n",
       "      <td>1</td>\n",
       "      <td>ENST00000000412</td>\n",
       "      <td>2462.0</td>\n",
       "      <td>0.077398</td>\n",
       "    </tr>\n",
       "    <tr>\n",
       "      <th>3</th>\n",
       "      <td>ENSG00000003056</td>\n",
       "      <td>ENST00000000412</td>\n",
       "      <td>2499</td>\n",
       "      <td>1</td>\n",
       "      <td>ENST00000000412</td>\n",
       "      <td>2499.0</td>\n",
       "      <td>0.422727</td>\n",
       "    </tr>\n",
       "    <tr>\n",
       "      <th>4</th>\n",
       "      <td>ENSG00000007520</td>\n",
       "      <td>ENST00000007390</td>\n",
       "      <td>1096</td>\n",
       "      <td>1</td>\n",
       "      <td>ENST00000007390</td>\n",
       "      <td>1096.0</td>\n",
       "      <td>0.677273</td>\n",
       "    </tr>\n",
       "  </tbody>\n",
       "</table>\n",
       "</div>"
      ],
      "text/plain": [
       "           gene_id    transcript_id  transcript_position  label  \\\n",
       "0  ENSG00000004059  ENST00000000233                  913      1   \n",
       "1  ENSG00000003056  ENST00000000412                 2440      1   \n",
       "2  ENSG00000003056  ENST00000000412                 2462      1   \n",
       "3  ENSG00000003056  ENST00000000412                 2499      1   \n",
       "4  ENSG00000007520  ENST00000007390                 1096      1   \n",
       "\n",
       "        transcript  position     score  \n",
       "0  ENST00000000233     913.0  0.064488  \n",
       "1  ENST00000000412    2440.0  0.608392  \n",
       "2  ENST00000000412    2462.0  0.077398  \n",
       "3  ENST00000000412    2499.0  0.422727  \n",
       "4  ENST00000007390    1096.0  0.677273  "
      ]
     },
     "execution_count": 88,
     "metadata": {},
     "output_type": "execute_result"
    }
   ],
   "source": [
    "## LEFT JOIN WITH INFO\n",
    "a549 = [info_label1.merge(df, how = \"left\", left_on = [\"transcript_id\", \"transcript_position\"],\n",
    "                                right_on = [\"transcript\", \"position\"])\n",
    "                                for df in a549]\n",
    "a549[0].head()"
   ]
  },
  {
   "cell_type": "code",
   "execution_count": 89,
   "metadata": {},
   "outputs": [
    {
     "name": "stdout",
     "output_type": "stream",
     "text": [
      "Index(['gene_id', 'transcript_id', 'transcript_position', 'label', 'score'], dtype='object')\n",
      "Index(['gene_id', 'transcript_id', 'transcript_position', 'label', 'score'], dtype='object')\n"
     ]
    }
   ],
   "source": [
    "## DROP DUPLICATE COLUMNS\n",
    "for df in a549:\n",
    "    df.drop([\"transcript\", \"position\"], axis = 1, inplace = True)\n",
    "    print(df.columns)"
   ]
  },
  {
   "cell_type": "code",
   "execution_count": 90,
   "metadata": {},
   "outputs": [
    {
     "name": "stdout",
     "output_type": "stream",
     "text": [
      "Index(['gene_id', 'transcript_id', 'transcript_position', 'rep5_label',\n",
      "       'rep5_score'],\n",
      "      dtype='object')\n",
      "Index(['gene_id', 'transcript_id', 'transcript_position', 'rep6_label',\n",
      "       'rep6_score'],\n",
      "      dtype='object')\n"
     ]
    }
   ],
   "source": [
    "## RENAME COLS\n",
    "for df, ind in zip(a549, [\"5\", \"6\"]):\n",
    "    df.rename(columns = {\"label\": f\"rep{ind}_label\", \"score\": f\"rep{ind}_score\"}, inplace = True)\n",
    "    print(df.columns)"
   ]
  },
  {
   "cell_type": "code",
   "execution_count": 91,
   "metadata": {},
   "outputs": [
    {
     "name": "stdout",
     "output_type": "stream",
     "text": [
      "(5475, 7)\n"
     ]
    },
    {
     "data": {
      "text/html": [
       "<div>\n",
       "<style scoped>\n",
       "    .dataframe tbody tr th:only-of-type {\n",
       "        vertical-align: middle;\n",
       "    }\n",
       "\n",
       "    .dataframe tbody tr th {\n",
       "        vertical-align: top;\n",
       "    }\n",
       "\n",
       "    .dataframe thead th {\n",
       "        text-align: right;\n",
       "    }\n",
       "</style>\n",
       "<table border=\"1\" class=\"dataframe\">\n",
       "  <thead>\n",
       "    <tr style=\"text-align: right;\">\n",
       "      <th></th>\n",
       "      <th>gene_id</th>\n",
       "      <th>transcript_id</th>\n",
       "      <th>transcript_position</th>\n",
       "      <th>rep5_label</th>\n",
       "      <th>rep5_score</th>\n",
       "      <th>rep6_label</th>\n",
       "      <th>rep6_score</th>\n",
       "    </tr>\n",
       "  </thead>\n",
       "  <tbody>\n",
       "    <tr>\n",
       "      <th>0</th>\n",
       "      <td>ENSG00000004059</td>\n",
       "      <td>ENST00000000233</td>\n",
       "      <td>913</td>\n",
       "      <td>1</td>\n",
       "      <td>0.064488</td>\n",
       "      <td>1</td>\n",
       "      <td>0.168528</td>\n",
       "    </tr>\n",
       "    <tr>\n",
       "      <th>1</th>\n",
       "      <td>ENSG00000003056</td>\n",
       "      <td>ENST00000000412</td>\n",
       "      <td>2440</td>\n",
       "      <td>1</td>\n",
       "      <td>0.608392</td>\n",
       "      <td>1</td>\n",
       "      <td>0.700000</td>\n",
       "    </tr>\n",
       "    <tr>\n",
       "      <th>2</th>\n",
       "      <td>ENSG00000003056</td>\n",
       "      <td>ENST00000000412</td>\n",
       "      <td>2462</td>\n",
       "      <td>1</td>\n",
       "      <td>0.077398</td>\n",
       "      <td>1</td>\n",
       "      <td>0.036700</td>\n",
       "    </tr>\n",
       "    <tr>\n",
       "      <th>3</th>\n",
       "      <td>ENSG00000003056</td>\n",
       "      <td>ENST00000000412</td>\n",
       "      <td>2499</td>\n",
       "      <td>1</td>\n",
       "      <td>0.422727</td>\n",
       "      <td>1</td>\n",
       "      <td>0.363636</td>\n",
       "    </tr>\n",
       "    <tr>\n",
       "      <th>4</th>\n",
       "      <td>ENSG00000007520</td>\n",
       "      <td>ENST00000007390</td>\n",
       "      <td>1096</td>\n",
       "      <td>1</td>\n",
       "      <td>0.677273</td>\n",
       "      <td>1</td>\n",
       "      <td>0.459091</td>\n",
       "    </tr>\n",
       "  </tbody>\n",
       "</table>\n",
       "</div>"
      ],
      "text/plain": [
       "           gene_id    transcript_id  transcript_position  rep5_label  \\\n",
       "0  ENSG00000004059  ENST00000000233                  913           1   \n",
       "1  ENSG00000003056  ENST00000000412                 2440           1   \n",
       "2  ENSG00000003056  ENST00000000412                 2462           1   \n",
       "3  ENSG00000003056  ENST00000000412                 2499           1   \n",
       "4  ENSG00000007520  ENST00000007390                 1096           1   \n",
       "\n",
       "   rep5_score  rep6_label  rep6_score  \n",
       "0    0.064488           1    0.168528  \n",
       "1    0.608392           1    0.700000  \n",
       "2    0.077398           1    0.036700  \n",
       "3    0.422727           1    0.363636  \n",
       "4    0.677273           1    0.459091  "
      ]
     },
     "execution_count": 91,
     "metadata": {},
     "output_type": "execute_result"
    }
   ],
   "source": [
    "## get similar transcript and position with label 1\n",
    "a549_label1 = pd.concat(a549, axis = 1, join = \"inner\")\n",
    "\n",
    "## drop duplicate columns\n",
    "a549_label1 = a549_label1.loc[:, ~a549_label1.columns.duplicated()]\n",
    "\n",
    "print(a549_label1.shape)\n",
    "a549_label1.head()"
   ]
  },
  {
   "cell_type": "markdown",
   "metadata": {},
   "source": [
    "# HCT116"
   ]
  },
  {
   "cell_type": "code",
   "execution_count": 92,
   "metadata": {},
   "outputs": [
    {
     "name": "stdout",
     "output_type": "stream",
     "text": [
      "['Hct116_rep3_run1_prediction.csv', 'Hct116_rep3_run4_prediction.csv', 'Hct116_rep4_run3_prediction.csv']\n"
     ]
    }
   ],
   "source": [
    "hct116_files = sorted([file for file in os.listdir() if file.startswith(\"Hct116\")])\n",
    "hct116 = [pd.read_csv(file) for file in hct116_files]\n",
    "print(hct116_files)"
   ]
  },
  {
   "cell_type": "code",
   "execution_count": 93,
   "metadata": {},
   "outputs": [],
   "source": [
    "## LEFT JOIN WITH INFO\n",
    "hct116 = [info_label1.merge(df, how = \"left\", left_on = [\"transcript_id\", \"transcript_position\"],\n",
    "                                right_on = [\"transcript\", \"position\"])\n",
    "                                for df in hct116]"
   ]
  },
  {
   "cell_type": "code",
   "execution_count": 94,
   "metadata": {},
   "outputs": [
    {
     "name": "stdout",
     "output_type": "stream",
     "text": [
      "Index(['gene_id', 'transcript_id', 'transcript_position', 'label', 'score'], dtype='object')\n",
      "Index(['gene_id', 'transcript_id', 'transcript_position', 'label', 'score'], dtype='object')\n",
      "Index(['gene_id', 'transcript_id', 'transcript_position', 'label', 'score'], dtype='object')\n"
     ]
    }
   ],
   "source": [
    "## DROP DUPLICATE COLUMNS\n",
    "for df in hct116:\n",
    "    df.drop([\"transcript\", \"position\"], axis = 1, inplace = True)\n",
    "    print(df.columns)"
   ]
  },
  {
   "cell_type": "code",
   "execution_count": 95,
   "metadata": {},
   "outputs": [
    {
     "name": "stdout",
     "output_type": "stream",
     "text": [
      "Index(['gene_id', 'transcript_id', 'transcript_position', 'rep3_run1_label',\n",
      "       'rep3_run1_score'],\n",
      "      dtype='object')\n",
      "Index(['gene_id', 'transcript_id', 'transcript_position', 'rep3_run4_label',\n",
      "       'rep3_run4_score'],\n",
      "      dtype='object')\n",
      "Index(['gene_id', 'transcript_id', 'transcript_position', 'rep4_run3_label',\n",
      "       'rep4_run3_score'],\n",
      "      dtype='object')\n"
     ]
    }
   ],
   "source": [
    "## RENAME COLS\n",
    "for df, ind in zip(hct116, [\"3_run1\", \"3_run4\", \"4_run3\"]):\n",
    "    df.rename(columns = {\"label\": f\"rep{ind}_label\", \"score\": f\"rep{ind}_score\"}, inplace = True)\n",
    "    print(df.columns)"
   ]
  },
  {
   "cell_type": "code",
   "execution_count": 96,
   "metadata": {},
   "outputs": [
    {
     "name": "stdout",
     "output_type": "stream",
     "text": [
      "(5475, 9)\n"
     ]
    },
    {
     "data": {
      "text/html": [
       "<div>\n",
       "<style scoped>\n",
       "    .dataframe tbody tr th:only-of-type {\n",
       "        vertical-align: middle;\n",
       "    }\n",
       "\n",
       "    .dataframe tbody tr th {\n",
       "        vertical-align: top;\n",
       "    }\n",
       "\n",
       "    .dataframe thead th {\n",
       "        text-align: right;\n",
       "    }\n",
       "</style>\n",
       "<table border=\"1\" class=\"dataframe\">\n",
       "  <thead>\n",
       "    <tr style=\"text-align: right;\">\n",
       "      <th></th>\n",
       "      <th>gene_id</th>\n",
       "      <th>transcript_id</th>\n",
       "      <th>transcript_position</th>\n",
       "      <th>rep3_run1_label</th>\n",
       "      <th>rep3_run1_score</th>\n",
       "      <th>rep3_run4_label</th>\n",
       "      <th>rep3_run4_score</th>\n",
       "      <th>rep4_run3_label</th>\n",
       "      <th>rep4_run3_score</th>\n",
       "    </tr>\n",
       "  </thead>\n",
       "  <tbody>\n",
       "    <tr>\n",
       "      <th>0</th>\n",
       "      <td>ENSG00000004059</td>\n",
       "      <td>ENST00000000233</td>\n",
       "      <td>913</td>\n",
       "      <td>1</td>\n",
       "      <td>0.500000</td>\n",
       "      <td>1</td>\n",
       "      <td>0.391058</td>\n",
       "      <td>1</td>\n",
       "      <td>0.345604</td>\n",
       "    </tr>\n",
       "    <tr>\n",
       "      <th>1</th>\n",
       "      <td>ENSG00000003056</td>\n",
       "      <td>ENST00000000412</td>\n",
       "      <td>2440</td>\n",
       "      <td>1</td>\n",
       "      <td>0.818182</td>\n",
       "      <td>1</td>\n",
       "      <td>0.668182</td>\n",
       "      <td>1</td>\n",
       "      <td>0.672727</td>\n",
       "    </tr>\n",
       "    <tr>\n",
       "      <th>2</th>\n",
       "      <td>ENSG00000003056</td>\n",
       "      <td>ENST00000000412</td>\n",
       "      <td>2462</td>\n",
       "      <td>1</td>\n",
       "      <td>0.383295</td>\n",
       "      <td>1</td>\n",
       "      <td>0.054696</td>\n",
       "      <td>1</td>\n",
       "      <td>0.018330</td>\n",
       "    </tr>\n",
       "    <tr>\n",
       "      <th>3</th>\n",
       "      <td>ENSG00000003056</td>\n",
       "      <td>ENST00000000412</td>\n",
       "      <td>2499</td>\n",
       "      <td>1</td>\n",
       "      <td>0.281818</td>\n",
       "      <td>1</td>\n",
       "      <td>0.268182</td>\n",
       "      <td>1</td>\n",
       "      <td>0.077273</td>\n",
       "    </tr>\n",
       "    <tr>\n",
       "      <th>4</th>\n",
       "      <td>ENSG00000007520</td>\n",
       "      <td>ENST00000007390</td>\n",
       "      <td>1096</td>\n",
       "      <td>1</td>\n",
       "      <td>0.822727</td>\n",
       "      <td>1</td>\n",
       "      <td>0.459091</td>\n",
       "      <td>1</td>\n",
       "      <td>0.495455</td>\n",
       "    </tr>\n",
       "  </tbody>\n",
       "</table>\n",
       "</div>"
      ],
      "text/plain": [
       "           gene_id    transcript_id  transcript_position  rep3_run1_label  \\\n",
       "0  ENSG00000004059  ENST00000000233                  913                1   \n",
       "1  ENSG00000003056  ENST00000000412                 2440                1   \n",
       "2  ENSG00000003056  ENST00000000412                 2462                1   \n",
       "3  ENSG00000003056  ENST00000000412                 2499                1   \n",
       "4  ENSG00000007520  ENST00000007390                 1096                1   \n",
       "\n",
       "   rep3_run1_score  rep3_run4_label  rep3_run4_score  rep4_run3_label  \\\n",
       "0         0.500000                1         0.391058                1   \n",
       "1         0.818182                1         0.668182                1   \n",
       "2         0.383295                1         0.054696                1   \n",
       "3         0.281818                1         0.268182                1   \n",
       "4         0.822727                1         0.459091                1   \n",
       "\n",
       "   rep4_run3_score  \n",
       "0         0.345604  \n",
       "1         0.672727  \n",
       "2         0.018330  \n",
       "3         0.077273  \n",
       "4         0.495455  "
      ]
     },
     "execution_count": 96,
     "metadata": {},
     "output_type": "execute_result"
    }
   ],
   "source": [
    "## get similar transcript and position with label 1\n",
    "hct116_label1 = pd.concat(hct116, axis = 1, join = \"inner\")\n",
    "\n",
    "## drop duplicate columns\n",
    "hct116_label1 = hct116_label1.loc[:, ~hct116_label1.columns.duplicated()]\n",
    "\n",
    "print(hct116_label1.shape)\n",
    "hct116_label1.head()"
   ]
  },
  {
   "cell_type": "markdown",
   "metadata": {},
   "source": [
    "# HEPG2"
   ]
  },
  {
   "cell_type": "code",
   "execution_count": 97,
   "metadata": {},
   "outputs": [
    {
     "name": "stdout",
     "output_type": "stream",
     "text": [
      "['hepG2_rep5_run2_prediction.csv', 'hepG2_rep6_run1_prediction.csv']\n"
     ]
    }
   ],
   "source": [
    "hepg2_files = sorted([file for file in os.listdir() if file.startswith(\"hepG2\")])\n",
    "hepg2 = [pd.read_csv(file) for file in hepg2_files]\n",
    "print(hepg2_files)"
   ]
  },
  {
   "cell_type": "code",
   "execution_count": 98,
   "metadata": {},
   "outputs": [],
   "source": [
    "## LEFT JOIN WITH INFO\n",
    "hepg2 = [info_label1.merge(df, how = \"left\", left_on = [\"transcript_id\", \"transcript_position\"],\n",
    "                                right_on = [\"transcript\", \"position\"])\n",
    "                                for df in hepg2]"
   ]
  },
  {
   "cell_type": "code",
   "execution_count": 99,
   "metadata": {},
   "outputs": [
    {
     "name": "stdout",
     "output_type": "stream",
     "text": [
      "Index(['gene_id', 'transcript_id', 'transcript_position', 'label', 'score'], dtype='object')\n",
      "Index(['gene_id', 'transcript_id', 'transcript_position', 'label', 'score'], dtype='object')\n"
     ]
    }
   ],
   "source": [
    "## DROP DUPLICATE COLUMNS\n",
    "for df in hepg2:\n",
    "    df.drop([\"transcript\", \"position\"], axis = 1, inplace = True)\n",
    "    print(df.columns)"
   ]
  },
  {
   "cell_type": "code",
   "execution_count": 100,
   "metadata": {},
   "outputs": [
    {
     "name": "stdout",
     "output_type": "stream",
     "text": [
      "Index(['gene_id', 'transcript_id', 'transcript_position', 'rep5_label',\n",
      "       'rep5_score'],\n",
      "      dtype='object')\n",
      "Index(['gene_id', 'transcript_id', 'transcript_position', 'rep6_label',\n",
      "       'rep6_score'],\n",
      "      dtype='object')\n"
     ]
    }
   ],
   "source": [
    "## RENAME COLS\n",
    "for df, ind in zip(hepg2, [\"5\", \"6\"]):\n",
    "    df.rename(columns = {\"label\": f\"rep{ind}_label\", \"score\": f\"rep{ind}_score\"}, inplace = True)\n",
    "    print(df.columns)"
   ]
  },
  {
   "cell_type": "code",
   "execution_count": 101,
   "metadata": {},
   "outputs": [
    {
     "name": "stdout",
     "output_type": "stream",
     "text": [
      "(5475, 7)\n"
     ]
    },
    {
     "data": {
      "text/html": [
       "<div>\n",
       "<style scoped>\n",
       "    .dataframe tbody tr th:only-of-type {\n",
       "        vertical-align: middle;\n",
       "    }\n",
       "\n",
       "    .dataframe tbody tr th {\n",
       "        vertical-align: top;\n",
       "    }\n",
       "\n",
       "    .dataframe thead th {\n",
       "        text-align: right;\n",
       "    }\n",
       "</style>\n",
       "<table border=\"1\" class=\"dataframe\">\n",
       "  <thead>\n",
       "    <tr style=\"text-align: right;\">\n",
       "      <th></th>\n",
       "      <th>gene_id</th>\n",
       "      <th>transcript_id</th>\n",
       "      <th>transcript_position</th>\n",
       "      <th>rep5_label</th>\n",
       "      <th>rep5_score</th>\n",
       "      <th>rep6_label</th>\n",
       "      <th>rep6_score</th>\n",
       "    </tr>\n",
       "  </thead>\n",
       "  <tbody>\n",
       "    <tr>\n",
       "      <th>0</th>\n",
       "      <td>ENSG00000004059</td>\n",
       "      <td>ENST00000000233</td>\n",
       "      <td>913</td>\n",
       "      <td>1</td>\n",
       "      <td>0.168331</td>\n",
       "      <td>1</td>\n",
       "      <td>0.165614</td>\n",
       "    </tr>\n",
       "    <tr>\n",
       "      <th>1</th>\n",
       "      <td>ENSG00000003056</td>\n",
       "      <td>ENST00000000412</td>\n",
       "      <td>2440</td>\n",
       "      <td>1</td>\n",
       "      <td>0.559091</td>\n",
       "      <td>1</td>\n",
       "      <td>0.522727</td>\n",
       "    </tr>\n",
       "    <tr>\n",
       "      <th>2</th>\n",
       "      <td>ENSG00000003056</td>\n",
       "      <td>ENST00000000412</td>\n",
       "      <td>2462</td>\n",
       "      <td>1</td>\n",
       "      <td>0.073044</td>\n",
       "      <td>1</td>\n",
       "      <td>0.004742</td>\n",
       "    </tr>\n",
       "    <tr>\n",
       "      <th>3</th>\n",
       "      <td>ENSG00000003056</td>\n",
       "      <td>ENST00000000412</td>\n",
       "      <td>2499</td>\n",
       "      <td>1</td>\n",
       "      <td>0.281818</td>\n",
       "      <td>1</td>\n",
       "      <td>0.231818</td>\n",
       "    </tr>\n",
       "    <tr>\n",
       "      <th>4</th>\n",
       "      <td>ENSG00000007520</td>\n",
       "      <td>ENST00000007390</td>\n",
       "      <td>1096</td>\n",
       "      <td>1</td>\n",
       "      <td>0.327273</td>\n",
       "      <td>1</td>\n",
       "      <td>0.404545</td>\n",
       "    </tr>\n",
       "  </tbody>\n",
       "</table>\n",
       "</div>"
      ],
      "text/plain": [
       "           gene_id    transcript_id  transcript_position  rep5_label  \\\n",
       "0  ENSG00000004059  ENST00000000233                  913           1   \n",
       "1  ENSG00000003056  ENST00000000412                 2440           1   \n",
       "2  ENSG00000003056  ENST00000000412                 2462           1   \n",
       "3  ENSG00000003056  ENST00000000412                 2499           1   \n",
       "4  ENSG00000007520  ENST00000007390                 1096           1   \n",
       "\n",
       "   rep5_score  rep6_label  rep6_score  \n",
       "0    0.168331           1    0.165614  \n",
       "1    0.559091           1    0.522727  \n",
       "2    0.073044           1    0.004742  \n",
       "3    0.281818           1    0.231818  \n",
       "4    0.327273           1    0.404545  "
      ]
     },
     "execution_count": 101,
     "metadata": {},
     "output_type": "execute_result"
    }
   ],
   "source": [
    "## get similar transcript and position with label 1\n",
    "hepg2_label1 = pd.concat(hepg2, axis = 1, join = \"inner\")\n",
    "\n",
    "## drop duplicate columns\n",
    "hepg2_label1 = hepg2_label1.loc[:, ~hepg2_label1.columns.duplicated()]\n",
    "\n",
    "print(hepg2_label1.shape)\n",
    "hepg2_label1.head()"
   ]
  },
  {
   "cell_type": "markdown",
   "metadata": {},
   "source": [
    "# K562"
   ]
  },
  {
   "cell_type": "code",
   "execution_count": 102,
   "metadata": {},
   "outputs": [
    {
     "name": "stdout",
     "output_type": "stream",
     "text": [
      "['k562_rep4_run1_prediction.csv', 'k562_rep5_run1_prediction.csv', 'k562_rep6_run1_prediction.csv']\n"
     ]
    }
   ],
   "source": [
    "k562_files = sorted([file for file in os.listdir() if file.startswith(\"k562\")])\n",
    "k562 = [pd.read_csv(file) for file in k562_files]\n",
    "print(k562_files)"
   ]
  },
  {
   "cell_type": "code",
   "execution_count": 103,
   "metadata": {},
   "outputs": [],
   "source": [
    "## LEFT JOIN WITH INFO\n",
    "k562 = [info_label1.merge(df, how = \"left\", left_on = [\"transcript_id\", \"transcript_position\"],\n",
    "                                right_on = [\"transcript\", \"position\"])\n",
    "                                for df in k562]"
   ]
  },
  {
   "cell_type": "code",
   "execution_count": 104,
   "metadata": {},
   "outputs": [
    {
     "name": "stdout",
     "output_type": "stream",
     "text": [
      "Index(['gene_id', 'transcript_id', 'transcript_position', 'label', 'score'], dtype='object')\n",
      "Index(['gene_id', 'transcript_id', 'transcript_position', 'label', 'score'], dtype='object')\n",
      "Index(['gene_id', 'transcript_id', 'transcript_position', 'label', 'score'], dtype='object')\n"
     ]
    }
   ],
   "source": [
    "## DROP DUPLICATE COLUMNS\n",
    "for df in k562:\n",
    "    df.drop([\"transcript\", \"position\"], axis = 1, inplace = True)\n",
    "    print(df.columns)"
   ]
  },
  {
   "cell_type": "code",
   "execution_count": 105,
   "metadata": {},
   "outputs": [
    {
     "name": "stdout",
     "output_type": "stream",
     "text": [
      "Index(['gene_id', 'transcript_id', 'transcript_position', 'rep4_label',\n",
      "       'rep4_score'],\n",
      "      dtype='object')\n",
      "Index(['gene_id', 'transcript_id', 'transcript_position', 'rep5_label',\n",
      "       'rep5_score'],\n",
      "      dtype='object')\n",
      "Index(['gene_id', 'transcript_id', 'transcript_position', 'rep6_label',\n",
      "       'rep6_score'],\n",
      "      dtype='object')\n"
     ]
    }
   ],
   "source": [
    "## RENAME COLS\n",
    "for df, ind in zip(k562, [\"4\", \"5\", \"6\"]):\n",
    "    df.rename(columns = {\"label\": f\"rep{ind}_label\", \"score\": f\"rep{ind}_score\"}, inplace = True)\n",
    "    print(df.columns)"
   ]
  },
  {
   "cell_type": "code",
   "execution_count": 106,
   "metadata": {},
   "outputs": [
    {
     "name": "stdout",
     "output_type": "stream",
     "text": [
      "(5475, 9)\n"
     ]
    },
    {
     "data": {
      "text/html": [
       "<div>\n",
       "<style scoped>\n",
       "    .dataframe tbody tr th:only-of-type {\n",
       "        vertical-align: middle;\n",
       "    }\n",
       "\n",
       "    .dataframe tbody tr th {\n",
       "        vertical-align: top;\n",
       "    }\n",
       "\n",
       "    .dataframe thead th {\n",
       "        text-align: right;\n",
       "    }\n",
       "</style>\n",
       "<table border=\"1\" class=\"dataframe\">\n",
       "  <thead>\n",
       "    <tr style=\"text-align: right;\">\n",
       "      <th></th>\n",
       "      <th>gene_id</th>\n",
       "      <th>transcript_id</th>\n",
       "      <th>transcript_position</th>\n",
       "      <th>rep4_label</th>\n",
       "      <th>rep4_score</th>\n",
       "      <th>rep5_label</th>\n",
       "      <th>rep5_score</th>\n",
       "      <th>rep6_label</th>\n",
       "      <th>rep6_score</th>\n",
       "    </tr>\n",
       "  </thead>\n",
       "  <tbody>\n",
       "    <tr>\n",
       "      <th>0</th>\n",
       "      <td>ENSG00000004059</td>\n",
       "      <td>ENST00000000233</td>\n",
       "      <td>913</td>\n",
       "      <td>1</td>\n",
       "      <td>0.222738</td>\n",
       "      <td>1</td>\n",
       "      <td>0.164011</td>\n",
       "      <td>1</td>\n",
       "      <td>0.195680</td>\n",
       "    </tr>\n",
       "    <tr>\n",
       "      <th>1</th>\n",
       "      <td>ENSG00000003056</td>\n",
       "      <td>ENST00000000412</td>\n",
       "      <td>2440</td>\n",
       "      <td>1</td>\n",
       "      <td>0.495455</td>\n",
       "      <td>1</td>\n",
       "      <td>0.613636</td>\n",
       "      <td>1</td>\n",
       "      <td>0.586364</td>\n",
       "    </tr>\n",
       "    <tr>\n",
       "      <th>2</th>\n",
       "      <td>ENSG00000003056</td>\n",
       "      <td>ENST00000000412</td>\n",
       "      <td>2462</td>\n",
       "      <td>1</td>\n",
       "      <td>0.050000</td>\n",
       "      <td>1</td>\n",
       "      <td>0.063636</td>\n",
       "      <td>1</td>\n",
       "      <td>0.050192</td>\n",
       "    </tr>\n",
       "    <tr>\n",
       "      <th>3</th>\n",
       "      <td>ENSG00000003056</td>\n",
       "      <td>ENST00000000412</td>\n",
       "      <td>2499</td>\n",
       "      <td>1</td>\n",
       "      <td>0.372727</td>\n",
       "      <td>1</td>\n",
       "      <td>0.336364</td>\n",
       "      <td>1</td>\n",
       "      <td>0.272727</td>\n",
       "    </tr>\n",
       "    <tr>\n",
       "      <th>4</th>\n",
       "      <td>ENSG00000007520</td>\n",
       "      <td>ENST00000007390</td>\n",
       "      <td>1096</td>\n",
       "      <td>1</td>\n",
       "      <td>0.418182</td>\n",
       "      <td>1</td>\n",
       "      <td>0.400000</td>\n",
       "      <td>1</td>\n",
       "      <td>0.586364</td>\n",
       "    </tr>\n",
       "  </tbody>\n",
       "</table>\n",
       "</div>"
      ],
      "text/plain": [
       "           gene_id    transcript_id  transcript_position  rep4_label  \\\n",
       "0  ENSG00000004059  ENST00000000233                  913           1   \n",
       "1  ENSG00000003056  ENST00000000412                 2440           1   \n",
       "2  ENSG00000003056  ENST00000000412                 2462           1   \n",
       "3  ENSG00000003056  ENST00000000412                 2499           1   \n",
       "4  ENSG00000007520  ENST00000007390                 1096           1   \n",
       "\n",
       "   rep4_score  rep5_label  rep5_score  rep6_label  rep6_score  \n",
       "0    0.222738           1    0.164011           1    0.195680  \n",
       "1    0.495455           1    0.613636           1    0.586364  \n",
       "2    0.050000           1    0.063636           1    0.050192  \n",
       "3    0.372727           1    0.336364           1    0.272727  \n",
       "4    0.418182           1    0.400000           1    0.586364  "
      ]
     },
     "execution_count": 106,
     "metadata": {},
     "output_type": "execute_result"
    }
   ],
   "source": [
    "## get similar transcript and position with label 1\n",
    "k562_label1 = pd.concat(k562, axis = 1, join = \"inner\")\n",
    "\n",
    "## drop duplicate columns\n",
    "k562_label1 = k562_label1.loc[:, ~k562_label1.columns.duplicated()]\n",
    "\n",
    "print(k562_label1.shape)\n",
    "k562_label1.head()"
   ]
  },
  {
   "cell_type": "markdown",
   "metadata": {},
   "source": [
    "# MCF7"
   ]
  },
  {
   "cell_type": "code",
   "execution_count": 107,
   "metadata": {},
   "outputs": [
    {
     "name": "stdout",
     "output_type": "stream",
     "text": [
      "['mcf7_rep3_run1_prediction.csv', 'mcf7_rep4_run1_prediction.csv']\n"
     ]
    }
   ],
   "source": [
    "mcf7_files = sorted([file for file in os.listdir() if file.startswith(\"mcf7\")])\n",
    "mcf7 = [pd.read_csv(file) for file in mcf7_files]\n",
    "print(mcf7_files)"
   ]
  },
  {
   "cell_type": "code",
   "execution_count": 108,
   "metadata": {},
   "outputs": [],
   "source": [
    "## LEFT JOIN WITH INFO\n",
    "mcf7 = [info_label1.merge(df, how = \"left\", left_on = [\"transcript_id\", \"transcript_position\"],\n",
    "                                right_on = [\"transcript\", \"position\"])\n",
    "                                for df in mcf7]"
   ]
  },
  {
   "cell_type": "code",
   "execution_count": 109,
   "metadata": {},
   "outputs": [
    {
     "name": "stdout",
     "output_type": "stream",
     "text": [
      "Index(['gene_id', 'transcript_id', 'transcript_position', 'label', 'score'], dtype='object')\n",
      "Index(['gene_id', 'transcript_id', 'transcript_position', 'label', 'score'], dtype='object')\n"
     ]
    }
   ],
   "source": [
    "## DROP DUPLICATE COLUMNS\n",
    "for df in mcf7:\n",
    "    df.drop([\"transcript\", \"position\"], axis = 1, inplace = True)\n",
    "    print(df.columns)"
   ]
  },
  {
   "cell_type": "code",
   "execution_count": 110,
   "metadata": {},
   "outputs": [
    {
     "name": "stdout",
     "output_type": "stream",
     "text": [
      "Index(['gene_id', 'transcript_id', 'transcript_position', 'rep3_label',\n",
      "       'rep3_score'],\n",
      "      dtype='object')\n",
      "Index(['gene_id', 'transcript_id', 'transcript_position', 'rep4_label',\n",
      "       'rep4_score'],\n",
      "      dtype='object')\n"
     ]
    }
   ],
   "source": [
    "## RENAME COLS\n",
    "for df, ind in zip(mcf7, [\"3\", \"4\"]):\n",
    "    df.rename(columns = {\"label\": f\"rep{ind}_label\", \"score\": f\"rep{ind}_score\"}, inplace = True)\n",
    "    print(df.columns)"
   ]
  },
  {
   "cell_type": "code",
   "execution_count": 111,
   "metadata": {},
   "outputs": [
    {
     "name": "stdout",
     "output_type": "stream",
     "text": [
      "(5475, 7)\n"
     ]
    },
    {
     "data": {
      "text/html": [
       "<div>\n",
       "<style scoped>\n",
       "    .dataframe tbody tr th:only-of-type {\n",
       "        vertical-align: middle;\n",
       "    }\n",
       "\n",
       "    .dataframe tbody tr th {\n",
       "        vertical-align: top;\n",
       "    }\n",
       "\n",
       "    .dataframe thead th {\n",
       "        text-align: right;\n",
       "    }\n",
       "</style>\n",
       "<table border=\"1\" class=\"dataframe\">\n",
       "  <thead>\n",
       "    <tr style=\"text-align: right;\">\n",
       "      <th></th>\n",
       "      <th>gene_id</th>\n",
       "      <th>transcript_id</th>\n",
       "      <th>transcript_position</th>\n",
       "      <th>rep3_label</th>\n",
       "      <th>rep3_score</th>\n",
       "      <th>rep4_label</th>\n",
       "      <th>rep4_score</th>\n",
       "    </tr>\n",
       "  </thead>\n",
       "  <tbody>\n",
       "    <tr>\n",
       "      <th>0</th>\n",
       "      <td>ENSG00000004059</td>\n",
       "      <td>ENST00000000233</td>\n",
       "      <td>913</td>\n",
       "      <td>1</td>\n",
       "      <td>0.341058</td>\n",
       "      <td>1</td>\n",
       "      <td>0.341058</td>\n",
       "    </tr>\n",
       "    <tr>\n",
       "      <th>1</th>\n",
       "      <td>ENSG00000003056</td>\n",
       "      <td>ENST00000000412</td>\n",
       "      <td>2440</td>\n",
       "      <td>1</td>\n",
       "      <td>0.559091</td>\n",
       "      <td>1</td>\n",
       "      <td>0.559091</td>\n",
       "    </tr>\n",
       "    <tr>\n",
       "      <th>2</th>\n",
       "      <td>ENSG00000003056</td>\n",
       "      <td>ENST00000000412</td>\n",
       "      <td>2462</td>\n",
       "      <td>1</td>\n",
       "      <td>0.087503</td>\n",
       "      <td>1</td>\n",
       "      <td>0.087503</td>\n",
       "    </tr>\n",
       "    <tr>\n",
       "      <th>3</th>\n",
       "      <td>ENSG00000003056</td>\n",
       "      <td>ENST00000000412</td>\n",
       "      <td>2499</td>\n",
       "      <td>1</td>\n",
       "      <td>0.159091</td>\n",
       "      <td>1</td>\n",
       "      <td>0.159091</td>\n",
       "    </tr>\n",
       "    <tr>\n",
       "      <th>4</th>\n",
       "      <td>ENSG00000007520</td>\n",
       "      <td>ENST00000007390</td>\n",
       "      <td>1096</td>\n",
       "      <td>1</td>\n",
       "      <td>0.390909</td>\n",
       "      <td>1</td>\n",
       "      <td>0.390909</td>\n",
       "    </tr>\n",
       "  </tbody>\n",
       "</table>\n",
       "</div>"
      ],
      "text/plain": [
       "           gene_id    transcript_id  transcript_position  rep3_label  \\\n",
       "0  ENSG00000004059  ENST00000000233                  913           1   \n",
       "1  ENSG00000003056  ENST00000000412                 2440           1   \n",
       "2  ENSG00000003056  ENST00000000412                 2462           1   \n",
       "3  ENSG00000003056  ENST00000000412                 2499           1   \n",
       "4  ENSG00000007520  ENST00000007390                 1096           1   \n",
       "\n",
       "   rep3_score  rep4_label  rep4_score  \n",
       "0    0.341058           1    0.341058  \n",
       "1    0.559091           1    0.559091  \n",
       "2    0.087503           1    0.087503  \n",
       "3    0.159091           1    0.159091  \n",
       "4    0.390909           1    0.390909  "
      ]
     },
     "execution_count": 111,
     "metadata": {},
     "output_type": "execute_result"
    }
   ],
   "source": [
    "## get similar transcript and position with label 1\n",
    "mcf7_label1 = pd.concat(mcf7, axis = 1, join = \"inner\")\n",
    "\n",
    "## drop duplicate columns\n",
    "mcf7_label1 = mcf7_label1.loc[:, ~mcf7_label1.columns.duplicated()]\n",
    "\n",
    "print(mcf7_label1.shape)\n",
    "mcf7_label1.head()"
   ]
  },
  {
   "cell_type": "markdown",
   "metadata": {},
   "source": [
    "# Concat all cell lines to find similar"
   ]
  },
  {
   "cell_type": "code",
   "execution_count": 112,
   "metadata": {},
   "outputs": [
    {
     "name": "stdout",
     "output_type": "stream",
     "text": [
      "(5475, 17)\n"
     ]
    },
    {
     "data": {
      "text/html": [
       "<div>\n",
       "<style scoped>\n",
       "    .dataframe tbody tr th:only-of-type {\n",
       "        vertical-align: middle;\n",
       "    }\n",
       "\n",
       "    .dataframe tbody tr th {\n",
       "        vertical-align: top;\n",
       "    }\n",
       "\n",
       "    .dataframe thead th {\n",
       "        text-align: right;\n",
       "    }\n",
       "</style>\n",
       "<table border=\"1\" class=\"dataframe\">\n",
       "  <thead>\n",
       "    <tr style=\"text-align: right;\">\n",
       "      <th></th>\n",
       "      <th>gene_id</th>\n",
       "      <th>transcript_id</th>\n",
       "      <th>transcript_position</th>\n",
       "      <th>rep5_label</th>\n",
       "      <th>rep5_score</th>\n",
       "      <th>rep6_label</th>\n",
       "      <th>rep6_score</th>\n",
       "      <th>rep3_run1_label</th>\n",
       "      <th>rep3_run1_score</th>\n",
       "      <th>rep3_run4_label</th>\n",
       "      <th>rep3_run4_score</th>\n",
       "      <th>rep4_run3_label</th>\n",
       "      <th>rep4_run3_score</th>\n",
       "      <th>rep4_label</th>\n",
       "      <th>rep4_score</th>\n",
       "      <th>rep3_label</th>\n",
       "      <th>rep3_score</th>\n",
       "    </tr>\n",
       "  </thead>\n",
       "  <tbody>\n",
       "    <tr>\n",
       "      <th>0</th>\n",
       "      <td>ENSG00000004059</td>\n",
       "      <td>ENST00000000233</td>\n",
       "      <td>913</td>\n",
       "      <td>1</td>\n",
       "      <td>0.064488</td>\n",
       "      <td>1</td>\n",
       "      <td>0.168528</td>\n",
       "      <td>1</td>\n",
       "      <td>0.500000</td>\n",
       "      <td>1</td>\n",
       "      <td>0.391058</td>\n",
       "      <td>1</td>\n",
       "      <td>0.345604</td>\n",
       "      <td>1</td>\n",
       "      <td>0.222738</td>\n",
       "      <td>1</td>\n",
       "      <td>0.341058</td>\n",
       "    </tr>\n",
       "    <tr>\n",
       "      <th>1</th>\n",
       "      <td>ENSG00000003056</td>\n",
       "      <td>ENST00000000412</td>\n",
       "      <td>2440</td>\n",
       "      <td>1</td>\n",
       "      <td>0.608392</td>\n",
       "      <td>1</td>\n",
       "      <td>0.700000</td>\n",
       "      <td>1</td>\n",
       "      <td>0.818182</td>\n",
       "      <td>1</td>\n",
       "      <td>0.668182</td>\n",
       "      <td>1</td>\n",
       "      <td>0.672727</td>\n",
       "      <td>1</td>\n",
       "      <td>0.495455</td>\n",
       "      <td>1</td>\n",
       "      <td>0.559091</td>\n",
       "    </tr>\n",
       "    <tr>\n",
       "      <th>2</th>\n",
       "      <td>ENSG00000003056</td>\n",
       "      <td>ENST00000000412</td>\n",
       "      <td>2462</td>\n",
       "      <td>1</td>\n",
       "      <td>0.077398</td>\n",
       "      <td>1</td>\n",
       "      <td>0.036700</td>\n",
       "      <td>1</td>\n",
       "      <td>0.383295</td>\n",
       "      <td>1</td>\n",
       "      <td>0.054696</td>\n",
       "      <td>1</td>\n",
       "      <td>0.018330</td>\n",
       "      <td>1</td>\n",
       "      <td>0.050000</td>\n",
       "      <td>1</td>\n",
       "      <td>0.087503</td>\n",
       "    </tr>\n",
       "    <tr>\n",
       "      <th>3</th>\n",
       "      <td>ENSG00000003056</td>\n",
       "      <td>ENST00000000412</td>\n",
       "      <td>2499</td>\n",
       "      <td>1</td>\n",
       "      <td>0.422727</td>\n",
       "      <td>1</td>\n",
       "      <td>0.363636</td>\n",
       "      <td>1</td>\n",
       "      <td>0.281818</td>\n",
       "      <td>1</td>\n",
       "      <td>0.268182</td>\n",
       "      <td>1</td>\n",
       "      <td>0.077273</td>\n",
       "      <td>1</td>\n",
       "      <td>0.372727</td>\n",
       "      <td>1</td>\n",
       "      <td>0.159091</td>\n",
       "    </tr>\n",
       "    <tr>\n",
       "      <th>4</th>\n",
       "      <td>ENSG00000007520</td>\n",
       "      <td>ENST00000007390</td>\n",
       "      <td>1096</td>\n",
       "      <td>1</td>\n",
       "      <td>0.677273</td>\n",
       "      <td>1</td>\n",
       "      <td>0.459091</td>\n",
       "      <td>1</td>\n",
       "      <td>0.822727</td>\n",
       "      <td>1</td>\n",
       "      <td>0.459091</td>\n",
       "      <td>1</td>\n",
       "      <td>0.495455</td>\n",
       "      <td>1</td>\n",
       "      <td>0.418182</td>\n",
       "      <td>1</td>\n",
       "      <td>0.390909</td>\n",
       "    </tr>\n",
       "  </tbody>\n",
       "</table>\n",
       "</div>"
      ],
      "text/plain": [
       "           gene_id    transcript_id  transcript_position  rep5_label  \\\n",
       "0  ENSG00000004059  ENST00000000233                  913           1   \n",
       "1  ENSG00000003056  ENST00000000412                 2440           1   \n",
       "2  ENSG00000003056  ENST00000000412                 2462           1   \n",
       "3  ENSG00000003056  ENST00000000412                 2499           1   \n",
       "4  ENSG00000007520  ENST00000007390                 1096           1   \n",
       "\n",
       "   rep5_score  rep6_label  rep6_score  rep3_run1_label  rep3_run1_score  \\\n",
       "0    0.064488           1    0.168528                1         0.500000   \n",
       "1    0.608392           1    0.700000                1         0.818182   \n",
       "2    0.077398           1    0.036700                1         0.383295   \n",
       "3    0.422727           1    0.363636                1         0.281818   \n",
       "4    0.677273           1    0.459091                1         0.822727   \n",
       "\n",
       "   rep3_run4_label  rep3_run4_score  rep4_run3_label  rep4_run3_score  \\\n",
       "0                1         0.391058                1         0.345604   \n",
       "1                1         0.668182                1         0.672727   \n",
       "2                1         0.054696                1         0.018330   \n",
       "3                1         0.268182                1         0.077273   \n",
       "4                1         0.459091                1         0.495455   \n",
       "\n",
       "   rep4_label  rep4_score  rep3_label  rep3_score  \n",
       "0           1    0.222738           1    0.341058  \n",
       "1           1    0.495455           1    0.559091  \n",
       "2           1    0.050000           1    0.087503  \n",
       "3           1    0.372727           1    0.159091  \n",
       "4           1    0.418182           1    0.390909  "
      ]
     },
     "execution_count": 112,
     "metadata": {},
     "output_type": "execute_result"
    }
   ],
   "source": [
    "all_lines = [a549_label1, hct116_label1, hepg2_label1, k562_label1, mcf7_label1]\n",
    "all_lines_label1 = pd.concat(all_lines, axis = 1, join = \"inner\")\n",
    "\n",
    "## drop duplicate columns\n",
    "all_lines_label1 = all_lines_label1.loc[:, ~all_lines_label1.columns.duplicated()]\n",
    "\n",
    "print(all_lines_label1.shape)\n",
    "all_lines_label1.head()"
   ]
  },
  {
   "cell_type": "code",
   "execution_count": 115,
   "metadata": {},
   "outputs": [
    {
     "data": {
      "text/plain": [
       "1    5475\n",
       "Name: rep6_label, dtype: int64"
      ]
     },
     "execution_count": 115,
     "metadata": {},
     "output_type": "execute_result"
    }
   ],
   "source": [
    "a549_label1[\"rep6_label\"].value_counts()"
   ]
  }
 ],
 "metadata": {
  "kernelspec": {
   "display_name": "Python 3.8.10 64-bit",
   "language": "python",
   "name": "python3"
  },
  "language_info": {
   "codemirror_mode": {
    "name": "ipython",
    "version": 3
   },
   "file_extension": ".py",
   "mimetype": "text/x-python",
   "name": "python",
   "nbconvert_exporter": "python",
   "pygments_lexer": "ipython3",
   "version": "3.8.10"
  },
  "orig_nbformat": 4,
  "vscode": {
   "interpreter": {
    "hash": "aee8b7b246df8f9039afb4144a1f6fd8d2ca17a180786b69acc140d282b71a49"
   }
  }
 },
 "nbformat": 4,
 "nbformat_minor": 2
}
