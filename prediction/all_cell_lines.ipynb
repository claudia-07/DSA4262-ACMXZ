{
 "cells": [
  {
   "cell_type": "code",
   "execution_count": 22,
   "metadata": {},
   "outputs": [],
   "source": [
    "import pandas as pd\n",
    "import os\n",
    "import numpy as np\n",
    "import matplotlib.pyplot as plt"
   ]
  },
  {
   "cell_type": "code",
   "execution_count": 3,
   "metadata": {},
   "outputs": [],
   "source": [
    "os.chdir(\"../data/aws_predictions/\")"
   ]
  },
  {
   "cell_type": "markdown",
   "metadata": {},
   "source": [
    "# A549"
   ]
  },
  {
   "cell_type": "code",
   "execution_count": 4,
   "metadata": {},
   "outputs": [],
   "source": [
    "A549_rep5_run1 = pd.read_csv(\"A549_rep5_run1_prediction.csv\")\n",
    "A549_rep6_run1 = pd.read_csv(\"A549_rep6_run1_prediction.csv\")"
   ]
  },
  {
   "cell_type": "code",
   "execution_count": 5,
   "metadata": {},
   "outputs": [
    {
     "data": {
      "text/html": [
       "<div>\n",
       "<style scoped>\n",
       "    .dataframe tbody tr th:only-of-type {\n",
       "        vertical-align: middle;\n",
       "    }\n",
       "\n",
       "    .dataframe tbody tr th {\n",
       "        vertical-align: top;\n",
       "    }\n",
       "\n",
       "    .dataframe thead th {\n",
       "        text-align: right;\n",
       "    }\n",
       "</style>\n",
       "<table border=\"1\" class=\"dataframe\">\n",
       "  <thead>\n",
       "    <tr style=\"text-align: right;\">\n",
       "      <th></th>\n",
       "      <th>transcript</th>\n",
       "      <th>position</th>\n",
       "      <th>mean_scores_A549</th>\n",
       "      <th>pred_mean_A549</th>\n",
       "    </tr>\n",
       "  </thead>\n",
       "  <tbody>\n",
       "    <tr>\n",
       "      <th>30</th>\n",
       "      <td>ENST00000371582</td>\n",
       "      <td>875</td>\n",
       "      <td>0.570455</td>\n",
       "      <td>1</td>\n",
       "    </tr>\n",
       "    <tr>\n",
       "      <th>58</th>\n",
       "      <td>ENST00000002165</td>\n",
       "      <td>589</td>\n",
       "      <td>0.740822</td>\n",
       "      <td>1</td>\n",
       "    </tr>\n",
       "    <tr>\n",
       "      <th>139</th>\n",
       "      <td>ENST00000226299</td>\n",
       "      <td>1874</td>\n",
       "      <td>0.381830</td>\n",
       "      <td>1</td>\n",
       "    </tr>\n",
       "    <tr>\n",
       "      <th>190</th>\n",
       "      <td>ENST00000002596</td>\n",
       "      <td>1734</td>\n",
       "      <td>0.527273</td>\n",
       "      <td>1</td>\n",
       "    </tr>\n",
       "    <tr>\n",
       "      <th>191</th>\n",
       "      <td>ENST00000002596</td>\n",
       "      <td>1779</td>\n",
       "      <td>0.350012</td>\n",
       "      <td>1</td>\n",
       "    </tr>\n",
       "  </tbody>\n",
       "</table>\n",
       "</div>"
      ],
      "text/plain": [
       "          transcript  position  mean_scores_A549  pred_mean_A549\n",
       "30   ENST00000371582       875          0.570455               1\n",
       "58   ENST00000002165       589          0.740822               1\n",
       "139  ENST00000226299      1874          0.381830               1\n",
       "190  ENST00000002596      1734          0.527273               1\n",
       "191  ENST00000002596      1779          0.350012               1"
      ]
     },
     "execution_count": 5,
     "metadata": {},
     "output_type": "execute_result"
    }
   ],
   "source": [
    "merge1 = A549_rep5_run1.merge(A549_rep6_run1, on = ['transcript','position'], how = 'inner')\n",
    "merge1['mean_scores_A549'] = merge1[['score_x', 'score_y']].mean(axis=1)\n",
    "merge1[\"pred_mean_A549\"] = merge1.mean_scores_A549.map(lambda x:1 if x>=0.35 else 0)\n",
    "merge1 = merge1.drop(columns = ['score_x','score_y'],axis=1)\n",
    "merge1 = merge1[merge1[\"pred_mean_A549\"] == 1]\n",
    "merge1.head()"
   ]
  },
  {
   "cell_type": "markdown",
   "metadata": {},
   "source": [
    "# HCT116"
   ]
  },
  {
   "cell_type": "code",
   "execution_count": 6,
   "metadata": {},
   "outputs": [],
   "source": [
    "Hct116_rep3_run1 = pd.read_csv(\"Hct116_rep3_run1_prediction.csv\")\n",
    "Hct116_rep3_run4 = pd.read_csv(\"Hct116_rep3_run4_prediction.csv\")\n",
    "Hct116_rep4_run3 = pd.read_csv(\"hct116_rep4_run3_prediction.csv\")"
   ]
  },
  {
   "cell_type": "code",
   "execution_count": 7,
   "metadata": {},
   "outputs": [
    {
     "data": {
      "text/html": [
       "<div>\n",
       "<style scoped>\n",
       "    .dataframe tbody tr th:only-of-type {\n",
       "        vertical-align: middle;\n",
       "    }\n",
       "\n",
       "    .dataframe tbody tr th {\n",
       "        vertical-align: top;\n",
       "    }\n",
       "\n",
       "    .dataframe thead th {\n",
       "        text-align: right;\n",
       "    }\n",
       "</style>\n",
       "<table border=\"1\" class=\"dataframe\">\n",
       "  <thead>\n",
       "    <tr style=\"text-align: right;\">\n",
       "      <th></th>\n",
       "      <th>transcript</th>\n",
       "      <th>position</th>\n",
       "      <th>mean_scores_Hct</th>\n",
       "      <th>pred_mean_Hct</th>\n",
       "    </tr>\n",
       "  </thead>\n",
       "  <tbody>\n",
       "    <tr>\n",
       "      <th>30</th>\n",
       "      <td>ENST00000371582</td>\n",
       "      <td>875</td>\n",
       "      <td>0.448485</td>\n",
       "      <td>1</td>\n",
       "    </tr>\n",
       "    <tr>\n",
       "      <th>41</th>\n",
       "      <td>ENST00000002165</td>\n",
       "      <td>1445</td>\n",
       "      <td>0.387879</td>\n",
       "      <td>1</td>\n",
       "    </tr>\n",
       "    <tr>\n",
       "      <th>58</th>\n",
       "      <td>ENST00000002165</td>\n",
       "      <td>589</td>\n",
       "      <td>0.535606</td>\n",
       "      <td>1</td>\n",
       "    </tr>\n",
       "    <tr>\n",
       "      <th>140</th>\n",
       "      <td>ENST00000226299</td>\n",
       "      <td>1882</td>\n",
       "      <td>0.359091</td>\n",
       "      <td>1</td>\n",
       "    </tr>\n",
       "    <tr>\n",
       "      <th>184</th>\n",
       "      <td>ENST00000002596</td>\n",
       "      <td>1280</td>\n",
       "      <td>0.363642</td>\n",
       "      <td>1</td>\n",
       "    </tr>\n",
       "  </tbody>\n",
       "</table>\n",
       "</div>"
      ],
      "text/plain": [
       "          transcript  position  mean_scores_Hct  pred_mean_Hct\n",
       "30   ENST00000371582       875         0.448485              1\n",
       "41   ENST00000002165      1445         0.387879              1\n",
       "58   ENST00000002165       589         0.535606              1\n",
       "140  ENST00000226299      1882         0.359091              1\n",
       "184  ENST00000002596      1280         0.363642              1"
      ]
     },
     "execution_count": 7,
     "metadata": {},
     "output_type": "execute_result"
    }
   ],
   "source": [
    "mergeHct1 = Hct116_rep3_run1.merge(Hct116_rep3_run4, on = ['transcript','position'],how='inner')\n",
    "mergeHct2 = mergeHct1.merge(Hct116_rep4_run3, on = ['transcript','position'],how='inner')\n",
    "mergeHct2 = mergeHct2.rename({'score':'score_z'},axis=1)\n",
    "mergeHct2['mean_scores_Hct'] = mergeHct2[['score_x', 'score_y','score_z']].mean(axis=1)\n",
    "mergeHct2[\"pred_mean_Hct\"] = mergeHct2.mean_scores_Hct.map(lambda x:1 if x>=0.35 else 0)\n",
    "mergeHct2 = mergeHct2.drop(columns = ['score_x','score_y','score_z'],axis=1)\n",
    "mergeHct2 = mergeHct2[mergeHct2[\"pred_mean_Hct\"] == 1]\n",
    "mergeHct2.head()"
   ]
  },
  {
   "cell_type": "markdown",
   "metadata": {},
   "source": [
    "# HEPG2"
   ]
  },
  {
   "cell_type": "code",
   "execution_count": 8,
   "metadata": {},
   "outputs": [],
   "source": [
    "hepG2_rep5_run2 = pd.read_csv(\"hepG2_rep5_run2_prediction.csv\")\n",
    "hepG2_rep6_run1 = pd.read_csv(\"hepG2_rep6_run1_prediction.csv\")"
   ]
  },
  {
   "cell_type": "code",
   "execution_count": 9,
   "metadata": {},
   "outputs": [
    {
     "data": {
      "text/html": [
       "<div>\n",
       "<style scoped>\n",
       "    .dataframe tbody tr th:only-of-type {\n",
       "        vertical-align: middle;\n",
       "    }\n",
       "\n",
       "    .dataframe tbody tr th {\n",
       "        vertical-align: top;\n",
       "    }\n",
       "\n",
       "    .dataframe thead th {\n",
       "        text-align: right;\n",
       "    }\n",
       "</style>\n",
       "<table border=\"1\" class=\"dataframe\">\n",
       "  <thead>\n",
       "    <tr style=\"text-align: right;\">\n",
       "      <th></th>\n",
       "      <th>transcript</th>\n",
       "      <th>position</th>\n",
       "      <th>mean_scores_Hep</th>\n",
       "      <th>pred_mean_Hep</th>\n",
       "    </tr>\n",
       "  </thead>\n",
       "  <tbody>\n",
       "    <tr>\n",
       "      <th>9</th>\n",
       "      <td>ENST00000373020</td>\n",
       "      <td>936</td>\n",
       "      <td>0.381818</td>\n",
       "      <td>1</td>\n",
       "    </tr>\n",
       "    <tr>\n",
       "      <th>30</th>\n",
       "      <td>ENST00000371582</td>\n",
       "      <td>875</td>\n",
       "      <td>0.515909</td>\n",
       "      <td>1</td>\n",
       "    </tr>\n",
       "    <tr>\n",
       "      <th>41</th>\n",
       "      <td>ENST00000002165</td>\n",
       "      <td>1445</td>\n",
       "      <td>0.368182</td>\n",
       "      <td>1</td>\n",
       "    </tr>\n",
       "    <tr>\n",
       "      <th>58</th>\n",
       "      <td>ENST00000002165</td>\n",
       "      <td>589</td>\n",
       "      <td>0.543182</td>\n",
       "      <td>1</td>\n",
       "    </tr>\n",
       "    <tr>\n",
       "      <th>139</th>\n",
       "      <td>ENST00000226299</td>\n",
       "      <td>1874</td>\n",
       "      <td>0.365909</td>\n",
       "      <td>1</td>\n",
       "    </tr>\n",
       "  </tbody>\n",
       "</table>\n",
       "</div>"
      ],
      "text/plain": [
       "          transcript  position  mean_scores_Hep  pred_mean_Hep\n",
       "9    ENST00000373020       936         0.381818              1\n",
       "30   ENST00000371582       875         0.515909              1\n",
       "41   ENST00000002165      1445         0.368182              1\n",
       "58   ENST00000002165       589         0.543182              1\n",
       "139  ENST00000226299      1874         0.365909              1"
      ]
     },
     "execution_count": 9,
     "metadata": {},
     "output_type": "execute_result"
    }
   ],
   "source": [
    "mergeG2 = hepG2_rep5_run2.merge(hepG2_rep6_run1, on = ['transcript','position'],how='inner')\n",
    "mergeG2['mean_scores_Hep'] = mergeG2[['score_x', 'score_y']].mean(axis=1)\n",
    "mergeG2[\"pred_mean_Hep\"] = mergeG2.mean_scores_Hep.map(lambda x:1 if x>=0.35 else 0)\n",
    "mergeG2 = mergeG2.drop(columns = ['score_x','score_y'],axis=1)\n",
    "mergeG2 = mergeG2[mergeG2[\"pred_mean_Hep\"] == 1]\n",
    "mergeG2.head()"
   ]
  },
  {
   "cell_type": "markdown",
   "metadata": {},
   "source": [
    "# K562"
   ]
  },
  {
   "cell_type": "code",
   "execution_count": 10,
   "metadata": {},
   "outputs": [],
   "source": [
    "k562_rep4_run1 = pd.read_csv(\"k562_rep4_run1_prediction.csv\")\n",
    "k562_rep5_run1 = pd.read_csv(\"k562_rep5_run1_prediction.csv\")\n",
    "k562_rep6_run1 = pd.read_csv(\"k562_rep6_run1_prediction.csv\")"
   ]
  },
  {
   "cell_type": "code",
   "execution_count": 11,
   "metadata": {},
   "outputs": [
    {
     "data": {
      "text/html": [
       "<div>\n",
       "<style scoped>\n",
       "    .dataframe tbody tr th:only-of-type {\n",
       "        vertical-align: middle;\n",
       "    }\n",
       "\n",
       "    .dataframe tbody tr th {\n",
       "        vertical-align: top;\n",
       "    }\n",
       "\n",
       "    .dataframe thead th {\n",
       "        text-align: right;\n",
       "    }\n",
       "</style>\n",
       "<table border=\"1\" class=\"dataframe\">\n",
       "  <thead>\n",
       "    <tr style=\"text-align: right;\">\n",
       "      <th></th>\n",
       "      <th>transcript</th>\n",
       "      <th>position</th>\n",
       "      <th>mean_scores_K562</th>\n",
       "      <th>pred_mean_K562</th>\n",
       "    </tr>\n",
       "  </thead>\n",
       "  <tbody>\n",
       "    <tr>\n",
       "      <th>17</th>\n",
       "      <td>ENST00000371582</td>\n",
       "      <td>875</td>\n",
       "      <td>0.353030</td>\n",
       "      <td>1</td>\n",
       "    </tr>\n",
       "    <tr>\n",
       "      <th>28</th>\n",
       "      <td>ENST00000002165</td>\n",
       "      <td>1445</td>\n",
       "      <td>0.398485</td>\n",
       "      <td>1</td>\n",
       "    </tr>\n",
       "    <tr>\n",
       "      <th>45</th>\n",
       "      <td>ENST00000002165</td>\n",
       "      <td>589</td>\n",
       "      <td>0.637762</td>\n",
       "      <td>1</td>\n",
       "    </tr>\n",
       "    <tr>\n",
       "      <th>227</th>\n",
       "      <td>ENST00000000412</td>\n",
       "      <td>2440</td>\n",
       "      <td>0.565152</td>\n",
       "      <td>1</td>\n",
       "    </tr>\n",
       "    <tr>\n",
       "      <th>232</th>\n",
       "      <td>ENST00000000412</td>\n",
       "      <td>2580</td>\n",
       "      <td>0.518182</td>\n",
       "      <td>1</td>\n",
       "    </tr>\n",
       "  </tbody>\n",
       "</table>\n",
       "</div>"
      ],
      "text/plain": [
       "          transcript  position  mean_scores_K562  pred_mean_K562\n",
       "17   ENST00000371582       875          0.353030               1\n",
       "28   ENST00000002165      1445          0.398485               1\n",
       "45   ENST00000002165       589          0.637762               1\n",
       "227  ENST00000000412      2440          0.565152               1\n",
       "232  ENST00000000412      2580          0.518182               1"
      ]
     },
     "execution_count": 11,
     "metadata": {},
     "output_type": "execute_result"
    }
   ],
   "source": [
    "mergek562_1 = k562_rep4_run1.merge(k562_rep5_run1, on = ['transcript','position'],how='inner')\n",
    "mergek562_2 = mergek562_1.merge(k562_rep6_run1, on = ['transcript','position'],how='inner')\n",
    "mergek562_2 = mergek562_2.rename({'score':'score_z'},axis=1)\n",
    "mergek562_2['mean_scores_K562'] = mergek562_2[['score_x', 'score_y','score_z']].mean(axis=1)\n",
    "mergek562_2[\"pred_mean_K562\"] = mergek562_2.mean_scores_K562.map(lambda x:1 if x>=0.35 else 0)\n",
    "mergek562_2 = mergek562_2.drop(columns = ['score_x','score_y','score_z'],axis=1)\n",
    "mergek562_2 = mergek562_2[mergek562_2[\"pred_mean_K562\"] == 1]\n",
    "mergek562_2.head()"
   ]
  },
  {
   "cell_type": "markdown",
   "metadata": {},
   "source": [
    "# MCF7"
   ]
  },
  {
   "cell_type": "code",
   "execution_count": 12,
   "metadata": {},
   "outputs": [],
   "source": [
    "mcf7_rep3_run1 = pd.read_csv(\"mcf7_rep3_run1_prediction.csv\")\n",
    "mcf7_rep4_run1 = pd.read_csv(\"mcf7_rep4_run1_prediction.csv\")"
   ]
  },
  {
   "cell_type": "code",
   "execution_count": 13,
   "metadata": {},
   "outputs": [
    {
     "data": {
      "text/html": [
       "<div>\n",
       "<style scoped>\n",
       "    .dataframe tbody tr th:only-of-type {\n",
       "        vertical-align: middle;\n",
       "    }\n",
       "\n",
       "    .dataframe tbody tr th {\n",
       "        vertical-align: top;\n",
       "    }\n",
       "\n",
       "    .dataframe thead th {\n",
       "        text-align: right;\n",
       "    }\n",
       "</style>\n",
       "<table border=\"1\" class=\"dataframe\">\n",
       "  <thead>\n",
       "    <tr style=\"text-align: right;\">\n",
       "      <th></th>\n",
       "      <th>transcript</th>\n",
       "      <th>position</th>\n",
       "      <th>mean_scores_MCF7</th>\n",
       "      <th>pred_mean_MCF7</th>\n",
       "    </tr>\n",
       "  </thead>\n",
       "  <tbody>\n",
       "    <tr>\n",
       "      <th>30</th>\n",
       "      <td>ENST00000371582</td>\n",
       "      <td>875</td>\n",
       "      <td>0.522727</td>\n",
       "      <td>1</td>\n",
       "    </tr>\n",
       "    <tr>\n",
       "      <th>41</th>\n",
       "      <td>ENST00000002165</td>\n",
       "      <td>1445</td>\n",
       "      <td>0.404545</td>\n",
       "      <td>1</td>\n",
       "    </tr>\n",
       "    <tr>\n",
       "      <th>58</th>\n",
       "      <td>ENST00000002165</td>\n",
       "      <td>589</td>\n",
       "      <td>0.559091</td>\n",
       "      <td>1</td>\n",
       "    </tr>\n",
       "    <tr>\n",
       "      <th>258</th>\n",
       "      <td>ENST00000000412</td>\n",
       "      <td>2440</td>\n",
       "      <td>0.559091</td>\n",
       "      <td>1</td>\n",
       "    </tr>\n",
       "    <tr>\n",
       "      <th>263</th>\n",
       "      <td>ENST00000000412</td>\n",
       "      <td>2580</td>\n",
       "      <td>0.468182</td>\n",
       "      <td>1</td>\n",
       "    </tr>\n",
       "  </tbody>\n",
       "</table>\n",
       "</div>"
      ],
      "text/plain": [
       "          transcript  position  mean_scores_MCF7  pred_mean_MCF7\n",
       "30   ENST00000371582       875          0.522727               1\n",
       "41   ENST00000002165      1445          0.404545               1\n",
       "58   ENST00000002165       589          0.559091               1\n",
       "258  ENST00000000412      2440          0.559091               1\n",
       "263  ENST00000000412      2580          0.468182               1"
      ]
     },
     "execution_count": 13,
     "metadata": {},
     "output_type": "execute_result"
    }
   ],
   "source": [
    "mergemcf7 = mcf7_rep3_run1.merge(mcf7_rep4_run1, on = ['transcript','position'],how='inner')\n",
    "mergemcf7['mean_scores_MCF7'] = mergemcf7[['score_x', 'score_y']].mean(axis=1)\n",
    "mergemcf7[\"pred_mean_MCF7\"] = mergemcf7.mean_scores_MCF7.map(lambda x:1 if x>=0.35 else 0)\n",
    "mergemcf7 = mergemcf7.drop(columns = ['score_x','score_y'],axis=1)\n",
    "mergemcf7 = mergemcf7[mergemcf7[\"pred_mean_MCF7\"] == 1]\n",
    "mergemcf7.head()"
   ]
  },
  {
   "cell_type": "code",
   "execution_count": 14,
   "metadata": {},
   "outputs": [],
   "source": [
    "all_cells = [merge1, mergeG2, mergeHct2, mergek562_2, mergemcf7]\n",
    "all_cells_df = pd.concat(all_cells, axis=1)"
   ]
  },
  {
   "cell_type": "markdown",
   "metadata": {},
   "source": [
    "# A549 vs Others"
   ]
  },
  {
   "cell_type": "code",
   "execution_count": 15,
   "metadata": {},
   "outputs": [
    {
     "data": {
      "text/plain": [
       "139"
      ]
     },
     "execution_count": 15,
     "metadata": {},
     "output_type": "execute_result"
    }
   ],
   "source": [
    "##compare how many number of cancer cell with same transcript and position in A549 and Hep\n",
    "A549_with_Hep_cell = [merge1,mergeG2]\n",
    "A549_with_Hep_cell_df = pd.concat(A549_with_Hep_cell,axis=1)\n",
    "A549_with_Hep_cell_df = A549_with_Hep_cell_df.dropna()\n",
    "len(A549_with_Hep_cell_df)"
   ]
  },
  {
   "cell_type": "code",
   "execution_count": 16,
   "metadata": {},
   "outputs": [
    {
     "data": {
      "text/plain": [
       "183"
      ]
     },
     "execution_count": 16,
     "metadata": {},
     "output_type": "execute_result"
    }
   ],
   "source": [
    "A549_with_Hct_cell = [merge1,mergeHct2]\n",
    "A549_with_Hct_cell_df = pd.concat(A549_with_Hct_cell,axis=1)\n",
    "A549_with_Hct_cell_df = A549_with_Hct_cell_df.dropna()\n",
    "len(A549_with_Hct_cell_df)"
   ]
  },
  {
   "cell_type": "code",
   "execution_count": 17,
   "metadata": {},
   "outputs": [
    {
     "data": {
      "text/plain": [
       "87"
      ]
     },
     "execution_count": 17,
     "metadata": {},
     "output_type": "execute_result"
    }
   ],
   "source": [
    "A549_with_K562_cell = [merge1,mergek562_2]\n",
    "A549_with_K562_cell_df = pd.concat(A549_with_K562_cell,axis=1)\n",
    "A549_with_K562_cell_df = A549_with_K562_cell_df.dropna()\n",
    "len(A549_with_K562_cell_df)"
   ]
  },
  {
   "cell_type": "code",
   "execution_count": 18,
   "metadata": {},
   "outputs": [
    {
     "data": {
      "text/plain": [
       "166"
      ]
     },
     "execution_count": 18,
     "metadata": {},
     "output_type": "execute_result"
    }
   ],
   "source": [
    "A549_with_MCF7_cell = [merge1,mergemcf7]\n",
    "A549_with_MCF7_cell_df = pd.concat(A549_with_MCF7_cell,axis=1)\n",
    "A549_with_MCF7_cell_df = A549_with_MCF7_cell_df.dropna()\n",
    "len(A549_with_MCF7_cell_df)"
   ]
  },
  {
   "cell_type": "code",
   "execution_count": 29,
   "metadata": {},
   "outputs": [
    {
     "data": {
      "image/png": "[encoded data removed]",
      "text/plain": [
       "<Figure size 360x360 with 1 Axes>"
      ]
     },
     "metadata": {
      "needs_background": "light"
     },
     "output_type": "display_data"
    }
   ],
   "source": [
    "ind_a549 = [\"HCT116\", \"HEPG2\", \"K562\", \"MCF7\"]\n",
    "x_pos = np.arange(4)\n",
    "a549_ls = [len(A549_with_Hep_cell_df), len(A549_with_Hct_cell_df),\n",
    "            len(A549_with_K562_cell_df), len(A549_with_MCF7_cell_df)]\n",
    "\n",
    "\n",
    "colour_scheme = {\"A549\": \"#f75f4f\", \"HCT116\": \"#efb94b\", \"HEPG2\": \"#6fa8dc\", \"K562\": \"#93c47d\", \"MCF7\": \"#c27ba0ff\"}\n",
    "plt.figure(figsize = (5, 5))\n",
    "plt.bar(x_pos, a549_ls, color = [colour_scheme[\"HCT116\"], colour_scheme[\"HEPG2\"], colour_scheme[\"K562\"], colour_scheme[\"MCF7\"]])\n",
    "\n",
    "plt.xticks(x_pos, ind_a549)\n",
    "plt.ylabel(\"Active Transcripts\")\n",
    "plt.ylim([0, 250])\n",
    "plt.gca().xaxis.set_tick_params(rotation = 0)\n",
    "plt.title(\"A549 Comparison with Other Cell Lines\")\n",
    "\n",
    "for index, value in enumerate(a549_ls):\n",
    "    plt.text(index - 0.1, value + 10, str(value))\n",
    " \n",
    "plt.show()"
   ]
  },
  {
   "cell_type": "markdown",
   "metadata": {},
   "source": [
    "# HCT vs Others"
   ]
  },
  {
   "cell_type": "code",
   "execution_count": 34,
   "metadata": {},
   "outputs": [
    {
     "data": {
      "text/plain": [
       "183"
      ]
     },
     "execution_count": 34,
     "metadata": {},
     "output_type": "execute_result"
    }
   ],
   "source": [
    "A549_with_Hct_cell = [merge1,mergeHct2]\n",
    "A549_with_Hct_cell_df = pd.concat(A549_with_Hct_cell,axis=1)\n",
    "A549_with_Hct_cell_df = A549_with_Hct_cell_df.dropna()\n",
    "len(A549_with_Hct_cell_df)"
   ]
  },
  {
   "cell_type": "code",
   "execution_count": 30,
   "metadata": {},
   "outputs": [
    {
     "data": {
      "text/plain": [
       "155"
      ]
     },
     "execution_count": 30,
     "metadata": {},
     "output_type": "execute_result"
    }
   ],
   "source": [
    "Hct_with_Hep = [mergeHct2,mergeG2]\n",
    "Hct_with_Hep_df = pd.concat(Hct_with_Hep,axis=1)\n",
    "Hct_with_Hep_df = Hct_with_Hep_df.dropna()\n",
    "len(Hct_with_Hep_df)"
   ]
  },
  {
   "cell_type": "code",
   "execution_count": 32,
   "metadata": {},
   "outputs": [
    {
     "data": {
      "text/plain": [
       "2"
      ]
     },
     "execution_count": 32,
     "metadata": {},
     "output_type": "execute_result"
    }
   ],
   "source": [
    "Hct_with_K562 = [mergeHct2,mergek562_2]\n",
    "Hct_with_K562_df = pd.concat(Hct_with_K562,axis=1)\n",
    "Hct_with_K562_df = Hct_with_K562_df.dropna()\n",
    "len(Hct_with_K562)"
   ]
  },
  {
   "cell_type": "code",
   "execution_count": 33,
   "metadata": {},
   "outputs": [
    {
     "data": {
      "text/plain": [
       "199"
      ]
     },
     "execution_count": 33,
     "metadata": {},
     "output_type": "execute_result"
    }
   ],
   "source": [
    "Hct_with_MCF7 = [mergeHct2,mergemcf7]\n",
    "Hct_with_MCF7_df = pd.concat(Hct_with_MCF7,axis=1)\n",
    "Hct_with_MCF7_df = Hct_with_MCF7_df.dropna()\n",
    "len(Hct_with_MCF7_df)"
   ]
  },
  {
   "cell_type": "code",
   "execution_count": 35,
   "metadata": {},
   "outputs": [
    {
     "data": {
      "image/png": "[encoded data removed]",
      "text/plain": [
       "<Figure size 360x360 with 1 Axes>"
      ]
     },
     "metadata": {
      "needs_background": "light"
     },
     "output_type": "display_data"
    }
   ],
   "source": [
    "ind_hct = [\"A549\", \"HEPG2\", \"K562\", \"MCF7\"]\n",
    "x_pos = np.arange(4)\n",
    "hct_ls = [len(A549_with_Hct_cell_df), len(Hct_with_Hep_df),\n",
    "            len(Hct_with_K562), len(Hct_with_MCF7_df)]\n",
    "\n",
    "\n",
    "colour_scheme = {\"A549\": \"#f75f4f\", \"HCT116\": \"#efb94b\", \"HEPG2\": \"#6fa8dc\", \"K562\": \"#93c47d\", \"MCF7\": \"#c27ba0ff\"}\n",
    "plt.figure(figsize = (5, 5))\n",
    "plt.bar(x_pos, hct_ls, color = [colour_scheme[\"A549\"], colour_scheme[\"HEPG2\"], colour_scheme[\"K562\"], colour_scheme[\"MCF7\"]])\n",
    "\n",
    "plt.xticks(x_pos, ind_hct)\n",
    "plt.ylabel(\"Active Transcripts\")\n",
    "plt.ylim([0, 250])\n",
    "plt.gca().xaxis.set_tick_params(rotation = 0)\n",
    "plt.title(\"HCT116 Comparison with Other Cell Lines\")\n",
    "\n",
    "for index, value in enumerate(hct_ls):\n",
    "    plt.text(index - 0.1, value + 10, str(value))\n",
    " \n",
    "plt.show()"
   ]
  },
  {
   "cell_type": "markdown",
   "metadata": {},
   "source": [
    "# HEPG2 vs Others"
   ]
  },
  {
   "cell_type": "code",
   "execution_count": 36,
   "metadata": {},
   "outputs": [
    {
     "data": {
      "text/plain": [
       "139"
      ]
     },
     "execution_count": 36,
     "metadata": {},
     "output_type": "execute_result"
    }
   ],
   "source": [
    "##time to compare for HepG2\n",
    "A549_with_Hep_cell = [merge1,mergeG2]\n",
    "A549_with_Hep_cell_df = pd.concat(A549_with_Hep_cell,axis=1)\n",
    "A549_with_Hep_cell_df = A549_with_Hep_cell_df.dropna()\n",
    "len(A549_with_Hep_cell_df)"
   ]
  },
  {
   "cell_type": "code",
   "execution_count": 37,
   "metadata": {},
   "outputs": [
    {
     "data": {
      "text/plain": [
       "155"
      ]
     },
     "execution_count": 37,
     "metadata": {},
     "output_type": "execute_result"
    }
   ],
   "source": [
    "Hct_with_Hep = [mergeHct2,mergeG2]\n",
    "Hct_with_Hep_df = pd.concat(Hct_with_Hep,axis=1)\n",
    "Hct_with_Hep_df = Hct_with_Hep_df.dropna()\n",
    "len(Hct_with_Hep_df)"
   ]
  },
  {
   "cell_type": "code",
   "execution_count": 38,
   "metadata": {},
   "outputs": [
    {
     "data": {
      "text/plain": [
       "103"
      ]
     },
     "execution_count": 38,
     "metadata": {},
     "output_type": "execute_result"
    }
   ],
   "source": [
    "Hep_with_K562 = [mergeG2,mergek562_2]\n",
    "Hep_with_K562_df = pd.concat(Hep_with_K562,axis=1)\n",
    "Hep_with_K562_df = Hep_with_K562_df.dropna()\n",
    "len(Hep_with_K562_df)"
   ]
  },
  {
   "cell_type": "code",
   "execution_count": 39,
   "metadata": {},
   "outputs": [
    {
     "data": {
      "text/plain": [
       "167"
      ]
     },
     "execution_count": 39,
     "metadata": {},
     "output_type": "execute_result"
    }
   ],
   "source": [
    "Hep_with_MCF7 = [mergeG2,mergemcf7]\n",
    "Hep_with_MCF7_df = pd.concat(Hep_with_MCF7,axis=1)\n",
    "Hep_with_MCF7_df = Hep_with_MCF7_df.dropna()\n",
    "len(Hep_with_MCF7_df)"
   ]
  },
  {
   "cell_type": "code",
   "execution_count": 40,
   "metadata": {},
   "outputs": [
    {
     "data": {
      "image/png": "[encoded data removed]",
      "text/plain": [
       "<Figure size 360x360 with 1 Axes>"
      ]
     },
     "metadata": {
      "needs_background": "light"
     },
     "output_type": "display_data"
    }
   ],
   "source": [
    "ind_hep = [\"A549\", \"HCT116\", \"K562\", \"MCF7\"]\n",
    "x_pos = np.arange(4)\n",
    "hep_ls = [len(A549_with_Hep_cell_df), len(Hct_with_Hep_df),\n",
    "            len(Hep_with_K562_df), len(Hep_with_MCF7_df)]\n",
    "\n",
    "\n",
    "colour_scheme = {\"A549\": \"#f75f4f\", \"HCT116\": \"#efb94b\", \"HEPG2\": \"#6fa8dc\", \"K562\": \"#93c47d\", \"MCF7\": \"#c27ba0ff\"}\n",
    "plt.figure(figsize = (5, 5))\n",
    "plt.bar(x_pos, hep_ls, color = [colour_scheme[\"A549\"], colour_scheme[\"HCT116\"], colour_scheme[\"K562\"], colour_scheme[\"MCF7\"]])\n",
    "\n",
    "plt.xticks(x_pos, ind_hep)\n",
    "plt.ylabel(\"Active Transcripts\")\n",
    "plt.ylim([0, 250])\n",
    "plt.gca().xaxis.set_tick_params(rotation = 0)\n",
    "plt.title(\"HEPG2 Comparison with Other Cell Lines\")\n",
    "\n",
    "for index, value in enumerate(hep_ls):\n",
    "    plt.text(index - 0.1, value + 10, str(value))\n",
    " \n",
    "plt.show()"
   ]
  },
  {
   "cell_type": "markdown",
   "metadata": {},
   "source": [
    "# K562 vs Others"
   ]
  },
  {
   "cell_type": "code",
   "execution_count": 41,
   "metadata": {},
   "outputs": [
    {
     "data": {
      "text/plain": [
       "87"
      ]
     },
     "execution_count": 41,
     "metadata": {},
     "output_type": "execute_result"
    }
   ],
   "source": [
    "##K562 comparison\n",
    "A549_with_K562_cell = [merge1,mergek562_2]\n",
    "A549_with_K562_cell_df = pd.concat(A549_with_K562_cell,axis=1)\n",
    "A549_with_K562_cell_df = A549_with_K562_cell_df.dropna()\n",
    "len(A549_with_K562_cell_df)"
   ]
  },
  {
   "cell_type": "code",
   "execution_count": 42,
   "metadata": {},
   "outputs": [
    {
     "data": {
      "text/plain": [
       "109"
      ]
     },
     "execution_count": 42,
     "metadata": {},
     "output_type": "execute_result"
    }
   ],
   "source": [
    "Hct_with_K562 = [mergeHct2,mergek562_2]\n",
    "Hct_with_K562_df = pd.concat(Hct_with_K562,axis=1)\n",
    "Hct_with_K562_df = Hct_with_K562_df.dropna()\n",
    "len(Hct_with_K562_df)"
   ]
  },
  {
   "cell_type": "code",
   "execution_count": 43,
   "metadata": {},
   "outputs": [
    {
     "data": {
      "text/plain": [
       "103"
      ]
     },
     "execution_count": 43,
     "metadata": {},
     "output_type": "execute_result"
    }
   ],
   "source": [
    "Hep_with_K562 = [mergeG2,mergek562_2]\n",
    "Hep_with_K562_df = pd.concat(Hep_with_K562,axis=1)\n",
    "Hep_with_K562_df = Hep_with_K562_df.dropna()\n",
    "len(Hep_with_K562_df)"
   ]
  },
  {
   "cell_type": "code",
   "execution_count": 44,
   "metadata": {},
   "outputs": [
    {
     "data": {
      "text/plain": [
       "117"
      ]
     },
     "execution_count": 44,
     "metadata": {},
     "output_type": "execute_result"
    }
   ],
   "source": [
    "K562_with_MCF7 = [mergek562_2,mergemcf7]\n",
    "K562_with_MCF7_df = pd.concat(K562_with_MCF7,axis=1)\n",
    "K562_with_MCF7_df = K562_with_MCF7_df.dropna()\n",
    "len(K562_with_MCF7_df)"
   ]
  },
  {
   "cell_type": "code",
   "execution_count": 45,
   "metadata": {},
   "outputs": [
    {
     "data": {
      "image/png": "[encoded data removed]",
      "text/plain": [
       "<Figure size 360x360 with 1 Axes>"
      ]
     },
     "metadata": {
      "needs_background": "light"
     },
     "output_type": "display_data"
    }
   ],
   "source": [
    "ind_k562 = [\"A549\", \"HCT116\", \"HEPG2\", \"MCF7\"]\n",
    "x_pos = np.arange(4)\n",
    "k562_ls = [len(A549_with_K562_cell_df), len(Hct_with_K562_df),\n",
    "            len(Hep_with_K562_df), len(K562_with_MCF7_df)]\n",
    "\n",
    "\n",
    "colour_scheme = {\"A549\": \"#f75f4f\", \"HCT116\": \"#efb94b\", \"HEPG2\": \"#6fa8dc\", \"K562\": \"#93c47d\", \"MCF7\": \"#c27ba0ff\"}\n",
    "plt.figure(figsize = (5, 5))\n",
    "plt.bar(x_pos, hep_ls, color = [colour_scheme[\"A549\"], colour_scheme[\"HCT116\"], colour_scheme[\"HEPG2\"], colour_scheme[\"MCF7\"]])\n",
    "\n",
    "plt.xticks(x_pos, ind_hep)\n",
    "plt.ylabel(\"Active Transcripts\")\n",
    "plt.ylim([0, 250])\n",
    "plt.gca().xaxis.set_tick_params(rotation = 0)\n",
    "plt.title(\"K562 Comparison with Other Cell Lines\")\n",
    "\n",
    "for index, value in enumerate(hep_ls):\n",
    "    plt.text(index - 0.1, value + 10, str(value))\n",
    " \n",
    "plt.show()"
   ]
  },
  {
   "cell_type": "markdown",
   "metadata": {},
   "source": [
    "# MCF7 vs Others"
   ]
  },
  {
   "cell_type": "code",
   "execution_count": 46,
   "metadata": {},
   "outputs": [
    {
     "data": {
      "text/plain": [
       "166"
      ]
     },
     "execution_count": 46,
     "metadata": {},
     "output_type": "execute_result"
    }
   ],
   "source": [
    "##MCF7 comparison\n",
    "A549_with_MCF7_cell = [merge1,mergemcf7]\n",
    "A549_with_MCF7_cell_df = pd.concat(A549_with_MCF7_cell,axis=1)\n",
    "A549_with_MCF7_cell_df = A549_with_MCF7_cell_df.dropna()\n",
    "len(A549_with_MCF7_cell_df)"
   ]
  },
  {
   "cell_type": "code",
   "execution_count": 47,
   "metadata": {},
   "outputs": [
    {
     "data": {
      "text/plain": [
       "199"
      ]
     },
     "execution_count": 47,
     "metadata": {},
     "output_type": "execute_result"
    }
   ],
   "source": [
    "Hct_with_MCF7 = [mergeHct2,mergemcf7]\n",
    "Hct_with_MCF7_df = pd.concat(Hct_with_MCF7,axis=1)\n",
    "Hct_with_MCF7_df = Hct_with_MCF7_df.dropna()\n",
    "len(Hct_with_MCF7_df)"
   ]
  },
  {
   "cell_type": "code",
   "execution_count": 48,
   "metadata": {},
   "outputs": [
    {
     "data": {
      "text/plain": [
       "167"
      ]
     },
     "execution_count": 48,
     "metadata": {},
     "output_type": "execute_result"
    }
   ],
   "source": [
    "Hep_with_MCF7 = [mergeG2,mergemcf7]\n",
    "Hep_with_MCF7_df = pd.concat(Hep_with_MCF7,axis=1)\n",
    "Hep_with_MCF7_df = Hep_with_MCF7_df.dropna()\n",
    "len(Hep_with_MCF7_df)"
   ]
  },
  {
   "cell_type": "code",
   "execution_count": 49,
   "metadata": {},
   "outputs": [
    {
     "data": {
      "text/plain": [
       "117"
      ]
     },
     "execution_count": 49,
     "metadata": {},
     "output_type": "execute_result"
    }
   ],
   "source": [
    "K562_with_MCF7 = [mergek562_2,mergemcf7]\n",
    "K562_with_MCF7_df = pd.concat(K562_with_MCF7,axis=1)\n",
    "K562_with_MCF7_df = K562_with_MCF7_df.dropna()\n",
    "len(K562_with_MCF7_df)"
   ]
  },
  {
   "cell_type": "code",
   "execution_count": 50,
   "metadata": {},
   "outputs": [
    {
     "data": {
      "image/png": "[encoded data removed]",
      "text/plain": [
       "<Figure size 360x360 with 1 Axes>"
      ]
     },
     "metadata": {
      "needs_background": "light"
     },
     "output_type": "display_data"
    }
   ],
   "source": [
    "ind_mcf7 = [\"A549\", \"HCT116\", \"HEPG2\", \"K562\"]\n",
    "x_pos = np.arange(4)\n",
    "mcf7_ls = [len(A549_with_MCF7_cell_df), len(Hct_with_MCF7_df),\n",
    "            len(Hep_with_MCF7_df), len(K562_with_MCF7_df)]\n",
    "\n",
    "\n",
    "colour_scheme = {\"A549\": \"#f75f4f\", \"HCT116\": \"#efb94b\", \"HEPG2\": \"#6fa8dc\", \"K562\": \"#93c47d\", \"MCF7\": \"#c27ba0ff\"}\n",
    "plt.figure(figsize = (5, 5))\n",
    "plt.bar(x_pos, mcf7_ls, color = [colour_scheme[\"A549\"], colour_scheme[\"HCT116\"], colour_scheme[\"HEPG2\"], colour_scheme[\"K562\"]])\n",
    "\n",
    "plt.xticks(x_pos, ind_mcf7)\n",
    "plt.ylabel(\"Active Transcripts\")\n",
    "plt.ylim([0, 250])\n",
    "plt.gca().xaxis.set_tick_params(rotation = 0)\n",
    "plt.title(\"MCF7 Comparison with Other Cell Lines\")\n",
    "\n",
    "for index, value in enumerate(mcf7_ls):\n",
    "    plt.text(index - 0.1, value + 10, str(value))\n",
    " \n",
    "plt.show()"
   ]
  }
 ],
 "metadata": {
  "kernelspec": {
   "display_name": "Python 3.8.10 64-bit",
   "language": "python",
   "name": "python3"
  },
  "language_info": {
   "codemirror_mode": {
    "name": "ipython",
    "version": 3
   },
   "file_extension": ".py",
   "mimetype": "text/x-python",
   "name": "python",
   "nbconvert_exporter": "python",
   "pygments_lexer": "ipython3",
   "version": "3.8.10"
  },
  "orig_nbformat": 4,
  "vscode": {
   "interpreter": {
    "hash": "aee8b7b246df8f9039afb4144a1f6fd8d2ca17a180786b69acc140d282b71a49"
   }
  }
 },
 "nbformat": 4,
 "nbformat_minor": 2
}
