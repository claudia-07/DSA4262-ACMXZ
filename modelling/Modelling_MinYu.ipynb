{
 "cells": [
  {
   "cell_type": "markdown",
   "metadata": {},
   "source": [
    "# Importing Libraries"
   ]
  },
  {
   "cell_type": "code",
   "execution_count": 1,
   "metadata": {},
   "outputs": [
    {
     "name": "stdout",
     "output_type": "stream",
     "text": [
      "/Users/yuanqi/Desktop/DSA4262-ACMXZ\n"
     ]
    }
   ],
   "source": [
    "%cd .."
   ]
  },
  {
   "cell_type": "code",
   "execution_count": 57,
   "metadata": {},
   "outputs": [],
   "source": [
    "import pandas as pd\n",
    "import numpy as np\n",
    "import os\n",
    "\n",
    "#from util.model import (modelling)"
   ]
  },
  {
   "cell_type": "markdown",
   "metadata": {},
   "source": [
    "# Loading Data"
   ]
  },
  {
   "cell_type": "markdown",
   "metadata": {},
   "source": [
    "### Loading parquets"
   ]
  },
  {
   "cell_type": "code",
   "execution_count": 74,
   "metadata": {},
   "outputs": [],
   "source": [
    "X_train_path = \"../data/preprocessed_data/training/X_train_enc.parquet\" ## to edit file path\n",
    "X_train = pd.read_parquet(X_train_path)\n",
    "\n",
    "y_train_path = \"../data/preprocessed_data/training/y_train.parquet\"\n",
    "y_train = pd.read_parquet(y_train_path)\n",
    "y_train = pd.DataFrame(y_train['label'].astype(int))"
   ]
  },
  {
   "cell_type": "code",
   "execution_count": 61,
   "metadata": {},
   "outputs": [],
   "source": [
    "## Load in Test Set\n",
    "#X_test_path = \"../data/preprocessed_data/test/X_test_enc.parquet\"\n",
    "X_test_path = \"../data/preprocessed_data/test/X_test_enc.parquet\"\n",
    "X_test = pd.read_parquet(X_test_path)\n",
    "\n",
    "y_test_path = \"../data/preprocessed_data/test/y_test.parquet\"\n",
    "y_test = pd.read_parquet(y_test_path)\n",
    "y_test = pd.DataFrame(y_test['label'].astype(int)) ## convert labels to int for roc and auc calculation\n",
    "\n",
    "## Load in Validation Set\n",
    "X_val_path = \"../data/preprocessed_data/validation/X_val_enc.parquet\"\n",
    "X_val = pd.read_parquet(X_val_path)\n",
    "\n",
    "y_val_path = \"../data/preprocessed_data/validation/y_val.parquet\"\n",
    "y_val = pd.read_parquet(y_val_path)\n",
    "y_val = pd.DataFrame(y_val['label'].astype(int))"
   ]
  },
  {
   "cell_type": "markdown",
   "metadata": {},
   "source": [
    "# Modelling"
   ]
  },
  {
   "cell_type": "code",
   "execution_count": 70,
   "metadata": {},
   "outputs": [],
   "source": [
    "#df_model = Modelling(X_train, y_train, X_val, y_val, df_val)\n",
    "df_model = Modelling(X_train, y_train.values.ravel(), X_test_1, y_test.values.ravel(), df_val_mean)"
   ]
  },
  {
   "cell_type": "code",
   "execution_count": null,
   "metadata": {},
   "outputs": [],
   "source": [
    "df_model.modelling_lightgbm()"
   ]
  },
  {
   "cell_type": "code",
   "execution_count": null,
   "metadata": {},
   "outputs": [],
   "source": [
    "import lightgbm as lgb\n",
    "model = lgb.LGBMClassifier(learning_rate=0.14048611339776612, max_depth=3,\n",
    "               min_child_weight=8.0, n_estimators=165, num_leaves=48,\n",
    "               random_state=42, reg_alpha=1.3, reg_lambda=1.425462163056115,\n",
    "               scale_pos_weight=5, verbosity=1)\n",
    "model.fit(X_train_25,y_train.values.ravel(),eval_set=[(X_test_25,y_test.values.ravel()),(X_train_25,y_train.values.ravel())],eval_metric='logloss')"
   ]
  },
  {
   "cell_type": "code",
   "execution_count": 100,
   "metadata": {},
   "outputs": [
    {
     "name": "stdout",
     "output_type": "stream",
     "text": [
      "Training accuracy 0.8146\n",
      "Testing accuracy 0.9362\n"
     ]
    }
   ],
   "source": [
    "print('Training accuracy {:.4f}'.format(model.score(X_train,y_train)))\n",
    "print('Testing accuracy {:.4f}'.format(model.score(X_test_1,y_test)))"
   ]
  },
  {
   "cell_type": "markdown",
   "metadata": {},
   "source": [
    "## Using Claudia's Function"
   ]
  },
  {
   "cell_type": "markdown",
   "metadata": {},
   "source": [
    "re-tune lightgbm model using the selected features from PCA and RFE"
   ]
  },
  {
   "cell_type": "code",
   "execution_count": 62,
   "metadata": {},
   "outputs": [],
   "source": [
    "import pandas as pd\n",
    "import numpy as mp\n",
    "from sklearn import preprocessing\n",
    "from sklearn import metrics\n",
    "from sklearn.model_selection import train_test_split\n",
    "from sklearn.metrics import confusion_matrix, roc_auc_score, roc_curve, auc, precision_recall_curve, auc\n",
    "import statsmodels.api as sm\n",
    "import matplotlib.pyplot as plt\n",
    "\n",
    "import lightgbm as lgb"
   ]
  },
  {
   "cell_type": "code",
   "execution_count": 90,
   "metadata": {},
   "outputs": [],
   "source": [
    "def lgbmodel(x_train, y_train, x_val, y_val, x_test, y_test, variable):\n",
    "    \n",
    "    ## fit lgbm classifier on training data\n",
    "    # model = lgb.LGBMClassifier(learning_rate=0.14048611339776612, max_depth=3,\n",
    "    #            min_child_weight=8.0, n_estimators=165, num_leaves=48,\n",
    "    #            random_state=42, reg_alpha=1.3, reg_lambda=1.425462163056115,\n",
    "            #    scale_pos_weight=5, verbosity=1)\n",
    "\n",
    "    model = lgb.LGBMClassifier(learning_rate=0.14048611339776612, max_depth=18,\n",
    "               min_child_weight=10.0, n_estimators=135, num_leaves=185,\n",
    "               random_state=42, reg_alpha=0.1, reg_lambda=3,\n",
    "               scale_pos_weight=2, verbosity=1, min_data_in_leaf = 20, lambda_l2 = 1, lambda_l1 = 0)\n",
    "           \n",
    "    #model.fit(x_train, y_train)\n",
    "    model.fit(x_train,y_train,eval_set=[(x_test,y_test),(x_train,y_train)],eval_metric='logloss')\n",
    "\n",
    "    ## predicting validation set result and calculating accuracy\n",
    "    y_val_pred = model.predict(x_val)\n",
    "    print('Accuracy of logistic regression classifier on validation set using {}: {:.2f}'.format(variable, model.score(x_val, y_val)))\n",
    "\n",
    "    ## predicting test set result and calculating accuracy\n",
    "    y_test_pred = model.predict(x_test)\n",
    "    print('Accuracy of logistic regression classifier on test set using {}: {:.2f}'.format(variable, model.score(x_test, y_test)))\n",
    "\n",
    "    ## define metrics for roc\n",
    "    y_test_pred_proba = model.predict_proba(x_test)[:,1]\n",
    "    fpr, tpr, thresholds = roc_curve(y_test, y_test_pred_proba)\n",
    "    mlp_roc_auc = roc_auc_score(y_test, y_test_pred_proba)\n",
    "    # fpr, tpr, thresholds = roc_curve(y_test, y_test_pred_proba, pos_label=1)\n",
    "    print('auc: ', auc(fpr, tpr))   \n",
    "    # calculate the precision-recall auc\n",
    "    precision, recall, _ = precision_recall_curve(y_test, y_test_pred_proba)\n",
    "    auc_score = auc(recall, precision)\n",
    "    print('PR AUC: %.3f' % auc_score)\n",
    "    \n",
    "    ## create roc curve   \n",
    "    plt.rcParams[\"figure.figsize\"] = (8,6)\n",
    "    plt.figure()\n",
    "    plt.plot(fpr, tpr, label = 'LightGBoost (area = %0.2f)' % mlp_roc_auc)\n",
    "    plt.plot([0, 1], [0, 1],'r--')\n",
    "    plt.xlim([0.0, 1.0])\n",
    "    plt.ylim([0.0, 1.05])\n",
    "    plt.xlabel('False Positive Rate')\n",
    "    plt.ylabel('True Positive Rate')\n",
    "    plt.title('Receiver operating characteristic')\n",
    "    plt.legend(loc = \"lower right\")\n",
    "    plt.show()\n",
    "\n",
    "    print(model.feature_importances_)"
   ]
  },
  {
   "cell_type": "code",
   "execution_count": 78,
   "metadata": {},
   "outputs": [],
   "source": [
    "## function for basic classification\n",
    "def lgbmodel(x_train, y_train, x_val, y_val, x_test, y_test, variable):\n",
    "    ## create classifier\n",
    "    # model = lgb.LGBMClassifier(learning_rate=0.14048611339776612, max_depth=12,\n",
    "    #            min_child_weight=8.0, n_estimators=125, num_leaves=150,\n",
    "    #            random_state=42, reg_alpha=1.5, reg_lambda=2,\n",
    "    #            scale_pos_weight=5, verbosity=1, min_data_in_leaf=25,lambda_l2=0, lambda_l1 = 1.5)\n",
    "    # model = lgb.LGBMClassifier(learning_rate=0.14048611339776612, max_depth=3,\n",
    "    #            min_child_weight=8.0, n_estimators=165, num_leaves=48,\n",
    "    #            random_state=42, reg_alpha=1.3, reg_lambda=1.425462163056115,\n",
    "    #            scale_pos_weight=5, verbosity=1)\n",
    "    # model = lgb.LGBMClassifier(learning_rate=0.14048611339776612, max_depth=21,\n",
    "    #            min_child_weight=10.0, n_estimators=100, num_leaves=90,\n",
    "    #            random_state=42, reg_alpha=1.5, reg_lambda=1.5,\n",
    "    #            scale_pos_weight=2, verbosity=1, min_data_in_leaf=30,lambda_l2=0, lambda_l1 = 0.5)\n",
    "\n",
    "    model = lgb.LGBMClassifier(learning_rate=0.14048611339776612, max_depth=12,\n",
    "               min_child_weight=4.0, n_estimators=135, num_leaves=50,\n",
    "               random_state=42, reg_alpha=1.5, reg_lambda=1.5,\n",
    "               scale_pos_weight=2, verbosity=1, min_data_in_leaf=10,lambda_l2=1, lambda_l1 = 0)\n",
    "\n",
    "    # {'scale_pos_weight': 2, 'reg_lambda': 1.5, 'reg_alpha': 1.5, 'num_leaves': 50, \n",
    "    # 'n_estimators': 135, 'min_data_in_leaf': 10, 'min_child_weight': 4.0, 'max_depth': 12, 'lambda_l2': 1, 'lambda_l1': 0}\n",
    "               \n",
    "    #model.fit(x_train, y_train)\n",
    "    model.fit(x_train,y_train,eval_set=[(x_test,y_test),(x_train,y_train)],eval_metric='logloss')\n",
    "\n",
    "    ## get validation and test predicition\n",
    "    y_val_pred = model.predict(x_val)\n",
    "    print('Accuracy of random forest classifier on validation set using {}: {:.2f}'.format(variable, metrics.accuracy_score(y_val, y_val_pred)))\n",
    "   \n",
    "    y_test_pred = model.predict(x_test)\n",
    "    print('Accuracy of random forest classifier on test set using {}: {:.2f}'.format(variable, metrics.accuracy_score(y_test, y_test_pred)))\n",
    "\n",
    "    ## define metrics for roc\n",
    "    y_test_pred_proba = model.predict_proba(x_test)[:,1]\n",
    "    fpr, tpr, thresholds = roc_curve(y_test, y_test_pred_proba)\n",
    "    rf_roc_auc = roc_auc_score(y_test, y_test_pred_proba)\n",
    "    \n",
    "    ## create roc curve  \n",
    "    plt.rcParams[\"figure.figsize\"] = (4,3)\n",
    " \n",
    "    plt.figure()\n",
    "    plt.plot(fpr, tpr, label = 'LightGBM Classifier (area = %0.2f)' % rf_roc_auc)\n",
    "    plt.plot([0, 1], [0, 1],'r--')\n",
    "    plt.xlim([0.0, 1.0])\n",
    "    plt.ylim([0.0, 1.05])\n",
    "    plt.xlabel('False Positive Rate')\n",
    "    plt.ylabel('True Positive Rate')\n",
    "    plt.title('Receiver operating characteristic')\n",
    "    plt.legend(loc = \"lower right\")\n",
    "    plt.show()\n",
    "\n",
    "    ## define metric for precision and recall\n",
    "    precision, recall, thresholds = precision_recall_curve(y_test, y_test_pred_proba)\n",
    "    auc_precision_recall = auc(recall, precision)\n",
    "\n",
    "    ## create pr curve   \n",
    "    plt.figure()\n",
    "    plt.plot(recall, precision, label = 'LightGBM Classifier (area = %0.2f)' % auc_precision_recall)\n",
    "    plt.xlim([0.0, 1.0])\n",
    "    plt.ylim([0.0, 1.05])\n",
    "    plt.xlabel('Recall')\n",
    "    plt.ylabel('Precision')\n",
    "    plt.title('Precision-Recall')\n",
    "    plt.legend(loc = \"lower right\")\n",
    "    plt.show()"
   ]
  },
  {
   "cell_type": "code",
   "execution_count": 91,
   "metadata": {},
   "outputs": [
    {
     "name": "stdout",
     "output_type": "stream",
     "text": [
      "[LightGBM] [Warning] min_data_in_leaf is set=20, min_child_samples=20 will be ignored. Current value: min_data_in_leaf=20\n",
      "[LightGBM] [Warning] lambda_l1 is set=0, reg_alpha=0.1 will be ignored. Current value: lambda_l1=0\n",
      "[LightGBM] [Warning] lambda_l2 is set=1, reg_lambda=3 will be ignored. Current value: lambda_l2=1\n",
      "[LightGBM] [Info] Number of positive: 5483, number of negative: 24923\n",
      "[LightGBM] [Warning] Auto-choosing col-wise multi-threading, the overhead of testing was 0.013275 seconds.\n",
      "You can set `force_col_wise=true` to remove the overhead.\n",
      "[LightGBM] [Info] Total Bins 14054\n",
      "[LightGBM] [Info] Number of data points in the train set: 30406, number of used features: 72\n",
      "[LightGBM] [Warning] min_data_in_leaf is set=20, min_child_samples=20 will be ignored. Current value: min_data_in_leaf=20\n",
      "[LightGBM] [Warning] lambda_l1 is set=0, reg_alpha=0.1 will be ignored. Current value: lambda_l1=0\n",
      "[LightGBM] [Warning] lambda_l2 is set=1, reg_lambda=3 will be ignored. Current value: lambda_l2=1\n",
      "[LightGBM] [Info] [binary:BoostFromScore]: pavg=0.180326 -> initscore=-1.514139\n",
      "[LightGBM] [Info] Start training from score -1.514139\n",
      "[1]\ttraining's binary_logloss: 0.40278\tvalid_0's binary_logloss: 0.25462\n",
      "[2]\ttraining's binary_logloss: 0.361613\tvalid_0's binary_logloss: 0.241722\n",
      "[3]\ttraining's binary_logloss: 0.331575\tvalid_0's binary_logloss: 0.232278\n",
      "[4]\ttraining's binary_logloss: 0.308365\tvalid_0's binary_logloss: 0.224261\n",
      "[5]\ttraining's binary_logloss: 0.28965\tvalid_0's binary_logloss: 0.218137\n",
      "[6]\ttraining's binary_logloss: 0.274011\tvalid_0's binary_logloss: 0.213105\n",
      "[7]\ttraining's binary_logloss: 0.261018\tvalid_0's binary_logloss: 0.209069\n",
      "[8]\ttraining's binary_logloss: 0.249228\tvalid_0's binary_logloss: 0.2051\n",
      "[9]\ttraining's binary_logloss: 0.238431\tvalid_0's binary_logloss: 0.201184\n",
      "[10]\ttraining's binary_logloss: 0.229643\tvalid_0's binary_logloss: 0.1987\n",
      "[11]\ttraining's binary_logloss: 0.221176\tvalid_0's binary_logloss: 0.19608\n",
      "[12]\ttraining's binary_logloss: 0.213847\tvalid_0's binary_logloss: 0.19384\n",
      "[13]\ttraining's binary_logloss: 0.206577\tvalid_0's binary_logloss: 0.191442\n",
      "[14]\ttraining's binary_logloss: 0.200129\tvalid_0's binary_logloss: 0.189527\n",
      "[15]\ttraining's binary_logloss: 0.194375\tvalid_0's binary_logloss: 0.188303\n",
      "[16]\ttraining's binary_logloss: 0.188437\tvalid_0's binary_logloss: 0.186671\n",
      "[17]\ttraining's binary_logloss: 0.183096\tvalid_0's binary_logloss: 0.185421\n",
      "[18]\ttraining's binary_logloss: 0.177731\tvalid_0's binary_logloss: 0.183429\n",
      "[19]\ttraining's binary_logloss: 0.172588\tvalid_0's binary_logloss: 0.181662\n",
      "[20]\ttraining's binary_logloss: 0.167506\tvalid_0's binary_logloss: 0.179841\n",
      "[21]\ttraining's binary_logloss: 0.162779\tvalid_0's binary_logloss: 0.177928\n",
      "[22]\ttraining's binary_logloss: 0.158408\tvalid_0's binary_logloss: 0.176475\n",
      "[23]\ttraining's binary_logloss: 0.153758\tvalid_0's binary_logloss: 0.174726\n",
      "[24]\ttraining's binary_logloss: 0.149813\tvalid_0's binary_logloss: 0.173509\n",
      "[25]\ttraining's binary_logloss: 0.145964\tvalid_0's binary_logloss: 0.172323\n",
      "[26]\ttraining's binary_logloss: 0.142177\tvalid_0's binary_logloss: 0.171165\n",
      "[27]\ttraining's binary_logloss: 0.138293\tvalid_0's binary_logloss: 0.169471\n",
      "[28]\ttraining's binary_logloss: 0.134691\tvalid_0's binary_logloss: 0.168479\n",
      "[29]\ttraining's binary_logloss: 0.131094\tvalid_0's binary_logloss: 0.167353\n",
      "[30]\ttraining's binary_logloss: 0.127672\tvalid_0's binary_logloss: 0.16624\n",
      "[LightGBM] [Warning] No further splits with positive gain, best gain: -inf\n",
      "[31]\ttraining's binary_logloss: 0.125279\tvalid_0's binary_logloss: 0.165667\n",
      "[32]\ttraining's binary_logloss: 0.122171\tvalid_0's binary_logloss: 0.164689\n",
      "[LightGBM] [Warning] No further splits with positive gain, best gain: -inf\n",
      "[33]\ttraining's binary_logloss: 0.119773\tvalid_0's binary_logloss: 0.163914\n",
      "[34]\ttraining's binary_logloss: 0.116878\tvalid_0's binary_logloss: 0.162747\n",
      "[LightGBM] [Warning] No further splits with positive gain, best gain: -inf\n",
      "[35]\ttraining's binary_logloss: 0.114527\tvalid_0's binary_logloss: 0.161925\n",
      "[36]\ttraining's binary_logloss: 0.111883\tvalid_0's binary_logloss: 0.161068\n",
      "[37]\ttraining's binary_logloss: 0.109169\tvalid_0's binary_logloss: 0.160085\n",
      "[LightGBM] [Warning] No further splits with positive gain, best gain: -inf\n",
      "[38]\ttraining's binary_logloss: 0.10662\tvalid_0's binary_logloss: 0.159489\n",
      "[LightGBM] [Warning] No further splits with positive gain, best gain: -inf\n",
      "[39]\ttraining's binary_logloss: 0.104222\tvalid_0's binary_logloss: 0.15876\n",
      "[LightGBM] [Warning] No further splits with positive gain, best gain: -inf\n",
      "[40]\ttraining's binary_logloss: 0.101942\tvalid_0's binary_logloss: 0.157881\n",
      "[41]\ttraining's binary_logloss: 0.0995369\tvalid_0's binary_logloss: 0.157151\n",
      "[LightGBM] [Warning] No further splits with positive gain, best gain: -inf\n",
      "[42]\ttraining's binary_logloss: 0.0980438\tvalid_0's binary_logloss: 0.156664\n",
      "[LightGBM] [Warning] No further splits with positive gain, best gain: -inf\n",
      "[43]\ttraining's binary_logloss: 0.0963734\tvalid_0's binary_logloss: 0.155956\n",
      "[LightGBM] [Warning] No further splits with positive gain, best gain: -inf\n",
      "[44]\ttraining's binary_logloss: 0.0951486\tvalid_0's binary_logloss: 0.155517\n",
      "[LightGBM] [Warning] No further splits with positive gain, best gain: -inf\n",
      "[45]\ttraining's binary_logloss: 0.0933204\tvalid_0's binary_logloss: 0.154822\n",
      "[LightGBM] [Warning] No further splits with positive gain, best gain: -inf\n",
      "[46]\ttraining's binary_logloss: 0.0913999\tvalid_0's binary_logloss: 0.154204\n",
      "[LightGBM] [Warning] No further splits with positive gain, best gain: -inf\n",
      "[47]\ttraining's binary_logloss: 0.0897511\tvalid_0's binary_logloss: 0.153818\n",
      "[LightGBM] [Warning] No further splits with positive gain, best gain: -inf\n",
      "[48]\ttraining's binary_logloss: 0.0876679\tvalid_0's binary_logloss: 0.15304\n",
      "[LightGBM] [Warning] No further splits with positive gain, best gain: -inf\n",
      "[49]\ttraining's binary_logloss: 0.0863543\tvalid_0's binary_logloss: 0.152594\n",
      "[LightGBM] [Warning] No further splits with positive gain, best gain: -inf\n",
      "[50]\ttraining's binary_logloss: 0.0845403\tvalid_0's binary_logloss: 0.152049\n",
      "[LightGBM] [Warning] No further splits with positive gain, best gain: -inf\n",
      "[51]\ttraining's binary_logloss: 0.0832719\tvalid_0's binary_logloss: 0.151475\n",
      "[LightGBM] [Warning] No further splits with positive gain, best gain: -inf\n",
      "[52]\ttraining's binary_logloss: 0.0815815\tvalid_0's binary_logloss: 0.150951\n",
      "[LightGBM] [Warning] No further splits with positive gain, best gain: -inf\n",
      "[53]\ttraining's binary_logloss: 0.0800672\tvalid_0's binary_logloss: 0.150623\n",
      "[LightGBM] [Warning] No further splits with positive gain, best gain: -inf\n",
      "[54]\ttraining's binary_logloss: 0.0788804\tvalid_0's binary_logloss: 0.150138\n",
      "[LightGBM] [Warning] No further splits with positive gain, best gain: -inf\n",
      "[55]\ttraining's binary_logloss: 0.0779571\tvalid_0's binary_logloss: 0.149908\n",
      "[LightGBM] [Warning] No further splits with positive gain, best gain: -inf\n",
      "[56]\ttraining's binary_logloss: 0.0769466\tvalid_0's binary_logloss: 0.149442\n",
      "[LightGBM] [Warning] No further splits with positive gain, best gain: -inf\n",
      "[57]\ttraining's binary_logloss: 0.0759934\tvalid_0's binary_logloss: 0.149205\n",
      "[LightGBM] [Warning] No further splits with positive gain, best gain: -inf\n",
      "[58]\ttraining's binary_logloss: 0.0745995\tvalid_0's binary_logloss: 0.148721\n",
      "[LightGBM] [Warning] No further splits with positive gain, best gain: -inf\n",
      "[59]\ttraining's binary_logloss: 0.0731886\tvalid_0's binary_logloss: 0.148384\n",
      "[LightGBM] [Warning] No further splits with positive gain, best gain: -inf\n",
      "[60]\ttraining's binary_logloss: 0.0722232\tvalid_0's binary_logloss: 0.148249\n",
      "[LightGBM] [Warning] No further splits with positive gain, best gain: -inf\n",
      "[61]\ttraining's binary_logloss: 0.0711329\tvalid_0's binary_logloss: 0.147965\n",
      "[LightGBM] [Warning] No further splits with positive gain, best gain: -inf\n",
      "[62]\ttraining's binary_logloss: 0.0698084\tvalid_0's binary_logloss: 0.147524\n",
      "[LightGBM] [Warning] No further splits with positive gain, best gain: -inf\n",
      "[63]\ttraining's binary_logloss: 0.0684021\tvalid_0's binary_logloss: 0.147145\n",
      "[LightGBM] [Warning] No further splits with positive gain, best gain: -inf\n",
      "[64]\ttraining's binary_logloss: 0.067349\tvalid_0's binary_logloss: 0.146896\n",
      "[LightGBM] [Warning] No further splits with positive gain, best gain: -inf\n",
      "[65]\ttraining's binary_logloss: 0.0662532\tvalid_0's binary_logloss: 0.146692\n",
      "[LightGBM] [Warning] No further splits with positive gain, best gain: -inf\n",
      "[66]\ttraining's binary_logloss: 0.0652585\tvalid_0's binary_logloss: 0.146383\n",
      "[LightGBM] [Warning] No further splits with positive gain, best gain: -inf\n",
      "[67]\ttraining's binary_logloss: 0.0646321\tvalid_0's binary_logloss: 0.146196\n",
      "[LightGBM] [Warning] No further splits with positive gain, best gain: -inf\n",
      "[68]\ttraining's binary_logloss: 0.0639887\tvalid_0's binary_logloss: 0.146006\n",
      "[LightGBM] [Warning] No further splits with positive gain, best gain: -inf\n",
      "[69]\ttraining's binary_logloss: 0.062895\tvalid_0's binary_logloss: 0.145664\n",
      "[LightGBM] [Warning] No further splits with positive gain, best gain: -inf\n",
      "[70]\ttraining's binary_logloss: 0.0617254\tvalid_0's binary_logloss: 0.145378\n",
      "[LightGBM] [Warning] No further splits with positive gain, best gain: -inf\n",
      "[71]\ttraining's binary_logloss: 0.060858\tvalid_0's binary_logloss: 0.14495\n",
      "[LightGBM] [Warning] No further splits with positive gain, best gain: -inf\n",
      "[72]\ttraining's binary_logloss: 0.0602012\tvalid_0's binary_logloss: 0.144822\n",
      "[LightGBM] [Warning] No further splits with positive gain, best gain: -inf\n",
      "[73]\ttraining's binary_logloss: 0.0594283\tvalid_0's binary_logloss: 0.144599\n",
      "[LightGBM] [Warning] No further splits with positive gain, best gain: -inf\n",
      "[74]\ttraining's binary_logloss: 0.058781\tvalid_0's binary_logloss: 0.144374\n",
      "[LightGBM] [Warning] No further splits with positive gain, best gain: -inf\n",
      "[75]\ttraining's binary_logloss: 0.0578087\tvalid_0's binary_logloss: 0.144229\n",
      "[LightGBM] [Warning] No further splits with positive gain, best gain: -inf\n",
      "[76]\ttraining's binary_logloss: 0.0568813\tvalid_0's binary_logloss: 0.144029\n",
      "[LightGBM] [Warning] No further splits with positive gain, best gain: -inf\n",
      "[77]\ttraining's binary_logloss: 0.0560393\tvalid_0's binary_logloss: 0.143718\n",
      "[LightGBM] [Warning] No further splits with positive gain, best gain: -inf\n",
      "[78]\ttraining's binary_logloss: 0.0551958\tvalid_0's binary_logloss: 0.1437\n",
      "[LightGBM] [Warning] No further splits with positive gain, best gain: -inf\n",
      "[79]\ttraining's binary_logloss: 0.0543868\tvalid_0's binary_logloss: 0.143366\n",
      "[LightGBM] [Warning] No further splits with positive gain, best gain: -inf\n",
      "[80]\ttraining's binary_logloss: 0.0535439\tvalid_0's binary_logloss: 0.143421\n",
      "[LightGBM] [Warning] No further splits with positive gain, best gain: -inf\n",
      "[81]\ttraining's binary_logloss: 0.0528265\tvalid_0's binary_logloss: 0.143163\n",
      "[LightGBM] [Warning] No further splits with positive gain, best gain: -inf\n",
      "[82]\ttraining's binary_logloss: 0.0520655\tvalid_0's binary_logloss: 0.142912\n",
      "[LightGBM] [Warning] No further splits with positive gain, best gain: -inf\n",
      "[83]\ttraining's binary_logloss: 0.0514617\tvalid_0's binary_logloss: 0.142813\n",
      "[LightGBM] [Warning] No further splits with positive gain, best gain: -inf\n",
      "[84]\ttraining's binary_logloss: 0.0506992\tvalid_0's binary_logloss: 0.142686\n",
      "[LightGBM] [Warning] No further splits with positive gain, best gain: -inf\n",
      "[85]\ttraining's binary_logloss: 0.0499802\tvalid_0's binary_logloss: 0.142465\n",
      "[LightGBM] [Warning] No further splits with positive gain, best gain: -inf\n",
      "[86]\ttraining's binary_logloss: 0.049301\tvalid_0's binary_logloss: 0.142379\n",
      "[LightGBM] [Warning] No further splits with positive gain, best gain: -inf\n",
      "[87]\ttraining's binary_logloss: 0.0485763\tvalid_0's binary_logloss: 0.142298\n",
      "[LightGBM] [Warning] No further splits with positive gain, best gain: -inf\n",
      "[88]\ttraining's binary_logloss: 0.0480191\tvalid_0's binary_logloss: 0.142202\n",
      "[LightGBM] [Warning] No further splits with positive gain, best gain: -inf\n",
      "[89]\ttraining's binary_logloss: 0.0473674\tvalid_0's binary_logloss: 0.142093\n",
      "[LightGBM] [Warning] No further splits with positive gain, best gain: -inf\n",
      "[90]\ttraining's binary_logloss: 0.0467803\tvalid_0's binary_logloss: 0.14179\n",
      "[LightGBM] [Warning] No further splits with positive gain, best gain: -inf\n",
      "[91]\ttraining's binary_logloss: 0.0463278\tvalid_0's binary_logloss: 0.141598\n",
      "[LightGBM] [Warning] No further splits with positive gain, best gain: -inf\n",
      "[92]\ttraining's binary_logloss: 0.0457088\tvalid_0's binary_logloss: 0.141411\n",
      "[LightGBM] [Warning] No further splits with positive gain, best gain: -inf\n",
      "[93]\ttraining's binary_logloss: 0.0451416\tvalid_0's binary_logloss: 0.141233\n",
      "[LightGBM] [Warning] No further splits with positive gain, best gain: -inf\n",
      "[94]\ttraining's binary_logloss: 0.0447358\tvalid_0's binary_logloss: 0.141132\n",
      "[LightGBM] [Warning] No further splits with positive gain, best gain: -inf\n",
      "[95]\ttraining's binary_logloss: 0.0443082\tvalid_0's binary_logloss: 0.141038\n",
      "[LightGBM] [Warning] No further splits with positive gain, best gain: -inf\n",
      "[96]\ttraining's binary_logloss: 0.0437588\tvalid_0's binary_logloss: 0.14084\n",
      "[LightGBM] [Warning] No further splits with positive gain, best gain: -inf\n",
      "[97]\ttraining's binary_logloss: 0.0432142\tvalid_0's binary_logloss: 0.140891\n",
      "[LightGBM] [Warning] No further splits with positive gain, best gain: -inf\n",
      "[98]\ttraining's binary_logloss: 0.0427461\tvalid_0's binary_logloss: 0.140926\n",
      "[LightGBM] [Warning] No further splits with positive gain, best gain: -inf\n",
      "[99]\ttraining's binary_logloss: 0.0422614\tvalid_0's binary_logloss: 0.140907\n",
      "[LightGBM] [Warning] No further splits with positive gain, best gain: -inf\n",
      "[100]\ttraining's binary_logloss: 0.0418559\tvalid_0's binary_logloss: 0.140901\n",
      "[LightGBM] [Warning] No further splits with positive gain, best gain: -inf\n",
      "[101]\ttraining's binary_logloss: 0.0414171\tvalid_0's binary_logloss: 0.140814\n",
      "[LightGBM] [Warning] No further splits with positive gain, best gain: -inf\n",
      "[102]\ttraining's binary_logloss: 0.0408798\tvalid_0's binary_logloss: 0.140621\n",
      "[LightGBM] [Warning] No further splits with positive gain, best gain: -inf\n",
      "[103]\ttraining's binary_logloss: 0.0404113\tvalid_0's binary_logloss: 0.140498\n",
      "[LightGBM] [Warning] No further splits with positive gain, best gain: -inf\n",
      "[104]\ttraining's binary_logloss: 0.0400977\tvalid_0's binary_logloss: 0.140408\n",
      "[LightGBM] [Warning] No further splits with positive gain, best gain: -inf\n",
      "[105]\ttraining's binary_logloss: 0.039626\tvalid_0's binary_logloss: 0.140271\n",
      "[LightGBM] [Warning] No further splits with positive gain, best gain: -inf\n",
      "[106]\ttraining's binary_logloss: 0.0392659\tvalid_0's binary_logloss: 0.140198\n",
      "[LightGBM] [Warning] No further splits with positive gain, best gain: -inf\n",
      "[107]\ttraining's binary_logloss: 0.0388442\tvalid_0's binary_logloss: 0.140164\n",
      "[LightGBM] [Warning] No further splits with positive gain, best gain: -inf\n",
      "[108]\ttraining's binary_logloss: 0.0385986\tvalid_0's binary_logloss: 0.14012\n",
      "[LightGBM] [Warning] No further splits with positive gain, best gain: -inf\n",
      "[109]\ttraining's binary_logloss: 0.0382472\tvalid_0's binary_logloss: 0.139903\n",
      "[LightGBM] [Warning] No further splits with positive gain, best gain: -inf\n",
      "[110]\ttraining's binary_logloss: 0.0380023\tvalid_0's binary_logloss: 0.139861\n",
      "[LightGBM] [Warning] No further splits with positive gain, best gain: -inf\n",
      "[111]\ttraining's binary_logloss: 0.0378282\tvalid_0's binary_logloss: 0.139909\n",
      "[LightGBM] [Warning] No further splits with positive gain, best gain: -inf\n",
      "[112]\ttraining's binary_logloss: 0.0376209\tvalid_0's binary_logloss: 0.139853\n",
      "[LightGBM] [Warning] No further splits with positive gain, best gain: -inf\n",
      "[113]\ttraining's binary_logloss: 0.0372489\tvalid_0's binary_logloss: 0.139746\n",
      "[LightGBM] [Warning] No further splits with positive gain, best gain: -inf\n",
      "[114]\ttraining's binary_logloss: 0.0369519\tvalid_0's binary_logloss: 0.139586\n",
      "[LightGBM] [Warning] No further splits with positive gain, best gain: -inf\n",
      "[115]\ttraining's binary_logloss: 0.0365945\tvalid_0's binary_logloss: 0.139564\n",
      "[LightGBM] [Warning] No further splits with positive gain, best gain: -inf\n",
      "[116]\ttraining's binary_logloss: 0.036199\tvalid_0's binary_logloss: 0.139703\n",
      "[LightGBM] [Warning] No further splits with positive gain, best gain: -inf\n",
      "[117]\ttraining's binary_logloss: 0.0358465\tvalid_0's binary_logloss: 0.139775\n",
      "[LightGBM] [Warning] No further splits with positive gain, best gain: -inf\n",
      "[118]\ttraining's binary_logloss: 0.0355971\tvalid_0's binary_logloss: 0.139816\n",
      "[LightGBM] [Warning] No further splits with positive gain, best gain: -inf\n",
      "[119]\ttraining's binary_logloss: 0.0353035\tvalid_0's binary_logloss: 0.139718\n",
      "[LightGBM] [Warning] No further splits with positive gain, best gain: -inf\n",
      "[120]\ttraining's binary_logloss: 0.0350668\tvalid_0's binary_logloss: 0.139587\n",
      "[LightGBM] [Warning] No further splits with positive gain, best gain: -inf\n",
      "[121]\ttraining's binary_logloss: 0.0348039\tvalid_0's binary_logloss: 0.139559\n",
      "[LightGBM] [Warning] No further splits with positive gain, best gain: -inf\n",
      "[122]\ttraining's binary_logloss: 0.0344923\tvalid_0's binary_logloss: 0.139561\n",
      "[LightGBM] [Warning] No further splits with positive gain, best gain: -inf\n",
      "[123]\ttraining's binary_logloss: 0.0341513\tvalid_0's binary_logloss: 0.139518\n",
      "[LightGBM] [Warning] No further splits with positive gain, best gain: -inf\n",
      "[124]\ttraining's binary_logloss: 0.0338456\tvalid_0's binary_logloss: 0.139512\n",
      "[LightGBM] [Warning] No further splits with positive gain, best gain: -inf\n",
      "[125]\ttraining's binary_logloss: 0.0335112\tvalid_0's binary_logloss: 0.139553\n",
      "[LightGBM] [Warning] No further splits with positive gain, best gain: -inf\n",
      "[126]\ttraining's binary_logloss: 0.0331915\tvalid_0's binary_logloss: 0.139654\n",
      "[LightGBM] [Warning] No further splits with positive gain, best gain: -inf\n",
      "[127]\ttraining's binary_logloss: 0.0329389\tvalid_0's binary_logloss: 0.139548\n",
      "[LightGBM] [Warning] No further splits with positive gain, best gain: -inf\n",
      "[128]\ttraining's binary_logloss: 0.0326398\tvalid_0's binary_logloss: 0.139555\n",
      "[LightGBM] [Warning] No further splits with positive gain, best gain: -inf\n",
      "[129]\ttraining's binary_logloss: 0.0323304\tvalid_0's binary_logloss: 0.139463\n",
      "[LightGBM] [Warning] No further splits with positive gain, best gain: -inf\n",
      "[130]\ttraining's binary_logloss: 0.032056\tvalid_0's binary_logloss: 0.139403\n",
      "[LightGBM] [Warning] No further splits with positive gain, best gain: -inf\n",
      "[131]\ttraining's binary_logloss: 0.0317559\tvalid_0's binary_logloss: 0.139449\n",
      "[LightGBM] [Warning] No further splits with positive gain, best gain: -inf\n",
      "[132]\ttraining's binary_logloss: 0.031463\tvalid_0's binary_logloss: 0.139371\n",
      "[LightGBM] [Warning] No further splits with positive gain, best gain: -inf\n",
      "[133]\ttraining's binary_logloss: 0.0311792\tvalid_0's binary_logloss: 0.139225\n",
      "[LightGBM] [Warning] No further splits with positive gain, best gain: -inf\n",
      "[134]\ttraining's binary_logloss: 0.0309703\tvalid_0's binary_logloss: 0.139162\n",
      "[LightGBM] [Warning] No further splits with positive gain, best gain: -inf\n",
      "[135]\ttraining's binary_logloss: 0.0308294\tvalid_0's binary_logloss: 0.139107\n",
      "Accuracy of logistic regression classifier on validation set using 25th quantile: 0.94\n",
      "Accuracy of logistic regression classifier on test set using 25th quantile: 0.95\n",
      "auc:  0.932144910440734\n",
      "PR AUC: 0.559\n"
     ]
    },
    {
     "data": {
      "image/png": "[encoded data removed]",
      "text/plain": [
       "<Figure size 800x600 with 1 Axes>"
      ]
     },
     "metadata": {},
     "output_type": "display_data"
    },
    {
     "name": "stdout",
     "output_type": "stream",
     "text": [
      "[387 304 289 300 248 189 312 302 186 333 202 372 358 210 154 140 171 253\n",
      " 219 332 291 276 262 178 345 432 248 314 332 396 364 468 212 179 269 402\n",
      " 209 294 274 263 275 147 339 289 252 281 191 450 317 478 197 357 175 438\n",
      " 415 565  11   9  44  44  15   7   0   8   0  17  27  70  66  40  78  31]\n"
     ]
    }
   ],
   "source": [
    "lgbmodel(X_train, y_train.values.ravel(), X_val, y_val.values.ravel(), X_test, y_test.values.ravel(), \"25th quantile\")"
   ]
  },
  {
   "cell_type": "markdown",
   "metadata": {},
   "source": [
    "## Hyperparameter Tuning"
   ]
  },
  {
   "cell_type": "code",
   "execution_count": 13,
   "metadata": {},
   "outputs": [],
   "source": [
    "from sklearn.model_selection import RandomizedSearchCV"
   ]
  },
  {
   "cell_type": "code",
   "execution_count": 89,
   "metadata": {},
   "outputs": [
    {
     "name": "stderr",
     "output_type": "stream",
     "text": [
      "/opt/anaconda3/envs/gene/lib/python3.8/site-packages/lightgbm/engine.py:177: UserWarning: Found `num_boost_round` in params. Will use it instead of argument\n",
      "  _log_warning(f\"Found `{alias}` in params. Will use it instead of argument\")\n",
      "/opt/anaconda3/envs/gene/lib/python3.8/site-packages/lightgbm/engine.py:177: UserWarning: Found `num_boost_round` in params. Will use it instead of argument\n",
      "  _log_warning(f\"Found `{alias}` in params. Will use it instead of argument\")\n",
      "/opt/anaconda3/envs/gene/lib/python3.8/site-packages/lightgbm/engine.py:177: UserWarning: Found `num_boost_round` in params. Will use it instead of argument\n",
      "  _log_warning(f\"Found `{alias}` in params. Will use it instead of argument\")\n"
     ]
    },
    {
     "name": "stdout",
     "output_type": "stream",
     "text": [
      "[LightGBM] [Warning] min_data_in_leaf is set=10, min_child_samples=20 will be ignored. Current value: min_data_in_leaf=10\n",
      "[LightGBM] [Warning] num_iterations is set=2000, num_boost_round=2000 will be ignored. Current value: num_iterations=2000\n",
      "[LightGBM] [Warning] lambda_l1 is set=2, reg_alpha=1.5 will be ignored. Current value: lambda_l1=2\n",
      "[LightGBM] [Warning] lambda_l2 is set=1, reg_lambda=2.5 will be ignored. Current value: lambda_l2=1\n",
      "[LightGBM] [Warning] min_data_in_leaf is set=10, min_child_samples=20 will be ignored. Current value: min_data_in_leaf=10\n",
      "[LightGBM] [Warning] num_iterations is set=2000, num_boost_round=2000 will be ignored. Current value: num_iterations=2000\n",
      "[LightGBM] [Warning] lambda_l1 is set=2, reg_alpha=1.5 will be ignored. Current value: lambda_l1=2\n",
      "[LightGBM] [Warning] lambda_l2 is set=1, reg_lambda=2.5 will be ignored. Current value: lambda_l2=1\n",
      "[LightGBM] [Warning] min_data_in_leaf is set=10, min_child_samples=20 will be ignored. Current value: min_data_in_leaf=10\n",
      "[LightGBM] [Warning] num_iterations is set=2000, num_boost_round=2000 will be ignored. Current value: num_iterations=2000\n",
      "[LightGBM] [Warning] lambda_l1 is set=2, reg_alpha=1.5 will be ignored. Current value: lambda_l1=2\n",
      "[LightGBM] [Warning] lambda_l2 is set=1, reg_lambda=2.5 will be ignored. Current value: lambda_l2=1\n"
     ]
    },
    {
     "name": "stderr",
     "output_type": "stream",
     "text": [
      "/opt/anaconda3/envs/gene/lib/python3.8/site-packages/lightgbm/engine.py:177: UserWarning: Found `num_boost_round` in params. Will use it instead of argument\n",
      "  _log_warning(f\"Found `{alias}` in params. Will use it instead of argument\")\n"
     ]
    },
    {
     "name": "stdout",
     "output_type": "stream",
     "text": [
      "[LightGBM] [Warning] min_data_in_leaf is set=30, min_child_samples=20 will be ignored. Current value: min_data_in_leaf=30\n",
      "[LightGBM] [Warning] num_iterations is set=2000, num_boost_round=2000 will be ignored. Current value: num_iterations=2000\n",
      "[LightGBM] [Warning] lambda_l1 is set=2, reg_alpha=2 will be ignored. Current value: lambda_l1=2\n",
      "[LightGBM] [Warning] lambda_l2 is set=0.5, reg_lambda=2.5 will be ignored. Current value: lambda_l2=0.5\n"
     ]
    },
    {
     "name": "stderr",
     "output_type": "stream",
     "text": [
      "/opt/anaconda3/envs/gene/lib/python3.8/site-packages/lightgbm/engine.py:177: UserWarning: Found `num_boost_round` in params. Will use it instead of argument\n",
      "  _log_warning(f\"Found `{alias}` in params. Will use it instead of argument\")\n"
     ]
    },
    {
     "name": "stdout",
     "output_type": "stream",
     "text": [
      "[LightGBM] [Warning] min_data_in_leaf is set=30, min_child_samples=20 will be ignored. Current value: min_data_in_leaf=30\n",
      "[LightGBM] [Warning] num_iterations is set=2000, num_boost_round=2000 will be ignored. Current value: num_iterations=2000\n",
      "[LightGBM] [Warning] lambda_l1 is set=2, reg_alpha=2 will be ignored. Current value: lambda_l1=2\n",
      "[LightGBM] [Warning] lambda_l2 is set=0.5, reg_lambda=2.5 will be ignored. Current value: lambda_l2=0.5\n"
     ]
    },
    {
     "name": "stderr",
     "output_type": "stream",
     "text": [
      "/opt/anaconda3/envs/gene/lib/python3.8/site-packages/lightgbm/engine.py:177: UserWarning: Found `num_boost_round` in params. Will use it instead of argument\n",
      "  _log_warning(f\"Found `{alias}` in params. Will use it instead of argument\")\n"
     ]
    },
    {
     "name": "stdout",
     "output_type": "stream",
     "text": [
      "[LightGBM] [Warning] min_data_in_leaf is set=30, min_child_samples=20 will be ignored. Current value: min_data_in_leaf=30\n",
      "[LightGBM] [Warning] num_iterations is set=2000, num_boost_round=2000 will be ignored. Current value: num_iterations=2000\n",
      "[LightGBM] [Warning] lambda_l1 is set=2, reg_alpha=2 will be ignored. Current value: lambda_l1=2\n",
      "[LightGBM] [Warning] lambda_l2 is set=0.5, reg_lambda=2.5 will be ignored. Current value: lambda_l2=0.5\n"
     ]
    },
    {
     "name": "stderr",
     "output_type": "stream",
     "text": [
      "/opt/anaconda3/envs/gene/lib/python3.8/site-packages/lightgbm/engine.py:177: UserWarning: Found `num_boost_round` in params. Will use it instead of argument\n",
      "  _log_warning(f\"Found `{alias}` in params. Will use it instead of argument\")\n"
     ]
    },
    {
     "name": "stdout",
     "output_type": "stream",
     "text": [
      "[LightGBM] [Warning] min_data_in_leaf is set=10, min_child_samples=20 will be ignored. Current value: min_data_in_leaf=10\n",
      "[LightGBM] [Warning] num_iterations is set=2000, num_boost_round=2000 will be ignored. Current value: num_iterations=2000\n",
      "[LightGBM] [Warning] lambda_l1 is set=2, reg_alpha=0.5 will be ignored. Current value: lambda_l1=2\n",
      "[LightGBM] [Warning] lambda_l2 is set=0.5, reg_lambda=1.5 will be ignored. Current value: lambda_l2=0.5\n"
     ]
    },
    {
     "name": "stderr",
     "output_type": "stream",
     "text": [
      "/opt/anaconda3/envs/gene/lib/python3.8/site-packages/lightgbm/engine.py:177: UserWarning: Found `num_boost_round` in params. Will use it instead of argument\n",
      "  _log_warning(f\"Found `{alias}` in params. Will use it instead of argument\")\n"
     ]
    },
    {
     "name": "stdout",
     "output_type": "stream",
     "text": [
      "[LightGBM] [Warning] min_data_in_leaf is set=10, min_child_samples=20 will be ignored. Current value: min_data_in_leaf=10\n",
      "[LightGBM] [Warning] num_iterations is set=2000, num_boost_round=2000 will be ignored. Current value: num_iterations=2000\n",
      "[LightGBM] [Warning] lambda_l1 is set=2, reg_alpha=0.5 will be ignored. Current value: lambda_l1=2\n",
      "[LightGBM] [Warning] lambda_l2 is set=0.5, reg_lambda=1.5 will be ignored. Current value: lambda_l2=0.5\n"
     ]
    },
    {
     "name": "stderr",
     "output_type": "stream",
     "text": [
      "/opt/anaconda3/envs/gene/lib/python3.8/site-packages/lightgbm/engine.py:177: UserWarning: Found `num_boost_round` in params. Will use it instead of argument\n",
      "  _log_warning(f\"Found `{alias}` in params. Will use it instead of argument\")\n"
     ]
    },
    {
     "name": "stdout",
     "output_type": "stream",
     "text": [
      "[LightGBM] [Warning] min_data_in_leaf is set=10, min_child_samples=20 will be ignored. Current value: min_data_in_leaf=10\n",
      "[LightGBM] [Warning] num_iterations is set=2000, num_boost_round=2000 will be ignored. Current value: num_iterations=2000\n",
      "[LightGBM] [Warning] lambda_l1 is set=2, reg_alpha=0.5 will be ignored. Current value: lambda_l1=2\n",
      "[LightGBM] [Warning] lambda_l2 is set=0.5, reg_lambda=1.5 will be ignored. Current value: lambda_l2=0.5\n"
     ]
    },
    {
     "name": "stderr",
     "output_type": "stream",
     "text": [
      "/opt/anaconda3/envs/gene/lib/python3.8/site-packages/lightgbm/engine.py:177: UserWarning: Found `num_boost_round` in params. Will use it instead of argument\n",
      "  _log_warning(f\"Found `{alias}` in params. Will use it instead of argument\")\n"
     ]
    },
    {
     "name": "stdout",
     "output_type": "stream",
     "text": [
      "[LightGBM] [Warning] min_data_in_leaf is set=15, min_child_samples=20 will be ignored. Current value: min_data_in_leaf=15\n",
      "[LightGBM] [Warning] num_iterations is set=2000, num_boost_round=2000 will be ignored. Current value: num_iterations=2000\n",
      "[LightGBM] [Warning] lambda_l1 is set=2, reg_alpha=0.1 will be ignored. Current value: lambda_l1=2\n",
      "[LightGBM] [Warning] lambda_l2 is set=0.5, reg_lambda=3 will be ignored. Current value: lambda_l2=0.5\n"
     ]
    },
    {
     "name": "stderr",
     "output_type": "stream",
     "text": [
      "/opt/anaconda3/envs/gene/lib/python3.8/site-packages/lightgbm/engine.py:177: UserWarning: Found `num_boost_round` in params. Will use it instead of argument\n",
      "  _log_warning(f\"Found `{alias}` in params. Will use it instead of argument\")\n"
     ]
    },
    {
     "name": "stdout",
     "output_type": "stream",
     "text": [
      "[LightGBM] [Warning] min_data_in_leaf is set=15, min_child_samples=20 will be ignored. Current value: min_data_in_leaf=15\n",
      "[LightGBM] [Warning] num_iterations is set=2000, num_boost_round=2000 will be ignored. Current value: num_iterations=2000\n",
      "[LightGBM] [Warning] lambda_l1 is set=2, reg_alpha=0.1 will be ignored. Current value: lambda_l1=2\n",
      "[LightGBM] [Warning] lambda_l2 is set=0.5, reg_lambda=3 will be ignored. Current value: lambda_l2=0.5\n"
     ]
    },
    {
     "name": "stderr",
     "output_type": "stream",
     "text": [
      "/opt/anaconda3/envs/gene/lib/python3.8/site-packages/lightgbm/engine.py:177: UserWarning: Found `num_boost_round` in params. Will use it instead of argument\n",
      "  _log_warning(f\"Found `{alias}` in params. Will use it instead of argument\")\n"
     ]
    },
    {
     "name": "stdout",
     "output_type": "stream",
     "text": [
      "[LightGBM] [Warning] min_data_in_leaf is set=15, min_child_samples=20 will be ignored. Current value: min_data_in_leaf=15\n",
      "[LightGBM] [Warning] num_iterations is set=2000, num_boost_round=2000 will be ignored. Current value: num_iterations=2000\n",
      "[LightGBM] [Warning] lambda_l1 is set=2, reg_alpha=0.1 will be ignored. Current value: lambda_l1=2\n",
      "[LightGBM] [Warning] lambda_l2 is set=0.5, reg_lambda=3 will be ignored. Current value: lambda_l2=0.5\n"
     ]
    },
    {
     "name": "stderr",
     "output_type": "stream",
     "text": [
      "/opt/anaconda3/envs/gene/lib/python3.8/site-packages/lightgbm/engine.py:177: UserWarning: Found `num_boost_round` in params. Will use it instead of argument\n",
      "  _log_warning(f\"Found `{alias}` in params. Will use it instead of argument\")\n"
     ]
    },
    {
     "name": "stdout",
     "output_type": "stream",
     "text": [
      "[LightGBM] [Warning] min_data_in_leaf is set=25, min_child_samples=20 will be ignored. Current value: min_data_in_leaf=25\n",
      "[LightGBM] [Warning] num_iterations is set=2000, num_boost_round=2000 will be ignored. Current value: num_iterations=2000\n",
      "[LightGBM] [Warning] lambda_l1 is set=0, reg_alpha=0.5 will be ignored. Current value: lambda_l1=0\n",
      "[LightGBM] [Warning] lambda_l2 is set=0.5, reg_lambda=1 will be ignored. Current value: lambda_l2=0.5\n"
     ]
    },
    {
     "name": "stderr",
     "output_type": "stream",
     "text": [
      "/opt/anaconda3/envs/gene/lib/python3.8/site-packages/lightgbm/engine.py:177: UserWarning: Found `num_boost_round` in params. Will use it instead of argument\n",
      "  _log_warning(f\"Found `{alias}` in params. Will use it instead of argument\")\n"
     ]
    },
    {
     "name": "stdout",
     "output_type": "stream",
     "text": [
      "[LightGBM] [Warning] min_data_in_leaf is set=25, min_child_samples=20 will be ignored. Current value: min_data_in_leaf=25\n",
      "[LightGBM] [Warning] num_iterations is set=2000, num_boost_round=2000 will be ignored. Current value: num_iterations=2000\n",
      "[LightGBM] [Warning] lambda_l1 is set=0, reg_alpha=0.5 will be ignored. Current value: lambda_l1=0\n",
      "[LightGBM] [Warning] lambda_l2 is set=0.5, reg_lambda=1 will be ignored. Current value: lambda_l2=0.5\n"
     ]
    },
    {
     "name": "stderr",
     "output_type": "stream",
     "text": [
      "/opt/anaconda3/envs/gene/lib/python3.8/site-packages/lightgbm/engine.py:177: UserWarning: Found `num_boost_round` in params. Will use it instead of argument\n",
      "  _log_warning(f\"Found `{alias}` in params. Will use it instead of argument\")\n"
     ]
    },
    {
     "name": "stdout",
     "output_type": "stream",
     "text": [
      "[LightGBM] [Warning] min_data_in_leaf is set=25, min_child_samples=20 will be ignored. Current value: min_data_in_leaf=25\n",
      "[LightGBM] [Warning] num_iterations is set=2000, num_boost_round=2000 will be ignored. Current value: num_iterations=2000\n",
      "[LightGBM] [Warning] lambda_l1 is set=0, reg_alpha=0.5 will be ignored. Current value: lambda_l1=0\n",
      "[LightGBM] [Warning] lambda_l2 is set=0.5, reg_lambda=1 will be ignored. Current value: lambda_l2=0.5\n"
     ]
    },
    {
     "name": "stderr",
     "output_type": "stream",
     "text": [
      "/opt/anaconda3/envs/gene/lib/python3.8/site-packages/lightgbm/engine.py:177: UserWarning: Found `num_boost_round` in params. Will use it instead of argument\n",
      "  _log_warning(f\"Found `{alias}` in params. Will use it instead of argument\")\n"
     ]
    },
    {
     "name": "stdout",
     "output_type": "stream",
     "text": [
      "[LightGBM] [Warning] min_data_in_leaf is set=30, min_child_samples=20 will be ignored. Current value: min_data_in_leaf=30\n",
      "[LightGBM] [Warning] num_iterations is set=2000, num_boost_round=2000 will be ignored. Current value: num_iterations=2000\n",
      "[LightGBM] [Warning] lambda_l1 is set=0.5, reg_alpha=0.5 will be ignored. Current value: lambda_l1=0.5\n",
      "[LightGBM] [Warning] lambda_l2 is set=0, reg_lambda=1.5 will be ignored. Current value: lambda_l2=0\n"
     ]
    },
    {
     "name": "stderr",
     "output_type": "stream",
     "text": [
      "/opt/anaconda3/envs/gene/lib/python3.8/site-packages/lightgbm/engine.py:177: UserWarning: Found `num_boost_round` in params. Will use it instead of argument\n",
      "  _log_warning(f\"Found `{alias}` in params. Will use it instead of argument\")\n"
     ]
    },
    {
     "name": "stdout",
     "output_type": "stream",
     "text": [
      "[LightGBM] [Warning] min_data_in_leaf is set=30, min_child_samples=20 will be ignored. Current value: min_data_in_leaf=30\n",
      "[LightGBM] [Warning] num_iterations is set=2000, num_boost_round=2000 will be ignored. Current value: num_iterations=2000\n",
      "[LightGBM] [Warning] lambda_l1 is set=0.5, reg_alpha=0.5 will be ignored. Current value: lambda_l1=0.5\n",
      "[LightGBM] [Warning] lambda_l2 is set=0, reg_lambda=1.5 will be ignored. Current value: lambda_l2=0\n"
     ]
    },
    {
     "name": "stderr",
     "output_type": "stream",
     "text": [
      "/opt/anaconda3/envs/gene/lib/python3.8/site-packages/lightgbm/engine.py:177: UserWarning: Found `num_boost_round` in params. Will use it instead of argument\n",
      "  _log_warning(f\"Found `{alias}` in params. Will use it instead of argument\")\n"
     ]
    },
    {
     "name": "stdout",
     "output_type": "stream",
     "text": [
      "[LightGBM] [Warning] min_data_in_leaf is set=30, min_child_samples=20 will be ignored. Current value: min_data_in_leaf=30\n",
      "[LightGBM] [Warning] num_iterations is set=2000, num_boost_round=2000 will be ignored. Current value: num_iterations=2000\n",
      "[LightGBM] [Warning] lambda_l1 is set=0.5, reg_alpha=0.5 will be ignored. Current value: lambda_l1=0.5\n",
      "[LightGBM] [Warning] lambda_l2 is set=0, reg_lambda=1.5 will be ignored. Current value: lambda_l2=0\n"
     ]
    },
    {
     "name": "stderr",
     "output_type": "stream",
     "text": [
      "/opt/anaconda3/envs/gene/lib/python3.8/site-packages/lightgbm/engine.py:177: UserWarning: Found `num_boost_round` in params. Will use it instead of argument\n",
      "  _log_warning(f\"Found `{alias}` in params. Will use it instead of argument\")\n"
     ]
    },
    {
     "name": "stdout",
     "output_type": "stream",
     "text": [
      "[LightGBM] [Warning] min_data_in_leaf is set=20, min_child_samples=20 will be ignored. Current value: min_data_in_leaf=20\n",
      "[LightGBM] [Warning] num_iterations is set=2000, num_boost_round=2000 will be ignored. Current value: num_iterations=2000\n",
      "[LightGBM] [Warning] lambda_l1 is set=0, reg_alpha=0.1 will be ignored. Current value: lambda_l1=0\n",
      "[LightGBM] [Warning] lambda_l2 is set=1, reg_lambda=3 will be ignored. Current value: lambda_l2=1\n"
     ]
    },
    {
     "name": "stderr",
     "output_type": "stream",
     "text": [
      "/opt/anaconda3/envs/gene/lib/python3.8/site-packages/lightgbm/engine.py:177: UserWarning: Found `num_boost_round` in params. Will use it instead of argument\n",
      "  _log_warning(f\"Found `{alias}` in params. Will use it instead of argument\")\n",
      "/opt/anaconda3/envs/gene/lib/python3.8/site-packages/lightgbm/engine.py:177: UserWarning: Found `num_boost_round` in params. Will use it instead of argument\n",
      "  _log_warning(f\"Found `{alias}` in params. Will use it instead of argument\")\n"
     ]
    },
    {
     "name": "stdout",
     "output_type": "stream",
     "text": [
      "[LightGBM] [Warning] min_data_in_leaf is set=20, min_child_samples=20 will be ignored. Current value: min_data_in_leaf=20\n",
      "[LightGBM] [Warning] num_iterations is set=2000, num_boost_round=2000 will be ignored. Current value: num_iterations=2000\n",
      "[LightGBM] [Warning] lambda_l1 is set=0, reg_alpha=0.1 will be ignored. Current value: lambda_l1=0\n",
      "[LightGBM] [Warning] lambda_l2 is set=1, reg_lambda=3 will be ignored. Current value: lambda_l2=1\n",
      "[LightGBM] [Warning] min_data_in_leaf is set=20, min_child_samples=20 will be ignored. Current value: min_data_in_leaf=20\n",
      "[LightGBM] [Warning] num_iterations is set=2000, num_boost_round=2000 will be ignored. Current value: num_iterations=2000\n",
      "[LightGBM] [Warning] lambda_l1 is set=0, reg_alpha=0.1 will be ignored. Current value: lambda_l1=0\n",
      "[LightGBM] [Warning] lambda_l2 is set=1, reg_lambda=3 will be ignored. Current value: lambda_l2=1\n"
     ]
    },
    {
     "name": "stderr",
     "output_type": "stream",
     "text": [
      "/opt/anaconda3/envs/gene/lib/python3.8/site-packages/lightgbm/engine.py:177: UserWarning: Found `num_boost_round` in params. Will use it instead of argument\n",
      "  _log_warning(f\"Found `{alias}` in params. Will use it instead of argument\")\n"
     ]
    },
    {
     "name": "stdout",
     "output_type": "stream",
     "text": [
      "[LightGBM] [Warning] min_data_in_leaf is set=20, min_child_samples=20 will be ignored. Current value: min_data_in_leaf=20\n",
      "[LightGBM] [Warning] num_iterations is set=2000, num_boost_round=2000 will be ignored. Current value: num_iterations=2000\n",
      "[LightGBM] [Warning] lambda_l1 is set=3, reg_alpha=1 will be ignored. Current value: lambda_l1=3\n",
      "[LightGBM] [Warning] lambda_l2 is set=1, reg_lambda=2.5 will be ignored. Current value: lambda_l2=1\n"
     ]
    },
    {
     "name": "stderr",
     "output_type": "stream",
     "text": [
      "/opt/anaconda3/envs/gene/lib/python3.8/site-packages/lightgbm/engine.py:177: UserWarning: Found `num_boost_round` in params. Will use it instead of argument\n",
      "  _log_warning(f\"Found `{alias}` in params. Will use it instead of argument\")\n"
     ]
    },
    {
     "name": "stdout",
     "output_type": "stream",
     "text": [
      "[LightGBM] [Warning] min_data_in_leaf is set=20, min_child_samples=20 will be ignored. Current value: min_data_in_leaf=20\n",
      "[LightGBM] [Warning] num_iterations is set=2000, num_boost_round=2000 will be ignored. Current value: num_iterations=2000\n",
      "[LightGBM] [Warning] lambda_l1 is set=3, reg_alpha=1 will be ignored. Current value: lambda_l1=3\n",
      "[LightGBM] [Warning] lambda_l2 is set=1, reg_lambda=2.5 will be ignored. Current value: lambda_l2=1\n"
     ]
    },
    {
     "name": "stderr",
     "output_type": "stream",
     "text": [
      "/opt/anaconda3/envs/gene/lib/python3.8/site-packages/lightgbm/engine.py:177: UserWarning: Found `num_boost_round` in params. Will use it instead of argument\n",
      "  _log_warning(f\"Found `{alias}` in params. Will use it instead of argument\")\n"
     ]
    },
    {
     "name": "stdout",
     "output_type": "stream",
     "text": [
      "[LightGBM] [Warning] min_data_in_leaf is set=20, min_child_samples=20 will be ignored. Current value: min_data_in_leaf=20\n",
      "[LightGBM] [Warning] num_iterations is set=2000, num_boost_round=2000 will be ignored. Current value: num_iterations=2000\n",
      "[LightGBM] [Warning] lambda_l1 is set=3, reg_alpha=1 will be ignored. Current value: lambda_l1=3\n",
      "[LightGBM] [Warning] lambda_l2 is set=1, reg_lambda=2.5 will be ignored. Current value: lambda_l2=1\n"
     ]
    },
    {
     "name": "stderr",
     "output_type": "stream",
     "text": [
      "/opt/anaconda3/envs/gene/lib/python3.8/site-packages/lightgbm/engine.py:177: UserWarning: Found `num_boost_round` in params. Will use it instead of argument\n",
      "  _log_warning(f\"Found `{alias}` in params. Will use it instead of argument\")\n"
     ]
    },
    {
     "name": "stdout",
     "output_type": "stream",
     "text": [
      "[LightGBM] [Warning] min_data_in_leaf is set=10, min_child_samples=20 will be ignored. Current value: min_data_in_leaf=10\n",
      "[LightGBM] [Warning] num_iterations is set=2000, num_boost_round=2000 will be ignored. Current value: num_iterations=2000\n",
      "[LightGBM] [Warning] lambda_l1 is set=2.5, reg_alpha=1.5 will be ignored. Current value: lambda_l1=2.5\n",
      "[LightGBM] [Warning] lambda_l2 is set=0, reg_lambda=1.5 will be ignored. Current value: lambda_l2=0\n"
     ]
    },
    {
     "name": "stderr",
     "output_type": "stream",
     "text": [
      "/opt/anaconda3/envs/gene/lib/python3.8/site-packages/lightgbm/engine.py:177: UserWarning: Found `num_boost_round` in params. Will use it instead of argument\n",
      "  _log_warning(f\"Found `{alias}` in params. Will use it instead of argument\")\n"
     ]
    },
    {
     "name": "stdout",
     "output_type": "stream",
     "text": [
      "[LightGBM] [Warning] min_data_in_leaf is set=10, min_child_samples=20 will be ignored. Current value: min_data_in_leaf=10\n",
      "[LightGBM] [Warning] num_iterations is set=2000, num_boost_round=2000 will be ignored. Current value: num_iterations=2000\n",
      "[LightGBM] [Warning] lambda_l1 is set=2.5, reg_alpha=1.5 will be ignored. Current value: lambda_l1=2.5\n",
      "[LightGBM] [Warning] lambda_l2 is set=0, reg_lambda=1.5 will be ignored. Current value: lambda_l2=0\n"
     ]
    },
    {
     "name": "stderr",
     "output_type": "stream",
     "text": [
      "/opt/anaconda3/envs/gene/lib/python3.8/site-packages/lightgbm/engine.py:177: UserWarning: Found `num_boost_round` in params. Will use it instead of argument\n",
      "  _log_warning(f\"Found `{alias}` in params. Will use it instead of argument\")\n"
     ]
    },
    {
     "name": "stdout",
     "output_type": "stream",
     "text": [
      "[LightGBM] [Warning] min_data_in_leaf is set=10, min_child_samples=20 will be ignored. Current value: min_data_in_leaf=10\n",
      "[LightGBM] [Warning] num_iterations is set=2000, num_boost_round=2000 will be ignored. Current value: num_iterations=2000\n",
      "[LightGBM] [Warning] lambda_l1 is set=2.5, reg_alpha=1.5 will be ignored. Current value: lambda_l1=2.5\n",
      "[LightGBM] [Warning] lambda_l2 is set=0, reg_lambda=1.5 will be ignored. Current value: lambda_l2=0\n"
     ]
    },
    {
     "name": "stderr",
     "output_type": "stream",
     "text": [
      "/opt/anaconda3/envs/gene/lib/python3.8/site-packages/lightgbm/engine.py:177: UserWarning: Found `num_boost_round` in params. Will use it instead of argument\n",
      "  _log_warning(f\"Found `{alias}` in params. Will use it instead of argument\")\n"
     ]
    },
    {
     "name": "stdout",
     "output_type": "stream",
     "text": [
      "[LightGBM] [Warning] min_data_in_leaf is set=20, min_child_samples=20 will be ignored. Current value: min_data_in_leaf=20\n",
      "[LightGBM] [Warning] num_iterations is set=2000, num_boost_round=2000 will be ignored. Current value: num_iterations=2000\n",
      "[LightGBM] [Warning] lambda_l1 is set=0, reg_alpha=1.5 will be ignored. Current value: lambda_l1=0\n",
      "[LightGBM] [Warning] lambda_l2 is set=1, reg_lambda=1.75 will be ignored. Current value: lambda_l2=1\n"
     ]
    },
    {
     "name": "stderr",
     "output_type": "stream",
     "text": [
      "/opt/anaconda3/envs/gene/lib/python3.8/site-packages/lightgbm/engine.py:177: UserWarning: Found `num_boost_round` in params. Will use it instead of argument\n",
      "  _log_warning(f\"Found `{alias}` in params. Will use it instead of argument\")\n"
     ]
    },
    {
     "name": "stdout",
     "output_type": "stream",
     "text": [
      "[LightGBM] [Warning] min_data_in_leaf is set=20, min_child_samples=20 will be ignored. Current value: min_data_in_leaf=20\n",
      "[LightGBM] [Warning] num_iterations is set=2000, num_boost_round=2000 will be ignored. Current value: num_iterations=2000\n",
      "[LightGBM] [Warning] lambda_l1 is set=0, reg_alpha=1.5 will be ignored. Current value: lambda_l1=0\n",
      "[LightGBM] [Warning] lambda_l2 is set=1, reg_lambda=1.75 will be ignored. Current value: lambda_l2=1\n"
     ]
    },
    {
     "name": "stderr",
     "output_type": "stream",
     "text": [
      "/opt/anaconda3/envs/gene/lib/python3.8/site-packages/lightgbm/engine.py:177: UserWarning: Found `num_boost_round` in params. Will use it instead of argument\n",
      "  _log_warning(f\"Found `{alias}` in params. Will use it instead of argument\")\n"
     ]
    },
    {
     "name": "stdout",
     "output_type": "stream",
     "text": [
      "[LightGBM] [Warning] min_data_in_leaf is set=20, min_child_samples=20 will be ignored. Current value: min_data_in_leaf=20\n",
      "[LightGBM] [Warning] num_iterations is set=2000, num_boost_round=2000 will be ignored. Current value: num_iterations=2000\n",
      "[LightGBM] [Warning] lambda_l1 is set=0, reg_alpha=1.5 will be ignored. Current value: lambda_l1=0\n",
      "[LightGBM] [Warning] lambda_l2 is set=1, reg_lambda=1.75 will be ignored. Current value: lambda_l2=1\n"
     ]
    },
    {
     "name": "stderr",
     "output_type": "stream",
     "text": [
      "/opt/anaconda3/envs/gene/lib/python3.8/site-packages/lightgbm/engine.py:177: UserWarning: Found `num_boost_round` in params. Will use it instead of argument\n",
      "  _log_warning(f\"Found `{alias}` in params. Will use it instead of argument\")\n"
     ]
    },
    {
     "name": "stdout",
     "output_type": "stream",
     "text": [
      "[LightGBM] [Warning] min_data_in_leaf is set=20, min_child_samples=20 will be ignored. Current value: min_data_in_leaf=20\n",
      "[LightGBM] [Warning] num_iterations is set=2000, num_boost_round=2000 will be ignored. Current value: num_iterations=2000\n",
      "[LightGBM] [Warning] lambda_l1 is set=0, reg_alpha=0.1 will be ignored. Current value: lambda_l1=0\n",
      "[LightGBM] [Warning] lambda_l2 is set=1, reg_lambda=3 will be ignored. Current value: lambda_l2=1\n",
      "{'scale_pos_weight': 2, 'reg_lambda': 3, 'reg_alpha': 0.1, 'num_leaves': 185, 'n_estimators': 135, 'min_data_in_leaf': 20, 'min_child_weight': 10.0, 'max_depth': 18, 'lambda_l2': 1, 'lambda_l1': 0} 0.9113004983888252\n"
     ]
    }
   ],
   "source": [
    "param_grid = {\n",
    "    'num_leaves': [31, 50, 60, 90, 127, 150, 175, 185, 190, 200, 225],\n",
    "    'reg_alpha': [0.1, 0.5, 1, 1.5, 2, 2.5],\n",
    "    'min_data_in_leaf': [10,15, 20, 25, 30],\n",
    "    'lambda_l1': [0,0.5,1,1.5, 2, 2.5, 3],\n",
    "    'lambda_l2': [0,0.5,1],\n",
    "    'reg_lambda':[0.5,1,1.5,1.75,2, 2.25, 2.5, 3],\n",
    "    'n_estimators': [100,110, 115, 120 ,125,130,135, 140, 145,150,165,175],\n",
    "    'max_depth':[3,6,9,12, 15,18,21,24],\n",
    "    'min_child_weight':[4.0, 8.0, 10.0, 12.0, 12.5, 15.0],\n",
    "    'scale_pos_weight':[2,5,7,9,11,13,15]\n",
    "    }\n",
    "\n",
    "lgb_estimator = lgb.LGBMClassifier(boosting_type='gbdt',  objective='binary', num_boost_round=2000, learning_rate=0.01, metric='auc')\n",
    "\n",
    "gsearch = RandomizedSearchCV(lgb_estimator, param_grid, cv=3, n_jobs=3)\n",
    "lgb_model = gsearch.fit(X=X_train, y=y_train.values.ravel())\n",
    "\n",
    "print(lgb_model.best_params_, lgb_model.best_score_)"
   ]
  },
  {
   "cell_type": "markdown",
   "metadata": {},
   "source": [
    "### Dropping of columns"
   ]
  },
  {
   "cell_type": "code",
   "execution_count": 80,
   "metadata": {},
   "outputs": [],
   "source": [
    "cols_to_drop = ['mean_-1_25', 'mean_-1_50', 'mean_-1_75', 'mean_-1_mean','mean_-1_min', 'mean_-1_max',\n",
    "                'mean_0_25', 'mean_0_50', 'mean_0_75', 'mean_0_mean','mean_0_min', 'mean_0_max',\n",
    "                'mean_+1_25', 'mean_+1_50', 'mean_+1_75', 'mean_+1_mean','mean_+1_min', 'mean_+1_max']\n",
    "X_train_d = X_train.drop(cols_to_drop, axis = 1)\n",
    "X_val_d = X_val.drop(cols_to_drop, axis = 1)\n",
    "X_test_d = X_test.drop(cols_to_drop, axis = 1)"
   ]
  },
  {
   "cell_type": "code",
   "execution_count": 77,
   "metadata": {},
   "outputs": [
    {
     "data": {
      "text/html": [
       "<div>\n",
       "<style scoped>\n",
       "    .dataframe tbody tr th:only-of-type {\n",
       "        vertical-align: middle;\n",
       "    }\n",
       "\n",
       "    .dataframe tbody tr th {\n",
       "        vertical-align: top;\n",
       "    }\n",
       "\n",
       "    .dataframe thead th {\n",
       "        text-align: right;\n",
       "    }\n",
       "</style>\n",
       "<table border=\"1\" class=\"dataframe\">\n",
       "  <thead>\n",
       "    <tr style=\"text-align: right;\">\n",
       "      <th></th>\n",
       "      <th>reads_count</th>\n",
       "      <th>dwelling_time_-1_25</th>\n",
       "      <th>dwelling_time_-1_50</th>\n",
       "      <th>dwelling_time_-1_75</th>\n",
       "      <th>dwelling_time_-1_mean</th>\n",
       "      <th>dwelling_time_-1_min</th>\n",
       "      <th>dwelling_time_-1_max</th>\n",
       "      <th>std_-1_25</th>\n",
       "      <th>std_-1_50</th>\n",
       "      <th>std_-1_75</th>\n",
       "      <th>...</th>\n",
       "      <th>position_1_T</th>\n",
       "      <th>position_2_A</th>\n",
       "      <th>position_2_G</th>\n",
       "      <th>position_5_C</th>\n",
       "      <th>position_5_A</th>\n",
       "      <th>position_5_T</th>\n",
       "      <th>position_6_T</th>\n",
       "      <th>position_6_A</th>\n",
       "      <th>position_6_G</th>\n",
       "      <th>position_6_C</th>\n",
       "    </tr>\n",
       "  </thead>\n",
       "  <tbody>\n",
       "    <tr>\n",
       "      <th>0</th>\n",
       "      <td>-0.429603</td>\n",
       "      <td>-0.097196</td>\n",
       "      <td>-0.491042</td>\n",
       "      <td>-0.681852</td>\n",
       "      <td>-0.757836</td>\n",
       "      <td>0.023085</td>\n",
       "      <td>-1.355167</td>\n",
       "      <td>-0.625580</td>\n",
       "      <td>-0.777883</td>\n",
       "      <td>-0.816721</td>\n",
       "      <td>...</td>\n",
       "      <td>0</td>\n",
       "      <td>1</td>\n",
       "      <td>0</td>\n",
       "      <td>1</td>\n",
       "      <td>0</td>\n",
       "      <td>0</td>\n",
       "      <td>1</td>\n",
       "      <td>0</td>\n",
       "      <td>0</td>\n",
       "      <td>0</td>\n",
       "    </tr>\n",
       "    <tr>\n",
       "      <th>1</th>\n",
       "      <td>-0.350251</td>\n",
       "      <td>-0.667241</td>\n",
       "      <td>-0.836892</td>\n",
       "      <td>-0.576006</td>\n",
       "      <td>-0.738994</td>\n",
       "      <td>0.023085</td>\n",
       "      <td>-0.981329</td>\n",
       "      <td>-0.912831</td>\n",
       "      <td>-0.745608</td>\n",
       "      <td>-0.591965</td>\n",
       "      <td>...</td>\n",
       "      <td>0</td>\n",
       "      <td>0</td>\n",
       "      <td>1</td>\n",
       "      <td>1</td>\n",
       "      <td>0</td>\n",
       "      <td>0</td>\n",
       "      <td>1</td>\n",
       "      <td>0</td>\n",
       "      <td>0</td>\n",
       "      <td>0</td>\n",
       "    </tr>\n",
       "    <tr>\n",
       "      <th>2</th>\n",
       "      <td>-0.494527</td>\n",
       "      <td>-1.646377</td>\n",
       "      <td>-1.552442</td>\n",
       "      <td>-1.727199</td>\n",
       "      <td>-1.942534</td>\n",
       "      <td>0.023085</td>\n",
       "      <td>-1.577449</td>\n",
       "      <td>-1.089840</td>\n",
       "      <td>-0.969047</td>\n",
       "      <td>-0.850329</td>\n",
       "      <td>...</td>\n",
       "      <td>1</td>\n",
       "      <td>1</td>\n",
       "      <td>0</td>\n",
       "      <td>0</td>\n",
       "      <td>1</td>\n",
       "      <td>0</td>\n",
       "      <td>0</td>\n",
       "      <td>1</td>\n",
       "      <td>0</td>\n",
       "      <td>0</td>\n",
       "    </tr>\n",
       "    <tr>\n",
       "      <th>3</th>\n",
       "      <td>-0.335823</td>\n",
       "      <td>-0.162025</td>\n",
       "      <td>-0.562597</td>\n",
       "      <td>-0.773584</td>\n",
       "      <td>-0.674330</td>\n",
       "      <td>1.436755</td>\n",
       "      <td>0.362466</td>\n",
       "      <td>-0.422175</td>\n",
       "      <td>-0.452655</td>\n",
       "      <td>-0.560457</td>\n",
       "      <td>...</td>\n",
       "      <td>1</td>\n",
       "      <td>0</td>\n",
       "      <td>1</td>\n",
       "      <td>0</td>\n",
       "      <td>1</td>\n",
       "      <td>0</td>\n",
       "      <td>1</td>\n",
       "      <td>0</td>\n",
       "      <td>0</td>\n",
       "      <td>0</td>\n",
       "    </tr>\n",
       "    <tr>\n",
       "      <th>4</th>\n",
       "      <td>-0.494527</td>\n",
       "      <td>-1.498836</td>\n",
       "      <td>-1.170815</td>\n",
       "      <td>-1.628410</td>\n",
       "      <td>-1.661636</td>\n",
       "      <td>-0.673200</td>\n",
       "      <td>-1.183403</td>\n",
       "      <td>-1.217162</td>\n",
       "      <td>-0.929325</td>\n",
       "      <td>-0.953254</td>\n",
       "      <td>...</td>\n",
       "      <td>0</td>\n",
       "      <td>1</td>\n",
       "      <td>0</td>\n",
       "      <td>0</td>\n",
       "      <td>0</td>\n",
       "      <td>1</td>\n",
       "      <td>1</td>\n",
       "      <td>0</td>\n",
       "      <td>0</td>\n",
       "      <td>0</td>\n",
       "    </tr>\n",
       "    <tr>\n",
       "      <th>...</th>\n",
       "      <td>...</td>\n",
       "      <td>...</td>\n",
       "      <td>...</td>\n",
       "      <td>...</td>\n",
       "      <td>...</td>\n",
       "      <td>...</td>\n",
       "      <td>...</td>\n",
       "      <td>...</td>\n",
       "      <td>...</td>\n",
       "      <td>...</td>\n",
       "      <td>...</td>\n",
       "      <td>...</td>\n",
       "      <td>...</td>\n",
       "      <td>...</td>\n",
       "      <td>...</td>\n",
       "      <td>...</td>\n",
       "      <td>...</td>\n",
       "      <td>...</td>\n",
       "      <td>...</td>\n",
       "      <td>...</td>\n",
       "      <td>...</td>\n",
       "    </tr>\n",
       "    <tr>\n",
       "      <th>30401</th>\n",
       "      <td>0.219641</td>\n",
       "      <td>0.470179</td>\n",
       "      <td>0.772986</td>\n",
       "      <td>0.867393</td>\n",
       "      <td>0.872813</td>\n",
       "      <td>0.145475</td>\n",
       "      <td>0.404605</td>\n",
       "      <td>0.540573</td>\n",
       "      <td>0.480885</td>\n",
       "      <td>0.369271</td>\n",
       "      <td>...</td>\n",
       "      <td>0</td>\n",
       "      <td>0</td>\n",
       "      <td>1</td>\n",
       "      <td>0</td>\n",
       "      <td>0</td>\n",
       "      <td>1</td>\n",
       "      <td>0</td>\n",
       "      <td>0</td>\n",
       "      <td>0</td>\n",
       "      <td>1</td>\n",
       "    </tr>\n",
       "    <tr>\n",
       "      <th>30402</th>\n",
       "      <td>-0.487313</td>\n",
       "      <td>2.284990</td>\n",
       "      <td>1.788111</td>\n",
       "      <td>1.441200</td>\n",
       "      <td>1.842226</td>\n",
       "      <td>1.584522</td>\n",
       "      <td>-0.218663</td>\n",
       "      <td>0.821727</td>\n",
       "      <td>0.901437</td>\n",
       "      <td>0.788863</td>\n",
       "      <td>...</td>\n",
       "      <td>0</td>\n",
       "      <td>0</td>\n",
       "      <td>1</td>\n",
       "      <td>1</td>\n",
       "      <td>0</td>\n",
       "      <td>0</td>\n",
       "      <td>0</td>\n",
       "      <td>1</td>\n",
       "      <td>0</td>\n",
       "      <td>0</td>\n",
       "    </tr>\n",
       "    <tr>\n",
       "      <th>30403</th>\n",
       "      <td>-0.458458</td>\n",
       "      <td>1.235525</td>\n",
       "      <td>0.380691</td>\n",
       "      <td>0.320119</td>\n",
       "      <td>0.494436</td>\n",
       "      <td>1.955841</td>\n",
       "      <td>-0.194858</td>\n",
       "      <td>-0.721332</td>\n",
       "      <td>-0.810700</td>\n",
       "      <td>-0.864526</td>\n",
       "      <td>...</td>\n",
       "      <td>0</td>\n",
       "      <td>0</td>\n",
       "      <td>1</td>\n",
       "      <td>0</td>\n",
       "      <td>0</td>\n",
       "      <td>1</td>\n",
       "      <td>0</td>\n",
       "      <td>0</td>\n",
       "      <td>1</td>\n",
       "      <td>0</td>\n",
       "    </tr>\n",
       "    <tr>\n",
       "      <th>30404</th>\n",
       "      <td>0.024868</td>\n",
       "      <td>-0.458141</td>\n",
       "      <td>-0.088997</td>\n",
       "      <td>0.212745</td>\n",
       "      <td>0.014388</td>\n",
       "      <td>-1.212709</td>\n",
       "      <td>0.757649</td>\n",
       "      <td>2.440285</td>\n",
       "      <td>2.763417</td>\n",
       "      <td>3.023251</td>\n",
       "      <td>...</td>\n",
       "      <td>0</td>\n",
       "      <td>1</td>\n",
       "      <td>0</td>\n",
       "      <td>0</td>\n",
       "      <td>1</td>\n",
       "      <td>0</td>\n",
       "      <td>1</td>\n",
       "      <td>0</td>\n",
       "      <td>0</td>\n",
       "      <td>0</td>\n",
       "    </tr>\n",
       "    <tr>\n",
       "      <th>30405</th>\n",
       "      <td>-0.371892</td>\n",
       "      <td>1.857158</td>\n",
       "      <td>1.683864</td>\n",
       "      <td>1.534493</td>\n",
       "      <td>1.626573</td>\n",
       "      <td>0.260664</td>\n",
       "      <td>0.357242</td>\n",
       "      <td>0.139796</td>\n",
       "      <td>0.449005</td>\n",
       "      <td>0.365091</td>\n",
       "      <td>...</td>\n",
       "      <td>0</td>\n",
       "      <td>0</td>\n",
       "      <td>1</td>\n",
       "      <td>0</td>\n",
       "      <td>1</td>\n",
       "      <td>0</td>\n",
       "      <td>1</td>\n",
       "      <td>0</td>\n",
       "      <td>0</td>\n",
       "      <td>0</td>\n",
       "    </tr>\n",
       "  </tbody>\n",
       "</table>\n",
       "<p>30406 rows × 54 columns</p>\n",
       "</div>"
      ],
      "text/plain": [
       "       reads_count  dwelling_time_-1_25  dwelling_time_-1_50  \\\n",
       "0        -0.429603            -0.097196            -0.491042   \n",
       "1        -0.350251            -0.667241            -0.836892   \n",
       "2        -0.494527            -1.646377            -1.552442   \n",
       "3        -0.335823            -0.162025            -0.562597   \n",
       "4        -0.494527            -1.498836            -1.170815   \n",
       "...            ...                  ...                  ...   \n",
       "30401     0.219641             0.470179             0.772986   \n",
       "30402    -0.487313             2.284990             1.788111   \n",
       "30403    -0.458458             1.235525             0.380691   \n",
       "30404     0.024868            -0.458141            -0.088997   \n",
       "30405    -0.371892             1.857158             1.683864   \n",
       "\n",
       "       dwelling_time_-1_75  dwelling_time_-1_mean  dwelling_time_-1_min  \\\n",
       "0                -0.681852              -0.757836              0.023085   \n",
       "1                -0.576006              -0.738994              0.023085   \n",
       "2                -1.727199              -1.942534              0.023085   \n",
       "3                -0.773584              -0.674330              1.436755   \n",
       "4                -1.628410              -1.661636             -0.673200   \n",
       "...                    ...                    ...                   ...   \n",
       "30401             0.867393               0.872813              0.145475   \n",
       "30402             1.441200               1.842226              1.584522   \n",
       "30403             0.320119               0.494436              1.955841   \n",
       "30404             0.212745               0.014388             -1.212709   \n",
       "30405             1.534493               1.626573              0.260664   \n",
       "\n",
       "       dwelling_time_-1_max  std_-1_25  std_-1_50  std_-1_75  ...  \\\n",
       "0                 -1.355167  -0.625580  -0.777883  -0.816721  ...   \n",
       "1                 -0.981329  -0.912831  -0.745608  -0.591965  ...   \n",
       "2                 -1.577449  -1.089840  -0.969047  -0.850329  ...   \n",
       "3                  0.362466  -0.422175  -0.452655  -0.560457  ...   \n",
       "4                 -1.183403  -1.217162  -0.929325  -0.953254  ...   \n",
       "...                     ...        ...        ...        ...  ...   \n",
       "30401              0.404605   0.540573   0.480885   0.369271  ...   \n",
       "30402             -0.218663   0.821727   0.901437   0.788863  ...   \n",
       "30403             -0.194858  -0.721332  -0.810700  -0.864526  ...   \n",
       "30404              0.757649   2.440285   2.763417   3.023251  ...   \n",
       "30405              0.357242   0.139796   0.449005   0.365091  ...   \n",
       "\n",
       "       position_1_T  position_2_A  position_2_G  position_5_C  position_5_A  \\\n",
       "0                 0             1             0             1             0   \n",
       "1                 0             0             1             1             0   \n",
       "2                 1             1             0             0             1   \n",
       "3                 1             0             1             0             1   \n",
       "4                 0             1             0             0             0   \n",
       "...             ...           ...           ...           ...           ...   \n",
       "30401             0             0             1             0             0   \n",
       "30402             0             0             1             1             0   \n",
       "30403             0             0             1             0             0   \n",
       "30404             0             1             0             0             1   \n",
       "30405             0             0             1             0             1   \n",
       "\n",
       "       position_5_T  position_6_T  position_6_A  position_6_G  position_6_C  \n",
       "0                 0             1             0             0             0  \n",
       "1                 0             1             0             0             0  \n",
       "2                 0             0             1             0             0  \n",
       "3                 0             1             0             0             0  \n",
       "4                 1             1             0             0             0  \n",
       "...             ...           ...           ...           ...           ...  \n",
       "30401             1             0             0             0             1  \n",
       "30402             0             0             1             0             0  \n",
       "30403             1             0             0             1             0  \n",
       "30404             0             1             0             0             0  \n",
       "30405             0             1             0             0             0  \n",
       "\n",
       "[30406 rows x 54 columns]"
      ]
     },
     "execution_count": 77,
     "metadata": {},
     "output_type": "execute_result"
    }
   ],
   "source": [
    "X_train_d"
   ]
  },
  {
   "cell_type": "code",
   "execution_count": 81,
   "metadata": {},
   "outputs": [
    {
     "name": "stdout",
     "output_type": "stream",
     "text": [
      "[LightGBM] [Warning] min_data_in_leaf is set=10, min_child_samples=20 will be ignored. Current value: min_data_in_leaf=10\n",
      "[LightGBM] [Warning] lambda_l1 is set=0, reg_alpha=1.5 will be ignored. Current value: lambda_l1=0\n",
      "[LightGBM] [Warning] lambda_l2 is set=1, reg_lambda=1.5 will be ignored. Current value: lambda_l2=1\n",
      "[LightGBM] [Warning] min_data_in_leaf is set=10, min_child_samples=20 will be ignored. Current value: min_data_in_leaf=10\n",
      "[LightGBM] [Warning] lambda_l1 is set=0, reg_alpha=1.5 will be ignored. Current value: lambda_l1=0\n",
      "[LightGBM] [Warning] lambda_l2 is set=1, reg_lambda=1.5 will be ignored. Current value: lambda_l2=1\n",
      "[LightGBM] [Info] Number of positive: 5483, number of negative: 24923\n",
      "[LightGBM] [Warning] Auto-choosing col-wise multi-threading, the overhead of testing was 0.007380 seconds.\n",
      "You can set `force_col_wise=true` to remove the overhead.\n",
      "[LightGBM] [Info] Total Bins 9721\n",
      "[LightGBM] [Info] Number of data points in the train set: 30406, number of used features: 54\n",
      "[LightGBM] [Warning] min_data_in_leaf is set=10, min_child_samples=20 will be ignored. Current value: min_data_in_leaf=10\n",
      "[LightGBM] [Warning] lambda_l1 is set=0, reg_alpha=1.5 will be ignored. Current value: lambda_l1=0\n",
      "[LightGBM] [Warning] lambda_l2 is set=1, reg_lambda=1.5 will be ignored. Current value: lambda_l2=1\n",
      "[LightGBM] [Info] [binary:BoostFromScore]: pavg=0.180326 -> initscore=-1.514139\n",
      "[LightGBM] [Info] Start training from score -1.514139\n",
      "[1]\ttraining's binary_logloss: 0.42319\tvalid_0's binary_logloss: 0.265475\n",
      "[2]\ttraining's binary_logloss: 0.395084\tvalid_0's binary_logloss: 0.259914\n",
      "[3]\ttraining's binary_logloss: 0.375944\tvalid_0's binary_logloss: 0.256704\n",
      "[4]\ttraining's binary_logloss: 0.362001\tvalid_0's binary_logloss: 0.255206\n",
      "[5]\ttraining's binary_logloss: 0.35158\tvalid_0's binary_logloss: 0.254576\n",
      "[6]\ttraining's binary_logloss: 0.343454\tvalid_0's binary_logloss: 0.254245\n",
      "[7]\ttraining's binary_logloss: 0.33623\tvalid_0's binary_logloss: 0.253908\n",
      "[8]\ttraining's binary_logloss: 0.330248\tvalid_0's binary_logloss: 0.253538\n",
      "[9]\ttraining's binary_logloss: 0.32513\tvalid_0's binary_logloss: 0.253414\n",
      "[10]\ttraining's binary_logloss: 0.320851\tvalid_0's binary_logloss: 0.25361\n",
      "[11]\ttraining's binary_logloss: 0.316478\tvalid_0's binary_logloss: 0.253126\n",
      "[12]\ttraining's binary_logloss: 0.312354\tvalid_0's binary_logloss: 0.252836\n",
      "[13]\ttraining's binary_logloss: 0.308766\tvalid_0's binary_logloss: 0.252469\n",
      "[14]\ttraining's binary_logloss: 0.305597\tvalid_0's binary_logloss: 0.252077\n",
      "[15]\ttraining's binary_logloss: 0.302369\tvalid_0's binary_logloss: 0.251466\n",
      "[16]\ttraining's binary_logloss: 0.299588\tvalid_0's binary_logloss: 0.251445\n",
      "[17]\ttraining's binary_logloss: 0.296604\tvalid_0's binary_logloss: 0.251033\n",
      "[18]\ttraining's binary_logloss: 0.293969\tvalid_0's binary_logloss: 0.250664\n",
      "[19]\ttraining's binary_logloss: 0.291409\tvalid_0's binary_logloss: 0.250195\n",
      "[20]\ttraining's binary_logloss: 0.288778\tvalid_0's binary_logloss: 0.249602\n",
      "[21]\ttraining's binary_logloss: 0.28571\tvalid_0's binary_logloss: 0.248282\n",
      "[22]\ttraining's binary_logloss: 0.283214\tvalid_0's binary_logloss: 0.247695\n",
      "[23]\ttraining's binary_logloss: 0.280766\tvalid_0's binary_logloss: 0.246695\n",
      "[24]\ttraining's binary_logloss: 0.278432\tvalid_0's binary_logloss: 0.246286\n",
      "[25]\ttraining's binary_logloss: 0.275911\tvalid_0's binary_logloss: 0.245418\n",
      "[26]\ttraining's binary_logloss: 0.273155\tvalid_0's binary_logloss: 0.243996\n",
      "[27]\ttraining's binary_logloss: 0.270627\tvalid_0's binary_logloss: 0.24316\n",
      "[28]\ttraining's binary_logloss: 0.267757\tvalid_0's binary_logloss: 0.24199\n",
      "[29]\ttraining's binary_logloss: 0.265262\tvalid_0's binary_logloss: 0.24085\n",
      "[30]\ttraining's binary_logloss: 0.263196\tvalid_0's binary_logloss: 0.239995\n",
      "[31]\ttraining's binary_logloss: 0.260935\tvalid_0's binary_logloss: 0.239117\n",
      "[32]\ttraining's binary_logloss: 0.258986\tvalid_0's binary_logloss: 0.238294\n",
      "[33]\ttraining's binary_logloss: 0.256858\tvalid_0's binary_logloss: 0.237489\n",
      "[34]\ttraining's binary_logloss: 0.254778\tvalid_0's binary_logloss: 0.236956\n",
      "[35]\ttraining's binary_logloss: 0.25295\tvalid_0's binary_logloss: 0.236455\n",
      "[36]\ttraining's binary_logloss: 0.251121\tvalid_0's binary_logloss: 0.236142\n",
      "[37]\ttraining's binary_logloss: 0.249217\tvalid_0's binary_logloss: 0.23564\n",
      "[38]\ttraining's binary_logloss: 0.246996\tvalid_0's binary_logloss: 0.235024\n",
      "[39]\ttraining's binary_logloss: 0.245356\tvalid_0's binary_logloss: 0.234659\n",
      "[40]\ttraining's binary_logloss: 0.24309\tvalid_0's binary_logloss: 0.233632\n",
      "[41]\ttraining's binary_logloss: 0.241196\tvalid_0's binary_logloss: 0.232732\n",
      "[42]\ttraining's binary_logloss: 0.239334\tvalid_0's binary_logloss: 0.232046\n",
      "[43]\ttraining's binary_logloss: 0.23757\tvalid_0's binary_logloss: 0.231598\n",
      "[44]\ttraining's binary_logloss: 0.235701\tvalid_0's binary_logloss: 0.230831\n",
      "[45]\ttraining's binary_logloss: 0.233908\tvalid_0's binary_logloss: 0.230416\n",
      "[46]\ttraining's binary_logloss: 0.23245\tvalid_0's binary_logloss: 0.229913\n",
      "[47]\ttraining's binary_logloss: 0.230807\tvalid_0's binary_logloss: 0.229368\n",
      "[48]\ttraining's binary_logloss: 0.229146\tvalid_0's binary_logloss: 0.228915\n",
      "[49]\ttraining's binary_logloss: 0.227514\tvalid_0's binary_logloss: 0.22842\n",
      "[50]\ttraining's binary_logloss: 0.225902\tvalid_0's binary_logloss: 0.227944\n",
      "[51]\ttraining's binary_logloss: 0.224416\tvalid_0's binary_logloss: 0.227161\n",
      "[52]\ttraining's binary_logloss: 0.22297\tvalid_0's binary_logloss: 0.22694\n",
      "[53]\ttraining's binary_logloss: 0.221647\tvalid_0's binary_logloss: 0.226494\n",
      "[54]\ttraining's binary_logloss: 0.220234\tvalid_0's binary_logloss: 0.225949\n",
      "[55]\ttraining's binary_logloss: 0.218881\tvalid_0's binary_logloss: 0.225524\n",
      "[56]\ttraining's binary_logloss: 0.217335\tvalid_0's binary_logloss: 0.225096\n",
      "[57]\ttraining's binary_logloss: 0.215942\tvalid_0's binary_logloss: 0.224693\n",
      "[58]\ttraining's binary_logloss: 0.21447\tvalid_0's binary_logloss: 0.224342\n",
      "[59]\ttraining's binary_logloss: 0.213463\tvalid_0's binary_logloss: 0.224191\n",
      "[60]\ttraining's binary_logloss: 0.212266\tvalid_0's binary_logloss: 0.223752\n",
      "[61]\ttraining's binary_logloss: 0.21066\tvalid_0's binary_logloss: 0.22328\n",
      "[62]\ttraining's binary_logloss: 0.209456\tvalid_0's binary_logloss: 0.222788\n",
      "[63]\ttraining's binary_logloss: 0.208308\tvalid_0's binary_logloss: 0.222421\n",
      "[64]\ttraining's binary_logloss: 0.207161\tvalid_0's binary_logloss: 0.222222\n",
      "[65]\ttraining's binary_logloss: 0.205951\tvalid_0's binary_logloss: 0.221915\n",
      "[66]\ttraining's binary_logloss: 0.204756\tvalid_0's binary_logloss: 0.221794\n",
      "[67]\ttraining's binary_logloss: 0.203324\tvalid_0's binary_logloss: 0.221531\n",
      "[68]\ttraining's binary_logloss: 0.202165\tvalid_0's binary_logloss: 0.221426\n",
      "[69]\ttraining's binary_logloss: 0.201049\tvalid_0's binary_logloss: 0.221098\n",
      "[70]\ttraining's binary_logloss: 0.199805\tvalid_0's binary_logloss: 0.220884\n",
      "[71]\ttraining's binary_logloss: 0.198689\tvalid_0's binary_logloss: 0.220267\n",
      "[72]\ttraining's binary_logloss: 0.197703\tvalid_0's binary_logloss: 0.219854\n",
      "[73]\ttraining's binary_logloss: 0.19656\tvalid_0's binary_logloss: 0.219638\n",
      "[74]\ttraining's binary_logloss: 0.195266\tvalid_0's binary_logloss: 0.21945\n",
      "[75]\ttraining's binary_logloss: 0.193881\tvalid_0's binary_logloss: 0.218926\n",
      "[76]\ttraining's binary_logloss: 0.192822\tvalid_0's binary_logloss: 0.218693\n",
      "[77]\ttraining's binary_logloss: 0.191854\tvalid_0's binary_logloss: 0.218422\n",
      "[78]\ttraining's binary_logloss: 0.190675\tvalid_0's binary_logloss: 0.217937\n",
      "[79]\ttraining's binary_logloss: 0.189612\tvalid_0's binary_logloss: 0.21772\n",
      "[80]\ttraining's binary_logloss: 0.188426\tvalid_0's binary_logloss: 0.21742\n",
      "[81]\ttraining's binary_logloss: 0.187538\tvalid_0's binary_logloss: 0.217166\n",
      "[82]\ttraining's binary_logloss: 0.186524\tvalid_0's binary_logloss: 0.216939\n",
      "[83]\ttraining's binary_logloss: 0.185378\tvalid_0's binary_logloss: 0.216685\n",
      "[84]\ttraining's binary_logloss: 0.184294\tvalid_0's binary_logloss: 0.216369\n",
      "[85]\ttraining's binary_logloss: 0.183369\tvalid_0's binary_logloss: 0.216248\n",
      "[86]\ttraining's binary_logloss: 0.182395\tvalid_0's binary_logloss: 0.215775\n",
      "[87]\ttraining's binary_logloss: 0.181191\tvalid_0's binary_logloss: 0.215585\n",
      "[88]\ttraining's binary_logloss: 0.18037\tvalid_0's binary_logloss: 0.21534\n",
      "[89]\ttraining's binary_logloss: 0.179415\tvalid_0's binary_logloss: 0.215064\n",
      "[90]\ttraining's binary_logloss: 0.178488\tvalid_0's binary_logloss: 0.214864\n",
      "[91]\ttraining's binary_logloss: 0.177318\tvalid_0's binary_logloss: 0.214505\n",
      "[92]\ttraining's binary_logloss: 0.176343\tvalid_0's binary_logloss: 0.214317\n",
      "[93]\ttraining's binary_logloss: 0.175183\tvalid_0's binary_logloss: 0.213953\n",
      "[94]\ttraining's binary_logloss: 0.174311\tvalid_0's binary_logloss: 0.213581\n",
      "[95]\ttraining's binary_logloss: 0.173419\tvalid_0's binary_logloss: 0.213376\n",
      "[96]\ttraining's binary_logloss: 0.172574\tvalid_0's binary_logloss: 0.213001\n",
      "[97]\ttraining's binary_logloss: 0.171552\tvalid_0's binary_logloss: 0.212801\n",
      "[98]\ttraining's binary_logloss: 0.170794\tvalid_0's binary_logloss: 0.212611\n",
      "[99]\ttraining's binary_logloss: 0.169841\tvalid_0's binary_logloss: 0.212511\n",
      "[100]\ttraining's binary_logloss: 0.168839\tvalid_0's binary_logloss: 0.212161\n",
      "[101]\ttraining's binary_logloss: 0.16799\tvalid_0's binary_logloss: 0.212009\n",
      "[102]\ttraining's binary_logloss: 0.166965\tvalid_0's binary_logloss: 0.2116\n",
      "[103]\ttraining's binary_logloss: 0.165795\tvalid_0's binary_logloss: 0.211212\n",
      "[104]\ttraining's binary_logloss: 0.165146\tvalid_0's binary_logloss: 0.211087\n",
      "[105]\ttraining's binary_logloss: 0.164354\tvalid_0's binary_logloss: 0.210772\n",
      "[106]\ttraining's binary_logloss: 0.163551\tvalid_0's binary_logloss: 0.21061\n",
      "[107]\ttraining's binary_logloss: 0.162761\tvalid_0's binary_logloss: 0.210436\n",
      "[108]\ttraining's binary_logloss: 0.161574\tvalid_0's binary_logloss: 0.210129\n",
      "[109]\ttraining's binary_logloss: 0.160541\tvalid_0's binary_logloss: 0.209922\n",
      "[110]\ttraining's binary_logloss: 0.159693\tvalid_0's binary_logloss: 0.209792\n",
      "[111]\ttraining's binary_logloss: 0.158793\tvalid_0's binary_logloss: 0.209616\n",
      "[112]\ttraining's binary_logloss: 0.158079\tvalid_0's binary_logloss: 0.209414\n",
      "[113]\ttraining's binary_logloss: 0.157446\tvalid_0's binary_logloss: 0.209169\n",
      "[114]\ttraining's binary_logloss: 0.156436\tvalid_0's binary_logloss: 0.208744\n",
      "[115]\ttraining's binary_logloss: 0.155543\tvalid_0's binary_logloss: 0.20845\n",
      "[116]\ttraining's binary_logloss: 0.154399\tvalid_0's binary_logloss: 0.2079\n",
      "[117]\ttraining's binary_logloss: 0.153422\tvalid_0's binary_logloss: 0.207638\n",
      "[118]\ttraining's binary_logloss: 0.152497\tvalid_0's binary_logloss: 0.207394\n",
      "[119]\ttraining's binary_logloss: 0.151555\tvalid_0's binary_logloss: 0.207139\n",
      "[120]\ttraining's binary_logloss: 0.150613\tvalid_0's binary_logloss: 0.206925\n",
      "[121]\ttraining's binary_logloss: 0.149847\tvalid_0's binary_logloss: 0.206729\n",
      "[122]\ttraining's binary_logloss: 0.148963\tvalid_0's binary_logloss: 0.206759\n",
      "[123]\ttraining's binary_logloss: 0.148187\tvalid_0's binary_logloss: 0.206635\n",
      "[LightGBM] [Warning] No further splits with positive gain, best gain: -inf\n",
      "[124]\ttraining's binary_logloss: 0.147762\tvalid_0's binary_logloss: 0.206505\n",
      "[125]\ttraining's binary_logloss: 0.147068\tvalid_0's binary_logloss: 0.206347\n",
      "[126]\ttraining's binary_logloss: 0.14622\tvalid_0's binary_logloss: 0.206144\n",
      "[127]\ttraining's binary_logloss: 0.145525\tvalid_0's binary_logloss: 0.205907\n",
      "[128]\ttraining's binary_logloss: 0.14484\tvalid_0's binary_logloss: 0.205712\n",
      "[129]\ttraining's binary_logloss: 0.144092\tvalid_0's binary_logloss: 0.205426\n",
      "[130]\ttraining's binary_logloss: 0.143216\tvalid_0's binary_logloss: 0.205145\n",
      "[131]\ttraining's binary_logloss: 0.142321\tvalid_0's binary_logloss: 0.2049\n",
      "[132]\ttraining's binary_logloss: 0.141527\tvalid_0's binary_logloss: 0.204636\n",
      "[133]\ttraining's binary_logloss: 0.140584\tvalid_0's binary_logloss: 0.204239\n",
      "[134]\ttraining's binary_logloss: 0.140026\tvalid_0's binary_logloss: 0.204153\n",
      "[135]\ttraining's binary_logloss: 0.139254\tvalid_0's binary_logloss: 0.203698\n",
      "Accuracy of random forest classifier on validation set using 25th quantile: 0.91\n",
      "Accuracy of random forest classifier on test set using 25th quantile: 0.92\n"
     ]
    },
    {
     "data": {
      "image/png": "[encoded data removed]",
      "text/plain": [
       "<Figure size 400x300 with 1 Axes>"
      ]
     },
     "metadata": {},
     "output_type": "display_data"
    },
    {
     "data": {
      "image/png": "[encoded data removed]",
      "text/plain": [
       "<Figure size 400x300 with 1 Axes>"
      ]
     },
     "metadata": {},
     "output_type": "display_data"
    }
   ],
   "source": [
    "lgbmodel(X_train_d, y_train.values.ravel(), X_val_d, y_val.values.ravel(), X_test_d, y_test.values.ravel(), \"25th quantile\")"
   ]
  },
  {
   "cell_type": "code",
   "execution_count": null,
   "metadata": {},
   "outputs": [],
   "source": [
    "param_grid = {\n",
    "    'num_leaves': [31, 50, 60, 90, 127, 150, 175, 185, 190, 200, 225],\n",
    "    'reg_alpha': [0.1, 0.5, 1, 1.5, 2, 2.5],\n",
    "    'min_data_in_leaf': [10,15, 20, 25, 30],\n",
    "    'lambda_l1': [0,0.5,1,1.5, 2, 2.5, 3],\n",
    "    'lambda_l2': [0,0.5,1],\n",
    "    'reg_lambda':[0.5,1,1.5,1.75,2, 2.25, 2.5, 3],\n",
    "    'n_estimators': [100,110, 115, 120 ,125,130,135, 140, 145,150,165,175],\n",
    "    'max_depth':[3,6,9,12, 15,18,21,24],\n",
    "    'min_child_weight':[4.0, 8.0, 10.0, 12.0, 12.5, 15.0],\n",
    "    'scale_pos_weight':[2,5,7,9,11,13,15]\n",
    "    }\n",
    "\n",
    "lgb_estimator = lgb.LGBMClassifier(boosting_type='gbdt',  objective='binary', num_boost_round=2000, learning_rate=0.01, metric='auc')\n",
    "\n",
    "gsearch = RandomizedSearchCV(lgb_estimator, param_grid, cv=3, n_jobs=3)\n",
    "lgb_model = gsearch.fit(X=X_train, y=y_train.values.ravel())\n",
    "\n",
    "print(lgb_model.best_params_, lgb_model.best_score_)"
   ]
  },
  {
   "cell_type": "markdown",
   "metadata": {},
   "source": [
    "## RFE"
   ]
  },
  {
   "cell_type": "code",
   "execution_count": 82,
   "metadata": {},
   "outputs": [
    {
     "name": "stderr",
     "output_type": "stream",
     "text": [
      "/opt/anaconda3/envs/gene/lib/python3.8/site-packages/sklearn/preprocessing/_label.py:98: DataConversionWarning: A column-vector y was passed when a 1d array was expected. Please change the shape of y to (n_samples, ), for example using ravel().\n",
      "  y = column_or_1d(y, warn=True)\n",
      "/opt/anaconda3/envs/gene/lib/python3.8/site-packages/sklearn/preprocessing/_label.py:133: DataConversionWarning: A column-vector y was passed when a 1d array was expected. Please change the shape of y to (n_samples, ), for example using ravel().\n",
      "  y = column_or_1d(y, warn=True)\n"
     ]
    },
    {
     "name": "stdout",
     "output_type": "stream",
     "text": [
      "[LightGBM] [Warning] min_data_in_leaf is set=10, min_child_samples=20 will be ignored. Current value: min_data_in_leaf=10\n",
      "[LightGBM] [Warning] lambda_l1 is set=0, reg_alpha=1.5 will be ignored. Current value: lambda_l1=0\n",
      "[LightGBM] [Warning] lambda_l2 is set=1, reg_lambda=1.5 will be ignored. Current value: lambda_l2=1\n",
      "[LightGBM] [Warning] min_data_in_leaf is set=10, min_child_samples=20 will be ignored. Current value: min_data_in_leaf=10\n",
      "[LightGBM] [Warning] lambda_l1 is set=0, reg_alpha=1.5 will be ignored. Current value: lambda_l1=0\n",
      "[LightGBM] [Warning] lambda_l2 is set=1, reg_lambda=1.5 will be ignored. Current value: lambda_l2=1\n",
      "[LightGBM] [Info] Number of positive: 5483, number of negative: 24923\n",
      "[LightGBM] [Warning] Auto-choosing col-wise multi-threading, the overhead of testing was 0.017682 seconds.\n",
      "You can set `force_col_wise=true` to remove the overhead.\n",
      "[LightGBM] [Info] Total Bins 14054\n",
      "[LightGBM] [Info] Number of data points in the train set: 30406, number of used features: 72\n",
      "[LightGBM] [Info] [binary:BoostFromScore]: pavg=0.180326 -> initscore=-1.514139\n",
      "[LightGBM] [Info] Start training from score -1.514139\n",
      "[LightGBM] [Warning] No further splits with positive gain, best gain: -inf\n"
     ]
    },
    {
     "data": {
      "text/html": [
       "<div>\n",
       "<style scoped>\n",
       "    .dataframe tbody tr th:only-of-type {\n",
       "        vertical-align: middle;\n",
       "    }\n",
       "\n",
       "    .dataframe tbody tr th {\n",
       "        vertical-align: top;\n",
       "    }\n",
       "\n",
       "    .dataframe thead th {\n",
       "        text-align: right;\n",
       "    }\n",
       "</style>\n",
       "<table border=\"1\" class=\"dataframe\">\n",
       "  <thead>\n",
       "    <tr style=\"text-align: right;\">\n",
       "      <th></th>\n",
       "      <th>cols</th>\n",
       "      <th>fea_imp</th>\n",
       "    </tr>\n",
       "  </thead>\n",
       "  <tbody>\n",
       "    <tr>\n",
       "      <th>31</th>\n",
       "      <td>mean_0_25</td>\n",
       "      <td>265</td>\n",
       "    </tr>\n",
       "    <tr>\n",
       "      <th>55</th>\n",
       "      <td>relative_position</td>\n",
       "      <td>214</td>\n",
       "    </tr>\n",
       "    <tr>\n",
       "      <th>49</th>\n",
       "      <td>mean_+1_25</td>\n",
       "      <td>201</td>\n",
       "    </tr>\n",
       "    <tr>\n",
       "      <th>25</th>\n",
       "      <td>std_0_25</td>\n",
       "      <td>200</td>\n",
       "    </tr>\n",
       "    <tr>\n",
       "      <th>53</th>\n",
       "      <td>mean_+1_min</td>\n",
       "      <td>174</td>\n",
       "    </tr>\n",
       "    <tr>\n",
       "      <th>...</th>\n",
       "      <td>...</td>\n",
       "      <td>...</td>\n",
       "    </tr>\n",
       "    <tr>\n",
       "      <th>60</th>\n",
       "      <td>position_1_A</td>\n",
       "      <td>6</td>\n",
       "    </tr>\n",
       "    <tr>\n",
       "      <th>57</th>\n",
       "      <td>position_0_G</td>\n",
       "      <td>5</td>\n",
       "    </tr>\n",
       "    <tr>\n",
       "      <th>61</th>\n",
       "      <td>position_1_G</td>\n",
       "      <td>5</td>\n",
       "    </tr>\n",
       "    <tr>\n",
       "      <th>63</th>\n",
       "      <td>position_2_A</td>\n",
       "      <td>5</td>\n",
       "    </tr>\n",
       "    <tr>\n",
       "      <th>62</th>\n",
       "      <td>position_1_T</td>\n",
       "      <td>1</td>\n",
       "    </tr>\n",
       "  </tbody>\n",
       "</table>\n",
       "<p>71 rows × 2 columns</p>\n",
       "</div>"
      ],
      "text/plain": [
       "                 cols  fea_imp\n",
       "31          mean_0_25      265\n",
       "55  relative_position      214\n",
       "49         mean_+1_25      201\n",
       "25           std_0_25      200\n",
       "53        mean_+1_min      174\n",
       "..                ...      ...\n",
       "60       position_1_A        6\n",
       "57       position_0_G        5\n",
       "61       position_1_G        5\n",
       "63       position_2_A        5\n",
       "62       position_1_T        1\n",
       "\n",
       "[71 rows x 2 columns]"
      ]
     },
     "execution_count": 82,
     "metadata": {},
     "output_type": "execute_result"
    }
   ],
   "source": [
    "# Feature importance\n",
    "\n",
    "#lightGBM model fit\n",
    "\n",
    "model = lgb.LGBMClassifier(learning_rate=0.14048611339776612, max_depth=12,\n",
    "               min_child_weight=4.0, n_estimators=135, num_leaves=50,\n",
    "               random_state=42, reg_alpha=1.5, reg_lambda=1.5,\n",
    "               scale_pos_weight=2, verbosity=1, min_data_in_leaf=10,lambda_l2=1, lambda_l1 = 0)\n",
    "model.fit(X_train, y_train)\n",
    "model.booster_.feature_importance()\n",
    "\n",
    "# importance of each attribute\n",
    "fea_imp_ = pd.DataFrame({'cols':X_train.columns, 'fea_imp':model.feature_importances_})\n",
    "fea_imp_.loc[fea_imp_.fea_imp > 0].sort_values(by=['fea_imp'], ascending = False)"
   ]
  },
  {
   "cell_type": "code",
   "execution_count": 83,
   "metadata": {},
   "outputs": [
    {
     "data": {
      "text/html": [
       "<div>\n",
       "<style scoped>\n",
       "    .dataframe tbody tr th:only-of-type {\n",
       "        vertical-align: middle;\n",
       "    }\n",
       "\n",
       "    .dataframe tbody tr th {\n",
       "        vertical-align: top;\n",
       "    }\n",
       "\n",
       "    .dataframe thead th {\n",
       "        text-align: right;\n",
       "    }\n",
       "</style>\n",
       "<table border=\"1\" class=\"dataframe\">\n",
       "  <thead>\n",
       "    <tr style=\"text-align: right;\">\n",
       "      <th></th>\n",
       "      <th>cols</th>\n",
       "      <th>fea_imp</th>\n",
       "    </tr>\n",
       "  </thead>\n",
       "  <tbody>\n",
       "    <tr>\n",
       "      <th>31</th>\n",
       "      <td>mean_0_25</td>\n",
       "      <td>265</td>\n",
       "    </tr>\n",
       "    <tr>\n",
       "      <th>55</th>\n",
       "      <td>relative_position</td>\n",
       "      <td>214</td>\n",
       "    </tr>\n",
       "    <tr>\n",
       "      <th>49</th>\n",
       "      <td>mean_+1_25</td>\n",
       "      <td>201</td>\n",
       "    </tr>\n",
       "    <tr>\n",
       "      <th>25</th>\n",
       "      <td>std_0_25</td>\n",
       "      <td>200</td>\n",
       "    </tr>\n",
       "    <tr>\n",
       "      <th>53</th>\n",
       "      <td>mean_+1_min</td>\n",
       "      <td>174</td>\n",
       "    </tr>\n",
       "    <tr>\n",
       "      <th>35</th>\n",
       "      <td>mean_0_min</td>\n",
       "      <td>170</td>\n",
       "    </tr>\n",
       "    <tr>\n",
       "      <th>54</th>\n",
       "      <td>mean_+1_max</td>\n",
       "      <td>165</td>\n",
       "    </tr>\n",
       "    <tr>\n",
       "      <th>29</th>\n",
       "      <td>std_0_min</td>\n",
       "      <td>163</td>\n",
       "    </tr>\n",
       "    <tr>\n",
       "      <th>0</th>\n",
       "      <td>reads_count</td>\n",
       "      <td>154</td>\n",
       "    </tr>\n",
       "    <tr>\n",
       "      <th>28</th>\n",
       "      <td>std_0_mean</td>\n",
       "      <td>152</td>\n",
       "    </tr>\n",
       "    <tr>\n",
       "      <th>47</th>\n",
       "      <td>std_+1_min</td>\n",
       "      <td>144</td>\n",
       "    </tr>\n",
       "    <tr>\n",
       "      <th>51</th>\n",
       "      <td>mean_+1_75</td>\n",
       "      <td>142</td>\n",
       "    </tr>\n",
       "    <tr>\n",
       "      <th>12</th>\n",
       "      <td>std_-1_max</td>\n",
       "      <td>141</td>\n",
       "    </tr>\n",
       "    <tr>\n",
       "      <th>27</th>\n",
       "      <td>std_0_75</td>\n",
       "      <td>138</td>\n",
       "    </tr>\n",
       "    <tr>\n",
       "      <th>11</th>\n",
       "      <td>std_-1_min</td>\n",
       "      <td>135</td>\n",
       "    </tr>\n",
       "    <tr>\n",
       "      <th>9</th>\n",
       "      <td>std_-1_75</td>\n",
       "      <td>125</td>\n",
       "    </tr>\n",
       "    <tr>\n",
       "      <th>43</th>\n",
       "      <td>std_+1_25</td>\n",
       "      <td>124</td>\n",
       "    </tr>\n",
       "    <tr>\n",
       "      <th>19</th>\n",
       "      <td>dwelling_time_0_25</td>\n",
       "      <td>123</td>\n",
       "    </tr>\n",
       "    <tr>\n",
       "      <th>42</th>\n",
       "      <td>dwelling_time_+1_max</td>\n",
       "      <td>119</td>\n",
       "    </tr>\n",
       "    <tr>\n",
       "      <th>30</th>\n",
       "      <td>std_0_max</td>\n",
       "      <td>119</td>\n",
       "    </tr>\n",
       "    <tr>\n",
       "      <th>38</th>\n",
       "      <td>dwelling_time_+1_50</td>\n",
       "      <td>118</td>\n",
       "    </tr>\n",
       "    <tr>\n",
       "      <th>24</th>\n",
       "      <td>dwelling_time_0_max</td>\n",
       "      <td>117</td>\n",
       "    </tr>\n",
       "    <tr>\n",
       "      <th>20</th>\n",
       "      <td>dwelling_time_0_50</td>\n",
       "      <td>116</td>\n",
       "    </tr>\n",
       "    <tr>\n",
       "      <th>6</th>\n",
       "      <td>dwelling_time_-1_max</td>\n",
       "      <td>115</td>\n",
       "    </tr>\n",
       "  </tbody>\n",
       "</table>\n",
       "</div>"
      ],
      "text/plain": [
       "                    cols  fea_imp\n",
       "31             mean_0_25      265\n",
       "55     relative_position      214\n",
       "49            mean_+1_25      201\n",
       "25              std_0_25      200\n",
       "53           mean_+1_min      174\n",
       "35            mean_0_min      170\n",
       "54           mean_+1_max      165\n",
       "29             std_0_min      163\n",
       "0            reads_count      154\n",
       "28            std_0_mean      152\n",
       "47            std_+1_min      144\n",
       "51            mean_+1_75      142\n",
       "12            std_-1_max      141\n",
       "27              std_0_75      138\n",
       "11            std_-1_min      135\n",
       "9              std_-1_75      125\n",
       "43             std_+1_25      124\n",
       "19    dwelling_time_0_25      123\n",
       "42  dwelling_time_+1_max      119\n",
       "30             std_0_max      119\n",
       "38   dwelling_time_+1_50      118\n",
       "24   dwelling_time_0_max      117\n",
       "20    dwelling_time_0_50      116\n",
       "6   dwelling_time_-1_max      115"
      ]
     },
     "execution_count": 83,
     "metadata": {},
     "output_type": "execute_result"
    }
   ],
   "source": [
    "fea_imp_.loc[fea_imp_.fea_imp > 114].sort_values(by=['fea_imp'], ascending = False)"
   ]
  },
  {
   "cell_type": "code",
   "execution_count": 25,
   "metadata": {},
   "outputs": [
    {
     "data": {
      "text/plain": [
       "65"
      ]
     },
     "execution_count": 25,
     "metadata": {},
     "output_type": "execute_result"
    }
   ],
   "source": [
    "len(X_train.columns)"
   ]
  },
  {
   "cell_type": "code",
   "execution_count": 84,
   "metadata": {},
   "outputs": [
    {
     "name": "stderr",
     "output_type": "stream",
     "text": [
      "/opt/anaconda3/envs/gene/lib/python3.8/site-packages/sklearn/preprocessing/_label.py:98: DataConversionWarning: A column-vector y was passed when a 1d array was expected. Please change the shape of y to (n_samples, ), for example using ravel().\n",
      "  y = column_or_1d(y, warn=True)\n",
      "/opt/anaconda3/envs/gene/lib/python3.8/site-packages/sklearn/preprocessing/_label.py:133: DataConversionWarning: A column-vector y was passed when a 1d array was expected. Please change the shape of y to (n_samples, ), for example using ravel().\n",
      "  y = column_or_1d(y, warn=True)\n"
     ]
    },
    {
     "name": "stdout",
     "output_type": "stream",
     "text": [
      "[LightGBM] [Warning] min_data_in_leaf is set=10, min_child_samples=20 will be ignored. Current value: min_data_in_leaf=10\n",
      "[LightGBM] [Warning] lambda_l1 is set=0, reg_alpha=1.5 will be ignored. Current value: lambda_l1=0\n",
      "[LightGBM] [Warning] lambda_l2 is set=1, reg_lambda=1.5 will be ignored. Current value: lambda_l2=1\n",
      "[LightGBM] [Warning] min_data_in_leaf is set=10, min_child_samples=20 will be ignored. Current value: min_data_in_leaf=10\n",
      "[LightGBM] [Warning] lambda_l1 is set=0, reg_alpha=1.5 will be ignored. Current value: lambda_l1=0\n",
      "[LightGBM] [Warning] lambda_l2 is set=1, reg_lambda=1.5 will be ignored. Current value: lambda_l2=1\n",
      "[LightGBM] [Info] Number of positive: 5483, number of negative: 24923\n",
      "[LightGBM] [Warning] Auto-choosing col-wise multi-threading, the overhead of testing was 0.011790 seconds.\n",
      "You can set `force_col_wise=true` to remove the overhead.\n",
      "[LightGBM] [Info] Total Bins 14054\n",
      "[LightGBM] [Info] Number of data points in the train set: 30406, number of used features: 72\n",
      "[LightGBM] [Info] [binary:BoostFromScore]: pavg=0.180326 -> initscore=-1.514139\n",
      "[LightGBM] [Info] Start training from score -1.514139\n",
      "[LightGBM] [Warning] No further splits with positive gain, best gain: -inf\n"
     ]
    },
    {
     "name": "stderr",
     "output_type": "stream",
     "text": [
      "/opt/anaconda3/envs/gene/lib/python3.8/site-packages/sklearn/preprocessing/_label.py:98: DataConversionWarning: A column-vector y was passed when a 1d array was expected. Please change the shape of y to (n_samples, ), for example using ravel().\n",
      "  y = column_or_1d(y, warn=True)\n",
      "/opt/anaconda3/envs/gene/lib/python3.8/site-packages/sklearn/preprocessing/_label.py:133: DataConversionWarning: A column-vector y was passed when a 1d array was expected. Please change the shape of y to (n_samples, ), for example using ravel().\n",
      "  y = column_or_1d(y, warn=True)\n"
     ]
    },
    {
     "name": "stdout",
     "output_type": "stream",
     "text": [
      "[LightGBM] [Warning] min_data_in_leaf is set=10, min_child_samples=20 will be ignored. Current value: min_data_in_leaf=10\n",
      "[LightGBM] [Warning] lambda_l1 is set=0, reg_alpha=1.5 will be ignored. Current value: lambda_l1=0\n",
      "[LightGBM] [Warning] lambda_l2 is set=1, reg_lambda=1.5 will be ignored. Current value: lambda_l2=1\n",
      "[LightGBM] [Warning] min_data_in_leaf is set=10, min_child_samples=20 will be ignored. Current value: min_data_in_leaf=10\n",
      "[LightGBM] [Warning] lambda_l1 is set=0, reg_alpha=1.5 will be ignored. Current value: lambda_l1=0\n",
      "[LightGBM] [Warning] lambda_l2 is set=1, reg_lambda=1.5 will be ignored. Current value: lambda_l2=1\n",
      "[LightGBM] [Info] Number of positive: 5483, number of negative: 24923\n",
      "[LightGBM] [Warning] Auto-choosing col-wise multi-threading, the overhead of testing was 0.009950 seconds.\n",
      "You can set `force_col_wise=true` to remove the overhead.\n",
      "[LightGBM] [Info] Total Bins 14052\n",
      "[LightGBM] [Info] Number of data points in the train set: 30406, number of used features: 71\n",
      "[LightGBM] [Info] [binary:BoostFromScore]: pavg=0.180326 -> initscore=-1.514139\n",
      "[LightGBM] [Info] Start training from score -1.514139\n",
      "[LightGBM] [Warning] No further splits with positive gain, best gain: -inf\n"
     ]
    },
    {
     "name": "stderr",
     "output_type": "stream",
     "text": [
      "/opt/anaconda3/envs/gene/lib/python3.8/site-packages/sklearn/preprocessing/_label.py:98: DataConversionWarning: A column-vector y was passed when a 1d array was expected. Please change the shape of y to (n_samples, ), for example using ravel().\n",
      "  y = column_or_1d(y, warn=True)\n",
      "/opt/anaconda3/envs/gene/lib/python3.8/site-packages/sklearn/preprocessing/_label.py:133: DataConversionWarning: A column-vector y was passed when a 1d array was expected. Please change the shape of y to (n_samples, ), for example using ravel().\n",
      "  y = column_or_1d(y, warn=True)\n"
     ]
    },
    {
     "name": "stdout",
     "output_type": "stream",
     "text": [
      "[LightGBM] [Warning] min_data_in_leaf is set=10, min_child_samples=20 will be ignored. Current value: min_data_in_leaf=10\n",
      "[LightGBM] [Warning] lambda_l1 is set=0, reg_alpha=1.5 will be ignored. Current value: lambda_l1=0\n",
      "[LightGBM] [Warning] lambda_l2 is set=1, reg_lambda=1.5 will be ignored. Current value: lambda_l2=1\n",
      "[LightGBM] [Warning] min_data_in_leaf is set=10, min_child_samples=20 will be ignored. Current value: min_data_in_leaf=10\n",
      "[LightGBM] [Warning] lambda_l1 is set=0, reg_alpha=1.5 will be ignored. Current value: lambda_l1=0\n",
      "[LightGBM] [Warning] lambda_l2 is set=1, reg_lambda=1.5 will be ignored. Current value: lambda_l2=1\n",
      "[LightGBM] [Info] Number of positive: 5483, number of negative: 24923\n",
      "[LightGBM] [Warning] Auto-choosing col-wise multi-threading, the overhead of testing was 0.011211 seconds.\n",
      "You can set `force_col_wise=true` to remove the overhead.\n",
      "[LightGBM] [Info] Total Bins 14050\n",
      "[LightGBM] [Info] Number of data points in the train set: 30406, number of used features: 70\n",
      "[LightGBM] [Info] [binary:BoostFromScore]: pavg=0.180326 -> initscore=-1.514139\n",
      "[LightGBM] [Info] Start training from score -1.514139\n"
     ]
    },
    {
     "name": "stderr",
     "output_type": "stream",
     "text": [
      "/opt/anaconda3/envs/gene/lib/python3.8/site-packages/sklearn/preprocessing/_label.py:98: DataConversionWarning: A column-vector y was passed when a 1d array was expected. Please change the shape of y to (n_samples, ), for example using ravel().\n",
      "  y = column_or_1d(y, warn=True)\n",
      "/opt/anaconda3/envs/gene/lib/python3.8/site-packages/sklearn/preprocessing/_label.py:133: DataConversionWarning: A column-vector y was passed when a 1d array was expected. Please change the shape of y to (n_samples, ), for example using ravel().\n",
      "  y = column_or_1d(y, warn=True)\n"
     ]
    },
    {
     "name": "stdout",
     "output_type": "stream",
     "text": [
      "[LightGBM] [Warning] min_data_in_leaf is set=10, min_child_samples=20 will be ignored. Current value: min_data_in_leaf=10\n",
      "[LightGBM] [Warning] lambda_l1 is set=0, reg_alpha=1.5 will be ignored. Current value: lambda_l1=0\n",
      "[LightGBM] [Warning] lambda_l2 is set=1, reg_lambda=1.5 will be ignored. Current value: lambda_l2=1\n",
      "[LightGBM] [Warning] min_data_in_leaf is set=10, min_child_samples=20 will be ignored. Current value: min_data_in_leaf=10\n",
      "[LightGBM] [Warning] lambda_l1 is set=0, reg_alpha=1.5 will be ignored. Current value: lambda_l1=0\n",
      "[LightGBM] [Warning] lambda_l2 is set=1, reg_lambda=1.5 will be ignored. Current value: lambda_l2=1\n",
      "[LightGBM] [Info] Number of positive: 5483, number of negative: 24923\n",
      "[LightGBM] [Warning] Auto-choosing col-wise multi-threading, the overhead of testing was 0.011335 seconds.\n",
      "You can set `force_col_wise=true` to remove the overhead.\n",
      "[LightGBM] [Info] Total Bins 14048\n",
      "[LightGBM] [Info] Number of data points in the train set: 30406, number of used features: 69\n",
      "[LightGBM] [Info] [binary:BoostFromScore]: pavg=0.180326 -> initscore=-1.514139\n",
      "[LightGBM] [Info] Start training from score -1.514139\n"
     ]
    },
    {
     "name": "stderr",
     "output_type": "stream",
     "text": [
      "/opt/anaconda3/envs/gene/lib/python3.8/site-packages/sklearn/preprocessing/_label.py:98: DataConversionWarning: A column-vector y was passed when a 1d array was expected. Please change the shape of y to (n_samples, ), for example using ravel().\n",
      "  y = column_or_1d(y, warn=True)\n",
      "/opt/anaconda3/envs/gene/lib/python3.8/site-packages/sklearn/preprocessing/_label.py:133: DataConversionWarning: A column-vector y was passed when a 1d array was expected. Please change the shape of y to (n_samples, ), for example using ravel().\n",
      "  y = column_or_1d(y, warn=True)\n"
     ]
    },
    {
     "name": "stdout",
     "output_type": "stream",
     "text": [
      "[LightGBM] [Warning] min_data_in_leaf is set=10, min_child_samples=20 will be ignored. Current value: min_data_in_leaf=10\n",
      "[LightGBM] [Warning] lambda_l1 is set=0, reg_alpha=1.5 will be ignored. Current value: lambda_l1=0\n",
      "[LightGBM] [Warning] lambda_l2 is set=1, reg_lambda=1.5 will be ignored. Current value: lambda_l2=1\n",
      "[LightGBM] [Warning] min_data_in_leaf is set=10, min_child_samples=20 will be ignored. Current value: min_data_in_leaf=10\n",
      "[LightGBM] [Warning] lambda_l1 is set=0, reg_alpha=1.5 will be ignored. Current value: lambda_l1=0\n",
      "[LightGBM] [Warning] lambda_l2 is set=1, reg_lambda=1.5 will be ignored. Current value: lambda_l2=1\n",
      "[LightGBM] [Info] Number of positive: 5483, number of negative: 24923\n",
      "[LightGBM] [Warning] Auto-choosing col-wise multi-threading, the overhead of testing was 0.014582 seconds.\n",
      "You can set `force_col_wise=true` to remove the overhead.\n",
      "[LightGBM] [Info] Total Bins 14046\n",
      "[LightGBM] [Info] Number of data points in the train set: 30406, number of used features: 68\n",
      "[LightGBM] [Info] [binary:BoostFromScore]: pavg=0.180326 -> initscore=-1.514139\n",
      "[LightGBM] [Info] Start training from score -1.514139\n",
      "[LightGBM] [Warning] No further splits with positive gain, best gain: -inf\n"
     ]
    },
    {
     "name": "stderr",
     "output_type": "stream",
     "text": [
      "/opt/anaconda3/envs/gene/lib/python3.8/site-packages/sklearn/preprocessing/_label.py:98: DataConversionWarning: A column-vector y was passed when a 1d array was expected. Please change the shape of y to (n_samples, ), for example using ravel().\n",
      "  y = column_or_1d(y, warn=True)\n",
      "/opt/anaconda3/envs/gene/lib/python3.8/site-packages/sklearn/preprocessing/_label.py:133: DataConversionWarning: A column-vector y was passed when a 1d array was expected. Please change the shape of y to (n_samples, ), for example using ravel().\n",
      "  y = column_or_1d(y, warn=True)\n"
     ]
    },
    {
     "name": "stdout",
     "output_type": "stream",
     "text": [
      "[LightGBM] [Warning] min_data_in_leaf is set=10, min_child_samples=20 will be ignored. Current value: min_data_in_leaf=10\n",
      "[LightGBM] [Warning] lambda_l1 is set=0, reg_alpha=1.5 will be ignored. Current value: lambda_l1=0\n",
      "[LightGBM] [Warning] lambda_l2 is set=1, reg_lambda=1.5 will be ignored. Current value: lambda_l2=1\n",
      "[LightGBM] [Warning] min_data_in_leaf is set=10, min_child_samples=20 will be ignored. Current value: min_data_in_leaf=10\n",
      "[LightGBM] [Warning] lambda_l1 is set=0, reg_alpha=1.5 will be ignored. Current value: lambda_l1=0\n",
      "[LightGBM] [Warning] lambda_l2 is set=1, reg_lambda=1.5 will be ignored. Current value: lambda_l2=1\n",
      "[LightGBM] [Info] Number of positive: 5483, number of negative: 24923\n",
      "[LightGBM] [Warning] Auto-choosing col-wise multi-threading, the overhead of testing was 0.012982 seconds.\n",
      "You can set `force_col_wise=true` to remove the overhead.\n",
      "[LightGBM] [Info] Total Bins 14044\n",
      "[LightGBM] [Info] Number of data points in the train set: 30406, number of used features: 67\n",
      "[LightGBM] [Info] [binary:BoostFromScore]: pavg=0.180326 -> initscore=-1.514139\n",
      "[LightGBM] [Info] Start training from score -1.514139\n",
      "[LightGBM] [Warning] No further splits with positive gain, best gain: -inf\n"
     ]
    },
    {
     "name": "stderr",
     "output_type": "stream",
     "text": [
      "/opt/anaconda3/envs/gene/lib/python3.8/site-packages/sklearn/preprocessing/_label.py:98: DataConversionWarning: A column-vector y was passed when a 1d array was expected. Please change the shape of y to (n_samples, ), for example using ravel().\n",
      "  y = column_or_1d(y, warn=True)\n",
      "/opt/anaconda3/envs/gene/lib/python3.8/site-packages/sklearn/preprocessing/_label.py:133: DataConversionWarning: A column-vector y was passed when a 1d array was expected. Please change the shape of y to (n_samples, ), for example using ravel().\n",
      "  y = column_or_1d(y, warn=True)\n"
     ]
    },
    {
     "name": "stdout",
     "output_type": "stream",
     "text": [
      "[LightGBM] [Warning] min_data_in_leaf is set=10, min_child_samples=20 will be ignored. Current value: min_data_in_leaf=10\n",
      "[LightGBM] [Warning] lambda_l1 is set=0, reg_alpha=1.5 will be ignored. Current value: lambda_l1=0\n",
      "[LightGBM] [Warning] lambda_l2 is set=1, reg_lambda=1.5 will be ignored. Current value: lambda_l2=1\n",
      "[LightGBM] [Warning] min_data_in_leaf is set=10, min_child_samples=20 will be ignored. Current value: min_data_in_leaf=10\n",
      "[LightGBM] [Warning] lambda_l1 is set=0, reg_alpha=1.5 will be ignored. Current value: lambda_l1=0\n",
      "[LightGBM] [Warning] lambda_l2 is set=1, reg_lambda=1.5 will be ignored. Current value: lambda_l2=1\n",
      "[LightGBM] [Info] Number of positive: 5483, number of negative: 24923\n",
      "[LightGBM] [Warning] Auto-choosing col-wise multi-threading, the overhead of testing was 0.012546 seconds.\n",
      "You can set `force_col_wise=true` to remove the overhead.\n",
      "[LightGBM] [Info] Total Bins 14042\n",
      "[LightGBM] [Info] Number of data points in the train set: 30406, number of used features: 66\n",
      "[LightGBM] [Info] [binary:BoostFromScore]: pavg=0.180326 -> initscore=-1.514139\n",
      "[LightGBM] [Info] Start training from score -1.514139\n"
     ]
    },
    {
     "name": "stderr",
     "output_type": "stream",
     "text": [
      "/opt/anaconda3/envs/gene/lib/python3.8/site-packages/sklearn/preprocessing/_label.py:98: DataConversionWarning: A column-vector y was passed when a 1d array was expected. Please change the shape of y to (n_samples, ), for example using ravel().\n",
      "  y = column_or_1d(y, warn=True)\n",
      "/opt/anaconda3/envs/gene/lib/python3.8/site-packages/sklearn/preprocessing/_label.py:133: DataConversionWarning: A column-vector y was passed when a 1d array was expected. Please change the shape of y to (n_samples, ), for example using ravel().\n",
      "  y = column_or_1d(y, warn=True)\n"
     ]
    },
    {
     "name": "stdout",
     "output_type": "stream",
     "text": [
      "[LightGBM] [Warning] min_data_in_leaf is set=10, min_child_samples=20 will be ignored. Current value: min_data_in_leaf=10\n",
      "[LightGBM] [Warning] lambda_l1 is set=0, reg_alpha=1.5 will be ignored. Current value: lambda_l1=0\n",
      "[LightGBM] [Warning] lambda_l2 is set=1, reg_lambda=1.5 will be ignored. Current value: lambda_l2=1\n",
      "[LightGBM] [Warning] min_data_in_leaf is set=10, min_child_samples=20 will be ignored. Current value: min_data_in_leaf=10\n",
      "[LightGBM] [Warning] lambda_l1 is set=0, reg_alpha=1.5 will be ignored. Current value: lambda_l1=0\n",
      "[LightGBM] [Warning] lambda_l2 is set=1, reg_lambda=1.5 will be ignored. Current value: lambda_l2=1\n",
      "[LightGBM] [Info] Number of positive: 5483, number of negative: 24923\n",
      "[LightGBM] [Warning] Auto-choosing col-wise multi-threading, the overhead of testing was 0.011779 seconds.\n",
      "You can set `force_col_wise=true` to remove the overhead.\n",
      "[LightGBM] [Info] Total Bins 14040\n",
      "[LightGBM] [Info] Number of data points in the train set: 30406, number of used features: 65\n",
      "[LightGBM] [Info] [binary:BoostFromScore]: pavg=0.180326 -> initscore=-1.514139\n",
      "[LightGBM] [Info] Start training from score -1.514139\n"
     ]
    },
    {
     "name": "stderr",
     "output_type": "stream",
     "text": [
      "/opt/anaconda3/envs/gene/lib/python3.8/site-packages/sklearn/preprocessing/_label.py:98: DataConversionWarning: A column-vector y was passed when a 1d array was expected. Please change the shape of y to (n_samples, ), for example using ravel().\n",
      "  y = column_or_1d(y, warn=True)\n",
      "/opt/anaconda3/envs/gene/lib/python3.8/site-packages/sklearn/preprocessing/_label.py:133: DataConversionWarning: A column-vector y was passed when a 1d array was expected. Please change the shape of y to (n_samples, ), for example using ravel().\n",
      "  y = column_or_1d(y, warn=True)\n"
     ]
    },
    {
     "name": "stdout",
     "output_type": "stream",
     "text": [
      "[LightGBM] [Warning] min_data_in_leaf is set=10, min_child_samples=20 will be ignored. Current value: min_data_in_leaf=10\n",
      "[LightGBM] [Warning] lambda_l1 is set=0, reg_alpha=1.5 will be ignored. Current value: lambda_l1=0\n",
      "[LightGBM] [Warning] lambda_l2 is set=1, reg_lambda=1.5 will be ignored. Current value: lambda_l2=1\n",
      "[LightGBM] [Warning] min_data_in_leaf is set=10, min_child_samples=20 will be ignored. Current value: min_data_in_leaf=10\n",
      "[LightGBM] [Warning] lambda_l1 is set=0, reg_alpha=1.5 will be ignored. Current value: lambda_l1=0\n",
      "[LightGBM] [Warning] lambda_l2 is set=1, reg_lambda=1.5 will be ignored. Current value: lambda_l2=1\n",
      "[LightGBM] [Info] Number of positive: 5483, number of negative: 24923\n",
      "[LightGBM] [Warning] Auto-choosing col-wise multi-threading, the overhead of testing was 0.009951 seconds.\n",
      "You can set `force_col_wise=true` to remove the overhead.\n",
      "[LightGBM] [Info] Total Bins 14038\n",
      "[LightGBM] [Info] Number of data points in the train set: 30406, number of used features: 64\n",
      "[LightGBM] [Info] [binary:BoostFromScore]: pavg=0.180326 -> initscore=-1.514139\n",
      "[LightGBM] [Info] Start training from score -1.514139\n",
      "[LightGBM] [Warning] No further splits with positive gain, best gain: -inf\n",
      "[LightGBM] [Warning] No further splits with positive gain, best gain: -inf\n"
     ]
    },
    {
     "name": "stderr",
     "output_type": "stream",
     "text": [
      "/opt/anaconda3/envs/gene/lib/python3.8/site-packages/sklearn/preprocessing/_label.py:98: DataConversionWarning: A column-vector y was passed when a 1d array was expected. Please change the shape of y to (n_samples, ), for example using ravel().\n",
      "  y = column_or_1d(y, warn=True)\n",
      "/opt/anaconda3/envs/gene/lib/python3.8/site-packages/sklearn/preprocessing/_label.py:133: DataConversionWarning: A column-vector y was passed when a 1d array was expected. Please change the shape of y to (n_samples, ), for example using ravel().\n",
      "  y = column_or_1d(y, warn=True)\n"
     ]
    },
    {
     "name": "stdout",
     "output_type": "stream",
     "text": [
      "[LightGBM] [Warning] min_data_in_leaf is set=10, min_child_samples=20 will be ignored. Current value: min_data_in_leaf=10\n",
      "[LightGBM] [Warning] lambda_l1 is set=0, reg_alpha=1.5 will be ignored. Current value: lambda_l1=0\n",
      "[LightGBM] [Warning] lambda_l2 is set=1, reg_lambda=1.5 will be ignored. Current value: lambda_l2=1\n",
      "[LightGBM] [Warning] min_data_in_leaf is set=10, min_child_samples=20 will be ignored. Current value: min_data_in_leaf=10\n",
      "[LightGBM] [Warning] lambda_l1 is set=0, reg_alpha=1.5 will be ignored. Current value: lambda_l1=0\n",
      "[LightGBM] [Warning] lambda_l2 is set=1, reg_lambda=1.5 will be ignored. Current value: lambda_l2=1\n",
      "[LightGBM] [Info] Number of positive: 5483, number of negative: 24923\n",
      "[LightGBM] [Warning] Auto-choosing col-wise multi-threading, the overhead of testing was 0.010946 seconds.\n",
      "You can set `force_col_wise=true` to remove the overhead.\n",
      "[LightGBM] [Info] Total Bins 14036\n",
      "[LightGBM] [Info] Number of data points in the train set: 30406, number of used features: 63\n",
      "[LightGBM] [Info] [binary:BoostFromScore]: pavg=0.180326 -> initscore=-1.514139\n",
      "[LightGBM] [Info] Start training from score -1.514139\n",
      "[LightGBM] [Warning] No further splits with positive gain, best gain: -inf\n"
     ]
    },
    {
     "name": "stderr",
     "output_type": "stream",
     "text": [
      "/opt/anaconda3/envs/gene/lib/python3.8/site-packages/sklearn/preprocessing/_label.py:98: DataConversionWarning: A column-vector y was passed when a 1d array was expected. Please change the shape of y to (n_samples, ), for example using ravel().\n",
      "  y = column_or_1d(y, warn=True)\n",
      "/opt/anaconda3/envs/gene/lib/python3.8/site-packages/sklearn/preprocessing/_label.py:133: DataConversionWarning: A column-vector y was passed when a 1d array was expected. Please change the shape of y to (n_samples, ), for example using ravel().\n",
      "  y = column_or_1d(y, warn=True)\n"
     ]
    },
    {
     "name": "stdout",
     "output_type": "stream",
     "text": [
      "[LightGBM] [Warning] min_data_in_leaf is set=10, min_child_samples=20 will be ignored. Current value: min_data_in_leaf=10\n",
      "[LightGBM] [Warning] lambda_l1 is set=0, reg_alpha=1.5 will be ignored. Current value: lambda_l1=0\n",
      "[LightGBM] [Warning] lambda_l2 is set=1, reg_lambda=1.5 will be ignored. Current value: lambda_l2=1\n",
      "[LightGBM] [Warning] min_data_in_leaf is set=10, min_child_samples=20 will be ignored. Current value: min_data_in_leaf=10\n",
      "[LightGBM] [Warning] lambda_l1 is set=0, reg_alpha=1.5 will be ignored. Current value: lambda_l1=0\n",
      "[LightGBM] [Warning] lambda_l2 is set=1, reg_lambda=1.5 will be ignored. Current value: lambda_l2=1\n",
      "[LightGBM] [Info] Number of positive: 5483, number of negative: 24923\n",
      "[LightGBM] [Warning] Auto-choosing col-wise multi-threading, the overhead of testing was 0.010103 seconds.\n",
      "You can set `force_col_wise=true` to remove the overhead.\n",
      "[LightGBM] [Info] Total Bins 14034\n",
      "[LightGBM] [Info] Number of data points in the train set: 30406, number of used features: 62\n",
      "[LightGBM] [Info] [binary:BoostFromScore]: pavg=0.180326 -> initscore=-1.514139\n",
      "[LightGBM] [Info] Start training from score -1.514139\n"
     ]
    },
    {
     "name": "stderr",
     "output_type": "stream",
     "text": [
      "/opt/anaconda3/envs/gene/lib/python3.8/site-packages/sklearn/preprocessing/_label.py:98: DataConversionWarning: A column-vector y was passed when a 1d array was expected. Please change the shape of y to (n_samples, ), for example using ravel().\n",
      "  y = column_or_1d(y, warn=True)\n",
      "/opt/anaconda3/envs/gene/lib/python3.8/site-packages/sklearn/preprocessing/_label.py:133: DataConversionWarning: A column-vector y was passed when a 1d array was expected. Please change the shape of y to (n_samples, ), for example using ravel().\n",
      "  y = column_or_1d(y, warn=True)\n"
     ]
    },
    {
     "name": "stdout",
     "output_type": "stream",
     "text": [
      "[LightGBM] [Warning] min_data_in_leaf is set=10, min_child_samples=20 will be ignored. Current value: min_data_in_leaf=10\n",
      "[LightGBM] [Warning] lambda_l1 is set=0, reg_alpha=1.5 will be ignored. Current value: lambda_l1=0\n",
      "[LightGBM] [Warning] lambda_l2 is set=1, reg_lambda=1.5 will be ignored. Current value: lambda_l2=1\n",
      "[LightGBM] [Warning] min_data_in_leaf is set=10, min_child_samples=20 will be ignored. Current value: min_data_in_leaf=10\n",
      "[LightGBM] [Warning] lambda_l1 is set=0, reg_alpha=1.5 will be ignored. Current value: lambda_l1=0\n",
      "[LightGBM] [Warning] lambda_l2 is set=1, reg_lambda=1.5 will be ignored. Current value: lambda_l2=1\n",
      "[LightGBM] [Info] Number of positive: 5483, number of negative: 24923\n",
      "[LightGBM] [Warning] Auto-choosing col-wise multi-threading, the overhead of testing was 0.012111 seconds.\n",
      "You can set `force_col_wise=true` to remove the overhead.\n",
      "[LightGBM] [Info] Total Bins 14032\n",
      "[LightGBM] [Info] Number of data points in the train set: 30406, number of used features: 61\n",
      "[LightGBM] [Info] [binary:BoostFromScore]: pavg=0.180326 -> initscore=-1.514139\n",
      "[LightGBM] [Info] Start training from score -1.514139\n"
     ]
    },
    {
     "name": "stderr",
     "output_type": "stream",
     "text": [
      "/opt/anaconda3/envs/gene/lib/python3.8/site-packages/sklearn/preprocessing/_label.py:98: DataConversionWarning: A column-vector y was passed when a 1d array was expected. Please change the shape of y to (n_samples, ), for example using ravel().\n",
      "  y = column_or_1d(y, warn=True)\n",
      "/opt/anaconda3/envs/gene/lib/python3.8/site-packages/sklearn/preprocessing/_label.py:133: DataConversionWarning: A column-vector y was passed when a 1d array was expected. Please change the shape of y to (n_samples, ), for example using ravel().\n",
      "  y = column_or_1d(y, warn=True)\n"
     ]
    },
    {
     "name": "stdout",
     "output_type": "stream",
     "text": [
      "[LightGBM] [Warning] min_data_in_leaf is set=10, min_child_samples=20 will be ignored. Current value: min_data_in_leaf=10\n",
      "[LightGBM] [Warning] lambda_l1 is set=0, reg_alpha=1.5 will be ignored. Current value: lambda_l1=0\n",
      "[LightGBM] [Warning] lambda_l2 is set=1, reg_lambda=1.5 will be ignored. Current value: lambda_l2=1\n",
      "[LightGBM] [Warning] min_data_in_leaf is set=10, min_child_samples=20 will be ignored. Current value: min_data_in_leaf=10\n",
      "[LightGBM] [Warning] lambda_l1 is set=0, reg_alpha=1.5 will be ignored. Current value: lambda_l1=0\n",
      "[LightGBM] [Warning] lambda_l2 is set=1, reg_lambda=1.5 will be ignored. Current value: lambda_l2=1\n",
      "[LightGBM] [Info] Number of positive: 5483, number of negative: 24923\n",
      "[LightGBM] [Warning] Auto-choosing col-wise multi-threading, the overhead of testing was 0.010710 seconds.\n",
      "You can set `force_col_wise=true` to remove the overhead.\n",
      "[LightGBM] [Info] Total Bins 14030\n",
      "[LightGBM] [Info] Number of data points in the train set: 30406, number of used features: 60\n",
      "[LightGBM] [Info] [binary:BoostFromScore]: pavg=0.180326 -> initscore=-1.514139\n",
      "[LightGBM] [Info] Start training from score -1.514139\n"
     ]
    },
    {
     "name": "stderr",
     "output_type": "stream",
     "text": [
      "/opt/anaconda3/envs/gene/lib/python3.8/site-packages/sklearn/preprocessing/_label.py:98: DataConversionWarning: A column-vector y was passed when a 1d array was expected. Please change the shape of y to (n_samples, ), for example using ravel().\n",
      "  y = column_or_1d(y, warn=True)\n",
      "/opt/anaconda3/envs/gene/lib/python3.8/site-packages/sklearn/preprocessing/_label.py:133: DataConversionWarning: A column-vector y was passed when a 1d array was expected. Please change the shape of y to (n_samples, ), for example using ravel().\n",
      "  y = column_or_1d(y, warn=True)\n"
     ]
    },
    {
     "name": "stdout",
     "output_type": "stream",
     "text": [
      "[LightGBM] [Warning] min_data_in_leaf is set=10, min_child_samples=20 will be ignored. Current value: min_data_in_leaf=10\n",
      "[LightGBM] [Warning] lambda_l1 is set=0, reg_alpha=1.5 will be ignored. Current value: lambda_l1=0\n",
      "[LightGBM] [Warning] lambda_l2 is set=1, reg_lambda=1.5 will be ignored. Current value: lambda_l2=1\n",
      "[LightGBM] [Warning] min_data_in_leaf is set=10, min_child_samples=20 will be ignored. Current value: min_data_in_leaf=10\n",
      "[LightGBM] [Warning] lambda_l1 is set=0, reg_alpha=1.5 will be ignored. Current value: lambda_l1=0\n",
      "[LightGBM] [Warning] lambda_l2 is set=1, reg_lambda=1.5 will be ignored. Current value: lambda_l2=1\n",
      "[LightGBM] [Info] Number of positive: 5483, number of negative: 24923\n",
      "[LightGBM] [Warning] Auto-choosing col-wise multi-threading, the overhead of testing was 0.010725 seconds.\n",
      "You can set `force_col_wise=true` to remove the overhead.\n",
      "[LightGBM] [Info] Total Bins 14028\n",
      "[LightGBM] [Info] Number of data points in the train set: 30406, number of used features: 59\n",
      "[LightGBM] [Info] [binary:BoostFromScore]: pavg=0.180326 -> initscore=-1.514139\n",
      "[LightGBM] [Info] Start training from score -1.514139\n",
      "[LightGBM] [Warning] No further splits with positive gain, best gain: -inf\n",
      "[LightGBM] [Warning] No further splits with positive gain, best gain: -inf\n",
      "[LightGBM] [Warning] No further splits with positive gain, best gain: -inf\n"
     ]
    },
    {
     "name": "stderr",
     "output_type": "stream",
     "text": [
      "/opt/anaconda3/envs/gene/lib/python3.8/site-packages/sklearn/preprocessing/_label.py:98: DataConversionWarning: A column-vector y was passed when a 1d array was expected. Please change the shape of y to (n_samples, ), for example using ravel().\n",
      "  y = column_or_1d(y, warn=True)\n",
      "/opt/anaconda3/envs/gene/lib/python3.8/site-packages/sklearn/preprocessing/_label.py:133: DataConversionWarning: A column-vector y was passed when a 1d array was expected. Please change the shape of y to (n_samples, ), for example using ravel().\n",
      "  y = column_or_1d(y, warn=True)\n"
     ]
    },
    {
     "name": "stdout",
     "output_type": "stream",
     "text": [
      "[LightGBM] [Warning] min_data_in_leaf is set=10, min_child_samples=20 will be ignored. Current value: min_data_in_leaf=10\n",
      "[LightGBM] [Warning] lambda_l1 is set=0, reg_alpha=1.5 will be ignored. Current value: lambda_l1=0\n",
      "[LightGBM] [Warning] lambda_l2 is set=1, reg_lambda=1.5 will be ignored. Current value: lambda_l2=1\n",
      "[LightGBM] [Warning] min_data_in_leaf is set=10, min_child_samples=20 will be ignored. Current value: min_data_in_leaf=10\n",
      "[LightGBM] [Warning] lambda_l1 is set=0, reg_alpha=1.5 will be ignored. Current value: lambda_l1=0\n",
      "[LightGBM] [Warning] lambda_l2 is set=1, reg_lambda=1.5 will be ignored. Current value: lambda_l2=1\n",
      "[LightGBM] [Info] Number of positive: 5483, number of negative: 24923\n",
      "[LightGBM] [Warning] Auto-choosing col-wise multi-threading, the overhead of testing was 0.010331 seconds.\n",
      "You can set `force_col_wise=true` to remove the overhead.\n",
      "[LightGBM] [Info] Total Bins 14026\n",
      "[LightGBM] [Info] Number of data points in the train set: 30406, number of used features: 58\n",
      "[LightGBM] [Info] [binary:BoostFromScore]: pavg=0.180326 -> initscore=-1.514139\n",
      "[LightGBM] [Info] Start training from score -1.514139\n"
     ]
    },
    {
     "name": "stderr",
     "output_type": "stream",
     "text": [
      "/opt/anaconda3/envs/gene/lib/python3.8/site-packages/sklearn/preprocessing/_label.py:98: DataConversionWarning: A column-vector y was passed when a 1d array was expected. Please change the shape of y to (n_samples, ), for example using ravel().\n",
      "  y = column_or_1d(y, warn=True)\n",
      "/opt/anaconda3/envs/gene/lib/python3.8/site-packages/sklearn/preprocessing/_label.py:133: DataConversionWarning: A column-vector y was passed when a 1d array was expected. Please change the shape of y to (n_samples, ), for example using ravel().\n",
      "  y = column_or_1d(y, warn=True)\n"
     ]
    },
    {
     "name": "stdout",
     "output_type": "stream",
     "text": [
      "[LightGBM] [Warning] min_data_in_leaf is set=10, min_child_samples=20 will be ignored. Current value: min_data_in_leaf=10\n",
      "[LightGBM] [Warning] lambda_l1 is set=0, reg_alpha=1.5 will be ignored. Current value: lambda_l1=0\n",
      "[LightGBM] [Warning] lambda_l2 is set=1, reg_lambda=1.5 will be ignored. Current value: lambda_l2=1\n",
      "[LightGBM] [Warning] min_data_in_leaf is set=10, min_child_samples=20 will be ignored. Current value: min_data_in_leaf=10\n",
      "[LightGBM] [Warning] lambda_l1 is set=0, reg_alpha=1.5 will be ignored. Current value: lambda_l1=0\n",
      "[LightGBM] [Warning] lambda_l2 is set=1, reg_lambda=1.5 will be ignored. Current value: lambda_l2=1\n",
      "[LightGBM] [Info] Number of positive: 5483, number of negative: 24923\n",
      "[LightGBM] [Warning] Auto-choosing col-wise multi-threading, the overhead of testing was 0.011228 seconds.\n",
      "You can set `force_col_wise=true` to remove the overhead.\n",
      "[LightGBM] [Info] Total Bins 14024\n",
      "[LightGBM] [Info] Number of data points in the train set: 30406, number of used features: 57\n",
      "[LightGBM] [Info] [binary:BoostFromScore]: pavg=0.180326 -> initscore=-1.514139\n",
      "[LightGBM] [Info] Start training from score -1.514139\n",
      "[LightGBM] [Warning] No further splits with positive gain, best gain: -inf\n"
     ]
    },
    {
     "name": "stderr",
     "output_type": "stream",
     "text": [
      "/opt/anaconda3/envs/gene/lib/python3.8/site-packages/sklearn/preprocessing/_label.py:98: DataConversionWarning: A column-vector y was passed when a 1d array was expected. Please change the shape of y to (n_samples, ), for example using ravel().\n",
      "  y = column_or_1d(y, warn=True)\n",
      "/opt/anaconda3/envs/gene/lib/python3.8/site-packages/sklearn/preprocessing/_label.py:133: DataConversionWarning: A column-vector y was passed when a 1d array was expected. Please change the shape of y to (n_samples, ), for example using ravel().\n",
      "  y = column_or_1d(y, warn=True)\n"
     ]
    },
    {
     "name": "stdout",
     "output_type": "stream",
     "text": [
      "[LightGBM] [Warning] min_data_in_leaf is set=10, min_child_samples=20 will be ignored. Current value: min_data_in_leaf=10\n",
      "[LightGBM] [Warning] lambda_l1 is set=0, reg_alpha=1.5 will be ignored. Current value: lambda_l1=0\n",
      "[LightGBM] [Warning] lambda_l2 is set=1, reg_lambda=1.5 will be ignored. Current value: lambda_l2=1\n",
      "[LightGBM] [Warning] min_data_in_leaf is set=10, min_child_samples=20 will be ignored. Current value: min_data_in_leaf=10\n",
      "[LightGBM] [Warning] lambda_l1 is set=0, reg_alpha=1.5 will be ignored. Current value: lambda_l1=0\n",
      "[LightGBM] [Warning] lambda_l2 is set=1, reg_lambda=1.5 will be ignored. Current value: lambda_l2=1\n",
      "[LightGBM] [Info] Number of positive: 5483, number of negative: 24923\n",
      "[LightGBM] [Warning] Auto-choosing col-wise multi-threading, the overhead of testing was 0.010674 seconds.\n",
      "You can set `force_col_wise=true` to remove the overhead.\n",
      "[LightGBM] [Info] Total Bins 14022\n",
      "[LightGBM] [Info] Number of data points in the train set: 30406, number of used features: 56\n",
      "[LightGBM] [Info] [binary:BoostFromScore]: pavg=0.180326 -> initscore=-1.514139\n",
      "[LightGBM] [Info] Start training from score -1.514139\n"
     ]
    },
    {
     "name": "stderr",
     "output_type": "stream",
     "text": [
      "/opt/anaconda3/envs/gene/lib/python3.8/site-packages/sklearn/preprocessing/_label.py:98: DataConversionWarning: A column-vector y was passed when a 1d array was expected. Please change the shape of y to (n_samples, ), for example using ravel().\n",
      "  y = column_or_1d(y, warn=True)\n",
      "/opt/anaconda3/envs/gene/lib/python3.8/site-packages/sklearn/preprocessing/_label.py:133: DataConversionWarning: A column-vector y was passed when a 1d array was expected. Please change the shape of y to (n_samples, ), for example using ravel().\n",
      "  y = column_or_1d(y, warn=True)\n"
     ]
    },
    {
     "name": "stdout",
     "output_type": "stream",
     "text": [
      "[LightGBM] [Warning] min_data_in_leaf is set=10, min_child_samples=20 will be ignored. Current value: min_data_in_leaf=10\n",
      "[LightGBM] [Warning] lambda_l1 is set=0, reg_alpha=1.5 will be ignored. Current value: lambda_l1=0\n",
      "[LightGBM] [Warning] lambda_l2 is set=1, reg_lambda=1.5 will be ignored. Current value: lambda_l2=1\n",
      "[LightGBM] [Warning] min_data_in_leaf is set=10, min_child_samples=20 will be ignored. Current value: min_data_in_leaf=10\n",
      "[LightGBM] [Warning] lambda_l1 is set=0, reg_alpha=1.5 will be ignored. Current value: lambda_l1=0\n",
      "[LightGBM] [Warning] lambda_l2 is set=1, reg_lambda=1.5 will be ignored. Current value: lambda_l2=1\n",
      "[LightGBM] [Info] Number of positive: 5483, number of negative: 24923\n",
      "[LightGBM] [Warning] Auto-choosing col-wise multi-threading, the overhead of testing was 0.012108 seconds.\n",
      "You can set `force_col_wise=true` to remove the overhead.\n",
      "[LightGBM] [Info] Total Bins 13789\n",
      "[LightGBM] [Info] Number of data points in the train set: 30406, number of used features: 55\n",
      "[LightGBM] [Info] [binary:BoostFromScore]: pavg=0.180326 -> initscore=-1.514139\n",
      "[LightGBM] [Info] Start training from score -1.514139\n",
      "[LightGBM] [Warning] No further splits with positive gain, best gain: -inf\n",
      "[LightGBM] [Warning] No further splits with positive gain, best gain: -inf\n"
     ]
    },
    {
     "name": "stderr",
     "output_type": "stream",
     "text": [
      "/opt/anaconda3/envs/gene/lib/python3.8/site-packages/sklearn/preprocessing/_label.py:98: DataConversionWarning: A column-vector y was passed when a 1d array was expected. Please change the shape of y to (n_samples, ), for example using ravel().\n",
      "  y = column_or_1d(y, warn=True)\n",
      "/opt/anaconda3/envs/gene/lib/python3.8/site-packages/sklearn/preprocessing/_label.py:133: DataConversionWarning: A column-vector y was passed when a 1d array was expected. Please change the shape of y to (n_samples, ), for example using ravel().\n",
      "  y = column_or_1d(y, warn=True)\n"
     ]
    },
    {
     "name": "stdout",
     "output_type": "stream",
     "text": [
      "[LightGBM] [Warning] min_data_in_leaf is set=10, min_child_samples=20 will be ignored. Current value: min_data_in_leaf=10\n",
      "[LightGBM] [Warning] lambda_l1 is set=0, reg_alpha=1.5 will be ignored. Current value: lambda_l1=0\n",
      "[LightGBM] [Warning] lambda_l2 is set=1, reg_lambda=1.5 will be ignored. Current value: lambda_l2=1\n",
      "[LightGBM] [Warning] min_data_in_leaf is set=10, min_child_samples=20 will be ignored. Current value: min_data_in_leaf=10\n",
      "[LightGBM] [Warning] lambda_l1 is set=0, reg_alpha=1.5 will be ignored. Current value: lambda_l1=0\n",
      "[LightGBM] [Warning] lambda_l2 is set=1, reg_lambda=1.5 will be ignored. Current value: lambda_l2=1\n",
      "[LightGBM] [Info] Number of positive: 5483, number of negative: 24923\n",
      "[LightGBM] [Warning] Auto-choosing col-wise multi-threading, the overhead of testing was 0.018009 seconds.\n",
      "You can set `force_col_wise=true` to remove the overhead.\n",
      "[LightGBM] [Info] Total Bins 13534\n",
      "[LightGBM] [Info] Number of data points in the train set: 30406, number of used features: 54\n",
      "[LightGBM] [Info] [binary:BoostFromScore]: pavg=0.180326 -> initscore=-1.514139\n",
      "[LightGBM] [Info] Start training from score -1.514139\n",
      "[LightGBM] [Warning] No further splits with positive gain, best gain: -inf\n"
     ]
    },
    {
     "name": "stderr",
     "output_type": "stream",
     "text": [
      "/opt/anaconda3/envs/gene/lib/python3.8/site-packages/sklearn/preprocessing/_label.py:98: DataConversionWarning: A column-vector y was passed when a 1d array was expected. Please change the shape of y to (n_samples, ), for example using ravel().\n",
      "  y = column_or_1d(y, warn=True)\n",
      "/opt/anaconda3/envs/gene/lib/python3.8/site-packages/sklearn/preprocessing/_label.py:133: DataConversionWarning: A column-vector y was passed when a 1d array was expected. Please change the shape of y to (n_samples, ), for example using ravel().\n",
      "  y = column_or_1d(y, warn=True)\n"
     ]
    },
    {
     "name": "stdout",
     "output_type": "stream",
     "text": [
      "[LightGBM] [Warning] min_data_in_leaf is set=10, min_child_samples=20 will be ignored. Current value: min_data_in_leaf=10\n",
      "[LightGBM] [Warning] lambda_l1 is set=0, reg_alpha=1.5 will be ignored. Current value: lambda_l1=0\n",
      "[LightGBM] [Warning] lambda_l2 is set=1, reg_lambda=1.5 will be ignored. Current value: lambda_l2=1\n",
      "[LightGBM] [Warning] min_data_in_leaf is set=10, min_child_samples=20 will be ignored. Current value: min_data_in_leaf=10\n",
      "[LightGBM] [Warning] lambda_l1 is set=0, reg_alpha=1.5 will be ignored. Current value: lambda_l1=0\n",
      "[LightGBM] [Warning] lambda_l2 is set=1, reg_lambda=1.5 will be ignored. Current value: lambda_l2=1\n",
      "[LightGBM] [Info] Number of positive: 5483, number of negative: 24923\n",
      "[LightGBM] [Warning] Auto-choosing col-wise multi-threading, the overhead of testing was 0.019769 seconds.\n",
      "You can set `force_col_wise=true` to remove the overhead.\n",
      "[LightGBM] [Info] Total Bins 13279\n",
      "[LightGBM] [Info] Number of data points in the train set: 30406, number of used features: 53\n",
      "[LightGBM] [Info] [binary:BoostFromScore]: pavg=0.180326 -> initscore=-1.514139\n",
      "[LightGBM] [Info] Start training from score -1.514139\n",
      "[LightGBM] [Warning] No further splits with positive gain, best gain: -inf\n",
      "[LightGBM] [Warning] No further splits with positive gain, best gain: -inf\n",
      "[LightGBM] [Warning] No further splits with positive gain, best gain: -inf\n",
      "[LightGBM] [Warning] min_data_in_leaf is set=10, min_child_samples=20 will be ignored. Current value: min_data_in_leaf=10\n",
      "[LightGBM] [Warning] lambda_l1 is set=0, reg_alpha=1.5 will be ignored. Current value: lambda_l1=0\n",
      "[LightGBM] [Warning] lambda_l2 is set=1, reg_lambda=1.5 will be ignored. Current value: lambda_l2=1\n"
     ]
    },
    {
     "name": "stderr",
     "output_type": "stream",
     "text": [
      "/opt/anaconda3/envs/gene/lib/python3.8/site-packages/sklearn/preprocessing/_label.py:98: DataConversionWarning: A column-vector y was passed when a 1d array was expected. Please change the shape of y to (n_samples, ), for example using ravel().\n",
      "  y = column_or_1d(y, warn=True)\n",
      "/opt/anaconda3/envs/gene/lib/python3.8/site-packages/sklearn/preprocessing/_label.py:133: DataConversionWarning: A column-vector y was passed when a 1d array was expected. Please change the shape of y to (n_samples, ), for example using ravel().\n",
      "  y = column_or_1d(y, warn=True)\n"
     ]
    },
    {
     "name": "stdout",
     "output_type": "stream",
     "text": [
      "[LightGBM] [Warning] min_data_in_leaf is set=10, min_child_samples=20 will be ignored. Current value: min_data_in_leaf=10\n",
      "[LightGBM] [Warning] lambda_l1 is set=0, reg_alpha=1.5 will be ignored. Current value: lambda_l1=0\n",
      "[LightGBM] [Warning] lambda_l2 is set=1, reg_lambda=1.5 will be ignored. Current value: lambda_l2=1\n",
      "[LightGBM] [Info] Number of positive: 5483, number of negative: 24923\n",
      "[LightGBM] [Warning] Auto-choosing col-wise multi-threading, the overhead of testing was 0.049930 seconds.\n",
      "You can set `force_col_wise=true` to remove the overhead.\n",
      "[LightGBM] [Info] Total Bins 13024\n",
      "[LightGBM] [Info] Number of data points in the train set: 30406, number of used features: 52\n",
      "[LightGBM] [Info] [binary:BoostFromScore]: pavg=0.180326 -> initscore=-1.514139\n",
      "[LightGBM] [Info] Start training from score -1.514139\n"
     ]
    },
    {
     "name": "stderr",
     "output_type": "stream",
     "text": [
      "/opt/anaconda3/envs/gene/lib/python3.8/site-packages/sklearn/preprocessing/_label.py:98: DataConversionWarning: A column-vector y was passed when a 1d array was expected. Please change the shape of y to (n_samples, ), for example using ravel().\n",
      "  y = column_or_1d(y, warn=True)\n",
      "/opt/anaconda3/envs/gene/lib/python3.8/site-packages/sklearn/preprocessing/_label.py:133: DataConversionWarning: A column-vector y was passed when a 1d array was expected. Please change the shape of y to (n_samples, ), for example using ravel().\n",
      "  y = column_or_1d(y, warn=True)\n"
     ]
    },
    {
     "name": "stdout",
     "output_type": "stream",
     "text": [
      "[LightGBM] [Warning] min_data_in_leaf is set=10, min_child_samples=20 will be ignored. Current value: min_data_in_leaf=10\n",
      "[LightGBM] [Warning] lambda_l1 is set=0, reg_alpha=1.5 will be ignored. Current value: lambda_l1=0\n",
      "[LightGBM] [Warning] lambda_l2 is set=1, reg_lambda=1.5 will be ignored. Current value: lambda_l2=1\n",
      "[LightGBM] [Warning] min_data_in_leaf is set=10, min_child_samples=20 will be ignored. Current value: min_data_in_leaf=10\n",
      "[LightGBM] [Warning] lambda_l1 is set=0, reg_alpha=1.5 will be ignored. Current value: lambda_l1=0\n",
      "[LightGBM] [Warning] lambda_l2 is set=1, reg_lambda=1.5 will be ignored. Current value: lambda_l2=1\n",
      "[LightGBM] [Info] Number of positive: 5483, number of negative: 24923\n",
      "[LightGBM] [Warning] Auto-choosing col-wise multi-threading, the overhead of testing was 0.010229 seconds.\n",
      "You can set `force_col_wise=true` to remove the overhead.\n",
      "[LightGBM] [Info] Total Bins 12769\n",
      "[LightGBM] [Info] Number of data points in the train set: 30406, number of used features: 51\n",
      "[LightGBM] [Info] [binary:BoostFromScore]: pavg=0.180326 -> initscore=-1.514139\n",
      "[LightGBM] [Info] Start training from score -1.514139\n",
      "[LightGBM] [Warning] No further splits with positive gain, best gain: -inf\n"
     ]
    },
    {
     "name": "stderr",
     "output_type": "stream",
     "text": [
      "/opt/anaconda3/envs/gene/lib/python3.8/site-packages/sklearn/preprocessing/_label.py:98: DataConversionWarning: A column-vector y was passed when a 1d array was expected. Please change the shape of y to (n_samples, ), for example using ravel().\n",
      "  y = column_or_1d(y, warn=True)\n",
      "/opt/anaconda3/envs/gene/lib/python3.8/site-packages/sklearn/preprocessing/_label.py:133: DataConversionWarning: A column-vector y was passed when a 1d array was expected. Please change the shape of y to (n_samples, ), for example using ravel().\n",
      "  y = column_or_1d(y, warn=True)\n"
     ]
    },
    {
     "name": "stdout",
     "output_type": "stream",
     "text": [
      "[LightGBM] [Warning] min_data_in_leaf is set=10, min_child_samples=20 will be ignored. Current value: min_data_in_leaf=10\n",
      "[LightGBM] [Warning] lambda_l1 is set=0, reg_alpha=1.5 will be ignored. Current value: lambda_l1=0\n",
      "[LightGBM] [Warning] lambda_l2 is set=1, reg_lambda=1.5 will be ignored. Current value: lambda_l2=1\n",
      "[LightGBM] [Warning] min_data_in_leaf is set=10, min_child_samples=20 will be ignored. Current value: min_data_in_leaf=10\n",
      "[LightGBM] [Warning] lambda_l1 is set=0, reg_alpha=1.5 will be ignored. Current value: lambda_l1=0\n",
      "[LightGBM] [Warning] lambda_l2 is set=1, reg_lambda=1.5 will be ignored. Current value: lambda_l2=1\n",
      "[LightGBM] [Info] Number of positive: 5483, number of negative: 24923\n",
      "[LightGBM] [Warning] Auto-choosing col-wise multi-threading, the overhead of testing was 0.009822 seconds.\n",
      "You can set `force_col_wise=true` to remove the overhead.\n",
      "[LightGBM] [Info] Total Bins 12515\n",
      "[LightGBM] [Info] Number of data points in the train set: 30406, number of used features: 50\n",
      "[LightGBM] [Info] [binary:BoostFromScore]: pavg=0.180326 -> initscore=-1.514139\n",
      "[LightGBM] [Info] Start training from score -1.514139\n",
      "[LightGBM] [Warning] No further splits with positive gain, best gain: -inf\n",
      "[LightGBM] [Warning] min_data_in_leaf is set=10, min_child_samples=20 will be ignored. Current value: min_data_in_leaf=10\n",
      "[LightGBM] [Warning] lambda_l1 is set=0, reg_alpha=1.5 will be ignored. Current value: lambda_l1=0\n",
      "[LightGBM] [Warning] lambda_l2 is set=1, reg_lambda=1.5 will be ignored. Current value: lambda_l2=1\n"
     ]
    },
    {
     "name": "stderr",
     "output_type": "stream",
     "text": [
      "/opt/anaconda3/envs/gene/lib/python3.8/site-packages/sklearn/preprocessing/_label.py:98: DataConversionWarning: A column-vector y was passed when a 1d array was expected. Please change the shape of y to (n_samples, ), for example using ravel().\n",
      "  y = column_or_1d(y, warn=True)\n",
      "/opt/anaconda3/envs/gene/lib/python3.8/site-packages/sklearn/preprocessing/_label.py:133: DataConversionWarning: A column-vector y was passed when a 1d array was expected. Please change the shape of y to (n_samples, ), for example using ravel().\n",
      "  y = column_or_1d(y, warn=True)\n"
     ]
    },
    {
     "name": "stdout",
     "output_type": "stream",
     "text": [
      "[LightGBM] [Warning] min_data_in_leaf is set=10, min_child_samples=20 will be ignored. Current value: min_data_in_leaf=10\n",
      "[LightGBM] [Warning] lambda_l1 is set=0, reg_alpha=1.5 will be ignored. Current value: lambda_l1=0\n",
      "[LightGBM] [Warning] lambda_l2 is set=1, reg_lambda=1.5 will be ignored. Current value: lambda_l2=1\n",
      "[LightGBM] [Info] Number of positive: 5483, number of negative: 24923\n",
      "[LightGBM] [Warning] Auto-choosing col-wise multi-threading, the overhead of testing was 0.010254 seconds.\n",
      "You can set `force_col_wise=true` to remove the overhead.\n",
      "[LightGBM] [Info] Total Bins 12260\n",
      "[LightGBM] [Info] Number of data points in the train set: 30406, number of used features: 49\n",
      "[LightGBM] [Info] [binary:BoostFromScore]: pavg=0.180326 -> initscore=-1.514139\n",
      "[LightGBM] [Info] Start training from score -1.514139\n",
      "[LightGBM] [Warning] No further splits with positive gain, best gain: -inf\n",
      "[LightGBM] [Warning] min_data_in_leaf is set=10, min_child_samples=20 will be ignored. Current value: min_data_in_leaf=10\n",
      "[LightGBM] [Warning] lambda_l1 is set=0, reg_alpha=1.5 will be ignored. Current value: lambda_l1=0\n",
      "[LightGBM] [Warning] lambda_l2 is set=1, reg_lambda=1.5 will be ignored. Current value: lambda_l2=1\n"
     ]
    },
    {
     "name": "stderr",
     "output_type": "stream",
     "text": [
      "/opt/anaconda3/envs/gene/lib/python3.8/site-packages/sklearn/preprocessing/_label.py:98: DataConversionWarning: A column-vector y was passed when a 1d array was expected. Please change the shape of y to (n_samples, ), for example using ravel().\n",
      "  y = column_or_1d(y, warn=True)\n",
      "/opt/anaconda3/envs/gene/lib/python3.8/site-packages/sklearn/preprocessing/_label.py:133: DataConversionWarning: A column-vector y was passed when a 1d array was expected. Please change the shape of y to (n_samples, ), for example using ravel().\n",
      "  y = column_or_1d(y, warn=True)\n"
     ]
    },
    {
     "name": "stdout",
     "output_type": "stream",
     "text": [
      "[LightGBM] [Warning] min_data_in_leaf is set=10, min_child_samples=20 will be ignored. Current value: min_data_in_leaf=10\n",
      "[LightGBM] [Warning] lambda_l1 is set=0, reg_alpha=1.5 will be ignored. Current value: lambda_l1=0\n",
      "[LightGBM] [Warning] lambda_l2 is set=1, reg_lambda=1.5 will be ignored. Current value: lambda_l2=1\n",
      "[LightGBM] [Info] Number of positive: 5483, number of negative: 24923\n",
      "[LightGBM] [Warning] Auto-choosing col-wise multi-threading, the overhead of testing was 0.011613 seconds.\n",
      "You can set `force_col_wise=true` to remove the overhead.\n",
      "[LightGBM] [Info] Total Bins 12029\n",
      "[LightGBM] [Info] Number of data points in the train set: 30406, number of used features: 48\n",
      "[LightGBM] [Info] [binary:BoostFromScore]: pavg=0.180326 -> initscore=-1.514139\n",
      "[LightGBM] [Info] Start training from score -1.514139\n",
      "[LightGBM] [Warning] No further splits with positive gain, best gain: -inf\n"
     ]
    },
    {
     "name": "stderr",
     "output_type": "stream",
     "text": [
      "/opt/anaconda3/envs/gene/lib/python3.8/site-packages/sklearn/preprocessing/_label.py:98: DataConversionWarning: A column-vector y was passed when a 1d array was expected. Please change the shape of y to (n_samples, ), for example using ravel().\n",
      "  y = column_or_1d(y, warn=True)\n",
      "/opt/anaconda3/envs/gene/lib/python3.8/site-packages/sklearn/preprocessing/_label.py:133: DataConversionWarning: A column-vector y was passed when a 1d array was expected. Please change the shape of y to (n_samples, ), for example using ravel().\n",
      "  y = column_or_1d(y, warn=True)\n"
     ]
    },
    {
     "name": "stdout",
     "output_type": "stream",
     "text": [
      "[LightGBM] [Warning] min_data_in_leaf is set=10, min_child_samples=20 will be ignored. Current value: min_data_in_leaf=10\n",
      "[LightGBM] [Warning] lambda_l1 is set=0, reg_alpha=1.5 will be ignored. Current value: lambda_l1=0\n",
      "[LightGBM] [Warning] lambda_l2 is set=1, reg_lambda=1.5 will be ignored. Current value: lambda_l2=1\n",
      "[LightGBM] [Warning] min_data_in_leaf is set=10, min_child_samples=20 will be ignored. Current value: min_data_in_leaf=10\n",
      "[LightGBM] [Warning] lambda_l1 is set=0, reg_alpha=1.5 will be ignored. Current value: lambda_l1=0\n",
      "[LightGBM] [Warning] lambda_l2 is set=1, reg_lambda=1.5 will be ignored. Current value: lambda_l2=1\n",
      "[LightGBM] [Info] Number of positive: 5483, number of negative: 24923\n",
      "[LightGBM] [Warning] Auto-choosing col-wise multi-threading, the overhead of testing was 0.007367 seconds.\n",
      "You can set `force_col_wise=true` to remove the overhead.\n",
      "[LightGBM] [Info] Total Bins 11774\n",
      "[LightGBM] [Info] Number of data points in the train set: 30406, number of used features: 47\n",
      "[LightGBM] [Info] [binary:BoostFromScore]: pavg=0.180326 -> initscore=-1.514139\n",
      "[LightGBM] [Info] Start training from score -1.514139\n",
      "[LightGBM] [Warning] No further splits with positive gain, best gain: -inf\n"
     ]
    },
    {
     "name": "stderr",
     "output_type": "stream",
     "text": [
      "/opt/anaconda3/envs/gene/lib/python3.8/site-packages/sklearn/preprocessing/_label.py:98: DataConversionWarning: A column-vector y was passed when a 1d array was expected. Please change the shape of y to (n_samples, ), for example using ravel().\n",
      "  y = column_or_1d(y, warn=True)\n",
      "/opt/anaconda3/envs/gene/lib/python3.8/site-packages/sklearn/preprocessing/_label.py:133: DataConversionWarning: A column-vector y was passed when a 1d array was expected. Please change the shape of y to (n_samples, ), for example using ravel().\n",
      "  y = column_or_1d(y, warn=True)\n"
     ]
    },
    {
     "name": "stdout",
     "output_type": "stream",
     "text": [
      "[LightGBM] [Warning] min_data_in_leaf is set=10, min_child_samples=20 will be ignored. Current value: min_data_in_leaf=10\n",
      "[LightGBM] [Warning] lambda_l1 is set=0, reg_alpha=1.5 will be ignored. Current value: lambda_l1=0\n",
      "[LightGBM] [Warning] lambda_l2 is set=1, reg_lambda=1.5 will be ignored. Current value: lambda_l2=1\n",
      "[LightGBM] [Warning] min_data_in_leaf is set=10, min_child_samples=20 will be ignored. Current value: min_data_in_leaf=10\n",
      "[LightGBM] [Warning] lambda_l1 is set=0, reg_alpha=1.5 will be ignored. Current value: lambda_l1=0\n",
      "[LightGBM] [Warning] lambda_l2 is set=1, reg_lambda=1.5 will be ignored. Current value: lambda_l2=1\n",
      "[LightGBM] [Info] Number of positive: 5483, number of negative: 24923\n",
      "[LightGBM] [Warning] Auto-choosing col-wise multi-threading, the overhead of testing was 0.008675 seconds.\n",
      "You can set `force_col_wise=true` to remove the overhead.\n",
      "[LightGBM] [Info] Total Bins 11519\n",
      "[LightGBM] [Info] Number of data points in the train set: 30406, number of used features: 46\n",
      "[LightGBM] [Info] [binary:BoostFromScore]: pavg=0.180326 -> initscore=-1.514139\n",
      "[LightGBM] [Info] Start training from score -1.514139\n"
     ]
    },
    {
     "name": "stderr",
     "output_type": "stream",
     "text": [
      "/opt/anaconda3/envs/gene/lib/python3.8/site-packages/sklearn/preprocessing/_label.py:98: DataConversionWarning: A column-vector y was passed when a 1d array was expected. Please change the shape of y to (n_samples, ), for example using ravel().\n",
      "  y = column_or_1d(y, warn=True)\n",
      "/opt/anaconda3/envs/gene/lib/python3.8/site-packages/sklearn/preprocessing/_label.py:133: DataConversionWarning: A column-vector y was passed when a 1d array was expected. Please change the shape of y to (n_samples, ), for example using ravel().\n",
      "  y = column_or_1d(y, warn=True)\n"
     ]
    },
    {
     "name": "stdout",
     "output_type": "stream",
     "text": [
      "[LightGBM] [Warning] min_data_in_leaf is set=10, min_child_samples=20 will be ignored. Current value: min_data_in_leaf=10\n",
      "[LightGBM] [Warning] lambda_l1 is set=0, reg_alpha=1.5 will be ignored. Current value: lambda_l1=0\n",
      "[LightGBM] [Warning] lambda_l2 is set=1, reg_lambda=1.5 will be ignored. Current value: lambda_l2=1\n",
      "[LightGBM] [Warning] min_data_in_leaf is set=10, min_child_samples=20 will be ignored. Current value: min_data_in_leaf=10\n",
      "[LightGBM] [Warning] lambda_l1 is set=0, reg_alpha=1.5 will be ignored. Current value: lambda_l1=0\n",
      "[LightGBM] [Warning] lambda_l2 is set=1, reg_lambda=1.5 will be ignored. Current value: lambda_l2=1\n",
      "[LightGBM] [Info] Number of positive: 5483, number of negative: 24923\n",
      "[LightGBM] [Warning] Auto-choosing col-wise multi-threading, the overhead of testing was 0.010934 seconds.\n",
      "You can set `force_col_wise=true` to remove the overhead.\n",
      "[LightGBM] [Info] Total Bins 11264\n",
      "[LightGBM] [Info] Number of data points in the train set: 30406, number of used features: 45\n",
      "[LightGBM] [Info] [binary:BoostFromScore]: pavg=0.180326 -> initscore=-1.514139\n",
      "[LightGBM] [Info] Start training from score -1.514139\n",
      "[LightGBM] [Warning] No further splits with positive gain, best gain: -inf\n",
      "[LightGBM] [Warning] No further splits with positive gain, best gain: -inf\n"
     ]
    },
    {
     "name": "stderr",
     "output_type": "stream",
     "text": [
      "/opt/anaconda3/envs/gene/lib/python3.8/site-packages/sklearn/preprocessing/_label.py:98: DataConversionWarning: A column-vector y was passed when a 1d array was expected. Please change the shape of y to (n_samples, ), for example using ravel().\n",
      "  y = column_or_1d(y, warn=True)\n",
      "/opt/anaconda3/envs/gene/lib/python3.8/site-packages/sklearn/preprocessing/_label.py:133: DataConversionWarning: A column-vector y was passed when a 1d array was expected. Please change the shape of y to (n_samples, ), for example using ravel().\n",
      "  y = column_or_1d(y, warn=True)\n"
     ]
    },
    {
     "name": "stdout",
     "output_type": "stream",
     "text": [
      "[LightGBM] [Warning] min_data_in_leaf is set=10, min_child_samples=20 will be ignored. Current value: min_data_in_leaf=10\n",
      "[LightGBM] [Warning] lambda_l1 is set=0, reg_alpha=1.5 will be ignored. Current value: lambda_l1=0\n",
      "[LightGBM] [Warning] lambda_l2 is set=1, reg_lambda=1.5 will be ignored. Current value: lambda_l2=1\n",
      "[LightGBM] [Warning] min_data_in_leaf is set=10, min_child_samples=20 will be ignored. Current value: min_data_in_leaf=10\n",
      "[LightGBM] [Warning] lambda_l1 is set=0, reg_alpha=1.5 will be ignored. Current value: lambda_l1=0\n",
      "[LightGBM] [Warning] lambda_l2 is set=1, reg_lambda=1.5 will be ignored. Current value: lambda_l2=1\n",
      "[LightGBM] [Info] Number of positive: 5483, number of negative: 24923\n",
      "[LightGBM] [Warning] Auto-choosing col-wise multi-threading, the overhead of testing was 0.010281 seconds.\n",
      "You can set `force_col_wise=true` to remove the overhead.\n",
      "[LightGBM] [Info] Total Bins 11033\n",
      "[LightGBM] [Info] Number of data points in the train set: 30406, number of used features: 44\n",
      "[LightGBM] [Info] [binary:BoostFromScore]: pavg=0.180326 -> initscore=-1.514139\n",
      "[LightGBM] [Info] Start training from score -1.514139\n"
     ]
    },
    {
     "name": "stderr",
     "output_type": "stream",
     "text": [
      "/opt/anaconda3/envs/gene/lib/python3.8/site-packages/sklearn/preprocessing/_label.py:98: DataConversionWarning: A column-vector y was passed when a 1d array was expected. Please change the shape of y to (n_samples, ), for example using ravel().\n",
      "  y = column_or_1d(y, warn=True)\n",
      "/opt/anaconda3/envs/gene/lib/python3.8/site-packages/sklearn/preprocessing/_label.py:133: DataConversionWarning: A column-vector y was passed when a 1d array was expected. Please change the shape of y to (n_samples, ), for example using ravel().\n",
      "  y = column_or_1d(y, warn=True)\n"
     ]
    },
    {
     "name": "stdout",
     "output_type": "stream",
     "text": [
      "[LightGBM] [Warning] min_data_in_leaf is set=10, min_child_samples=20 will be ignored. Current value: min_data_in_leaf=10\n",
      "[LightGBM] [Warning] lambda_l1 is set=0, reg_alpha=1.5 will be ignored. Current value: lambda_l1=0\n",
      "[LightGBM] [Warning] lambda_l2 is set=1, reg_lambda=1.5 will be ignored. Current value: lambda_l2=1\n",
      "[LightGBM] [Warning] min_data_in_leaf is set=10, min_child_samples=20 will be ignored. Current value: min_data_in_leaf=10\n",
      "[LightGBM] [Warning] lambda_l1 is set=0, reg_alpha=1.5 will be ignored. Current value: lambda_l1=0\n",
      "[LightGBM] [Warning] lambda_l2 is set=1, reg_lambda=1.5 will be ignored. Current value: lambda_l2=1\n",
      "[LightGBM] [Info] Number of positive: 5483, number of negative: 24923\n",
      "[LightGBM] [Warning] Auto-choosing col-wise multi-threading, the overhead of testing was 0.009453 seconds.\n",
      "You can set `force_col_wise=true` to remove the overhead.\n",
      "[LightGBM] [Info] Total Bins 10778\n",
      "[LightGBM] [Info] Number of data points in the train set: 30406, number of used features: 43\n",
      "[LightGBM] [Info] [binary:BoostFromScore]: pavg=0.180326 -> initscore=-1.514139\n",
      "[LightGBM] [Info] Start training from score -1.514139\n"
     ]
    },
    {
     "name": "stderr",
     "output_type": "stream",
     "text": [
      "/opt/anaconda3/envs/gene/lib/python3.8/site-packages/sklearn/preprocessing/_label.py:98: DataConversionWarning: A column-vector y was passed when a 1d array was expected. Please change the shape of y to (n_samples, ), for example using ravel().\n",
      "  y = column_or_1d(y, warn=True)\n",
      "/opt/anaconda3/envs/gene/lib/python3.8/site-packages/sklearn/preprocessing/_label.py:133: DataConversionWarning: A column-vector y was passed when a 1d array was expected. Please change the shape of y to (n_samples, ), for example using ravel().\n",
      "  y = column_or_1d(y, warn=True)\n"
     ]
    },
    {
     "name": "stdout",
     "output_type": "stream",
     "text": [
      "[LightGBM] [Warning] min_data_in_leaf is set=10, min_child_samples=20 will be ignored. Current value: min_data_in_leaf=10\n",
      "[LightGBM] [Warning] lambda_l1 is set=0, reg_alpha=1.5 will be ignored. Current value: lambda_l1=0\n",
      "[LightGBM] [Warning] lambda_l2 is set=1, reg_lambda=1.5 will be ignored. Current value: lambda_l2=1\n",
      "[LightGBM] [Warning] min_data_in_leaf is set=10, min_child_samples=20 will be ignored. Current value: min_data_in_leaf=10\n",
      "[LightGBM] [Warning] lambda_l1 is set=0, reg_alpha=1.5 will be ignored. Current value: lambda_l1=0\n",
      "[LightGBM] [Warning] lambda_l2 is set=1, reg_lambda=1.5 will be ignored. Current value: lambda_l2=1\n",
      "[LightGBM] [Info] Number of positive: 5483, number of negative: 24923\n",
      "[LightGBM] [Warning] Auto-choosing col-wise multi-threading, the overhead of testing was 0.005308 seconds.\n",
      "You can set `force_col_wise=true` to remove the overhead.\n",
      "[LightGBM] [Info] Total Bins 10523\n",
      "[LightGBM] [Info] Number of data points in the train set: 30406, number of used features: 42\n",
      "[LightGBM] [Info] [binary:BoostFromScore]: pavg=0.180326 -> initscore=-1.514139\n",
      "[LightGBM] [Info] Start training from score -1.514139\n"
     ]
    },
    {
     "name": "stderr",
     "output_type": "stream",
     "text": [
      "/opt/anaconda3/envs/gene/lib/python3.8/site-packages/sklearn/preprocessing/_label.py:98: DataConversionWarning: A column-vector y was passed when a 1d array was expected. Please change the shape of y to (n_samples, ), for example using ravel().\n",
      "  y = column_or_1d(y, warn=True)\n",
      "/opt/anaconda3/envs/gene/lib/python3.8/site-packages/sklearn/preprocessing/_label.py:133: DataConversionWarning: A column-vector y was passed when a 1d array was expected. Please change the shape of y to (n_samples, ), for example using ravel().\n",
      "  y = column_or_1d(y, warn=True)\n"
     ]
    },
    {
     "name": "stdout",
     "output_type": "stream",
     "text": [
      "[LightGBM] [Warning] min_data_in_leaf is set=10, min_child_samples=20 will be ignored. Current value: min_data_in_leaf=10\n",
      "[LightGBM] [Warning] lambda_l1 is set=0, reg_alpha=1.5 will be ignored. Current value: lambda_l1=0\n",
      "[LightGBM] [Warning] lambda_l2 is set=1, reg_lambda=1.5 will be ignored. Current value: lambda_l2=1\n",
      "[LightGBM] [Warning] min_data_in_leaf is set=10, min_child_samples=20 will be ignored. Current value: min_data_in_leaf=10\n",
      "[LightGBM] [Warning] lambda_l1 is set=0, reg_alpha=1.5 will be ignored. Current value: lambda_l1=0\n",
      "[LightGBM] [Warning] lambda_l2 is set=1, reg_lambda=1.5 will be ignored. Current value: lambda_l2=1\n",
      "[LightGBM] [Info] Number of positive: 5483, number of negative: 24923\n",
      "[LightGBM] [Warning] Auto-choosing col-wise multi-threading, the overhead of testing was 0.009682 seconds.\n",
      "You can set `force_col_wise=true` to remove the overhead.\n",
      "[LightGBM] [Info] Total Bins 10268\n",
      "[LightGBM] [Info] Number of data points in the train set: 30406, number of used features: 41\n",
      "[LightGBM] [Info] [binary:BoostFromScore]: pavg=0.180326 -> initscore=-1.514139\n",
      "[LightGBM] [Info] Start training from score -1.514139\n",
      "[LightGBM] [Warning] No further splits with positive gain, best gain: -inf\n"
     ]
    },
    {
     "name": "stderr",
     "output_type": "stream",
     "text": [
      "/opt/anaconda3/envs/gene/lib/python3.8/site-packages/sklearn/preprocessing/_label.py:98: DataConversionWarning: A column-vector y was passed when a 1d array was expected. Please change the shape of y to (n_samples, ), for example using ravel().\n",
      "  y = column_or_1d(y, warn=True)\n",
      "/opt/anaconda3/envs/gene/lib/python3.8/site-packages/sklearn/preprocessing/_label.py:133: DataConversionWarning: A column-vector y was passed when a 1d array was expected. Please change the shape of y to (n_samples, ), for example using ravel().\n",
      "  y = column_or_1d(y, warn=True)\n"
     ]
    },
    {
     "name": "stdout",
     "output_type": "stream",
     "text": [
      "[LightGBM] [Warning] min_data_in_leaf is set=10, min_child_samples=20 will be ignored. Current value: min_data_in_leaf=10\n",
      "[LightGBM] [Warning] lambda_l1 is set=0, reg_alpha=1.5 will be ignored. Current value: lambda_l1=0\n",
      "[LightGBM] [Warning] lambda_l2 is set=1, reg_lambda=1.5 will be ignored. Current value: lambda_l2=1\n",
      "[LightGBM] [Warning] min_data_in_leaf is set=10, min_child_samples=20 will be ignored. Current value: min_data_in_leaf=10\n",
      "[LightGBM] [Warning] lambda_l1 is set=0, reg_alpha=1.5 will be ignored. Current value: lambda_l1=0\n",
      "[LightGBM] [Warning] lambda_l2 is set=1, reg_lambda=1.5 will be ignored. Current value: lambda_l2=1\n",
      "[LightGBM] [Info] Number of positive: 5483, number of negative: 24923\n",
      "[LightGBM] [Warning] Auto-choosing col-wise multi-threading, the overhead of testing was 0.008150 seconds.\n",
      "You can set `force_col_wise=true` to remove the overhead.\n",
      "[LightGBM] [Info] Total Bins 10013\n",
      "[LightGBM] [Info] Number of data points in the train set: 30406, number of used features: 40\n",
      "[LightGBM] [Info] [binary:BoostFromScore]: pavg=0.180326 -> initscore=-1.514139\n",
      "[LightGBM] [Info] Start training from score -1.514139\n"
     ]
    },
    {
     "name": "stderr",
     "output_type": "stream",
     "text": [
      "/opt/anaconda3/envs/gene/lib/python3.8/site-packages/sklearn/preprocessing/_label.py:98: DataConversionWarning: A column-vector y was passed when a 1d array was expected. Please change the shape of y to (n_samples, ), for example using ravel().\n",
      "  y = column_or_1d(y, warn=True)\n",
      "/opt/anaconda3/envs/gene/lib/python3.8/site-packages/sklearn/preprocessing/_label.py:133: DataConversionWarning: A column-vector y was passed when a 1d array was expected. Please change the shape of y to (n_samples, ), for example using ravel().\n",
      "  y = column_or_1d(y, warn=True)\n"
     ]
    },
    {
     "name": "stdout",
     "output_type": "stream",
     "text": [
      "[LightGBM] [Warning] min_data_in_leaf is set=10, min_child_samples=20 will be ignored. Current value: min_data_in_leaf=10\n",
      "[LightGBM] [Warning] lambda_l1 is set=0, reg_alpha=1.5 will be ignored. Current value: lambda_l1=0\n",
      "[LightGBM] [Warning] lambda_l2 is set=1, reg_lambda=1.5 will be ignored. Current value: lambda_l2=1\n",
      "[LightGBM] [Warning] min_data_in_leaf is set=10, min_child_samples=20 will be ignored. Current value: min_data_in_leaf=10\n",
      "[LightGBM] [Warning] lambda_l1 is set=0, reg_alpha=1.5 will be ignored. Current value: lambda_l1=0\n",
      "[LightGBM] [Warning] lambda_l2 is set=1, reg_lambda=1.5 will be ignored. Current value: lambda_l2=1\n",
      "[LightGBM] [Info] Number of positive: 5483, number of negative: 24923\n",
      "[LightGBM] [Warning] Auto-choosing col-wise multi-threading, the overhead of testing was 0.008002 seconds.\n",
      "You can set `force_col_wise=true` to remove the overhead.\n",
      "[LightGBM] [Info] Total Bins 9758\n",
      "[LightGBM] [Info] Number of data points in the train set: 30406, number of used features: 39\n",
      "[LightGBM] [Info] [binary:BoostFromScore]: pavg=0.180326 -> initscore=-1.514139\n",
      "[LightGBM] [Info] Start training from score -1.514139\n",
      "[LightGBM] [Warning] No further splits with positive gain, best gain: -inf\n"
     ]
    },
    {
     "name": "stderr",
     "output_type": "stream",
     "text": [
      "/opt/anaconda3/envs/gene/lib/python3.8/site-packages/sklearn/preprocessing/_label.py:98: DataConversionWarning: A column-vector y was passed when a 1d array was expected. Please change the shape of y to (n_samples, ), for example using ravel().\n",
      "  y = column_or_1d(y, warn=True)\n",
      "/opt/anaconda3/envs/gene/lib/python3.8/site-packages/sklearn/preprocessing/_label.py:133: DataConversionWarning: A column-vector y was passed when a 1d array was expected. Please change the shape of y to (n_samples, ), for example using ravel().\n",
      "  y = column_or_1d(y, warn=True)\n"
     ]
    },
    {
     "name": "stdout",
     "output_type": "stream",
     "text": [
      "[LightGBM] [Warning] min_data_in_leaf is set=10, min_child_samples=20 will be ignored. Current value: min_data_in_leaf=10\n",
      "[LightGBM] [Warning] lambda_l1 is set=0, reg_alpha=1.5 will be ignored. Current value: lambda_l1=0\n",
      "[LightGBM] [Warning] lambda_l2 is set=1, reg_lambda=1.5 will be ignored. Current value: lambda_l2=1\n",
      "[LightGBM] [Warning] min_data_in_leaf is set=10, min_child_samples=20 will be ignored. Current value: min_data_in_leaf=10\n",
      "[LightGBM] [Warning] lambda_l1 is set=0, reg_alpha=1.5 will be ignored. Current value: lambda_l1=0\n",
      "[LightGBM] [Warning] lambda_l2 is set=1, reg_lambda=1.5 will be ignored. Current value: lambda_l2=1\n",
      "[LightGBM] [Info] Number of positive: 5483, number of negative: 24923\n",
      "[LightGBM] [Warning] Auto-choosing col-wise multi-threading, the overhead of testing was 0.008866 seconds.\n",
      "You can set `force_col_wise=true` to remove the overhead.\n",
      "[LightGBM] [Info] Total Bins 9503\n",
      "[LightGBM] [Info] Number of data points in the train set: 30406, number of used features: 38\n",
      "[LightGBM] [Info] [binary:BoostFromScore]: pavg=0.180326 -> initscore=-1.514139\n",
      "[LightGBM] [Info] Start training from score -1.514139\n",
      "[LightGBM] [Warning] No further splits with positive gain, best gain: -inf\n"
     ]
    },
    {
     "name": "stderr",
     "output_type": "stream",
     "text": [
      "/opt/anaconda3/envs/gene/lib/python3.8/site-packages/sklearn/preprocessing/_label.py:98: DataConversionWarning: A column-vector y was passed when a 1d array was expected. Please change the shape of y to (n_samples, ), for example using ravel().\n",
      "  y = column_or_1d(y, warn=True)\n",
      "/opt/anaconda3/envs/gene/lib/python3.8/site-packages/sklearn/preprocessing/_label.py:133: DataConversionWarning: A column-vector y was passed when a 1d array was expected. Please change the shape of y to (n_samples, ), for example using ravel().\n",
      "  y = column_or_1d(y, warn=True)\n"
     ]
    },
    {
     "name": "stdout",
     "output_type": "stream",
     "text": [
      "[LightGBM] [Warning] min_data_in_leaf is set=10, min_child_samples=20 will be ignored. Current value: min_data_in_leaf=10\n",
      "[LightGBM] [Warning] lambda_l1 is set=0, reg_alpha=1.5 will be ignored. Current value: lambda_l1=0\n",
      "[LightGBM] [Warning] lambda_l2 is set=1, reg_lambda=1.5 will be ignored. Current value: lambda_l2=1\n",
      "[LightGBM] [Warning] min_data_in_leaf is set=10, min_child_samples=20 will be ignored. Current value: min_data_in_leaf=10\n",
      "[LightGBM] [Warning] lambda_l1 is set=0, reg_alpha=1.5 will be ignored. Current value: lambda_l1=0\n",
      "[LightGBM] [Warning] lambda_l2 is set=1, reg_lambda=1.5 will be ignored. Current value: lambda_l2=1\n",
      "[LightGBM] [Info] Number of positive: 5483, number of negative: 24923\n",
      "[LightGBM] [Warning] Auto-choosing col-wise multi-threading, the overhead of testing was 0.007679 seconds.\n",
      "You can set `force_col_wise=true` to remove the overhead.\n",
      "[LightGBM] [Info] Total Bins 9248\n",
      "[LightGBM] [Info] Number of data points in the train set: 30406, number of used features: 37\n",
      "[LightGBM] [Info] [binary:BoostFromScore]: pavg=0.180326 -> initscore=-1.514139\n",
      "[LightGBM] [Info] Start training from score -1.514139\n"
     ]
    },
    {
     "name": "stderr",
     "output_type": "stream",
     "text": [
      "/opt/anaconda3/envs/gene/lib/python3.8/site-packages/sklearn/preprocessing/_label.py:98: DataConversionWarning: A column-vector y was passed when a 1d array was expected. Please change the shape of y to (n_samples, ), for example using ravel().\n",
      "  y = column_or_1d(y, warn=True)\n",
      "/opt/anaconda3/envs/gene/lib/python3.8/site-packages/sklearn/preprocessing/_label.py:133: DataConversionWarning: A column-vector y was passed when a 1d array was expected. Please change the shape of y to (n_samples, ), for example using ravel().\n",
      "  y = column_or_1d(y, warn=True)\n"
     ]
    },
    {
     "name": "stdout",
     "output_type": "stream",
     "text": [
      "[LightGBM] [Warning] min_data_in_leaf is set=10, min_child_samples=20 will be ignored. Current value: min_data_in_leaf=10\n",
      "[LightGBM] [Warning] lambda_l1 is set=0, reg_alpha=1.5 will be ignored. Current value: lambda_l1=0\n",
      "[LightGBM] [Warning] lambda_l2 is set=1, reg_lambda=1.5 will be ignored. Current value: lambda_l2=1\n",
      "[LightGBM] [Warning] min_data_in_leaf is set=10, min_child_samples=20 will be ignored. Current value: min_data_in_leaf=10\n",
      "[LightGBM] [Warning] lambda_l1 is set=0, reg_alpha=1.5 will be ignored. Current value: lambda_l1=0\n",
      "[LightGBM] [Warning] lambda_l2 is set=1, reg_lambda=1.5 will be ignored. Current value: lambda_l2=1\n",
      "[LightGBM] [Info] Number of positive: 5483, number of negative: 24923\n",
      "[LightGBM] [Warning] Auto-choosing col-wise multi-threading, the overhead of testing was 0.007872 seconds.\n",
      "You can set `force_col_wise=true` to remove the overhead.\n",
      "[LightGBM] [Info] Total Bins 8993\n",
      "[LightGBM] [Info] Number of data points in the train set: 30406, number of used features: 36\n",
      "[LightGBM] [Info] [binary:BoostFromScore]: pavg=0.180326 -> initscore=-1.514139\n",
      "[LightGBM] [Info] Start training from score -1.514139\n"
     ]
    },
    {
     "name": "stderr",
     "output_type": "stream",
     "text": [
      "/opt/anaconda3/envs/gene/lib/python3.8/site-packages/sklearn/preprocessing/_label.py:98: DataConversionWarning: A column-vector y was passed when a 1d array was expected. Please change the shape of y to (n_samples, ), for example using ravel().\n",
      "  y = column_or_1d(y, warn=True)\n",
      "/opt/anaconda3/envs/gene/lib/python3.8/site-packages/sklearn/preprocessing/_label.py:133: DataConversionWarning: A column-vector y was passed when a 1d array was expected. Please change the shape of y to (n_samples, ), for example using ravel().\n",
      "  y = column_or_1d(y, warn=True)\n"
     ]
    },
    {
     "name": "stdout",
     "output_type": "stream",
     "text": [
      "[LightGBM] [Warning] min_data_in_leaf is set=10, min_child_samples=20 will be ignored. Current value: min_data_in_leaf=10\n",
      "[LightGBM] [Warning] lambda_l1 is set=0, reg_alpha=1.5 will be ignored. Current value: lambda_l1=0\n",
      "[LightGBM] [Warning] lambda_l2 is set=1, reg_lambda=1.5 will be ignored. Current value: lambda_l2=1\n",
      "[LightGBM] [Warning] min_data_in_leaf is set=10, min_child_samples=20 will be ignored. Current value: min_data_in_leaf=10\n",
      "[LightGBM] [Warning] lambda_l1 is set=0, reg_alpha=1.5 will be ignored. Current value: lambda_l1=0\n",
      "[LightGBM] [Warning] lambda_l2 is set=1, reg_lambda=1.5 will be ignored. Current value: lambda_l2=1\n",
      "[LightGBM] [Info] Number of positive: 5483, number of negative: 24923\n",
      "[LightGBM] [Warning] Auto-choosing col-wise multi-threading, the overhead of testing was 0.007434 seconds.\n",
      "You can set `force_col_wise=true` to remove the overhead.\n",
      "[LightGBM] [Info] Total Bins 8738\n",
      "[LightGBM] [Info] Number of data points in the train set: 30406, number of used features: 35\n",
      "[LightGBM] [Info] [binary:BoostFromScore]: pavg=0.180326 -> initscore=-1.514139\n",
      "[LightGBM] [Info] Start training from score -1.514139\n",
      "[LightGBM] [Warning] No further splits with positive gain, best gain: -inf\n"
     ]
    },
    {
     "name": "stderr",
     "output_type": "stream",
     "text": [
      "/opt/anaconda3/envs/gene/lib/python3.8/site-packages/sklearn/preprocessing/_label.py:98: DataConversionWarning: A column-vector y was passed when a 1d array was expected. Please change the shape of y to (n_samples, ), for example using ravel().\n",
      "  y = column_or_1d(y, warn=True)\n",
      "/opt/anaconda3/envs/gene/lib/python3.8/site-packages/sklearn/preprocessing/_label.py:133: DataConversionWarning: A column-vector y was passed when a 1d array was expected. Please change the shape of y to (n_samples, ), for example using ravel().\n",
      "  y = column_or_1d(y, warn=True)\n"
     ]
    },
    {
     "name": "stdout",
     "output_type": "stream",
     "text": [
      "[LightGBM] [Warning] min_data_in_leaf is set=10, min_child_samples=20 will be ignored. Current value: min_data_in_leaf=10\n",
      "[LightGBM] [Warning] lambda_l1 is set=0, reg_alpha=1.5 will be ignored. Current value: lambda_l1=0\n",
      "[LightGBM] [Warning] lambda_l2 is set=1, reg_lambda=1.5 will be ignored. Current value: lambda_l2=1\n",
      "[LightGBM] [Warning] min_data_in_leaf is set=10, min_child_samples=20 will be ignored. Current value: min_data_in_leaf=10\n",
      "[LightGBM] [Warning] lambda_l1 is set=0, reg_alpha=1.5 will be ignored. Current value: lambda_l1=0\n",
      "[LightGBM] [Warning] lambda_l2 is set=1, reg_lambda=1.5 will be ignored. Current value: lambda_l2=1\n",
      "[LightGBM] [Info] Number of positive: 5483, number of negative: 24923\n",
      "[LightGBM] [Warning] Auto-choosing col-wise multi-threading, the overhead of testing was 0.007680 seconds.\n",
      "You can set `force_col_wise=true` to remove the overhead.\n",
      "[LightGBM] [Info] Total Bins 8518\n",
      "[LightGBM] [Info] Number of data points in the train set: 30406, number of used features: 34\n",
      "[LightGBM] [Info] [binary:BoostFromScore]: pavg=0.180326 -> initscore=-1.514139\n",
      "[LightGBM] [Info] Start training from score -1.514139\n"
     ]
    },
    {
     "name": "stderr",
     "output_type": "stream",
     "text": [
      "/opt/anaconda3/envs/gene/lib/python3.8/site-packages/sklearn/preprocessing/_label.py:98: DataConversionWarning: A column-vector y was passed when a 1d array was expected. Please change the shape of y to (n_samples, ), for example using ravel().\n",
      "  y = column_or_1d(y, warn=True)\n",
      "/opt/anaconda3/envs/gene/lib/python3.8/site-packages/sklearn/preprocessing/_label.py:133: DataConversionWarning: A column-vector y was passed when a 1d array was expected. Please change the shape of y to (n_samples, ), for example using ravel().\n",
      "  y = column_or_1d(y, warn=True)\n"
     ]
    },
    {
     "name": "stdout",
     "output_type": "stream",
     "text": [
      "[LightGBM] [Warning] min_data_in_leaf is set=10, min_child_samples=20 will be ignored. Current value: min_data_in_leaf=10\n",
      "[LightGBM] [Warning] lambda_l1 is set=0, reg_alpha=1.5 will be ignored. Current value: lambda_l1=0\n",
      "[LightGBM] [Warning] lambda_l2 is set=1, reg_lambda=1.5 will be ignored. Current value: lambda_l2=1\n",
      "[LightGBM] [Warning] min_data_in_leaf is set=10, min_child_samples=20 will be ignored. Current value: min_data_in_leaf=10\n",
      "[LightGBM] [Warning] lambda_l1 is set=0, reg_alpha=1.5 will be ignored. Current value: lambda_l1=0\n",
      "[LightGBM] [Warning] lambda_l2 is set=1, reg_lambda=1.5 will be ignored. Current value: lambda_l2=1\n",
      "[LightGBM] [Info] Number of positive: 5483, number of negative: 24923\n",
      "[LightGBM] [Warning] Auto-choosing col-wise multi-threading, the overhead of testing was 0.006785 seconds.\n",
      "You can set `force_col_wise=true` to remove the overhead.\n",
      "[LightGBM] [Info] Total Bins 8287\n",
      "[LightGBM] [Info] Number of data points in the train set: 30406, number of used features: 33\n",
      "[LightGBM] [Info] [binary:BoostFromScore]: pavg=0.180326 -> initscore=-1.514139\n",
      "[LightGBM] [Info] Start training from score -1.514139\n",
      "[LightGBM] [Warning] No further splits with positive gain, best gain: -inf\n",
      "[LightGBM] [Warning] No further splits with positive gain, best gain: -inf\n"
     ]
    },
    {
     "name": "stderr",
     "output_type": "stream",
     "text": [
      "/opt/anaconda3/envs/gene/lib/python3.8/site-packages/sklearn/preprocessing/_label.py:98: DataConversionWarning: A column-vector y was passed when a 1d array was expected. Please change the shape of y to (n_samples, ), for example using ravel().\n",
      "  y = column_or_1d(y, warn=True)\n",
      "/opt/anaconda3/envs/gene/lib/python3.8/site-packages/sklearn/preprocessing/_label.py:133: DataConversionWarning: A column-vector y was passed when a 1d array was expected. Please change the shape of y to (n_samples, ), for example using ravel().\n",
      "  y = column_or_1d(y, warn=True)\n"
     ]
    },
    {
     "name": "stdout",
     "output_type": "stream",
     "text": [
      "[LightGBM] [Warning] min_data_in_leaf is set=10, min_child_samples=20 will be ignored. Current value: min_data_in_leaf=10\n",
      "[LightGBM] [Warning] lambda_l1 is set=0, reg_alpha=1.5 will be ignored. Current value: lambda_l1=0\n",
      "[LightGBM] [Warning] lambda_l2 is set=1, reg_lambda=1.5 will be ignored. Current value: lambda_l2=1\n",
      "[LightGBM] [Warning] min_data_in_leaf is set=10, min_child_samples=20 will be ignored. Current value: min_data_in_leaf=10\n",
      "[LightGBM] [Warning] lambda_l1 is set=0, reg_alpha=1.5 will be ignored. Current value: lambda_l1=0\n",
      "[LightGBM] [Warning] lambda_l2 is set=1, reg_lambda=1.5 will be ignored. Current value: lambda_l2=1\n",
      "[LightGBM] [Info] Number of positive: 5483, number of negative: 24923\n",
      "[LightGBM] [Warning] Auto-choosing col-wise multi-threading, the overhead of testing was 0.006788 seconds.\n",
      "You can set `force_col_wise=true` to remove the overhead.\n",
      "[LightGBM] [Info] Total Bins 8032\n",
      "[LightGBM] [Info] Number of data points in the train set: 30406, number of used features: 32\n",
      "[LightGBM] [Info] [binary:BoostFromScore]: pavg=0.180326 -> initscore=-1.514139\n",
      "[LightGBM] [Info] Start training from score -1.514139\n",
      "[LightGBM] [Warning] No further splits with positive gain, best gain: -inf\n"
     ]
    },
    {
     "name": "stderr",
     "output_type": "stream",
     "text": [
      "/opt/anaconda3/envs/gene/lib/python3.8/site-packages/sklearn/preprocessing/_label.py:98: DataConversionWarning: A column-vector y was passed when a 1d array was expected. Please change the shape of y to (n_samples, ), for example using ravel().\n",
      "  y = column_or_1d(y, warn=True)\n",
      "/opt/anaconda3/envs/gene/lib/python3.8/site-packages/sklearn/preprocessing/_label.py:133: DataConversionWarning: A column-vector y was passed when a 1d array was expected. Please change the shape of y to (n_samples, ), for example using ravel().\n",
      "  y = column_or_1d(y, warn=True)\n"
     ]
    },
    {
     "name": "stdout",
     "output_type": "stream",
     "text": [
      "[LightGBM] [Warning] min_data_in_leaf is set=10, min_child_samples=20 will be ignored. Current value: min_data_in_leaf=10\n",
      "[LightGBM] [Warning] lambda_l1 is set=0, reg_alpha=1.5 will be ignored. Current value: lambda_l1=0\n",
      "[LightGBM] [Warning] lambda_l2 is set=1, reg_lambda=1.5 will be ignored. Current value: lambda_l2=1\n",
      "[LightGBM] [Warning] min_data_in_leaf is set=10, min_child_samples=20 will be ignored. Current value: min_data_in_leaf=10\n",
      "[LightGBM] [Warning] lambda_l1 is set=0, reg_alpha=1.5 will be ignored. Current value: lambda_l1=0\n",
      "[LightGBM] [Warning] lambda_l2 is set=1, reg_lambda=1.5 will be ignored. Current value: lambda_l2=1\n",
      "[LightGBM] [Info] Number of positive: 5483, number of negative: 24923\n",
      "[LightGBM] [Warning] Auto-choosing col-wise multi-threading, the overhead of testing was 0.006202 seconds.\n",
      "You can set `force_col_wise=true` to remove the overhead.\n",
      "[LightGBM] [Info] Total Bins 7777\n",
      "[LightGBM] [Info] Number of data points in the train set: 30406, number of used features: 31\n",
      "[LightGBM] [Info] [binary:BoostFromScore]: pavg=0.180326 -> initscore=-1.514139\n",
      "[LightGBM] [Info] Start training from score -1.514139\n"
     ]
    },
    {
     "name": "stderr",
     "output_type": "stream",
     "text": [
      "/opt/anaconda3/envs/gene/lib/python3.8/site-packages/sklearn/preprocessing/_label.py:98: DataConversionWarning: A column-vector y was passed when a 1d array was expected. Please change the shape of y to (n_samples, ), for example using ravel().\n",
      "  y = column_or_1d(y, warn=True)\n",
      "/opt/anaconda3/envs/gene/lib/python3.8/site-packages/sklearn/preprocessing/_label.py:133: DataConversionWarning: A column-vector y was passed when a 1d array was expected. Please change the shape of y to (n_samples, ), for example using ravel().\n",
      "  y = column_or_1d(y, warn=True)\n"
     ]
    },
    {
     "name": "stdout",
     "output_type": "stream",
     "text": [
      "[LightGBM] [Warning] min_data_in_leaf is set=10, min_child_samples=20 will be ignored. Current value: min_data_in_leaf=10\n",
      "[LightGBM] [Warning] lambda_l1 is set=0, reg_alpha=1.5 will be ignored. Current value: lambda_l1=0\n",
      "[LightGBM] [Warning] lambda_l2 is set=1, reg_lambda=1.5 will be ignored. Current value: lambda_l2=1\n",
      "[LightGBM] [Warning] min_data_in_leaf is set=10, min_child_samples=20 will be ignored. Current value: min_data_in_leaf=10\n",
      "[LightGBM] [Warning] lambda_l1 is set=0, reg_alpha=1.5 will be ignored. Current value: lambda_l1=0\n",
      "[LightGBM] [Warning] lambda_l2 is set=1, reg_lambda=1.5 will be ignored. Current value: lambda_l2=1\n",
      "[LightGBM] [Info] Number of positive: 5483, number of negative: 24923\n",
      "[LightGBM] [Warning] Auto-choosing col-wise multi-threading, the overhead of testing was 0.005748 seconds.\n",
      "You can set `force_col_wise=true` to remove the overhead.\n",
      "[LightGBM] [Info] Total Bins 7541\n",
      "[LightGBM] [Info] Number of data points in the train set: 30406, number of used features: 30\n",
      "[LightGBM] [Info] [binary:BoostFromScore]: pavg=0.180326 -> initscore=-1.514139\n",
      "[LightGBM] [Info] Start training from score -1.514139\n",
      "[LightGBM] [Warning] No further splits with positive gain, best gain: -inf\n"
     ]
    },
    {
     "name": "stderr",
     "output_type": "stream",
     "text": [
      "/opt/anaconda3/envs/gene/lib/python3.8/site-packages/sklearn/preprocessing/_label.py:98: DataConversionWarning: A column-vector y was passed when a 1d array was expected. Please change the shape of y to (n_samples, ), for example using ravel().\n",
      "  y = column_or_1d(y, warn=True)\n",
      "/opt/anaconda3/envs/gene/lib/python3.8/site-packages/sklearn/preprocessing/_label.py:133: DataConversionWarning: A column-vector y was passed when a 1d array was expected. Please change the shape of y to (n_samples, ), for example using ravel().\n",
      "  y = column_or_1d(y, warn=True)\n"
     ]
    },
    {
     "name": "stdout",
     "output_type": "stream",
     "text": [
      "[LightGBM] [Warning] min_data_in_leaf is set=10, min_child_samples=20 will be ignored. Current value: min_data_in_leaf=10\n",
      "[LightGBM] [Warning] lambda_l1 is set=0, reg_alpha=1.5 will be ignored. Current value: lambda_l1=0\n",
      "[LightGBM] [Warning] lambda_l2 is set=1, reg_lambda=1.5 will be ignored. Current value: lambda_l2=1\n",
      "[LightGBM] [Warning] min_data_in_leaf is set=10, min_child_samples=20 will be ignored. Current value: min_data_in_leaf=10\n",
      "[LightGBM] [Warning] lambda_l1 is set=0, reg_alpha=1.5 will be ignored. Current value: lambda_l1=0\n",
      "[LightGBM] [Warning] lambda_l2 is set=1, reg_lambda=1.5 will be ignored. Current value: lambda_l2=1\n",
      "[LightGBM] [Info] Number of positive: 5483, number of negative: 24923\n",
      "[LightGBM] [Warning] Auto-choosing col-wise multi-threading, the overhead of testing was 0.003832 seconds.\n",
      "You can set `force_col_wise=true` to remove the overhead.\n",
      "[LightGBM] [Info] Total Bins 7316\n",
      "[LightGBM] [Info] Number of data points in the train set: 30406, number of used features: 29\n",
      "[LightGBM] [Info] [binary:BoostFromScore]: pavg=0.180326 -> initscore=-1.514139\n",
      "[LightGBM] [Info] Start training from score -1.514139\n"
     ]
    },
    {
     "name": "stderr",
     "output_type": "stream",
     "text": [
      "/opt/anaconda3/envs/gene/lib/python3.8/site-packages/sklearn/preprocessing/_label.py:98: DataConversionWarning: A column-vector y was passed when a 1d array was expected. Please change the shape of y to (n_samples, ), for example using ravel().\n",
      "  y = column_or_1d(y, warn=True)\n",
      "/opt/anaconda3/envs/gene/lib/python3.8/site-packages/sklearn/preprocessing/_label.py:133: DataConversionWarning: A column-vector y was passed when a 1d array was expected. Please change the shape of y to (n_samples, ), for example using ravel().\n",
      "  y = column_or_1d(y, warn=True)\n"
     ]
    },
    {
     "name": "stdout",
     "output_type": "stream",
     "text": [
      "[LightGBM] [Warning] min_data_in_leaf is set=10, min_child_samples=20 will be ignored. Current value: min_data_in_leaf=10\n",
      "[LightGBM] [Warning] lambda_l1 is set=0, reg_alpha=1.5 will be ignored. Current value: lambda_l1=0\n",
      "[LightGBM] [Warning] lambda_l2 is set=1, reg_lambda=1.5 will be ignored. Current value: lambda_l2=1\n",
      "[LightGBM] [Warning] min_data_in_leaf is set=10, min_child_samples=20 will be ignored. Current value: min_data_in_leaf=10\n",
      "[LightGBM] [Warning] lambda_l1 is set=0, reg_alpha=1.5 will be ignored. Current value: lambda_l1=0\n",
      "[LightGBM] [Warning] lambda_l2 is set=1, reg_lambda=1.5 will be ignored. Current value: lambda_l2=1\n",
      "[LightGBM] [Info] Number of positive: 5483, number of negative: 24923\n",
      "[LightGBM] [Warning] Auto-choosing col-wise multi-threading, the overhead of testing was 0.005049 seconds.\n",
      "You can set `force_col_wise=true` to remove the overhead.\n",
      "[LightGBM] [Info] Total Bins 7061\n",
      "[LightGBM] [Info] Number of data points in the train set: 30406, number of used features: 28\n",
      "[LightGBM] [Info] [binary:BoostFromScore]: pavg=0.180326 -> initscore=-1.514139\n",
      "[LightGBM] [Info] Start training from score -1.514139\n",
      "[LightGBM] [Warning] No further splits with positive gain, best gain: -inf\n"
     ]
    },
    {
     "name": "stderr",
     "output_type": "stream",
     "text": [
      "/opt/anaconda3/envs/gene/lib/python3.8/site-packages/sklearn/preprocessing/_label.py:98: DataConversionWarning: A column-vector y was passed when a 1d array was expected. Please change the shape of y to (n_samples, ), for example using ravel().\n",
      "  y = column_or_1d(y, warn=True)\n",
      "/opt/anaconda3/envs/gene/lib/python3.8/site-packages/sklearn/preprocessing/_label.py:133: DataConversionWarning: A column-vector y was passed when a 1d array was expected. Please change the shape of y to (n_samples, ), for example using ravel().\n",
      "  y = column_or_1d(y, warn=True)\n"
     ]
    },
    {
     "name": "stdout",
     "output_type": "stream",
     "text": [
      "[LightGBM] [Warning] min_data_in_leaf is set=10, min_child_samples=20 will be ignored. Current value: min_data_in_leaf=10\n",
      "[LightGBM] [Warning] lambda_l1 is set=0, reg_alpha=1.5 will be ignored. Current value: lambda_l1=0\n",
      "[LightGBM] [Warning] lambda_l2 is set=1, reg_lambda=1.5 will be ignored. Current value: lambda_l2=1\n",
      "[LightGBM] [Warning] min_data_in_leaf is set=10, min_child_samples=20 will be ignored. Current value: min_data_in_leaf=10\n",
      "[LightGBM] [Warning] lambda_l1 is set=0, reg_alpha=1.5 will be ignored. Current value: lambda_l1=0\n",
      "[LightGBM] [Warning] lambda_l2 is set=1, reg_lambda=1.5 will be ignored. Current value: lambda_l2=1\n",
      "[LightGBM] [Info] Number of positive: 5483, number of negative: 24923\n",
      "[LightGBM] [Warning] Auto-choosing col-wise multi-threading, the overhead of testing was 0.004871 seconds.\n",
      "You can set `force_col_wise=true` to remove the overhead.\n",
      "[LightGBM] [Info] Total Bins 6806\n",
      "[LightGBM] [Info] Number of data points in the train set: 30406, number of used features: 27\n",
      "[LightGBM] [Info] [binary:BoostFromScore]: pavg=0.180326 -> initscore=-1.514139\n",
      "[LightGBM] [Info] Start training from score -1.514139\n"
     ]
    },
    {
     "name": "stderr",
     "output_type": "stream",
     "text": [
      "/opt/anaconda3/envs/gene/lib/python3.8/site-packages/sklearn/preprocessing/_label.py:98: DataConversionWarning: A column-vector y was passed when a 1d array was expected. Please change the shape of y to (n_samples, ), for example using ravel().\n",
      "  y = column_or_1d(y, warn=True)\n",
      "/opt/anaconda3/envs/gene/lib/python3.8/site-packages/sklearn/preprocessing/_label.py:133: DataConversionWarning: A column-vector y was passed when a 1d array was expected. Please change the shape of y to (n_samples, ), for example using ravel().\n",
      "  y = column_or_1d(y, warn=True)\n"
     ]
    },
    {
     "name": "stdout",
     "output_type": "stream",
     "text": [
      "[LightGBM] [Warning] min_data_in_leaf is set=10, min_child_samples=20 will be ignored. Current value: min_data_in_leaf=10\n",
      "[LightGBM] [Warning] lambda_l1 is set=0, reg_alpha=1.5 will be ignored. Current value: lambda_l1=0\n",
      "[LightGBM] [Warning] lambda_l2 is set=1, reg_lambda=1.5 will be ignored. Current value: lambda_l2=1\n",
      "[LightGBM] [Warning] min_data_in_leaf is set=10, min_child_samples=20 will be ignored. Current value: min_data_in_leaf=10\n",
      "[LightGBM] [Warning] lambda_l1 is set=0, reg_alpha=1.5 will be ignored. Current value: lambda_l1=0\n",
      "[LightGBM] [Warning] lambda_l2 is set=1, reg_lambda=1.5 will be ignored. Current value: lambda_l2=1\n",
      "[LightGBM] [Info] Number of positive: 5483, number of negative: 24923\n",
      "[LightGBM] [Warning] Auto-choosing col-wise multi-threading, the overhead of testing was 0.003391 seconds.\n",
      "You can set `force_col_wise=true` to remove the overhead.\n",
      "[LightGBM] [Info] Total Bins 6551\n",
      "[LightGBM] [Info] Number of data points in the train set: 30406, number of used features: 26\n",
      "[LightGBM] [Info] [binary:BoostFromScore]: pavg=0.180326 -> initscore=-1.514139\n",
      "[LightGBM] [Info] Start training from score -1.514139\n",
      "[LightGBM] [Warning] No further splits with positive gain, best gain: -inf\n"
     ]
    },
    {
     "name": "stderr",
     "output_type": "stream",
     "text": [
      "/opt/anaconda3/envs/gene/lib/python3.8/site-packages/sklearn/preprocessing/_label.py:98: DataConversionWarning: A column-vector y was passed when a 1d array was expected. Please change the shape of y to (n_samples, ), for example using ravel().\n",
      "  y = column_or_1d(y, warn=True)\n",
      "/opt/anaconda3/envs/gene/lib/python3.8/site-packages/sklearn/preprocessing/_label.py:133: DataConversionWarning: A column-vector y was passed when a 1d array was expected. Please change the shape of y to (n_samples, ), for example using ravel().\n",
      "  y = column_or_1d(y, warn=True)\n"
     ]
    },
    {
     "name": "stdout",
     "output_type": "stream",
     "text": [
      "[LightGBM] [Warning] min_data_in_leaf is set=10, min_child_samples=20 will be ignored. Current value: min_data_in_leaf=10\n",
      "[LightGBM] [Warning] lambda_l1 is set=0, reg_alpha=1.5 will be ignored. Current value: lambda_l1=0\n",
      "[LightGBM] [Warning] lambda_l2 is set=1, reg_lambda=1.5 will be ignored. Current value: lambda_l2=1\n",
      "[LightGBM] [Warning] min_data_in_leaf is set=10, min_child_samples=20 will be ignored. Current value: min_data_in_leaf=10\n",
      "[LightGBM] [Warning] lambda_l1 is set=0, reg_alpha=1.5 will be ignored. Current value: lambda_l1=0\n",
      "[LightGBM] [Warning] lambda_l2 is set=1, reg_lambda=1.5 will be ignored. Current value: lambda_l2=1\n",
      "[LightGBM] [Info] Number of positive: 5483, number of negative: 24923\n",
      "[LightGBM] [Warning] Auto-choosing col-wise multi-threading, the overhead of testing was 0.004501 seconds.\n",
      "You can set `force_col_wise=true` to remove the overhead.\n",
      "[LightGBM] [Info] Total Bins 6296\n",
      "[LightGBM] [Info] Number of data points in the train set: 30406, number of used features: 25\n",
      "[LightGBM] [Info] [binary:BoostFromScore]: pavg=0.180326 -> initscore=-1.514139\n",
      "[LightGBM] [Info] Start training from score -1.514139\n",
      "[LightGBM] [Warning] No further splits with positive gain, best gain: -inf\n",
      "[LightGBM] [Warning] No further splits with positive gain, best gain: -inf\n",
      "[LightGBM] [Warning] min_data_in_leaf is set=10, min_child_samples=20 will be ignored. Current value: min_data_in_leaf=10\n",
      "[LightGBM] [Warning] lambda_l1 is set=0, reg_alpha=1.5 will be ignored. Current value: lambda_l1=0\n",
      "[LightGBM] [Warning] lambda_l2 is set=1, reg_lambda=1.5 will be ignored. Current value: lambda_l2=1\n",
      "[LightGBM] [Warning] min_data_in_leaf is set=10, min_child_samples=20 will be ignored. Current value: min_data_in_leaf=10\n",
      "[LightGBM] [Warning] lambda_l1 is set=0, reg_alpha=1.5 will be ignored. Current value: lambda_l1=0\n",
      "[LightGBM] [Warning] lambda_l2 is set=1, reg_lambda=1.5 will be ignored. Current value: lambda_l2=1\n",
      "[LightGBM] [Info] Number of positive: 5483, number of negative: 24923\n",
      "[LightGBM] [Warning] Auto-choosing col-wise multi-threading, the overhead of testing was 0.004956 seconds.\n",
      "You can set `force_col_wise=true` to remove the overhead.\n",
      "[LightGBM] [Info] Total Bins 6041\n",
      "[LightGBM] [Info] Number of data points in the train set: 30406, number of used features: 24\n",
      "[LightGBM] [Info] [binary:BoostFromScore]: pavg=0.180326 -> initscore=-1.514139\n",
      "[LightGBM] [Info] Start training from score -1.514139\n"
     ]
    },
    {
     "name": "stderr",
     "output_type": "stream",
     "text": [
      "/opt/anaconda3/envs/gene/lib/python3.8/site-packages/sklearn/preprocessing/_label.py:98: DataConversionWarning: A column-vector y was passed when a 1d array was expected. Please change the shape of y to (n_samples, ), for example using ravel().\n",
      "  y = column_or_1d(y, warn=True)\n",
      "/opt/anaconda3/envs/gene/lib/python3.8/site-packages/sklearn/preprocessing/_label.py:133: DataConversionWarning: A column-vector y was passed when a 1d array was expected. Please change the shape of y to (n_samples, ), for example using ravel().\n",
      "  y = column_or_1d(y, warn=True)\n"
     ]
    },
    {
     "name": "stdout",
     "output_type": "stream",
     "text": [
      "[LightGBM] [Warning] No further splits with positive gain, best gain: -inf\n"
     ]
    },
    {
     "name": "stderr",
     "output_type": "stream",
     "text": [
      "/opt/anaconda3/envs/gene/lib/python3.8/site-packages/sklearn/preprocessing/_label.py:98: DataConversionWarning: A column-vector y was passed when a 1d array was expected. Please change the shape of y to (n_samples, ), for example using ravel().\n",
      "  y = column_or_1d(y, warn=True)\n",
      "/opt/anaconda3/envs/gene/lib/python3.8/site-packages/sklearn/preprocessing/_label.py:133: DataConversionWarning: A column-vector y was passed when a 1d array was expected. Please change the shape of y to (n_samples, ), for example using ravel().\n",
      "  y = column_or_1d(y, warn=True)\n"
     ]
    },
    {
     "name": "stdout",
     "output_type": "stream",
     "text": [
      "[LightGBM] [Warning] min_data_in_leaf is set=10, min_child_samples=20 will be ignored. Current value: min_data_in_leaf=10\n",
      "[LightGBM] [Warning] lambda_l1 is set=0, reg_alpha=1.5 will be ignored. Current value: lambda_l1=0\n",
      "[LightGBM] [Warning] lambda_l2 is set=1, reg_lambda=1.5 will be ignored. Current value: lambda_l2=1\n",
      "[LightGBM] [Warning] min_data_in_leaf is set=10, min_child_samples=20 will be ignored. Current value: min_data_in_leaf=10\n",
      "[LightGBM] [Warning] lambda_l1 is set=0, reg_alpha=1.5 will be ignored. Current value: lambda_l1=0\n",
      "[LightGBM] [Warning] lambda_l2 is set=1, reg_lambda=1.5 will be ignored. Current value: lambda_l2=1\n",
      "[LightGBM] [Info] Number of positive: 5483, number of negative: 24923\n",
      "[LightGBM] [Warning] Auto-choosing col-wise multi-threading, the overhead of testing was 0.004945 seconds.\n",
      "You can set `force_col_wise=true` to remove the overhead.\n",
      "[LightGBM] [Info] Total Bins 5786\n",
      "[LightGBM] [Info] Number of data points in the train set: 30406, number of used features: 23\n",
      "[LightGBM] [Info] [binary:BoostFromScore]: pavg=0.180326 -> initscore=-1.514139\n",
      "[LightGBM] [Info] Start training from score -1.514139\n"
     ]
    },
    {
     "name": "stderr",
     "output_type": "stream",
     "text": [
      "/opt/anaconda3/envs/gene/lib/python3.8/site-packages/sklearn/preprocessing/_label.py:98: DataConversionWarning: A column-vector y was passed when a 1d array was expected. Please change the shape of y to (n_samples, ), for example using ravel().\n",
      "  y = column_or_1d(y, warn=True)\n",
      "/opt/anaconda3/envs/gene/lib/python3.8/site-packages/sklearn/preprocessing/_label.py:133: DataConversionWarning: A column-vector y was passed when a 1d array was expected. Please change the shape of y to (n_samples, ), for example using ravel().\n",
      "  y = column_or_1d(y, warn=True)\n"
     ]
    },
    {
     "name": "stdout",
     "output_type": "stream",
     "text": [
      "[LightGBM] [Warning] min_data_in_leaf is set=10, min_child_samples=20 will be ignored. Current value: min_data_in_leaf=10\n",
      "[LightGBM] [Warning] lambda_l1 is set=0, reg_alpha=1.5 will be ignored. Current value: lambda_l1=0\n",
      "[LightGBM] [Warning] lambda_l2 is set=1, reg_lambda=1.5 will be ignored. Current value: lambda_l2=1\n",
      "[LightGBM] [Warning] min_data_in_leaf is set=10, min_child_samples=20 will be ignored. Current value: min_data_in_leaf=10\n",
      "[LightGBM] [Warning] lambda_l1 is set=0, reg_alpha=1.5 will be ignored. Current value: lambda_l1=0\n",
      "[LightGBM] [Warning] lambda_l2 is set=1, reg_lambda=1.5 will be ignored. Current value: lambda_l2=1\n",
      "[LightGBM] [Info] Number of positive: 5483, number of negative: 24923\n",
      "[LightGBM] [Warning] Auto-choosing col-wise multi-threading, the overhead of testing was 0.005711 seconds.\n",
      "You can set `force_col_wise=true` to remove the overhead.\n",
      "[LightGBM] [Info] Total Bins 5531\n",
      "[LightGBM] [Info] Number of data points in the train set: 30406, number of used features: 22\n",
      "[LightGBM] [Info] [binary:BoostFromScore]: pavg=0.180326 -> initscore=-1.514139\n",
      "[LightGBM] [Info] Start training from score -1.514139\n",
      "[LightGBM] [Warning] No further splits with positive gain, best gain: -inf\n",
      "[LightGBM] [Warning] No further splits with positive gain, best gain: -inf\n"
     ]
    },
    {
     "name": "stderr",
     "output_type": "stream",
     "text": [
      "/opt/anaconda3/envs/gene/lib/python3.8/site-packages/sklearn/preprocessing/_label.py:98: DataConversionWarning: A column-vector y was passed when a 1d array was expected. Please change the shape of y to (n_samples, ), for example using ravel().\n",
      "  y = column_or_1d(y, warn=True)\n",
      "/opt/anaconda3/envs/gene/lib/python3.8/site-packages/sklearn/preprocessing/_label.py:133: DataConversionWarning: A column-vector y was passed when a 1d array was expected. Please change the shape of y to (n_samples, ), for example using ravel().\n",
      "  y = column_or_1d(y, warn=True)\n"
     ]
    },
    {
     "name": "stdout",
     "output_type": "stream",
     "text": [
      "[LightGBM] [Warning] min_data_in_leaf is set=10, min_child_samples=20 will be ignored. Current value: min_data_in_leaf=10\n",
      "[LightGBM] [Warning] lambda_l1 is set=0, reg_alpha=1.5 will be ignored. Current value: lambda_l1=0\n",
      "[LightGBM] [Warning] lambda_l2 is set=1, reg_lambda=1.5 will be ignored. Current value: lambda_l2=1\n",
      "[LightGBM] [Warning] min_data_in_leaf is set=10, min_child_samples=20 will be ignored. Current value: min_data_in_leaf=10\n",
      "[LightGBM] [Warning] lambda_l1 is set=0, reg_alpha=1.5 will be ignored. Current value: lambda_l1=0\n",
      "[LightGBM] [Warning] lambda_l2 is set=1, reg_lambda=1.5 will be ignored. Current value: lambda_l2=1\n",
      "[LightGBM] [Info] Number of positive: 5483, number of negative: 24923\n",
      "[LightGBM] [Warning] Auto-choosing col-wise multi-threading, the overhead of testing was 0.007414 seconds.\n",
      "You can set `force_col_wise=true` to remove the overhead.\n",
      "[LightGBM] [Info] Total Bins 5276\n",
      "[LightGBM] [Info] Number of data points in the train set: 30406, number of used features: 21\n",
      "[LightGBM] [Info] [binary:BoostFromScore]: pavg=0.180326 -> initscore=-1.514139\n",
      "[LightGBM] [Info] Start training from score -1.514139\n"
     ]
    },
    {
     "name": "stderr",
     "output_type": "stream",
     "text": [
      "/opt/anaconda3/envs/gene/lib/python3.8/site-packages/sklearn/preprocessing/_label.py:98: DataConversionWarning: A column-vector y was passed when a 1d array was expected. Please change the shape of y to (n_samples, ), for example using ravel().\n",
      "  y = column_or_1d(y, warn=True)\n",
      "/opt/anaconda3/envs/gene/lib/python3.8/site-packages/sklearn/preprocessing/_label.py:133: DataConversionWarning: A column-vector y was passed when a 1d array was expected. Please change the shape of y to (n_samples, ), for example using ravel().\n",
      "  y = column_or_1d(y, warn=True)\n"
     ]
    },
    {
     "name": "stdout",
     "output_type": "stream",
     "text": [
      "[LightGBM] [Warning] min_data_in_leaf is set=10, min_child_samples=20 will be ignored. Current value: min_data_in_leaf=10\n",
      "[LightGBM] [Warning] lambda_l1 is set=0, reg_alpha=1.5 will be ignored. Current value: lambda_l1=0\n",
      "[LightGBM] [Warning] lambda_l2 is set=1, reg_lambda=1.5 will be ignored. Current value: lambda_l2=1\n",
      "[LightGBM] [Warning] min_data_in_leaf is set=10, min_child_samples=20 will be ignored. Current value: min_data_in_leaf=10\n",
      "[LightGBM] [Warning] lambda_l1 is set=0, reg_alpha=1.5 will be ignored. Current value: lambda_l1=0\n",
      "[LightGBM] [Warning] lambda_l2 is set=1, reg_lambda=1.5 will be ignored. Current value: lambda_l2=1\n",
      "[LightGBM] [Info] Number of positive: 5483, number of negative: 24923\n",
      "[LightGBM] [Warning] Auto-choosing col-wise multi-threading, the overhead of testing was 0.003883 seconds.\n",
      "You can set `force_col_wise=true` to remove the overhead.\n",
      "[LightGBM] [Info] Total Bins 5021\n",
      "[LightGBM] [Info] Number of data points in the train set: 30406, number of used features: 20\n",
      "[LightGBM] [Info] [binary:BoostFromScore]: pavg=0.180326 -> initscore=-1.514139\n",
      "[LightGBM] [Info] Start training from score -1.514139\n",
      "[LightGBM] [Warning] No further splits with positive gain, best gain: -inf\n"
     ]
    },
    {
     "name": "stderr",
     "output_type": "stream",
     "text": [
      "/opt/anaconda3/envs/gene/lib/python3.8/site-packages/sklearn/preprocessing/_label.py:98: DataConversionWarning: A column-vector y was passed when a 1d array was expected. Please change the shape of y to (n_samples, ), for example using ravel().\n",
      "  y = column_or_1d(y, warn=True)\n",
      "/opt/anaconda3/envs/gene/lib/python3.8/site-packages/sklearn/preprocessing/_label.py:133: DataConversionWarning: A column-vector y was passed when a 1d array was expected. Please change the shape of y to (n_samples, ), for example using ravel().\n",
      "  y = column_or_1d(y, warn=True)\n"
     ]
    },
    {
     "name": "stdout",
     "output_type": "stream",
     "text": [
      "[LightGBM] [Warning] min_data_in_leaf is set=10, min_child_samples=20 will be ignored. Current value: min_data_in_leaf=10\n",
      "[LightGBM] [Warning] lambda_l1 is set=0, reg_alpha=1.5 will be ignored. Current value: lambda_l1=0\n",
      "[LightGBM] [Warning] lambda_l2 is set=1, reg_lambda=1.5 will be ignored. Current value: lambda_l2=1\n",
      "[LightGBM] [Warning] min_data_in_leaf is set=10, min_child_samples=20 will be ignored. Current value: min_data_in_leaf=10\n",
      "[LightGBM] [Warning] lambda_l1 is set=0, reg_alpha=1.5 will be ignored. Current value: lambda_l1=0\n",
      "[LightGBM] [Warning] lambda_l2 is set=1, reg_lambda=1.5 will be ignored. Current value: lambda_l2=1\n",
      "[LightGBM] [Info] Number of positive: 5483, number of negative: 24923\n",
      "[LightGBM] [Warning] Auto-choosing col-wise multi-threading, the overhead of testing was 0.004121 seconds.\n",
      "You can set `force_col_wise=true` to remove the overhead.\n",
      "[LightGBM] [Info] Total Bins 4766\n",
      "[LightGBM] [Info] Number of data points in the train set: 30406, number of used features: 19\n",
      "[LightGBM] [Info] [binary:BoostFromScore]: pavg=0.180326 -> initscore=-1.514139\n",
      "[LightGBM] [Info] Start training from score -1.514139\n",
      "[LightGBM] [Warning] No further splits with positive gain, best gain: -inf\n"
     ]
    },
    {
     "name": "stderr",
     "output_type": "stream",
     "text": [
      "/opt/anaconda3/envs/gene/lib/python3.8/site-packages/sklearn/preprocessing/_label.py:98: DataConversionWarning: A column-vector y was passed when a 1d array was expected. Please change the shape of y to (n_samples, ), for example using ravel().\n",
      "  y = column_or_1d(y, warn=True)\n",
      "/opt/anaconda3/envs/gene/lib/python3.8/site-packages/sklearn/preprocessing/_label.py:133: DataConversionWarning: A column-vector y was passed when a 1d array was expected. Please change the shape of y to (n_samples, ), for example using ravel().\n",
      "  y = column_or_1d(y, warn=True)\n"
     ]
    },
    {
     "name": "stdout",
     "output_type": "stream",
     "text": [
      "[LightGBM] [Warning] min_data_in_leaf is set=10, min_child_samples=20 will be ignored. Current value: min_data_in_leaf=10\n",
      "[LightGBM] [Warning] lambda_l1 is set=0, reg_alpha=1.5 will be ignored. Current value: lambda_l1=0\n",
      "[LightGBM] [Warning] lambda_l2 is set=1, reg_lambda=1.5 will be ignored. Current value: lambda_l2=1\n",
      "[LightGBM] [Warning] min_data_in_leaf is set=10, min_child_samples=20 will be ignored. Current value: min_data_in_leaf=10\n",
      "[LightGBM] [Warning] lambda_l1 is set=0, reg_alpha=1.5 will be ignored. Current value: lambda_l1=0\n",
      "[LightGBM] [Warning] lambda_l2 is set=1, reg_lambda=1.5 will be ignored. Current value: lambda_l2=1\n",
      "[LightGBM] [Info] Number of positive: 5483, number of negative: 24923\n",
      "[LightGBM] [Warning] Auto-choosing col-wise multi-threading, the overhead of testing was 0.003621 seconds.\n",
      "You can set `force_col_wise=true` to remove the overhead.\n",
      "[LightGBM] [Info] Total Bins 4511\n",
      "[LightGBM] [Info] Number of data points in the train set: 30406, number of used features: 18\n",
      "[LightGBM] [Info] [binary:BoostFromScore]: pavg=0.180326 -> initscore=-1.514139\n",
      "[LightGBM] [Info] Start training from score -1.514139\n"
     ]
    },
    {
     "name": "stderr",
     "output_type": "stream",
     "text": [
      "/opt/anaconda3/envs/gene/lib/python3.8/site-packages/sklearn/preprocessing/_label.py:98: DataConversionWarning: A column-vector y was passed when a 1d array was expected. Please change the shape of y to (n_samples, ), for example using ravel().\n",
      "  y = column_or_1d(y, warn=True)\n",
      "/opt/anaconda3/envs/gene/lib/python3.8/site-packages/sklearn/preprocessing/_label.py:133: DataConversionWarning: A column-vector y was passed when a 1d array was expected. Please change the shape of y to (n_samples, ), for example using ravel().\n",
      "  y = column_or_1d(y, warn=True)\n"
     ]
    },
    {
     "name": "stdout",
     "output_type": "stream",
     "text": [
      "[LightGBM] [Warning] min_data_in_leaf is set=10, min_child_samples=20 will be ignored. Current value: min_data_in_leaf=10\n",
      "[LightGBM] [Warning] lambda_l1 is set=0, reg_alpha=1.5 will be ignored. Current value: lambda_l1=0\n",
      "[LightGBM] [Warning] lambda_l2 is set=1, reg_lambda=1.5 will be ignored. Current value: lambda_l2=1\n",
      "[LightGBM] [Warning] min_data_in_leaf is set=10, min_child_samples=20 will be ignored. Current value: min_data_in_leaf=10\n",
      "[LightGBM] [Warning] lambda_l1 is set=0, reg_alpha=1.5 will be ignored. Current value: lambda_l1=0\n",
      "[LightGBM] [Warning] lambda_l2 is set=1, reg_lambda=1.5 will be ignored. Current value: lambda_l2=1\n",
      "[LightGBM] [Info] Number of positive: 5483, number of negative: 24923\n",
      "[LightGBM] [Warning] Auto-choosing col-wise multi-threading, the overhead of testing was 0.004661 seconds.\n",
      "You can set `force_col_wise=true` to remove the overhead.\n",
      "[LightGBM] [Info] Total Bins 4286\n",
      "[LightGBM] [Info] Number of data points in the train set: 30406, number of used features: 17\n",
      "[LightGBM] [Info] [binary:BoostFromScore]: pavg=0.180326 -> initscore=-1.514139\n",
      "[LightGBM] [Info] Start training from score -1.514139\n"
     ]
    },
    {
     "name": "stderr",
     "output_type": "stream",
     "text": [
      "/opt/anaconda3/envs/gene/lib/python3.8/site-packages/sklearn/preprocessing/_label.py:98: DataConversionWarning: A column-vector y was passed when a 1d array was expected. Please change the shape of y to (n_samples, ), for example using ravel().\n",
      "  y = column_or_1d(y, warn=True)\n",
      "/opt/anaconda3/envs/gene/lib/python3.8/site-packages/sklearn/preprocessing/_label.py:133: DataConversionWarning: A column-vector y was passed when a 1d array was expected. Please change the shape of y to (n_samples, ), for example using ravel().\n",
      "  y = column_or_1d(y, warn=True)\n"
     ]
    },
    {
     "name": "stdout",
     "output_type": "stream",
     "text": [
      "[LightGBM] [Warning] min_data_in_leaf is set=10, min_child_samples=20 will be ignored. Current value: min_data_in_leaf=10\n",
      "[LightGBM] [Warning] lambda_l1 is set=0, reg_alpha=1.5 will be ignored. Current value: lambda_l1=0\n",
      "[LightGBM] [Warning] lambda_l2 is set=1, reg_lambda=1.5 will be ignored. Current value: lambda_l2=1\n",
      "[LightGBM] [Warning] min_data_in_leaf is set=10, min_child_samples=20 will be ignored. Current value: min_data_in_leaf=10\n",
      "[LightGBM] [Warning] lambda_l1 is set=0, reg_alpha=1.5 will be ignored. Current value: lambda_l1=0\n",
      "[LightGBM] [Warning] lambda_l2 is set=1, reg_lambda=1.5 will be ignored. Current value: lambda_l2=1\n",
      "[LightGBM] [Info] Number of positive: 5483, number of negative: 24923\n",
      "[LightGBM] [Warning] Auto-choosing col-wise multi-threading, the overhead of testing was 0.004502 seconds.\n",
      "You can set `force_col_wise=true` to remove the overhead.\n",
      "[LightGBM] [Info] Total Bins 4031\n",
      "[LightGBM] [Info] Number of data points in the train set: 30406, number of used features: 16\n",
      "[LightGBM] [Info] [binary:BoostFromScore]: pavg=0.180326 -> initscore=-1.514139\n",
      "[LightGBM] [Info] Start training from score -1.514139\n",
      "[LightGBM] [Warning] No further splits with positive gain, best gain: -inf\n",
      "[LightGBM] [Warning] min_data_in_leaf is set=10, min_child_samples=20 will be ignored. Current value: min_data_in_leaf=10\n",
      "[LightGBM] [Warning] lambda_l1 is set=0, reg_alpha=1.5 will be ignored. Current value: lambda_l1=0\n",
      "[LightGBM] [Warning] lambda_l2 is set=1, reg_lambda=1.5 will be ignored. Current value: lambda_l2=1\n",
      "[LightGBM] [Warning] min_data_in_leaf is set=10, min_child_samples=20 will be ignored. Current value: min_data_in_leaf=10\n",
      "[LightGBM] [Warning] lambda_l1 is set=0, reg_alpha=1.5 will be ignored. Current value: lambda_l1=0\n",
      "[LightGBM] [Warning] lambda_l2 is set=1, reg_lambda=1.5 will be ignored. Current value: lambda_l2=1\n",
      "[LightGBM] [Info] Number of positive: 5483, number of negative: 24923\n",
      "[LightGBM] [Warning] Auto-choosing col-wise multi-threading, the overhead of testing was 0.001960 seconds.\n",
      "You can set `force_col_wise=true` to remove the overhead.\n",
      "[LightGBM] [Info] Total Bins 3799\n",
      "[LightGBM] [Info] Number of data points in the train set: 30406, number of used features: 15\n",
      "[LightGBM] [Info] [binary:BoostFromScore]: pavg=0.180326 -> initscore=-1.514139\n",
      "[LightGBM] [Info] Start training from score -1.514139\n"
     ]
    },
    {
     "name": "stderr",
     "output_type": "stream",
     "text": [
      "/opt/anaconda3/envs/gene/lib/python3.8/site-packages/sklearn/preprocessing/_label.py:98: DataConversionWarning: A column-vector y was passed when a 1d array was expected. Please change the shape of y to (n_samples, ), for example using ravel().\n",
      "  y = column_or_1d(y, warn=True)\n",
      "/opt/anaconda3/envs/gene/lib/python3.8/site-packages/sklearn/preprocessing/_label.py:133: DataConversionWarning: A column-vector y was passed when a 1d array was expected. Please change the shape of y to (n_samples, ), for example using ravel().\n",
      "  y = column_or_1d(y, warn=True)\n",
      "/opt/anaconda3/envs/gene/lib/python3.8/site-packages/sklearn/preprocessing/_label.py:98: DataConversionWarning: A column-vector y was passed when a 1d array was expected. Please change the shape of y to (n_samples, ), for example using ravel().\n",
      "  y = column_or_1d(y, warn=True)\n",
      "/opt/anaconda3/envs/gene/lib/python3.8/site-packages/sklearn/preprocessing/_label.py:133: DataConversionWarning: A column-vector y was passed when a 1d array was expected. Please change the shape of y to (n_samples, ), for example using ravel().\n",
      "  y = column_or_1d(y, warn=True)\n"
     ]
    },
    {
     "name": "stdout",
     "output_type": "stream",
     "text": [
      "[LightGBM] [Warning] min_data_in_leaf is set=10, min_child_samples=20 will be ignored. Current value: min_data_in_leaf=10\n",
      "[LightGBM] [Warning] lambda_l1 is set=0, reg_alpha=1.5 will be ignored. Current value: lambda_l1=0\n",
      "[LightGBM] [Warning] lambda_l2 is set=1, reg_lambda=1.5 will be ignored. Current value: lambda_l2=1\n",
      "[LightGBM] [Warning] min_data_in_leaf is set=10, min_child_samples=20 will be ignored. Current value: min_data_in_leaf=10\n",
      "[LightGBM] [Warning] lambda_l1 is set=0, reg_alpha=1.5 will be ignored. Current value: lambda_l1=0\n",
      "[LightGBM] [Warning] lambda_l2 is set=1, reg_lambda=1.5 will be ignored. Current value: lambda_l2=1\n",
      "[LightGBM] [Info] Number of positive: 5483, number of negative: 24923\n",
      "[LightGBM] [Warning] Auto-choosing col-wise multi-threading, the overhead of testing was 0.002049 seconds.\n",
      "You can set `force_col_wise=true` to remove the overhead.\n",
      "[LightGBM] [Info] Total Bins 3544\n",
      "[LightGBM] [Info] Number of data points in the train set: 30406, number of used features: 14\n",
      "[LightGBM] [Info] [binary:BoostFromScore]: pavg=0.180326 -> initscore=-1.514139\n",
      "[LightGBM] [Info] Start training from score -1.514139\n"
     ]
    },
    {
     "name": "stderr",
     "output_type": "stream",
     "text": [
      "/opt/anaconda3/envs/gene/lib/python3.8/site-packages/sklearn/preprocessing/_label.py:98: DataConversionWarning: A column-vector y was passed when a 1d array was expected. Please change the shape of y to (n_samples, ), for example using ravel().\n",
      "  y = column_or_1d(y, warn=True)\n",
      "/opt/anaconda3/envs/gene/lib/python3.8/site-packages/sklearn/preprocessing/_label.py:133: DataConversionWarning: A column-vector y was passed when a 1d array was expected. Please change the shape of y to (n_samples, ), for example using ravel().\n",
      "  y = column_or_1d(y, warn=True)\n"
     ]
    },
    {
     "name": "stdout",
     "output_type": "stream",
     "text": [
      "[LightGBM] [Warning] min_data_in_leaf is set=10, min_child_samples=20 will be ignored. Current value: min_data_in_leaf=10\n",
      "[LightGBM] [Warning] lambda_l1 is set=0, reg_alpha=1.5 will be ignored. Current value: lambda_l1=0\n",
      "[LightGBM] [Warning] lambda_l2 is set=1, reg_lambda=1.5 will be ignored. Current value: lambda_l2=1\n",
      "[LightGBM] [Warning] min_data_in_leaf is set=10, min_child_samples=20 will be ignored. Current value: min_data_in_leaf=10\n",
      "[LightGBM] [Warning] lambda_l1 is set=0, reg_alpha=1.5 will be ignored. Current value: lambda_l1=0\n",
      "[LightGBM] [Warning] lambda_l2 is set=1, reg_lambda=1.5 will be ignored. Current value: lambda_l2=1\n",
      "[LightGBM] [Info] Number of positive: 5483, number of negative: 24923\n",
      "[LightGBM] [Warning] Auto-choosing col-wise multi-threading, the overhead of testing was 0.004118 seconds.\n",
      "You can set `force_col_wise=true` to remove the overhead.\n",
      "[LightGBM] [Info] Total Bins 3291\n",
      "[LightGBM] [Info] Number of data points in the train set: 30406, number of used features: 13\n",
      "[LightGBM] [Info] [binary:BoostFromScore]: pavg=0.180326 -> initscore=-1.514139\n",
      "[LightGBM] [Info] Start training from score -1.514139\n"
     ]
    },
    {
     "name": "stderr",
     "output_type": "stream",
     "text": [
      "/opt/anaconda3/envs/gene/lib/python3.8/site-packages/sklearn/preprocessing/_label.py:98: DataConversionWarning: A column-vector y was passed when a 1d array was expected. Please change the shape of y to (n_samples, ), for example using ravel().\n",
      "  y = column_or_1d(y, warn=True)\n",
      "/opt/anaconda3/envs/gene/lib/python3.8/site-packages/sklearn/preprocessing/_label.py:133: DataConversionWarning: A column-vector y was passed when a 1d array was expected. Please change the shape of y to (n_samples, ), for example using ravel().\n",
      "  y = column_or_1d(y, warn=True)\n"
     ]
    },
    {
     "name": "stdout",
     "output_type": "stream",
     "text": [
      "[LightGBM] [Warning] min_data_in_leaf is set=10, min_child_samples=20 will be ignored. Current value: min_data_in_leaf=10\n",
      "[LightGBM] [Warning] lambda_l1 is set=0, reg_alpha=1.5 will be ignored. Current value: lambda_l1=0\n",
      "[LightGBM] [Warning] lambda_l2 is set=1, reg_lambda=1.5 will be ignored. Current value: lambda_l2=1\n",
      "[LightGBM] [Warning] min_data_in_leaf is set=10, min_child_samples=20 will be ignored. Current value: min_data_in_leaf=10\n",
      "[LightGBM] [Warning] lambda_l1 is set=0, reg_alpha=1.5 will be ignored. Current value: lambda_l1=0\n",
      "[LightGBM] [Warning] lambda_l2 is set=1, reg_lambda=1.5 will be ignored. Current value: lambda_l2=1\n",
      "[LightGBM] [Info] Number of positive: 5483, number of negative: 24923\n",
      "[LightGBM] [Warning] Auto-choosing col-wise multi-threading, the overhead of testing was 0.002213 seconds.\n",
      "You can set `force_col_wise=true` to remove the overhead.\n",
      "[LightGBM] [Info] Total Bins 3036\n",
      "[LightGBM] [Info] Number of data points in the train set: 30406, number of used features: 12\n",
      "[LightGBM] [Info] [binary:BoostFromScore]: pavg=0.180326 -> initscore=-1.514139\n",
      "[LightGBM] [Info] Start training from score -1.514139\n"
     ]
    },
    {
     "name": "stderr",
     "output_type": "stream",
     "text": [
      "/opt/anaconda3/envs/gene/lib/python3.8/site-packages/sklearn/preprocessing/_label.py:98: DataConversionWarning: A column-vector y was passed when a 1d array was expected. Please change the shape of y to (n_samples, ), for example using ravel().\n",
      "  y = column_or_1d(y, warn=True)\n",
      "/opt/anaconda3/envs/gene/lib/python3.8/site-packages/sklearn/preprocessing/_label.py:133: DataConversionWarning: A column-vector y was passed when a 1d array was expected. Please change the shape of y to (n_samples, ), for example using ravel().\n",
      "  y = column_or_1d(y, warn=True)\n"
     ]
    },
    {
     "name": "stdout",
     "output_type": "stream",
     "text": [
      "[LightGBM] [Warning] min_data_in_leaf is set=10, min_child_samples=20 will be ignored. Current value: min_data_in_leaf=10\n",
      "[LightGBM] [Warning] lambda_l1 is set=0, reg_alpha=1.5 will be ignored. Current value: lambda_l1=0\n",
      "[LightGBM] [Warning] lambda_l2 is set=1, reg_lambda=1.5 will be ignored. Current value: lambda_l2=1\n",
      "[LightGBM] [Warning] min_data_in_leaf is set=10, min_child_samples=20 will be ignored. Current value: min_data_in_leaf=10\n",
      "[LightGBM] [Warning] lambda_l1 is set=0, reg_alpha=1.5 will be ignored. Current value: lambda_l1=0\n",
      "[LightGBM] [Warning] lambda_l2 is set=1, reg_lambda=1.5 will be ignored. Current value: lambda_l2=1\n",
      "[LightGBM] [Info] Number of positive: 5483, number of negative: 24923\n",
      "[LightGBM] [Warning] Auto-choosing col-wise multi-threading, the overhead of testing was 0.002095 seconds.\n",
      "You can set `force_col_wise=true` to remove the overhead.\n",
      "[LightGBM] [Info] Total Bins 2781\n",
      "[LightGBM] [Info] Number of data points in the train set: 30406, number of used features: 11\n",
      "[LightGBM] [Info] [binary:BoostFromScore]: pavg=0.180326 -> initscore=-1.514139\n",
      "[LightGBM] [Info] Start training from score -1.514139\n"
     ]
    },
    {
     "name": "stderr",
     "output_type": "stream",
     "text": [
      "/opt/anaconda3/envs/gene/lib/python3.8/site-packages/sklearn/preprocessing/_label.py:98: DataConversionWarning: A column-vector y was passed when a 1d array was expected. Please change the shape of y to (n_samples, ), for example using ravel().\n",
      "  y = column_or_1d(y, warn=True)\n",
      "/opt/anaconda3/envs/gene/lib/python3.8/site-packages/sklearn/preprocessing/_label.py:133: DataConversionWarning: A column-vector y was passed when a 1d array was expected. Please change the shape of y to (n_samples, ), for example using ravel().\n",
      "  y = column_or_1d(y, warn=True)\n"
     ]
    },
    {
     "name": "stdout",
     "output_type": "stream",
     "text": [
      "[LightGBM] [Warning] min_data_in_leaf is set=10, min_child_samples=20 will be ignored. Current value: min_data_in_leaf=10\n",
      "[LightGBM] [Warning] lambda_l1 is set=0, reg_alpha=1.5 will be ignored. Current value: lambda_l1=0\n",
      "[LightGBM] [Warning] lambda_l2 is set=1, reg_lambda=1.5 will be ignored. Current value: lambda_l2=1\n",
      "[LightGBM] [Warning] min_data_in_leaf is set=10, min_child_samples=20 will be ignored. Current value: min_data_in_leaf=10\n",
      "[LightGBM] [Warning] lambda_l1 is set=0, reg_alpha=1.5 will be ignored. Current value: lambda_l1=0\n",
      "[LightGBM] [Warning] lambda_l2 is set=1, reg_lambda=1.5 will be ignored. Current value: lambda_l2=1\n",
      "[LightGBM] [Info] Number of positive: 5483, number of negative: 24923\n",
      "[LightGBM] [Warning] Auto-choosing col-wise multi-threading, the overhead of testing was 0.002528 seconds.\n",
      "You can set `force_col_wise=true` to remove the overhead.\n",
      "[LightGBM] [Info] Total Bins 2526\n",
      "[LightGBM] [Info] Number of data points in the train set: 30406, number of used features: 10\n",
      "[LightGBM] [Info] [binary:BoostFromScore]: pavg=0.180326 -> initscore=-1.514139\n",
      "[LightGBM] [Info] Start training from score -1.514139\n",
      "[LightGBM] [Warning] No further splits with positive gain, best gain: -inf\n",
      "[ True False False False False False False False False  True False False\n",
      " False False False False  True False False False False False  True False\n",
      " False False False False  True False False  True False False False False\n",
      " False False False False False False False False False  True False False\n",
      " False  True False  True False  True False False False False False False\n",
      " False False False False False False False False False False False False]\n"
     ]
    },
    {
     "data": {
      "text/html": [
       "<div>\n",
       "<style scoped>\n",
       "    .dataframe tbody tr th:only-of-type {\n",
       "        vertical-align: middle;\n",
       "    }\n",
       "\n",
       "    .dataframe tbody tr th {\n",
       "        vertical-align: top;\n",
       "    }\n",
       "\n",
       "    .dataframe thead th {\n",
       "        text-align: right;\n",
       "    }\n",
       "</style>\n",
       "<table border=\"1\" class=\"dataframe\">\n",
       "  <thead>\n",
       "    <tr style=\"text-align: right;\">\n",
       "      <th></th>\n",
       "      <th>cols</th>\n",
       "      <th>fea_rank</th>\n",
       "    </tr>\n",
       "  </thead>\n",
       "  <tbody>\n",
       "    <tr>\n",
       "      <th>0</th>\n",
       "      <td>reads_count</td>\n",
       "      <td>1</td>\n",
       "    </tr>\n",
       "    <tr>\n",
       "      <th>53</th>\n",
       "      <td>mean_+1_min</td>\n",
       "      <td>1</td>\n",
       "    </tr>\n",
       "    <tr>\n",
       "      <th>51</th>\n",
       "      <td>mean_+1_75</td>\n",
       "      <td>1</td>\n",
       "    </tr>\n",
       "    <tr>\n",
       "      <th>49</th>\n",
       "      <td>mean_+1_25</td>\n",
       "      <td>1</td>\n",
       "    </tr>\n",
       "    <tr>\n",
       "      <th>45</th>\n",
       "      <td>std_+1_75</td>\n",
       "      <td>1</td>\n",
       "    </tr>\n",
       "    <tr>\n",
       "      <th>...</th>\n",
       "      <td>...</td>\n",
       "      <td>...</td>\n",
       "    </tr>\n",
       "    <tr>\n",
       "      <th>63</th>\n",
       "      <td>position_2_A</td>\n",
       "      <td>59</td>\n",
       "    </tr>\n",
       "    <tr>\n",
       "      <th>56</th>\n",
       "      <td>position_0_C</td>\n",
       "      <td>60</td>\n",
       "    </tr>\n",
       "    <tr>\n",
       "      <th>57</th>\n",
       "      <td>position_0_G</td>\n",
       "      <td>61</td>\n",
       "    </tr>\n",
       "    <tr>\n",
       "      <th>62</th>\n",
       "      <td>position_1_T</td>\n",
       "      <td>62</td>\n",
       "    </tr>\n",
       "    <tr>\n",
       "      <th>64</th>\n",
       "      <td>position_2_G</td>\n",
       "      <td>63</td>\n",
       "    </tr>\n",
       "  </tbody>\n",
       "</table>\n",
       "<p>72 rows × 2 columns</p>\n",
       "</div>"
      ],
      "text/plain": [
       "            cols  fea_rank\n",
       "0    reads_count         1\n",
       "53   mean_+1_min         1\n",
       "51    mean_+1_75         1\n",
       "49    mean_+1_25         1\n",
       "45     std_+1_75         1\n",
       "..           ...       ...\n",
       "63  position_2_A        59\n",
       "56  position_0_C        60\n",
       "57  position_0_G        61\n",
       "62  position_1_T        62\n",
       "64  position_2_G        63\n",
       "\n",
       "[72 rows x 2 columns]"
      ]
     },
     "execution_count": 84,
     "metadata": {},
     "output_type": "execute_result"
    }
   ],
   "source": [
    "#Recursive Feature Elimination(RFE)\n",
    "from sklearn.feature_selection import RFE\n",
    "\n",
    "# create the RFE model and select 10 attributes\n",
    "rfe = RFE(model,n_features_to_select=10)\n",
    "rfe = rfe.fit(X_train, y_train)\n",
    "\n",
    "# summarize the selection of the attributes\n",
    "print(rfe.support_)\n",
    "\n",
    "# summarize the ranking of the attributes\n",
    "fea_rank_ = pd.DataFrame({'cols':X_train.columns, 'fea_rank':rfe.ranking_})\n",
    "fea_rank_.loc[fea_rank_.fea_rank > 0].sort_values(by=['fea_rank'], ascending = True)\n"
   ]
  },
  {
   "cell_type": "code",
   "execution_count": 85,
   "metadata": {},
   "outputs": [],
   "source": [
    "top_few_fe = fea_rank_.loc[fea_rank_.fea_rank < 20].sort_values(by=['fea_rank'], ascending = True)['cols'].unique()\n",
    "X_train_fe = X_train[top_few_fe]\n",
    "X_val_fe = X_val[top_few_fe]\n",
    "X_test_fe = X_test[top_few_fe]"
   ]
  },
  {
   "cell_type": "code",
   "execution_count": 86,
   "metadata": {},
   "outputs": [
    {
     "name": "stdout",
     "output_type": "stream",
     "text": [
      "[LightGBM] [Warning] min_data_in_leaf is set=10, min_child_samples=20 will be ignored. Current value: min_data_in_leaf=10\n",
      "[LightGBM] [Warning] lambda_l1 is set=0, reg_alpha=1.5 will be ignored. Current value: lambda_l1=0\n",
      "[LightGBM] [Warning] lambda_l2 is set=1, reg_lambda=1.5 will be ignored. Current value: lambda_l2=1\n",
      "[LightGBM] [Warning] min_data_in_leaf is set=10, min_child_samples=20 will be ignored. Current value: min_data_in_leaf=10\n",
      "[LightGBM] [Warning] lambda_l1 is set=0, reg_alpha=1.5 will be ignored. Current value: lambda_l1=0\n",
      "[LightGBM] [Warning] lambda_l2 is set=1, reg_lambda=1.5 will be ignored. Current value: lambda_l2=1\n",
      "[LightGBM] [Info] Number of positive: 5483, number of negative: 24923\n",
      "[LightGBM] [Warning] Auto-choosing row-wise multi-threading, the overhead of testing was 0.005676 seconds.\n",
      "You can set `force_row_wise=true` to remove the overhead.\n",
      "And if memory is not enough, you can set `force_col_wise=true`.\n",
      "[LightGBM] [Info] Total Bins 7061\n",
      "[LightGBM] [Info] Number of data points in the train set: 30406, number of used features: 28\n",
      "[LightGBM] [Warning] min_data_in_leaf is set=10, min_child_samples=20 will be ignored. Current value: min_data_in_leaf=10\n",
      "[LightGBM] [Warning] lambda_l1 is set=0, reg_alpha=1.5 will be ignored. Current value: lambda_l1=0\n",
      "[LightGBM] [Warning] lambda_l2 is set=1, reg_lambda=1.5 will be ignored. Current value: lambda_l2=1\n",
      "[LightGBM] [Info] [binary:BoostFromScore]: pavg=0.180326 -> initscore=-1.514139\n",
      "[LightGBM] [Info] Start training from score -1.514139\n",
      "[1]\ttraining's binary_logloss: 0.415423\tvalid_0's binary_logloss: 0.259187\n",
      "[2]\ttraining's binary_logloss: 0.383195\tvalid_0's binary_logloss: 0.249726\n",
      "[3]\ttraining's binary_logloss: 0.361733\tvalid_0's binary_logloss: 0.244102\n",
      "[4]\ttraining's binary_logloss: 0.345331\tvalid_0's binary_logloss: 0.239538\n",
      "[5]\ttraining's binary_logloss: 0.332587\tvalid_0's binary_logloss: 0.236726\n",
      "[6]\ttraining's binary_logloss: 0.322591\tvalid_0's binary_logloss: 0.234535\n",
      "[7]\ttraining's binary_logloss: 0.313917\tvalid_0's binary_logloss: 0.232298\n",
      "[8]\ttraining's binary_logloss: 0.30659\tvalid_0's binary_logloss: 0.230617\n",
      "[9]\ttraining's binary_logloss: 0.300547\tvalid_0's binary_logloss: 0.229515\n",
      "[10]\ttraining's binary_logloss: 0.294695\tvalid_0's binary_logloss: 0.227685\n",
      "[11]\ttraining's binary_logloss: 0.288403\tvalid_0's binary_logloss: 0.225405\n",
      "[12]\ttraining's binary_logloss: 0.282543\tvalid_0's binary_logloss: 0.223286\n",
      "[13]\ttraining's binary_logloss: 0.278088\tvalid_0's binary_logloss: 0.221729\n",
      "[14]\ttraining's binary_logloss: 0.273733\tvalid_0's binary_logloss: 0.22003\n",
      "[15]\ttraining's binary_logloss: 0.270379\tvalid_0's binary_logloss: 0.219608\n",
      "[16]\ttraining's binary_logloss: 0.266649\tvalid_0's binary_logloss: 0.218168\n",
      "[17]\ttraining's binary_logloss: 0.26368\tvalid_0's binary_logloss: 0.217734\n",
      "[18]\ttraining's binary_logloss: 0.260487\tvalid_0's binary_logloss: 0.216711\n",
      "[19]\ttraining's binary_logloss: 0.258232\tvalid_0's binary_logloss: 0.216603\n",
      "[20]\ttraining's binary_logloss: 0.254832\tvalid_0's binary_logloss: 0.215598\n",
      "[21]\ttraining's binary_logloss: 0.252337\tvalid_0's binary_logloss: 0.215038\n",
      "[22]\ttraining's binary_logloss: 0.249556\tvalid_0's binary_logloss: 0.214043\n",
      "[23]\ttraining's binary_logloss: 0.247237\tvalid_0's binary_logloss: 0.213675\n",
      "[24]\ttraining's binary_logloss: 0.244545\tvalid_0's binary_logloss: 0.212935\n",
      "[25]\ttraining's binary_logloss: 0.242615\tvalid_0's binary_logloss: 0.21247\n",
      "[26]\ttraining's binary_logloss: 0.240199\tvalid_0's binary_logloss: 0.211487\n",
      "[27]\ttraining's binary_logloss: 0.237938\tvalid_0's binary_logloss: 0.210659\n",
      "[28]\ttraining's binary_logloss: 0.235607\tvalid_0's binary_logloss: 0.21013\n",
      "[29]\ttraining's binary_logloss: 0.233045\tvalid_0's binary_logloss: 0.208644\n",
      "[30]\ttraining's binary_logloss: 0.230597\tvalid_0's binary_logloss: 0.207663\n",
      "[31]\ttraining's binary_logloss: 0.228448\tvalid_0's binary_logloss: 0.206516\n",
      "[32]\ttraining's binary_logloss: 0.226504\tvalid_0's binary_logloss: 0.205861\n",
      "[33]\ttraining's binary_logloss: 0.224229\tvalid_0's binary_logloss: 0.2048\n",
      "[34]\ttraining's binary_logloss: 0.222205\tvalid_0's binary_logloss: 0.204099\n",
      "[35]\ttraining's binary_logloss: 0.220228\tvalid_0's binary_logloss: 0.203511\n",
      "[36]\ttraining's binary_logloss: 0.21827\tvalid_0's binary_logloss: 0.202869\n",
      "[37]\ttraining's binary_logloss: 0.216671\tvalid_0's binary_logloss: 0.20239\n",
      "[38]\ttraining's binary_logloss: 0.214963\tvalid_0's binary_logloss: 0.201777\n",
      "[39]\ttraining's binary_logloss: 0.212988\tvalid_0's binary_logloss: 0.200709\n",
      "[40]\ttraining's binary_logloss: 0.211186\tvalid_0's binary_logloss: 0.200333\n",
      "[41]\ttraining's binary_logloss: 0.209689\tvalid_0's binary_logloss: 0.200147\n",
      "[42]\ttraining's binary_logloss: 0.208164\tvalid_0's binary_logloss: 0.199682\n",
      "[43]\ttraining's binary_logloss: 0.206616\tvalid_0's binary_logloss: 0.199005\n",
      "[44]\ttraining's binary_logloss: 0.204987\tvalid_0's binary_logloss: 0.198327\n",
      "[45]\ttraining's binary_logloss: 0.203529\tvalid_0's binary_logloss: 0.197788\n",
      "[46]\ttraining's binary_logloss: 0.202044\tvalid_0's binary_logloss: 0.197432\n",
      "[47]\ttraining's binary_logloss: 0.200624\tvalid_0's binary_logloss: 0.196899\n",
      "[48]\ttraining's binary_logloss: 0.199151\tvalid_0's binary_logloss: 0.196503\n",
      "[49]\ttraining's binary_logloss: 0.197676\tvalid_0's binary_logloss: 0.19598\n",
      "[50]\ttraining's binary_logloss: 0.196287\tvalid_0's binary_logloss: 0.195456\n",
      "[51]\ttraining's binary_logloss: 0.195088\tvalid_0's binary_logloss: 0.195055\n",
      "[52]\ttraining's binary_logloss: 0.193782\tvalid_0's binary_logloss: 0.194581\n",
      "[53]\ttraining's binary_logloss: 0.192478\tvalid_0's binary_logloss: 0.194051\n",
      "[54]\ttraining's binary_logloss: 0.191167\tvalid_0's binary_logloss: 0.193441\n",
      "[55]\ttraining's binary_logloss: 0.190059\tvalid_0's binary_logloss: 0.192956\n",
      "[56]\ttraining's binary_logloss: 0.188767\tvalid_0's binary_logloss: 0.192466\n",
      "[57]\ttraining's binary_logloss: 0.187524\tvalid_0's binary_logloss: 0.192012\n",
      "[58]\ttraining's binary_logloss: 0.18643\tvalid_0's binary_logloss: 0.191971\n",
      "[59]\ttraining's binary_logloss: 0.185133\tvalid_0's binary_logloss: 0.1916\n",
      "[60]\ttraining's binary_logloss: 0.183777\tvalid_0's binary_logloss: 0.191074\n",
      "[61]\ttraining's binary_logloss: 0.182878\tvalid_0's binary_logloss: 0.190796\n",
      "[62]\ttraining's binary_logloss: 0.181736\tvalid_0's binary_logloss: 0.190284\n",
      "[63]\ttraining's binary_logloss: 0.180532\tvalid_0's binary_logloss: 0.189713\n",
      "[64]\ttraining's binary_logloss: 0.179376\tvalid_0's binary_logloss: 0.189287\n",
      "[65]\ttraining's binary_logloss: 0.178241\tvalid_0's binary_logloss: 0.189108\n",
      "[66]\ttraining's binary_logloss: 0.177335\tvalid_0's binary_logloss: 0.188742\n",
      "[67]\ttraining's binary_logloss: 0.17623\tvalid_0's binary_logloss: 0.188422\n",
      "[68]\ttraining's binary_logloss: 0.175376\tvalid_0's binary_logloss: 0.188224\n",
      "[69]\ttraining's binary_logloss: 0.17425\tvalid_0's binary_logloss: 0.187869\n",
      "[70]\ttraining's binary_logloss: 0.173226\tvalid_0's binary_logloss: 0.187531\n",
      "[71]\ttraining's binary_logloss: 0.17183\tvalid_0's binary_logloss: 0.186761\n",
      "[72]\ttraining's binary_logloss: 0.170901\tvalid_0's binary_logloss: 0.186446\n",
      "[73]\ttraining's binary_logloss: 0.169672\tvalid_0's binary_logloss: 0.185962\n",
      "[74]\ttraining's binary_logloss: 0.168389\tvalid_0's binary_logloss: 0.18565\n",
      "[75]\ttraining's binary_logloss: 0.167349\tvalid_0's binary_logloss: 0.185349\n",
      "[76]\ttraining's binary_logloss: 0.166449\tvalid_0's binary_logloss: 0.184942\n",
      "[77]\ttraining's binary_logloss: 0.165626\tvalid_0's binary_logloss: 0.184637\n",
      "[78]\ttraining's binary_logloss: 0.164736\tvalid_0's binary_logloss: 0.18448\n",
      "[79]\ttraining's binary_logloss: 0.163283\tvalid_0's binary_logloss: 0.183939\n",
      "[80]\ttraining's binary_logloss: 0.162232\tvalid_0's binary_logloss: 0.183691\n",
      "[81]\ttraining's binary_logloss: 0.161378\tvalid_0's binary_logloss: 0.183604\n",
      "[82]\ttraining's binary_logloss: 0.1606\tvalid_0's binary_logloss: 0.183336\n",
      "[83]\ttraining's binary_logloss: 0.159727\tvalid_0's binary_logloss: 0.183065\n",
      "[LightGBM] [Warning] No further splits with positive gain, best gain: -inf\n",
      "[84]\ttraining's binary_logloss: 0.159197\tvalid_0's binary_logloss: 0.182809\n",
      "[85]\ttraining's binary_logloss: 0.158343\tvalid_0's binary_logloss: 0.182617\n",
      "[86]\ttraining's binary_logloss: 0.157289\tvalid_0's binary_logloss: 0.182327\n",
      "[87]\ttraining's binary_logloss: 0.156398\tvalid_0's binary_logloss: 0.182183\n",
      "[88]\ttraining's binary_logloss: 0.15532\tvalid_0's binary_logloss: 0.181668\n",
      "[89]\ttraining's binary_logloss: 0.154263\tvalid_0's binary_logloss: 0.181437\n",
      "[90]\ttraining's binary_logloss: 0.153224\tvalid_0's binary_logloss: 0.180952\n",
      "[91]\ttraining's binary_logloss: 0.152347\tvalid_0's binary_logloss: 0.180763\n",
      "[92]\ttraining's binary_logloss: 0.151461\tvalid_0's binary_logloss: 0.180519\n",
      "[93]\ttraining's binary_logloss: 0.150715\tvalid_0's binary_logloss: 0.180141\n",
      "[94]\ttraining's binary_logloss: 0.149736\tvalid_0's binary_logloss: 0.179823\n",
      "[95]\ttraining's binary_logloss: 0.14855\tvalid_0's binary_logloss: 0.179487\n",
      "[96]\ttraining's binary_logloss: 0.147721\tvalid_0's binary_logloss: 0.179149\n",
      "[97]\ttraining's binary_logloss: 0.146998\tvalid_0's binary_logloss: 0.17918\n",
      "[98]\ttraining's binary_logloss: 0.1461\tvalid_0's binary_logloss: 0.178946\n",
      "[99]\ttraining's binary_logloss: 0.145354\tvalid_0's binary_logloss: 0.178678\n",
      "[100]\ttraining's binary_logloss: 0.144235\tvalid_0's binary_logloss: 0.178288\n",
      "[101]\ttraining's binary_logloss: 0.143289\tvalid_0's binary_logloss: 0.178128\n",
      "[102]\ttraining's binary_logloss: 0.142458\tvalid_0's binary_logloss: 0.177946\n",
      "[103]\ttraining's binary_logloss: 0.141719\tvalid_0's binary_logloss: 0.17774\n",
      "[104]\ttraining's binary_logloss: 0.140824\tvalid_0's binary_logloss: 0.1775\n",
      "[105]\ttraining's binary_logloss: 0.13987\tvalid_0's binary_logloss: 0.177272\n",
      "[106]\ttraining's binary_logloss: 0.139027\tvalid_0's binary_logloss: 0.176933\n",
      "[107]\ttraining's binary_logloss: 0.13821\tvalid_0's binary_logloss: 0.176683\n",
      "[108]\ttraining's binary_logloss: 0.137398\tvalid_0's binary_logloss: 0.176379\n",
      "[109]\ttraining's binary_logloss: 0.136519\tvalid_0's binary_logloss: 0.176148\n",
      "[110]\ttraining's binary_logloss: 0.135733\tvalid_0's binary_logloss: 0.175944\n",
      "[111]\ttraining's binary_logloss: 0.134963\tvalid_0's binary_logloss: 0.175683\n",
      "[112]\ttraining's binary_logloss: 0.13427\tvalid_0's binary_logloss: 0.175508\n",
      "[113]\ttraining's binary_logloss: 0.133422\tvalid_0's binary_logloss: 0.175299\n",
      "[114]\ttraining's binary_logloss: 0.132821\tvalid_0's binary_logloss: 0.175087\n",
      "[115]\ttraining's binary_logloss: 0.132075\tvalid_0's binary_logloss: 0.174772\n",
      "[116]\ttraining's binary_logloss: 0.13142\tvalid_0's binary_logloss: 0.174525\n",
      "[117]\ttraining's binary_logloss: 0.130542\tvalid_0's binary_logloss: 0.174355\n",
      "[118]\ttraining's binary_logloss: 0.129797\tvalid_0's binary_logloss: 0.174223\n",
      "[119]\ttraining's binary_logloss: 0.129149\tvalid_0's binary_logloss: 0.174009\n",
      "[120]\ttraining's binary_logloss: 0.128598\tvalid_0's binary_logloss: 0.173921\n",
      "[121]\ttraining's binary_logloss: 0.127855\tvalid_0's binary_logloss: 0.173727\n",
      "[122]\ttraining's binary_logloss: 0.127066\tvalid_0's binary_logloss: 0.173461\n",
      "[123]\ttraining's binary_logloss: 0.126582\tvalid_0's binary_logloss: 0.173269\n",
      "[124]\ttraining's binary_logloss: 0.125712\tvalid_0's binary_logloss: 0.173081\n",
      "[125]\ttraining's binary_logloss: 0.125035\tvalid_0's binary_logloss: 0.172936\n",
      "[126]\ttraining's binary_logloss: 0.124274\tvalid_0's binary_logloss: 0.172834\n",
      "[127]\ttraining's binary_logloss: 0.123453\tvalid_0's binary_logloss: 0.172753\n",
      "[128]\ttraining's binary_logloss: 0.122812\tvalid_0's binary_logloss: 0.172716\n",
      "[129]\ttraining's binary_logloss: 0.12189\tvalid_0's binary_logloss: 0.172301\n",
      "[130]\ttraining's binary_logloss: 0.121146\tvalid_0's binary_logloss: 0.172147\n",
      "[131]\ttraining's binary_logloss: 0.120355\tvalid_0's binary_logloss: 0.171996\n",
      "[132]\ttraining's binary_logloss: 0.119561\tvalid_0's binary_logloss: 0.171716\n",
      "[133]\ttraining's binary_logloss: 0.118935\tvalid_0's binary_logloss: 0.171611\n",
      "[134]\ttraining's binary_logloss: 0.118189\tvalid_0's binary_logloss: 0.171439\n",
      "[135]\ttraining's binary_logloss: 0.117636\tvalid_0's binary_logloss: 0.171185\n",
      "Accuracy of random forest classifier on validation set using 25th quantile: 0.93\n",
      "Accuracy of random forest classifier on test set using 25th quantile: 0.94\n"
     ]
    },
    {
     "data": {
      "image/png": "[encoded data removed]",
      "text/plain": [
       "<Figure size 400x300 with 1 Axes>"
      ]
     },
     "metadata": {},
     "output_type": "display_data"
    },
    {
     "data": {
      "image/png": "[encoded data removed]",
      "text/plain": [
       "<Figure size 400x300 with 1 Axes>"
      ]
     },
     "metadata": {},
     "output_type": "display_data"
    }
   ],
   "source": [
    "lgbmodel(X_train_fe, y_train.values.ravel(), X_val_fe, y_val.values.ravel(), X_test_fe, y_test.values.ravel(), \"25th quantile\")"
   ]
  },
  {
   "cell_type": "code",
   "execution_count": 87,
   "metadata": {},
   "outputs": [],
   "source": [
    "#fea_imp_ = pd.DataFrame({'cols':X_train.columns, 'fea_imp':model.feature_importances_})\n",
    "top_few_imp = fea_imp_.loc[fea_imp_.fea_imp > 0].sort_values(by=['fea_imp'], ascending = False)['cols'].unique()\n",
    "X_train_imp = X_train[top_few_imp]\n",
    "X_val_imp = X_val[top_few_imp]\n",
    "X_test_imp = X_test[top_few_imp]"
   ]
  },
  {
   "cell_type": "code",
   "execution_count": 88,
   "metadata": {},
   "outputs": [
    {
     "name": "stdout",
     "output_type": "stream",
     "text": [
      "[LightGBM] [Warning] min_data_in_leaf is set=10, min_child_samples=20 will be ignored. Current value: min_data_in_leaf=10\n",
      "[LightGBM] [Warning] lambda_l1 is set=0, reg_alpha=1.5 will be ignored. Current value: lambda_l1=0\n",
      "[LightGBM] [Warning] lambda_l2 is set=1, reg_lambda=1.5 will be ignored. Current value: lambda_l2=1\n",
      "[LightGBM] [Warning] min_data_in_leaf is set=10, min_child_samples=20 will be ignored. Current value: min_data_in_leaf=10\n",
      "[LightGBM] [Warning] lambda_l1 is set=0, reg_alpha=1.5 will be ignored. Current value: lambda_l1=0\n",
      "[LightGBM] [Warning] lambda_l2 is set=1, reg_lambda=1.5 will be ignored. Current value: lambda_l2=1\n",
      "[LightGBM] [Info] Number of positive: 5483, number of negative: 24923\n",
      "[LightGBM] [Warning] Auto-choosing col-wise multi-threading, the overhead of testing was 0.008328 seconds.\n",
      "You can set `force_col_wise=true` to remove the overhead.\n",
      "[LightGBM] [Info] Total Bins 14052\n",
      "[LightGBM] [Info] Number of data points in the train set: 30406, number of used features: 71\n",
      "[LightGBM] [Warning] min_data_in_leaf is set=10, min_child_samples=20 will be ignored. Current value: min_data_in_leaf=10\n",
      "[LightGBM] [Warning] lambda_l1 is set=0, reg_alpha=1.5 will be ignored. Current value: lambda_l1=0\n",
      "[LightGBM] [Warning] lambda_l2 is set=1, reg_lambda=1.5 will be ignored. Current value: lambda_l2=1\n",
      "[LightGBM] [Info] [binary:BoostFromScore]: pavg=0.180326 -> initscore=-1.514139\n",
      "[LightGBM] [Info] Start training from score -1.514139\n",
      "[1]\ttraining's binary_logloss: 0.411337\tvalid_0's binary_logloss: 0.257021\n",
      "[2]\ttraining's binary_logloss: 0.377554\tvalid_0's binary_logloss: 0.247\n",
      "[3]\ttraining's binary_logloss: 0.353714\tvalid_0's binary_logloss: 0.239662\n",
      "[4]\ttraining's binary_logloss: 0.337366\tvalid_0's binary_logloss: 0.235267\n",
      "[5]\ttraining's binary_logloss: 0.323168\tvalid_0's binary_logloss: 0.230922\n",
      "[6]\ttraining's binary_logloss: 0.312147\tvalid_0's binary_logloss: 0.227972\n",
      "[7]\ttraining's binary_logloss: 0.303605\tvalid_0's binary_logloss: 0.225851\n",
      "[8]\ttraining's binary_logloss: 0.295493\tvalid_0's binary_logloss: 0.223791\n",
      "[9]\ttraining's binary_logloss: 0.28839\tvalid_0's binary_logloss: 0.221423\n",
      "[10]\ttraining's binary_logloss: 0.282256\tvalid_0's binary_logloss: 0.219917\n",
      "[11]\ttraining's binary_logloss: 0.276234\tvalid_0's binary_logloss: 0.217925\n",
      "[12]\ttraining's binary_logloss: 0.271955\tvalid_0's binary_logloss: 0.217601\n",
      "[13]\ttraining's binary_logloss: 0.267012\tvalid_0's binary_logloss: 0.216028\n",
      "[14]\ttraining's binary_logloss: 0.263768\tvalid_0's binary_logloss: 0.215869\n",
      "[15]\ttraining's binary_logloss: 0.258407\tvalid_0's binary_logloss: 0.21306\n",
      "[16]\ttraining's binary_logloss: 0.254553\tvalid_0's binary_logloss: 0.211573\n",
      "[17]\ttraining's binary_logloss: 0.250174\tvalid_0's binary_logloss: 0.2092\n",
      "[18]\ttraining's binary_logloss: 0.246439\tvalid_0's binary_logloss: 0.207694\n",
      "[19]\ttraining's binary_logloss: 0.243217\tvalid_0's binary_logloss: 0.206532\n",
      "[20]\ttraining's binary_logloss: 0.240514\tvalid_0's binary_logloss: 0.205979\n",
      "[21]\ttraining's binary_logloss: 0.237098\tvalid_0's binary_logloss: 0.204239\n",
      "[22]\ttraining's binary_logloss: 0.234318\tvalid_0's binary_logloss: 0.203311\n",
      "[23]\ttraining's binary_logloss: 0.231818\tvalid_0's binary_logloss: 0.202561\n",
      "[24]\ttraining's binary_logloss: 0.229463\tvalid_0's binary_logloss: 0.201776\n",
      "[25]\ttraining's binary_logloss: 0.22669\tvalid_0's binary_logloss: 0.200712\n",
      "[26]\ttraining's binary_logloss: 0.224153\tvalid_0's binary_logloss: 0.199676\n",
      "[27]\ttraining's binary_logloss: 0.22186\tvalid_0's binary_logloss: 0.19895\n",
      "[28]\ttraining's binary_logloss: 0.219661\tvalid_0's binary_logloss: 0.198124\n",
      "[29]\ttraining's binary_logloss: 0.217234\tvalid_0's binary_logloss: 0.197175\n",
      "[30]\ttraining's binary_logloss: 0.214927\tvalid_0's binary_logloss: 0.196344\n",
      "[31]\ttraining's binary_logloss: 0.212851\tvalid_0's binary_logloss: 0.195461\n",
      "[32]\ttraining's binary_logloss: 0.210936\tvalid_0's binary_logloss: 0.194792\n",
      "[33]\ttraining's binary_logloss: 0.208708\tvalid_0's binary_logloss: 0.193935\n",
      "[34]\ttraining's binary_logloss: 0.206631\tvalid_0's binary_logloss: 0.193179\n",
      "[35]\ttraining's binary_logloss: 0.204522\tvalid_0's binary_logloss: 0.192182\n",
      "[36]\ttraining's binary_logloss: 0.2024\tvalid_0's binary_logloss: 0.19134\n",
      "[37]\ttraining's binary_logloss: 0.200437\tvalid_0's binary_logloss: 0.190822\n",
      "[38]\ttraining's binary_logloss: 0.198524\tvalid_0's binary_logloss: 0.189886\n",
      "[39]\ttraining's binary_logloss: 0.196866\tvalid_0's binary_logloss: 0.189454\n",
      "[40]\ttraining's binary_logloss: 0.195156\tvalid_0's binary_logloss: 0.188933\n",
      "[41]\ttraining's binary_logloss: 0.193429\tvalid_0's binary_logloss: 0.188261\n",
      "[42]\ttraining's binary_logloss: 0.191906\tvalid_0's binary_logloss: 0.188043\n",
      "[43]\ttraining's binary_logloss: 0.190343\tvalid_0's binary_logloss: 0.187345\n",
      "[44]\ttraining's binary_logloss: 0.188587\tvalid_0's binary_logloss: 0.18654\n",
      "[45]\ttraining's binary_logloss: 0.18689\tvalid_0's binary_logloss: 0.185862\n",
      "[46]\ttraining's binary_logloss: 0.18497\tvalid_0's binary_logloss: 0.185033\n",
      "[47]\ttraining's binary_logloss: 0.183142\tvalid_0's binary_logloss: 0.184222\n",
      "[48]\ttraining's binary_logloss: 0.181708\tvalid_0's binary_logloss: 0.183709\n",
      "[49]\ttraining's binary_logloss: 0.180108\tvalid_0's binary_logloss: 0.183002\n",
      "[50]\ttraining's binary_logloss: 0.178382\tvalid_0's binary_logloss: 0.182487\n",
      "[51]\ttraining's binary_logloss: 0.177205\tvalid_0's binary_logloss: 0.18215\n",
      "[52]\ttraining's binary_logloss: 0.175933\tvalid_0's binary_logloss: 0.181611\n",
      "[53]\ttraining's binary_logloss: 0.174582\tvalid_0's binary_logloss: 0.181088\n",
      "[54]\ttraining's binary_logloss: 0.17314\tvalid_0's binary_logloss: 0.180714\n",
      "[55]\ttraining's binary_logloss: 0.171774\tvalid_0's binary_logloss: 0.18032\n",
      "[56]\ttraining's binary_logloss: 0.170397\tvalid_0's binary_logloss: 0.179905\n",
      "[57]\ttraining's binary_logloss: 0.169288\tvalid_0's binary_logloss: 0.179716\n",
      "[58]\ttraining's binary_logloss: 0.167867\tvalid_0's binary_logloss: 0.179169\n",
      "[59]\ttraining's binary_logloss: 0.166439\tvalid_0's binary_logloss: 0.178773\n",
      "[60]\ttraining's binary_logloss: 0.165072\tvalid_0's binary_logloss: 0.178279\n",
      "[61]\ttraining's binary_logloss: 0.163878\tvalid_0's binary_logloss: 0.17771\n",
      "[62]\ttraining's binary_logloss: 0.162755\tvalid_0's binary_logloss: 0.177491\n",
      "[63]\ttraining's binary_logloss: 0.161687\tvalid_0's binary_logloss: 0.17716\n",
      "[64]\ttraining's binary_logloss: 0.160469\tvalid_0's binary_logloss: 0.177039\n",
      "[65]\ttraining's binary_logloss: 0.159265\tvalid_0's binary_logloss: 0.176831\n",
      "[66]\ttraining's binary_logloss: 0.158178\tvalid_0's binary_logloss: 0.176235\n",
      "[67]\ttraining's binary_logloss: 0.156948\tvalid_0's binary_logloss: 0.175815\n",
      "[68]\ttraining's binary_logloss: 0.155582\tvalid_0's binary_logloss: 0.175373\n",
      "[69]\ttraining's binary_logloss: 0.154167\tvalid_0's binary_logloss: 0.174745\n",
      "[70]\ttraining's binary_logloss: 0.152688\tvalid_0's binary_logloss: 0.174245\n",
      "[71]\ttraining's binary_logloss: 0.151553\tvalid_0's binary_logloss: 0.173761\n",
      "[72]\ttraining's binary_logloss: 0.150302\tvalid_0's binary_logloss: 0.173377\n",
      "[73]\ttraining's binary_logloss: 0.148973\tvalid_0's binary_logloss: 0.172901\n",
      "[74]\ttraining's binary_logloss: 0.147996\tvalid_0's binary_logloss: 0.172512\n",
      "[75]\ttraining's binary_logloss: 0.146952\tvalid_0's binary_logloss: 0.172247\n",
      "[76]\ttraining's binary_logloss: 0.146004\tvalid_0's binary_logloss: 0.171867\n",
      "[LightGBM] [Warning] No further splits with positive gain, best gain: -inf\n",
      "[77]\ttraining's binary_logloss: 0.145303\tvalid_0's binary_logloss: 0.171674\n",
      "[78]\ttraining's binary_logloss: 0.144388\tvalid_0's binary_logloss: 0.171382\n",
      "[79]\ttraining's binary_logloss: 0.143377\tvalid_0's binary_logloss: 0.171008\n",
      "[80]\ttraining's binary_logloss: 0.142116\tvalid_0's binary_logloss: 0.170506\n",
      "[81]\ttraining's binary_logloss: 0.141057\tvalid_0's binary_logloss: 0.170302\n",
      "[82]\ttraining's binary_logloss: 0.140171\tvalid_0's binary_logloss: 0.169973\n",
      "[83]\ttraining's binary_logloss: 0.139119\tvalid_0's binary_logloss: 0.169578\n",
      "[84]\ttraining's binary_logloss: 0.138092\tvalid_0's binary_logloss: 0.169359\n",
      "[85]\ttraining's binary_logloss: 0.137324\tvalid_0's binary_logloss: 0.169203\n",
      "[86]\ttraining's binary_logloss: 0.136368\tvalid_0's binary_logloss: 0.168818\n",
      "[87]\ttraining's binary_logloss: 0.135177\tvalid_0's binary_logloss: 0.168448\n",
      "[88]\ttraining's binary_logloss: 0.134291\tvalid_0's binary_logloss: 0.168167\n",
      "[89]\ttraining's binary_logloss: 0.133253\tvalid_0's binary_logloss: 0.167698\n",
      "[90]\ttraining's binary_logloss: 0.132079\tvalid_0's binary_logloss: 0.167148\n",
      "[91]\ttraining's binary_logloss: 0.131115\tvalid_0's binary_logloss: 0.166732\n",
      "[92]\ttraining's binary_logloss: 0.130163\tvalid_0's binary_logloss: 0.166497\n",
      "[93]\ttraining's binary_logloss: 0.129254\tvalid_0's binary_logloss: 0.166237\n",
      "[94]\ttraining's binary_logloss: 0.128279\tvalid_0's binary_logloss: 0.165881\n",
      "[95]\ttraining's binary_logloss: 0.127358\tvalid_0's binary_logloss: 0.165426\n",
      "[96]\ttraining's binary_logloss: 0.126434\tvalid_0's binary_logloss: 0.165135\n",
      "[97]\ttraining's binary_logloss: 0.125559\tvalid_0's binary_logloss: 0.164926\n",
      "[98]\ttraining's binary_logloss: 0.124452\tvalid_0's binary_logloss: 0.164565\n",
      "[99]\ttraining's binary_logloss: 0.123518\tvalid_0's binary_logloss: 0.164281\n",
      "[100]\ttraining's binary_logloss: 0.122694\tvalid_0's binary_logloss: 0.16411\n",
      "[101]\ttraining's binary_logloss: 0.121894\tvalid_0's binary_logloss: 0.163913\n",
      "[102]\ttraining's binary_logloss: 0.121222\tvalid_0's binary_logloss: 0.163776\n",
      "[103]\ttraining's binary_logloss: 0.120349\tvalid_0's binary_logloss: 0.163576\n",
      "[104]\ttraining's binary_logloss: 0.119384\tvalid_0's binary_logloss: 0.163065\n",
      "[105]\ttraining's binary_logloss: 0.118697\tvalid_0's binary_logloss: 0.162818\n",
      "[106]\ttraining's binary_logloss: 0.117859\tvalid_0's binary_logloss: 0.16252\n",
      "[107]\ttraining's binary_logloss: 0.117134\tvalid_0's binary_logloss: 0.162438\n",
      "[108]\ttraining's binary_logloss: 0.116196\tvalid_0's binary_logloss: 0.162072\n",
      "[109]\ttraining's binary_logloss: 0.115396\tvalid_0's binary_logloss: 0.161795\n",
      "[110]\ttraining's binary_logloss: 0.114549\tvalid_0's binary_logloss: 0.161558\n",
      "[111]\ttraining's binary_logloss: 0.113745\tvalid_0's binary_logloss: 0.161193\n",
      "[112]\ttraining's binary_logloss: 0.113059\tvalid_0's binary_logloss: 0.160978\n",
      "[113]\ttraining's binary_logloss: 0.112428\tvalid_0's binary_logloss: 0.1607\n",
      "[114]\ttraining's binary_logloss: 0.111736\tvalid_0's binary_logloss: 0.160491\n",
      "[115]\ttraining's binary_logloss: 0.110894\tvalid_0's binary_logloss: 0.160181\n",
      "[116]\ttraining's binary_logloss: 0.110094\tvalid_0's binary_logloss: 0.159879\n",
      "[117]\ttraining's binary_logloss: 0.109408\tvalid_0's binary_logloss: 0.159628\n",
      "[118]\ttraining's binary_logloss: 0.108677\tvalid_0's binary_logloss: 0.15924\n",
      "[119]\ttraining's binary_logloss: 0.107924\tvalid_0's binary_logloss: 0.158956\n",
      "[120]\ttraining's binary_logloss: 0.106893\tvalid_0's binary_logloss: 0.158623\n",
      "[121]\ttraining's binary_logloss: 0.106172\tvalid_0's binary_logloss: 0.158503\n",
      "[122]\ttraining's binary_logloss: 0.105432\tvalid_0's binary_logloss: 0.158349\n",
      "[123]\ttraining's binary_logloss: 0.104585\tvalid_0's binary_logloss: 0.158004\n",
      "[124]\ttraining's binary_logloss: 0.103932\tvalid_0's binary_logloss: 0.157838\n",
      "[125]\ttraining's binary_logloss: 0.103225\tvalid_0's binary_logloss: 0.157602\n",
      "[126]\ttraining's binary_logloss: 0.10246\tvalid_0's binary_logloss: 0.157306\n",
      "[127]\ttraining's binary_logloss: 0.101754\tvalid_0's binary_logloss: 0.157113\n",
      "[128]\ttraining's binary_logloss: 0.10097\tvalid_0's binary_logloss: 0.156841\n",
      "[129]\ttraining's binary_logloss: 0.100141\tvalid_0's binary_logloss: 0.156622\n",
      "[130]\ttraining's binary_logloss: 0.0994425\tvalid_0's binary_logloss: 0.15643\n",
      "[131]\ttraining's binary_logloss: 0.0988659\tvalid_0's binary_logloss: 0.156161\n",
      "[132]\ttraining's binary_logloss: 0.0980626\tvalid_0's binary_logloss: 0.156084\n",
      "[133]\ttraining's binary_logloss: 0.0973197\tvalid_0's binary_logloss: 0.155963\n",
      "[134]\ttraining's binary_logloss: 0.096552\tvalid_0's binary_logloss: 0.155701\n",
      "[135]\ttraining's binary_logloss: 0.095888\tvalid_0's binary_logloss: 0.155609\n",
      "Accuracy of random forest classifier on validation set using 25th quantile: 0.94\n",
      "Accuracy of random forest classifier on test set using 25th quantile: 0.95\n"
     ]
    },
    {
     "data": {
      "image/png": "[encoded data removed]",
      "text/plain": [
       "<Figure size 400x300 with 1 Axes>"
      ]
     },
     "metadata": {},
     "output_type": "display_data"
    },
    {
     "data": {
      "image/png": "[encoded data removed]",
      "text/plain": [
       "<Figure size 400x300 with 1 Axes>"
      ]
     },
     "metadata": {},
     "output_type": "display_data"
    }
   ],
   "source": [
    "lgbmodel(X_train_imp, y_train.values.ravel(), X_val_imp, y_val.values.ravel(), X_test_imp, y_test.values.ravel(), \"25th quantile\")"
   ]
  },
  {
   "cell_type": "markdown",
   "metadata": {},
   "source": [
    "### PCA"
   ]
  },
  {
   "cell_type": "code",
   "execution_count": 92,
   "metadata": {},
   "outputs": [],
   "source": [
    "import pandas as pd\n",
    "import numpy as np\n",
    "import json\n",
    "from sklearn.decomposition import PCA\n",
    "from factor_analyzer.factor_analyzer import calculate_bartlett_sphericity\n",
    "from factor_analyzer.factor_analyzer import calculate_kmo\n",
    "from factor_analyzer import FactorAnalyzer\n"
   ]
  },
  {
   "cell_type": "code",
   "execution_count": 93,
   "metadata": {},
   "outputs": [
    {
     "data": {
      "text/plain": [
       "PCA(n_components=0.95)"
      ]
     },
     "execution_count": 93,
     "metadata": {},
     "output_type": "execute_result"
    }
   ],
   "source": [
    "pca = PCA(0.95)\n",
    "pca.fit(X_train)"
   ]
  },
  {
   "cell_type": "code",
   "execution_count": 94,
   "metadata": {},
   "outputs": [
    {
     "data": {
      "text/plain": [
       "26"
      ]
     },
     "execution_count": 94,
     "metadata": {},
     "output_type": "execute_result"
    }
   ],
   "source": [
    "pca.n_components_"
   ]
  },
  {
   "cell_type": "code",
   "execution_count": 95,
   "metadata": {},
   "outputs": [],
   "source": [
    "X_train_pca = pd.DataFrame(pca.transform(X_train))\n",
    "X_test_pca = pd.DataFrame(pca.transform(X_test))\n",
    "X_val_pca = pd.DataFrame(pca.transform(X_val))"
   ]
  },
  {
   "cell_type": "code",
   "execution_count": 96,
   "metadata": {},
   "outputs": [
    {
     "name": "stdout",
     "output_type": "stream",
     "text": [
      "[LightGBM] [Warning] min_data_in_leaf is set=20, min_child_samples=20 will be ignored. Current value: min_data_in_leaf=20\n",
      "[LightGBM] [Warning] lambda_l1 is set=0, reg_alpha=0.1 will be ignored. Current value: lambda_l1=0\n",
      "[LightGBM] [Warning] lambda_l2 is set=1, reg_lambda=3 will be ignored. Current value: lambda_l2=1\n",
      "[LightGBM] [Warning] min_data_in_leaf is set=20, min_child_samples=20 will be ignored. Current value: min_data_in_leaf=20\n",
      "[LightGBM] [Warning] lambda_l1 is set=0, reg_alpha=0.1 will be ignored. Current value: lambda_l1=0\n",
      "[LightGBM] [Warning] lambda_l2 is set=1, reg_lambda=3 will be ignored. Current value: lambda_l2=1\n",
      "[LightGBM] [Info] Number of positive: 5483, number of negative: 24923\n",
      "[LightGBM] [Warning] Auto-choosing col-wise multi-threading, the overhead of testing was 0.014192 seconds.\n",
      "You can set `force_col_wise=true` to remove the overhead.\n",
      "[LightGBM] [Info] Total Bins 6630\n",
      "[LightGBM] [Info] Number of data points in the train set: 30406, number of used features: 26\n",
      "[LightGBM] [Warning] min_data_in_leaf is set=20, min_child_samples=20 will be ignored. Current value: min_data_in_leaf=20\n",
      "[LightGBM] [Warning] lambda_l1 is set=0, reg_alpha=0.1 will be ignored. Current value: lambda_l1=0\n",
      "[LightGBM] [Warning] lambda_l2 is set=1, reg_lambda=3 will be ignored. Current value: lambda_l2=1\n",
      "[LightGBM] [Info] [binary:BoostFromScore]: pavg=0.180326 -> initscore=-1.514139\n",
      "[LightGBM] [Info] Start training from score -1.514139\n",
      "[1]\ttraining's binary_logloss: 0.422803\tvalid_0's binary_logloss: 0.268141\n",
      "[2]\ttraining's binary_logloss: 0.392235\tvalid_0's binary_logloss: 0.263974\n",
      "[3]\ttraining's binary_logloss: 0.368059\tvalid_0's binary_logloss: 0.259936\n",
      "[4]\ttraining's binary_logloss: 0.350186\tvalid_0's binary_logloss: 0.257708\n",
      "[5]\ttraining's binary_logloss: 0.334051\tvalid_0's binary_logloss: 0.254933\n",
      "[6]\ttraining's binary_logloss: 0.320543\tvalid_0's binary_logloss: 0.252659\n",
      "[7]\ttraining's binary_logloss: 0.310568\tvalid_0's binary_logloss: 0.252321\n",
      "[8]\ttraining's binary_logloss: 0.299538\tvalid_0's binary_logloss: 0.250007\n",
      "[9]\ttraining's binary_logloss: 0.291305\tvalid_0's binary_logloss: 0.249277\n",
      "[10]\ttraining's binary_logloss: 0.282653\tvalid_0's binary_logloss: 0.247506\n",
      "[11]\ttraining's binary_logloss: 0.275229\tvalid_0's binary_logloss: 0.246923\n",
      "[12]\ttraining's binary_logloss: 0.267416\tvalid_0's binary_logloss: 0.244858\n",
      "[13]\ttraining's binary_logloss: 0.261064\tvalid_0's binary_logloss: 0.244094\n",
      "[14]\ttraining's binary_logloss: 0.254549\tvalid_0's binary_logloss: 0.242585\n",
      "[15]\ttraining's binary_logloss: 0.247776\tvalid_0's binary_logloss: 0.240331\n",
      "[16]\ttraining's binary_logloss: 0.241333\tvalid_0's binary_logloss: 0.238801\n",
      "[17]\ttraining's binary_logloss: 0.23623\tvalid_0's binary_logloss: 0.238\n",
      "[18]\ttraining's binary_logloss: 0.231131\tvalid_0's binary_logloss: 0.236889\n",
      "[19]\ttraining's binary_logloss: 0.226043\tvalid_0's binary_logloss: 0.235427\n",
      "[20]\ttraining's binary_logloss: 0.221078\tvalid_0's binary_logloss: 0.234152\n",
      "[21]\ttraining's binary_logloss: 0.216039\tvalid_0's binary_logloss: 0.232688\n",
      "[22]\ttraining's binary_logloss: 0.211608\tvalid_0's binary_logloss: 0.231427\n",
      "[23]\ttraining's binary_logloss: 0.206595\tvalid_0's binary_logloss: 0.229737\n",
      "[24]\ttraining's binary_logloss: 0.201959\tvalid_0's binary_logloss: 0.228517\n",
      "[25]\ttraining's binary_logloss: 0.197354\tvalid_0's binary_logloss: 0.227168\n",
      "[26]\ttraining's binary_logloss: 0.193044\tvalid_0's binary_logloss: 0.225746\n",
      "[27]\ttraining's binary_logloss: 0.189035\tvalid_0's binary_logloss: 0.224943\n",
      "[28]\ttraining's binary_logloss: 0.185085\tvalid_0's binary_logloss: 0.224122\n",
      "[29]\ttraining's binary_logloss: 0.181602\tvalid_0's binary_logloss: 0.22337\n",
      "[30]\ttraining's binary_logloss: 0.177903\tvalid_0's binary_logloss: 0.22229\n",
      "[31]\ttraining's binary_logloss: 0.174186\tvalid_0's binary_logloss: 0.221256\n",
      "[32]\ttraining's binary_logloss: 0.170586\tvalid_0's binary_logloss: 0.220184\n",
      "[33]\ttraining's binary_logloss: 0.166744\tvalid_0's binary_logloss: 0.21874\n",
      "[34]\ttraining's binary_logloss: 0.163043\tvalid_0's binary_logloss: 0.217254\n",
      "[LightGBM] [Warning] No further splits with positive gain, best gain: -inf\n",
      "[35]\ttraining's binary_logloss: 0.160489\tvalid_0's binary_logloss: 0.216594\n",
      "[36]\ttraining's binary_logloss: 0.157283\tvalid_0's binary_logloss: 0.215493\n",
      "[37]\ttraining's binary_logloss: 0.153826\tvalid_0's binary_logloss: 0.214238\n",
      "[38]\ttraining's binary_logloss: 0.150654\tvalid_0's binary_logloss: 0.213181\n",
      "[39]\ttraining's binary_logloss: 0.14764\tvalid_0's binary_logloss: 0.212127\n",
      "[40]\ttraining's binary_logloss: 0.144893\tvalid_0's binary_logloss: 0.211113\n",
      "[41]\ttraining's binary_logloss: 0.142022\tvalid_0's binary_logloss: 0.209969\n",
      "[42]\ttraining's binary_logloss: 0.139067\tvalid_0's binary_logloss: 0.209213\n",
      "[43]\ttraining's binary_logloss: 0.136223\tvalid_0's binary_logloss: 0.207988\n",
      "[44]\ttraining's binary_logloss: 0.133537\tvalid_0's binary_logloss: 0.207152\n",
      "[45]\ttraining's binary_logloss: 0.130919\tvalid_0's binary_logloss: 0.206086\n",
      "[46]\ttraining's binary_logloss: 0.128511\tvalid_0's binary_logloss: 0.205309\n",
      "[47]\ttraining's binary_logloss: 0.126051\tvalid_0's binary_logloss: 0.204191\n",
      "[LightGBM] [Warning] No further splits with positive gain, best gain: -inf\n",
      "[48]\ttraining's binary_logloss: 0.124591\tvalid_0's binary_logloss: 0.203657\n",
      "[49]\ttraining's binary_logloss: 0.122131\tvalid_0's binary_logloss: 0.202992\n",
      "[50]\ttraining's binary_logloss: 0.119767\tvalid_0's binary_logloss: 0.202157\n",
      "[51]\ttraining's binary_logloss: 0.117368\tvalid_0's binary_logloss: 0.201192\n",
      "[52]\ttraining's binary_logloss: 0.115293\tvalid_0's binary_logloss: 0.200436\n",
      "[LightGBM] [Warning] No further splits with positive gain, best gain: -inf\n",
      "[53]\ttraining's binary_logloss: 0.11351\tvalid_0's binary_logloss: 0.199666\n",
      "[LightGBM] [Warning] No further splits with positive gain, best gain: -inf\n",
      "[54]\ttraining's binary_logloss: 0.111769\tvalid_0's binary_logloss: 0.199195\n",
      "[55]\ttraining's binary_logloss: 0.109713\tvalid_0's binary_logloss: 0.19849\n",
      "[LightGBM] [Warning] No further splits with positive gain, best gain: -inf\n",
      "[56]\ttraining's binary_logloss: 0.107856\tvalid_0's binary_logloss: 0.197833\n",
      "[LightGBM] [Warning] No further splits with positive gain, best gain: -inf\n",
      "[57]\ttraining's binary_logloss: 0.106157\tvalid_0's binary_logloss: 0.197337\n",
      "[LightGBM] [Warning] No further splits with positive gain, best gain: -inf\n",
      "[58]\ttraining's binary_logloss: 0.104959\tvalid_0's binary_logloss: 0.196961\n",
      "[59]\ttraining's binary_logloss: 0.102995\tvalid_0's binary_logloss: 0.196065\n",
      "[60]\ttraining's binary_logloss: 0.101042\tvalid_0's binary_logloss: 0.195375\n",
      "[61]\ttraining's binary_logloss: 0.0990692\tvalid_0's binary_logloss: 0.19451\n",
      "[62]\ttraining's binary_logloss: 0.0973195\tvalid_0's binary_logloss: 0.193742\n",
      "[LightGBM] [Warning] No further splits with positive gain, best gain: -inf\n",
      "[63]\ttraining's binary_logloss: 0.0956588\tvalid_0's binary_logloss: 0.193095\n",
      "[64]\ttraining's binary_logloss: 0.0939886\tvalid_0's binary_logloss: 0.192822\n",
      "[LightGBM] [Warning] No further splits with positive gain, best gain: -inf\n",
      "[65]\ttraining's binary_logloss: 0.0924585\tvalid_0's binary_logloss: 0.192337\n",
      "[LightGBM] [Warning] No further splits with positive gain, best gain: -inf\n",
      "[66]\ttraining's binary_logloss: 0.0911065\tvalid_0's binary_logloss: 0.191853\n",
      "[LightGBM] [Warning] No further splits with positive gain, best gain: -inf\n",
      "[67]\ttraining's binary_logloss: 0.0899844\tvalid_0's binary_logloss: 0.191399\n",
      "[LightGBM] [Warning] No further splits with positive gain, best gain: -inf\n",
      "[68]\ttraining's binary_logloss: 0.0886117\tvalid_0's binary_logloss: 0.190878\n",
      "[LightGBM] [Warning] No further splits with positive gain, best gain: -inf\n",
      "[69]\ttraining's binary_logloss: 0.0872151\tvalid_0's binary_logloss: 0.190371\n",
      "[70]\ttraining's binary_logloss: 0.0856988\tvalid_0's binary_logloss: 0.189831\n",
      "[LightGBM] [Warning] No further splits with positive gain, best gain: -inf\n",
      "[71]\ttraining's binary_logloss: 0.0844591\tvalid_0's binary_logloss: 0.189393\n",
      "[72]\ttraining's binary_logloss: 0.0829683\tvalid_0's binary_logloss: 0.18895\n",
      "[LightGBM] [Warning] No further splits with positive gain, best gain: -inf\n",
      "[73]\ttraining's binary_logloss: 0.0818044\tvalid_0's binary_logloss: 0.188493\n",
      "[LightGBM] [Warning] No further splits with positive gain, best gain: -inf\n",
      "[74]\ttraining's binary_logloss: 0.080459\tvalid_0's binary_logloss: 0.188153\n",
      "[LightGBM] [Warning] No further splits with positive gain, best gain: -inf\n",
      "[75]\ttraining's binary_logloss: 0.0792414\tvalid_0's binary_logloss: 0.187627\n",
      "[LightGBM] [Warning] No further splits with positive gain, best gain: -inf\n",
      "[76]\ttraining's binary_logloss: 0.0783945\tvalid_0's binary_logloss: 0.187229\n",
      "[LightGBM] [Warning] No further splits with positive gain, best gain: -inf\n",
      "[77]\ttraining's binary_logloss: 0.0778653\tvalid_0's binary_logloss: 0.187186\n",
      "[LightGBM] [Warning] No further splits with positive gain, best gain: -inf\n",
      "[78]\ttraining's binary_logloss: 0.0766265\tvalid_0's binary_logloss: 0.186712\n",
      "[LightGBM] [Warning] No further splits with positive gain, best gain: -inf\n",
      "[79]\ttraining's binary_logloss: 0.0760618\tvalid_0's binary_logloss: 0.186484\n",
      "[LightGBM] [Warning] No further splits with positive gain, best gain: -inf\n",
      "[80]\ttraining's binary_logloss: 0.075355\tvalid_0's binary_logloss: 0.186291\n",
      "[LightGBM] [Warning] No further splits with positive gain, best gain: -inf\n",
      "[81]\ttraining's binary_logloss: 0.0743935\tvalid_0's binary_logloss: 0.185985\n",
      "[LightGBM] [Warning] No further splits with positive gain, best gain: -inf\n",
      "[82]\ttraining's binary_logloss: 0.0733932\tvalid_0's binary_logloss: 0.185674\n",
      "[LightGBM] [Warning] No further splits with positive gain, best gain: -inf\n",
      "[83]\ttraining's binary_logloss: 0.0722311\tvalid_0's binary_logloss: 0.184965\n",
      "[LightGBM] [Warning] No further splits with positive gain, best gain: -inf\n",
      "[84]\ttraining's binary_logloss: 0.0712385\tvalid_0's binary_logloss: 0.184307\n",
      "[LightGBM] [Warning] No further splits with positive gain, best gain: -inf\n",
      "[85]\ttraining's binary_logloss: 0.0702508\tvalid_0's binary_logloss: 0.18413\n",
      "[LightGBM] [Warning] No further splits with positive gain, best gain: -inf\n",
      "[86]\ttraining's binary_logloss: 0.0696764\tvalid_0's binary_logloss: 0.183937\n",
      "[LightGBM] [Warning] No further splits with positive gain, best gain: -inf\n",
      "[87]\ttraining's binary_logloss: 0.0688661\tvalid_0's binary_logloss: 0.183649\n",
      "[LightGBM] [Warning] No further splits with positive gain, best gain: -inf\n",
      "[88]\ttraining's binary_logloss: 0.0679401\tvalid_0's binary_logloss: 0.183463\n",
      "[LightGBM] [Warning] No further splits with positive gain, best gain: -inf\n",
      "[89]\ttraining's binary_logloss: 0.0670629\tvalid_0's binary_logloss: 0.18314\n",
      "[LightGBM] [Warning] No further splits with positive gain, best gain: -inf\n",
      "[90]\ttraining's binary_logloss: 0.0661109\tvalid_0's binary_logloss: 0.182842\n",
      "[LightGBM] [Warning] No further splits with positive gain, best gain: -inf\n",
      "[91]\ttraining's binary_logloss: 0.0651721\tvalid_0's binary_logloss: 0.182803\n",
      "[LightGBM] [Warning] No further splits with positive gain, best gain: -inf\n",
      "[92]\ttraining's binary_logloss: 0.0643347\tvalid_0's binary_logloss: 0.182647\n",
      "[LightGBM] [Warning] No further splits with positive gain, best gain: -inf\n",
      "[93]\ttraining's binary_logloss: 0.0637567\tvalid_0's binary_logloss: 0.182611\n",
      "[LightGBM] [Warning] No further splits with positive gain, best gain: -inf\n",
      "[94]\ttraining's binary_logloss: 0.0629017\tvalid_0's binary_logloss: 0.182241\n",
      "[LightGBM] [Warning] No further splits with positive gain, best gain: -inf\n",
      "[95]\ttraining's binary_logloss: 0.062244\tvalid_0's binary_logloss: 0.182083\n",
      "[LightGBM] [Warning] No further splits with positive gain, best gain: -inf\n",
      "[96]\ttraining's binary_logloss: 0.0614537\tvalid_0's binary_logloss: 0.181913\n",
      "[LightGBM] [Warning] No further splits with positive gain, best gain: -inf\n",
      "[97]\ttraining's binary_logloss: 0.0610864\tvalid_0's binary_logloss: 0.181877\n",
      "[LightGBM] [Warning] No further splits with positive gain, best gain: -inf\n",
      "[98]\ttraining's binary_logloss: 0.0603105\tvalid_0's binary_logloss: 0.181633\n",
      "[LightGBM] [Warning] No further splits with positive gain, best gain: -inf\n",
      "[99]\ttraining's binary_logloss: 0.059552\tvalid_0's binary_logloss: 0.181374\n",
      "[LightGBM] [Warning] No further splits with positive gain, best gain: -inf\n",
      "[100]\ttraining's binary_logloss: 0.058805\tvalid_0's binary_logloss: 0.181086\n",
      "[LightGBM] [Warning] No further splits with positive gain, best gain: -inf\n",
      "[101]\ttraining's binary_logloss: 0.0580588\tvalid_0's binary_logloss: 0.180927\n",
      "[LightGBM] [Warning] No further splits with positive gain, best gain: -inf\n",
      "[102]\ttraining's binary_logloss: 0.0573452\tvalid_0's binary_logloss: 0.180682\n",
      "[LightGBM] [Warning] No further splits with positive gain, best gain: -inf\n",
      "[103]\ttraining's binary_logloss: 0.0570301\tvalid_0's binary_logloss: 0.180677\n",
      "[LightGBM] [Warning] No further splits with positive gain, best gain: -inf\n",
      "[104]\ttraining's binary_logloss: 0.0565099\tvalid_0's binary_logloss: 0.180621\n",
      "[LightGBM] [Warning] No further splits with positive gain, best gain: -inf\n",
      "[105]\ttraining's binary_logloss: 0.055801\tvalid_0's binary_logloss: 0.18029\n",
      "[LightGBM] [Warning] No further splits with positive gain, best gain: -inf\n",
      "[106]\ttraining's binary_logloss: 0.0551322\tvalid_0's binary_logloss: 0.180081\n",
      "[LightGBM] [Warning] No further splits with positive gain, best gain: -inf\n",
      "[107]\ttraining's binary_logloss: 0.0544929\tvalid_0's binary_logloss: 0.180018\n",
      "[LightGBM] [Warning] No further splits with positive gain, best gain: -inf\n",
      "[108]\ttraining's binary_logloss: 0.0540832\tvalid_0's binary_logloss: 0.179883\n",
      "[LightGBM] [Warning] No further splits with positive gain, best gain: -inf\n",
      "[109]\ttraining's binary_logloss: 0.0535249\tvalid_0's binary_logloss: 0.179795\n",
      "[LightGBM] [Warning] No further splits with positive gain, best gain: -inf\n",
      "[110]\ttraining's binary_logloss: 0.052983\tvalid_0's binary_logloss: 0.179783\n",
      "[LightGBM] [Warning] No further splits with positive gain, best gain: -inf\n",
      "[111]\ttraining's binary_logloss: 0.0523513\tvalid_0's binary_logloss: 0.179538\n",
      "[LightGBM] [Warning] No further splits with positive gain, best gain: -inf\n",
      "[112]\ttraining's binary_logloss: 0.0517453\tvalid_0's binary_logloss: 0.179254\n",
      "[LightGBM] [Warning] No further splits with positive gain, best gain: -inf\n",
      "[113]\ttraining's binary_logloss: 0.0511846\tvalid_0's binary_logloss: 0.178996\n",
      "[LightGBM] [Warning] No further splits with positive gain, best gain: -inf\n",
      "[114]\ttraining's binary_logloss: 0.0506071\tvalid_0's binary_logloss: 0.178844\n",
      "[LightGBM] [Warning] No further splits with positive gain, best gain: -inf\n",
      "[115]\ttraining's binary_logloss: 0.0502029\tvalid_0's binary_logloss: 0.17879\n",
      "[LightGBM] [Warning] No further splits with positive gain, best gain: -inf\n",
      "[116]\ttraining's binary_logloss: 0.0496539\tvalid_0's binary_logloss: 0.178719\n",
      "[LightGBM] [Warning] No further splits with positive gain, best gain: -inf\n",
      "[117]\ttraining's binary_logloss: 0.0491197\tvalid_0's binary_logloss: 0.17868\n",
      "[LightGBM] [Warning] No further splits with positive gain, best gain: -inf\n",
      "[118]\ttraining's binary_logloss: 0.0486187\tvalid_0's binary_logloss: 0.178646\n",
      "[LightGBM] [Warning] No further splits with positive gain, best gain: -inf\n",
      "[119]\ttraining's binary_logloss: 0.0480851\tvalid_0's binary_logloss: 0.178514\n",
      "[LightGBM] [Warning] No further splits with positive gain, best gain: -inf\n",
      "[120]\ttraining's binary_logloss: 0.0476122\tvalid_0's binary_logloss: 0.178537\n",
      "[LightGBM] [Warning] No further splits with positive gain, best gain: -inf\n",
      "[121]\ttraining's binary_logloss: 0.0472192\tvalid_0's binary_logloss: 0.178478\n",
      "[LightGBM] [Warning] No further splits with positive gain, best gain: -inf\n",
      "[122]\ttraining's binary_logloss: 0.0467759\tvalid_0's binary_logloss: 0.178568\n",
      "[LightGBM] [Warning] No further splits with positive gain, best gain: -inf\n",
      "[123]\ttraining's binary_logloss: 0.0463345\tvalid_0's binary_logloss: 0.178512\n",
      "[LightGBM] [Warning] No further splits with positive gain, best gain: -inf\n",
      "[124]\ttraining's binary_logloss: 0.0459501\tvalid_0's binary_logloss: 0.178467\n",
      "[LightGBM] [Warning] No further splits with positive gain, best gain: -inf\n",
      "[125]\ttraining's binary_logloss: 0.0455685\tvalid_0's binary_logloss: 0.178404\n",
      "[LightGBM] [Warning] No further splits with positive gain, best gain: -inf\n",
      "[126]\ttraining's binary_logloss: 0.0451525\tvalid_0's binary_logloss: 0.178298\n",
      "[LightGBM] [Warning] No further splits with positive gain, best gain: -inf\n",
      "[127]\ttraining's binary_logloss: 0.0446866\tvalid_0's binary_logloss: 0.178109\n",
      "[LightGBM] [Warning] No further splits with positive gain, best gain: -inf\n",
      "[128]\ttraining's binary_logloss: 0.0444406\tvalid_0's binary_logloss: 0.178117\n",
      "[LightGBM] [Warning] No further splits with positive gain, best gain: -inf\n",
      "[129]\ttraining's binary_logloss: 0.0439969\tvalid_0's binary_logloss: 0.178075\n",
      "[LightGBM] [Warning] No further splits with positive gain, best gain: -inf\n",
      "[130]\ttraining's binary_logloss: 0.0438283\tvalid_0's binary_logloss: 0.178051\n",
      "[LightGBM] [Warning] No further splits with positive gain, best gain: -inf\n",
      "[131]\ttraining's binary_logloss: 0.0434616\tvalid_0's binary_logloss: 0.177861\n",
      "[LightGBM] [Warning] No further splits with positive gain, best gain: -inf\n",
      "[132]\ttraining's binary_logloss: 0.0430517\tvalid_0's binary_logloss: 0.177665\n",
      "[LightGBM] [Warning] No further splits with positive gain, best gain: -inf\n",
      "[133]\ttraining's binary_logloss: 0.0426824\tvalid_0's binary_logloss: 0.177787\n",
      "[LightGBM] [Warning] No further splits with positive gain, best gain: -inf\n",
      "[134]\ttraining's binary_logloss: 0.0422848\tvalid_0's binary_logloss: 0.17785\n",
      "[LightGBM] [Warning] No further splits with positive gain, best gain: -inf\n",
      "[135]\ttraining's binary_logloss: 0.0419012\tvalid_0's binary_logloss: 0.177965\n",
      "Accuracy of logistic regression classifier on validation set using 25th quantile: 0.93\n",
      "Accuracy of logistic regression classifier on test set using 25th quantile: 0.93\n",
      "auc:  0.8769530070754541\n",
      "PR AUC: 0.396\n"
     ]
    },
    {
     "data": {
      "image/png": "[encoded data removed]",
      "text/plain": [
       "<Figure size 800x600 with 1 Axes>"
      ]
     },
     "metadata": {},
     "output_type": "display_data"
    },
    {
     "name": "stdout",
     "output_type": "stream",
     "text": [
      "[1179  850  960  784  809  752 1033 1074  858  802  887  682  714  667\n",
      "  689  711  678  744  640  690  662  700  754  805  740  739]\n"
     ]
    }
   ],
   "source": [
    "lgbmodel(X_train_pca, y_train.values.ravel(), X_val_pca, y_val.values.ravel(), X_test_pca, y_test.values.ravel(), \"25th quantile\")"
   ]
  },
  {
   "cell_type": "markdown",
   "metadata": {},
   "source": [
    "# Exporting Datasets"
   ]
  },
  {
   "cell_type": "code",
   "execution_count": 20,
   "metadata": {},
   "outputs": [
    {
     "name": "stdout",
     "output_type": "stream",
     "text": [
      "c:\\Users\\lowmi\\OneDrive\\Desktop\\Uni\\DSA4262\\DSA4262-ACMXZ\\data\\preprocessed_data\n"
     ]
    }
   ],
   "source": [
    "%cd ../data/preprocessed_data"
   ]
  },
  {
   "cell_type": "code",
   "execution_count": 21,
   "metadata": {},
   "outputs": [],
   "source": [
    "df_all_features.to_parquet(\"df_all_features.parquet\") # df containing all features, before splitting/encoding\n",
    "df_train.to_parquet(\"df_train.parquet\") # df containing all features, after splitting, before encoding\n",
    "df_test.to_parquet(\"df_test.parquet\") # df containing all features, after splitting, before encoding\n",
    "df_val.to_parquet(\"df_val.parquet\") # df containing all features, after splitting, before encoding\n",
    "X_train.to_parquet(\"X_train.parquet\") # df containing all features, after splitting, before encoding\n",
    "y_train.to_parquet(\"y_train.parquet\") # df containing all features, after splitting, before encoding\n",
    "X_val.to_parquet(\"X_val.parquet\") # df containing all features, after splitting, before encoding\n",
    "y_val.to_parquet(\"y_val.parquet\") # df containing all features, after splitting, before encoding\n",
    "X_test.to_parquet(\"X_test.parquet\") # df containing all features, after splitting, before encoding\n",
    "y_test.to_parquet(\"y_test.parquet\") # df containing all features, after splitting, before encoding\n",
    "df_val_id.to_parquet(\"df_val_id.parquet\") # df containing all features, after splitting, before encoding\n",
    "X_train_enc.to_parquet(\"X_train_enc.parquet\") # df containing all features, after encoding and oversampling\n",
    "X_test_enc.to_parquet(\"X_test_enc.parquet\") # df containing all features, after encoding and oversampling\n",
    "X_val_enc.to_parquet(\"X_val_enc.parquet\") # df containing all features, after encoding and oversampling\n",
    "X_train_25.to_parquet(\"X_train_25.parquet\")  # final df containing 25 percentile features for modelling\n",
    "X_train_50.to_parquet(\"X_train_50.parquet\") # final df containing 50 percentile features for modelling\n",
    "X_train_75.to_parquet(\"X_train_75.parquet\") # final df containing 75 percentile features for modelling\n",
    "X_train_mean.to_parquet(\"X_train_mean.parquet\") # final df containing mean features for modelling\n"
   ]
  },
  {
   "cell_type": "code",
   "execution_count": null,
   "metadata": {},
   "outputs": [],
   "source": []
  },
  {
   "cell_type": "code",
   "execution_count": null,
   "metadata": {},
   "outputs": [],
   "source": []
  }
 ],
 "metadata": {
  "kernelspec": {
   "display_name": "Python 3.9.13 ('gene')",
   "language": "python",
   "name": "python3"
  },
  "language_info": {
   "codemirror_mode": {
    "name": "ipython",
    "version": 3
   },
   "file_extension": ".py",
   "mimetype": "text/x-python",
   "name": "python",
   "nbconvert_exporter": "python",
   "pygments_lexer": "ipython3",
   "version": "3.8.13"
  },
  "orig_nbformat": 4,
  "vscode": {
   "interpreter": {
    "hash": "5543608e2cf65d306e40f76a90ce0283f342cc58c97422798b100919ac591351"
   }
  }
 },
 "nbformat": 4,
 "nbformat_minor": 2
}
