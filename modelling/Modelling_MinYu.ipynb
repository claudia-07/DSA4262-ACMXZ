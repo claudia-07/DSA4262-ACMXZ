{
 "cells": [
  {
   "cell_type": "markdown",
   "metadata": {},
   "source": [
    "# Importing Libraries"
   ]
  },
  {
   "cell_type": "code",
   "execution_count": 1,
   "metadata": {},
   "outputs": [
    {
     "name": "stdout",
     "output_type": "stream",
     "text": [
      "/Users/yuanqi/Desktop/DSA4262-ACMXZ\n"
     ]
    }
   ],
   "source": [
    "%cd .."
   ]
  },
  {
   "cell_type": "code",
   "execution_count": 2,
   "metadata": {},
   "outputs": [],
   "source": [
    "import pandas as pd\n",
    "import numpy as np\n",
    "import os\n",
    "\n",
    "#from util.model import (modelling)"
   ]
  },
  {
   "cell_type": "markdown",
   "metadata": {},
   "source": [
    "# Loading Data"
   ]
  },
  {
   "cell_type": "markdown",
   "metadata": {},
   "source": [
    "### Loading parquets"
   ]
  },
  {
   "cell_type": "code",
   "execution_count": 13,
   "metadata": {},
   "outputs": [],
   "source": [
    "## Load Datasets\n",
    "X_train_25_path = \"../data/new_preprocessed_data/training/X_train_25.parquet\" ## to edit file path\n",
    "X_train_25 = pd.read_parquet(X_train_25_path)\n",
    "\n",
    "y_train_path = \"../data/new_preprocessed_data/training/y_train.parquet\"\n",
    "y_train = pd.read_parquet(y_train_path)\n",
    "y_train = pd.DataFrame(y_train['label'].astype(int))"
   ]
  },
  {
   "cell_type": "code",
   "execution_count": 44,
   "metadata": {},
   "outputs": [],
   "source": [
    "## Load Datasets\n",
    "X_train_50_path = \"../data/new_preprocessed_data/training/X_train_50.parquet\" ## to edit file path\n",
    "X_train_50 = pd.read_parquet(X_train_50_path)\n",
    "\n",
    "X_train_75_path = \"../data/new_preprocessed_data/training/X_train_75.parquet\" ## to edit file path\n",
    "X_train_75 = pd.read_parquet(X_train_75_path)\n",
    "\n",
    "X_train_mean_path = \"../data/new_preprocessed_data/training/X_train_mean.parquet\" ## to edit file path\n",
    "X_train_mean = pd.read_parquet(X_train_mean_path)\n"
   ]
  },
  {
   "cell_type": "code",
   "execution_count": 14,
   "metadata": {},
   "outputs": [],
   "source": [
    "## Load in Test Set\n",
    "#X_test_path = \"../data/preprocessed_data/test/X_test_enc.parquet\"\n",
    "X_test_path = \"../data/new_preprocessed_data/test/X_test_enc.parquet\"\n",
    "X_test = pd.read_parquet(X_test_path)\n",
    "\n",
    "y_test_path = \"../data/new_preprocessed_data/test/y_test.parquet\"\n",
    "y_test = pd.read_parquet(y_test_path)\n",
    "y_test = pd.DataFrame(y_test['label'].astype(int)) ## convert labels to int for roc and auc calculation\n",
    "\n",
    "## Load in Validation Set\n",
    "X_val_path = \"../data/new_preprocessed_data/validation/X_val_enc.parquet\"\n",
    "X_val = pd.read_parquet(X_val_path)\n",
    "\n",
    "y_val_path = \"../data/new_preprocessed_data/validation/y_val.parquet\"\n",
    "y_val = pd.read_parquet(y_val_path)\n",
    "y_val = pd.DataFrame(y_val['label'].astype(int))"
   ]
  },
  {
   "cell_type": "code",
   "execution_count": 51,
   "metadata": {},
   "outputs": [],
   "source": [
    "## need to drop columns for X validation and test data\n",
    "\n",
    "X_val_25 = X_val.drop(['dwelling_time_-1_50','dwelling_time_-1_75', 'dwelling_time_-1_mean', \n",
    "        'std_-1_50', 'std_-1_75', 'std_-1_mean', \n",
    "        'mean_-1_50','mean_-1_75', 'mean_-1_mean',\n",
    "        'dwelling_time_0_50', 'dwelling_time_0_75', 'dwelling_time_0_mean',\n",
    "       'std_0_50', 'std_0_75', 'std_0_mean',\n",
    "       'mean_0_50', 'mean_0_75', 'mean_0_mean',\n",
    "       'dwelling_time_+1_50', 'dwelling_time_+1_75', 'dwelling_time_+1_mean',\n",
    "       'std_+1_50', 'std_+1_75', 'std_+1_mean',\n",
    "       'mean_+1_50', 'mean_+1_75', 'mean_+1_mean'], axis = 1)\n",
    "\n",
    "X_val_50 = X_val.drop(['dwelling_time_-1_25','dwelling_time_-1_75', 'dwelling_time_-1_mean', \n",
    "        'std_-1_25', 'std_-1_75', 'std_-1_mean', \n",
    "        'mean_-1_25','mean_-1_75', 'mean_-1_mean',\n",
    "        'dwelling_time_0_25', 'dwelling_time_0_75', 'dwelling_time_0_mean',\n",
    "       'std_0_25', 'std_0_75', 'std_0_mean',\n",
    "       'mean_0_25', 'mean_0_75', 'mean_0_mean',\n",
    "       'dwelling_time_+1_25', 'dwelling_time_+1_75', 'dwelling_time_+1_mean',\n",
    "       'std_+1_25', 'std_+1_75', 'std_+1_mean',\n",
    "       'mean_+1_25', 'mean_+1_75', 'mean_+1_mean'], axis = 1)\n",
    "X_val_75 = X_val.drop(['dwelling_time_-1_50','dwelling_time_-1_25', 'dwelling_time_-1_mean', \n",
    "        'std_-1_50', 'std_-1_25', 'std_-1_mean', \n",
    "        'mean_-1_50','mean_-1_25', 'mean_-1_mean',\n",
    "        'dwelling_time_0_50', 'dwelling_time_0_25', 'dwelling_time_0_mean',\n",
    "       'std_0_50', 'std_0_25', 'std_0_mean',\n",
    "       'mean_0_50', 'mean_0_25', 'mean_0_mean',\n",
    "       'dwelling_time_+1_50', 'dwelling_time_+1_25', 'dwelling_time_+1_mean',\n",
    "       'std_+1_50', 'std_+1_25', 'std_+1_mean',\n",
    "       'mean_+1_50', 'mean_+1_25', 'mean_+1_mean'], axis = 1)\n",
    "X_val_mean = X_val.drop(['dwelling_time_-1_50','dwelling_time_-1_25', 'dwelling_time_-1_75', \n",
    "        'std_-1_50', 'std_-1_25', 'std_-1_75', \n",
    "        'mean_-1_50','mean_-1_25', 'mean_-1_75',\n",
    "        'dwelling_time_0_50', 'dwelling_time_0_25', 'dwelling_time_0_75',\n",
    "       'std_0_50', 'std_0_25', 'std_0_75',\n",
    "       'mean_0_50', 'mean_0_25', 'mean_0_75',\n",
    "       'dwelling_time_+1_50', 'dwelling_time_+1_25', 'dwelling_time_+1_75',\n",
    "       'std_+1_50', 'std_+1_25', 'std_+1_75',\n",
    "       'mean_+1_50', 'mean_+1_25', 'mean_+1_75'], axis = 1)\n",
    "\n",
    "X_test_25 = X_test.drop(['dwelling_time_-1_50','dwelling_time_-1_75', 'dwelling_time_-1_mean', \n",
    "        'std_-1_50', 'std_-1_75', 'std_-1_mean', \n",
    "        'mean_-1_50','mean_-1_75', 'mean_-1_mean',\n",
    "        'dwelling_time_0_50', 'dwelling_time_0_75', 'dwelling_time_0_mean',\n",
    "       'std_0_50', 'std_0_75', 'std_0_mean',\n",
    "       'mean_0_50', 'mean_0_75', 'mean_0_mean',\n",
    "       'dwelling_time_+1_50', 'dwelling_time_+1_75', 'dwelling_time_+1_mean',\n",
    "       'std_+1_50', 'std_+1_75', 'std_+1_mean',\n",
    "       'mean_+1_50', 'mean_+1_75', 'mean_+1_mean'], axis = 1)\n",
    "X_test_50 = X_test.drop(['dwelling_time_-1_25','dwelling_time_-1_75', 'dwelling_time_-1_mean', \n",
    "        'std_-1_25', 'std_-1_75', 'std_-1_mean', \n",
    "        'mean_-1_25','mean_-1_75', 'mean_-1_mean',\n",
    "        'dwelling_time_0_25', 'dwelling_time_0_75', 'dwelling_time_0_mean',\n",
    "       'std_0_25', 'std_0_75', 'std_0_mean',\n",
    "       'mean_0_25', 'mean_0_75', 'mean_0_mean',\n",
    "       'dwelling_time_+1_25', 'dwelling_time_+1_75', 'dwelling_time_+1_mean',\n",
    "       'std_+1_25', 'std_+1_75', 'std_+1_mean',\n",
    "       'mean_+1_25', 'mean_+1_75', 'mean_+1_mean'], axis = 1)\n",
    "X_test_75 = X_test.drop(['dwelling_time_-1_50','dwelling_time_-1_25', 'dwelling_time_-1_mean', \n",
    "        'std_-1_50', 'std_-1_25', 'std_-1_mean', \n",
    "        'mean_-1_50','mean_-1_25', 'mean_-1_mean',\n",
    "        'dwelling_time_0_50', 'dwelling_time_0_25', 'dwelling_time_0_mean',\n",
    "       'std_0_50', 'std_0_25', 'std_0_mean',\n",
    "       'mean_0_50', 'mean_0_25', 'mean_0_mean',\n",
    "       'dwelling_time_+1_50', 'dwelling_time_+1_25', 'dwelling_time_+1_mean',\n",
    "       'std_+1_50', 'std_+1_25', 'std_+1_mean',\n",
    "       'mean_+1_50', 'mean_+1_25', 'mean_+1_mean'], axis = 1)\n",
    "X_test_mean = X_test.drop(['dwelling_time_-1_50','dwelling_time_-1_25', 'dwelling_time_-1_75', \n",
    "        'std_-1_50', 'std_-1_25', 'std_-1_75', \n",
    "        'mean_-1_50','mean_-1_25', 'mean_-1_75',\n",
    "        'dwelling_time_0_50', 'dwelling_time_0_25', 'dwelling_time_0_75',\n",
    "       'std_0_50', 'std_0_25', 'std_0_75',\n",
    "       'mean_0_50', 'mean_0_25', 'mean_0_75',\n",
    "       'dwelling_time_+1_50', 'dwelling_time_+1_25', 'dwelling_time_+1_75',\n",
    "       'std_+1_50', 'std_+1_25', 'std_+1_75',\n",
    "       'mean_+1_50', 'mean_+1_25', 'mean_+1_75'], axis = 1)"
   ]
  },
  {
   "cell_type": "markdown",
   "metadata": {},
   "source": [
    "# Modelling"
   ]
  },
  {
   "cell_type": "code",
   "execution_count": 70,
   "metadata": {},
   "outputs": [],
   "source": [
    "#df_model = Modelling(X_train, y_train, X_val, y_val, df_val)\n",
    "df_model = Modelling(X_train, y_train.values.ravel(), X_test_1, y_test.values.ravel(), df_val_mean)"
   ]
  },
  {
   "cell_type": "code",
   "execution_count": null,
   "metadata": {},
   "outputs": [],
   "source": [
    "df_model.modelling_lightgbm()"
   ]
  },
  {
   "cell_type": "code",
   "execution_count": 16,
   "metadata": {},
   "outputs": [
    {
     "name": "stdout",
     "output_type": "stream",
     "text": [
      "[LightGBM] [Info] Number of positive: 5483, number of negative: 24923\n",
      "[LightGBM] [Warning] Auto-choosing col-wise multi-threading, the overhead of testing was 0.002350 seconds.\n",
      "You can set `force_col_wise=true` to remove the overhead.\n",
      "[LightGBM] [Info] Total Bins 2559\n",
      "[LightGBM] [Info] Number of data points in the train set: 30406, number of used features: 26\n"
     ]
    },
    {
     "ename": "ValueError",
     "evalue": "Length of feature_name(65) and num_feature(38) don't match",
     "output_type": "error",
     "traceback": [
      "\u001b[0;31m---------------------------------------------------------------------------\u001b[0m",
      "\u001b[0;31mValueError\u001b[0m                                Traceback (most recent call last)",
      "\u001b[1;32m/Users/yuanqi/Desktop/DSA4262-ACMXZ/modelling/Modelling_MinYu.ipynb Cell 12\u001b[0m in \u001b[0;36m<cell line: 6>\u001b[0;34m()\u001b[0m\n\u001b[1;32m      <a href='vscode-notebook-cell:/Users/yuanqi/Desktop/DSA4262-ACMXZ/modelling/Modelling_MinYu.ipynb#X21sZmlsZQ%3D%3D?line=0'>1</a>\u001b[0m \u001b[39mimport\u001b[39;00m \u001b[39mlightgbm\u001b[39;00m \u001b[39mas\u001b[39;00m \u001b[39mlgb\u001b[39;00m\n\u001b[1;32m      <a href='vscode-notebook-cell:/Users/yuanqi/Desktop/DSA4262-ACMXZ/modelling/Modelling_MinYu.ipynb#X21sZmlsZQ%3D%3D?line=1'>2</a>\u001b[0m model \u001b[39m=\u001b[39m lgb\u001b[39m.\u001b[39mLGBMClassifier(learning_rate\u001b[39m=\u001b[39m\u001b[39m0.14048611339776612\u001b[39m, max_depth\u001b[39m=\u001b[39m\u001b[39m3\u001b[39m,\n\u001b[1;32m      <a href='vscode-notebook-cell:/Users/yuanqi/Desktop/DSA4262-ACMXZ/modelling/Modelling_MinYu.ipynb#X21sZmlsZQ%3D%3D?line=2'>3</a>\u001b[0m                min_child_weight\u001b[39m=\u001b[39m\u001b[39m8.0\u001b[39m, n_estimators\u001b[39m=\u001b[39m\u001b[39m165\u001b[39m, num_leaves\u001b[39m=\u001b[39m\u001b[39m48\u001b[39m,\n\u001b[1;32m      <a href='vscode-notebook-cell:/Users/yuanqi/Desktop/DSA4262-ACMXZ/modelling/Modelling_MinYu.ipynb#X21sZmlsZQ%3D%3D?line=3'>4</a>\u001b[0m                random_state\u001b[39m=\u001b[39m\u001b[39m42\u001b[39m, reg_alpha\u001b[39m=\u001b[39m\u001b[39m1.3\u001b[39m, reg_lambda\u001b[39m=\u001b[39m\u001b[39m1.425462163056115\u001b[39m,\n\u001b[1;32m      <a href='vscode-notebook-cell:/Users/yuanqi/Desktop/DSA4262-ACMXZ/modelling/Modelling_MinYu.ipynb#X21sZmlsZQ%3D%3D?line=4'>5</a>\u001b[0m                scale_pos_weight\u001b[39m=\u001b[39m\u001b[39m5\u001b[39m, verbosity\u001b[39m=\u001b[39m\u001b[39m1\u001b[39m)\n\u001b[0;32m----> <a href='vscode-notebook-cell:/Users/yuanqi/Desktop/DSA4262-ACMXZ/modelling/Modelling_MinYu.ipynb#X21sZmlsZQ%3D%3D?line=5'>6</a>\u001b[0m model\u001b[39m.\u001b[39;49mfit(X_train_25,y_train\u001b[39m.\u001b[39;49mvalues\u001b[39m.\u001b[39;49mravel(),eval_set\u001b[39m=\u001b[39;49m[(X_test,y_test\u001b[39m.\u001b[39;49mvalues\u001b[39m.\u001b[39;49mravel()),(X_train_25,y_train\u001b[39m.\u001b[39;49mvalues\u001b[39m.\u001b[39;49mravel())],eval_metric\u001b[39m=\u001b[39;49m\u001b[39m'\u001b[39;49m\u001b[39mlogloss\u001b[39;49m\u001b[39m'\u001b[39;49m)\n",
      "File \u001b[0;32m~/opt/anaconda3/envs/gene/lib/python3.8/site-packages/lightgbm/sklearn.py:847\u001b[0m, in \u001b[0;36mLGBMClassifier.fit\u001b[0;34m(self, X, y, sample_weight, init_score, eval_set, eval_names, eval_sample_weight, eval_class_weight, eval_init_score, eval_metric, early_stopping_rounds, verbose, feature_name, categorical_feature, callbacks, init_model)\u001b[0m\n\u001b[1;32m    844\u001b[0m         \u001b[39melse\u001b[39;00m:\n\u001b[1;32m    845\u001b[0m             valid_sets[i] \u001b[39m=\u001b[39m (valid_x, \u001b[39mself\u001b[39m\u001b[39m.\u001b[39m_le\u001b[39m.\u001b[39mtransform(valid_y))\n\u001b[0;32m--> 847\u001b[0m \u001b[39msuper\u001b[39;49m(LGBMClassifier, \u001b[39mself\u001b[39;49m)\u001b[39m.\u001b[39;49mfit(X, _y, sample_weight\u001b[39m=\u001b[39;49msample_weight,\n\u001b[1;32m    848\u001b[0m                                 init_score\u001b[39m=\u001b[39;49minit_score, eval_set\u001b[39m=\u001b[39;49mvalid_sets,\n\u001b[1;32m    849\u001b[0m                                 eval_names\u001b[39m=\u001b[39;49meval_names,\n\u001b[1;32m    850\u001b[0m                                 eval_sample_weight\u001b[39m=\u001b[39;49meval_sample_weight,\n\u001b[1;32m    851\u001b[0m                                 eval_class_weight\u001b[39m=\u001b[39;49meval_class_weight,\n\u001b[1;32m    852\u001b[0m                                 eval_init_score\u001b[39m=\u001b[39;49meval_init_score,\n\u001b[1;32m    853\u001b[0m                                 eval_metric\u001b[39m=\u001b[39;49meval_metric,\n\u001b[1;32m    854\u001b[0m                                 early_stopping_rounds\u001b[39m=\u001b[39;49mearly_stopping_rounds,\n\u001b[1;32m    855\u001b[0m                                 verbose\u001b[39m=\u001b[39;49mverbose, feature_name\u001b[39m=\u001b[39;49mfeature_name,\n\u001b[1;32m    856\u001b[0m                                 categorical_feature\u001b[39m=\u001b[39;49mcategorical_feature,\n\u001b[1;32m    857\u001b[0m                                 callbacks\u001b[39m=\u001b[39;49mcallbacks, init_model\u001b[39m=\u001b[39;49minit_model)\n\u001b[1;32m    858\u001b[0m \u001b[39mreturn\u001b[39;00m \u001b[39mself\u001b[39m\n",
      "File \u001b[0;32m~/opt/anaconda3/envs/gene/lib/python3.8/site-packages/lightgbm/sklearn.py:612\u001b[0m, in \u001b[0;36mLGBMModel.fit\u001b[0;34m(self, X, y, sample_weight, init_score, group, eval_set, eval_names, eval_sample_weight, eval_class_weight, eval_init_score, eval_group, eval_metric, early_stopping_rounds, verbose, feature_name, categorical_feature, callbacks, init_model)\u001b[0m\n\u001b[1;32m    609\u001b[0m \u001b[39mif\u001b[39;00m \u001b[39misinstance\u001b[39m(init_model, LGBMModel):\n\u001b[1;32m    610\u001b[0m     init_model \u001b[39m=\u001b[39m init_model\u001b[39m.\u001b[39mbooster_\n\u001b[0;32m--> 612\u001b[0m \u001b[39mself\u001b[39m\u001b[39m.\u001b[39m_Booster \u001b[39m=\u001b[39m train(params, train_set,\n\u001b[1;32m    613\u001b[0m                       \u001b[39mself\u001b[39;49m\u001b[39m.\u001b[39;49mn_estimators, valid_sets\u001b[39m=\u001b[39;49mvalid_sets, valid_names\u001b[39m=\u001b[39;49meval_names,\n\u001b[1;32m    614\u001b[0m                       early_stopping_rounds\u001b[39m=\u001b[39;49mearly_stopping_rounds,\n\u001b[1;32m    615\u001b[0m                       evals_result\u001b[39m=\u001b[39;49mevals_result, fobj\u001b[39m=\u001b[39;49m\u001b[39mself\u001b[39;49m\u001b[39m.\u001b[39;49m_fobj, feval\u001b[39m=\u001b[39;49meval_metrics_callable,\n\u001b[1;32m    616\u001b[0m                       verbose_eval\u001b[39m=\u001b[39;49mverbose, feature_name\u001b[39m=\u001b[39;49mfeature_name,\n\u001b[1;32m    617\u001b[0m                       callbacks\u001b[39m=\u001b[39;49mcallbacks, init_model\u001b[39m=\u001b[39;49minit_model)\n\u001b[1;32m    619\u001b[0m \u001b[39mif\u001b[39;00m evals_result:\n\u001b[1;32m    620\u001b[0m     \u001b[39mself\u001b[39m\u001b[39m.\u001b[39m_evals_result \u001b[39m=\u001b[39m evals_result\n",
      "File \u001b[0;32m~/opt/anaconda3/envs/gene/lib/python3.8/site-packages/lightgbm/engine.py:235\u001b[0m, in \u001b[0;36mtrain\u001b[0;34m(params, train_set, num_boost_round, valid_sets, valid_names, fobj, feval, init_model, feature_name, categorical_feature, early_stopping_rounds, evals_result, verbose_eval, learning_rates, keep_training_booster, callbacks)\u001b[0m\n\u001b[1;32m    233\u001b[0m         booster\u001b[39m.\u001b[39mset_train_data_name(train_data_name)\n\u001b[1;32m    234\u001b[0m     \u001b[39mfor\u001b[39;00m valid_set, name_valid_set \u001b[39min\u001b[39;00m zip_(reduced_valid_sets, name_valid_sets):\n\u001b[0;32m--> 235\u001b[0m         booster\u001b[39m.\u001b[39;49madd_valid(valid_set, name_valid_set)\n\u001b[1;32m    236\u001b[0m \u001b[39mfinally\u001b[39;00m:\n\u001b[1;32m    237\u001b[0m     train_set\u001b[39m.\u001b[39m_reverse_update_params()\n",
      "File \u001b[0;32m~/opt/anaconda3/envs/gene/lib/python3.8/site-packages/lightgbm/basic.py:2374\u001b[0m, in \u001b[0;36mBooster.add_valid\u001b[0;34m(self, data, name)\u001b[0m\n\u001b[1;32m   2369\u001b[0m \u001b[39mif\u001b[39;00m data\u001b[39m.\u001b[39m_predictor \u001b[39mis\u001b[39;00m \u001b[39mnot\u001b[39;00m \u001b[39mself\u001b[39m\u001b[39m.\u001b[39m__init_predictor:\n\u001b[1;32m   2370\u001b[0m     \u001b[39mraise\u001b[39;00m LightGBMError(\u001b[39m\"\u001b[39m\u001b[39mAdd validation data failed, \u001b[39m\u001b[39m\"\u001b[39m\n\u001b[1;32m   2371\u001b[0m                         \u001b[39m\"\u001b[39m\u001b[39myou should use same predictor for these data\u001b[39m\u001b[39m\"\u001b[39m)\n\u001b[1;32m   2372\u001b[0m _safe_call(_LIB\u001b[39m.\u001b[39mLGBM_BoosterAddValidData(\n\u001b[1;32m   2373\u001b[0m     \u001b[39mself\u001b[39m\u001b[39m.\u001b[39mhandle,\n\u001b[0;32m-> 2374\u001b[0m     data\u001b[39m.\u001b[39;49mconstruct()\u001b[39m.\u001b[39mhandle))\n\u001b[1;32m   2375\u001b[0m \u001b[39mself\u001b[39m\u001b[39m.\u001b[39mvalid_sets\u001b[39m.\u001b[39mappend(data)\n\u001b[1;32m   2376\u001b[0m \u001b[39mself\u001b[39m\u001b[39m.\u001b[39mname_valid_sets\u001b[39m.\u001b[39mappend(name)\n",
      "File \u001b[0;32m~/opt/anaconda3/envs/gene/lib/python3.8/site-packages/lightgbm/basic.py:1290\u001b[0m, in \u001b[0;36mDataset.construct\u001b[0;34m(self)\u001b[0m\n\u001b[1;32m   1287\u001b[0m     \u001b[39mself\u001b[39m\u001b[39m.\u001b[39m_update_params(reference_params)\n\u001b[1;32m   1288\u001b[0m \u001b[39mif\u001b[39;00m \u001b[39mself\u001b[39m\u001b[39m.\u001b[39mused_indices \u001b[39mis\u001b[39;00m \u001b[39mNone\u001b[39;00m:\n\u001b[1;32m   1289\u001b[0m     \u001b[39m# create valid\u001b[39;00m\n\u001b[0;32m-> 1290\u001b[0m     \u001b[39mself\u001b[39;49m\u001b[39m.\u001b[39;49m_lazy_init(\u001b[39mself\u001b[39;49m\u001b[39m.\u001b[39;49mdata, label\u001b[39m=\u001b[39;49m\u001b[39mself\u001b[39;49m\u001b[39m.\u001b[39;49mlabel, reference\u001b[39m=\u001b[39;49m\u001b[39mself\u001b[39;49m\u001b[39m.\u001b[39;49mreference,\n\u001b[1;32m   1291\u001b[0m                     weight\u001b[39m=\u001b[39;49m\u001b[39mself\u001b[39;49m\u001b[39m.\u001b[39;49mweight, group\u001b[39m=\u001b[39;49m\u001b[39mself\u001b[39;49m\u001b[39m.\u001b[39;49mgroup,\n\u001b[1;32m   1292\u001b[0m                     init_score\u001b[39m=\u001b[39;49m\u001b[39mself\u001b[39;49m\u001b[39m.\u001b[39;49minit_score, predictor\u001b[39m=\u001b[39;49m\u001b[39mself\u001b[39;49m\u001b[39m.\u001b[39;49m_predictor,\n\u001b[1;32m   1293\u001b[0m                     silent\u001b[39m=\u001b[39;49m\u001b[39mself\u001b[39;49m\u001b[39m.\u001b[39;49msilent, feature_name\u001b[39m=\u001b[39;49m\u001b[39mself\u001b[39;49m\u001b[39m.\u001b[39;49mfeature_name, params\u001b[39m=\u001b[39;49m\u001b[39mself\u001b[39;49m\u001b[39m.\u001b[39;49mparams)\n\u001b[1;32m   1294\u001b[0m \u001b[39melse\u001b[39;00m:\n\u001b[1;32m   1295\u001b[0m     \u001b[39m# construct subset\u001b[39;00m\n\u001b[1;32m   1296\u001b[0m     used_indices \u001b[39m=\u001b[39m list_to_1d_numpy(\u001b[39mself\u001b[39m\u001b[39m.\u001b[39mused_indices, np\u001b[39m.\u001b[39mint32, name\u001b[39m=\u001b[39m\u001b[39m'\u001b[39m\u001b[39mused_indices\u001b[39m\u001b[39m'\u001b[39m)\n",
      "File \u001b[0;32m~/opt/anaconda3/envs/gene/lib/python3.8/site-packages/lightgbm/basic.py:1151\u001b[0m, in \u001b[0;36mDataset._lazy_init\u001b[0;34m(self, data, label, reference, weight, group, init_score, predictor, silent, feature_name, categorical_feature, params)\u001b[0m\n\u001b[1;32m   1149\u001b[0m     \u001b[39mraise\u001b[39;00m \u001b[39mTypeError\u001b[39;00m(\u001b[39m'\u001b[39m\u001b[39mWrong predictor type \u001b[39m\u001b[39m{}\u001b[39;00m\u001b[39m'\u001b[39m\u001b[39m.\u001b[39mformat(\u001b[39mtype\u001b[39m(predictor)\u001b[39m.\u001b[39m\u001b[39m__name__\u001b[39m))\n\u001b[1;32m   1150\u001b[0m \u001b[39m# set feature names\u001b[39;00m\n\u001b[0;32m-> 1151\u001b[0m \u001b[39mreturn\u001b[39;00m \u001b[39mself\u001b[39;49m\u001b[39m.\u001b[39;49mset_feature_name(feature_name)\n",
      "File \u001b[0;32m~/opt/anaconda3/envs/gene/lib/python3.8/site-packages/lightgbm/basic.py:1626\u001b[0m, in \u001b[0;36mDataset.set_feature_name\u001b[0;34m(self, feature_name)\u001b[0m\n\u001b[1;32m   1624\u001b[0m \u001b[39mif\u001b[39;00m \u001b[39mself\u001b[39m\u001b[39m.\u001b[39mhandle \u001b[39mis\u001b[39;00m \u001b[39mnot\u001b[39;00m \u001b[39mNone\u001b[39;00m \u001b[39mand\u001b[39;00m feature_name \u001b[39mis\u001b[39;00m \u001b[39mnot\u001b[39;00m \u001b[39mNone\u001b[39;00m \u001b[39mand\u001b[39;00m feature_name \u001b[39m!=\u001b[39m \u001b[39m'\u001b[39m\u001b[39mauto\u001b[39m\u001b[39m'\u001b[39m:\n\u001b[1;32m   1625\u001b[0m     \u001b[39mif\u001b[39;00m \u001b[39mlen\u001b[39m(feature_name) \u001b[39m!=\u001b[39m \u001b[39mself\u001b[39m\u001b[39m.\u001b[39mnum_feature():\n\u001b[0;32m-> 1626\u001b[0m         \u001b[39mraise\u001b[39;00m \u001b[39mValueError\u001b[39;00m(\u001b[39m\"\u001b[39m\u001b[39mLength of feature_name(\u001b[39m\u001b[39m{}\u001b[39;00m\u001b[39m) and num_feature(\u001b[39m\u001b[39m{}\u001b[39;00m\u001b[39m) don\u001b[39m\u001b[39m'\u001b[39m\u001b[39mt match\u001b[39m\u001b[39m\"\u001b[39m\n\u001b[1;32m   1627\u001b[0m                          \u001b[39m.\u001b[39mformat(\u001b[39mlen\u001b[39m(feature_name), \u001b[39mself\u001b[39m\u001b[39m.\u001b[39mnum_feature()))\n\u001b[1;32m   1628\u001b[0m     c_feature_name \u001b[39m=\u001b[39m [c_str(name) \u001b[39mfor\u001b[39;00m name \u001b[39min\u001b[39;00m feature_name]\n\u001b[1;32m   1629\u001b[0m     _safe_call(_LIB\u001b[39m.\u001b[39mLGBM_DatasetSetFeatureNames(\n\u001b[1;32m   1630\u001b[0m         \u001b[39mself\u001b[39m\u001b[39m.\u001b[39mhandle,\n\u001b[1;32m   1631\u001b[0m         c_array(ctypes\u001b[39m.\u001b[39mc_char_p, c_feature_name),\n\u001b[1;32m   1632\u001b[0m         ctypes\u001b[39m.\u001b[39mc_int(\u001b[39mlen\u001b[39m(feature_name))))\n",
      "\u001b[0;31mValueError\u001b[0m: Length of feature_name(65) and num_feature(38) don't match"
     ]
    }
   ],
   "source": [
    "import lightgbm as lgb\n",
    "model = lgb.LGBMClassifier(learning_rate=0.14048611339776612, max_depth=3,\n",
    "               min_child_weight=8.0, n_estimators=165, num_leaves=48,\n",
    "               random_state=42, reg_alpha=1.3, reg_lambda=1.425462163056115,\n",
    "               scale_pos_weight=5, verbosity=1)\n",
    "model.fit(X_train_25,y_train.values.ravel(),eval_set=[(X_test_25,y_test.values.ravel()),(X_train_25,y_train.values.ravel())],eval_metric='logloss')"
   ]
  },
  {
   "cell_type": "code",
   "execution_count": 100,
   "metadata": {},
   "outputs": [
    {
     "name": "stdout",
     "output_type": "stream",
     "text": [
      "Training accuracy 0.8146\n",
      "Testing accuracy 0.9362\n"
     ]
    }
   ],
   "source": [
    "print('Training accuracy {:.4f}'.format(model.score(X_train,y_train)))\n",
    "print('Testing accuracy {:.4f}'.format(model.score(X_test_1,y_test)))"
   ]
  },
  {
   "cell_type": "markdown",
   "metadata": {},
   "source": [
    "## Using Claudia's Function"
   ]
  },
  {
   "cell_type": "code",
   "execution_count": 8,
   "metadata": {},
   "outputs": [],
   "source": [
    "import pandas as pd\n",
    "import numpy as mp\n",
    "from sklearn import preprocessing\n",
    "from sklearn import metrics\n",
    "from sklearn.model_selection import train_test_split\n",
    "from sklearn.metrics import confusion_matrix, roc_auc_score, roc_curve, auc, precision_recall_curve, auc\n",
    "import statsmodels.api as sm\n",
    "import matplotlib.pyplot as plt\n",
    "\n",
    "import lightgbm as lgb"
   ]
  },
  {
   "cell_type": "code",
   "execution_count": 11,
   "metadata": {},
   "outputs": [],
   "source": [
    "\n",
    "def lgbmodel(x_train, y_train, x_val, y_val, x_test, y_test, variable):\n",
    "    \n",
    "    ## fit logistic regression on training data\n",
    "    model = lgb.LGBMClassifier(learning_rate=0.14048611339776612, max_depth=3,\n",
    "               min_child_weight=8.0, n_estimators=165, num_leaves=48,\n",
    "               random_state=42, reg_alpha=1.3, reg_lambda=1.425462163056115,\n",
    "               scale_pos_weight=5, verbosity=1)\n",
    "    #model.fit(x_train, y_train)\n",
    "    model.fit(x_train,y_train,eval_set=[(x_test,y_test),(x_train,y_train)],eval_metric='logloss')\n",
    "\n",
    "    ## predicting validation set result and calculating accuracy\n",
    "    y_val_pred = model.predict(x_val)\n",
    "    print('Accuracy of logistic regression classifier on validation set using {}: {:.2f}'.format(variable, model.score(x_val, y_val)))\n",
    "\n",
    "    ## predicting test set result and calculating accuracy\n",
    "    y_test_pred = model.predict(x_test)\n",
    "    print('Accuracy of logistic regression classifier on test set using {}: {:.2f}'.format(variable, model.score(x_test, y_test)))\n",
    "\n",
    "    ## define metrics for roc\n",
    "    y_test_pred_proba = model.predict_proba(x_test)[:,1]\n",
    "    fpr, tpr, thresholds = roc_curve(y_test, y_test_pred_proba)\n",
    "    mlp_roc_auc = roc_auc_score(y_test, y_test_pred_proba)\n",
    "    # fpr, tpr, thresholds = roc_curve(y_test, y_test_pred_proba, pos_label=1)\n",
    "    print('auc: ', auc(fpr, tpr))   \n",
    "    # calculate the precision-recall auc\n",
    "    precision, recall, _ = precision_recall_curve(y_test, y_test_pred_proba)\n",
    "    auc_score = auc(recall, precision)\n",
    "    print('PR AUC: %.3f' % auc_score)\n",
    "    \n",
    "    ## create roc curve   \n",
    "    plt.rcParams[\"figure.figsize\"] = (8,6)\n",
    "    plt.figure()\n",
    "    plt.plot(fpr, tpr, label = 'LightGBoost (area = %0.2f)' % mlp_roc_auc)\n",
    "    plt.plot([0, 1], [0, 1],'r--')\n",
    "    plt.xlim([0.0, 1.0])\n",
    "    plt.ylim([0.0, 1.05])\n",
    "    plt.xlabel('False Positive Rate')\n",
    "    plt.ylabel('True Positive Rate')\n",
    "    plt.title('Receiver operating characteristic')\n",
    "    plt.legend(loc = \"lower right\")\n",
    "    plt.show()\n",
    "\n",
    "    print(model.feature_importances_)"
   ]
  },
  {
   "cell_type": "code",
   "execution_count": 56,
   "metadata": {},
   "outputs": [],
   "source": [
    "## function for basic classification\n",
    "def lgbmodel(x_train, y_train, x_val, y_val, x_test, y_test, variable):\n",
    "    ## create classifier\n",
    "    # model = lgb.LGBMClassifier(learning_rate=0.14048611339776612, max_depth=12,\n",
    "    #            min_child_weight=8.0, n_estimators=125, num_leaves=150,\n",
    "    #            random_state=42, reg_alpha=1.5, reg_lambda=2,\n",
    "    #            scale_pos_weight=5, verbosity=1, min_data_in_leaf=25,lambda_l2=0, lambda_l1 = 1.5)\n",
    "    # model = lgb.LGBMClassifier(learning_rate=0.14048611339776612, max_depth=3,\n",
    "    #            min_child_weight=8.0, n_estimators=165, num_leaves=48,\n",
    "    #            random_state=42, reg_alpha=1.3, reg_lambda=1.425462163056115,\n",
    "    #            scale_pos_weight=5, verbosity=1)\n",
    "    model = lgb.LGBMClassifier(learning_rate=0.14048611339776612, max_depth=21,\n",
    "               min_child_weight=10.0, n_estimators=100, num_leaves=90,\n",
    "               random_state=42, reg_alpha=1.5, reg_lambda=1.5,\n",
    "               scale_pos_weight=2, verbosity=1, min_data_in_leaf=30,lambda_l2=0, lambda_l1 = 0.5)\n",
    "               \n",
    "    #model.fit(x_train, y_train)\n",
    "    model.fit(x_train,y_train,eval_set=[(x_test,y_test),(x_train,y_train)],eval_metric='logloss')\n",
    "\n",
    "    ## get validation and test predicition\n",
    "    y_val_pred = model.predict(x_val)\n",
    "    print('Accuracy of random forest classifier on validation set using {}: {:.2f}'.format(variable, metrics.accuracy_score(y_val, y_val_pred)))\n",
    "   \n",
    "    y_test_pred = model.predict(x_test)\n",
    "    print('Accuracy of random forest classifier on test set using {}: {:.2f}'.format(variable, metrics.accuracy_score(y_test, y_test_pred)))\n",
    "\n",
    "    ## define metrics for roc\n",
    "    y_test_pred_proba = model.predict_proba(x_test)[:,1]\n",
    "    fpr, tpr, thresholds = roc_curve(y_test, y_test_pred_proba)\n",
    "    rf_roc_auc = roc_auc_score(y_test, y_test_pred_proba)\n",
    "    \n",
    "    ## create roc curve  \n",
    "    plt.rcParams[\"figure.figsize\"] = (4,3)\n",
    " \n",
    "    plt.figure()\n",
    "    plt.plot(fpr, tpr, label = 'LightGBM Classifier (area = %0.2f)' % rf_roc_auc)\n",
    "    plt.plot([0, 1], [0, 1],'r--')\n",
    "    plt.xlim([0.0, 1.0])\n",
    "    plt.ylim([0.0, 1.05])\n",
    "    plt.xlabel('False Positive Rate')\n",
    "    plt.ylabel('True Positive Rate')\n",
    "    plt.title('Receiver operating characteristic')\n",
    "    plt.legend(loc = \"lower right\")\n",
    "    plt.show()\n",
    "\n",
    "    ## define metric for precision and recall\n",
    "    precision, recall, thresholds = precision_recall_curve(y_test, y_test_pred_proba)\n",
    "    auc_precision_recall = auc(recall, precision)\n",
    "\n",
    "    ## create pr curve   \n",
    "    plt.figure()\n",
    "    plt.plot(recall, precision, label = 'LightGBM Classifier (area = %0.2f)' % auc_precision_recall)\n",
    "    plt.xlim([0.0, 1.0])\n",
    "    plt.ylim([0.0, 1.05])\n",
    "    plt.xlabel('Recall')\n",
    "    plt.ylabel('Precision')\n",
    "    plt.title('Precision-Recall')\n",
    "    plt.legend(loc = \"lower right\")\n",
    "    plt.show()"
   ]
  },
  {
   "cell_type": "code",
   "execution_count": 53,
   "metadata": {},
   "outputs": [
    {
     "name": "stdout",
     "output_type": "stream",
     "text": [
      "[LightGBM] [Warning] min_data_in_leaf is set=25, min_child_samples=20 will be ignored. Current value: min_data_in_leaf=25\n",
      "[LightGBM] [Warning] lambda_l1 is set=1.5, reg_alpha=1.5 will be ignored. Current value: lambda_l1=1.5\n",
      "[LightGBM] [Warning] lambda_l2 is set=0, reg_lambda=2 will be ignored. Current value: lambda_l2=0\n",
      "[LightGBM] [Warning] min_data_in_leaf is set=25, min_child_samples=20 will be ignored. Current value: min_data_in_leaf=25\n",
      "[LightGBM] [Warning] lambda_l1 is set=1.5, reg_alpha=1.5 will be ignored. Current value: lambda_l1=1.5\n",
      "[LightGBM] [Warning] lambda_l2 is set=0, reg_lambda=2 will be ignored. Current value: lambda_l2=0\n",
      "[LightGBM] [Info] Number of positive: 5483, number of negative: 24923\n",
      "[LightGBM] [Warning] Auto-choosing col-wise multi-threading, the overhead of testing was 0.002457 seconds.\n",
      "You can set `force_col_wise=true` to remove the overhead.\n",
      "[LightGBM] [Info] Total Bins 2559\n",
      "[LightGBM] [Info] Number of data points in the train set: 30406, number of used features: 26\n",
      "[LightGBM] [Warning] min_data_in_leaf is set=25, min_child_samples=20 will be ignored. Current value: min_data_in_leaf=25\n",
      "[LightGBM] [Warning] lambda_l1 is set=1.5, reg_alpha=1.5 will be ignored. Current value: lambda_l1=1.5\n",
      "[LightGBM] [Warning] lambda_l2 is set=0, reg_lambda=2 will be ignored. Current value: lambda_l2=0\n",
      "[LightGBM] [Info] [binary:BoostFromScore]: pavg=0.180326 -> initscore=-1.514139\n",
      "[LightGBM] [Info] Start training from score -1.514139\n",
      "[1]\ttraining's binary_logloss: 0.403805\tvalid_0's binary_logloss: 0.27161\n",
      "[2]\ttraining's binary_logloss: 0.370365\tvalid_0's binary_logloss: 0.291173\n",
      "[3]\ttraining's binary_logloss: 0.349772\tvalid_0's binary_logloss: 0.283688\n",
      "[4]\ttraining's binary_logloss: 0.335447\tvalid_0's binary_logloss: 0.278871\n",
      "[5]\ttraining's binary_logloss: 0.32454\tvalid_0's binary_logloss: 0.259922\n",
      "[6]\ttraining's binary_logloss: 0.316981\tvalid_0's binary_logloss: 0.272013\n",
      "[7]\ttraining's binary_logloss: 0.310441\tvalid_0's binary_logloss: 0.258231\n",
      "[8]\ttraining's binary_logloss: 0.303844\tvalid_0's binary_logloss: 0.246945\n",
      "[9]\ttraining's binary_logloss: 0.298247\tvalid_0's binary_logloss: 0.240819\n",
      "[10]\ttraining's binary_logloss: 0.293269\tvalid_0's binary_logloss: 0.234468\n",
      "[11]\ttraining's binary_logloss: 0.289629\tvalid_0's binary_logloss: 0.233279\n",
      "[12]\ttraining's binary_logloss: 0.286019\tvalid_0's binary_logloss: 0.231376\n",
      "[13]\ttraining's binary_logloss: 0.28255\tvalid_0's binary_logloss: 0.223228\n",
      "[14]\ttraining's binary_logloss: 0.279154\tvalid_0's binary_logloss: 0.218245\n",
      "[15]\ttraining's binary_logloss: 0.275373\tvalid_0's binary_logloss: 0.211575\n",
      "[16]\ttraining's binary_logloss: 0.272601\tvalid_0's binary_logloss: 0.208163\n",
      "[17]\ttraining's binary_logloss: 0.26923\tvalid_0's binary_logloss: 0.202803\n",
      "[18]\ttraining's binary_logloss: 0.266488\tvalid_0's binary_logloss: 0.198737\n",
      "[19]\ttraining's binary_logloss: 0.263146\tvalid_0's binary_logloss: 0.193361\n",
      "[20]\ttraining's binary_logloss: 0.260525\tvalid_0's binary_logloss: 0.188948\n",
      "[21]\ttraining's binary_logloss: 0.25697\tvalid_0's binary_logloss: 0.185399\n",
      "[22]\ttraining's binary_logloss: 0.252688\tvalid_0's binary_logloss: 0.18454\n",
      "[23]\ttraining's binary_logloss: 0.249407\tvalid_0's binary_logloss: 0.183286\n",
      "[24]\ttraining's binary_logloss: 0.245805\tvalid_0's binary_logloss: 0.184292\n",
      "[25]\ttraining's binary_logloss: 0.2428\tvalid_0's binary_logloss: 0.182624\n",
      "[26]\ttraining's binary_logloss: 0.23984\tvalid_0's binary_logloss: 0.180603\n",
      "[27]\ttraining's binary_logloss: 0.236052\tvalid_0's binary_logloss: 0.180262\n",
      "[28]\ttraining's binary_logloss: 0.233252\tvalid_0's binary_logloss: 0.179767\n",
      "[29]\ttraining's binary_logloss: 0.230698\tvalid_0's binary_logloss: 0.179572\n",
      "[30]\ttraining's binary_logloss: 0.227988\tvalid_0's binary_logloss: 0.178498\n",
      "[31]\ttraining's binary_logloss: 0.225199\tvalid_0's binary_logloss: 0.179744\n",
      "[32]\ttraining's binary_logloss: 0.222574\tvalid_0's binary_logloss: 0.17951\n",
      "[33]\ttraining's binary_logloss: 0.220204\tvalid_0's binary_logloss: 0.178303\n",
      "[34]\ttraining's binary_logloss: 0.216607\tvalid_0's binary_logloss: 0.178303\n",
      "[35]\ttraining's binary_logloss: 0.213789\tvalid_0's binary_logloss: 0.17793\n",
      "[LightGBM] [Warning] No further splits with positive gain, best gain: -inf\n",
      "[36]\ttraining's binary_logloss: 0.212253\tvalid_0's binary_logloss: 0.17793\n",
      "[37]\ttraining's binary_logloss: 0.20912\tvalid_0's binary_logloss: 0.179272\n",
      "[LightGBM] [Warning] No further splits with positive gain, best gain: -inf\n",
      "[38]\ttraining's binary_logloss: 0.207161\tvalid_0's binary_logloss: 0.180863\n",
      "[39]\ttraining's binary_logloss: 0.204479\tvalid_0's binary_logloss: 0.181115\n",
      "[40]\ttraining's binary_logloss: 0.201186\tvalid_0's binary_logloss: 0.182731\n",
      "[41]\ttraining's binary_logloss: 0.198434\tvalid_0's binary_logloss: 0.182782\n",
      "[42]\ttraining's binary_logloss: 0.196021\tvalid_0's binary_logloss: 0.182891\n",
      "[43]\ttraining's binary_logloss: 0.193287\tvalid_0's binary_logloss: 0.182298\n",
      "[44]\ttraining's binary_logloss: 0.19048\tvalid_0's binary_logloss: 0.182323\n",
      "[45]\ttraining's binary_logloss: 0.187843\tvalid_0's binary_logloss: 0.183545\n",
      "[46]\ttraining's binary_logloss: 0.185561\tvalid_0's binary_logloss: 0.18348\n",
      "[47]\ttraining's binary_logloss: 0.183411\tvalid_0's binary_logloss: 0.186706\n",
      "[48]\ttraining's binary_logloss: 0.180868\tvalid_0's binary_logloss: 0.185954\n",
      "[49]\ttraining's binary_logloss: 0.17844\tvalid_0's binary_logloss: 0.187045\n",
      "[LightGBM] [Warning] No further splits with positive gain, best gain: -inf\n",
      "[50]\ttraining's binary_logloss: 0.177159\tvalid_0's binary_logloss: 0.18648\n",
      "[51]\ttraining's binary_logloss: 0.174914\tvalid_0's binary_logloss: 0.186688\n",
      "[52]\ttraining's binary_logloss: 0.17262\tvalid_0's binary_logloss: 0.190182\n",
      "[53]\ttraining's binary_logloss: 0.170473\tvalid_0's binary_logloss: 0.190195\n",
      "[54]\ttraining's binary_logloss: 0.168525\tvalid_0's binary_logloss: 0.190195\n",
      "[55]\ttraining's binary_logloss: 0.166441\tvalid_0's binary_logloss: 0.191886\n",
      "[56]\ttraining's binary_logloss: 0.164535\tvalid_0's binary_logloss: 0.195111\n",
      "[57]\ttraining's binary_logloss: 0.162528\tvalid_0's binary_logloss: 0.193301\n",
      "[58]\ttraining's binary_logloss: 0.160231\tvalid_0's binary_logloss: 0.192417\n",
      "[LightGBM] [Warning] No further splits with positive gain, best gain: -inf\n",
      "[59]\ttraining's binary_logloss: 0.159047\tvalid_0's binary_logloss: 0.19355\n",
      "[60]\ttraining's binary_logloss: 0.157003\tvalid_0's binary_logloss: 0.194292\n",
      "[LightGBM] [Warning] No further splits with positive gain, best gain: -inf\n",
      "[61]\ttraining's binary_logloss: 0.155239\tvalid_0's binary_logloss: 0.193739\n",
      "[LightGBM] [Warning] No further splits with positive gain, best gain: -inf\n",
      "[62]\ttraining's binary_logloss: 0.153875\tvalid_0's binary_logloss: 0.193739\n",
      "[63]\ttraining's binary_logloss: 0.152024\tvalid_0's binary_logloss: 0.193739\n",
      "[LightGBM] [Warning] No further splits with positive gain, best gain: -inf\n",
      "[64]\ttraining's binary_logloss: 0.15076\tvalid_0's binary_logloss: 0.193739\n",
      "[65]\ttraining's binary_logloss: 0.148977\tvalid_0's binary_logloss: 0.194823\n",
      "[LightGBM] [Warning] No further splits with positive gain, best gain: -inf\n",
      "[66]\ttraining's binary_logloss: 0.147734\tvalid_0's binary_logloss: 0.196789\n",
      "[LightGBM] [Warning] No further splits with positive gain, best gain: -inf\n",
      "[67]\ttraining's binary_logloss: 0.146393\tvalid_0's binary_logloss: 0.194806\n",
      "[68]\ttraining's binary_logloss: 0.144842\tvalid_0's binary_logloss: 0.196142\n",
      "[69]\ttraining's binary_logloss: 0.143121\tvalid_0's binary_logloss: 0.196146\n",
      "[70]\ttraining's binary_logloss: 0.14146\tvalid_0's binary_logloss: 0.198223\n",
      "[71]\ttraining's binary_logloss: 0.139586\tvalid_0's binary_logloss: 0.196533\n",
      "[LightGBM] [Warning] No further splits with positive gain, best gain: -inf\n",
      "[72]\ttraining's binary_logloss: 0.138569\tvalid_0's binary_logloss: 0.197014\n",
      "[LightGBM] [Warning] No further splits with positive gain, best gain: -inf\n",
      "[73]\ttraining's binary_logloss: 0.137661\tvalid_0's binary_logloss: 0.194131\n",
      "[74]\ttraining's binary_logloss: 0.136102\tvalid_0's binary_logloss: 0.19533\n",
      "[75]\ttraining's binary_logloss: 0.134471\tvalid_0's binary_logloss: 0.19533\n",
      "[LightGBM] [Warning] No further splits with positive gain, best gain: -inf\n",
      "[76]\ttraining's binary_logloss: 0.133222\tvalid_0's binary_logloss: 0.196145\n",
      "[LightGBM] [Warning] No further splits with positive gain, best gain: -inf\n",
      "[77]\ttraining's binary_logloss: 0.132119\tvalid_0's binary_logloss: 0.196145\n",
      "[78]\ttraining's binary_logloss: 0.130635\tvalid_0's binary_logloss: 0.198097\n",
      "[79]\ttraining's binary_logloss: 0.129087\tvalid_0's binary_logloss: 0.198639\n",
      "[80]\ttraining's binary_logloss: 0.127369\tvalid_0's binary_logloss: 0.198326\n",
      "[LightGBM] [Warning] No further splits with positive gain, best gain: -inf\n",
      "[81]\ttraining's binary_logloss: 0.126059\tvalid_0's binary_logloss: 0.198326\n",
      "[LightGBM] [Warning] No further splits with positive gain, best gain: -inf\n",
      "[82]\ttraining's binary_logloss: 0.125361\tvalid_0's binary_logloss: 0.199574\n",
      "[83]\ttraining's binary_logloss: 0.123753\tvalid_0's binary_logloss: 0.199899\n",
      "[LightGBM] [Warning] No further splits with positive gain, best gain: -inf\n",
      "[84]\ttraining's binary_logloss: 0.122718\tvalid_0's binary_logloss: 0.198676\n",
      "[LightGBM] [Warning] No further splits with positive gain, best gain: -inf\n",
      "[85]\ttraining's binary_logloss: 0.121755\tvalid_0's binary_logloss: 0.200836\n",
      "[LightGBM] [Warning] No further splits with positive gain, best gain: -inf\n",
      "[86]\ttraining's binary_logloss: 0.120772\tvalid_0's binary_logloss: 0.201657\n",
      "[LightGBM] [Warning] No further splits with positive gain, best gain: -inf\n",
      "[87]\ttraining's binary_logloss: 0.119862\tvalid_0's binary_logloss: 0.199665\n",
      "[88]\ttraining's binary_logloss: 0.118425\tvalid_0's binary_logloss: 0.200885\n",
      "[89]\ttraining's binary_logloss: 0.117114\tvalid_0's binary_logloss: 0.20247\n",
      "[LightGBM] [Warning] No further splits with positive gain, best gain: -inf\n",
      "[90]\ttraining's binary_logloss: 0.116046\tvalid_0's binary_logloss: 0.203839\n",
      "[91]\ttraining's binary_logloss: 0.11486\tvalid_0's binary_logloss: 0.204619\n",
      "[92]\ttraining's binary_logloss: 0.11357\tvalid_0's binary_logloss: 0.205524\n",
      "[93]\ttraining's binary_logloss: 0.112307\tvalid_0's binary_logloss: 0.204141\n",
      "[94]\ttraining's binary_logloss: 0.111038\tvalid_0's binary_logloss: 0.204178\n",
      "[LightGBM] [Warning] No further splits with positive gain, best gain: -inf\n",
      "[95]\ttraining's binary_logloss: 0.109894\tvalid_0's binary_logloss: 0.202416\n",
      "[LightGBM] [Warning] No further splits with positive gain, best gain: -inf\n",
      "[96]\ttraining's binary_logloss: 0.108874\tvalid_0's binary_logloss: 0.202416\n",
      "[97]\ttraining's binary_logloss: 0.107763\tvalid_0's binary_logloss: 0.204367\n",
      "[98]\ttraining's binary_logloss: 0.106396\tvalid_0's binary_logloss: 0.204383\n",
      "[99]\ttraining's binary_logloss: 0.105345\tvalid_0's binary_logloss: 0.205193\n",
      "[100]\ttraining's binary_logloss: 0.103972\tvalid_0's binary_logloss: 0.205193\n",
      "[LightGBM] [Warning] No further splits with positive gain, best gain: -inf\n",
      "[101]\ttraining's binary_logloss: 0.10291\tvalid_0's binary_logloss: 0.207767\n",
      "[LightGBM] [Warning] No further splits with positive gain, best gain: -inf\n",
      "[102]\ttraining's binary_logloss: 0.101945\tvalid_0's binary_logloss: 0.208577\n",
      "[LightGBM] [Warning] No further splits with positive gain, best gain: -inf\n",
      "[103]\ttraining's binary_logloss: 0.101006\tvalid_0's binary_logloss: 0.208577\n",
      "[LightGBM] [Warning] No further splits with positive gain, best gain: -inf\n",
      "[104]\ttraining's binary_logloss: 0.100324\tvalid_0's binary_logloss: 0.212893\n",
      "[LightGBM] [Warning] No further splits with positive gain, best gain: -inf\n",
      "[105]\ttraining's binary_logloss: 0.0995488\tvalid_0's binary_logloss: 0.212893\n",
      "[LightGBM] [Warning] No further splits with positive gain, best gain: -inf\n",
      "[106]\ttraining's binary_logloss: 0.0987146\tvalid_0's binary_logloss: 0.213794\n",
      "[107]\ttraining's binary_logloss: 0.097765\tvalid_0's binary_logloss: 0.214012\n",
      "[LightGBM] [Warning] No further splits with positive gain, best gain: -inf\n",
      "[108]\ttraining's binary_logloss: 0.0970105\tvalid_0's binary_logloss: 0.215942\n",
      "[109]\ttraining's binary_logloss: 0.0960133\tvalid_0's binary_logloss: 0.214969\n",
      "[LightGBM] [Warning] No further splits with positive gain, best gain: -inf\n",
      "[110]\ttraining's binary_logloss: 0.0953687\tvalid_0's binary_logloss: 0.216614\n",
      "[111]\ttraining's binary_logloss: 0.0943886\tvalid_0's binary_logloss: 0.217276\n",
      "[LightGBM] [Warning] No further splits with positive gain, best gain: -inf\n",
      "[112]\ttraining's binary_logloss: 0.0934672\tvalid_0's binary_logloss: 0.215823\n",
      "[113]\ttraining's binary_logloss: 0.0923776\tvalid_0's binary_logloss: 0.215347\n",
      "[LightGBM] [Warning] No further splits with positive gain, best gain: -inf\n",
      "[114]\ttraining's binary_logloss: 0.0915858\tvalid_0's binary_logloss: 0.215322\n",
      "[LightGBM] [Warning] No further splits with positive gain, best gain: -inf\n",
      "[115]\ttraining's binary_logloss: 0.0906811\tvalid_0's binary_logloss: 0.214073\n",
      "[116]\ttraining's binary_logloss: 0.0898028\tvalid_0's binary_logloss: 0.213791\n",
      "[LightGBM] [Warning] No further splits with positive gain, best gain: -inf\n",
      "[117]\ttraining's binary_logloss: 0.0890842\tvalid_0's binary_logloss: 0.212733\n",
      "[LightGBM] [Warning] No further splits with positive gain, best gain: -inf\n",
      "[118]\ttraining's binary_logloss: 0.0883879\tvalid_0's binary_logloss: 0.212068\n",
      "[LightGBM] [Warning] No further splits with positive gain, best gain: -inf\n",
      "[119]\ttraining's binary_logloss: 0.0878576\tvalid_0's binary_logloss: 0.211789\n",
      "[120]\ttraining's binary_logloss: 0.0869745\tvalid_0's binary_logloss: 0.212249\n",
      "[LightGBM] [Warning] No further splits with positive gain, best gain: -inf\n",
      "[121]\ttraining's binary_logloss: 0.0861667\tvalid_0's binary_logloss: 0.214432\n",
      "[LightGBM] [Warning] No further splits with positive gain, best gain: -inf\n",
      "[122]\ttraining's binary_logloss: 0.0858055\tvalid_0's binary_logloss: 0.21468\n",
      "[123]\ttraining's binary_logloss: 0.0850064\tvalid_0's binary_logloss: 0.214432\n",
      "[LightGBM] [Warning] No further splits with positive gain, best gain: -inf\n",
      "[124]\ttraining's binary_logloss: 0.084458\tvalid_0's binary_logloss: 0.217032\n",
      "[125]\ttraining's binary_logloss: 0.0837256\tvalid_0's binary_logloss: 0.218568\n",
      "Accuracy of random forest classifier on validation set using 25th quantile: 0.95\n",
      "Accuracy of random forest classifier on test set using 25th quantile: 0.95\n"
     ]
    },
    {
     "data": {
      "image/png": "[encoded data removed]",
      "text/plain": [
       "<Figure size 400x300 with 1 Axes>"
      ]
     },
     "metadata": {},
     "output_type": "display_data"
    },
    {
     "data": {
      "image/png": "[encoded data removed]",
      "text/plain": [
       "<Figure size 400x300 with 1 Axes>"
      ]
     },
     "metadata": {},
     "output_type": "display_data"
    }
   ],
   "source": [
    "lgbmodel(X_train_25, y_train.values.ravel(), X_val_25, y_val.values.ravel(), X_test_25, y_test.values.ravel(), \"25th quantile\")"
   ]
  },
  {
   "cell_type": "code",
   "execution_count": 57,
   "metadata": {},
   "outputs": [
    {
     "name": "stdout",
     "output_type": "stream",
     "text": [
      "[LightGBM] [Warning] min_data_in_leaf is set=30, min_child_samples=20 will be ignored. Current value: min_data_in_leaf=30\n",
      "[LightGBM] [Warning] lambda_l1 is set=0.5, reg_alpha=1.5 will be ignored. Current value: lambda_l1=0.5\n",
      "[LightGBM] [Warning] lambda_l2 is set=0, reg_lambda=1.5 will be ignored. Current value: lambda_l2=0\n",
      "[LightGBM] [Info] Number of positive: 5483, number of negative: 24923\n",
      "[LightGBM] [Warning] Auto-choosing col-wise multi-threading, the overhead of testing was 0.005072 seconds.\n",
      "You can set `force_col_wise=true` to remove the overhead.\n",
      "[LightGBM] [Info] Total Bins 2541\n",
      "[LightGBM] [Info] Number of data points in the train set: 30406, number of used features: 26\n",
      "[LightGBM] [Warning] min_data_in_leaf is set=30, min_child_samples=20 will be ignored. Current value: min_data_in_leaf=30\n",
      "[LightGBM] [Warning] lambda_l1 is set=0.5, reg_alpha=1.5 will be ignored. Current value: lambda_l1=0.5\n",
      "[LightGBM] [Warning] lambda_l2 is set=0, reg_lambda=1.5 will be ignored. Current value: lambda_l2=0\n",
      "[LightGBM] [Info] [binary:BoostFromScore]: pavg=0.180326 -> initscore=-1.514139\n",
      "[LightGBM] [Info] Start training from score -1.514139\n",
      "[1]\ttraining's binary_logloss: 0.412483\tvalid_0's binary_logloss: 0.271087\n",
      "[2]\ttraining's binary_logloss: 0.379698\tvalid_0's binary_logloss: 0.267828\n",
      "[3]\ttraining's binary_logloss: 0.356658\tvalid_0's binary_logloss: 0.257497\n",
      "[4]\ttraining's binary_logloss: 0.339378\tvalid_0's binary_logloss: 0.244557\n",
      "[5]\ttraining's binary_logloss: 0.325301\tvalid_0's binary_logloss: 0.237582\n",
      "[6]\ttraining's binary_logloss: 0.314093\tvalid_0's binary_logloss: 0.234608\n",
      "[7]\ttraining's binary_logloss: 0.304707\tvalid_0's binary_logloss: 0.22569\n",
      "[8]\ttraining's binary_logloss: 0.297079\tvalid_0's binary_logloss: 0.218114\n",
      "[9]\ttraining's binary_logloss: 0.290877\tvalid_0's binary_logloss: 0.211183\n",
      "[10]\ttraining's binary_logloss: 0.285286\tvalid_0's binary_logloss: 0.208706\n",
      "[11]\ttraining's binary_logloss: 0.28028\tvalid_0's binary_logloss: 0.215084\n",
      "[12]\ttraining's binary_logloss: 0.275513\tvalid_0's binary_logloss: 0.209593\n",
      "[13]\ttraining's binary_logloss: 0.271472\tvalid_0's binary_logloss: 0.207394\n",
      "[14]\ttraining's binary_logloss: 0.267584\tvalid_0's binary_logloss: 0.204871\n",
      "[15]\ttraining's binary_logloss: 0.263794\tvalid_0's binary_logloss: 0.206312\n",
      "[16]\ttraining's binary_logloss: 0.260523\tvalid_0's binary_logloss: 0.202144\n",
      "[17]\ttraining's binary_logloss: 0.256905\tvalid_0's binary_logloss: 0.201594\n",
      "[18]\ttraining's binary_logloss: 0.253093\tvalid_0's binary_logloss: 0.198935\n",
      "[19]\ttraining's binary_logloss: 0.25006\tvalid_0's binary_logloss: 0.196219\n",
      "[20]\ttraining's binary_logloss: 0.247136\tvalid_0's binary_logloss: 0.194771\n",
      "[21]\ttraining's binary_logloss: 0.244399\tvalid_0's binary_logloss: 0.193682\n",
      "[22]\ttraining's binary_logloss: 0.241761\tvalid_0's binary_logloss: 0.192725\n",
      "[23]\ttraining's binary_logloss: 0.239386\tvalid_0's binary_logloss: 0.191471\n",
      "[24]\ttraining's binary_logloss: 0.236197\tvalid_0's binary_logloss: 0.191619\n",
      "[25]\ttraining's binary_logloss: 0.233536\tvalid_0's binary_logloss: 0.192448\n",
      "[26]\ttraining's binary_logloss: 0.231064\tvalid_0's binary_logloss: 0.192834\n",
      "[27]\ttraining's binary_logloss: 0.228737\tvalid_0's binary_logloss: 0.194932\n",
      "[28]\ttraining's binary_logloss: 0.226231\tvalid_0's binary_logloss: 0.194629\n",
      "[29]\ttraining's binary_logloss: 0.22409\tvalid_0's binary_logloss: 0.195592\n",
      "[30]\ttraining's binary_logloss: 0.2219\tvalid_0's binary_logloss: 0.197087\n",
      "[31]\ttraining's binary_logloss: 0.220157\tvalid_0's binary_logloss: 0.196032\n",
      "[32]\ttraining's binary_logloss: 0.217889\tvalid_0's binary_logloss: 0.197006\n",
      "[33]\ttraining's binary_logloss: 0.215967\tvalid_0's binary_logloss: 0.198743\n",
      "[34]\ttraining's binary_logloss: 0.213644\tvalid_0's binary_logloss: 0.200523\n",
      "[35]\ttraining's binary_logloss: 0.211529\tvalid_0's binary_logloss: 0.201947\n",
      "[36]\ttraining's binary_logloss: 0.209372\tvalid_0's binary_logloss: 0.20162\n",
      "[37]\ttraining's binary_logloss: 0.207359\tvalid_0's binary_logloss: 0.201425\n",
      "[38]\ttraining's binary_logloss: 0.205534\tvalid_0's binary_logloss: 0.204938\n",
      "[39]\ttraining's binary_logloss: 0.203782\tvalid_0's binary_logloss: 0.204661\n",
      "[40]\ttraining's binary_logloss: 0.201868\tvalid_0's binary_logloss: 0.202896\n",
      "[41]\ttraining's binary_logloss: 0.199927\tvalid_0's binary_logloss: 0.206245\n",
      "[42]\ttraining's binary_logloss: 0.198215\tvalid_0's binary_logloss: 0.203973\n",
      "[43]\ttraining's binary_logloss: 0.196587\tvalid_0's binary_logloss: 0.205708\n",
      "[44]\ttraining's binary_logloss: 0.194715\tvalid_0's binary_logloss: 0.207785\n",
      "[45]\ttraining's binary_logloss: 0.19294\tvalid_0's binary_logloss: 0.207731\n",
      "[46]\ttraining's binary_logloss: 0.191472\tvalid_0's binary_logloss: 0.210361\n",
      "[47]\ttraining's binary_logloss: 0.189799\tvalid_0's binary_logloss: 0.212483\n",
      "[48]\ttraining's binary_logloss: 0.188085\tvalid_0's binary_logloss: 0.214793\n",
      "[49]\ttraining's binary_logloss: 0.18648\tvalid_0's binary_logloss: 0.219223\n",
      "[50]\ttraining's binary_logloss: 0.184888\tvalid_0's binary_logloss: 0.218596\n",
      "[51]\ttraining's binary_logloss: 0.183418\tvalid_0's binary_logloss: 0.218522\n",
      "[52]\ttraining's binary_logloss: 0.181857\tvalid_0's binary_logloss: 0.218211\n",
      "[53]\ttraining's binary_logloss: 0.180381\tvalid_0's binary_logloss: 0.221754\n",
      "[54]\ttraining's binary_logloss: 0.179202\tvalid_0's binary_logloss: 0.221649\n",
      "[55]\ttraining's binary_logloss: 0.177873\tvalid_0's binary_logloss: 0.226135\n",
      "[56]\ttraining's binary_logloss: 0.176504\tvalid_0's binary_logloss: 0.228221\n",
      "[57]\ttraining's binary_logloss: 0.175072\tvalid_0's binary_logloss: 0.227035\n",
      "[58]\ttraining's binary_logloss: 0.173787\tvalid_0's binary_logloss: 0.228553\n",
      "[59]\ttraining's binary_logloss: 0.172332\tvalid_0's binary_logloss: 0.228637\n",
      "[60]\ttraining's binary_logloss: 0.170796\tvalid_0's binary_logloss: 0.233431\n",
      "[61]\ttraining's binary_logloss: 0.169626\tvalid_0's binary_logloss: 0.23617\n",
      "[62]\ttraining's binary_logloss: 0.16832\tvalid_0's binary_logloss: 0.242449\n",
      "[63]\ttraining's binary_logloss: 0.167035\tvalid_0's binary_logloss: 0.244119\n",
      "[64]\ttraining's binary_logloss: 0.165758\tvalid_0's binary_logloss: 0.244449\n",
      "[65]\ttraining's binary_logloss: 0.164554\tvalid_0's binary_logloss: 0.242145\n",
      "[66]\ttraining's binary_logloss: 0.163404\tvalid_0's binary_logloss: 0.245402\n",
      "[67]\ttraining's binary_logloss: 0.16221\tvalid_0's binary_logloss: 0.247593\n",
      "[68]\ttraining's binary_logloss: 0.161109\tvalid_0's binary_logloss: 0.248813\n",
      "[69]\ttraining's binary_logloss: 0.159771\tvalid_0's binary_logloss: 0.248675\n",
      "[70]\ttraining's binary_logloss: 0.158583\tvalid_0's binary_logloss: 0.25454\n",
      "[71]\ttraining's binary_logloss: 0.157308\tvalid_0's binary_logloss: 0.252692\n",
      "[72]\ttraining's binary_logloss: 0.156063\tvalid_0's binary_logloss: 0.252665\n",
      "[73]\ttraining's binary_logloss: 0.154735\tvalid_0's binary_logloss: 0.24965\n",
      "[74]\ttraining's binary_logloss: 0.1536\tvalid_0's binary_logloss: 0.249611\n",
      "[75]\ttraining's binary_logloss: 0.152409\tvalid_0's binary_logloss: 0.252082\n",
      "[76]\ttraining's binary_logloss: 0.151289\tvalid_0's binary_logloss: 0.253534\n",
      "[77]\ttraining's binary_logloss: 0.150187\tvalid_0's binary_logloss: 0.256723\n",
      "[78]\ttraining's binary_logloss: 0.148902\tvalid_0's binary_logloss: 0.253902\n",
      "[79]\ttraining's binary_logloss: 0.147868\tvalid_0's binary_logloss: 0.256309\n",
      "[80]\ttraining's binary_logloss: 0.1469\tvalid_0's binary_logloss: 0.260295\n",
      "[81]\ttraining's binary_logloss: 0.145834\tvalid_0's binary_logloss: 0.263145\n",
      "[82]\ttraining's binary_logloss: 0.144649\tvalid_0's binary_logloss: 0.267278\n",
      "[83]\ttraining's binary_logloss: 0.143613\tvalid_0's binary_logloss: 0.266066\n",
      "[84]\ttraining's binary_logloss: 0.142677\tvalid_0's binary_logloss: 0.266066\n",
      "[85]\ttraining's binary_logloss: 0.141646\tvalid_0's binary_logloss: 0.270488\n",
      "[86]\ttraining's binary_logloss: 0.14058\tvalid_0's binary_logloss: 0.266672\n",
      "[87]\ttraining's binary_logloss: 0.139571\tvalid_0's binary_logloss: 0.264581\n",
      "[88]\ttraining's binary_logloss: 0.13851\tvalid_0's binary_logloss: 0.264559\n",
      "[89]\ttraining's binary_logloss: 0.13744\tvalid_0's binary_logloss: 0.268455\n",
      "[90]\ttraining's binary_logloss: 0.136513\tvalid_0's binary_logloss: 0.267143\n",
      "[91]\ttraining's binary_logloss: 0.135508\tvalid_0's binary_logloss: 0.270635\n",
      "[92]\ttraining's binary_logloss: 0.134615\tvalid_0's binary_logloss: 0.271184\n",
      "[93]\ttraining's binary_logloss: 0.133606\tvalid_0's binary_logloss: 0.271305\n",
      "[94]\ttraining's binary_logloss: 0.132673\tvalid_0's binary_logloss: 0.272835\n",
      "[95]\ttraining's binary_logloss: 0.131611\tvalid_0's binary_logloss: 0.273438\n",
      "[96]\ttraining's binary_logloss: 0.130707\tvalid_0's binary_logloss: 0.273679\n",
      "[97]\ttraining's binary_logloss: 0.129737\tvalid_0's binary_logloss: 0.273594\n",
      "[98]\ttraining's binary_logloss: 0.128869\tvalid_0's binary_logloss: 0.276368\n",
      "[99]\ttraining's binary_logloss: 0.12801\tvalid_0's binary_logloss: 0.278065\n",
      "[100]\ttraining's binary_logloss: 0.127135\tvalid_0's binary_logloss: 0.281801\n",
      "Accuracy of random forest classifier on validation set using 50th quantile: 0.95\n",
      "Accuracy of random forest classifier on test set using 50th quantile: 0.95\n"
     ]
    },
    {
     "data": {
      "image/png": "[encoded data removed]",
      "text/plain": [
       "<Figure size 400x300 with 1 Axes>"
      ]
     },
     "metadata": {},
     "output_type": "display_data"
    },
    {
     "data": {
      "image/png": "[encoded data removed]",
      "text/plain": [
       "<Figure size 400x300 with 1 Axes>"
      ]
     },
     "metadata": {},
     "output_type": "display_data"
    }
   ],
   "source": [
    "lgbmodel(X_train_50, y_train.values.ravel(), X_val_50, y_val.values.ravel(), X_test_50, y_test.values.ravel(), \"50th quantile\")\n"
   ]
  },
  {
   "cell_type": "code",
   "execution_count": 49,
   "metadata": {},
   "outputs": [
    {
     "name": "stdout",
     "output_type": "stream",
     "text": [
      "[LightGBM] [Warning] min_data_in_leaf is set=25, min_child_samples=20 will be ignored. Current value: min_data_in_leaf=25\n",
      "[LightGBM] [Warning] lambda_l1 is set=1.5, reg_alpha=1.5 will be ignored. Current value: lambda_l1=1.5\n",
      "[LightGBM] [Warning] lambda_l2 is set=0, reg_lambda=2 will be ignored. Current value: lambda_l2=0\n",
      "[LightGBM] [Warning] min_data_in_leaf is set=25, min_child_samples=20 will be ignored. Current value: min_data_in_leaf=25\n",
      "[LightGBM] [Warning] lambda_l1 is set=1.5, reg_alpha=1.5 will be ignored. Current value: lambda_l1=1.5\n",
      "[LightGBM] [Warning] lambda_l2 is set=0, reg_lambda=2 will be ignored. Current value: lambda_l2=0\n",
      "[LightGBM] [Info] Number of positive: 5483, number of negative: 24923\n",
      "[LightGBM] [Warning] Auto-choosing col-wise multi-threading, the overhead of testing was 0.005834 seconds.\n",
      "You can set `force_col_wise=true` to remove the overhead.\n",
      "[LightGBM] [Info] Total Bins 2544\n",
      "[LightGBM] [Info] Number of data points in the train set: 30406, number of used features: 26\n",
      "[LightGBM] [Warning] min_data_in_leaf is set=25, min_child_samples=20 will be ignored. Current value: min_data_in_leaf=25\n",
      "[LightGBM] [Warning] lambda_l1 is set=1.5, reg_alpha=1.5 will be ignored. Current value: lambda_l1=1.5\n",
      "[LightGBM] [Warning] lambda_l2 is set=0, reg_lambda=2 will be ignored. Current value: lambda_l2=0\n",
      "[LightGBM] [Info] [binary:BoostFromScore]: pavg=0.180326 -> initscore=-1.514139\n",
      "[LightGBM] [Info] Start training from score -1.514139\n",
      "[1]\ttraining's binary_logloss: 0.414788\tvalid_0's binary_logloss: 0.281428\n",
      "[2]\ttraining's binary_logloss: 0.387632\tvalid_0's binary_logloss: 0.283013\n",
      "[3]\ttraining's binary_logloss: 0.372145\tvalid_0's binary_logloss: 0.28636\n",
      "[4]\ttraining's binary_logloss: 0.362379\tvalid_0's binary_logloss: 0.292392\n",
      "[5]\ttraining's binary_logloss: 0.355433\tvalid_0's binary_logloss: 0.284153\n",
      "[6]\ttraining's binary_logloss: 0.35044\tvalid_0's binary_logloss: 0.285459\n",
      "[7]\ttraining's binary_logloss: 0.345736\tvalid_0's binary_logloss: 0.328782\n",
      "[8]\ttraining's binary_logloss: 0.342983\tvalid_0's binary_logloss: 0.314151\n",
      "[9]\ttraining's binary_logloss: 0.340777\tvalid_0's binary_logloss: 0.299312\n",
      "[10]\ttraining's binary_logloss: 0.338335\tvalid_0's binary_logloss: 0.293231\n",
      "[11]\ttraining's binary_logloss: 0.336149\tvalid_0's binary_logloss: 0.303999\n",
      "[12]\ttraining's binary_logloss: 0.333735\tvalid_0's binary_logloss: 0.283803\n",
      "[13]\ttraining's binary_logloss: 0.330531\tvalid_0's binary_logloss: 0.266801\n",
      "[14]\ttraining's binary_logloss: 0.327705\tvalid_0's binary_logloss: 0.277345\n",
      "[15]\ttraining's binary_logloss: 0.324466\tvalid_0's binary_logloss: 0.264033\n",
      "[16]\ttraining's binary_logloss: 0.321736\tvalid_0's binary_logloss: 0.258846\n",
      "[17]\ttraining's binary_logloss: 0.318367\tvalid_0's binary_logloss: 0.273308\n",
      "[18]\ttraining's binary_logloss: 0.315346\tvalid_0's binary_logloss: 0.267333\n",
      "[19]\ttraining's binary_logloss: 0.312921\tvalid_0's binary_logloss: 0.251593\n",
      "[20]\ttraining's binary_logloss: 0.309859\tvalid_0's binary_logloss: 0.239573\n",
      "[21]\ttraining's binary_logloss: 0.306513\tvalid_0's binary_logloss: 0.228937\n",
      "[22]\ttraining's binary_logloss: 0.302594\tvalid_0's binary_logloss: 0.222125\n",
      "[23]\ttraining's binary_logloss: 0.299217\tvalid_0's binary_logloss: 0.230045\n",
      "[24]\ttraining's binary_logloss: 0.296086\tvalid_0's binary_logloss: 0.220223\n",
      "[25]\ttraining's binary_logloss: 0.292541\tvalid_0's binary_logloss: 0.214983\n",
      "[26]\ttraining's binary_logloss: 0.288634\tvalid_0's binary_logloss: 0.207346\n",
      "[27]\ttraining's binary_logloss: 0.285233\tvalid_0's binary_logloss: 0.205944\n",
      "[28]\ttraining's binary_logloss: 0.281641\tvalid_0's binary_logloss: 0.203689\n",
      "[29]\ttraining's binary_logloss: 0.278782\tvalid_0's binary_logloss: 0.204265\n",
      "[30]\ttraining's binary_logloss: 0.275354\tvalid_0's binary_logloss: 0.202425\n",
      "[31]\ttraining's binary_logloss: 0.272039\tvalid_0's binary_logloss: 0.19949\n",
      "[32]\ttraining's binary_logloss: 0.269049\tvalid_0's binary_logloss: 0.199675\n",
      "[33]\ttraining's binary_logloss: 0.265692\tvalid_0's binary_logloss: 0.203933\n",
      "[34]\ttraining's binary_logloss: 0.26271\tvalid_0's binary_logloss: 0.201078\n",
      "[35]\ttraining's binary_logloss: 0.260225\tvalid_0's binary_logloss: 0.199585\n",
      "[36]\ttraining's binary_logloss: 0.256887\tvalid_0's binary_logloss: 0.199373\n",
      "[37]\ttraining's binary_logloss: 0.253164\tvalid_0's binary_logloss: 0.198608\n",
      "[38]\ttraining's binary_logloss: 0.250028\tvalid_0's binary_logloss: 0.19971\n",
      "[LightGBM] [Warning] No further splits with positive gain, best gain: -inf\n",
      "[39]\ttraining's binary_logloss: 0.248193\tvalid_0's binary_logloss: 0.200896\n",
      "[LightGBM] [Warning] No further splits with positive gain, best gain: -inf\n",
      "[40]\ttraining's binary_logloss: 0.246362\tvalid_0's binary_logloss: 0.201589\n",
      "[LightGBM] [Warning] No further splits with positive gain, best gain: -inf\n",
      "[41]\ttraining's binary_logloss: 0.24415\tvalid_0's binary_logloss: 0.200665\n",
      "[42]\ttraining's binary_logloss: 0.241307\tvalid_0's binary_logloss: 0.201303\n",
      "[43]\ttraining's binary_logloss: 0.237955\tvalid_0's binary_logloss: 0.20215\n",
      "[LightGBM] [Warning] No further splits with positive gain, best gain: -inf\n",
      "[44]\ttraining's binary_logloss: 0.235579\tvalid_0's binary_logloss: 0.205112\n",
      "[LightGBM] [Warning] No further splits with positive gain, best gain: -inf\n",
      "[45]\ttraining's binary_logloss: 0.234087\tvalid_0's binary_logloss: 0.204122\n",
      "[LightGBM] [Warning] No further splits with positive gain, best gain: -inf\n",
      "[46]\ttraining's binary_logloss: 0.231759\tvalid_0's binary_logloss: 0.203077\n",
      "[47]\ttraining's binary_logloss: 0.228944\tvalid_0's binary_logloss: 0.202374\n",
      "[LightGBM] [Warning] No further splits with positive gain, best gain: -inf\n",
      "[48]\ttraining's binary_logloss: 0.227138\tvalid_0's binary_logloss: 0.201996\n",
      "[LightGBM] [Warning] No further splits with positive gain, best gain: -inf\n",
      "[49]\ttraining's binary_logloss: 0.224909\tvalid_0's binary_logloss: 0.201996\n",
      "[LightGBM] [Warning] No further splits with positive gain, best gain: -inf\n",
      "[50]\ttraining's binary_logloss: 0.22319\tvalid_0's binary_logloss: 0.200629\n",
      "[51]\ttraining's binary_logloss: 0.220857\tvalid_0's binary_logloss: 0.20057\n",
      "[LightGBM] [Warning] No further splits with positive gain, best gain: -inf\n",
      "[52]\ttraining's binary_logloss: 0.21938\tvalid_0's binary_logloss: 0.200757\n",
      "[53]\ttraining's binary_logloss: 0.216589\tvalid_0's binary_logloss: 0.200986\n",
      "[54]\ttraining's binary_logloss: 0.214103\tvalid_0's binary_logloss: 0.20229\n",
      "[LightGBM] [Warning] No further splits with positive gain, best gain: -inf\n",
      "[55]\ttraining's binary_logloss: 0.212903\tvalid_0's binary_logloss: 0.20229\n",
      "[LightGBM] [Warning] No further splits with positive gain, best gain: -inf\n",
      "[56]\ttraining's binary_logloss: 0.21115\tvalid_0's binary_logloss: 0.202499\n",
      "[LightGBM] [Warning] No further splits with positive gain, best gain: -inf\n",
      "[57]\ttraining's binary_logloss: 0.209753\tvalid_0's binary_logloss: 0.201982\n",
      "[58]\ttraining's binary_logloss: 0.207357\tvalid_0's binary_logloss: 0.203465\n",
      "[59]\ttraining's binary_logloss: 0.204687\tvalid_0's binary_logloss: 0.203583\n",
      "[LightGBM] [Warning] No further splits with positive gain, best gain: -inf\n",
      "[60]\ttraining's binary_logloss: 0.202544\tvalid_0's binary_logloss: 0.203583\n",
      "[61]\ttraining's binary_logloss: 0.199846\tvalid_0's binary_logloss: 0.203858\n",
      "[62]\ttraining's binary_logloss: 0.197718\tvalid_0's binary_logloss: 0.2033\n",
      "[LightGBM] [Warning] No further splits with positive gain, best gain: -inf\n",
      "[63]\ttraining's binary_logloss: 0.19688\tvalid_0's binary_logloss: 0.203194\n",
      "[LightGBM] [Warning] No further splits with positive gain, best gain: -inf\n",
      "[64]\ttraining's binary_logloss: 0.195365\tvalid_0's binary_logloss: 0.203386\n",
      "[65]\ttraining's binary_logloss: 0.193157\tvalid_0's binary_logloss: 0.203616\n",
      "[66]\ttraining's binary_logloss: 0.191232\tvalid_0's binary_logloss: 0.203477\n",
      "[67]\ttraining's binary_logloss: 0.188963\tvalid_0's binary_logloss: 0.2038\n",
      "[LightGBM] [Warning] No further splits with positive gain, best gain: -inf\n",
      "[68]\ttraining's binary_logloss: 0.187999\tvalid_0's binary_logloss: 0.204101\n",
      "[69]\ttraining's binary_logloss: 0.185662\tvalid_0's binary_logloss: 0.203767\n",
      "[70]\ttraining's binary_logloss: 0.183993\tvalid_0's binary_logloss: 0.203327\n",
      "[71]\ttraining's binary_logloss: 0.181706\tvalid_0's binary_logloss: 0.203633\n",
      "[LightGBM] [Warning] No further splits with positive gain, best gain: -inf\n",
      "[72]\ttraining's binary_logloss: 0.1813\tvalid_0's binary_logloss: 0.203579\n",
      "[73]\ttraining's binary_logloss: 0.179231\tvalid_0's binary_logloss: 0.203586\n",
      "[74]\ttraining's binary_logloss: 0.177176\tvalid_0's binary_logloss: 0.203716\n",
      "[75]\ttraining's binary_logloss: 0.175196\tvalid_0's binary_logloss: 0.202358\n",
      "[76]\ttraining's binary_logloss: 0.173299\tvalid_0's binary_logloss: 0.202358\n",
      "[LightGBM] [Warning] No further splits with positive gain, best gain: -inf\n",
      "[77]\ttraining's binary_logloss: 0.171612\tvalid_0's binary_logloss: 0.202497\n",
      "[78]\ttraining's binary_logloss: 0.169455\tvalid_0's binary_logloss: 0.201879\n",
      "[79]\ttraining's binary_logloss: 0.167473\tvalid_0's binary_logloss: 0.201405\n",
      "[LightGBM] [Warning] No further splits with positive gain, best gain: -inf\n",
      "[80]\ttraining's binary_logloss: 0.165883\tvalid_0's binary_logloss: 0.20147\n",
      "[81]\ttraining's binary_logloss: 0.164177\tvalid_0's binary_logloss: 0.201185\n",
      "[82]\ttraining's binary_logloss: 0.162398\tvalid_0's binary_logloss: 0.200572\n",
      "[83]\ttraining's binary_logloss: 0.16069\tvalid_0's binary_logloss: 0.20083\n",
      "[84]\ttraining's binary_logloss: 0.158747\tvalid_0's binary_logloss: 0.200878\n",
      "[LightGBM] [Warning] No further splits with positive gain, best gain: -inf\n",
      "[85]\ttraining's binary_logloss: 0.157569\tvalid_0's binary_logloss: 0.200724\n",
      "[LightGBM] [Warning] No further splits with positive gain, best gain: -inf\n",
      "[86]\ttraining's binary_logloss: 0.156962\tvalid_0's binary_logloss: 0.200918\n",
      "[87]\ttraining's binary_logloss: 0.155302\tvalid_0's binary_logloss: 0.201349\n",
      "[LightGBM] [Warning] No further splits with positive gain, best gain: -inf\n",
      "[88]\ttraining's binary_logloss: 0.153611\tvalid_0's binary_logloss: 0.201349\n",
      "[LightGBM] [Warning] No further splits with positive gain, best gain: -inf\n",
      "[89]\ttraining's binary_logloss: 0.152225\tvalid_0's binary_logloss: 0.201368\n",
      "[90]\ttraining's binary_logloss: 0.150538\tvalid_0's binary_logloss: 0.20208\n",
      "[LightGBM] [Warning] No further splits with positive gain, best gain: -inf\n",
      "[91]\ttraining's binary_logloss: 0.14927\tvalid_0's binary_logloss: 0.20208\n",
      "[92]\ttraining's binary_logloss: 0.14767\tvalid_0's binary_logloss: 0.202064\n",
      "[93]\ttraining's binary_logloss: 0.146038\tvalid_0's binary_logloss: 0.202137\n",
      "[94]\ttraining's binary_logloss: 0.144316\tvalid_0's binary_logloss: 0.199676\n",
      "[95]\ttraining's binary_logloss: 0.142747\tvalid_0's binary_logloss: 0.199621\n",
      "[96]\ttraining's binary_logloss: 0.141359\tvalid_0's binary_logloss: 0.199225\n",
      "[LightGBM] [Warning] No further splits with positive gain, best gain: -inf\n",
      "[97]\ttraining's binary_logloss: 0.140761\tvalid_0's binary_logloss: 0.199638\n",
      "[LightGBM] [Warning] No further splits with positive gain, best gain: -inf\n",
      "[98]\ttraining's binary_logloss: 0.139745\tvalid_0's binary_logloss: 0.198772\n",
      "[LightGBM] [Warning] No further splits with positive gain, best gain: -inf\n",
      "[99]\ttraining's binary_logloss: 0.138657\tvalid_0's binary_logloss: 0.198772\n",
      "[LightGBM] [Warning] No further splits with positive gain, best gain: -inf\n",
      "[100]\ttraining's binary_logloss: 0.138047\tvalid_0's binary_logloss: 0.199068\n",
      "[101]\ttraining's binary_logloss: 0.136465\tvalid_0's binary_logloss: 0.19926\n",
      "[102]\ttraining's binary_logloss: 0.135034\tvalid_0's binary_logloss: 0.200138\n",
      "[103]\ttraining's binary_logloss: 0.133593\tvalid_0's binary_logloss: 0.199539\n",
      "[LightGBM] [Warning] No further splits with positive gain, best gain: -inf\n",
      "[104]\ttraining's binary_logloss: 0.132819\tvalid_0's binary_logloss: 0.198679\n",
      "[105]\ttraining's binary_logloss: 0.1314\tvalid_0's binary_logloss: 0.198959\n",
      "[LightGBM] [Warning] No further splits with positive gain, best gain: -inf\n",
      "[106]\ttraining's binary_logloss: 0.130683\tvalid_0's binary_logloss: 0.19904\n",
      "[LightGBM] [Warning] No further splits with positive gain, best gain: -inf\n",
      "[107]\ttraining's binary_logloss: 0.129762\tvalid_0's binary_logloss: 0.199079\n",
      "[LightGBM] [Warning] No further splits with positive gain, best gain: -inf\n",
      "[108]\ttraining's binary_logloss: 0.128821\tvalid_0's binary_logloss: 0.198713\n",
      "[109]\ttraining's binary_logloss: 0.127627\tvalid_0's binary_logloss: 0.19877\n",
      "[110]\ttraining's binary_logloss: 0.126319\tvalid_0's binary_logloss: 0.197626\n",
      "[111]\ttraining's binary_logloss: 0.125092\tvalid_0's binary_logloss: 0.196712\n",
      "[112]\ttraining's binary_logloss: 0.123788\tvalid_0's binary_logloss: 0.196798\n",
      "[LightGBM] [Warning] No further splits with positive gain, best gain: -inf\n",
      "[113]\ttraining's binary_logloss: 0.123655\tvalid_0's binary_logloss: 0.19585\n",
      "[114]\ttraining's binary_logloss: 0.122532\tvalid_0's binary_logloss: 0.196705\n",
      "[LightGBM] [Warning] No further splits with positive gain, best gain: -inf\n",
      "[115]\ttraining's binary_logloss: 0.121702\tvalid_0's binary_logloss: 0.196763\n",
      "[LightGBM] [Warning] No further splits with positive gain, best gain: -inf\n",
      "[116]\ttraining's binary_logloss: 0.120659\tvalid_0's binary_logloss: 0.197354\n",
      "[117]\ttraining's binary_logloss: 0.119562\tvalid_0's binary_logloss: 0.197354\n",
      "[LightGBM] [Warning] No further splits with positive gain, best gain: -inf\n",
      "[118]\ttraining's binary_logloss: 0.118808\tvalid_0's binary_logloss: 0.197816\n",
      "[119]\ttraining's binary_logloss: 0.117614\tvalid_0's binary_logloss: 0.198165\n",
      "[120]\ttraining's binary_logloss: 0.116444\tvalid_0's binary_logloss: 0.198064\n",
      "[121]\ttraining's binary_logloss: 0.115262\tvalid_0's binary_logloss: 0.199044\n",
      "[122]\ttraining's binary_logloss: 0.114077\tvalid_0's binary_logloss: 0.200701\n",
      "[LightGBM] [Warning] No further splits with positive gain, best gain: -inf\n",
      "[123]\ttraining's binary_logloss: 0.113232\tvalid_0's binary_logloss: 0.200187\n",
      "[124]\ttraining's binary_logloss: 0.112172\tvalid_0's binary_logloss: 0.201129\n",
      "[LightGBM] [Warning] No further splits with positive gain, best gain: -inf\n",
      "[125]\ttraining's binary_logloss: 0.111399\tvalid_0's binary_logloss: 0.201071\n",
      "Accuracy of random forest classifier on validation set using 50th quantile: 0.95\n",
      "Accuracy of random forest classifier on test set using 50th quantile: 0.95\n"
     ]
    },
    {
     "data": {
      "image/png": "[encoded data removed]",
      "text/plain": [
       "<Figure size 400x300 with 1 Axes>"
      ]
     },
     "metadata": {},
     "output_type": "display_data"
    },
    {
     "data": {
      "image/png": "[encoded data removed]",
      "text/plain": [
       "<Figure size 400x300 with 1 Axes>"
      ]
     },
     "metadata": {},
     "output_type": "display_data"
    }
   ],
   "source": [
    "lgbmodel(X_train_75, y_train.values.ravel(), X_val_75, y_val.values.ravel(), X_test_75, y_test.values.ravel(), \"75th quantile\")"
   ]
  },
  {
   "cell_type": "code",
   "execution_count": 52,
   "metadata": {},
   "outputs": [
    {
     "name": "stdout",
     "output_type": "stream",
     "text": [
      "[LightGBM] [Warning] min_data_in_leaf is set=25, min_child_samples=20 will be ignored. Current value: min_data_in_leaf=25\n",
      "[LightGBM] [Warning] lambda_l1 is set=1.5, reg_alpha=1.5 will be ignored. Current value: lambda_l1=1.5\n",
      "[LightGBM] [Warning] lambda_l2 is set=0, reg_lambda=2 will be ignored. Current value: lambda_l2=0\n",
      "[LightGBM] [Warning] min_data_in_leaf is set=25, min_child_samples=20 will be ignored. Current value: min_data_in_leaf=25\n",
      "[LightGBM] [Warning] lambda_l1 is set=1.5, reg_alpha=1.5 will be ignored. Current value: lambda_l1=1.5\n",
      "[LightGBM] [Warning] lambda_l2 is set=0, reg_lambda=2 will be ignored. Current value: lambda_l2=0\n",
      "[LightGBM] [Info] Number of positive: 5483, number of negative: 24923\n",
      "[LightGBM] [Warning] Auto-choosing row-wise multi-threading, the overhead of testing was 0.000619 seconds.\n",
      "You can set `force_row_wise=true` to remove the overhead.\n",
      "And if memory is not enough, you can set `force_col_wise=true`.\n",
      "[LightGBM] [Info] Total Bins 2582\n",
      "[LightGBM] [Info] Number of data points in the train set: 30406, number of used features: 26\n",
      "[LightGBM] [Warning] min_data_in_leaf is set=25, min_child_samples=20 will be ignored. Current value: min_data_in_leaf=25\n",
      "[LightGBM] [Warning] lambda_l1 is set=1.5, reg_alpha=1.5 will be ignored. Current value: lambda_l1=1.5\n",
      "[LightGBM] [Warning] lambda_l2 is set=0, reg_lambda=2 will be ignored. Current value: lambda_l2=0\n",
      "[LightGBM] [Info] [binary:BoostFromScore]: pavg=0.180326 -> initscore=-1.514139\n",
      "[LightGBM] [Info] Start training from score -1.514139\n",
      "[1]\ttraining's binary_logloss: 0.407206\tvalid_0's binary_logloss: 0.273419\n",
      "[2]\ttraining's binary_logloss: 0.375312\tvalid_0's binary_logloss: 0.262419\n",
      "[3]\ttraining's binary_logloss: 0.356303\tvalid_0's binary_logloss: 0.25511\n",
      "[4]\ttraining's binary_logloss: 0.342141\tvalid_0's binary_logloss: 0.251742\n",
      "[5]\ttraining's binary_logloss: 0.332718\tvalid_0's binary_logloss: 0.246062\n",
      "[6]\ttraining's binary_logloss: 0.325702\tvalid_0's binary_logloss: 0.237301\n",
      "[7]\ttraining's binary_logloss: 0.320244\tvalid_0's binary_logloss: 0.2275\n",
      "[8]\ttraining's binary_logloss: 0.315971\tvalid_0's binary_logloss: 0.219466\n",
      "[9]\ttraining's binary_logloss: 0.312191\tvalid_0's binary_logloss: 0.212119\n",
      "[10]\ttraining's binary_logloss: 0.307952\tvalid_0's binary_logloss: 0.207946\n",
      "[11]\ttraining's binary_logloss: 0.30458\tvalid_0's binary_logloss: 0.213445\n",
      "[12]\ttraining's binary_logloss: 0.301132\tvalid_0's binary_logloss: 0.211144\n",
      "[13]\ttraining's binary_logloss: 0.298367\tvalid_0's binary_logloss: 0.213816\n",
      "[14]\ttraining's binary_logloss: 0.29545\tvalid_0's binary_logloss: 0.211192\n",
      "[15]\ttraining's binary_logloss: 0.291845\tvalid_0's binary_logloss: 0.207765\n",
      "[16]\ttraining's binary_logloss: 0.288153\tvalid_0's binary_logloss: 0.208493\n",
      "[17]\ttraining's binary_logloss: 0.284465\tvalid_0's binary_logloss: 0.207849\n",
      "[18]\ttraining's binary_logloss: 0.280365\tvalid_0's binary_logloss: 0.206317\n",
      "[19]\ttraining's binary_logloss: 0.276646\tvalid_0's binary_logloss: 0.203251\n",
      "[20]\ttraining's binary_logloss: 0.272998\tvalid_0's binary_logloss: 0.201908\n",
      "[21]\ttraining's binary_logloss: 0.269188\tvalid_0's binary_logloss: 0.201196\n",
      "[22]\ttraining's binary_logloss: 0.265747\tvalid_0's binary_logloss: 0.20117\n",
      "[23]\ttraining's binary_logloss: 0.262534\tvalid_0's binary_logloss: 0.202477\n",
      "[24]\ttraining's binary_logloss: 0.258991\tvalid_0's binary_logloss: 0.201172\n",
      "[25]\ttraining's binary_logloss: 0.255595\tvalid_0's binary_logloss: 0.203289\n",
      "[26]\ttraining's binary_logloss: 0.252424\tvalid_0's binary_logloss: 0.202248\n",
      "[27]\ttraining's binary_logloss: 0.248869\tvalid_0's binary_logloss: 0.204096\n",
      "[28]\ttraining's binary_logloss: 0.244944\tvalid_0's binary_logloss: 0.205484\n",
      "[29]\ttraining's binary_logloss: 0.242137\tvalid_0's binary_logloss: 0.204299\n",
      "[30]\ttraining's binary_logloss: 0.239005\tvalid_0's binary_logloss: 0.206014\n",
      "[31]\ttraining's binary_logloss: 0.235955\tvalid_0's binary_logloss: 0.208895\n",
      "[LightGBM] [Warning] No further splits with positive gain, best gain: -inf\n",
      "[32]\ttraining's binary_logloss: 0.233438\tvalid_0's binary_logloss: 0.213661\n",
      "[33]\ttraining's binary_logloss: 0.230593\tvalid_0's binary_logloss: 0.210964\n",
      "[34]\ttraining's binary_logloss: 0.227754\tvalid_0's binary_logloss: 0.21124\n",
      "[35]\ttraining's binary_logloss: 0.22437\tvalid_0's binary_logloss: 0.216195\n",
      "[36]\ttraining's binary_logloss: 0.221459\tvalid_0's binary_logloss: 0.217784\n",
      "[LightGBM] [Warning] No further splits with positive gain, best gain: -inf\n",
      "[37]\ttraining's binary_logloss: 0.219409\tvalid_0's binary_logloss: 0.214348\n",
      "[38]\ttraining's binary_logloss: 0.21657\tvalid_0's binary_logloss: 0.216726\n",
      "[39]\ttraining's binary_logloss: 0.213234\tvalid_0's binary_logloss: 0.216726\n",
      "[LightGBM] [Warning] No further splits with positive gain, best gain: -inf\n",
      "[40]\ttraining's binary_logloss: 0.211563\tvalid_0's binary_logloss: 0.216649\n",
      "[LightGBM] [Warning] No further splits with positive gain, best gain: -inf\n",
      "[41]\ttraining's binary_logloss: 0.209666\tvalid_0's binary_logloss: 0.214014\n",
      "[42]\ttraining's binary_logloss: 0.20709\tvalid_0's binary_logloss: 0.214592\n",
      "[43]\ttraining's binary_logloss: 0.204174\tvalid_0's binary_logloss: 0.214044\n",
      "[44]\ttraining's binary_logloss: 0.201829\tvalid_0's binary_logloss: 0.214119\n",
      "[45]\ttraining's binary_logloss: 0.199282\tvalid_0's binary_logloss: 0.212785\n",
      "[46]\ttraining's binary_logloss: 0.197058\tvalid_0's binary_logloss: 0.212785\n",
      "[LightGBM] [Warning] No further splits with positive gain, best gain: -inf\n",
      "[47]\ttraining's binary_logloss: 0.195202\tvalid_0's binary_logloss: 0.216951\n",
      "[48]\ttraining's binary_logloss: 0.19259\tvalid_0's binary_logloss: 0.219816\n",
      "[49]\ttraining's binary_logloss: 0.190089\tvalid_0's binary_logloss: 0.220657\n",
      "[50]\ttraining's binary_logloss: 0.187604\tvalid_0's binary_logloss: 0.21895\n",
      "[51]\ttraining's binary_logloss: 0.185227\tvalid_0's binary_logloss: 0.219721\n",
      "[52]\ttraining's binary_logloss: 0.182878\tvalid_0's binary_logloss: 0.21946\n",
      "[53]\ttraining's binary_logloss: 0.180466\tvalid_0's binary_logloss: 0.221118\n",
      "[54]\ttraining's binary_logloss: 0.177817\tvalid_0's binary_logloss: 0.224712\n",
      "[55]\ttraining's binary_logloss: 0.175574\tvalid_0's binary_logloss: 0.227038\n",
      "[56]\ttraining's binary_logloss: 0.173845\tvalid_0's binary_logloss: 0.228532\n",
      "[57]\ttraining's binary_logloss: 0.171663\tvalid_0's binary_logloss: 0.231819\n",
      "[58]\ttraining's binary_logloss: 0.169423\tvalid_0's binary_logloss: 0.234111\n",
      "[59]\ttraining's binary_logloss: 0.167131\tvalid_0's binary_logloss: 0.236988\n",
      "[60]\ttraining's binary_logloss: 0.164936\tvalid_0's binary_logloss: 0.238725\n",
      "[61]\ttraining's binary_logloss: 0.162805\tvalid_0's binary_logloss: 0.238725\n",
      "[LightGBM] [Warning] No further splits with positive gain, best gain: -inf\n",
      "[62]\ttraining's binary_logloss: 0.161141\tvalid_0's binary_logloss: 0.241451\n",
      "[63]\ttraining's binary_logloss: 0.159037\tvalid_0's binary_logloss: 0.245543\n",
      "[64]\ttraining's binary_logloss: 0.156968\tvalid_0's binary_logloss: 0.249112\n",
      "[65]\ttraining's binary_logloss: 0.154991\tvalid_0's binary_logloss: 0.249257\n",
      "[66]\ttraining's binary_logloss: 0.152984\tvalid_0's binary_logloss: 0.249465\n",
      "[LightGBM] [Warning] No further splits with positive gain, best gain: -inf\n",
      "[67]\ttraining's binary_logloss: 0.152135\tvalid_0's binary_logloss: 0.249144\n",
      "[LightGBM] [Warning] No further splits with positive gain, best gain: -inf\n",
      "[68]\ttraining's binary_logloss: 0.150423\tvalid_0's binary_logloss: 0.249086\n",
      "[LightGBM] [Warning] No further splits with positive gain, best gain: -inf\n",
      "[69]\ttraining's binary_logloss: 0.148689\tvalid_0's binary_logloss: 0.253191\n",
      "[LightGBM] [Warning] No further splits with positive gain, best gain: -inf\n",
      "[70]\ttraining's binary_logloss: 0.147269\tvalid_0's binary_logloss: 0.253191\n",
      "[LightGBM] [Warning] No further splits with positive gain, best gain: -inf\n",
      "[71]\ttraining's binary_logloss: 0.14632\tvalid_0's binary_logloss: 0.255792\n",
      "[LightGBM] [Warning] No further splits with positive gain, best gain: -inf\n",
      "[72]\ttraining's binary_logloss: 0.145023\tvalid_0's binary_logloss: 0.254147\n",
      "[73]\ttraining's binary_logloss: 0.143371\tvalid_0's binary_logloss: 0.254863\n",
      "[LightGBM] [Warning] No further splits with positive gain, best gain: -inf\n",
      "[74]\ttraining's binary_logloss: 0.141939\tvalid_0's binary_logloss: 0.257717\n",
      "[75]\ttraining's binary_logloss: 0.140313\tvalid_0's binary_logloss: 0.259935\n",
      "[LightGBM] [Warning] No further splits with positive gain, best gain: -inf\n",
      "[76]\ttraining's binary_logloss: 0.138861\tvalid_0's binary_logloss: 0.259935\n",
      "[77]\ttraining's binary_logloss: 0.137092\tvalid_0's binary_logloss: 0.259778\n",
      "[78]\ttraining's binary_logloss: 0.135648\tvalid_0's binary_logloss: 0.262341\n",
      "[79]\ttraining's binary_logloss: 0.134198\tvalid_0's binary_logloss: 0.262477\n",
      "[LightGBM] [Warning] No further splits with positive gain, best gain: -inf\n",
      "[80]\ttraining's binary_logloss: 0.133024\tvalid_0's binary_logloss: 0.262477\n",
      "[81]\ttraining's binary_logloss: 0.131573\tvalid_0's binary_logloss: 0.266012\n",
      "[LightGBM] [Warning] No further splits with positive gain, best gain: -inf\n",
      "[82]\ttraining's binary_logloss: 0.130641\tvalid_0's binary_logloss: 0.269666\n",
      "[LightGBM] [Warning] No further splits with positive gain, best gain: -inf\n",
      "[83]\ttraining's binary_logloss: 0.129662\tvalid_0's binary_logloss: 0.273308\n",
      "[84]\ttraining's binary_logloss: 0.128108\tvalid_0's binary_logloss: 0.278181\n",
      "[85]\ttraining's binary_logloss: 0.126677\tvalid_0's binary_logloss: 0.278052\n",
      "[LightGBM] [Warning] No further splits with positive gain, best gain: -inf\n",
      "[86]\ttraining's binary_logloss: 0.125493\tvalid_0's binary_logloss: 0.275909\n",
      "[87]\ttraining's binary_logloss: 0.124233\tvalid_0's binary_logloss: 0.279177\n",
      "[LightGBM] [Warning] No further splits with positive gain, best gain: -inf\n",
      "[88]\ttraining's binary_logloss: 0.123809\tvalid_0's binary_logloss: 0.277405\n",
      "[89]\ttraining's binary_logloss: 0.122464\tvalid_0's binary_logloss: 0.277405\n",
      "[90]\ttraining's binary_logloss: 0.121006\tvalid_0's binary_logloss: 0.277136\n",
      "[LightGBM] [Warning] No further splits with positive gain, best gain: -inf\n",
      "[91]\ttraining's binary_logloss: 0.120175\tvalid_0's binary_logloss: 0.277079\n",
      "[92]\ttraining's binary_logloss: 0.118678\tvalid_0's binary_logloss: 0.279621\n",
      "[LightGBM] [Warning] No further splits with positive gain, best gain: -inf\n",
      "[93]\ttraining's binary_logloss: 0.117706\tvalid_0's binary_logloss: 0.280387\n",
      "[94]\ttraining's binary_logloss: 0.116357\tvalid_0's binary_logloss: 0.279003\n",
      "[95]\ttraining's binary_logloss: 0.115065\tvalid_0's binary_logloss: 0.28085\n",
      "[LightGBM] [Warning] No further splits with positive gain, best gain: -inf\n",
      "[96]\ttraining's binary_logloss: 0.114028\tvalid_0's binary_logloss: 0.279602\n",
      "[97]\ttraining's binary_logloss: 0.112787\tvalid_0's binary_logloss: 0.278338\n",
      "[98]\ttraining's binary_logloss: 0.111533\tvalid_0's binary_logloss: 0.282224\n",
      "[LightGBM] [Warning] No further splits with positive gain, best gain: -inf\n",
      "[99]\ttraining's binary_logloss: 0.110739\tvalid_0's binary_logloss: 0.28182\n",
      "[LightGBM] [Warning] No further splits with positive gain, best gain: -inf\n",
      "[100]\ttraining's binary_logloss: 0.109717\tvalid_0's binary_logloss: 0.280495\n",
      "[LightGBM] [Warning] No further splits with positive gain, best gain: -inf\n",
      "[101]\ttraining's binary_logloss: 0.108903\tvalid_0's binary_logloss: 0.281707\n",
      "[102]\ttraining's binary_logloss: 0.107846\tvalid_0's binary_logloss: 0.284497\n",
      "[103]\ttraining's binary_logloss: 0.106667\tvalid_0's binary_logloss: 0.288511\n",
      "[104]\ttraining's binary_logloss: 0.105614\tvalid_0's binary_logloss: 0.288511\n",
      "[105]\ttraining's binary_logloss: 0.104218\tvalid_0's binary_logloss: 0.28577\n",
      "[LightGBM] [Warning] No further splits with positive gain, best gain: -inf\n",
      "[106]\ttraining's binary_logloss: 0.103361\tvalid_0's binary_logloss: 0.288979\n",
      "[107]\ttraining's binary_logloss: 0.102115\tvalid_0's binary_logloss: 0.288043\n",
      "[LightGBM] [Warning] No further splits with positive gain, best gain: -inf\n",
      "[108]\ttraining's binary_logloss: 0.101161\tvalid_0's binary_logloss: 0.288415\n",
      "[LightGBM] [Warning] No further splits with positive gain, best gain: -inf\n",
      "[109]\ttraining's binary_logloss: 0.100298\tvalid_0's binary_logloss: 0.288415\n",
      "[LightGBM] [Warning] No further splits with positive gain, best gain: -inf\n",
      "[110]\ttraining's binary_logloss: 0.0999402\tvalid_0's binary_logloss: 0.287298\n",
      "[111]\ttraining's binary_logloss: 0.0988763\tvalid_0's binary_logloss: 0.288586\n",
      "[112]\ttraining's binary_logloss: 0.0977979\tvalid_0's binary_logloss: 0.291319\n",
      "[113]\ttraining's binary_logloss: 0.096819\tvalid_0's binary_logloss: 0.288757\n",
      "[114]\ttraining's binary_logloss: 0.0958403\tvalid_0's binary_logloss: 0.286341\n",
      "[LightGBM] [Warning] No further splits with positive gain, best gain: -inf\n",
      "[115]\ttraining's binary_logloss: 0.0953599\tvalid_0's binary_logloss: 0.287909\n",
      "[LightGBM] [Warning] No further splits with positive gain, best gain: -inf\n",
      "[116]\ttraining's binary_logloss: 0.0946026\tvalid_0's binary_logloss: 0.285804\n",
      "[LightGBM] [Warning] No further splits with positive gain, best gain: -inf\n",
      "[117]\ttraining's binary_logloss: 0.0940099\tvalid_0's binary_logloss: 0.285263\n",
      "[118]\ttraining's binary_logloss: 0.0930008\tvalid_0's binary_logloss: 0.285446\n",
      "[LightGBM] [Warning] No further splits with positive gain, best gain: -inf\n",
      "[119]\ttraining's binary_logloss: 0.0922667\tvalid_0's binary_logloss: 0.288099\n",
      "[120]\ttraining's binary_logloss: 0.0912658\tvalid_0's binary_logloss: 0.288082\n",
      "[LightGBM] [Warning] No further splits with positive gain, best gain: -inf\n",
      "[121]\ttraining's binary_logloss: 0.0907733\tvalid_0's binary_logloss: 0.289712\n",
      "[122]\ttraining's binary_logloss: 0.0896838\tvalid_0's binary_logloss: 0.290258\n",
      "[123]\ttraining's binary_logloss: 0.0887654\tvalid_0's binary_logloss: 0.288893\n",
      "[LightGBM] [Warning] No further splits with positive gain, best gain: -inf\n",
      "[124]\ttraining's binary_logloss: 0.0881602\tvalid_0's binary_logloss: 0.287587\n",
      "[LightGBM] [Warning] No further splits with positive gain, best gain: -inf\n",
      "[125]\ttraining's binary_logloss: 0.0876148\tvalid_0's binary_logloss: 0.289447\n",
      "Accuracy of random forest classifier on validation set using 75th quantile: 0.95\n",
      "Accuracy of random forest classifier on test set using 75th quantile: 0.95\n"
     ]
    },
    {
     "data": {
      "image/png": "[encoded data removed]",
      "text/plain": [
       "<Figure size 400x300 with 1 Axes>"
      ]
     },
     "metadata": {},
     "output_type": "display_data"
    },
    {
     "data": {
      "image/png": "[encoded data removed]",
      "text/plain": [
       "<Figure size 400x300 with 1 Axes>"
      ]
     },
     "metadata": {},
     "output_type": "display_data"
    }
   ],
   "source": [
    "lgbmodel(X_train_mean, y_train.values.ravel(), X_val_mean, y_val.values.ravel(), X_test_mean, y_test.values.ravel(), \"75th quantile\")"
   ]
  },
  {
   "cell_type": "markdown",
   "metadata": {},
   "source": [
    "## Hyperparameter Tuning"
   ]
  },
  {
   "cell_type": "code",
   "execution_count": 20,
   "metadata": {},
   "outputs": [],
   "source": [
    "from sklearn.model_selection import RandomizedSearchCV\n"
   ]
  },
  {
   "cell_type": "code",
   "execution_count": null,
   "metadata": {},
   "outputs": [],
   "source": [
    " \n",
    "gbm_random = RandomizedSearchCV(estimator = lgbm, param_distributions = random_grid, \n",
    "                         n_iter = 100, cv = 2, scoring='neg_mean_absolute_error',\n",
    "                          verbose=10, random_state=42)"
   ]
  },
  {
   "cell_type": "code",
   "execution_count": 55,
   "metadata": {},
   "outputs": [
    {
     "name": "stderr",
     "output_type": "stream",
     "text": [
      "/Users/yuanqi/opt/anaconda3/envs/gene/lib/python3.8/site-packages/lightgbm/engine.py:151: UserWarning: Found `num_boost_round` in params. Will use it instead of argument\n",
      "  warnings.warn(\"Found `{}` in params. Will use it instead of argument\".format(alias))\n",
      "/Users/yuanqi/opt/anaconda3/envs/gene/lib/python3.8/site-packages/lightgbm/engine.py:151: UserWarning: Found `num_boost_round` in params. Will use it instead of argument\n",
      "  warnings.warn(\"Found `{}` in params. Will use it instead of argument\".format(alias))\n",
      "/Users/yuanqi/opt/anaconda3/envs/gene/lib/python3.8/site-packages/lightgbm/engine.py:151: UserWarning: Found `num_boost_round` in params. Will use it instead of argument\n",
      "  warnings.warn(\"Found `{}` in params. Will use it instead of argument\".format(alias))\n"
     ]
    },
    {
     "name": "stdout",
     "output_type": "stream",
     "text": [
      "[LightGBM] [Warning] min_data_in_leaf is set=15, min_child_samples=20 will be ignored. Current value: min_data_in_leaf=15\n",
      "[LightGBM] [Warning] num_iterations is set=2000, num_boost_round=2000 will be ignored. Current value: num_iterations=2000\n",
      "[LightGBM] [Warning] lambda_l1 is set=2, reg_alpha=1.5 will be ignored. Current value: lambda_l1=2\n",
      "[LightGBM] [Warning] lambda_l2 is set=1, reg_lambda=2.25 will be ignored. Current value: lambda_l2=1\n",
      "[LightGBM] [Warning] min_data_in_leaf is set=15, min_child_samples=20 will be ignored. Current value: min_data_in_leaf=15\n",
      "[LightGBM] [Warning] num_iterations is set=2000, num_boost_round=2000 will be ignored. Current value: num_iterations=2000\n",
      "[LightGBM] [Warning] lambda_l1 is set=2, reg_alpha=1.5 will be ignored. Current value: lambda_l1=2\n",
      "[LightGBM] [Warning] lambda_l2 is set=1, reg_lambda=2.25 will be ignored. Current value: lambda_l2=1\n",
      "[LightGBM] [Warning] min_data_in_leaf is set=15, min_child_samples=20 will be ignored. Current value: min_data_in_leaf=15\n",
      "[LightGBM] [Warning] num_iterations is set=2000, num_boost_round=2000 will be ignored. Current value: num_iterations=2000\n",
      "[LightGBM] [Warning] lambda_l1 is set=2, reg_alpha=1.5 will be ignored. Current value: lambda_l1=2\n",
      "[LightGBM] [Warning] lambda_l2 is set=1, reg_lambda=2.25 will be ignored. Current value: lambda_l2=1\n"
     ]
    },
    {
     "name": "stderr",
     "output_type": "stream",
     "text": [
      "/Users/yuanqi/opt/anaconda3/envs/gene/lib/python3.8/site-packages/lightgbm/engine.py:151: UserWarning: Found `num_boost_round` in params. Will use it instead of argument\n",
      "  warnings.warn(\"Found `{}` in params. Will use it instead of argument\".format(alias))\n",
      "/Users/yuanqi/opt/anaconda3/envs/gene/lib/python3.8/site-packages/lightgbm/engine.py:151: UserWarning: Found `num_boost_round` in params. Will use it instead of argument\n",
      "  warnings.warn(\"Found `{}` in params. Will use it instead of argument\".format(alias))\n"
     ]
    },
    {
     "name": "stdout",
     "output_type": "stream",
     "text": [
      "[LightGBM] [Warning] min_data_in_leaf is set=25, min_child_samples=20 will be ignored. Current value: min_data_in_leaf=25\n",
      "[LightGBM] [Warning] num_iterations is set=2000, num_boost_round=2000 will be ignored. Current value: num_iterations=2000\n",
      "[LightGBM] [Warning] lambda_l1 is set=2, reg_alpha=1.5 will be ignored. Current value: lambda_l1=2\n",
      "[LightGBM] [Warning] lambda_l2 is set=1, reg_lambda=0.5 will be ignored. Current value: lambda_l2=1\n",
      "[LightGBM] [Warning] Accuracy may be bad since you didn't explicitly set num_leaves OR 2^max_depth > num_leaves. (num_leaves=31).\n",
      "[LightGBM] [Warning] min_data_in_leaf is set=25, min_child_samples=20 will be ignored. Current value: min_data_in_leaf=25\n",
      "[LightGBM] [Warning] num_iterations is set=2000, num_boost_round=2000 will be ignored. Current value: num_iterations=2000\n",
      "[LightGBM] [Warning] lambda_l1 is set=2, reg_alpha=1.5 will be ignored. Current value: lambda_l1=2\n",
      "[LightGBM] [Warning] lambda_l2 is set=1, reg_lambda=0.5 will be ignored. Current value: lambda_l2=1\n",
      "[LightGBM] [Warning] Accuracy may be bad since you didn't explicitly set num_leaves OR 2^max_depth > num_leaves. (num_leaves=31).\n"
     ]
    },
    {
     "name": "stderr",
     "output_type": "stream",
     "text": [
      "/Users/yuanqi/opt/anaconda3/envs/gene/lib/python3.8/site-packages/lightgbm/engine.py:151: UserWarning: Found `num_boost_round` in params. Will use it instead of argument\n",
      "  warnings.warn(\"Found `{}` in params. Will use it instead of argument\".format(alias))\n"
     ]
    },
    {
     "name": "stdout",
     "output_type": "stream",
     "text": [
      "[LightGBM] [Warning] min_data_in_leaf is set=25, min_child_samples=20 will be ignored. Current value: min_data_in_leaf=25\n",
      "[LightGBM] [Warning] num_iterations is set=2000, num_boost_round=2000 will be ignored. Current value: num_iterations=2000\n",
      "[LightGBM] [Warning] lambda_l1 is set=2, reg_alpha=1.5 will be ignored. Current value: lambda_l1=2\n",
      "[LightGBM] [Warning] lambda_l2 is set=1, reg_lambda=0.5 will be ignored. Current value: lambda_l2=1\n",
      "[LightGBM] [Warning] Accuracy may be bad since you didn't explicitly set num_leaves OR 2^max_depth > num_leaves. (num_leaves=31).\n"
     ]
    },
    {
     "name": "stderr",
     "output_type": "stream",
     "text": [
      "/Users/yuanqi/opt/anaconda3/envs/gene/lib/python3.8/site-packages/lightgbm/engine.py:151: UserWarning: Found `num_boost_round` in params. Will use it instead of argument\n",
      "  warnings.warn(\"Found `{}` in params. Will use it instead of argument\".format(alias))\n"
     ]
    },
    {
     "name": "stdout",
     "output_type": "stream",
     "text": [
      "[LightGBM] [Warning] min_data_in_leaf is set=25, min_child_samples=20 will be ignored. Current value: min_data_in_leaf=25\n",
      "[LightGBM] [Warning] num_iterations is set=2000, num_boost_round=2000 will be ignored. Current value: num_iterations=2000\n",
      "[LightGBM] [Warning] lambda_l1 is set=2, reg_alpha=2 will be ignored. Current value: lambda_l1=2\n",
      "[LightGBM] [Warning] lambda_l2 is set=0.5, reg_lambda=3 will be ignored. Current value: lambda_l2=0.5\n"
     ]
    },
    {
     "name": "stderr",
     "output_type": "stream",
     "text": [
      "/Users/yuanqi/opt/anaconda3/envs/gene/lib/python3.8/site-packages/lightgbm/engine.py:151: UserWarning: Found `num_boost_round` in params. Will use it instead of argument\n",
      "  warnings.warn(\"Found `{}` in params. Will use it instead of argument\".format(alias))\n",
      "/Users/yuanqi/opt/anaconda3/envs/gene/lib/python3.8/site-packages/lightgbm/engine.py:151: UserWarning: Found `num_boost_round` in params. Will use it instead of argument\n",
      "  warnings.warn(\"Found `{}` in params. Will use it instead of argument\".format(alias))\n"
     ]
    },
    {
     "name": "stdout",
     "output_type": "stream",
     "text": [
      "[LightGBM] [Warning] min_data_in_leaf is set=25, min_child_samples=20 will be ignored. Current value: min_data_in_leaf=25\n",
      "[LightGBM] [Warning] num_iterations is set=2000, num_boost_round=2000 will be ignored. Current value: num_iterations=2000\n",
      "[LightGBM] [Warning] lambda_l1 is set=2, reg_alpha=2 will be ignored. Current value: lambda_l1=2\n",
      "[LightGBM] [Warning] lambda_l2 is set=0.5, reg_lambda=3 will be ignored. Current value: lambda_l2=0.5\n",
      "[LightGBM] [Warning] min_data_in_leaf is set=25, min_child_samples=20 will be ignored. Current value: min_data_in_leaf=25\n",
      "[LightGBM] [Warning] num_iterations is set=2000, num_boost_round=2000 will be ignored. Current value: num_iterations=2000\n",
      "[LightGBM] [Warning] lambda_l1 is set=2, reg_alpha=2 will be ignored. Current value: lambda_l1=2\n",
      "[LightGBM] [Warning] lambda_l2 is set=0.5, reg_lambda=3 will be ignored. Current value: lambda_l2=0.5\n"
     ]
    },
    {
     "name": "stderr",
     "output_type": "stream",
     "text": [
      "/Users/yuanqi/opt/anaconda3/envs/gene/lib/python3.8/site-packages/lightgbm/engine.py:151: UserWarning: Found `num_boost_round` in params. Will use it instead of argument\n",
      "  warnings.warn(\"Found `{}` in params. Will use it instead of argument\".format(alias))\n"
     ]
    },
    {
     "name": "stdout",
     "output_type": "stream",
     "text": [
      "[LightGBM] [Warning] min_data_in_leaf is set=30, min_child_samples=20 will be ignored. Current value: min_data_in_leaf=30\n",
      "[LightGBM] [Warning] num_iterations is set=2000, num_boost_round=2000 will be ignored. Current value: num_iterations=2000\n",
      "[LightGBM] [Warning] lambda_l1 is set=0.5, reg_alpha=1.5 will be ignored. Current value: lambda_l1=0.5\n",
      "[LightGBM] [Warning] lambda_l2 is set=0, reg_lambda=1.5 will be ignored. Current value: lambda_l2=0\n"
     ]
    },
    {
     "name": "stderr",
     "output_type": "stream",
     "text": [
      "/Users/yuanqi/opt/anaconda3/envs/gene/lib/python3.8/site-packages/lightgbm/engine.py:151: UserWarning: Found `num_boost_round` in params. Will use it instead of argument\n",
      "  warnings.warn(\"Found `{}` in params. Will use it instead of argument\".format(alias))\n",
      "/Users/yuanqi/opt/anaconda3/envs/gene/lib/python3.8/site-packages/lightgbm/engine.py:151: UserWarning: Found `num_boost_round` in params. Will use it instead of argument\n",
      "  warnings.warn(\"Found `{}` in params. Will use it instead of argument\".format(alias))\n"
     ]
    },
    {
     "name": "stdout",
     "output_type": "stream",
     "text": [
      "[LightGBM] [Warning] min_data_in_leaf is set=30, min_child_samples=20 will be ignored. Current value: min_data_in_leaf=30\n",
      "[LightGBM] [Warning] num_iterations is set=2000, num_boost_round=2000 will be ignored. Current value: num_iterations=2000\n",
      "[LightGBM] [Warning] lambda_l1 is set=0.5, reg_alpha=1.5 will be ignored. Current value: lambda_l1=0.5\n",
      "[LightGBM] [Warning] lambda_l2 is set=0, reg_lambda=1.5 will be ignored. Current value: lambda_l2=0\n",
      "[LightGBM] [Warning] min_data_in_leaf is set=30, min_child_samples=20 will be ignored. Current value: min_data_in_leaf=30\n",
      "[LightGBM] [Warning] num_iterations is set=2000, num_boost_round=2000 will be ignored. Current value: num_iterations=2000\n",
      "[LightGBM] [Warning] lambda_l1 is set=0.5, reg_alpha=1.5 will be ignored. Current value: lambda_l1=0.5\n",
      "[LightGBM] [Warning] lambda_l2 is set=0, reg_lambda=1.5 will be ignored. Current value: lambda_l2=0\n"
     ]
    },
    {
     "name": "stderr",
     "output_type": "stream",
     "text": [
      "/Users/yuanqi/opt/anaconda3/envs/gene/lib/python3.8/site-packages/lightgbm/engine.py:151: UserWarning: Found `num_boost_round` in params. Will use it instead of argument\n",
      "  warnings.warn(\"Found `{}` in params. Will use it instead of argument\".format(alias))\n"
     ]
    },
    {
     "name": "stdout",
     "output_type": "stream",
     "text": [
      "[LightGBM] [Warning] min_data_in_leaf is set=15, min_child_samples=20 will be ignored. Current value: min_data_in_leaf=15\n",
      "[LightGBM] [Warning] num_iterations is set=2000, num_boost_round=2000 will be ignored. Current value: num_iterations=2000\n",
      "[LightGBM] [Warning] lambda_l1 is set=0.5, reg_alpha=1.5 will be ignored. Current value: lambda_l1=0.5\n",
      "[LightGBM] [Warning] lambda_l2 is set=0, reg_lambda=2.25 will be ignored. Current value: lambda_l2=0\n"
     ]
    },
    {
     "name": "stderr",
     "output_type": "stream",
     "text": [
      "/Users/yuanqi/opt/anaconda3/envs/gene/lib/python3.8/site-packages/lightgbm/engine.py:151: UserWarning: Found `num_boost_round` in params. Will use it instead of argument\n",
      "  warnings.warn(\"Found `{}` in params. Will use it instead of argument\".format(alias))\n"
     ]
    },
    {
     "name": "stdout",
     "output_type": "stream",
     "text": [
      "[LightGBM] [Warning] min_data_in_leaf is set=15, min_child_samples=20 will be ignored. Current value: min_data_in_leaf=15\n",
      "[LightGBM] [Warning] num_iterations is set=2000, num_boost_round=2000 will be ignored. Current value: num_iterations=2000\n",
      "[LightGBM] [Warning] lambda_l1 is set=0.5, reg_alpha=1.5 will be ignored. Current value: lambda_l1=0.5\n",
      "[LightGBM] [Warning] lambda_l2 is set=0, reg_lambda=2.25 will be ignored. Current value: lambda_l2=0\n"
     ]
    },
    {
     "name": "stderr",
     "output_type": "stream",
     "text": [
      "/Users/yuanqi/opt/anaconda3/envs/gene/lib/python3.8/site-packages/lightgbm/engine.py:151: UserWarning: Found `num_boost_round` in params. Will use it instead of argument\n",
      "  warnings.warn(\"Found `{}` in params. Will use it instead of argument\".format(alias))\n"
     ]
    },
    {
     "name": "stdout",
     "output_type": "stream",
     "text": [
      "[LightGBM] [Warning] min_data_in_leaf is set=15, min_child_samples=20 will be ignored. Current value: min_data_in_leaf=15\n",
      "[LightGBM] [Warning] num_iterations is set=2000, num_boost_round=2000 will be ignored. Current value: num_iterations=2000\n",
      "[LightGBM] [Warning] lambda_l1 is set=0.5, reg_alpha=1.5 will be ignored. Current value: lambda_l1=0.5\n",
      "[LightGBM] [Warning] lambda_l2 is set=0, reg_lambda=2.25 will be ignored. Current value: lambda_l2=0\n"
     ]
    },
    {
     "name": "stderr",
     "output_type": "stream",
     "text": [
      "/Users/yuanqi/opt/anaconda3/envs/gene/lib/python3.8/site-packages/lightgbm/engine.py:151: UserWarning: Found `num_boost_round` in params. Will use it instead of argument\n",
      "  warnings.warn(\"Found `{}` in params. Will use it instead of argument\".format(alias))\n"
     ]
    },
    {
     "name": "stdout",
     "output_type": "stream",
     "text": [
      "[LightGBM] [Warning] min_data_in_leaf is set=25, min_child_samples=20 will be ignored. Current value: min_data_in_leaf=25\n",
      "[LightGBM] [Warning] num_iterations is set=2000, num_boost_round=2000 will be ignored. Current value: num_iterations=2000\n",
      "[LightGBM] [Warning] lambda_l1 is set=2, reg_alpha=1 will be ignored. Current value: lambda_l1=2\n",
      "[LightGBM] [Warning] lambda_l2 is set=0, reg_lambda=2.25 will be ignored. Current value: lambda_l2=0\n"
     ]
    },
    {
     "name": "stderr",
     "output_type": "stream",
     "text": [
      "/Users/yuanqi/opt/anaconda3/envs/gene/lib/python3.8/site-packages/lightgbm/engine.py:151: UserWarning: Found `num_boost_round` in params. Will use it instead of argument\n",
      "  warnings.warn(\"Found `{}` in params. Will use it instead of argument\".format(alias))\n",
      "/Users/yuanqi/opt/anaconda3/envs/gene/lib/python3.8/site-packages/lightgbm/engine.py:151: UserWarning: Found `num_boost_round` in params. Will use it instead of argument\n",
      "  warnings.warn(\"Found `{}` in params. Will use it instead of argument\".format(alias))\n"
     ]
    },
    {
     "name": "stdout",
     "output_type": "stream",
     "text": [
      "[LightGBM] [Warning] min_data_in_leaf is set=25, min_child_samples=20 will be ignored. Current value: min_data_in_leaf=25\n",
      "[LightGBM] [Warning] num_iterations is set=2000, num_boost_round=2000 will be ignored. Current value: num_iterations=2000\n",
      "[LightGBM] [Warning] lambda_l1 is set=2, reg_alpha=1 will be ignored. Current value: lambda_l1=2\n",
      "[LightGBM] [Warning] lambda_l2 is set=0, reg_lambda=2.25 will be ignored. Current value: lambda_l2=0\n",
      "[LightGBM] [Warning] min_data_in_leaf is set=25, min_child_samples=20 will be ignored. Current value: min_data_in_leaf=25\n",
      "[LightGBM] [Warning] num_iterations is set=2000, num_boost_round=2000 will be ignored. Current value: num_iterations=2000\n",
      "[LightGBM] [Warning] lambda_l1 is set=2, reg_alpha=1 will be ignored. Current value: lambda_l1=2\n",
      "[LightGBM] [Warning] lambda_l2 is set=0, reg_lambda=2.25 will be ignored. Current value: lambda_l2=0\n"
     ]
    },
    {
     "name": "stderr",
     "output_type": "stream",
     "text": [
      "/Users/yuanqi/opt/anaconda3/envs/gene/lib/python3.8/site-packages/lightgbm/engine.py:151: UserWarning: Found `num_boost_round` in params. Will use it instead of argument\n",
      "  warnings.warn(\"Found `{}` in params. Will use it instead of argument\".format(alias))\n"
     ]
    },
    {
     "name": "stdout",
     "output_type": "stream",
     "text": [
      "[LightGBM] [Warning] min_data_in_leaf is set=25, min_child_samples=20 will be ignored. Current value: min_data_in_leaf=25\n",
      "[LightGBM] [Warning] num_iterations is set=2000, num_boost_round=2000 will be ignored. Current value: num_iterations=2000\n",
      "[LightGBM] [Warning] lambda_l1 is set=1, reg_alpha=1.5 will be ignored. Current value: lambda_l1=1\n",
      "[LightGBM] [Warning] lambda_l2 is set=0.5, reg_lambda=2.25 will be ignored. Current value: lambda_l2=0.5\n"
     ]
    },
    {
     "name": "stderr",
     "output_type": "stream",
     "text": [
      "/Users/yuanqi/opt/anaconda3/envs/gene/lib/python3.8/site-packages/lightgbm/engine.py:151: UserWarning: Found `num_boost_round` in params. Will use it instead of argument\n",
      "  warnings.warn(\"Found `{}` in params. Will use it instead of argument\".format(alias))\n",
      "/Users/yuanqi/opt/anaconda3/envs/gene/lib/python3.8/site-packages/lightgbm/engine.py:151: UserWarning: Found `num_boost_round` in params. Will use it instead of argument\n",
      "  warnings.warn(\"Found `{}` in params. Will use it instead of argument\".format(alias))\n"
     ]
    },
    {
     "name": "stdout",
     "output_type": "stream",
     "text": [
      "[LightGBM] [Warning] min_data_in_leaf is set=25, min_child_samples=20 will be ignored. Current value: min_data_in_leaf=25\n",
      "[LightGBM] [Warning] num_iterations is set=2000, num_boost_round=2000 will be ignored. Current value: num_iterations=2000\n",
      "[LightGBM] [Warning] lambda_l1 is set=1, reg_alpha=1.5 will be ignored. Current value: lambda_l1=1\n",
      "[LightGBM] [Warning] lambda_l2 is set=0.5, reg_lambda=2.25 will be ignored. Current value: lambda_l2=0.5\n",
      "[LightGBM] [Warning] min_data_in_leaf is set=25, min_child_samples=20 will be ignored. Current value: min_data_in_leaf=25\n",
      "[LightGBM] [Warning] num_iterations is set=2000, num_boost_round=2000 will be ignored. Current value: num_iterations=2000\n",
      "[LightGBM] [Warning] lambda_l1 is set=1, reg_alpha=1.5 will be ignored. Current value: lambda_l1=1\n",
      "[LightGBM] [Warning] lambda_l2 is set=0.5, reg_lambda=2.25 will be ignored. Current value: lambda_l2=0.5\n"
     ]
    },
    {
     "name": "stderr",
     "output_type": "stream",
     "text": [
      "/Users/yuanqi/opt/anaconda3/envs/gene/lib/python3.8/site-packages/lightgbm/engine.py:151: UserWarning: Found `num_boost_round` in params. Will use it instead of argument\n",
      "  warnings.warn(\"Found `{}` in params. Will use it instead of argument\".format(alias))\n"
     ]
    },
    {
     "name": "stdout",
     "output_type": "stream",
     "text": [
      "[LightGBM] [Warning] min_data_in_leaf is set=15, min_child_samples=20 will be ignored. Current value: min_data_in_leaf=15\n",
      "[LightGBM] [Warning] num_iterations is set=2000, num_boost_round=2000 will be ignored. Current value: num_iterations=2000\n",
      "[LightGBM] [Warning] lambda_l1 is set=1, reg_alpha=2.5 will be ignored. Current value: lambda_l1=1\n",
      "[LightGBM] [Warning] lambda_l2 is set=0.5, reg_lambda=2.5 will be ignored. Current value: lambda_l2=0.5\n"
     ]
    },
    {
     "name": "stderr",
     "output_type": "stream",
     "text": [
      "/Users/yuanqi/opt/anaconda3/envs/gene/lib/python3.8/site-packages/lightgbm/engine.py:151: UserWarning: Found `num_boost_round` in params. Will use it instead of argument\n",
      "  warnings.warn(\"Found `{}` in params. Will use it instead of argument\".format(alias))\n"
     ]
    },
    {
     "name": "stdout",
     "output_type": "stream",
     "text": [
      "[LightGBM] [Warning] min_data_in_leaf is set=15, min_child_samples=20 will be ignored. Current value: min_data_in_leaf=15\n",
      "[LightGBM] [Warning] num_iterations is set=2000, num_boost_round=2000 will be ignored. Current value: num_iterations=2000\n",
      "[LightGBM] [Warning] lambda_l1 is set=1, reg_alpha=2.5 will be ignored. Current value: lambda_l1=1\n",
      "[LightGBM] [Warning] lambda_l2 is set=0.5, reg_lambda=2.5 will be ignored. Current value: lambda_l2=0.5\n"
     ]
    },
    {
     "name": "stderr",
     "output_type": "stream",
     "text": [
      "/Users/yuanqi/opt/anaconda3/envs/gene/lib/python3.8/site-packages/lightgbm/engine.py:151: UserWarning: Found `num_boost_round` in params. Will use it instead of argument\n",
      "  warnings.warn(\"Found `{}` in params. Will use it instead of argument\".format(alias))\n"
     ]
    },
    {
     "name": "stdout",
     "output_type": "stream",
     "text": [
      "[LightGBM] [Warning] min_data_in_leaf is set=15, min_child_samples=20 will be ignored. Current value: min_data_in_leaf=15\n",
      "[LightGBM] [Warning] num_iterations is set=2000, num_boost_round=2000 will be ignored. Current value: num_iterations=2000\n",
      "[LightGBM] [Warning] lambda_l1 is set=1, reg_alpha=2.5 will be ignored. Current value: lambda_l1=1\n",
      "[LightGBM] [Warning] lambda_l2 is set=0.5, reg_lambda=2.5 will be ignored. Current value: lambda_l2=0.5\n"
     ]
    },
    {
     "name": "stderr",
     "output_type": "stream",
     "text": [
      "/Users/yuanqi/opt/anaconda3/envs/gene/lib/python3.8/site-packages/lightgbm/engine.py:151: UserWarning: Found `num_boost_round` in params. Will use it instead of argument\n",
      "  warnings.warn(\"Found `{}` in params. Will use it instead of argument\".format(alias))\n"
     ]
    },
    {
     "name": "stdout",
     "output_type": "stream",
     "text": [
      "[LightGBM] [Warning] min_data_in_leaf is set=20, min_child_samples=20 will be ignored. Current value: min_data_in_leaf=20\n",
      "[LightGBM] [Warning] num_iterations is set=2000, num_boost_round=2000 will be ignored. Current value: num_iterations=2000\n",
      "[LightGBM] [Warning] lambda_l1 is set=3, reg_alpha=2 will be ignored. Current value: lambda_l1=3\n",
      "[LightGBM] [Warning] lambda_l2 is set=1, reg_lambda=2.5 will be ignored. Current value: lambda_l2=1\n"
     ]
    },
    {
     "name": "stderr",
     "output_type": "stream",
     "text": [
      "/Users/yuanqi/opt/anaconda3/envs/gene/lib/python3.8/site-packages/lightgbm/engine.py:151: UserWarning: Found `num_boost_round` in params. Will use it instead of argument\n",
      "  warnings.warn(\"Found `{}` in params. Will use it instead of argument\".format(alias))\n",
      "/Users/yuanqi/opt/anaconda3/envs/gene/lib/python3.8/site-packages/lightgbm/engine.py:151: UserWarning: Found `num_boost_round` in params. Will use it instead of argument\n",
      "  warnings.warn(\"Found `{}` in params. Will use it instead of argument\".format(alias))\n"
     ]
    },
    {
     "name": "stdout",
     "output_type": "stream",
     "text": [
      "[LightGBM] [Warning] min_data_in_leaf is set=20, min_child_samples=20 will be ignored. Current value: min_data_in_leaf=20\n",
      "[LightGBM] [Warning] num_iterations is set=2000, num_boost_round=2000 will be ignored. Current value: num_iterations=2000\n",
      "[LightGBM] [Warning] lambda_l1 is set=3, reg_alpha=2 will be ignored. Current value: lambda_l1=3\n",
      "[LightGBM] [Warning] lambda_l2 is set=1, reg_lambda=2.5 will be ignored. Current value: lambda_l2=1\n",
      "[LightGBM] [Warning] min_data_in_leaf is set=20, min_child_samples=20 will be ignored. Current value: min_data_in_leaf=20\n",
      "[LightGBM] [Warning] num_iterations is set=2000, num_boost_round=2000 will be ignored. Current value: num_iterations=2000\n",
      "[LightGBM] [Warning] lambda_l1 is set=3, reg_alpha=2 will be ignored. Current value: lambda_l1=3\n",
      "[LightGBM] [Warning] lambda_l2 is set=1, reg_lambda=2.5 will be ignored. Current value: lambda_l2=1\n"
     ]
    },
    {
     "name": "stderr",
     "output_type": "stream",
     "text": [
      "/Users/yuanqi/opt/anaconda3/envs/gene/lib/python3.8/site-packages/lightgbm/engine.py:151: UserWarning: Found `num_boost_round` in params. Will use it instead of argument\n",
      "  warnings.warn(\"Found `{}` in params. Will use it instead of argument\".format(alias))\n"
     ]
    },
    {
     "name": "stdout",
     "output_type": "stream",
     "text": [
      "[LightGBM] [Warning] min_data_in_leaf is set=10, min_child_samples=20 will be ignored. Current value: min_data_in_leaf=10\n",
      "[LightGBM] [Warning] num_iterations is set=2000, num_boost_round=2000 will be ignored. Current value: num_iterations=2000\n",
      "[LightGBM] [Warning] lambda_l1 is set=1.5, reg_alpha=2 will be ignored. Current value: lambda_l1=1.5\n",
      "[LightGBM] [Warning] lambda_l2 is set=0.5, reg_lambda=0.5 will be ignored. Current value: lambda_l2=0.5\n"
     ]
    },
    {
     "name": "stderr",
     "output_type": "stream",
     "text": [
      "/Users/yuanqi/opt/anaconda3/envs/gene/lib/python3.8/site-packages/lightgbm/engine.py:151: UserWarning: Found `num_boost_round` in params. Will use it instead of argument\n",
      "  warnings.warn(\"Found `{}` in params. Will use it instead of argument\".format(alias))\n",
      "/Users/yuanqi/opt/anaconda3/envs/gene/lib/python3.8/site-packages/lightgbm/engine.py:151: UserWarning: Found `num_boost_round` in params. Will use it instead of argument\n",
      "  warnings.warn(\"Found `{}` in params. Will use it instead of argument\".format(alias))\n"
     ]
    },
    {
     "name": "stdout",
     "output_type": "stream",
     "text": [
      "[LightGBM] [Warning] min_data_in_leaf is set=10, min_child_samples=20 will be ignored. Current value: min_data_in_leaf=10\n",
      "[LightGBM] [Warning] num_iterations is set=2000, num_boost_round=2000 will be ignored. Current value: num_iterations=2000\n",
      "[LightGBM] [Warning] lambda_l1 is set=1.5, reg_alpha=2 will be ignored. Current value: lambda_l1=1.5\n",
      "[LightGBM] [Warning] lambda_l2 is set=0.5, reg_lambda=0.5 will be ignored. Current value: lambda_l2=0.5\n",
      "[LightGBM] [Warning] min_data_in_leaf is set=10, min_child_samples=20 will be ignored. Current value: min_data_in_leaf=10\n",
      "[LightGBM] [Warning] num_iterations is set=2000, num_boost_round=2000 will be ignored. Current value: num_iterations=2000\n",
      "[LightGBM] [Warning] lambda_l1 is set=1.5, reg_alpha=2 will be ignored. Current value: lambda_l1=1.5\n",
      "[LightGBM] [Warning] lambda_l2 is set=0.5, reg_lambda=0.5 will be ignored. Current value: lambda_l2=0.5\n"
     ]
    },
    {
     "name": "stderr",
     "output_type": "stream",
     "text": [
      "/Users/yuanqi/opt/anaconda3/envs/gene/lib/python3.8/site-packages/lightgbm/engine.py:151: UserWarning: Found `num_boost_round` in params. Will use it instead of argument\n",
      "  warnings.warn(\"Found `{}` in params. Will use it instead of argument\".format(alias))\n"
     ]
    },
    {
     "name": "stdout",
     "output_type": "stream",
     "text": [
      "[LightGBM] [Warning] min_data_in_leaf is set=30, min_child_samples=20 will be ignored. Current value: min_data_in_leaf=30\n",
      "[LightGBM] [Warning] num_iterations is set=2000, num_boost_round=2000 will be ignored. Current value: num_iterations=2000\n",
      "[LightGBM] [Warning] lambda_l1 is set=0.5, reg_alpha=1.5 will be ignored. Current value: lambda_l1=0.5\n",
      "[LightGBM] [Warning] lambda_l2 is set=0, reg_lambda=1.5 will be ignored. Current value: lambda_l2=0\n",
      "{'scale_pos_weight': 2, 'reg_lambda': 1.5, 'reg_alpha': 1.5, 'num_leaves': 90, 'n_estimators': 100, 'min_data_in_leaf': 30, 'min_child_weight': 10.0, 'max_depth': 21, 'lambda_l2': 0, 'lambda_l1': 0.5} 0.894001302723675\n"
     ]
    }
   ],
   "source": [
    "param_grid = {\n",
    "    'num_leaves': [31, 50, 60, 90, 127, 150, 175, 185, 190, 200, 225],\n",
    "    'reg_alpha': [0.1, 0.5, 1, 1.5, 2, 2.5],\n",
    "    'min_data_in_leaf': [10,15, 20, 25, 30],\n",
    "    'lambda_l1': [0,0.5,1,1.5, 2, 2.5, 3],\n",
    "    'lambda_l2': [0,0.5,1],\n",
    "    'reg_lambda':[0.5,1,1.5,1.75,2, 2.25, 2.5, 3],\n",
    "    'n_estimators': [100,110, 115, 120 ,125,130,135, 140, 145,150,165,175],\n",
    "    'max_depth':[3,6,9,12, 15,18,21,24],\n",
    "    'min_child_weight':[4.0, 8.0, 10.0, 12.0, 12.5, 15.0],\n",
    "    'scale_pos_weight':[2,5,7,9,11,13,15]\n",
    "    }\n",
    "\n",
    "lgb_estimator = lgb.LGBMClassifier(boosting_type='gbdt',  objective='binary', num_boost_round=2000, learning_rate=0.01, metric='auc')\n",
    "\n",
    "gsearch = RandomizedSearchCV(lgb_estimator, param_grid, cv=3, n_jobs=3)\n",
    "lgb_model = gsearch.fit(X=X_train_50, y=y_train.values.ravel())\n",
    "\n",
    "print(lgb_model.best_params_, lgb_model.best_score_)"
   ]
  },
  {
   "cell_type": "code",
   "execution_count": null,
   "metadata": {},
   "outputs": [],
   "source": []
  },
  {
   "cell_type": "code",
   "execution_count": null,
   "metadata": {},
   "outputs": [],
   "source": [
    "SEARCH_PARAMS = {'learning_rate': 0.4,\n",
    "                 'max_depth': 15,\n",
    "                 'num_leaves': 20,\n",
    "                 'feature_fraction': 0.8,\n",
    "                 'subsample': 0.2}\n",
    "\n",
    "FIXED_PARAMS={'objective': 'binary',\n",
    "              'metric': 'auc',\n",
    "              'is_unbalance':True,\n",
    "              'boosting':'gbdt',\n",
    "              'num_boost_round':300,\n",
    "              'early_stopping_rounds':30}"
   ]
  },
  {
   "cell_type": "code",
   "execution_count": null,
   "metadata": {},
   "outputs": [],
   "source": [
    "%%time\n",
    "\n",
    "def bayes_parameter_opt_lgb(X, y, init_round=15, opt_round=25, n_folds=3, random_seed=6,n_estimators=10000, output_process=False):\n",
    "    # prepare data\n",
    "    train_data = lgb.Dataset(data=X, label=y, free_raw_data=False)\n",
    "    # parameters\n",
    "    def lgb_eval(learning_rate,num_leaves, feature_fraction, bagging_fraction, max_depth, max_bin, min_data_in_leaf,min_sum_hessian_in_leaf,subsample):\n",
    "        params = {'application':'binary', 'metric':'auc'}\n",
    "        params['learning_rate'] = max(min(learning_rate, 1), 0)\n",
    "        params[\"num_leaves\"] = int(round(num_leaves))\n",
    "        params['feature_fraction'] = max(min(feature_fraction, 1), 0)\n",
    "        params['bagging_fraction'] = max(min(bagging_fraction, 1), 0)\n",
    "        params['max_depth'] = int(round(max_depth))\n",
    "        params['max_bin'] = int(round(max_depth))\n",
    "        params['min_data_in_leaf'] = int(round(min_data_in_leaf))\n",
    "        params['min_sum_hessian_in_leaf'] = min_sum_hessian_in_leaf\n",
    "        params['subsample'] = max(min(subsample, 1), 0)\n",
    "        \n",
    "        cv_result = lgb.cv(params, train_data, nfold=n_folds, seed=random_seed, stratified=True, verbose_eval =200, metrics=['auc'])\n",
    "        return max(cv_result['auc-mean'])\n",
    "     \n",
    "    lgbBO = BayesianOptimization(lgb_eval, {'learning_rate': (0.01, 1.0),\n",
    "                                            'num_leaves': (24, 80),\n",
    "                                            'feature_fraction': (0.1, 0.9),\n",
    "                                            'bagging_fraction': (0.8, 1),\n",
    "                                            'max_depth': (5, 30),\n",
    "                                            'max_bin':(20,90),\n",
    "                                            'min_data_in_leaf': (20, 80),\n",
    "                                            'min_sum_hessian_in_leaf':(0,100),\n",
    "                                           'subsample': (0.01, 1.0)}, random_state=200)\n",
    "\n",
    "    \n",
    "    #n_iter: How many steps of bayesian optimization you want to perform. The more steps the more likely to find a good maximum you are.\n",
    "    #init_points: How many steps of random exploration you want to perform. Random exploration can help by diversifying the exploration space.\n",
    "    \n",
    "    lgbBO.maximize(init_points=init_round, n_iter=opt_round)\n",
    "    \n",
    "    model_auc=[]\n",
    "    for model in range(len( lgbBO.res)):\n",
    "        model_auc.append(lgbBO.res[model]['target'])\n",
    "    \n",
    "    # return best parameters\n",
    "    return lgbBO.res[pd.Series(model_auc).idxmax()]['target'],lgbBO.res[pd.Series(model_auc).idxmax()]['params']\n",
    "\n",
    "opt_params = bayes_parameter_opt_lgb(X, y, init_round=5, opt_round=10, n_folds=3, random_seed=6,n_estimators=10000)"
   ]
  },
  {
   "cell_type": "code",
   "execution_count": null,
   "metadata": {},
   "outputs": [],
   "source": []
  },
  {
   "cell_type": "markdown",
   "metadata": {},
   "source": [
    "# Exporting Datasets"
   ]
  },
  {
   "cell_type": "code",
   "execution_count": 20,
   "metadata": {},
   "outputs": [
    {
     "name": "stdout",
     "output_type": "stream",
     "text": [
      "c:\\Users\\lowmi\\OneDrive\\Desktop\\Uni\\DSA4262\\DSA4262-ACMXZ\\data\\preprocessed_data\n"
     ]
    }
   ],
   "source": [
    "%cd ../data/preprocessed_data"
   ]
  },
  {
   "cell_type": "code",
   "execution_count": 21,
   "metadata": {},
   "outputs": [],
   "source": [
    "df_all_features.to_parquet(\"df_all_features.parquet\") # df containing all features, before splitting/encoding\n",
    "df_train.to_parquet(\"df_train.parquet\") # df containing all features, after splitting, before encoding\n",
    "df_test.to_parquet(\"df_test.parquet\") # df containing all features, after splitting, before encoding\n",
    "df_val.to_parquet(\"df_val.parquet\") # df containing all features, after splitting, before encoding\n",
    "X_train.to_parquet(\"X_train.parquet\") # df containing all features, after splitting, before encoding\n",
    "y_train.to_parquet(\"y_train.parquet\") # df containing all features, after splitting, before encoding\n",
    "X_val.to_parquet(\"X_val.parquet\") # df containing all features, after splitting, before encoding\n",
    "y_val.to_parquet(\"y_val.parquet\") # df containing all features, after splitting, before encoding\n",
    "X_test.to_parquet(\"X_test.parquet\") # df containing all features, after splitting, before encoding\n",
    "y_test.to_parquet(\"y_test.parquet\") # df containing all features, after splitting, before encoding\n",
    "df_val_id.to_parquet(\"df_val_id.parquet\") # df containing all features, after splitting, before encoding\n",
    "X_train_enc.to_parquet(\"X_train_enc.parquet\") # df containing all features, after encoding and oversampling\n",
    "X_test_enc.to_parquet(\"X_test_enc.parquet\") # df containing all features, after encoding and oversampling\n",
    "X_val_enc.to_parquet(\"X_val_enc.parquet\") # df containing all features, after encoding and oversampling\n",
    "X_train_25.to_parquet(\"X_train_25.parquet\")  # final df containing 25 percentile features for modelling\n",
    "X_train_50.to_parquet(\"X_train_50.parquet\") # final df containing 50 percentile features for modelling\n",
    "X_train_75.to_parquet(\"X_train_75.parquet\") # final df containing 75 percentile features for modelling\n",
    "X_train_mean.to_parquet(\"X_train_mean.parquet\") # final df containing mean features for modelling\n"
   ]
  },
  {
   "cell_type": "code",
   "execution_count": null,
   "metadata": {},
   "outputs": [],
   "source": []
  },
  {
   "cell_type": "code",
   "execution_count": null,
   "metadata": {},
   "outputs": [],
   "source": []
  }
 ],
 "metadata": {
  "kernelspec": {
   "display_name": "Python 3.8.13 ('gene')",
   "language": "python",
   "name": "python3"
  },
  "language_info": {
   "codemirror_mode": {
    "name": "ipython",
    "version": 3
   },
   "file_extension": ".py",
   "mimetype": "text/x-python",
   "name": "python",
   "nbconvert_exporter": "python",
   "pygments_lexer": "ipython3",
   "version": "3.8.13"
  },
  "orig_nbformat": 4,
  "vscode": {
   "interpreter": {
    "hash": "b627dbac6ce1d59438a9c6b78997f27a2623cb1f98b78c61dc84feb6742159e0"
   }
  }
 },
 "nbformat": 4,
 "nbformat_minor": 2
}
