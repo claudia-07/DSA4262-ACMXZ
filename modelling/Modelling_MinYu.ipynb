{
 "cells": [
  {
   "cell_type": "markdown",
   "metadata": {},
   "source": [
    "# Importing Libraries"
   ]
  },
  {
   "cell_type": "code",
   "execution_count": 1,
   "metadata": {},
   "outputs": [
    {
     "name": "stdout",
     "output_type": "stream",
     "text": [
      "/Users/yuanqi/Desktop/DSA4262-ACMXZ\n"
     ]
    }
   ],
   "source": [
    "%cd .."
   ]
  },
  {
   "cell_type": "code",
   "execution_count": 1,
   "metadata": {},
   "outputs": [],
   "source": [
    "import pandas as pd\n",
    "import numpy as np\n",
    "import os\n",
    "\n",
    "#from util.model import (modelling)"
   ]
  },
  {
   "cell_type": "markdown",
   "metadata": {},
   "source": [
    "# Loading Data"
   ]
  },
  {
   "cell_type": "markdown",
   "metadata": {},
   "source": [
    "### Loading parquets"
   ]
  },
  {
   "cell_type": "code",
   "execution_count": 13,
   "metadata": {},
   "outputs": [],
   "source": [
    "## Load Datasets\n",
    "X_train_25_path = \"../data/new_preprocessed_data/training/X_train_25.parquet\" ## to edit file path\n",
    "X_train_25 = pd.read_parquet(X_train_25_path)\n",
    "\n",
    "y_train_path = \"../data/new_preprocessed_data/training/y_train.parquet\"\n",
    "y_train = pd.read_parquet(y_train_path)\n",
    "y_train = pd.DataFrame(y_train['label'].astype(int))"
   ]
  },
  {
   "cell_type": "code",
   "execution_count": 44,
   "metadata": {},
   "outputs": [],
   "source": [
    "## Load Datasets\n",
    "X_train_50_path = \"../data/new_preprocessed_data/training/X_train_50.parquet\" ## to edit file path\n",
    "X_train_50 = pd.read_parquet(X_train_50_path)\n",
    "\n",
    "X_train_75_path = \"../data/new_preprocessed_data/training/X_train_75.parquet\" ## to edit file path\n",
    "X_train_75 = pd.read_parquet(X_train_75_path)\n",
    "\n",
    "X_train_mean_path = \"../data/new_preprocessed_data/training/X_train_mean.parquet\" ## to edit file path\n",
    "X_train_mean = pd.read_parquet(X_train_mean_path)\n"
   ]
  },
  {
   "cell_type": "code",
   "execution_count": 7,
   "metadata": {},
   "outputs": [],
   "source": [
    "X_train_path = \"../data/new_preprocessed_data/training/X_train_enc.parquet\" ## to edit file path\n",
    "X_train = pd.read_parquet(X_train_path)\n",
    "\n",
    "y_train_path = \"../data/new_preprocessed_data/training/y_train.parquet\"\n",
    "y_train = pd.read_parquet(y_train_path)\n",
    "y_train = pd.DataFrame(y_train['label'].astype(int))"
   ]
  },
  {
   "cell_type": "code",
   "execution_count": 12,
   "metadata": {},
   "outputs": [
    {
     "data": {
      "text/plain": [
       "(Index(['reads_count', 'dwelling_time_-1_25', 'dwelling_time_-1_50',\n",
       "        'dwelling_time_-1_75', 'dwelling_time_-1_mean', 'std_-1_25',\n",
       "        'std_-1_50', 'std_-1_75', 'std_-1_mean', 'mean_-1_25', 'mean_-1_50',\n",
       "        'mean_-1_75', 'mean_-1_mean', 'dwelling_time_0_25',\n",
       "        'dwelling_time_0_50', 'dwelling_time_0_75', 'dwelling_time_0_mean',\n",
       "        'std_0_25', 'std_0_50', 'std_0_75', 'std_0_mean', 'mean_0_25',\n",
       "        'mean_0_50', 'mean_0_75', 'mean_0_mean', 'dwelling_time_+1_25',\n",
       "        'dwelling_time_+1_50', 'dwelling_time_+1_75', 'dwelling_time_+1_mean',\n",
       "        'std_+1_25', 'std_+1_50', 'std_+1_75', 'std_+1_mean', 'mean_+1_25',\n",
       "        'mean_+1_50', 'mean_+1_75', 'mean_+1_mean', 'position_0_A',\n",
       "        'position_0_C', 'position_0_G', 'position_0_T', 'position_1_A',\n",
       "        'position_1_C', 'position_1_G', 'position_1_T', 'position_2_A',\n",
       "        'position_2_C', 'position_2_G', 'position_2_T', 'position_3_A',\n",
       "        'position_3_C', 'position_3_G', 'position_3_T', 'position_4_A',\n",
       "        'position_4_C', 'position_4_G', 'position_4_T', 'position_5_A',\n",
       "        'position_5_C', 'position_5_G', 'position_5_T', 'position_6_A',\n",
       "        'position_6_C', 'position_6_G', 'position_6_T'],\n",
       "       dtype='object'),\n",
       " Index(['reads_count', 'dwelling_time_-1_25', 'dwelling_time_-1_50',\n",
       "        'dwelling_time_-1_75', 'dwelling_time_-1_mean', 'std_-1_25',\n",
       "        'std_-1_50', 'std_-1_75', 'std_-1_mean', 'mean_-1_25', 'mean_-1_50',\n",
       "        'mean_-1_75', 'mean_-1_mean', 'dwelling_time_0_25',\n",
       "        'dwelling_time_0_50', 'dwelling_time_0_75', 'dwelling_time_0_mean',\n",
       "        'std_0_25', 'std_0_50', 'std_0_75', 'std_0_mean', 'mean_0_25',\n",
       "        'mean_0_50', 'mean_0_75', 'mean_0_mean', 'dwelling_time_+1_25',\n",
       "        'dwelling_time_+1_50', 'dwelling_time_+1_75', 'dwelling_time_+1_mean',\n",
       "        'std_+1_25', 'std_+1_50', 'std_+1_75', 'std_+1_mean', 'mean_+1_25',\n",
       "        'mean_+1_50', 'mean_+1_75', 'mean_+1_mean', 'position_0_A',\n",
       "        'position_0_C', 'position_0_G', 'position_0_T', 'position_1_A',\n",
       "        'position_1_C', 'position_1_G', 'position_1_T', 'position_2_A',\n",
       "        'position_2_C', 'position_2_G', 'position_2_T', 'position_3_A',\n",
       "        'position_3_C', 'position_3_G', 'position_3_T', 'position_4_A',\n",
       "        'position_4_C', 'position_4_G', 'position_4_T', 'position_5_A',\n",
       "        'position_5_C', 'position_5_G', 'position_5_T', 'position_6_A',\n",
       "        'position_6_C', 'position_6_G', 'position_6_T'],\n",
       "       dtype='object'))"
      ]
     },
     "execution_count": 12,
     "metadata": {},
     "output_type": "execute_result"
    }
   ],
   "source": [
    "X_train.columns, X_test.columns"
   ]
  },
  {
   "cell_type": "code",
   "execution_count": 43,
   "metadata": {},
   "outputs": [],
   "source": [
    "## Load in Test Set\n",
    "#X_test_path = \"../data/preprocessed_data/test/X_test_enc.parquet\"\n",
    "X_test_path = \"../data/new_preprocessed_data/test/X_test_enc.parquet\"\n",
    "X_test = pd.read_parquet(X_test_path)\n",
    "\n",
    "y_test_path = \"../data/new_preprocessed_data/test/y_test.parquet\"\n",
    "y_test = pd.read_parquet(y_test_path)\n",
    "y_test = pd.DataFrame(y_test['label'].astype(int)) ## convert labels to int for roc and auc calculation\n",
    "\n",
    "## Load in Validation Set\n",
    "X_val_path = \"../data/new_preprocessed_data/validation/X_val_enc.parquet\"\n",
    "X_val = pd.read_parquet(X_val_path)\n",
    "\n",
    "y_val_path = \"../data/new_preprocessed_data/validation/y_val.parquet\"\n",
    "y_val = pd.read_parquet(y_val_path)\n",
    "y_val = pd.DataFrame(y_val['label'].astype(int))"
   ]
  },
  {
   "cell_type": "code",
   "execution_count": 51,
   "metadata": {},
   "outputs": [],
   "source": [
    "## need to drop columns for X validation and test data\n",
    "\n",
    "X_val_25 = X_val.drop(['dwelling_time_-1_50','dwelling_time_-1_75', 'dwelling_time_-1_mean', \n",
    "        'std_-1_50', 'std_-1_75', 'std_-1_mean', \n",
    "        'mean_-1_50','mean_-1_75', 'mean_-1_mean',\n",
    "        'dwelling_time_0_50', 'dwelling_time_0_75', 'dwelling_time_0_mean',\n",
    "       'std_0_50', 'std_0_75', 'std_0_mean',\n",
    "       'mean_0_50', 'mean_0_75', 'mean_0_mean',\n",
    "       'dwelling_time_+1_50', 'dwelling_time_+1_75', 'dwelling_time_+1_mean',\n",
    "       'std_+1_50', 'std_+1_75', 'std_+1_mean',\n",
    "       'mean_+1_50', 'mean_+1_75', 'mean_+1_mean'], axis = 1)\n",
    "\n",
    "X_val_50 = X_val.drop(['dwelling_time_-1_25','dwelling_time_-1_75', 'dwelling_time_-1_mean', \n",
    "        'std_-1_25', 'std_-1_75', 'std_-1_mean', \n",
    "        'mean_-1_25','mean_-1_75', 'mean_-1_mean',\n",
    "        'dwelling_time_0_25', 'dwelling_time_0_75', 'dwelling_time_0_mean',\n",
    "       'std_0_25', 'std_0_75', 'std_0_mean',\n",
    "       'mean_0_25', 'mean_0_75', 'mean_0_mean',\n",
    "       'dwelling_time_+1_25', 'dwelling_time_+1_75', 'dwelling_time_+1_mean',\n",
    "       'std_+1_25', 'std_+1_75', 'std_+1_mean',\n",
    "       'mean_+1_25', 'mean_+1_75', 'mean_+1_mean'], axis = 1)\n",
    "X_val_75 = X_val.drop(['dwelling_time_-1_50','dwelling_time_-1_25', 'dwelling_time_-1_mean', \n",
    "        'std_-1_50', 'std_-1_25', 'std_-1_mean', \n",
    "        'mean_-1_50','mean_-1_25', 'mean_-1_mean',\n",
    "        'dwelling_time_0_50', 'dwelling_time_0_25', 'dwelling_time_0_mean',\n",
    "       'std_0_50', 'std_0_25', 'std_0_mean',\n",
    "       'mean_0_50', 'mean_0_25', 'mean_0_mean',\n",
    "       'dwelling_time_+1_50', 'dwelling_time_+1_25', 'dwelling_time_+1_mean',\n",
    "       'std_+1_50', 'std_+1_25', 'std_+1_mean',\n",
    "       'mean_+1_50', 'mean_+1_25', 'mean_+1_mean'], axis = 1)\n",
    "X_val_mean = X_val.drop(['dwelling_time_-1_50','dwelling_time_-1_25', 'dwelling_time_-1_75', \n",
    "        'std_-1_50', 'std_-1_25', 'std_-1_75', \n",
    "        'mean_-1_50','mean_-1_25', 'mean_-1_75',\n",
    "        'dwelling_time_0_50', 'dwelling_time_0_25', 'dwelling_time_0_75',\n",
    "       'std_0_50', 'std_0_25', 'std_0_75',\n",
    "       'mean_0_50', 'mean_0_25', 'mean_0_75',\n",
    "       'dwelling_time_+1_50', 'dwelling_time_+1_25', 'dwelling_time_+1_75',\n",
    "       'std_+1_50', 'std_+1_25', 'std_+1_75',\n",
    "       'mean_+1_50', 'mean_+1_25', 'mean_+1_75'], axis = 1)\n",
    "\n",
    "X_test_25 = X_test.drop(['dwelling_time_-1_50','dwelling_time_-1_75', 'dwelling_time_-1_mean', \n",
    "        'std_-1_50', 'std_-1_75', 'std_-1_mean', \n",
    "        'mean_-1_50','mean_-1_75', 'mean_-1_mean',\n",
    "        'dwelling_time_0_50', 'dwelling_time_0_75', 'dwelling_time_0_mean',\n",
    "       'std_0_50', 'std_0_75', 'std_0_mean',\n",
    "       'mean_0_50', 'mean_0_75', 'mean_0_mean',\n",
    "       'dwelling_time_+1_50', 'dwelling_time_+1_75', 'dwelling_time_+1_mean',\n",
    "       'std_+1_50', 'std_+1_75', 'std_+1_mean',\n",
    "       'mean_+1_50', 'mean_+1_75', 'mean_+1_mean'], axis = 1)\n",
    "X_test_50 = X_test.drop(['dwelling_time_-1_25','dwelling_time_-1_75', 'dwelling_time_-1_mean', \n",
    "        'std_-1_25', 'std_-1_75', 'std_-1_mean', \n",
    "        'mean_-1_25','mean_-1_75', 'mean_-1_mean',\n",
    "        'dwelling_time_0_25', 'dwelling_time_0_75', 'dwelling_time_0_mean',\n",
    "       'std_0_25', 'std_0_75', 'std_0_mean',\n",
    "       'mean_0_25', 'mean_0_75', 'mean_0_mean',\n",
    "       'dwelling_time_+1_25', 'dwelling_time_+1_75', 'dwelling_time_+1_mean',\n",
    "       'std_+1_25', 'std_+1_75', 'std_+1_mean',\n",
    "       'mean_+1_25', 'mean_+1_75', 'mean_+1_mean'], axis = 1)\n",
    "X_test_75 = X_test.drop(['dwelling_time_-1_50','dwelling_time_-1_25', 'dwelling_time_-1_mean', \n",
    "        'std_-1_50', 'std_-1_25', 'std_-1_mean', \n",
    "        'mean_-1_50','mean_-1_25', 'mean_-1_mean',\n",
    "        'dwelling_time_0_50', 'dwelling_time_0_25', 'dwelling_time_0_mean',\n",
    "       'std_0_50', 'std_0_25', 'std_0_mean',\n",
    "       'mean_0_50', 'mean_0_25', 'mean_0_mean',\n",
    "       'dwelling_time_+1_50', 'dwelling_time_+1_25', 'dwelling_time_+1_mean',\n",
    "       'std_+1_50', 'std_+1_25', 'std_+1_mean',\n",
    "       'mean_+1_50', 'mean_+1_25', 'mean_+1_mean'], axis = 1)\n",
    "X_test_mean = X_test.drop(['dwelling_time_-1_50','dwelling_time_-1_25', 'dwelling_time_-1_75', \n",
    "        'std_-1_50', 'std_-1_25', 'std_-1_75', \n",
    "        'mean_-1_50','mean_-1_25', 'mean_-1_75',\n",
    "        'dwelling_time_0_50', 'dwelling_time_0_25', 'dwelling_time_0_75',\n",
    "       'std_0_50', 'std_0_25', 'std_0_75',\n",
    "       'mean_0_50', 'mean_0_25', 'mean_0_75',\n",
    "       'dwelling_time_+1_50', 'dwelling_time_+1_25', 'dwelling_time_+1_75',\n",
    "       'std_+1_50', 'std_+1_25', 'std_+1_75',\n",
    "       'mean_+1_50', 'mean_+1_25', 'mean_+1_75'], axis = 1)"
   ]
  },
  {
   "cell_type": "markdown",
   "metadata": {},
   "source": [
    "# Modelling"
   ]
  },
  {
   "cell_type": "code",
   "execution_count": 70,
   "metadata": {},
   "outputs": [],
   "source": [
    "#df_model = Modelling(X_train, y_train, X_val, y_val, df_val)\n",
    "df_model = Modelling(X_train, y_train.values.ravel(), X_test_1, y_test.values.ravel(), df_val_mean)"
   ]
  },
  {
   "cell_type": "code",
   "execution_count": null,
   "metadata": {},
   "outputs": [],
   "source": [
    "df_model.modelling_lightgbm()"
   ]
  },
  {
   "cell_type": "code",
   "execution_count": null,
   "metadata": {},
   "outputs": [],
   "source": [
    "import lightgbm as lgb\n",
    "model = lgb.LGBMClassifier(learning_rate=0.14048611339776612, max_depth=3,\n",
    "               min_child_weight=8.0, n_estimators=165, num_leaves=48,\n",
    "               random_state=42, reg_alpha=1.3, reg_lambda=1.425462163056115,\n",
    "               scale_pos_weight=5, verbosity=1)\n",
    "model.fit(X_train_25,y_train.values.ravel(),eval_set=[(X_test_25,y_test.values.ravel()),(X_train_25,y_train.values.ravel())],eval_metric='logloss')"
   ]
  },
  {
   "cell_type": "code",
   "execution_count": 100,
   "metadata": {},
   "outputs": [
    {
     "name": "stdout",
     "output_type": "stream",
     "text": [
      "Training accuracy 0.8146\n",
      "Testing accuracy 0.9362\n"
     ]
    }
   ],
   "source": [
    "print('Training accuracy {:.4f}'.format(model.score(X_train,y_train)))\n",
    "print('Testing accuracy {:.4f}'.format(model.score(X_test_1,y_test)))"
   ]
  },
  {
   "cell_type": "markdown",
   "metadata": {},
   "source": [
    "## Using Claudia's Function"
   ]
  },
  {
   "cell_type": "markdown",
   "metadata": {},
   "source": [
    "re-tune lightgbm model using the selected features from PCA and RFE"
   ]
  },
  {
   "cell_type": "code",
   "execution_count": 4,
   "metadata": {},
   "outputs": [],
   "source": [
    "import pandas as pd\n",
    "import numpy as mp\n",
    "from sklearn import preprocessing\n",
    "from sklearn import metrics\n",
    "from sklearn.model_selection import train_test_split\n",
    "from sklearn.metrics import confusion_matrix, roc_auc_score, roc_curve, auc, precision_recall_curve, auc\n",
    "import statsmodels.api as sm\n",
    "import matplotlib.pyplot as plt\n",
    "\n",
    "import lightgbm as lgb"
   ]
  },
  {
   "cell_type": "code",
   "execution_count": 5,
   "metadata": {},
   "outputs": [],
   "source": [
    "def lgbmodel(x_train, y_train, x_val, y_val, x_test, y_test, variable):\n",
    "    \n",
    "    ## fit logistic regression on training data\n",
    "    model = lgb.LGBMClassifier(learning_rate=0.14048611339776612, max_depth=3,\n",
    "               min_child_weight=8.0, n_estimators=165, num_leaves=48,\n",
    "               random_state=42, reg_alpha=1.3, reg_lambda=1.425462163056115,\n",
    "               scale_pos_weight=5, verbosity=1)\n",
    "    #model.fit(x_train, y_train)\n",
    "    model.fit(x_train,y_train,eval_set=[(x_test,y_test),(x_train,y_train)],eval_metric='logloss')\n",
    "\n",
    "    ## predicting validation set result and calculating accuracy\n",
    "    y_val_pred = model.predict(x_val)\n",
    "    print('Accuracy of logistic regression classifier on validation set using {}: {:.2f}'.format(variable, model.score(x_val, y_val)))\n",
    "\n",
    "    ## predicting test set result and calculating accuracy\n",
    "    y_test_pred = model.predict(x_test)\n",
    "    print('Accuracy of logistic regression classifier on test set using {}: {:.2f}'.format(variable, model.score(x_test, y_test)))\n",
    "\n",
    "    ## define metrics for roc\n",
    "    y_test_pred_proba = model.predict_proba(x_test)[:,1]\n",
    "    fpr, tpr, thresholds = roc_curve(y_test, y_test_pred_proba)\n",
    "    mlp_roc_auc = roc_auc_score(y_test, y_test_pred_proba)\n",
    "    # fpr, tpr, thresholds = roc_curve(y_test, y_test_pred_proba, pos_label=1)\n",
    "    print('auc: ', auc(fpr, tpr))   \n",
    "    # calculate the precision-recall auc\n",
    "    precision, recall, _ = precision_recall_curve(y_test, y_test_pred_proba)\n",
    "    auc_score = auc(recall, precision)\n",
    "    print('PR AUC: %.3f' % auc_score)\n",
    "    \n",
    "    ## create roc curve   \n",
    "    plt.rcParams[\"figure.figsize\"] = (8,6)\n",
    "    plt.figure()\n",
    "    plt.plot(fpr, tpr, label = 'LightGBoost (area = %0.2f)' % mlp_roc_auc)\n",
    "    plt.plot([0, 1], [0, 1],'r--')\n",
    "    plt.xlim([0.0, 1.0])\n",
    "    plt.ylim([0.0, 1.05])\n",
    "    plt.xlabel('False Positive Rate')\n",
    "    plt.ylabel('True Positive Rate')\n",
    "    plt.title('Receiver operating characteristic')\n",
    "    plt.legend(loc = \"lower right\")\n",
    "    plt.show()\n",
    "\n",
    "    print(model.feature_importances_)"
   ]
  },
  {
   "cell_type": "code",
   "execution_count": 18,
   "metadata": {},
   "outputs": [],
   "source": [
    "## function for basic classification\n",
    "def lgbmodel(x_train, y_train, x_val, y_val, x_test, y_test, variable):\n",
    "    ## create classifier\n",
    "    # model = lgb.LGBMClassifier(learning_rate=0.14048611339776612, max_depth=12,\n",
    "    #            min_child_weight=8.0, n_estimators=125, num_leaves=150,\n",
    "    #            random_state=42, reg_alpha=1.5, reg_lambda=2,\n",
    "    #            scale_pos_weight=5, verbosity=1, min_data_in_leaf=25,lambda_l2=0, lambda_l1 = 1.5)\n",
    "    # model = lgb.LGBMClassifier(learning_rate=0.14048611339776612, max_depth=3,\n",
    "    #            min_child_weight=8.0, n_estimators=165, num_leaves=48,\n",
    "    #            random_state=42, reg_alpha=1.3, reg_lambda=1.425462163056115,\n",
    "    #            scale_pos_weight=5, verbosity=1)\n",
    "    # model = lgb.LGBMClassifier(learning_rate=0.14048611339776612, max_depth=21,\n",
    "    #            min_child_weight=10.0, n_estimators=100, num_leaves=90,\n",
    "    #            random_state=42, reg_alpha=1.5, reg_lambda=1.5,\n",
    "    #            scale_pos_weight=2, verbosity=1, min_data_in_leaf=30,lambda_l2=0, lambda_l1 = 0.5)\n",
    "\n",
    "    model = lgb.LGBMClassifier(learning_rate=0.14048611339776612, max_depth=12,\n",
    "               min_child_weight=4.0, n_estimators=135, num_leaves=50,\n",
    "               random_state=42, reg_alpha=1.5, reg_lambda=1.5,\n",
    "               scale_pos_weight=2, verbosity=1, min_data_in_leaf=10,lambda_l2=1, lambda_l1 = 0)\n",
    "\n",
    "    # {'scale_pos_weight': 2, 'reg_lambda': 1.5, 'reg_alpha': 1.5, 'num_leaves': 50, \n",
    "    # 'n_estimators': 135, 'min_data_in_leaf': 10, 'min_child_weight': 4.0, 'max_depth': 12, 'lambda_l2': 1, 'lambda_l1': 0}\n",
    "               \n",
    "    #model.fit(x_train, y_train)\n",
    "    model.fit(x_train,y_train,eval_set=[(x_test,y_test),(x_train,y_train)],eval_metric='logloss')\n",
    "\n",
    "    ## get validation and test predicition\n",
    "    y_val_pred = model.predict(x_val)\n",
    "    print('Accuracy of random forest classifier on validation set using {}: {:.2f}'.format(variable, metrics.accuracy_score(y_val, y_val_pred)))\n",
    "   \n",
    "    y_test_pred = model.predict(x_test)\n",
    "    print('Accuracy of random forest classifier on test set using {}: {:.2f}'.format(variable, metrics.accuracy_score(y_test, y_test_pred)))\n",
    "\n",
    "    ## define metrics for roc\n",
    "    y_test_pred_proba = model.predict_proba(x_test)[:,1]\n",
    "    fpr, tpr, thresholds = roc_curve(y_test, y_test_pred_proba)\n",
    "    rf_roc_auc = roc_auc_score(y_test, y_test_pred_proba)\n",
    "    \n",
    "    ## create roc curve  \n",
    "    plt.rcParams[\"figure.figsize\"] = (4,3)\n",
    " \n",
    "    plt.figure()\n",
    "    plt.plot(fpr, tpr, label = 'LightGBM Classifier (area = %0.2f)' % rf_roc_auc)\n",
    "    plt.plot([0, 1], [0, 1],'r--')\n",
    "    plt.xlim([0.0, 1.0])\n",
    "    plt.ylim([0.0, 1.05])\n",
    "    plt.xlabel('False Positive Rate')\n",
    "    plt.ylabel('True Positive Rate')\n",
    "    plt.title('Receiver operating characteristic')\n",
    "    plt.legend(loc = \"lower right\")\n",
    "    plt.show()\n",
    "\n",
    "    ## define metric for precision and recall\n",
    "    precision, recall, thresholds = precision_recall_curve(y_test, y_test_pred_proba)\n",
    "    auc_precision_recall = auc(recall, precision)\n",
    "\n",
    "    ## create pr curve   \n",
    "    plt.figure()\n",
    "    plt.plot(recall, precision, label = 'LightGBM Classifier (area = %0.2f)' % auc_precision_recall)\n",
    "    plt.xlim([0.0, 1.0])\n",
    "    plt.ylim([0.0, 1.05])\n",
    "    plt.xlabel('Recall')\n",
    "    plt.ylabel('Precision')\n",
    "    plt.title('Precision-Recall')\n",
    "    plt.legend(loc = \"lower right\")\n",
    "    plt.show()"
   ]
  },
  {
   "cell_type": "code",
   "execution_count": 19,
   "metadata": {},
   "outputs": [
    {
     "name": "stdout",
     "output_type": "stream",
     "text": [
      "[LightGBM] [Warning] min_data_in_leaf is set=10, min_child_samples=20 will be ignored. Current value: min_data_in_leaf=10\n",
      "[LightGBM] [Warning] lambda_l1 is set=0, reg_alpha=1.5 will be ignored. Current value: lambda_l1=0\n",
      "[LightGBM] [Warning] lambda_l2 is set=1, reg_lambda=1.5 will be ignored. Current value: lambda_l2=1\n",
      "[LightGBM] [Info] Number of positive: 5483, number of negative: 24923\n",
      "[LightGBM] [Warning] Auto-choosing col-wise multi-threading, the overhead of testing was 0.005577 seconds.\n",
      "You can set `force_col_wise=true` to remove the overhead.\n",
      "[LightGBM] [Info] Total Bins 9365\n",
      "[LightGBM] [Info] Number of data points in the train set: 30406, number of used features: 53\n",
      "[LightGBM] [Warning] min_data_in_leaf is set=10, min_child_samples=20 will be ignored. Current value: min_data_in_leaf=10\n",
      "[LightGBM] [Warning] lambda_l1 is set=0, reg_alpha=1.5 will be ignored. Current value: lambda_l1=0\n",
      "[LightGBM] [Warning] lambda_l2 is set=1, reg_lambda=1.5 will be ignored. Current value: lambda_l2=1\n",
      "[LightGBM] [Info] [binary:BoostFromScore]: pavg=0.180326 -> initscore=-1.514139\n",
      "[LightGBM] [Info] Start training from score -1.514139\n",
      "[1]\ttraining's binary_logloss: 0.414036\tvalid_0's binary_logloss: 0.266213\n",
      "[2]\ttraining's binary_logloss: 0.378105\tvalid_0's binary_logloss: 0.253971\n",
      "[3]\ttraining's binary_logloss: 0.354216\tvalid_0's binary_logloss: 0.241831\n",
      "[4]\ttraining's binary_logloss: 0.336724\tvalid_0's binary_logloss: 0.231955\n",
      "[5]\ttraining's binary_logloss: 0.323606\tvalid_0's binary_logloss: 0.225072\n",
      "[6]\ttraining's binary_logloss: 0.312126\tvalid_0's binary_logloss: 0.219336\n",
      "[7]\ttraining's binary_logloss: 0.303797\tvalid_0's binary_logloss: 0.214036\n",
      "[8]\ttraining's binary_logloss: 0.295621\tvalid_0's binary_logloss: 0.210023\n",
      "[9]\ttraining's binary_logloss: 0.289749\tvalid_0's binary_logloss: 0.206308\n",
      "[10]\ttraining's binary_logloss: 0.283864\tvalid_0's binary_logloss: 0.207448\n",
      "[11]\ttraining's binary_logloss: 0.279053\tvalid_0's binary_logloss: 0.20449\n",
      "[12]\ttraining's binary_logloss: 0.274161\tvalid_0's binary_logloss: 0.203209\n",
      "[13]\ttraining's binary_logloss: 0.270111\tvalid_0's binary_logloss: 0.202651\n",
      "[14]\ttraining's binary_logloss: 0.266054\tvalid_0's binary_logloss: 0.199563\n",
      "[15]\ttraining's binary_logloss: 0.261367\tvalid_0's binary_logloss: 0.197806\n",
      "[16]\ttraining's binary_logloss: 0.257967\tvalid_0's binary_logloss: 0.195783\n",
      "[17]\ttraining's binary_logloss: 0.254507\tvalid_0's binary_logloss: 0.201584\n",
      "[18]\ttraining's binary_logloss: 0.250987\tvalid_0's binary_logloss: 0.20081\n",
      "[19]\ttraining's binary_logloss: 0.248033\tvalid_0's binary_logloss: 0.197395\n",
      "[20]\ttraining's binary_logloss: 0.245278\tvalid_0's binary_logloss: 0.19756\n",
      "[21]\ttraining's binary_logloss: 0.241949\tvalid_0's binary_logloss: 0.196806\n",
      "[22]\ttraining's binary_logloss: 0.239767\tvalid_0's binary_logloss: 0.19666\n",
      "[23]\ttraining's binary_logloss: 0.237497\tvalid_0's binary_logloss: 0.197519\n",
      "[24]\ttraining's binary_logloss: 0.235268\tvalid_0's binary_logloss: 0.198232\n",
      "[25]\ttraining's binary_logloss: 0.232941\tvalid_0's binary_logloss: 0.198473\n",
      "[26]\ttraining's binary_logloss: 0.230496\tvalid_0's binary_logloss: 0.197344\n",
      "[27]\ttraining's binary_logloss: 0.228174\tvalid_0's binary_logloss: 0.196407\n",
      "[28]\ttraining's binary_logloss: 0.226441\tvalid_0's binary_logloss: 0.199871\n",
      "[29]\ttraining's binary_logloss: 0.224327\tvalid_0's binary_logloss: 0.196067\n",
      "[30]\ttraining's binary_logloss: 0.222294\tvalid_0's binary_logloss: 0.194579\n",
      "[31]\ttraining's binary_logloss: 0.220631\tvalid_0's binary_logloss: 0.197822\n",
      "[32]\ttraining's binary_logloss: 0.21859\tvalid_0's binary_logloss: 0.202175\n",
      "[33]\ttraining's binary_logloss: 0.216769\tvalid_0's binary_logloss: 0.1979\n",
      "[34]\ttraining's binary_logloss: 0.21447\tvalid_0's binary_logloss: 0.195981\n",
      "[35]\ttraining's binary_logloss: 0.212659\tvalid_0's binary_logloss: 0.196417\n",
      "[36]\ttraining's binary_logloss: 0.210658\tvalid_0's binary_logloss: 0.194291\n",
      "[37]\ttraining's binary_logloss: 0.208756\tvalid_0's binary_logloss: 0.195598\n",
      "[38]\ttraining's binary_logloss: 0.207156\tvalid_0's binary_logloss: 0.19367\n",
      "[39]\ttraining's binary_logloss: 0.205541\tvalid_0's binary_logloss: 0.193431\n",
      "[40]\ttraining's binary_logloss: 0.203873\tvalid_0's binary_logloss: 0.192623\n",
      "[41]\ttraining's binary_logloss: 0.202334\tvalid_0's binary_logloss: 0.191755\n",
      "[42]\ttraining's binary_logloss: 0.200813\tvalid_0's binary_logloss: 0.191219\n",
      "[43]\ttraining's binary_logloss: 0.199273\tvalid_0's binary_logloss: 0.191309\n",
      "[44]\ttraining's binary_logloss: 0.197782\tvalid_0's binary_logloss: 0.191817\n",
      "[45]\ttraining's binary_logloss: 0.19628\tvalid_0's binary_logloss: 0.191529\n",
      "[46]\ttraining's binary_logloss: 0.194959\tvalid_0's binary_logloss: 0.191657\n",
      "[47]\ttraining's binary_logloss: 0.193478\tvalid_0's binary_logloss: 0.191451\n",
      "[48]\ttraining's binary_logloss: 0.192169\tvalid_0's binary_logloss: 0.192499\n",
      "[49]\ttraining's binary_logloss: 0.190644\tvalid_0's binary_logloss: 0.193686\n",
      "[50]\ttraining's binary_logloss: 0.189165\tvalid_0's binary_logloss: 0.194191\n",
      "[51]\ttraining's binary_logloss: 0.187687\tvalid_0's binary_logloss: 0.193572\n",
      "[52]\ttraining's binary_logloss: 0.186186\tvalid_0's binary_logloss: 0.192752\n",
      "[53]\ttraining's binary_logloss: 0.184854\tvalid_0's binary_logloss: 0.194314\n",
      "[54]\ttraining's binary_logloss: 0.183603\tvalid_0's binary_logloss: 0.193702\n",
      "[55]\ttraining's binary_logloss: 0.18228\tvalid_0's binary_logloss: 0.19454\n",
      "[56]\ttraining's binary_logloss: 0.181097\tvalid_0's binary_logloss: 0.196476\n",
      "[57]\ttraining's binary_logloss: 0.179961\tvalid_0's binary_logloss: 0.19812\n",
      "[LightGBM] [Warning] No further splits with positive gain, best gain: -inf\n",
      "[58]\ttraining's binary_logloss: 0.17914\tvalid_0's binary_logloss: 0.200894\n",
      "[59]\ttraining's binary_logloss: 0.177982\tvalid_0's binary_logloss: 0.200833\n",
      "[60]\ttraining's binary_logloss: 0.176921\tvalid_0's binary_logloss: 0.203866\n",
      "[61]\ttraining's binary_logloss: 0.175685\tvalid_0's binary_logloss: 0.20439\n",
      "[62]\ttraining's binary_logloss: 0.174471\tvalid_0's binary_logloss: 0.205893\n",
      "[63]\ttraining's binary_logloss: 0.173191\tvalid_0's binary_logloss: 0.209755\n",
      "[64]\ttraining's binary_logloss: 0.172142\tvalid_0's binary_logloss: 0.212104\n",
      "[65]\ttraining's binary_logloss: 0.171227\tvalid_0's binary_logloss: 0.217094\n",
      "[66]\ttraining's binary_logloss: 0.169944\tvalid_0's binary_logloss: 0.218171\n",
      "[67]\ttraining's binary_logloss: 0.168874\tvalid_0's binary_logloss: 0.222255\n",
      "[68]\ttraining's binary_logloss: 0.167372\tvalid_0's binary_logloss: 0.22238\n",
      "[69]\ttraining's binary_logloss: 0.1664\tvalid_0's binary_logloss: 0.226772\n",
      "[70]\ttraining's binary_logloss: 0.165433\tvalid_0's binary_logloss: 0.226581\n",
      "[71]\ttraining's binary_logloss: 0.164576\tvalid_0's binary_logloss: 0.232534\n",
      "[72]\ttraining's binary_logloss: 0.163571\tvalid_0's binary_logloss: 0.23285\n",
      "[73]\ttraining's binary_logloss: 0.162622\tvalid_0's binary_logloss: 0.231743\n",
      "[74]\ttraining's binary_logloss: 0.161278\tvalid_0's binary_logloss: 0.236759\n",
      "[75]\ttraining's binary_logloss: 0.16036\tvalid_0's binary_logloss: 0.234001\n",
      "[76]\ttraining's binary_logloss: 0.159379\tvalid_0's binary_logloss: 0.236804\n",
      "[77]\ttraining's binary_logloss: 0.158394\tvalid_0's binary_logloss: 0.231936\n",
      "[LightGBM] [Warning] No further splits with positive gain, best gain: -inf\n",
      "[78]\ttraining's binary_logloss: 0.157816\tvalid_0's binary_logloss: 0.231037\n",
      "[79]\ttraining's binary_logloss: 0.156684\tvalid_0's binary_logloss: 0.235633\n",
      "[80]\ttraining's binary_logloss: 0.155761\tvalid_0's binary_logloss: 0.237132\n",
      "[81]\ttraining's binary_logloss: 0.154583\tvalid_0's binary_logloss: 0.239704\n",
      "[82]\ttraining's binary_logloss: 0.153542\tvalid_0's binary_logloss: 0.237791\n",
      "[83]\ttraining's binary_logloss: 0.152619\tvalid_0's binary_logloss: 0.243266\n",
      "[84]\ttraining's binary_logloss: 0.151647\tvalid_0's binary_logloss: 0.240168\n",
      "[85]\ttraining's binary_logloss: 0.150916\tvalid_0's binary_logloss: 0.241257\n",
      "[86]\ttraining's binary_logloss: 0.149901\tvalid_0's binary_logloss: 0.240339\n",
      "[87]\ttraining's binary_logloss: 0.148893\tvalid_0's binary_logloss: 0.246625\n",
      "[88]\ttraining's binary_logloss: 0.148042\tvalid_0's binary_logloss: 0.249699\n",
      "[89]\ttraining's binary_logloss: 0.147117\tvalid_0's binary_logloss: 0.245697\n",
      "[90]\ttraining's binary_logloss: 0.1462\tvalid_0's binary_logloss: 0.245641\n",
      "[91]\ttraining's binary_logloss: 0.145377\tvalid_0's binary_logloss: 0.249001\n",
      "[92]\ttraining's binary_logloss: 0.144609\tvalid_0's binary_logloss: 0.252408\n",
      "[93]\ttraining's binary_logloss: 0.143719\tvalid_0's binary_logloss: 0.249876\n",
      "[94]\ttraining's binary_logloss: 0.142818\tvalid_0's binary_logloss: 0.250713\n",
      "[95]\ttraining's binary_logloss: 0.141818\tvalid_0's binary_logloss: 0.256396\n",
      "[96]\ttraining's binary_logloss: 0.140805\tvalid_0's binary_logloss: 0.260504\n",
      "[97]\ttraining's binary_logloss: 0.139866\tvalid_0's binary_logloss: 0.263305\n",
      "[98]\ttraining's binary_logloss: 0.139079\tvalid_0's binary_logloss: 0.264825\n",
      "[99]\ttraining's binary_logloss: 0.138254\tvalid_0's binary_logloss: 0.271198\n",
      "[100]\ttraining's binary_logloss: 0.137355\tvalid_0's binary_logloss: 0.268934\n",
      "[101]\ttraining's binary_logloss: 0.136627\tvalid_0's binary_logloss: 0.265674\n",
      "[102]\ttraining's binary_logloss: 0.135852\tvalid_0's binary_logloss: 0.2661\n",
      "[103]\ttraining's binary_logloss: 0.134768\tvalid_0's binary_logloss: 0.270073\n",
      "[104]\ttraining's binary_logloss: 0.133948\tvalid_0's binary_logloss: 0.275771\n",
      "[105]\ttraining's binary_logloss: 0.133032\tvalid_0's binary_logloss: 0.275646\n",
      "[106]\ttraining's binary_logloss: 0.132246\tvalid_0's binary_logloss: 0.281101\n",
      "[107]\ttraining's binary_logloss: 0.13156\tvalid_0's binary_logloss: 0.284571\n",
      "[108]\ttraining's binary_logloss: 0.130795\tvalid_0's binary_logloss: 0.289802\n",
      "[109]\ttraining's binary_logloss: 0.130056\tvalid_0's binary_logloss: 0.295798\n",
      "[LightGBM] [Warning] No further splits with positive gain, best gain: -inf\n",
      "[110]\ttraining's binary_logloss: 0.129567\tvalid_0's binary_logloss: 0.298647\n",
      "[111]\ttraining's binary_logloss: 0.12858\tvalid_0's binary_logloss: 0.30279\n",
      "[112]\ttraining's binary_logloss: 0.127799\tvalid_0's binary_logloss: 0.308973\n",
      "[113]\ttraining's binary_logloss: 0.127149\tvalid_0's binary_logloss: 0.30926\n",
      "[114]\ttraining's binary_logloss: 0.126392\tvalid_0's binary_logloss: 0.314009\n",
      "[115]\ttraining's binary_logloss: 0.12554\tvalid_0's binary_logloss: 0.316765\n",
      "[116]\ttraining's binary_logloss: 0.124782\tvalid_0's binary_logloss: 0.314906\n",
      "[117]\ttraining's binary_logloss: 0.12411\tvalid_0's binary_logloss: 0.31246\n",
      "[118]\ttraining's binary_logloss: 0.123527\tvalid_0's binary_logloss: 0.318402\n",
      "[119]\ttraining's binary_logloss: 0.122833\tvalid_0's binary_logloss: 0.322927\n",
      "[120]\ttraining's binary_logloss: 0.12209\tvalid_0's binary_logloss: 0.322887\n",
      "[121]\ttraining's binary_logloss: 0.121367\tvalid_0's binary_logloss: 0.328238\n",
      "[122]\ttraining's binary_logloss: 0.120405\tvalid_0's binary_logloss: 0.331587\n",
      "[123]\ttraining's binary_logloss: 0.119516\tvalid_0's binary_logloss: 0.331443\n",
      "[124]\ttraining's binary_logloss: 0.118768\tvalid_0's binary_logloss: 0.33081\n",
      "[125]\ttraining's binary_logloss: 0.118078\tvalid_0's binary_logloss: 0.336396\n",
      "[126]\ttraining's binary_logloss: 0.117486\tvalid_0's binary_logloss: 0.335761\n",
      "[127]\ttraining's binary_logloss: 0.116777\tvalid_0's binary_logloss: 0.335266\n",
      "[128]\ttraining's binary_logloss: 0.116034\tvalid_0's binary_logloss: 0.340459\n",
      "[129]\ttraining's binary_logloss: 0.11529\tvalid_0's binary_logloss: 0.340522\n",
      "[130]\ttraining's binary_logloss: 0.114581\tvalid_0's binary_logloss: 0.345891\n",
      "[131]\ttraining's binary_logloss: 0.113846\tvalid_0's binary_logloss: 0.347324\n",
      "[132]\ttraining's binary_logloss: 0.113258\tvalid_0's binary_logloss: 0.350195\n",
      "[133]\ttraining's binary_logloss: 0.112474\tvalid_0's binary_logloss: 0.34777\n",
      "[134]\ttraining's binary_logloss: 0.111857\tvalid_0's binary_logloss: 0.353029\n",
      "[135]\ttraining's binary_logloss: 0.111206\tvalid_0's binary_logloss: 0.349039\n",
      "Accuracy of random forest classifier on validation set using 25th quantile: 0.95\n",
      "Accuracy of random forest classifier on test set using 25th quantile: 0.95\n"
     ]
    },
    {
     "data": {
      "image/png": "[encoded data removed]",
      "text/plain": [
       "<Figure size 400x300 with 1 Axes>"
      ]
     },
     "metadata": {},
     "output_type": "display_data"
    },
    {
     "data": {
      "image/png": "[encoded data removed]",
      "text/plain": [
       "<Figure size 400x300 with 1 Axes>"
      ]
     },
     "metadata": {},
     "output_type": "display_data"
    }
   ],
   "source": [
    "lgbmodel(X_train, y_train.values.ravel(), X_val, y_val.values.ravel(), X_test, y_test.values.ravel(), \"25th quantile\")"
   ]
  },
  {
   "cell_type": "code",
   "execution_count": 49,
   "metadata": {},
   "outputs": [
    {
     "name": "stdout",
     "output_type": "stream",
     "text": [
      "[LightGBM] [Warning] min_data_in_leaf is set=25, min_child_samples=20 will be ignored. Current value: min_data_in_leaf=25\n",
      "[LightGBM] [Warning] lambda_l1 is set=1.5, reg_alpha=1.5 will be ignored. Current value: lambda_l1=1.5\n",
      "[LightGBM] [Warning] lambda_l2 is set=0, reg_lambda=2 will be ignored. Current value: lambda_l2=0\n",
      "[LightGBM] [Warning] min_data_in_leaf is set=25, min_child_samples=20 will be ignored. Current value: min_data_in_leaf=25\n",
      "[LightGBM] [Warning] lambda_l1 is set=1.5, reg_alpha=1.5 will be ignored. Current value: lambda_l1=1.5\n",
      "[LightGBM] [Warning] lambda_l2 is set=0, reg_lambda=2 will be ignored. Current value: lambda_l2=0\n",
      "[LightGBM] [Info] Number of positive: 5483, number of negative: 24923\n",
      "[LightGBM] [Warning] Auto-choosing col-wise multi-threading, the overhead of testing was 0.005834 seconds.\n",
      "You can set `force_col_wise=true` to remove the overhead.\n",
      "[LightGBM] [Info] Total Bins 2544\n",
      "[LightGBM] [Info] Number of data points in the train set: 30406, number of used features: 26\n",
      "[LightGBM] [Warning] min_data_in_leaf is set=25, min_child_samples=20 will be ignored. Current value: min_data_in_leaf=25\n",
      "[LightGBM] [Warning] lambda_l1 is set=1.5, reg_alpha=1.5 will be ignored. Current value: lambda_l1=1.5\n",
      "[LightGBM] [Warning] lambda_l2 is set=0, reg_lambda=2 will be ignored. Current value: lambda_l2=0\n",
      "[LightGBM] [Info] [binary:BoostFromScore]: pavg=0.180326 -> initscore=-1.514139\n",
      "[LightGBM] [Info] Start training from score -1.514139\n",
      "[1]\ttraining's binary_logloss: 0.414788\tvalid_0's binary_logloss: 0.281428\n",
      "[2]\ttraining's binary_logloss: 0.387632\tvalid_0's binary_logloss: 0.283013\n",
      "[3]\ttraining's binary_logloss: 0.372145\tvalid_0's binary_logloss: 0.28636\n",
      "[4]\ttraining's binary_logloss: 0.362379\tvalid_0's binary_logloss: 0.292392\n",
      "[5]\ttraining's binary_logloss: 0.355433\tvalid_0's binary_logloss: 0.284153\n",
      "[6]\ttraining's binary_logloss: 0.35044\tvalid_0's binary_logloss: 0.285459\n",
      "[7]\ttraining's binary_logloss: 0.345736\tvalid_0's binary_logloss: 0.328782\n",
      "[8]\ttraining's binary_logloss: 0.342983\tvalid_0's binary_logloss: 0.314151\n",
      "[9]\ttraining's binary_logloss: 0.340777\tvalid_0's binary_logloss: 0.299312\n",
      "[10]\ttraining's binary_logloss: 0.338335\tvalid_0's binary_logloss: 0.293231\n",
      "[11]\ttraining's binary_logloss: 0.336149\tvalid_0's binary_logloss: 0.303999\n",
      "[12]\ttraining's binary_logloss: 0.333735\tvalid_0's binary_logloss: 0.283803\n",
      "[13]\ttraining's binary_logloss: 0.330531\tvalid_0's binary_logloss: 0.266801\n",
      "[14]\ttraining's binary_logloss: 0.327705\tvalid_0's binary_logloss: 0.277345\n",
      "[15]\ttraining's binary_logloss: 0.324466\tvalid_0's binary_logloss: 0.264033\n",
      "[16]\ttraining's binary_logloss: 0.321736\tvalid_0's binary_logloss: 0.258846\n",
      "[17]\ttraining's binary_logloss: 0.318367\tvalid_0's binary_logloss: 0.273308\n",
      "[18]\ttraining's binary_logloss: 0.315346\tvalid_0's binary_logloss: 0.267333\n",
      "[19]\ttraining's binary_logloss: 0.312921\tvalid_0's binary_logloss: 0.251593\n",
      "[20]\ttraining's binary_logloss: 0.309859\tvalid_0's binary_logloss: 0.239573\n",
      "[21]\ttraining's binary_logloss: 0.306513\tvalid_0's binary_logloss: 0.228937\n",
      "[22]\ttraining's binary_logloss: 0.302594\tvalid_0's binary_logloss: 0.222125\n",
      "[23]\ttraining's binary_logloss: 0.299217\tvalid_0's binary_logloss: 0.230045\n",
      "[24]\ttraining's binary_logloss: 0.296086\tvalid_0's binary_logloss: 0.220223\n",
      "[25]\ttraining's binary_logloss: 0.292541\tvalid_0's binary_logloss: 0.214983\n",
      "[26]\ttraining's binary_logloss: 0.288634\tvalid_0's binary_logloss: 0.207346\n",
      "[27]\ttraining's binary_logloss: 0.285233\tvalid_0's binary_logloss: 0.205944\n",
      "[28]\ttraining's binary_logloss: 0.281641\tvalid_0's binary_logloss: 0.203689\n",
      "[29]\ttraining's binary_logloss: 0.278782\tvalid_0's binary_logloss: 0.204265\n",
      "[30]\ttraining's binary_logloss: 0.275354\tvalid_0's binary_logloss: 0.202425\n",
      "[31]\ttraining's binary_logloss: 0.272039\tvalid_0's binary_logloss: 0.19949\n",
      "[32]\ttraining's binary_logloss: 0.269049\tvalid_0's binary_logloss: 0.199675\n",
      "[33]\ttraining's binary_logloss: 0.265692\tvalid_0's binary_logloss: 0.203933\n",
      "[34]\ttraining's binary_logloss: 0.26271\tvalid_0's binary_logloss: 0.201078\n",
      "[35]\ttraining's binary_logloss: 0.260225\tvalid_0's binary_logloss: 0.199585\n",
      "[36]\ttraining's binary_logloss: 0.256887\tvalid_0's binary_logloss: 0.199373\n",
      "[37]\ttraining's binary_logloss: 0.253164\tvalid_0's binary_logloss: 0.198608\n",
      "[38]\ttraining's binary_logloss: 0.250028\tvalid_0's binary_logloss: 0.19971\n",
      "[LightGBM] [Warning] No further splits with positive gain, best gain: -inf\n",
      "[39]\ttraining's binary_logloss: 0.248193\tvalid_0's binary_logloss: 0.200896\n",
      "[LightGBM] [Warning] No further splits with positive gain, best gain: -inf\n",
      "[40]\ttraining's binary_logloss: 0.246362\tvalid_0's binary_logloss: 0.201589\n",
      "[LightGBM] [Warning] No further splits with positive gain, best gain: -inf\n",
      "[41]\ttraining's binary_logloss: 0.24415\tvalid_0's binary_logloss: 0.200665\n",
      "[42]\ttraining's binary_logloss: 0.241307\tvalid_0's binary_logloss: 0.201303\n",
      "[43]\ttraining's binary_logloss: 0.237955\tvalid_0's binary_logloss: 0.20215\n",
      "[LightGBM] [Warning] No further splits with positive gain, best gain: -inf\n",
      "[44]\ttraining's binary_logloss: 0.235579\tvalid_0's binary_logloss: 0.205112\n",
      "[LightGBM] [Warning] No further splits with positive gain, best gain: -inf\n",
      "[45]\ttraining's binary_logloss: 0.234087\tvalid_0's binary_logloss: 0.204122\n",
      "[LightGBM] [Warning] No further splits with positive gain, best gain: -inf\n",
      "[46]\ttraining's binary_logloss: 0.231759\tvalid_0's binary_logloss: 0.203077\n",
      "[47]\ttraining's binary_logloss: 0.228944\tvalid_0's binary_logloss: 0.202374\n",
      "[LightGBM] [Warning] No further splits with positive gain, best gain: -inf\n",
      "[48]\ttraining's binary_logloss: 0.227138\tvalid_0's binary_logloss: 0.201996\n",
      "[LightGBM] [Warning] No further splits with positive gain, best gain: -inf\n",
      "[49]\ttraining's binary_logloss: 0.224909\tvalid_0's binary_logloss: 0.201996\n",
      "[LightGBM] [Warning] No further splits with positive gain, best gain: -inf\n",
      "[50]\ttraining's binary_logloss: 0.22319\tvalid_0's binary_logloss: 0.200629\n",
      "[51]\ttraining's binary_logloss: 0.220857\tvalid_0's binary_logloss: 0.20057\n",
      "[LightGBM] [Warning] No further splits with positive gain, best gain: -inf\n",
      "[52]\ttraining's binary_logloss: 0.21938\tvalid_0's binary_logloss: 0.200757\n",
      "[53]\ttraining's binary_logloss: 0.216589\tvalid_0's binary_logloss: 0.200986\n",
      "[54]\ttraining's binary_logloss: 0.214103\tvalid_0's binary_logloss: 0.20229\n",
      "[LightGBM] [Warning] No further splits with positive gain, best gain: -inf\n",
      "[55]\ttraining's binary_logloss: 0.212903\tvalid_0's binary_logloss: 0.20229\n",
      "[LightGBM] [Warning] No further splits with positive gain, best gain: -inf\n",
      "[56]\ttraining's binary_logloss: 0.21115\tvalid_0's binary_logloss: 0.202499\n",
      "[LightGBM] [Warning] No further splits with positive gain, best gain: -inf\n",
      "[57]\ttraining's binary_logloss: 0.209753\tvalid_0's binary_logloss: 0.201982\n",
      "[58]\ttraining's binary_logloss: 0.207357\tvalid_0's binary_logloss: 0.203465\n",
      "[59]\ttraining's binary_logloss: 0.204687\tvalid_0's binary_logloss: 0.203583\n",
      "[LightGBM] [Warning] No further splits with positive gain, best gain: -inf\n",
      "[60]\ttraining's binary_logloss: 0.202544\tvalid_0's binary_logloss: 0.203583\n",
      "[61]\ttraining's binary_logloss: 0.199846\tvalid_0's binary_logloss: 0.203858\n",
      "[62]\ttraining's binary_logloss: 0.197718\tvalid_0's binary_logloss: 0.2033\n",
      "[LightGBM] [Warning] No further splits with positive gain, best gain: -inf\n",
      "[63]\ttraining's binary_logloss: 0.19688\tvalid_0's binary_logloss: 0.203194\n",
      "[LightGBM] [Warning] No further splits with positive gain, best gain: -inf\n",
      "[64]\ttraining's binary_logloss: 0.195365\tvalid_0's binary_logloss: 0.203386\n",
      "[65]\ttraining's binary_logloss: 0.193157\tvalid_0's binary_logloss: 0.203616\n",
      "[66]\ttraining's binary_logloss: 0.191232\tvalid_0's binary_logloss: 0.203477\n",
      "[67]\ttraining's binary_logloss: 0.188963\tvalid_0's binary_logloss: 0.2038\n",
      "[LightGBM] [Warning] No further splits with positive gain, best gain: -inf\n",
      "[68]\ttraining's binary_logloss: 0.187999\tvalid_0's binary_logloss: 0.204101\n",
      "[69]\ttraining's binary_logloss: 0.185662\tvalid_0's binary_logloss: 0.203767\n",
      "[70]\ttraining's binary_logloss: 0.183993\tvalid_0's binary_logloss: 0.203327\n",
      "[71]\ttraining's binary_logloss: 0.181706\tvalid_0's binary_logloss: 0.203633\n",
      "[LightGBM] [Warning] No further splits with positive gain, best gain: -inf\n",
      "[72]\ttraining's binary_logloss: 0.1813\tvalid_0's binary_logloss: 0.203579\n",
      "[73]\ttraining's binary_logloss: 0.179231\tvalid_0's binary_logloss: 0.203586\n",
      "[74]\ttraining's binary_logloss: 0.177176\tvalid_0's binary_logloss: 0.203716\n",
      "[75]\ttraining's binary_logloss: 0.175196\tvalid_0's binary_logloss: 0.202358\n",
      "[76]\ttraining's binary_logloss: 0.173299\tvalid_0's binary_logloss: 0.202358\n",
      "[LightGBM] [Warning] No further splits with positive gain, best gain: -inf\n",
      "[77]\ttraining's binary_logloss: 0.171612\tvalid_0's binary_logloss: 0.202497\n",
      "[78]\ttraining's binary_logloss: 0.169455\tvalid_0's binary_logloss: 0.201879\n",
      "[79]\ttraining's binary_logloss: 0.167473\tvalid_0's binary_logloss: 0.201405\n",
      "[LightGBM] [Warning] No further splits with positive gain, best gain: -inf\n",
      "[80]\ttraining's binary_logloss: 0.165883\tvalid_0's binary_logloss: 0.20147\n",
      "[81]\ttraining's binary_logloss: 0.164177\tvalid_0's binary_logloss: 0.201185\n",
      "[82]\ttraining's binary_logloss: 0.162398\tvalid_0's binary_logloss: 0.200572\n",
      "[83]\ttraining's binary_logloss: 0.16069\tvalid_0's binary_logloss: 0.20083\n",
      "[84]\ttraining's binary_logloss: 0.158747\tvalid_0's binary_logloss: 0.200878\n",
      "[LightGBM] [Warning] No further splits with positive gain, best gain: -inf\n",
      "[85]\ttraining's binary_logloss: 0.157569\tvalid_0's binary_logloss: 0.200724\n",
      "[LightGBM] [Warning] No further splits with positive gain, best gain: -inf\n",
      "[86]\ttraining's binary_logloss: 0.156962\tvalid_0's binary_logloss: 0.200918\n",
      "[87]\ttraining's binary_logloss: 0.155302\tvalid_0's binary_logloss: 0.201349\n",
      "[LightGBM] [Warning] No further splits with positive gain, best gain: -inf\n",
      "[88]\ttraining's binary_logloss: 0.153611\tvalid_0's binary_logloss: 0.201349\n",
      "[LightGBM] [Warning] No further splits with positive gain, best gain: -inf\n",
      "[89]\ttraining's binary_logloss: 0.152225\tvalid_0's binary_logloss: 0.201368\n",
      "[90]\ttraining's binary_logloss: 0.150538\tvalid_0's binary_logloss: 0.20208\n",
      "[LightGBM] [Warning] No further splits with positive gain, best gain: -inf\n",
      "[91]\ttraining's binary_logloss: 0.14927\tvalid_0's binary_logloss: 0.20208\n",
      "[92]\ttraining's binary_logloss: 0.14767\tvalid_0's binary_logloss: 0.202064\n",
      "[93]\ttraining's binary_logloss: 0.146038\tvalid_0's binary_logloss: 0.202137\n",
      "[94]\ttraining's binary_logloss: 0.144316\tvalid_0's binary_logloss: 0.199676\n",
      "[95]\ttraining's binary_logloss: 0.142747\tvalid_0's binary_logloss: 0.199621\n",
      "[96]\ttraining's binary_logloss: 0.141359\tvalid_0's binary_logloss: 0.199225\n",
      "[LightGBM] [Warning] No further splits with positive gain, best gain: -inf\n",
      "[97]\ttraining's binary_logloss: 0.140761\tvalid_0's binary_logloss: 0.199638\n",
      "[LightGBM] [Warning] No further splits with positive gain, best gain: -inf\n",
      "[98]\ttraining's binary_logloss: 0.139745\tvalid_0's binary_logloss: 0.198772\n",
      "[LightGBM] [Warning] No further splits with positive gain, best gain: -inf\n",
      "[99]\ttraining's binary_logloss: 0.138657\tvalid_0's binary_logloss: 0.198772\n",
      "[LightGBM] [Warning] No further splits with positive gain, best gain: -inf\n",
      "[100]\ttraining's binary_logloss: 0.138047\tvalid_0's binary_logloss: 0.199068\n",
      "[101]\ttraining's binary_logloss: 0.136465\tvalid_0's binary_logloss: 0.19926\n",
      "[102]\ttraining's binary_logloss: 0.135034\tvalid_0's binary_logloss: 0.200138\n",
      "[103]\ttraining's binary_logloss: 0.133593\tvalid_0's binary_logloss: 0.199539\n",
      "[LightGBM] [Warning] No further splits with positive gain, best gain: -inf\n",
      "[104]\ttraining's binary_logloss: 0.132819\tvalid_0's binary_logloss: 0.198679\n",
      "[105]\ttraining's binary_logloss: 0.1314\tvalid_0's binary_logloss: 0.198959\n",
      "[LightGBM] [Warning] No further splits with positive gain, best gain: -inf\n",
      "[106]\ttraining's binary_logloss: 0.130683\tvalid_0's binary_logloss: 0.19904\n",
      "[LightGBM] [Warning] No further splits with positive gain, best gain: -inf\n",
      "[107]\ttraining's binary_logloss: 0.129762\tvalid_0's binary_logloss: 0.199079\n",
      "[LightGBM] [Warning] No further splits with positive gain, best gain: -inf\n",
      "[108]\ttraining's binary_logloss: 0.128821\tvalid_0's binary_logloss: 0.198713\n",
      "[109]\ttraining's binary_logloss: 0.127627\tvalid_0's binary_logloss: 0.19877\n",
      "[110]\ttraining's binary_logloss: 0.126319\tvalid_0's binary_logloss: 0.197626\n",
      "[111]\ttraining's binary_logloss: 0.125092\tvalid_0's binary_logloss: 0.196712\n",
      "[112]\ttraining's binary_logloss: 0.123788\tvalid_0's binary_logloss: 0.196798\n",
      "[LightGBM] [Warning] No further splits with positive gain, best gain: -inf\n",
      "[113]\ttraining's binary_logloss: 0.123655\tvalid_0's binary_logloss: 0.19585\n",
      "[114]\ttraining's binary_logloss: 0.122532\tvalid_0's binary_logloss: 0.196705\n",
      "[LightGBM] [Warning] No further splits with positive gain, best gain: -inf\n",
      "[115]\ttraining's binary_logloss: 0.121702\tvalid_0's binary_logloss: 0.196763\n",
      "[LightGBM] [Warning] No further splits with positive gain, best gain: -inf\n",
      "[116]\ttraining's binary_logloss: 0.120659\tvalid_0's binary_logloss: 0.197354\n",
      "[117]\ttraining's binary_logloss: 0.119562\tvalid_0's binary_logloss: 0.197354\n",
      "[LightGBM] [Warning] No further splits with positive gain, best gain: -inf\n",
      "[118]\ttraining's binary_logloss: 0.118808\tvalid_0's binary_logloss: 0.197816\n",
      "[119]\ttraining's binary_logloss: 0.117614\tvalid_0's binary_logloss: 0.198165\n",
      "[120]\ttraining's binary_logloss: 0.116444\tvalid_0's binary_logloss: 0.198064\n",
      "[121]\ttraining's binary_logloss: 0.115262\tvalid_0's binary_logloss: 0.199044\n",
      "[122]\ttraining's binary_logloss: 0.114077\tvalid_0's binary_logloss: 0.200701\n",
      "[LightGBM] [Warning] No further splits with positive gain, best gain: -inf\n",
      "[123]\ttraining's binary_logloss: 0.113232\tvalid_0's binary_logloss: 0.200187\n",
      "[124]\ttraining's binary_logloss: 0.112172\tvalid_0's binary_logloss: 0.201129\n",
      "[LightGBM] [Warning] No further splits with positive gain, best gain: -inf\n",
      "[125]\ttraining's binary_logloss: 0.111399\tvalid_0's binary_logloss: 0.201071\n",
      "Accuracy of random forest classifier on validation set using 50th quantile: 0.95\n",
      "Accuracy of random forest classifier on test set using 50th quantile: 0.95\n"
     ]
    },
    {
     "data": {
      "image/png": "[encoded data removed]",
      "text/plain": [
       "<Figure size 400x300 with 1 Axes>"
      ]
     },
     "metadata": {},
     "output_type": "display_data"
    },
    {
     "data": {
      "image/png": "[encoded data removed]",
      "text/plain": [
       "<Figure size 400x300 with 1 Axes>"
      ]
     },
     "metadata": {},
     "output_type": "display_data"
    }
   ],
   "source": [
    "lgbmodel(X_train_75, y_train.values.ravel(), X_val_75, y_val.values.ravel(), X_test_75, y_test.values.ravel(), \"75th quantile\")"
   ]
  },
  {
   "cell_type": "code",
   "execution_count": 52,
   "metadata": {},
   "outputs": [
    {
     "name": "stdout",
     "output_type": "stream",
     "text": [
      "[LightGBM] [Warning] min_data_in_leaf is set=25, min_child_samples=20 will be ignored. Current value: min_data_in_leaf=25\n",
      "[LightGBM] [Warning] lambda_l1 is set=1.5, reg_alpha=1.5 will be ignored. Current value: lambda_l1=1.5\n",
      "[LightGBM] [Warning] lambda_l2 is set=0, reg_lambda=2 will be ignored. Current value: lambda_l2=0\n",
      "[LightGBM] [Warning] min_data_in_leaf is set=25, min_child_samples=20 will be ignored. Current value: min_data_in_leaf=25\n",
      "[LightGBM] [Warning] lambda_l1 is set=1.5, reg_alpha=1.5 will be ignored. Current value: lambda_l1=1.5\n",
      "[LightGBM] [Warning] lambda_l2 is set=0, reg_lambda=2 will be ignored. Current value: lambda_l2=0\n",
      "[LightGBM] [Info] Number of positive: 5483, number of negative: 24923\n",
      "[LightGBM] [Warning] Auto-choosing row-wise multi-threading, the overhead of testing was 0.000619 seconds.\n",
      "You can set `force_row_wise=true` to remove the overhead.\n",
      "And if memory is not enough, you can set `force_col_wise=true`.\n",
      "[LightGBM] [Info] Total Bins 2582\n",
      "[LightGBM] [Info] Number of data points in the train set: 30406, number of used features: 26\n",
      "[LightGBM] [Warning] min_data_in_leaf is set=25, min_child_samples=20 will be ignored. Current value: min_data_in_leaf=25\n",
      "[LightGBM] [Warning] lambda_l1 is set=1.5, reg_alpha=1.5 will be ignored. Current value: lambda_l1=1.5\n",
      "[LightGBM] [Warning] lambda_l2 is set=0, reg_lambda=2 will be ignored. Current value: lambda_l2=0\n",
      "[LightGBM] [Info] [binary:BoostFromScore]: pavg=0.180326 -> initscore=-1.514139\n",
      "[LightGBM] [Info] Start training from score -1.514139\n",
      "[1]\ttraining's binary_logloss: 0.407206\tvalid_0's binary_logloss: 0.273419\n",
      "[2]\ttraining's binary_logloss: 0.375312\tvalid_0's binary_logloss: 0.262419\n",
      "[3]\ttraining's binary_logloss: 0.356303\tvalid_0's binary_logloss: 0.25511\n",
      "[4]\ttraining's binary_logloss: 0.342141\tvalid_0's binary_logloss: 0.251742\n",
      "[5]\ttraining's binary_logloss: 0.332718\tvalid_0's binary_logloss: 0.246062\n",
      "[6]\ttraining's binary_logloss: 0.325702\tvalid_0's binary_logloss: 0.237301\n",
      "[7]\ttraining's binary_logloss: 0.320244\tvalid_0's binary_logloss: 0.2275\n",
      "[8]\ttraining's binary_logloss: 0.315971\tvalid_0's binary_logloss: 0.219466\n",
      "[9]\ttraining's binary_logloss: 0.312191\tvalid_0's binary_logloss: 0.212119\n",
      "[10]\ttraining's binary_logloss: 0.307952\tvalid_0's binary_logloss: 0.207946\n",
      "[11]\ttraining's binary_logloss: 0.30458\tvalid_0's binary_logloss: 0.213445\n",
      "[12]\ttraining's binary_logloss: 0.301132\tvalid_0's binary_logloss: 0.211144\n",
      "[13]\ttraining's binary_logloss: 0.298367\tvalid_0's binary_logloss: 0.213816\n",
      "[14]\ttraining's binary_logloss: 0.29545\tvalid_0's binary_logloss: 0.211192\n",
      "[15]\ttraining's binary_logloss: 0.291845\tvalid_0's binary_logloss: 0.207765\n",
      "[16]\ttraining's binary_logloss: 0.288153\tvalid_0's binary_logloss: 0.208493\n",
      "[17]\ttraining's binary_logloss: 0.284465\tvalid_0's binary_logloss: 0.207849\n",
      "[18]\ttraining's binary_logloss: 0.280365\tvalid_0's binary_logloss: 0.206317\n",
      "[19]\ttraining's binary_logloss: 0.276646\tvalid_0's binary_logloss: 0.203251\n",
      "[20]\ttraining's binary_logloss: 0.272998\tvalid_0's binary_logloss: 0.201908\n",
      "[21]\ttraining's binary_logloss: 0.269188\tvalid_0's binary_logloss: 0.201196\n",
      "[22]\ttraining's binary_logloss: 0.265747\tvalid_0's binary_logloss: 0.20117\n",
      "[23]\ttraining's binary_logloss: 0.262534\tvalid_0's binary_logloss: 0.202477\n",
      "[24]\ttraining's binary_logloss: 0.258991\tvalid_0's binary_logloss: 0.201172\n",
      "[25]\ttraining's binary_logloss: 0.255595\tvalid_0's binary_logloss: 0.203289\n",
      "[26]\ttraining's binary_logloss: 0.252424\tvalid_0's binary_logloss: 0.202248\n",
      "[27]\ttraining's binary_logloss: 0.248869\tvalid_0's binary_logloss: 0.204096\n",
      "[28]\ttraining's binary_logloss: 0.244944\tvalid_0's binary_logloss: 0.205484\n",
      "[29]\ttraining's binary_logloss: 0.242137\tvalid_0's binary_logloss: 0.204299\n",
      "[30]\ttraining's binary_logloss: 0.239005\tvalid_0's binary_logloss: 0.206014\n",
      "[31]\ttraining's binary_logloss: 0.235955\tvalid_0's binary_logloss: 0.208895\n",
      "[LightGBM] [Warning] No further splits with positive gain, best gain: -inf\n",
      "[32]\ttraining's binary_logloss: 0.233438\tvalid_0's binary_logloss: 0.213661\n",
      "[33]\ttraining's binary_logloss: 0.230593\tvalid_0's binary_logloss: 0.210964\n",
      "[34]\ttraining's binary_logloss: 0.227754\tvalid_0's binary_logloss: 0.21124\n",
      "[35]\ttraining's binary_logloss: 0.22437\tvalid_0's binary_logloss: 0.216195\n",
      "[36]\ttraining's binary_logloss: 0.221459\tvalid_0's binary_logloss: 0.217784\n",
      "[LightGBM] [Warning] No further splits with positive gain, best gain: -inf\n",
      "[37]\ttraining's binary_logloss: 0.219409\tvalid_0's binary_logloss: 0.214348\n",
      "[38]\ttraining's binary_logloss: 0.21657\tvalid_0's binary_logloss: 0.216726\n",
      "[39]\ttraining's binary_logloss: 0.213234\tvalid_0's binary_logloss: 0.216726\n",
      "[LightGBM] [Warning] No further splits with positive gain, best gain: -inf\n",
      "[40]\ttraining's binary_logloss: 0.211563\tvalid_0's binary_logloss: 0.216649\n",
      "[LightGBM] [Warning] No further splits with positive gain, best gain: -inf\n",
      "[41]\ttraining's binary_logloss: 0.209666\tvalid_0's binary_logloss: 0.214014\n",
      "[42]\ttraining's binary_logloss: 0.20709\tvalid_0's binary_logloss: 0.214592\n",
      "[43]\ttraining's binary_logloss: 0.204174\tvalid_0's binary_logloss: 0.214044\n",
      "[44]\ttraining's binary_logloss: 0.201829\tvalid_0's binary_logloss: 0.214119\n",
      "[45]\ttraining's binary_logloss: 0.199282\tvalid_0's binary_logloss: 0.212785\n",
      "[46]\ttraining's binary_logloss: 0.197058\tvalid_0's binary_logloss: 0.212785\n",
      "[LightGBM] [Warning] No further splits with positive gain, best gain: -inf\n",
      "[47]\ttraining's binary_logloss: 0.195202\tvalid_0's binary_logloss: 0.216951\n",
      "[48]\ttraining's binary_logloss: 0.19259\tvalid_0's binary_logloss: 0.219816\n",
      "[49]\ttraining's binary_logloss: 0.190089\tvalid_0's binary_logloss: 0.220657\n",
      "[50]\ttraining's binary_logloss: 0.187604\tvalid_0's binary_logloss: 0.21895\n",
      "[51]\ttraining's binary_logloss: 0.185227\tvalid_0's binary_logloss: 0.219721\n",
      "[52]\ttraining's binary_logloss: 0.182878\tvalid_0's binary_logloss: 0.21946\n",
      "[53]\ttraining's binary_logloss: 0.180466\tvalid_0's binary_logloss: 0.221118\n",
      "[54]\ttraining's binary_logloss: 0.177817\tvalid_0's binary_logloss: 0.224712\n",
      "[55]\ttraining's binary_logloss: 0.175574\tvalid_0's binary_logloss: 0.227038\n",
      "[56]\ttraining's binary_logloss: 0.173845\tvalid_0's binary_logloss: 0.228532\n",
      "[57]\ttraining's binary_logloss: 0.171663\tvalid_0's binary_logloss: 0.231819\n",
      "[58]\ttraining's binary_logloss: 0.169423\tvalid_0's binary_logloss: 0.234111\n",
      "[59]\ttraining's binary_logloss: 0.167131\tvalid_0's binary_logloss: 0.236988\n",
      "[60]\ttraining's binary_logloss: 0.164936\tvalid_0's binary_logloss: 0.238725\n",
      "[61]\ttraining's binary_logloss: 0.162805\tvalid_0's binary_logloss: 0.238725\n",
      "[LightGBM] [Warning] No further splits with positive gain, best gain: -inf\n",
      "[62]\ttraining's binary_logloss: 0.161141\tvalid_0's binary_logloss: 0.241451\n",
      "[63]\ttraining's binary_logloss: 0.159037\tvalid_0's binary_logloss: 0.245543\n",
      "[64]\ttraining's binary_logloss: 0.156968\tvalid_0's binary_logloss: 0.249112\n",
      "[65]\ttraining's binary_logloss: 0.154991\tvalid_0's binary_logloss: 0.249257\n",
      "[66]\ttraining's binary_logloss: 0.152984\tvalid_0's binary_logloss: 0.249465\n",
      "[LightGBM] [Warning] No further splits with positive gain, best gain: -inf\n",
      "[67]\ttraining's binary_logloss: 0.152135\tvalid_0's binary_logloss: 0.249144\n",
      "[LightGBM] [Warning] No further splits with positive gain, best gain: -inf\n",
      "[68]\ttraining's binary_logloss: 0.150423\tvalid_0's binary_logloss: 0.249086\n",
      "[LightGBM] [Warning] No further splits with positive gain, best gain: -inf\n",
      "[69]\ttraining's binary_logloss: 0.148689\tvalid_0's binary_logloss: 0.253191\n",
      "[LightGBM] [Warning] No further splits with positive gain, best gain: -inf\n",
      "[70]\ttraining's binary_logloss: 0.147269\tvalid_0's binary_logloss: 0.253191\n",
      "[LightGBM] [Warning] No further splits with positive gain, best gain: -inf\n",
      "[71]\ttraining's binary_logloss: 0.14632\tvalid_0's binary_logloss: 0.255792\n",
      "[LightGBM] [Warning] No further splits with positive gain, best gain: -inf\n",
      "[72]\ttraining's binary_logloss: 0.145023\tvalid_0's binary_logloss: 0.254147\n",
      "[73]\ttraining's binary_logloss: 0.143371\tvalid_0's binary_logloss: 0.254863\n",
      "[LightGBM] [Warning] No further splits with positive gain, best gain: -inf\n",
      "[74]\ttraining's binary_logloss: 0.141939\tvalid_0's binary_logloss: 0.257717\n",
      "[75]\ttraining's binary_logloss: 0.140313\tvalid_0's binary_logloss: 0.259935\n",
      "[LightGBM] [Warning] No further splits with positive gain, best gain: -inf\n",
      "[76]\ttraining's binary_logloss: 0.138861\tvalid_0's binary_logloss: 0.259935\n",
      "[77]\ttraining's binary_logloss: 0.137092\tvalid_0's binary_logloss: 0.259778\n",
      "[78]\ttraining's binary_logloss: 0.135648\tvalid_0's binary_logloss: 0.262341\n",
      "[79]\ttraining's binary_logloss: 0.134198\tvalid_0's binary_logloss: 0.262477\n",
      "[LightGBM] [Warning] No further splits with positive gain, best gain: -inf\n",
      "[80]\ttraining's binary_logloss: 0.133024\tvalid_0's binary_logloss: 0.262477\n",
      "[81]\ttraining's binary_logloss: 0.131573\tvalid_0's binary_logloss: 0.266012\n",
      "[LightGBM] [Warning] No further splits with positive gain, best gain: -inf\n",
      "[82]\ttraining's binary_logloss: 0.130641\tvalid_0's binary_logloss: 0.269666\n",
      "[LightGBM] [Warning] No further splits with positive gain, best gain: -inf\n",
      "[83]\ttraining's binary_logloss: 0.129662\tvalid_0's binary_logloss: 0.273308\n",
      "[84]\ttraining's binary_logloss: 0.128108\tvalid_0's binary_logloss: 0.278181\n",
      "[85]\ttraining's binary_logloss: 0.126677\tvalid_0's binary_logloss: 0.278052\n",
      "[LightGBM] [Warning] No further splits with positive gain, best gain: -inf\n",
      "[86]\ttraining's binary_logloss: 0.125493\tvalid_0's binary_logloss: 0.275909\n",
      "[87]\ttraining's binary_logloss: 0.124233\tvalid_0's binary_logloss: 0.279177\n",
      "[LightGBM] [Warning] No further splits with positive gain, best gain: -inf\n",
      "[88]\ttraining's binary_logloss: 0.123809\tvalid_0's binary_logloss: 0.277405\n",
      "[89]\ttraining's binary_logloss: 0.122464\tvalid_0's binary_logloss: 0.277405\n",
      "[90]\ttraining's binary_logloss: 0.121006\tvalid_0's binary_logloss: 0.277136\n",
      "[LightGBM] [Warning] No further splits with positive gain, best gain: -inf\n",
      "[91]\ttraining's binary_logloss: 0.120175\tvalid_0's binary_logloss: 0.277079\n",
      "[92]\ttraining's binary_logloss: 0.118678\tvalid_0's binary_logloss: 0.279621\n",
      "[LightGBM] [Warning] No further splits with positive gain, best gain: -inf\n",
      "[93]\ttraining's binary_logloss: 0.117706\tvalid_0's binary_logloss: 0.280387\n",
      "[94]\ttraining's binary_logloss: 0.116357\tvalid_0's binary_logloss: 0.279003\n",
      "[95]\ttraining's binary_logloss: 0.115065\tvalid_0's binary_logloss: 0.28085\n",
      "[LightGBM] [Warning] No further splits with positive gain, best gain: -inf\n",
      "[96]\ttraining's binary_logloss: 0.114028\tvalid_0's binary_logloss: 0.279602\n",
      "[97]\ttraining's binary_logloss: 0.112787\tvalid_0's binary_logloss: 0.278338\n",
      "[98]\ttraining's binary_logloss: 0.111533\tvalid_0's binary_logloss: 0.282224\n",
      "[LightGBM] [Warning] No further splits with positive gain, best gain: -inf\n",
      "[99]\ttraining's binary_logloss: 0.110739\tvalid_0's binary_logloss: 0.28182\n",
      "[LightGBM] [Warning] No further splits with positive gain, best gain: -inf\n",
      "[100]\ttraining's binary_logloss: 0.109717\tvalid_0's binary_logloss: 0.280495\n",
      "[LightGBM] [Warning] No further splits with positive gain, best gain: -inf\n",
      "[101]\ttraining's binary_logloss: 0.108903\tvalid_0's binary_logloss: 0.281707\n",
      "[102]\ttraining's binary_logloss: 0.107846\tvalid_0's binary_logloss: 0.284497\n",
      "[103]\ttraining's binary_logloss: 0.106667\tvalid_0's binary_logloss: 0.288511\n",
      "[104]\ttraining's binary_logloss: 0.105614\tvalid_0's binary_logloss: 0.288511\n",
      "[105]\ttraining's binary_logloss: 0.104218\tvalid_0's binary_logloss: 0.28577\n",
      "[LightGBM] [Warning] No further splits with positive gain, best gain: -inf\n",
      "[106]\ttraining's binary_logloss: 0.103361\tvalid_0's binary_logloss: 0.288979\n",
      "[107]\ttraining's binary_logloss: 0.102115\tvalid_0's binary_logloss: 0.288043\n",
      "[LightGBM] [Warning] No further splits with positive gain, best gain: -inf\n",
      "[108]\ttraining's binary_logloss: 0.101161\tvalid_0's binary_logloss: 0.288415\n",
      "[LightGBM] [Warning] No further splits with positive gain, best gain: -inf\n",
      "[109]\ttraining's binary_logloss: 0.100298\tvalid_0's binary_logloss: 0.288415\n",
      "[LightGBM] [Warning] No further splits with positive gain, best gain: -inf\n",
      "[110]\ttraining's binary_logloss: 0.0999402\tvalid_0's binary_logloss: 0.287298\n",
      "[111]\ttraining's binary_logloss: 0.0988763\tvalid_0's binary_logloss: 0.288586\n",
      "[112]\ttraining's binary_logloss: 0.0977979\tvalid_0's binary_logloss: 0.291319\n",
      "[113]\ttraining's binary_logloss: 0.096819\tvalid_0's binary_logloss: 0.288757\n",
      "[114]\ttraining's binary_logloss: 0.0958403\tvalid_0's binary_logloss: 0.286341\n",
      "[LightGBM] [Warning] No further splits with positive gain, best gain: -inf\n",
      "[115]\ttraining's binary_logloss: 0.0953599\tvalid_0's binary_logloss: 0.287909\n",
      "[LightGBM] [Warning] No further splits with positive gain, best gain: -inf\n",
      "[116]\ttraining's binary_logloss: 0.0946026\tvalid_0's binary_logloss: 0.285804\n",
      "[LightGBM] [Warning] No further splits with positive gain, best gain: -inf\n",
      "[117]\ttraining's binary_logloss: 0.0940099\tvalid_0's binary_logloss: 0.285263\n",
      "[118]\ttraining's binary_logloss: 0.0930008\tvalid_0's binary_logloss: 0.285446\n",
      "[LightGBM] [Warning] No further splits with positive gain, best gain: -inf\n",
      "[119]\ttraining's binary_logloss: 0.0922667\tvalid_0's binary_logloss: 0.288099\n",
      "[120]\ttraining's binary_logloss: 0.0912658\tvalid_0's binary_logloss: 0.288082\n",
      "[LightGBM] [Warning] No further splits with positive gain, best gain: -inf\n",
      "[121]\ttraining's binary_logloss: 0.0907733\tvalid_0's binary_logloss: 0.289712\n",
      "[122]\ttraining's binary_logloss: 0.0896838\tvalid_0's binary_logloss: 0.290258\n",
      "[123]\ttraining's binary_logloss: 0.0887654\tvalid_0's binary_logloss: 0.288893\n",
      "[LightGBM] [Warning] No further splits with positive gain, best gain: -inf\n",
      "[124]\ttraining's binary_logloss: 0.0881602\tvalid_0's binary_logloss: 0.287587\n",
      "[LightGBM] [Warning] No further splits with positive gain, best gain: -inf\n",
      "[125]\ttraining's binary_logloss: 0.0876148\tvalid_0's binary_logloss: 0.289447\n",
      "Accuracy of random forest classifier on validation set using 75th quantile: 0.95\n",
      "Accuracy of random forest classifier on test set using 75th quantile: 0.95\n"
     ]
    },
    {
     "data": {
      "image/png": "[encoded data removed]",
      "text/plain": [
       "<Figure size 400x300 with 1 Axes>"
      ]
     },
     "metadata": {},
     "output_type": "display_data"
    },
    {
     "data": {
      "image/png": "[encoded data removed]",
      "text/plain": [
       "<Figure size 400x300 with 1 Axes>"
      ]
     },
     "metadata": {},
     "output_type": "display_data"
    }
   ],
   "source": [
    "lgbmodel(X_train_mean, y_train.values.ravel(), X_val_mean, y_val.values.ravel(), X_test_mean, y_test.values.ravel(), \"75th quantile\")"
   ]
  },
  {
   "cell_type": "markdown",
   "metadata": {},
   "source": [
    "## Hyperparameter Tuning"
   ]
  },
  {
   "cell_type": "code",
   "execution_count": 13,
   "metadata": {},
   "outputs": [],
   "source": [
    "from sklearn.model_selection import RandomizedSearchCV\n"
   ]
  },
  {
   "cell_type": "code",
   "execution_count": 14,
   "metadata": {},
   "outputs": [
    {
     "ename": "NameError",
     "evalue": "name 'lgbm' is not defined",
     "output_type": "error",
     "traceback": [
      "\u001b[0;31m---------------------------------------------------------------------------\u001b[0m",
      "\u001b[0;31mNameError\u001b[0m                                 Traceback (most recent call last)",
      "\u001b[1;32m/Users/yuanqi/Desktop/DSA4262-ACMXZ/modelling/Modelling_MinYu.ipynb Cell 28\u001b[0m in \u001b[0;36m<cell line: 1>\u001b[0;34m()\u001b[0m\n\u001b[0;32m----> <a href='vscode-notebook-cell:/Users/yuanqi/Desktop/DSA4262-ACMXZ/modelling/Modelling_MinYu.ipynb#X33sZmlsZQ%3D%3D?line=0'>1</a>\u001b[0m gbm_random \u001b[39m=\u001b[39m RandomizedSearchCV(estimator \u001b[39m=\u001b[39m lgbm, param_distributions \u001b[39m=\u001b[39m random_grid, \n\u001b[1;32m      <a href='vscode-notebook-cell:/Users/yuanqi/Desktop/DSA4262-ACMXZ/modelling/Modelling_MinYu.ipynb#X33sZmlsZQ%3D%3D?line=1'>2</a>\u001b[0m                          n_iter \u001b[39m=\u001b[39m \u001b[39m100\u001b[39m, cv \u001b[39m=\u001b[39m \u001b[39m2\u001b[39m, scoring\u001b[39m=\u001b[39m\u001b[39m'\u001b[39m\u001b[39mneg_mean_absolute_error\u001b[39m\u001b[39m'\u001b[39m,\n\u001b[1;32m      <a href='vscode-notebook-cell:/Users/yuanqi/Desktop/DSA4262-ACMXZ/modelling/Modelling_MinYu.ipynb#X33sZmlsZQ%3D%3D?line=2'>3</a>\u001b[0m                           verbose\u001b[39m=\u001b[39m\u001b[39m10\u001b[39m, random_state\u001b[39m=\u001b[39m\u001b[39m42\u001b[39m)\n",
      "\u001b[0;31mNameError\u001b[0m: name 'lgbm' is not defined"
     ]
    }
   ],
   "source": [
    "gbm_random = RandomizedSearchCV(estimator = lgb, param_distributions = random_grid, \n",
    "                         n_iter = 100, cv = 2, scoring='neg_mean_absolute_error',\n",
    "                          verbose=10, random_state=42)"
   ]
  },
  {
   "cell_type": "code",
   "execution_count": 16,
   "metadata": {},
   "outputs": [
    {
     "name": "stderr",
     "output_type": "stream",
     "text": [
      "/opt/anaconda3/envs/gene/lib/python3.8/site-packages/lightgbm/engine.py:177: UserWarning: Found `num_boost_round` in params. Will use it instead of argument\n",
      "  _log_warning(f\"Found `{alias}` in params. Will use it instead of argument\")\n",
      "/opt/anaconda3/envs/gene/lib/python3.8/site-packages/lightgbm/engine.py:177: UserWarning: Found `num_boost_round` in params. Will use it instead of argument\n",
      "  _log_warning(f\"Found `{alias}` in params. Will use it instead of argument\")\n",
      "/opt/anaconda3/envs/gene/lib/python3.8/site-packages/lightgbm/engine.py:177: UserWarning: Found `num_boost_round` in params. Will use it instead of argument\n",
      "  _log_warning(f\"Found `{alias}` in params. Will use it instead of argument\")\n"
     ]
    },
    {
     "name": "stdout",
     "output_type": "stream",
     "text": [
      "[LightGBM] [Warning] min_data_in_leaf is set=25, min_child_samples=20 will be ignored. Current value: min_data_in_leaf=25\n",
      "[LightGBM] [Warning] num_iterations is set=2000, num_boost_round=2000 will be ignored. Current value: num_iterations=2000\n",
      "[LightGBM] [Warning] lambda_l1 is set=3, reg_alpha=1 will be ignored. Current value: lambda_l1=3\n",
      "[LightGBM] [Warning] lambda_l2 is set=0.5, reg_lambda=2 will be ignored. Current value: lambda_l2=0.5\n",
      "[LightGBM] [Warning] min_data_in_leaf is set=25, min_child_samples=20 will be ignored. Current value: min_data_in_leaf=25\n",
      "[LightGBM] [Warning] num_iterations is set=2000, num_boost_round=2000 will be ignored. Current value: num_iterations=2000\n",
      "[LightGBM] [Warning] lambda_l1 is set=3, reg_alpha=1 will be ignored. Current value: lambda_l1=3\n",
      "[LightGBM] [Warning] lambda_l2 is set=0.5, reg_lambda=2 will be ignored. Current value: lambda_l2=0.5\n",
      "[LightGBM] [Warning] min_data_in_leaf is set=25, min_child_samples=20 will be ignored. Current value: min_data_in_leaf=25\n",
      "[LightGBM] [Warning] num_iterations is set=2000, num_boost_round=2000 will be ignored. Current value: num_iterations=2000\n",
      "[LightGBM] [Warning] lambda_l1 is set=3, reg_alpha=1 will be ignored. Current value: lambda_l1=3\n",
      "[LightGBM] [Warning] lambda_l2 is set=0.5, reg_lambda=2 will be ignored. Current value: lambda_l2=0.5\n"
     ]
    },
    {
     "name": "stderr",
     "output_type": "stream",
     "text": [
      "/opt/anaconda3/envs/gene/lib/python3.8/site-packages/lightgbm/engine.py:177: UserWarning: Found `num_boost_round` in params. Will use it instead of argument\n",
      "  _log_warning(f\"Found `{alias}` in params. Will use it instead of argument\")\n"
     ]
    },
    {
     "name": "stdout",
     "output_type": "stream",
     "text": [
      "[LightGBM] [Warning] min_data_in_leaf is set=20, min_child_samples=20 will be ignored. Current value: min_data_in_leaf=20\n",
      "[LightGBM] [Warning] num_iterations is set=2000, num_boost_round=2000 will be ignored. Current value: num_iterations=2000\n",
      "[LightGBM] [Warning] lambda_l1 is set=2, reg_alpha=1 will be ignored. Current value: lambda_l1=2\n",
      "[LightGBM] [Warning] lambda_l2 is set=0.5, reg_lambda=3 will be ignored. Current value: lambda_l2=0.5\n"
     ]
    },
    {
     "name": "stderr",
     "output_type": "stream",
     "text": [
      "/opt/anaconda3/envs/gene/lib/python3.8/site-packages/lightgbm/engine.py:177: UserWarning: Found `num_boost_round` in params. Will use it instead of argument\n",
      "  _log_warning(f\"Found `{alias}` in params. Will use it instead of argument\")\n"
     ]
    },
    {
     "name": "stdout",
     "output_type": "stream",
     "text": [
      "[LightGBM] [Warning] min_data_in_leaf is set=20, min_child_samples=20 will be ignored. Current value: min_data_in_leaf=20\n",
      "[LightGBM] [Warning] num_iterations is set=2000, num_boost_round=2000 will be ignored. Current value: num_iterations=2000\n",
      "[LightGBM] [Warning] lambda_l1 is set=2, reg_alpha=1 will be ignored. Current value: lambda_l1=2\n",
      "[LightGBM] [Warning] lambda_l2 is set=0.5, reg_lambda=3 will be ignored. Current value: lambda_l2=0.5\n"
     ]
    },
    {
     "name": "stderr",
     "output_type": "stream",
     "text": [
      "/opt/anaconda3/envs/gene/lib/python3.8/site-packages/lightgbm/engine.py:177: UserWarning: Found `num_boost_round` in params. Will use it instead of argument\n",
      "  _log_warning(f\"Found `{alias}` in params. Will use it instead of argument\")\n"
     ]
    },
    {
     "name": "stdout",
     "output_type": "stream",
     "text": [
      "[LightGBM] [Warning] min_data_in_leaf is set=20, min_child_samples=20 will be ignored. Current value: min_data_in_leaf=20\n",
      "[LightGBM] [Warning] num_iterations is set=2000, num_boost_round=2000 will be ignored. Current value: num_iterations=2000\n",
      "[LightGBM] [Warning] lambda_l1 is set=2, reg_alpha=1 will be ignored. Current value: lambda_l1=2\n",
      "[LightGBM] [Warning] lambda_l2 is set=0.5, reg_lambda=3 will be ignored. Current value: lambda_l2=0.5\n"
     ]
    },
    {
     "name": "stderr",
     "output_type": "stream",
     "text": [
      "/opt/anaconda3/envs/gene/lib/python3.8/site-packages/lightgbm/engine.py:177: UserWarning: Found `num_boost_round` in params. Will use it instead of argument\n",
      "  _log_warning(f\"Found `{alias}` in params. Will use it instead of argument\")\n"
     ]
    },
    {
     "name": "stdout",
     "output_type": "stream",
     "text": [
      "[LightGBM] [Warning] min_data_in_leaf is set=10, min_child_samples=20 will be ignored. Current value: min_data_in_leaf=10\n",
      "[LightGBM] [Warning] num_iterations is set=2000, num_boost_round=2000 will be ignored. Current value: num_iterations=2000\n",
      "[LightGBM] [Warning] lambda_l1 is set=3, reg_alpha=1 will be ignored. Current value: lambda_l1=3\n",
      "[LightGBM] [Warning] lambda_l2 is set=1, reg_lambda=3 will be ignored. Current value: lambda_l2=1\n"
     ]
    },
    {
     "name": "stderr",
     "output_type": "stream",
     "text": [
      "/opt/anaconda3/envs/gene/lib/python3.8/site-packages/lightgbm/engine.py:177: UserWarning: Found `num_boost_round` in params. Will use it instead of argument\n",
      "  _log_warning(f\"Found `{alias}` in params. Will use it instead of argument\")\n",
      "/opt/anaconda3/envs/gene/lib/python3.8/site-packages/lightgbm/engine.py:177: UserWarning: Found `num_boost_round` in params. Will use it instead of argument\n",
      "  _log_warning(f\"Found `{alias}` in params. Will use it instead of argument\")\n"
     ]
    },
    {
     "name": "stdout",
     "output_type": "stream",
     "text": [
      "[LightGBM] [Warning] min_data_in_leaf is set=10, min_child_samples=20 will be ignored. Current value: min_data_in_leaf=10\n",
      "[LightGBM] [Warning] num_iterations is set=2000, num_boost_round=2000 will be ignored. Current value: num_iterations=2000\n",
      "[LightGBM] [Warning] lambda_l1 is set=3, reg_alpha=1 will be ignored. Current value: lambda_l1=3\n",
      "[LightGBM] [Warning] lambda_l2 is set=1, reg_lambda=3 will be ignored. Current value: lambda_l2=1\n",
      "[LightGBM] [Warning] min_data_in_leaf is set=10, min_child_samples=20 will be ignored. Current value: min_data_in_leaf=10\n",
      "[LightGBM] [Warning] num_iterations is set=2000, num_boost_round=2000 will be ignored. Current value: num_iterations=2000\n",
      "[LightGBM] [Warning] lambda_l1 is set=3, reg_alpha=1 will be ignored. Current value: lambda_l1=3\n",
      "[LightGBM] [Warning] lambda_l2 is set=1, reg_lambda=3 will be ignored. Current value: lambda_l2=1\n"
     ]
    },
    {
     "name": "stderr",
     "output_type": "stream",
     "text": [
      "/opt/anaconda3/envs/gene/lib/python3.8/site-packages/lightgbm/engine.py:177: UserWarning: Found `num_boost_round` in params. Will use it instead of argument\n",
      "  _log_warning(f\"Found `{alias}` in params. Will use it instead of argument\")\n"
     ]
    },
    {
     "name": "stdout",
     "output_type": "stream",
     "text": [
      "[LightGBM] [Warning] min_data_in_leaf is set=15, min_child_samples=20 will be ignored. Current value: min_data_in_leaf=15\n",
      "[LightGBM] [Warning] num_iterations is set=2000, num_boost_round=2000 will be ignored. Current value: num_iterations=2000\n",
      "[LightGBM] [Warning] lambda_l1 is set=2, reg_alpha=1 will be ignored. Current value: lambda_l1=2\n",
      "[LightGBM] [Warning] lambda_l2 is set=0, reg_lambda=1.75 will be ignored. Current value: lambda_l2=0\n"
     ]
    },
    {
     "name": "stderr",
     "output_type": "stream",
     "text": [
      "/opt/anaconda3/envs/gene/lib/python3.8/site-packages/lightgbm/engine.py:177: UserWarning: Found `num_boost_round` in params. Will use it instead of argument\n",
      "  _log_warning(f\"Found `{alias}` in params. Will use it instead of argument\")\n"
     ]
    },
    {
     "name": "stdout",
     "output_type": "stream",
     "text": [
      "[LightGBM] [Warning] min_data_in_leaf is set=15, min_child_samples=20 will be ignored. Current value: min_data_in_leaf=15\n",
      "[LightGBM] [Warning] num_iterations is set=2000, num_boost_round=2000 will be ignored. Current value: num_iterations=2000\n",
      "[LightGBM] [Warning] lambda_l1 is set=2, reg_alpha=1 will be ignored. Current value: lambda_l1=2\n",
      "[LightGBM] [Warning] lambda_l2 is set=0, reg_lambda=1.75 will be ignored. Current value: lambda_l2=0\n"
     ]
    },
    {
     "name": "stderr",
     "output_type": "stream",
     "text": [
      "/opt/anaconda3/envs/gene/lib/python3.8/site-packages/lightgbm/engine.py:177: UserWarning: Found `num_boost_round` in params. Will use it instead of argument\n",
      "  _log_warning(f\"Found `{alias}` in params. Will use it instead of argument\")\n"
     ]
    },
    {
     "name": "stdout",
     "output_type": "stream",
     "text": [
      "[LightGBM] [Warning] min_data_in_leaf is set=15, min_child_samples=20 will be ignored. Current value: min_data_in_leaf=15\n",
      "[LightGBM] [Warning] num_iterations is set=2000, num_boost_round=2000 will be ignored. Current value: num_iterations=2000\n",
      "[LightGBM] [Warning] lambda_l1 is set=2, reg_alpha=1 will be ignored. Current value: lambda_l1=2\n",
      "[LightGBM] [Warning] lambda_l2 is set=0, reg_lambda=1.75 will be ignored. Current value: lambda_l2=0\n"
     ]
    },
    {
     "name": "stderr",
     "output_type": "stream",
     "text": [
      "/opt/anaconda3/envs/gene/lib/python3.8/site-packages/lightgbm/engine.py:177: UserWarning: Found `num_boost_round` in params. Will use it instead of argument\n",
      "  _log_warning(f\"Found `{alias}` in params. Will use it instead of argument\")\n"
     ]
    },
    {
     "name": "stdout",
     "output_type": "stream",
     "text": [
      "[LightGBM] [Warning] min_data_in_leaf is set=15, min_child_samples=20 will be ignored. Current value: min_data_in_leaf=15\n",
      "[LightGBM] [Warning] num_iterations is set=2000, num_boost_round=2000 will be ignored. Current value: num_iterations=2000\n",
      "[LightGBM] [Warning] lambda_l1 is set=3, reg_alpha=0.1 will be ignored. Current value: lambda_l1=3\n",
      "[LightGBM] [Warning] lambda_l2 is set=0.5, reg_lambda=3 will be ignored. Current value: lambda_l2=0.5\n"
     ]
    },
    {
     "name": "stderr",
     "output_type": "stream",
     "text": [
      "/opt/anaconda3/envs/gene/lib/python3.8/site-packages/lightgbm/engine.py:177: UserWarning: Found `num_boost_round` in params. Will use it instead of argument\n",
      "  _log_warning(f\"Found `{alias}` in params. Will use it instead of argument\")\n"
     ]
    },
    {
     "name": "stdout",
     "output_type": "stream",
     "text": [
      "[LightGBM] [Warning] min_data_in_leaf is set=15, min_child_samples=20 will be ignored. Current value: min_data_in_leaf=15\n",
      "[LightGBM] [Warning] num_iterations is set=2000, num_boost_round=2000 will be ignored. Current value: num_iterations=2000\n",
      "[LightGBM] [Warning] lambda_l1 is set=3, reg_alpha=0.1 will be ignored. Current value: lambda_l1=3\n",
      "[LightGBM] [Warning] lambda_l2 is set=0.5, reg_lambda=3 will be ignored. Current value: lambda_l2=0.5\n"
     ]
    },
    {
     "name": "stderr",
     "output_type": "stream",
     "text": [
      "/opt/anaconda3/envs/gene/lib/python3.8/site-packages/lightgbm/engine.py:177: UserWarning: Found `num_boost_round` in params. Will use it instead of argument\n",
      "  _log_warning(f\"Found `{alias}` in params. Will use it instead of argument\")\n"
     ]
    },
    {
     "name": "stdout",
     "output_type": "stream",
     "text": [
      "[LightGBM] [Warning] min_data_in_leaf is set=15, min_child_samples=20 will be ignored. Current value: min_data_in_leaf=15\n",
      "[LightGBM] [Warning] num_iterations is set=2000, num_boost_round=2000 will be ignored. Current value: num_iterations=2000\n",
      "[LightGBM] [Warning] lambda_l1 is set=3, reg_alpha=0.1 will be ignored. Current value: lambda_l1=3\n",
      "[LightGBM] [Warning] lambda_l2 is set=0.5, reg_lambda=3 will be ignored. Current value: lambda_l2=0.5\n"
     ]
    },
    {
     "name": "stderr",
     "output_type": "stream",
     "text": [
      "/opt/anaconda3/envs/gene/lib/python3.8/site-packages/lightgbm/engine.py:177: UserWarning: Found `num_boost_round` in params. Will use it instead of argument\n",
      "  _log_warning(f\"Found `{alias}` in params. Will use it instead of argument\")\n"
     ]
    },
    {
     "name": "stdout",
     "output_type": "stream",
     "text": [
      "[LightGBM] [Warning] min_data_in_leaf is set=30, min_child_samples=20 will be ignored. Current value: min_data_in_leaf=30\n",
      "[LightGBM] [Warning] num_iterations is set=2000, num_boost_round=2000 will be ignored. Current value: num_iterations=2000\n",
      "[LightGBM] [Warning] lambda_l1 is set=2.5, reg_alpha=1.5 will be ignored. Current value: lambda_l1=2.5\n",
      "[LightGBM] [Warning] lambda_l2 is set=0.5, reg_lambda=2.25 will be ignored. Current value: lambda_l2=0.5\n"
     ]
    },
    {
     "name": "stderr",
     "output_type": "stream",
     "text": [
      "/opt/anaconda3/envs/gene/lib/python3.8/site-packages/lightgbm/engine.py:177: UserWarning: Found `num_boost_round` in params. Will use it instead of argument\n",
      "  _log_warning(f\"Found `{alias}` in params. Will use it instead of argument\")\n"
     ]
    },
    {
     "name": "stdout",
     "output_type": "stream",
     "text": [
      "[LightGBM] [Warning] min_data_in_leaf is set=30, min_child_samples=20 will be ignored. Current value: min_data_in_leaf=30\n",
      "[LightGBM] [Warning] num_iterations is set=2000, num_boost_round=2000 will be ignored. Current value: num_iterations=2000\n",
      "[LightGBM] [Warning] lambda_l1 is set=2.5, reg_alpha=1.5 will be ignored. Current value: lambda_l1=2.5\n",
      "[LightGBM] [Warning] lambda_l2 is set=0.5, reg_lambda=2.25 will be ignored. Current value: lambda_l2=0.5\n"
     ]
    },
    {
     "name": "stderr",
     "output_type": "stream",
     "text": [
      "/opt/anaconda3/envs/gene/lib/python3.8/site-packages/lightgbm/engine.py:177: UserWarning: Found `num_boost_round` in params. Will use it instead of argument\n",
      "  _log_warning(f\"Found `{alias}` in params. Will use it instead of argument\")\n"
     ]
    },
    {
     "name": "stdout",
     "output_type": "stream",
     "text": [
      "[LightGBM] [Warning] min_data_in_leaf is set=30, min_child_samples=20 will be ignored. Current value: min_data_in_leaf=30\n",
      "[LightGBM] [Warning] num_iterations is set=2000, num_boost_round=2000 will be ignored. Current value: num_iterations=2000\n",
      "[LightGBM] [Warning] lambda_l1 is set=2.5, reg_alpha=1.5 will be ignored. Current value: lambda_l1=2.5\n",
      "[LightGBM] [Warning] lambda_l2 is set=0.5, reg_lambda=2.25 will be ignored. Current value: lambda_l2=0.5\n"
     ]
    },
    {
     "name": "stderr",
     "output_type": "stream",
     "text": [
      "/opt/anaconda3/envs/gene/lib/python3.8/site-packages/lightgbm/engine.py:177: UserWarning: Found `num_boost_round` in params. Will use it instead of argument\n",
      "  _log_warning(f\"Found `{alias}` in params. Will use it instead of argument\")\n"
     ]
    },
    {
     "name": "stdout",
     "output_type": "stream",
     "text": [
      "[LightGBM] [Warning] min_data_in_leaf is set=30, min_child_samples=20 will be ignored. Current value: min_data_in_leaf=30\n",
      "[LightGBM] [Warning] num_iterations is set=2000, num_boost_round=2000 will be ignored. Current value: num_iterations=2000\n",
      "[LightGBM] [Warning] lambda_l1 is set=1.5, reg_alpha=1 will be ignored. Current value: lambda_l1=1.5\n",
      "[LightGBM] [Warning] lambda_l2 is set=1, reg_lambda=1 will be ignored. Current value: lambda_l2=1\n"
     ]
    },
    {
     "name": "stderr",
     "output_type": "stream",
     "text": [
      "/opt/anaconda3/envs/gene/lib/python3.8/site-packages/lightgbm/engine.py:177: UserWarning: Found `num_boost_round` in params. Will use it instead of argument\n",
      "  _log_warning(f\"Found `{alias}` in params. Will use it instead of argument\")\n"
     ]
    },
    {
     "name": "stdout",
     "output_type": "stream",
     "text": [
      "[LightGBM] [Warning] min_data_in_leaf is set=30, min_child_samples=20 will be ignored. Current value: min_data_in_leaf=30\n",
      "[LightGBM] [Warning] num_iterations is set=2000, num_boost_round=2000 will be ignored. Current value: num_iterations=2000\n",
      "[LightGBM] [Warning] lambda_l1 is set=1.5, reg_alpha=1 will be ignored. Current value: lambda_l1=1.5\n",
      "[LightGBM] [Warning] lambda_l2 is set=1, reg_lambda=1 will be ignored. Current value: lambda_l2=1\n"
     ]
    },
    {
     "name": "stderr",
     "output_type": "stream",
     "text": [
      "/opt/anaconda3/envs/gene/lib/python3.8/site-packages/lightgbm/engine.py:177: UserWarning: Found `num_boost_round` in params. Will use it instead of argument\n",
      "  _log_warning(f\"Found `{alias}` in params. Will use it instead of argument\")\n"
     ]
    },
    {
     "name": "stdout",
     "output_type": "stream",
     "text": [
      "[LightGBM] [Warning] min_data_in_leaf is set=30, min_child_samples=20 will be ignored. Current value: min_data_in_leaf=30\n",
      "[LightGBM] [Warning] num_iterations is set=2000, num_boost_round=2000 will be ignored. Current value: num_iterations=2000\n",
      "[LightGBM] [Warning] lambda_l1 is set=1.5, reg_alpha=1 will be ignored. Current value: lambda_l1=1.5\n",
      "[LightGBM] [Warning] lambda_l2 is set=1, reg_lambda=1 will be ignored. Current value: lambda_l2=1\n"
     ]
    },
    {
     "name": "stderr",
     "output_type": "stream",
     "text": [
      "/opt/anaconda3/envs/gene/lib/python3.8/site-packages/lightgbm/engine.py:177: UserWarning: Found `num_boost_round` in params. Will use it instead of argument\n",
      "  _log_warning(f\"Found `{alias}` in params. Will use it instead of argument\")\n"
     ]
    },
    {
     "name": "stdout",
     "output_type": "stream",
     "text": [
      "[LightGBM] [Warning] min_data_in_leaf is set=20, min_child_samples=20 will be ignored. Current value: min_data_in_leaf=20\n",
      "[LightGBM] [Warning] num_iterations is set=2000, num_boost_round=2000 will be ignored. Current value: num_iterations=2000\n",
      "[LightGBM] [Warning] lambda_l1 is set=2, reg_alpha=0.5 will be ignored. Current value: lambda_l1=2\n",
      "[LightGBM] [Warning] lambda_l2 is set=0, reg_lambda=1.75 will be ignored. Current value: lambda_l2=0\n"
     ]
    },
    {
     "name": "stderr",
     "output_type": "stream",
     "text": [
      "/opt/anaconda3/envs/gene/lib/python3.8/site-packages/lightgbm/engine.py:177: UserWarning: Found `num_boost_round` in params. Will use it instead of argument\n",
      "  _log_warning(f\"Found `{alias}` in params. Will use it instead of argument\")\n"
     ]
    },
    {
     "name": "stdout",
     "output_type": "stream",
     "text": [
      "[LightGBM] [Warning] min_data_in_leaf is set=20, min_child_samples=20 will be ignored. Current value: min_data_in_leaf=20\n",
      "[LightGBM] [Warning] num_iterations is set=2000, num_boost_round=2000 will be ignored. Current value: num_iterations=2000\n",
      "[LightGBM] [Warning] lambda_l1 is set=2, reg_alpha=0.5 will be ignored. Current value: lambda_l1=2\n",
      "[LightGBM] [Warning] lambda_l2 is set=0, reg_lambda=1.75 will be ignored. Current value: lambda_l2=0\n"
     ]
    },
    {
     "name": "stderr",
     "output_type": "stream",
     "text": [
      "/opt/anaconda3/envs/gene/lib/python3.8/site-packages/lightgbm/engine.py:177: UserWarning: Found `num_boost_round` in params. Will use it instead of argument\n",
      "  _log_warning(f\"Found `{alias}` in params. Will use it instead of argument\")\n"
     ]
    },
    {
     "name": "stdout",
     "output_type": "stream",
     "text": [
      "[LightGBM] [Warning] min_data_in_leaf is set=20, min_child_samples=20 will be ignored. Current value: min_data_in_leaf=20\n",
      "[LightGBM] [Warning] num_iterations is set=2000, num_boost_round=2000 will be ignored. Current value: num_iterations=2000\n",
      "[LightGBM] [Warning] lambda_l1 is set=2, reg_alpha=0.5 will be ignored. Current value: lambda_l1=2\n",
      "[LightGBM] [Warning] lambda_l2 is set=0, reg_lambda=1.75 will be ignored. Current value: lambda_l2=0\n"
     ]
    },
    {
     "name": "stderr",
     "output_type": "stream",
     "text": [
      "/opt/anaconda3/envs/gene/lib/python3.8/site-packages/lightgbm/engine.py:177: UserWarning: Found `num_boost_round` in params. Will use it instead of argument\n",
      "  _log_warning(f\"Found `{alias}` in params. Will use it instead of argument\")\n"
     ]
    },
    {
     "name": "stdout",
     "output_type": "stream",
     "text": [
      "[LightGBM] [Warning] min_data_in_leaf is set=10, min_child_samples=20 will be ignored. Current value: min_data_in_leaf=10\n",
      "[LightGBM] [Warning] num_iterations is set=2000, num_boost_round=2000 will be ignored. Current value: num_iterations=2000\n",
      "[LightGBM] [Warning] lambda_l1 is set=0, reg_alpha=1.5 will be ignored. Current value: lambda_l1=0\n",
      "[LightGBM] [Warning] lambda_l2 is set=1, reg_lambda=1.5 will be ignored. Current value: lambda_l2=1\n"
     ]
    },
    {
     "name": "stderr",
     "output_type": "stream",
     "text": [
      "/opt/anaconda3/envs/gene/lib/python3.8/site-packages/lightgbm/engine.py:177: UserWarning: Found `num_boost_round` in params. Will use it instead of argument\n",
      "  _log_warning(f\"Found `{alias}` in params. Will use it instead of argument\")\n"
     ]
    },
    {
     "name": "stdout",
     "output_type": "stream",
     "text": [
      "[LightGBM] [Warning] min_data_in_leaf is set=10, min_child_samples=20 will be ignored. Current value: min_data_in_leaf=10\n",
      "[LightGBM] [Warning] num_iterations is set=2000, num_boost_round=2000 will be ignored. Current value: num_iterations=2000\n",
      "[LightGBM] [Warning] lambda_l1 is set=0, reg_alpha=1.5 will be ignored. Current value: lambda_l1=0\n",
      "[LightGBM] [Warning] lambda_l2 is set=1, reg_lambda=1.5 will be ignored. Current value: lambda_l2=1\n"
     ]
    },
    {
     "name": "stderr",
     "output_type": "stream",
     "text": [
      "/opt/anaconda3/envs/gene/lib/python3.8/site-packages/lightgbm/engine.py:177: UserWarning: Found `num_boost_round` in params. Will use it instead of argument\n",
      "  _log_warning(f\"Found `{alias}` in params. Will use it instead of argument\")\n"
     ]
    },
    {
     "name": "stdout",
     "output_type": "stream",
     "text": [
      "[LightGBM] [Warning] min_data_in_leaf is set=10, min_child_samples=20 will be ignored. Current value: min_data_in_leaf=10\n",
      "[LightGBM] [Warning] num_iterations is set=2000, num_boost_round=2000 will be ignored. Current value: num_iterations=2000\n",
      "[LightGBM] [Warning] lambda_l1 is set=0, reg_alpha=1.5 will be ignored. Current value: lambda_l1=0\n",
      "[LightGBM] [Warning] lambda_l2 is set=1, reg_lambda=1.5 will be ignored. Current value: lambda_l2=1\n"
     ]
    },
    {
     "name": "stderr",
     "output_type": "stream",
     "text": [
      "/opt/anaconda3/envs/gene/lib/python3.8/site-packages/lightgbm/engine.py:177: UserWarning: Found `num_boost_round` in params. Will use it instead of argument\n",
      "  _log_warning(f\"Found `{alias}` in params. Will use it instead of argument\")\n"
     ]
    },
    {
     "name": "stdout",
     "output_type": "stream",
     "text": [
      "[LightGBM] [Warning] min_data_in_leaf is set=30, min_child_samples=20 will be ignored. Current value: min_data_in_leaf=30\n",
      "[LightGBM] [Warning] num_iterations is set=2000, num_boost_round=2000 will be ignored. Current value: num_iterations=2000\n",
      "[LightGBM] [Warning] lambda_l1 is set=0.5, reg_alpha=2 will be ignored. Current value: lambda_l1=0.5\n",
      "[LightGBM] [Warning] lambda_l2 is set=1, reg_lambda=2.25 will be ignored. Current value: lambda_l2=1\n"
     ]
    },
    {
     "name": "stderr",
     "output_type": "stream",
     "text": [
      "/opt/anaconda3/envs/gene/lib/python3.8/site-packages/lightgbm/engine.py:177: UserWarning: Found `num_boost_round` in params. Will use it instead of argument\n",
      "  _log_warning(f\"Found `{alias}` in params. Will use it instead of argument\")\n"
     ]
    },
    {
     "name": "stdout",
     "output_type": "stream",
     "text": [
      "[LightGBM] [Warning] min_data_in_leaf is set=30, min_child_samples=20 will be ignored. Current value: min_data_in_leaf=30\n",
      "[LightGBM] [Warning] num_iterations is set=2000, num_boost_round=2000 will be ignored. Current value: num_iterations=2000\n",
      "[LightGBM] [Warning] lambda_l1 is set=0.5, reg_alpha=2 will be ignored. Current value: lambda_l1=0.5\n",
      "[LightGBM] [Warning] lambda_l2 is set=1, reg_lambda=2.25 will be ignored. Current value: lambda_l2=1\n"
     ]
    },
    {
     "name": "stderr",
     "output_type": "stream",
     "text": [
      "/opt/anaconda3/envs/gene/lib/python3.8/site-packages/lightgbm/engine.py:177: UserWarning: Found `num_boost_round` in params. Will use it instead of argument\n",
      "  _log_warning(f\"Found `{alias}` in params. Will use it instead of argument\")\n"
     ]
    },
    {
     "name": "stdout",
     "output_type": "stream",
     "text": [
      "[LightGBM] [Warning] min_data_in_leaf is set=30, min_child_samples=20 will be ignored. Current value: min_data_in_leaf=30\n",
      "[LightGBM] [Warning] num_iterations is set=2000, num_boost_round=2000 will be ignored. Current value: num_iterations=2000\n",
      "[LightGBM] [Warning] lambda_l1 is set=0.5, reg_alpha=2 will be ignored. Current value: lambda_l1=0.5\n",
      "[LightGBM] [Warning] lambda_l2 is set=1, reg_lambda=2.25 will be ignored. Current value: lambda_l2=1\n"
     ]
    },
    {
     "name": "stderr",
     "output_type": "stream",
     "text": [
      "/opt/anaconda3/envs/gene/lib/python3.8/site-packages/lightgbm/engine.py:177: UserWarning: Found `num_boost_round` in params. Will use it instead of argument\n",
      "  _log_warning(f\"Found `{alias}` in params. Will use it instead of argument\")\n"
     ]
    },
    {
     "name": "stdout",
     "output_type": "stream",
     "text": [
      "[LightGBM] [Warning] min_data_in_leaf is set=10, min_child_samples=20 will be ignored. Current value: min_data_in_leaf=10\n",
      "[LightGBM] [Warning] num_iterations is set=2000, num_boost_round=2000 will be ignored. Current value: num_iterations=2000\n",
      "[LightGBM] [Warning] lambda_l1 is set=0, reg_alpha=1.5 will be ignored. Current value: lambda_l1=0\n",
      "[LightGBM] [Warning] lambda_l2 is set=1, reg_lambda=1.5 will be ignored. Current value: lambda_l2=1\n",
      "{'scale_pos_weight': 2, 'reg_lambda': 1.5, 'reg_alpha': 1.5, 'num_leaves': 50, 'n_estimators': 135, 'min_data_in_leaf': 10, 'min_child_weight': 4.0, 'max_depth': 12, 'lambda_l2': 1, 'lambda_l1': 0} 0.9082747613868912\n"
     ]
    }
   ],
   "source": [
    "param_grid = {\n",
    "    'num_leaves': [31, 50, 60, 90, 127, 150, 175, 185, 190, 200, 225],\n",
    "    'reg_alpha': [0.1, 0.5, 1, 1.5, 2, 2.5],\n",
    "    'min_data_in_leaf': [10,15, 20, 25, 30],\n",
    "    'lambda_l1': [0,0.5,1,1.5, 2, 2.5, 3],\n",
    "    'lambda_l2': [0,0.5,1],\n",
    "    'reg_lambda':[0.5,1,1.5,1.75,2, 2.25, 2.5, 3],\n",
    "    'n_estimators': [100,110, 115, 120 ,125,130,135, 140, 145,150,165,175],\n",
    "    'max_depth':[3,6,9,12, 15,18,21,24],\n",
    "    'min_child_weight':[4.0, 8.0, 10.0, 12.0, 12.5, 15.0],\n",
    "    'scale_pos_weight':[2,5,7,9,11,13,15]\n",
    "    }\n",
    "\n",
    "lgb_estimator = lgb.LGBMClassifier(boosting_type='gbdt',  objective='binary', num_boost_round=2000, learning_rate=0.01, metric='auc')\n",
    "\n",
    "gsearch = RandomizedSearchCV(lgb_estimator, param_grid, cv=3, n_jobs=3)\n",
    "lgb_model = gsearch.fit(X=X_train, y=y_train.values.ravel())\n",
    "\n",
    "print(lgb_model.best_params_, lgb_model.best_score_)"
   ]
  },
  {
   "cell_type": "code",
   "execution_count": null,
   "metadata": {},
   "outputs": [],
   "source": [
    "%%time\n",
    "\n",
    "def bayes_parameter_opt_lgb(X, y, init_round=15, opt_round=25, n_folds=3, random_seed=6,n_estimators=10000, output_process=False):\n",
    "    # prepare data\n",
    "    train_data = lgb.Dataset(data=X, label=y, free_raw_data=False)\n",
    "    # parameters\n",
    "    def lgb_eval(learning_rate,num_leaves, feature_fraction, bagging_fraction, max_depth, max_bin, min_data_in_leaf,min_sum_hessian_in_leaf,subsample):\n",
    "        params = {'application':'binary', 'metric':'auc'}\n",
    "        params['learning_rate'] = max(min(learning_rate, 1), 0)\n",
    "        params[\"num_leaves\"] = int(round(num_leaves))\n",
    "        params['feature_fraction'] = max(min(feature_fraction, 1), 0)\n",
    "        params['bagging_fraction'] = max(min(bagging_fraction, 1), 0)\n",
    "        params['max_depth'] = int(round(max_depth))\n",
    "        params['max_bin'] = int(round(max_depth))\n",
    "        params['min_data_in_leaf'] = int(round(min_data_in_leaf))\n",
    "        params['min_sum_hessian_in_leaf'] = min_sum_hessian_in_leaf\n",
    "        params['subsample'] = max(min(subsample, 1), 0)\n",
    "        \n",
    "        cv_result = lgb.cv(params, train_data, nfold=n_folds, seed=random_seed, stratified=True, verbose_eval =200, metrics=['auc'])\n",
    "        return max(cv_result['auc-mean'])\n",
    "     \n",
    "    lgbBO = BayesianOptimization(lgb_eval, {'learning_rate': (0.01, 1.0),\n",
    "                                            'num_leaves': (24, 80),\n",
    "                                            'feature_fraction': (0.1, 0.9),\n",
    "                                            'bagging_fraction': (0.8, 1),\n",
    "                                            'max_depth': (5, 30),\n",
    "                                            'max_bin':(20,90),\n",
    "                                            'min_data_in_leaf': (20, 80),\n",
    "                                            'min_sum_hessian_in_leaf':(0,100),\n",
    "                                           'subsample': (0.01, 1.0)}, random_state=200)\n",
    "\n",
    "    \n",
    "    #n_iter: How many steps of bayesian optimization you want to perform. The more steps the more likely to find a good maximum you are.\n",
    "    #init_points: How many steps of random exploration you want to perform. Random exploration can help by diversifying the exploration space.\n",
    "    \n",
    "    lgbBO.maximize(init_points=init_round, n_iter=opt_round)\n",
    "    \n",
    "    model_auc=[]\n",
    "    for model in range(len( lgbBO.res)):\n",
    "        model_auc.append(lgbBO.res[model]['target'])\n",
    "    \n",
    "    # return best parameters\n",
    "    return lgbBO.res[pd.Series(model_auc).idxmax()]['target'],lgbBO.res[pd.Series(model_auc).idxmax()]['params']\n",
    "\n",
    "opt_params = bayes_parameter_opt_lgb(X, y, init_round=5, opt_round=10, n_folds=3, random_seed=6,n_estimators=10000)"
   ]
  },
  {
   "cell_type": "code",
   "execution_count": null,
   "metadata": {},
   "outputs": [],
   "source": []
  },
  {
   "cell_type": "markdown",
   "metadata": {},
   "source": [
    "## RFE"
   ]
  },
  {
   "cell_type": "code",
   "execution_count": 23,
   "metadata": {},
   "outputs": [
    {
     "name": "stderr",
     "output_type": "stream",
     "text": [
      "/opt/anaconda3/envs/gene/lib/python3.8/site-packages/sklearn/preprocessing/_label.py:98: DataConversionWarning: A column-vector y was passed when a 1d array was expected. Please change the shape of y to (n_samples, ), for example using ravel().\n",
      "  y = column_or_1d(y, warn=True)\n",
      "/opt/anaconda3/envs/gene/lib/python3.8/site-packages/sklearn/preprocessing/_label.py:133: DataConversionWarning: A column-vector y was passed when a 1d array was expected. Please change the shape of y to (n_samples, ), for example using ravel().\n",
      "  y = column_or_1d(y, warn=True)\n"
     ]
    },
    {
     "name": "stdout",
     "output_type": "stream",
     "text": [
      "[LightGBM] [Warning] min_data_in_leaf is set=10, min_child_samples=20 will be ignored. Current value: min_data_in_leaf=10\n",
      "[LightGBM] [Warning] lambda_l1 is set=0, reg_alpha=1.5 will be ignored. Current value: lambda_l1=0\n",
      "[LightGBM] [Warning] lambda_l2 is set=1, reg_lambda=1.5 will be ignored. Current value: lambda_l2=1\n",
      "[LightGBM] [Warning] min_data_in_leaf is set=10, min_child_samples=20 will be ignored. Current value: min_data_in_leaf=10\n",
      "[LightGBM] [Warning] lambda_l1 is set=0, reg_alpha=1.5 will be ignored. Current value: lambda_l1=0\n",
      "[LightGBM] [Warning] lambda_l2 is set=1, reg_lambda=1.5 will be ignored. Current value: lambda_l2=1\n",
      "[LightGBM] [Info] Number of positive: 5483, number of negative: 24923\n",
      "[LightGBM] [Warning] Auto-choosing col-wise multi-threading, the overhead of testing was 0.006159 seconds.\n",
      "You can set `force_col_wise=true` to remove the overhead.\n",
      "[LightGBM] [Info] Total Bins 9365\n",
      "[LightGBM] [Info] Number of data points in the train set: 30406, number of used features: 53\n",
      "[LightGBM] [Info] [binary:BoostFromScore]: pavg=0.180326 -> initscore=-1.514139\n",
      "[LightGBM] [Info] Start training from score -1.514139\n",
      "[LightGBM] [Warning] No further splits with positive gain, best gain: -inf\n",
      "[LightGBM] [Warning] No further splits with positive gain, best gain: -inf\n",
      "[LightGBM] [Warning] No further splits with positive gain, best gain: -inf\n"
     ]
    },
    {
     "data": {
      "text/html": [
       "<div>\n",
       "<style scoped>\n",
       "    .dataframe tbody tr th:only-of-type {\n",
       "        vertical-align: middle;\n",
       "    }\n",
       "\n",
       "    .dataframe tbody tr th {\n",
       "        vertical-align: top;\n",
       "    }\n",
       "\n",
       "    .dataframe thead th {\n",
       "        text-align: right;\n",
       "    }\n",
       "</style>\n",
       "<table border=\"1\" class=\"dataframe\">\n",
       "  <thead>\n",
       "    <tr style=\"text-align: right;\">\n",
       "      <th></th>\n",
       "      <th>cols</th>\n",
       "      <th>fea_imp</th>\n",
       "    </tr>\n",
       "  </thead>\n",
       "  <tbody>\n",
       "    <tr>\n",
       "      <th>21</th>\n",
       "      <td>mean_0_25</td>\n",
       "      <td>321</td>\n",
       "    </tr>\n",
       "    <tr>\n",
       "      <th>17</th>\n",
       "      <td>std_0_25</td>\n",
       "      <td>287</td>\n",
       "    </tr>\n",
       "    <tr>\n",
       "      <th>0</th>\n",
       "      <td>reads_count</td>\n",
       "      <td>286</td>\n",
       "    </tr>\n",
       "    <tr>\n",
       "      <th>33</th>\n",
       "      <td>mean_+1_25</td>\n",
       "      <td>280</td>\n",
       "    </tr>\n",
       "    <tr>\n",
       "      <th>35</th>\n",
       "      <td>mean_+1_75</td>\n",
       "      <td>236</td>\n",
       "    </tr>\n",
       "    <tr>\n",
       "      <th>20</th>\n",
       "      <td>std_0_mean</td>\n",
       "      <td>204</td>\n",
       "    </tr>\n",
       "    <tr>\n",
       "      <th>29</th>\n",
       "      <td>std_+1_25</td>\n",
       "      <td>194</td>\n",
       "    </tr>\n",
       "    <tr>\n",
       "      <th>19</th>\n",
       "      <td>std_0_75</td>\n",
       "      <td>193</td>\n",
       "    </tr>\n",
       "    <tr>\n",
       "      <th>23</th>\n",
       "      <td>mean_0_75</td>\n",
       "      <td>185</td>\n",
       "    </tr>\n",
       "    <tr>\n",
       "      <th>13</th>\n",
       "      <td>dwelling_time_0_25</td>\n",
       "      <td>184</td>\n",
       "    </tr>\n",
       "    <tr>\n",
       "      <th>5</th>\n",
       "      <td>std_-1_25</td>\n",
       "      <td>184</td>\n",
       "    </tr>\n",
       "    <tr>\n",
       "      <th>1</th>\n",
       "      <td>dwelling_time_-1_25</td>\n",
       "      <td>180</td>\n",
       "    </tr>\n",
       "    <tr>\n",
       "      <th>24</th>\n",
       "      <td>mean_0_mean</td>\n",
       "      <td>179</td>\n",
       "    </tr>\n",
       "    <tr>\n",
       "      <th>7</th>\n",
       "      <td>std_-1_75</td>\n",
       "      <td>177</td>\n",
       "    </tr>\n",
       "    <tr>\n",
       "      <th>14</th>\n",
       "      <td>dwelling_time_0_50</td>\n",
       "      <td>171</td>\n",
       "    </tr>\n",
       "    <tr>\n",
       "      <th>25</th>\n",
       "      <td>dwelling_time_+1_25</td>\n",
       "      <td>167</td>\n",
       "    </tr>\n",
       "    <tr>\n",
       "      <th>16</th>\n",
       "      <td>dwelling_time_0_mean</td>\n",
       "      <td>160</td>\n",
       "    </tr>\n",
       "    <tr>\n",
       "      <th>31</th>\n",
       "      <td>std_+1_75</td>\n",
       "      <td>160</td>\n",
       "    </tr>\n",
       "    <tr>\n",
       "      <th>9</th>\n",
       "      <td>mean_-1_25</td>\n",
       "      <td>156</td>\n",
       "    </tr>\n",
       "    <tr>\n",
       "      <th>2</th>\n",
       "      <td>dwelling_time_-1_50</td>\n",
       "      <td>152</td>\n",
       "    </tr>\n",
       "    <tr>\n",
       "      <th>15</th>\n",
       "      <td>dwelling_time_0_75</td>\n",
       "      <td>152</td>\n",
       "    </tr>\n",
       "    <tr>\n",
       "      <th>3</th>\n",
       "      <td>dwelling_time_-1_75</td>\n",
       "      <td>150</td>\n",
       "    </tr>\n",
       "    <tr>\n",
       "      <th>28</th>\n",
       "      <td>dwelling_time_+1_mean</td>\n",
       "      <td>148</td>\n",
       "    </tr>\n",
       "    <tr>\n",
       "      <th>18</th>\n",
       "      <td>std_0_50</td>\n",
       "      <td>143</td>\n",
       "    </tr>\n",
       "    <tr>\n",
       "      <th>32</th>\n",
       "      <td>std_+1_mean</td>\n",
       "      <td>137</td>\n",
       "    </tr>\n",
       "    <tr>\n",
       "      <th>22</th>\n",
       "      <td>mean_0_50</td>\n",
       "      <td>136</td>\n",
       "    </tr>\n",
       "    <tr>\n",
       "      <th>34</th>\n",
       "      <td>mean_+1_50</td>\n",
       "      <td>134</td>\n",
       "    </tr>\n",
       "    <tr>\n",
       "      <th>26</th>\n",
       "      <td>dwelling_time_+1_50</td>\n",
       "      <td>130</td>\n",
       "    </tr>\n",
       "    <tr>\n",
       "      <th>27</th>\n",
       "      <td>dwelling_time_+1_75</td>\n",
       "      <td>129</td>\n",
       "    </tr>\n",
       "    <tr>\n",
       "      <th>12</th>\n",
       "      <td>mean_-1_mean</td>\n",
       "      <td>127</td>\n",
       "    </tr>\n",
       "    <tr>\n",
       "      <th>4</th>\n",
       "      <td>dwelling_time_-1_mean</td>\n",
       "      <td>126</td>\n",
       "    </tr>\n",
       "    <tr>\n",
       "      <th>30</th>\n",
       "      <td>std_+1_50</td>\n",
       "      <td>124</td>\n",
       "    </tr>\n",
       "    <tr>\n",
       "      <th>10</th>\n",
       "      <td>mean_-1_50</td>\n",
       "      <td>124</td>\n",
       "    </tr>\n",
       "    <tr>\n",
       "      <th>36</th>\n",
       "      <td>mean_+1_mean</td>\n",
       "      <td>121</td>\n",
       "    </tr>\n",
       "    <tr>\n",
       "      <th>11</th>\n",
       "      <td>mean_-1_75</td>\n",
       "      <td>118</td>\n",
       "    </tr>\n",
       "    <tr>\n",
       "      <th>8</th>\n",
       "      <td>std_-1_mean</td>\n",
       "      <td>118</td>\n",
       "    </tr>\n",
       "    <tr>\n",
       "      <th>6</th>\n",
       "      <td>std_-1_50</td>\n",
       "      <td>115</td>\n",
       "    </tr>\n",
       "    <tr>\n",
       "      <th>63</th>\n",
       "      <td>position_6_G</td>\n",
       "      <td>52</td>\n",
       "    </tr>\n",
       "    <tr>\n",
       "      <th>60</th>\n",
       "      <td>position_5_T</td>\n",
       "      <td>34</td>\n",
       "    </tr>\n",
       "    <tr>\n",
       "      <th>64</th>\n",
       "      <td>position_6_T</td>\n",
       "      <td>32</td>\n",
       "    </tr>\n",
       "    <tr>\n",
       "      <th>40</th>\n",
       "      <td>position_0_T</td>\n",
       "      <td>29</td>\n",
       "    </tr>\n",
       "    <tr>\n",
       "      <th>57</th>\n",
       "      <td>position_5_A</td>\n",
       "      <td>28</td>\n",
       "    </tr>\n",
       "    <tr>\n",
       "      <th>61</th>\n",
       "      <td>position_6_A</td>\n",
       "      <td>25</td>\n",
       "    </tr>\n",
       "    <tr>\n",
       "      <th>37</th>\n",
       "      <td>position_0_A</td>\n",
       "      <td>25</td>\n",
       "    </tr>\n",
       "    <tr>\n",
       "      <th>62</th>\n",
       "      <td>position_6_C</td>\n",
       "      <td>22</td>\n",
       "    </tr>\n",
       "    <tr>\n",
       "      <th>45</th>\n",
       "      <td>position_2_A</td>\n",
       "      <td>20</td>\n",
       "    </tr>\n",
       "    <tr>\n",
       "      <th>41</th>\n",
       "      <td>position_1_A</td>\n",
       "      <td>10</td>\n",
       "    </tr>\n",
       "    <tr>\n",
       "      <th>43</th>\n",
       "      <td>position_1_G</td>\n",
       "      <td>10</td>\n",
       "    </tr>\n",
       "    <tr>\n",
       "      <th>39</th>\n",
       "      <td>position_0_G</td>\n",
       "      <td>9</td>\n",
       "    </tr>\n",
       "    <tr>\n",
       "      <th>38</th>\n",
       "      <td>position_0_C</td>\n",
       "      <td>6</td>\n",
       "    </tr>\n",
       "    <tr>\n",
       "      <th>58</th>\n",
       "      <td>position_5_C</td>\n",
       "      <td>5</td>\n",
       "    </tr>\n",
       "    <tr>\n",
       "      <th>44</th>\n",
       "      <td>position_1_T</td>\n",
       "      <td>2</td>\n",
       "    </tr>\n",
       "  </tbody>\n",
       "</table>\n",
       "</div>"
      ],
      "text/plain": [
       "                     cols  fea_imp\n",
       "21              mean_0_25      321\n",
       "17               std_0_25      287\n",
       "0             reads_count      286\n",
       "33             mean_+1_25      280\n",
       "35             mean_+1_75      236\n",
       "20             std_0_mean      204\n",
       "29              std_+1_25      194\n",
       "19               std_0_75      193\n",
       "23              mean_0_75      185\n",
       "13     dwelling_time_0_25      184\n",
       "5               std_-1_25      184\n",
       "1     dwelling_time_-1_25      180\n",
       "24            mean_0_mean      179\n",
       "7               std_-1_75      177\n",
       "14     dwelling_time_0_50      171\n",
       "25    dwelling_time_+1_25      167\n",
       "16   dwelling_time_0_mean      160\n",
       "31              std_+1_75      160\n",
       "9              mean_-1_25      156\n",
       "2     dwelling_time_-1_50      152\n",
       "15     dwelling_time_0_75      152\n",
       "3     dwelling_time_-1_75      150\n",
       "28  dwelling_time_+1_mean      148\n",
       "18               std_0_50      143\n",
       "32            std_+1_mean      137\n",
       "22              mean_0_50      136\n",
       "34             mean_+1_50      134\n",
       "26    dwelling_time_+1_50      130\n",
       "27    dwelling_time_+1_75      129\n",
       "12           mean_-1_mean      127\n",
       "4   dwelling_time_-1_mean      126\n",
       "30              std_+1_50      124\n",
       "10             mean_-1_50      124\n",
       "36           mean_+1_mean      121\n",
       "11             mean_-1_75      118\n",
       "8             std_-1_mean      118\n",
       "6               std_-1_50      115\n",
       "63           position_6_G       52\n",
       "60           position_5_T       34\n",
       "64           position_6_T       32\n",
       "40           position_0_T       29\n",
       "57           position_5_A       28\n",
       "61           position_6_A       25\n",
       "37           position_0_A       25\n",
       "62           position_6_C       22\n",
       "45           position_2_A       20\n",
       "41           position_1_A       10\n",
       "43           position_1_G       10\n",
       "39           position_0_G        9\n",
       "38           position_0_C        6\n",
       "58           position_5_C        5\n",
       "44           position_1_T        2"
      ]
     },
     "execution_count": 23,
     "metadata": {},
     "output_type": "execute_result"
    }
   ],
   "source": [
    "# Feature importance\n",
    "\n",
    "#lightGBM model fit\n",
    "\n",
    "model = lgb.LGBMClassifier(learning_rate=0.14048611339776612, max_depth=12,\n",
    "               min_child_weight=4.0, n_estimators=135, num_leaves=50,\n",
    "               random_state=42, reg_alpha=1.5, reg_lambda=1.5,\n",
    "               scale_pos_weight=2, verbosity=1, min_data_in_leaf=10,lambda_l2=1, lambda_l1 = 0)\n",
    "model.fit(X_train, y_train)\n",
    "model.booster_.feature_importance()\n",
    "\n",
    "# importance of each attribute\n",
    "fea_imp_ = pd.DataFrame({'cols':X_train.columns, 'fea_imp':model.feature_importances_})\n",
    "fea_imp_.loc[fea_imp_.fea_imp > 0].sort_values(by=['fea_imp'], ascending = False)"
   ]
  },
  {
   "cell_type": "code",
   "execution_count": 49,
   "metadata": {},
   "outputs": [
    {
     "data": {
      "text/html": [
       "<div>\n",
       "<style scoped>\n",
       "    .dataframe tbody tr th:only-of-type {\n",
       "        vertical-align: middle;\n",
       "    }\n",
       "\n",
       "    .dataframe tbody tr th {\n",
       "        vertical-align: top;\n",
       "    }\n",
       "\n",
       "    .dataframe thead th {\n",
       "        text-align: right;\n",
       "    }\n",
       "</style>\n",
       "<table border=\"1\" class=\"dataframe\">\n",
       "  <thead>\n",
       "    <tr style=\"text-align: right;\">\n",
       "      <th></th>\n",
       "      <th>cols</th>\n",
       "      <th>fea_imp</th>\n",
       "    </tr>\n",
       "  </thead>\n",
       "  <tbody>\n",
       "    <tr>\n",
       "      <th>21</th>\n",
       "      <td>mean_0_25</td>\n",
       "      <td>321</td>\n",
       "    </tr>\n",
       "    <tr>\n",
       "      <th>17</th>\n",
       "      <td>std_0_25</td>\n",
       "      <td>287</td>\n",
       "    </tr>\n",
       "    <tr>\n",
       "      <th>0</th>\n",
       "      <td>reads_count</td>\n",
       "      <td>286</td>\n",
       "    </tr>\n",
       "    <tr>\n",
       "      <th>33</th>\n",
       "      <td>mean_+1_25</td>\n",
       "      <td>280</td>\n",
       "    </tr>\n",
       "    <tr>\n",
       "      <th>35</th>\n",
       "      <td>mean_+1_75</td>\n",
       "      <td>236</td>\n",
       "    </tr>\n",
       "    <tr>\n",
       "      <th>20</th>\n",
       "      <td>std_0_mean</td>\n",
       "      <td>204</td>\n",
       "    </tr>\n",
       "    <tr>\n",
       "      <th>29</th>\n",
       "      <td>std_+1_25</td>\n",
       "      <td>194</td>\n",
       "    </tr>\n",
       "    <tr>\n",
       "      <th>19</th>\n",
       "      <td>std_0_75</td>\n",
       "      <td>193</td>\n",
       "    </tr>\n",
       "    <tr>\n",
       "      <th>23</th>\n",
       "      <td>mean_0_75</td>\n",
       "      <td>185</td>\n",
       "    </tr>\n",
       "    <tr>\n",
       "      <th>13</th>\n",
       "      <td>dwelling_time_0_25</td>\n",
       "      <td>184</td>\n",
       "    </tr>\n",
       "    <tr>\n",
       "      <th>5</th>\n",
       "      <td>std_-1_25</td>\n",
       "      <td>184</td>\n",
       "    </tr>\n",
       "    <tr>\n",
       "      <th>1</th>\n",
       "      <td>dwelling_time_-1_25</td>\n",
       "      <td>180</td>\n",
       "    </tr>\n",
       "    <tr>\n",
       "      <th>24</th>\n",
       "      <td>mean_0_mean</td>\n",
       "      <td>179</td>\n",
       "    </tr>\n",
       "    <tr>\n",
       "      <th>7</th>\n",
       "      <td>std_-1_75</td>\n",
       "      <td>177</td>\n",
       "    </tr>\n",
       "    <tr>\n",
       "      <th>14</th>\n",
       "      <td>dwelling_time_0_50</td>\n",
       "      <td>171</td>\n",
       "    </tr>\n",
       "    <tr>\n",
       "      <th>25</th>\n",
       "      <td>dwelling_time_+1_25</td>\n",
       "      <td>167</td>\n",
       "    </tr>\n",
       "    <tr>\n",
       "      <th>16</th>\n",
       "      <td>dwelling_time_0_mean</td>\n",
       "      <td>160</td>\n",
       "    </tr>\n",
       "    <tr>\n",
       "      <th>31</th>\n",
       "      <td>std_+1_75</td>\n",
       "      <td>160</td>\n",
       "    </tr>\n",
       "    <tr>\n",
       "      <th>9</th>\n",
       "      <td>mean_-1_25</td>\n",
       "      <td>156</td>\n",
       "    </tr>\n",
       "    <tr>\n",
       "      <th>15</th>\n",
       "      <td>dwelling_time_0_75</td>\n",
       "      <td>152</td>\n",
       "    </tr>\n",
       "    <tr>\n",
       "      <th>2</th>\n",
       "      <td>dwelling_time_-1_50</td>\n",
       "      <td>152</td>\n",
       "    </tr>\n",
       "    <tr>\n",
       "      <th>3</th>\n",
       "      <td>dwelling_time_-1_75</td>\n",
       "      <td>150</td>\n",
       "    </tr>\n",
       "    <tr>\n",
       "      <th>28</th>\n",
       "      <td>dwelling_time_+1_mean</td>\n",
       "      <td>148</td>\n",
       "    </tr>\n",
       "    <tr>\n",
       "      <th>18</th>\n",
       "      <td>std_0_50</td>\n",
       "      <td>143</td>\n",
       "    </tr>\n",
       "    <tr>\n",
       "      <th>32</th>\n",
       "      <td>std_+1_mean</td>\n",
       "      <td>137</td>\n",
       "    </tr>\n",
       "    <tr>\n",
       "      <th>22</th>\n",
       "      <td>mean_0_50</td>\n",
       "      <td>136</td>\n",
       "    </tr>\n",
       "    <tr>\n",
       "      <th>34</th>\n",
       "      <td>mean_+1_50</td>\n",
       "      <td>134</td>\n",
       "    </tr>\n",
       "    <tr>\n",
       "      <th>26</th>\n",
       "      <td>dwelling_time_+1_50</td>\n",
       "      <td>130</td>\n",
       "    </tr>\n",
       "    <tr>\n",
       "      <th>27</th>\n",
       "      <td>dwelling_time_+1_75</td>\n",
       "      <td>129</td>\n",
       "    </tr>\n",
       "    <tr>\n",
       "      <th>12</th>\n",
       "      <td>mean_-1_mean</td>\n",
       "      <td>127</td>\n",
       "    </tr>\n",
       "    <tr>\n",
       "      <th>4</th>\n",
       "      <td>dwelling_time_-1_mean</td>\n",
       "      <td>126</td>\n",
       "    </tr>\n",
       "    <tr>\n",
       "      <th>10</th>\n",
       "      <td>mean_-1_50</td>\n",
       "      <td>124</td>\n",
       "    </tr>\n",
       "    <tr>\n",
       "      <th>30</th>\n",
       "      <td>std_+1_50</td>\n",
       "      <td>124</td>\n",
       "    </tr>\n",
       "    <tr>\n",
       "      <th>36</th>\n",
       "      <td>mean_+1_mean</td>\n",
       "      <td>121</td>\n",
       "    </tr>\n",
       "    <tr>\n",
       "      <th>11</th>\n",
       "      <td>mean_-1_75</td>\n",
       "      <td>118</td>\n",
       "    </tr>\n",
       "    <tr>\n",
       "      <th>8</th>\n",
       "      <td>std_-1_mean</td>\n",
       "      <td>118</td>\n",
       "    </tr>\n",
       "    <tr>\n",
       "      <th>6</th>\n",
       "      <td>std_-1_50</td>\n",
       "      <td>115</td>\n",
       "    </tr>\n",
       "  </tbody>\n",
       "</table>\n",
       "</div>"
      ],
      "text/plain": [
       "                     cols  fea_imp\n",
       "21              mean_0_25      321\n",
       "17               std_0_25      287\n",
       "0             reads_count      286\n",
       "33             mean_+1_25      280\n",
       "35             mean_+1_75      236\n",
       "20             std_0_mean      204\n",
       "29              std_+1_25      194\n",
       "19               std_0_75      193\n",
       "23              mean_0_75      185\n",
       "13     dwelling_time_0_25      184\n",
       "5               std_-1_25      184\n",
       "1     dwelling_time_-1_25      180\n",
       "24            mean_0_mean      179\n",
       "7               std_-1_75      177\n",
       "14     dwelling_time_0_50      171\n",
       "25    dwelling_time_+1_25      167\n",
       "16   dwelling_time_0_mean      160\n",
       "31              std_+1_75      160\n",
       "9              mean_-1_25      156\n",
       "15     dwelling_time_0_75      152\n",
       "2     dwelling_time_-1_50      152\n",
       "3     dwelling_time_-1_75      150\n",
       "28  dwelling_time_+1_mean      148\n",
       "18               std_0_50      143\n",
       "32            std_+1_mean      137\n",
       "22              mean_0_50      136\n",
       "34             mean_+1_50      134\n",
       "26    dwelling_time_+1_50      130\n",
       "27    dwelling_time_+1_75      129\n",
       "12           mean_-1_mean      127\n",
       "4   dwelling_time_-1_mean      126\n",
       "10             mean_-1_50      124\n",
       "30              std_+1_50      124\n",
       "36           mean_+1_mean      121\n",
       "11             mean_-1_75      118\n",
       "8             std_-1_mean      118\n",
       "6               std_-1_50      115"
      ]
     },
     "execution_count": 49,
     "metadata": {},
     "output_type": "execute_result"
    }
   ],
   "source": [
    "fea_imp_.loc[fea_imp_.fea_imp > 114].sort_values(by=['fea_imp'], ascending = False)"
   ]
  },
  {
   "cell_type": "code",
   "execution_count": 25,
   "metadata": {},
   "outputs": [
    {
     "data": {
      "text/plain": [
       "65"
      ]
     },
     "execution_count": 25,
     "metadata": {},
     "output_type": "execute_result"
    }
   ],
   "source": [
    "len(X_train.columns)"
   ]
  },
  {
   "cell_type": "code",
   "execution_count": 32,
   "metadata": {},
   "outputs": [
    {
     "name": "stderr",
     "output_type": "stream",
     "text": [
      "/opt/anaconda3/envs/gene/lib/python3.8/site-packages/sklearn/preprocessing/_label.py:98: DataConversionWarning: A column-vector y was passed when a 1d array was expected. Please change the shape of y to (n_samples, ), for example using ravel().\n",
      "  y = column_or_1d(y, warn=True)\n",
      "/opt/anaconda3/envs/gene/lib/python3.8/site-packages/sklearn/preprocessing/_label.py:133: DataConversionWarning: A column-vector y was passed when a 1d array was expected. Please change the shape of y to (n_samples, ), for example using ravel().\n",
      "  y = column_or_1d(y, warn=True)\n"
     ]
    },
    {
     "name": "stdout",
     "output_type": "stream",
     "text": [
      "[LightGBM] [Warning] min_data_in_leaf is set=10, min_child_samples=20 will be ignored. Current value: min_data_in_leaf=10\n",
      "[LightGBM] [Warning] lambda_l1 is set=0, reg_alpha=1.5 will be ignored. Current value: lambda_l1=0\n",
      "[LightGBM] [Warning] lambda_l2 is set=1, reg_lambda=1.5 will be ignored. Current value: lambda_l2=1\n",
      "[LightGBM] [Warning] min_data_in_leaf is set=10, min_child_samples=20 will be ignored. Current value: min_data_in_leaf=10\n",
      "[LightGBM] [Warning] lambda_l1 is set=0, reg_alpha=1.5 will be ignored. Current value: lambda_l1=0\n",
      "[LightGBM] [Warning] lambda_l2 is set=1, reg_lambda=1.5 will be ignored. Current value: lambda_l2=1\n",
      "[LightGBM] [Info] Number of positive: 5483, number of negative: 24923\n",
      "[LightGBM] [Warning] Auto-choosing col-wise multi-threading, the overhead of testing was 0.019476 seconds.\n",
      "You can set `force_col_wise=true` to remove the overhead.\n",
      "[LightGBM] [Info] Total Bins 9365\n",
      "[LightGBM] [Info] Number of data points in the train set: 30406, number of used features: 53\n",
      "[LightGBM] [Info] [binary:BoostFromScore]: pavg=0.180326 -> initscore=-1.514139\n",
      "[LightGBM] [Info] Start training from score -1.514139\n",
      "[LightGBM] [Warning] No further splits with positive gain, best gain: -inf\n",
      "[LightGBM] [Warning] No further splits with positive gain, best gain: -inf\n",
      "[LightGBM] [Warning] No further splits with positive gain, best gain: -inf\n",
      "[LightGBM] [Warning] min_data_in_leaf is set=10, min_child_samples=20 will be ignored. Current value: min_data_in_leaf=10\n",
      "[LightGBM] [Warning] lambda_l1 is set=0, reg_alpha=1.5 will be ignored. Current value: lambda_l1=0\n",
      "[LightGBM] [Warning] lambda_l2 is set=1, reg_lambda=1.5 will be ignored. Current value: lambda_l2=1\n",
      "[LightGBM] [Warning] min_data_in_leaf is set=10, min_child_samples=20 will be ignored. Current value: min_data_in_leaf=10\n",
      "[LightGBM] [Warning] lambda_l1 is set=0, reg_alpha=1.5 will be ignored. Current value: lambda_l1=0\n",
      "[LightGBM] [Warning] lambda_l2 is set=1, reg_lambda=1.5 will be ignored. Current value: lambda_l2=1\n",
      "[LightGBM] [Info] Number of positive: 5483, number of negative: 24923\n",
      "[LightGBM] [Warning] Auto-choosing col-wise multi-threading, the overhead of testing was 0.003911 seconds.\n",
      "You can set `force_col_wise=true` to remove the overhead.\n",
      "[LightGBM] [Info] Total Bins 9365\n",
      "[LightGBM] [Info] Number of data points in the train set: 30406, number of used features: 53\n",
      "[LightGBM] [Info] [binary:BoostFromScore]: pavg=0.180326 -> initscore=-1.514139\n",
      "[LightGBM] [Info] Start training from score -1.514139\n"
     ]
    },
    {
     "name": "stderr",
     "output_type": "stream",
     "text": [
      "/opt/anaconda3/envs/gene/lib/python3.8/site-packages/sklearn/preprocessing/_label.py:98: DataConversionWarning: A column-vector y was passed when a 1d array was expected. Please change the shape of y to (n_samples, ), for example using ravel().\n",
      "  y = column_or_1d(y, warn=True)\n",
      "/opt/anaconda3/envs/gene/lib/python3.8/site-packages/sklearn/preprocessing/_label.py:133: DataConversionWarning: A column-vector y was passed when a 1d array was expected. Please change the shape of y to (n_samples, ), for example using ravel().\n",
      "  y = column_or_1d(y, warn=True)\n"
     ]
    },
    {
     "name": "stdout",
     "output_type": "stream",
     "text": [
      "[LightGBM] [Warning] No further splits with positive gain, best gain: -inf\n",
      "[LightGBM] [Warning] No further splits with positive gain, best gain: -inf\n",
      "[LightGBM] [Warning] No further splits with positive gain, best gain: -inf\n"
     ]
    },
    {
     "name": "stderr",
     "output_type": "stream",
     "text": [
      "/opt/anaconda3/envs/gene/lib/python3.8/site-packages/sklearn/preprocessing/_label.py:98: DataConversionWarning: A column-vector y was passed when a 1d array was expected. Please change the shape of y to (n_samples, ), for example using ravel().\n",
      "  y = column_or_1d(y, warn=True)\n",
      "/opt/anaconda3/envs/gene/lib/python3.8/site-packages/sklearn/preprocessing/_label.py:133: DataConversionWarning: A column-vector y was passed when a 1d array was expected. Please change the shape of y to (n_samples, ), for example using ravel().\n",
      "  y = column_or_1d(y, warn=True)\n"
     ]
    },
    {
     "name": "stdout",
     "output_type": "stream",
     "text": [
      "[LightGBM] [Warning] min_data_in_leaf is set=10, min_child_samples=20 will be ignored. Current value: min_data_in_leaf=10\n",
      "[LightGBM] [Warning] lambda_l1 is set=0, reg_alpha=1.5 will be ignored. Current value: lambda_l1=0\n",
      "[LightGBM] [Warning] lambda_l2 is set=1, reg_lambda=1.5 will be ignored. Current value: lambda_l2=1\n",
      "[LightGBM] [Warning] min_data_in_leaf is set=10, min_child_samples=20 will be ignored. Current value: min_data_in_leaf=10\n",
      "[LightGBM] [Warning] lambda_l1 is set=0, reg_alpha=1.5 will be ignored. Current value: lambda_l1=0\n",
      "[LightGBM] [Warning] lambda_l2 is set=1, reg_lambda=1.5 will be ignored. Current value: lambda_l2=1\n",
      "[LightGBM] [Info] Number of positive: 5483, number of negative: 24923\n",
      "[LightGBM] [Warning] Auto-choosing col-wise multi-threading, the overhead of testing was 0.004538 seconds.\n",
      "You can set `force_col_wise=true` to remove the overhead.\n",
      "[LightGBM] [Info] Total Bins 9363\n",
      "[LightGBM] [Info] Number of data points in the train set: 30406, number of used features: 52\n",
      "[LightGBM] [Info] [binary:BoostFromScore]: pavg=0.180326 -> initscore=-1.514139\n",
      "[LightGBM] [Info] Start training from score -1.514139\n",
      "[LightGBM] [Warning] No further splits with positive gain, best gain: -inf\n",
      "[LightGBM] [Warning] No further splits with positive gain, best gain: -inf\n",
      "[LightGBM] [Warning] No further splits with positive gain, best gain: -inf\n"
     ]
    },
    {
     "name": "stderr",
     "output_type": "stream",
     "text": [
      "/opt/anaconda3/envs/gene/lib/python3.8/site-packages/sklearn/preprocessing/_label.py:98: DataConversionWarning: A column-vector y was passed when a 1d array was expected. Please change the shape of y to (n_samples, ), for example using ravel().\n",
      "  y = column_or_1d(y, warn=True)\n",
      "/opt/anaconda3/envs/gene/lib/python3.8/site-packages/sklearn/preprocessing/_label.py:133: DataConversionWarning: A column-vector y was passed when a 1d array was expected. Please change the shape of y to (n_samples, ), for example using ravel().\n",
      "  y = column_or_1d(y, warn=True)\n"
     ]
    },
    {
     "name": "stdout",
     "output_type": "stream",
     "text": [
      "[LightGBM] [Warning] min_data_in_leaf is set=10, min_child_samples=20 will be ignored. Current value: min_data_in_leaf=10\n",
      "[LightGBM] [Warning] lambda_l1 is set=0, reg_alpha=1.5 will be ignored. Current value: lambda_l1=0\n",
      "[LightGBM] [Warning] lambda_l2 is set=1, reg_lambda=1.5 will be ignored. Current value: lambda_l2=1\n",
      "[LightGBM] [Warning] min_data_in_leaf is set=10, min_child_samples=20 will be ignored. Current value: min_data_in_leaf=10\n",
      "[LightGBM] [Warning] lambda_l1 is set=0, reg_alpha=1.5 will be ignored. Current value: lambda_l1=0\n",
      "[LightGBM] [Warning] lambda_l2 is set=1, reg_lambda=1.5 will be ignored. Current value: lambda_l2=1\n",
      "[LightGBM] [Info] Number of positive: 5483, number of negative: 24923\n",
      "[LightGBM] [Warning] Auto-choosing col-wise multi-threading, the overhead of testing was 0.004758 seconds.\n",
      "You can set `force_col_wise=true` to remove the overhead.\n",
      "[LightGBM] [Info] Total Bins 9363\n",
      "[LightGBM] [Info] Number of data points in the train set: 30406, number of used features: 52\n",
      "[LightGBM] [Info] [binary:BoostFromScore]: pavg=0.180326 -> initscore=-1.514139\n",
      "[LightGBM] [Info] Start training from score -1.514139\n",
      "[LightGBM] [Warning] No further splits with positive gain, best gain: -inf\n",
      "[LightGBM] [Warning] No further splits with positive gain, best gain: -inf\n",
      "[LightGBM] [Warning] No further splits with positive gain, best gain: -inf\n"
     ]
    },
    {
     "name": "stderr",
     "output_type": "stream",
     "text": [
      "/opt/anaconda3/envs/gene/lib/python3.8/site-packages/sklearn/preprocessing/_label.py:98: DataConversionWarning: A column-vector y was passed when a 1d array was expected. Please change the shape of y to (n_samples, ), for example using ravel().\n",
      "  y = column_or_1d(y, warn=True)\n",
      "/opt/anaconda3/envs/gene/lib/python3.8/site-packages/sklearn/preprocessing/_label.py:133: DataConversionWarning: A column-vector y was passed when a 1d array was expected. Please change the shape of y to (n_samples, ), for example using ravel().\n",
      "  y = column_or_1d(y, warn=True)\n"
     ]
    },
    {
     "name": "stdout",
     "output_type": "stream",
     "text": [
      "[LightGBM] [Warning] min_data_in_leaf is set=10, min_child_samples=20 will be ignored. Current value: min_data_in_leaf=10\n",
      "[LightGBM] [Warning] lambda_l1 is set=0, reg_alpha=1.5 will be ignored. Current value: lambda_l1=0\n",
      "[LightGBM] [Warning] lambda_l2 is set=1, reg_lambda=1.5 will be ignored. Current value: lambda_l2=1\n",
      "[LightGBM] [Warning] min_data_in_leaf is set=10, min_child_samples=20 will be ignored. Current value: min_data_in_leaf=10\n",
      "[LightGBM] [Warning] lambda_l1 is set=0, reg_alpha=1.5 will be ignored. Current value: lambda_l1=0\n",
      "[LightGBM] [Warning] lambda_l2 is set=1, reg_lambda=1.5 will be ignored. Current value: lambda_l2=1\n",
      "[LightGBM] [Info] Number of positive: 5483, number of negative: 24923\n",
      "[LightGBM] [Warning] Auto-choosing col-wise multi-threading, the overhead of testing was 0.004527 seconds.\n",
      "You can set `force_col_wise=true` to remove the overhead.\n",
      "[LightGBM] [Info] Total Bins 9363\n",
      "[LightGBM] [Info] Number of data points in the train set: 30406, number of used features: 52\n",
      "[LightGBM] [Info] [binary:BoostFromScore]: pavg=0.180326 -> initscore=-1.514139\n",
      "[LightGBM] [Info] Start training from score -1.514139\n",
      "[LightGBM] [Warning] No further splits with positive gain, best gain: -inf\n",
      "[LightGBM] [Warning] No further splits with positive gain, best gain: -inf\n",
      "[LightGBM] [Warning] No further splits with positive gain, best gain: -inf\n"
     ]
    },
    {
     "name": "stderr",
     "output_type": "stream",
     "text": [
      "/opt/anaconda3/envs/gene/lib/python3.8/site-packages/sklearn/preprocessing/_label.py:98: DataConversionWarning: A column-vector y was passed when a 1d array was expected. Please change the shape of y to (n_samples, ), for example using ravel().\n",
      "  y = column_or_1d(y, warn=True)\n",
      "/opt/anaconda3/envs/gene/lib/python3.8/site-packages/sklearn/preprocessing/_label.py:133: DataConversionWarning: A column-vector y was passed when a 1d array was expected. Please change the shape of y to (n_samples, ), for example using ravel().\n",
      "  y = column_or_1d(y, warn=True)\n"
     ]
    },
    {
     "name": "stdout",
     "output_type": "stream",
     "text": [
      "[LightGBM] [Warning] min_data_in_leaf is set=10, min_child_samples=20 will be ignored. Current value: min_data_in_leaf=10\n",
      "[LightGBM] [Warning] lambda_l1 is set=0, reg_alpha=1.5 will be ignored. Current value: lambda_l1=0\n",
      "[LightGBM] [Warning] lambda_l2 is set=1, reg_lambda=1.5 will be ignored. Current value: lambda_l2=1\n",
      "[LightGBM] [Warning] min_data_in_leaf is set=10, min_child_samples=20 will be ignored. Current value: min_data_in_leaf=10\n",
      "[LightGBM] [Warning] lambda_l1 is set=0, reg_alpha=1.5 will be ignored. Current value: lambda_l1=0\n",
      "[LightGBM] [Warning] lambda_l2 is set=1, reg_lambda=1.5 will be ignored. Current value: lambda_l2=1\n",
      "[LightGBM] [Info] Number of positive: 5483, number of negative: 24923\n",
      "[LightGBM] [Warning] Auto-choosing col-wise multi-threading, the overhead of testing was 0.004137 seconds.\n",
      "You can set `force_col_wise=true` to remove the overhead.\n",
      "[LightGBM] [Info] Total Bins 9363\n",
      "[LightGBM] [Info] Number of data points in the train set: 30406, number of used features: 52\n",
      "[LightGBM] [Info] [binary:BoostFromScore]: pavg=0.180326 -> initscore=-1.514139\n",
      "[LightGBM] [Info] Start training from score -1.514139\n",
      "[LightGBM] [Warning] No further splits with positive gain, best gain: -inf\n",
      "[LightGBM] [Warning] No further splits with positive gain, best gain: -inf\n",
      "[LightGBM] [Warning] No further splits with positive gain, best gain: -inf\n"
     ]
    },
    {
     "name": "stderr",
     "output_type": "stream",
     "text": [
      "/opt/anaconda3/envs/gene/lib/python3.8/site-packages/sklearn/preprocessing/_label.py:98: DataConversionWarning: A column-vector y was passed when a 1d array was expected. Please change the shape of y to (n_samples, ), for example using ravel().\n",
      "  y = column_or_1d(y, warn=True)\n",
      "/opt/anaconda3/envs/gene/lib/python3.8/site-packages/sklearn/preprocessing/_label.py:133: DataConversionWarning: A column-vector y was passed when a 1d array was expected. Please change the shape of y to (n_samples, ), for example using ravel().\n",
      "  y = column_or_1d(y, warn=True)\n"
     ]
    },
    {
     "name": "stdout",
     "output_type": "stream",
     "text": [
      "[LightGBM] [Warning] min_data_in_leaf is set=10, min_child_samples=20 will be ignored. Current value: min_data_in_leaf=10\n",
      "[LightGBM] [Warning] lambda_l1 is set=0, reg_alpha=1.5 will be ignored. Current value: lambda_l1=0\n",
      "[LightGBM] [Warning] lambda_l2 is set=1, reg_lambda=1.5 will be ignored. Current value: lambda_l2=1\n",
      "[LightGBM] [Warning] min_data_in_leaf is set=10, min_child_samples=20 will be ignored. Current value: min_data_in_leaf=10\n",
      "[LightGBM] [Warning] lambda_l1 is set=0, reg_alpha=1.5 will be ignored. Current value: lambda_l1=0\n",
      "[LightGBM] [Warning] lambda_l2 is set=1, reg_lambda=1.5 will be ignored. Current value: lambda_l2=1\n",
      "[LightGBM] [Info] Number of positive: 5483, number of negative: 24923\n",
      "[LightGBM] [Warning] Auto-choosing col-wise multi-threading, the overhead of testing was 0.006029 seconds.\n",
      "You can set `force_col_wise=true` to remove the overhead.\n",
      "[LightGBM] [Info] Total Bins 9363\n",
      "[LightGBM] [Info] Number of data points in the train set: 30406, number of used features: 52\n",
      "[LightGBM] [Info] [binary:BoostFromScore]: pavg=0.180326 -> initscore=-1.514139\n",
      "[LightGBM] [Info] Start training from score -1.514139\n",
      "[LightGBM] [Warning] No further splits with positive gain, best gain: -inf\n",
      "[LightGBM] [Warning] No further splits with positive gain, best gain: -inf\n",
      "[LightGBM] [Warning] No further splits with positive gain, best gain: -inf\n"
     ]
    },
    {
     "name": "stderr",
     "output_type": "stream",
     "text": [
      "/opt/anaconda3/envs/gene/lib/python3.8/site-packages/sklearn/preprocessing/_label.py:98: DataConversionWarning: A column-vector y was passed when a 1d array was expected. Please change the shape of y to (n_samples, ), for example using ravel().\n",
      "  y = column_or_1d(y, warn=True)\n",
      "/opt/anaconda3/envs/gene/lib/python3.8/site-packages/sklearn/preprocessing/_label.py:133: DataConversionWarning: A column-vector y was passed when a 1d array was expected. Please change the shape of y to (n_samples, ), for example using ravel().\n",
      "  y = column_or_1d(y, warn=True)\n"
     ]
    },
    {
     "name": "stdout",
     "output_type": "stream",
     "text": [
      "[LightGBM] [Warning] min_data_in_leaf is set=10, min_child_samples=20 will be ignored. Current value: min_data_in_leaf=10\n",
      "[LightGBM] [Warning] lambda_l1 is set=0, reg_alpha=1.5 will be ignored. Current value: lambda_l1=0\n",
      "[LightGBM] [Warning] lambda_l2 is set=1, reg_lambda=1.5 will be ignored. Current value: lambda_l2=1\n",
      "[LightGBM] [Warning] min_data_in_leaf is set=10, min_child_samples=20 will be ignored. Current value: min_data_in_leaf=10\n",
      "[LightGBM] [Warning] lambda_l1 is set=0, reg_alpha=1.5 will be ignored. Current value: lambda_l1=0\n",
      "[LightGBM] [Warning] lambda_l2 is set=1, reg_lambda=1.5 will be ignored. Current value: lambda_l2=1\n",
      "[LightGBM] [Info] Number of positive: 5483, number of negative: 24923\n",
      "[LightGBM] [Warning] Auto-choosing col-wise multi-threading, the overhead of testing was 0.003979 seconds.\n",
      "You can set `force_col_wise=true` to remove the overhead.\n",
      "[LightGBM] [Info] Total Bins 9363\n",
      "[LightGBM] [Info] Number of data points in the train set: 30406, number of used features: 52\n",
      "[LightGBM] [Info] [binary:BoostFromScore]: pavg=0.180326 -> initscore=-1.514139\n",
      "[LightGBM] [Info] Start training from score -1.514139\n",
      "[LightGBM] [Warning] No further splits with positive gain, best gain: -inf\n",
      "[LightGBM] [Warning] No further splits with positive gain, best gain: -inf\n",
      "[LightGBM] [Warning] No further splits with positive gain, best gain: -inf\n"
     ]
    },
    {
     "name": "stderr",
     "output_type": "stream",
     "text": [
      "/opt/anaconda3/envs/gene/lib/python3.8/site-packages/sklearn/preprocessing/_label.py:98: DataConversionWarning: A column-vector y was passed when a 1d array was expected. Please change the shape of y to (n_samples, ), for example using ravel().\n",
      "  y = column_or_1d(y, warn=True)\n",
      "/opt/anaconda3/envs/gene/lib/python3.8/site-packages/sklearn/preprocessing/_label.py:133: DataConversionWarning: A column-vector y was passed when a 1d array was expected. Please change the shape of y to (n_samples, ), for example using ravel().\n",
      "  y = column_or_1d(y, warn=True)\n"
     ]
    },
    {
     "name": "stdout",
     "output_type": "stream",
     "text": [
      "[LightGBM] [Warning] min_data_in_leaf is set=10, min_child_samples=20 will be ignored. Current value: min_data_in_leaf=10\n",
      "[LightGBM] [Warning] lambda_l1 is set=0, reg_alpha=1.5 will be ignored. Current value: lambda_l1=0\n",
      "[LightGBM] [Warning] lambda_l2 is set=1, reg_lambda=1.5 will be ignored. Current value: lambda_l2=1\n",
      "[LightGBM] [Warning] min_data_in_leaf is set=10, min_child_samples=20 will be ignored. Current value: min_data_in_leaf=10\n",
      "[LightGBM] [Warning] lambda_l1 is set=0, reg_alpha=1.5 will be ignored. Current value: lambda_l1=0\n",
      "[LightGBM] [Warning] lambda_l2 is set=1, reg_lambda=1.5 will be ignored. Current value: lambda_l2=1\n",
      "[LightGBM] [Info] Number of positive: 5483, number of negative: 24923\n",
      "[LightGBM] [Warning] Auto-choosing col-wise multi-threading, the overhead of testing was 0.005586 seconds.\n",
      "You can set `force_col_wise=true` to remove the overhead.\n",
      "[LightGBM] [Info] Total Bins 9363\n",
      "[LightGBM] [Info] Number of data points in the train set: 30406, number of used features: 52\n",
      "[LightGBM] [Info] [binary:BoostFromScore]: pavg=0.180326 -> initscore=-1.514139\n",
      "[LightGBM] [Info] Start training from score -1.514139\n",
      "[LightGBM] [Warning] No further splits with positive gain, best gain: -inf\n",
      "[LightGBM] [Warning] No further splits with positive gain, best gain: -inf\n",
      "[LightGBM] [Warning] No further splits with positive gain, best gain: -inf\n"
     ]
    },
    {
     "name": "stderr",
     "output_type": "stream",
     "text": [
      "/opt/anaconda3/envs/gene/lib/python3.8/site-packages/sklearn/preprocessing/_label.py:98: DataConversionWarning: A column-vector y was passed when a 1d array was expected. Please change the shape of y to (n_samples, ), for example using ravel().\n",
      "  y = column_or_1d(y, warn=True)\n",
      "/opt/anaconda3/envs/gene/lib/python3.8/site-packages/sklearn/preprocessing/_label.py:133: DataConversionWarning: A column-vector y was passed when a 1d array was expected. Please change the shape of y to (n_samples, ), for example using ravel().\n",
      "  y = column_or_1d(y, warn=True)\n"
     ]
    },
    {
     "name": "stdout",
     "output_type": "stream",
     "text": [
      "[LightGBM] [Warning] min_data_in_leaf is set=10, min_child_samples=20 will be ignored. Current value: min_data_in_leaf=10\n",
      "[LightGBM] [Warning] lambda_l1 is set=0, reg_alpha=1.5 will be ignored. Current value: lambda_l1=0\n",
      "[LightGBM] [Warning] lambda_l2 is set=1, reg_lambda=1.5 will be ignored. Current value: lambda_l2=1\n",
      "[LightGBM] [Warning] min_data_in_leaf is set=10, min_child_samples=20 will be ignored. Current value: min_data_in_leaf=10\n",
      "[LightGBM] [Warning] lambda_l1 is set=0, reg_alpha=1.5 will be ignored. Current value: lambda_l1=0\n",
      "[LightGBM] [Warning] lambda_l2 is set=1, reg_lambda=1.5 will be ignored. Current value: lambda_l2=1\n",
      "[LightGBM] [Info] Number of positive: 5483, number of negative: 24923\n",
      "[LightGBM] [Warning] Auto-choosing col-wise multi-threading, the overhead of testing was 0.005252 seconds.\n",
      "You can set `force_col_wise=true` to remove the overhead.\n",
      "[LightGBM] [Info] Total Bins 9363\n",
      "[LightGBM] [Info] Number of data points in the train set: 30406, number of used features: 52\n",
      "[LightGBM] [Info] [binary:BoostFromScore]: pavg=0.180326 -> initscore=-1.514139\n",
      "[LightGBM] [Info] Start training from score -1.514139\n",
      "[LightGBM] [Warning] No further splits with positive gain, best gain: -inf\n",
      "[LightGBM] [Warning] No further splits with positive gain, best gain: -inf\n",
      "[LightGBM] [Warning] No further splits with positive gain, best gain: -inf\n",
      "[LightGBM] [Warning] min_data_in_leaf is set=10, min_child_samples=20 will be ignored. Current value: min_data_in_leaf=10\n",
      "[LightGBM] [Warning] lambda_l1 is set=0, reg_alpha=1.5 will be ignored. Current value: lambda_l1=0\n",
      "[LightGBM] [Warning] lambda_l2 is set=1, reg_lambda=1.5 will be ignored. Current value: lambda_l2=1\n"
     ]
    },
    {
     "name": "stderr",
     "output_type": "stream",
     "text": [
      "/opt/anaconda3/envs/gene/lib/python3.8/site-packages/sklearn/preprocessing/_label.py:98: DataConversionWarning: A column-vector y was passed when a 1d array was expected. Please change the shape of y to (n_samples, ), for example using ravel().\n",
      "  y = column_or_1d(y, warn=True)\n",
      "/opt/anaconda3/envs/gene/lib/python3.8/site-packages/sklearn/preprocessing/_label.py:133: DataConversionWarning: A column-vector y was passed when a 1d array was expected. Please change the shape of y to (n_samples, ), for example using ravel().\n",
      "  y = column_or_1d(y, warn=True)\n"
     ]
    },
    {
     "name": "stdout",
     "output_type": "stream",
     "text": [
      "[LightGBM] [Warning] min_data_in_leaf is set=10, min_child_samples=20 will be ignored. Current value: min_data_in_leaf=10\n",
      "[LightGBM] [Warning] lambda_l1 is set=0, reg_alpha=1.5 will be ignored. Current value: lambda_l1=0\n",
      "[LightGBM] [Warning] lambda_l2 is set=1, reg_lambda=1.5 will be ignored. Current value: lambda_l2=1\n",
      "[LightGBM] [Info] Number of positive: 5483, number of negative: 24923\n",
      "[LightGBM] [Warning] Auto-choosing col-wise multi-threading, the overhead of testing was 0.004870 seconds.\n",
      "You can set `force_col_wise=true` to remove the overhead.\n",
      "[LightGBM] [Info] Total Bins 9363\n",
      "[LightGBM] [Info] Number of data points in the train set: 30406, number of used features: 52\n",
      "[LightGBM] [Info] [binary:BoostFromScore]: pavg=0.180326 -> initscore=-1.514139\n",
      "[LightGBM] [Info] Start training from score -1.514139\n",
      "[LightGBM] [Warning] No further splits with positive gain, best gain: -inf\n",
      "[LightGBM] [Warning] No further splits with positive gain, best gain: -inf\n",
      "[LightGBM] [Warning] No further splits with positive gain, best gain: -inf\n"
     ]
    },
    {
     "name": "stderr",
     "output_type": "stream",
     "text": [
      "/opt/anaconda3/envs/gene/lib/python3.8/site-packages/sklearn/preprocessing/_label.py:98: DataConversionWarning: A column-vector y was passed when a 1d array was expected. Please change the shape of y to (n_samples, ), for example using ravel().\n",
      "  y = column_or_1d(y, warn=True)\n",
      "/opt/anaconda3/envs/gene/lib/python3.8/site-packages/sklearn/preprocessing/_label.py:133: DataConversionWarning: A column-vector y was passed when a 1d array was expected. Please change the shape of y to (n_samples, ), for example using ravel().\n",
      "  y = column_or_1d(y, warn=True)\n"
     ]
    },
    {
     "name": "stdout",
     "output_type": "stream",
     "text": [
      "[LightGBM] [Warning] min_data_in_leaf is set=10, min_child_samples=20 will be ignored. Current value: min_data_in_leaf=10\n",
      "[LightGBM] [Warning] lambda_l1 is set=0, reg_alpha=1.5 will be ignored. Current value: lambda_l1=0\n",
      "[LightGBM] [Warning] lambda_l2 is set=1, reg_lambda=1.5 will be ignored. Current value: lambda_l2=1\n",
      "[LightGBM] [Warning] min_data_in_leaf is set=10, min_child_samples=20 will be ignored. Current value: min_data_in_leaf=10\n",
      "[LightGBM] [Warning] lambda_l1 is set=0, reg_alpha=1.5 will be ignored. Current value: lambda_l1=0\n",
      "[LightGBM] [Warning] lambda_l2 is set=1, reg_lambda=1.5 will be ignored. Current value: lambda_l2=1\n",
      "[LightGBM] [Info] Number of positive: 5483, number of negative: 24923\n",
      "[LightGBM] [Warning] Auto-choosing col-wise multi-threading, the overhead of testing was 0.006841 seconds.\n",
      "You can set `force_col_wise=true` to remove the overhead.\n",
      "[LightGBM] [Info] Total Bins 9363\n",
      "[LightGBM] [Info] Number of data points in the train set: 30406, number of used features: 52\n",
      "[LightGBM] [Info] [binary:BoostFromScore]: pavg=0.180326 -> initscore=-1.514139\n",
      "[LightGBM] [Info] Start training from score -1.514139\n",
      "[LightGBM] [Warning] No further splits with positive gain, best gain: -inf\n",
      "[LightGBM] [Warning] No further splits with positive gain, best gain: -inf\n",
      "[LightGBM] [Warning] No further splits with positive gain, best gain: -inf\n"
     ]
    },
    {
     "name": "stderr",
     "output_type": "stream",
     "text": [
      "/opt/anaconda3/envs/gene/lib/python3.8/site-packages/sklearn/preprocessing/_label.py:98: DataConversionWarning: A column-vector y was passed when a 1d array was expected. Please change the shape of y to (n_samples, ), for example using ravel().\n",
      "  y = column_or_1d(y, warn=True)\n",
      "/opt/anaconda3/envs/gene/lib/python3.8/site-packages/sklearn/preprocessing/_label.py:133: DataConversionWarning: A column-vector y was passed when a 1d array was expected. Please change the shape of y to (n_samples, ), for example using ravel().\n",
      "  y = column_or_1d(y, warn=True)\n"
     ]
    },
    {
     "name": "stdout",
     "output_type": "stream",
     "text": [
      "[LightGBM] [Warning] min_data_in_leaf is set=10, min_child_samples=20 will be ignored. Current value: min_data_in_leaf=10\n",
      "[LightGBM] [Warning] lambda_l1 is set=0, reg_alpha=1.5 will be ignored. Current value: lambda_l1=0\n",
      "[LightGBM] [Warning] lambda_l2 is set=1, reg_lambda=1.5 will be ignored. Current value: lambda_l2=1\n",
      "[LightGBM] [Warning] min_data_in_leaf is set=10, min_child_samples=20 will be ignored. Current value: min_data_in_leaf=10\n",
      "[LightGBM] [Warning] lambda_l1 is set=0, reg_alpha=1.5 will be ignored. Current value: lambda_l1=0\n",
      "[LightGBM] [Warning] lambda_l2 is set=1, reg_lambda=1.5 will be ignored. Current value: lambda_l2=1\n",
      "[LightGBM] [Info] Number of positive: 5483, number of negative: 24923\n",
      "[LightGBM] [Warning] Auto-choosing col-wise multi-threading, the overhead of testing was 0.005263 seconds.\n",
      "You can set `force_col_wise=true` to remove the overhead.\n",
      "[LightGBM] [Info] Total Bins 9363\n",
      "[LightGBM] [Info] Number of data points in the train set: 30406, number of used features: 52\n",
      "[LightGBM] [Info] [binary:BoostFromScore]: pavg=0.180326 -> initscore=-1.514139\n",
      "[LightGBM] [Info] Start training from score -1.514139\n",
      "[LightGBM] [Warning] No further splits with positive gain, best gain: -inf\n",
      "[LightGBM] [Warning] No further splits with positive gain, best gain: -inf\n",
      "[LightGBM] [Warning] No further splits with positive gain, best gain: -inf\n"
     ]
    },
    {
     "name": "stderr",
     "output_type": "stream",
     "text": [
      "/opt/anaconda3/envs/gene/lib/python3.8/site-packages/sklearn/preprocessing/_label.py:98: DataConversionWarning: A column-vector y was passed when a 1d array was expected. Please change the shape of y to (n_samples, ), for example using ravel().\n",
      "  y = column_or_1d(y, warn=True)\n",
      "/opt/anaconda3/envs/gene/lib/python3.8/site-packages/sklearn/preprocessing/_label.py:133: DataConversionWarning: A column-vector y was passed when a 1d array was expected. Please change the shape of y to (n_samples, ), for example using ravel().\n",
      "  y = column_or_1d(y, warn=True)\n"
     ]
    },
    {
     "name": "stdout",
     "output_type": "stream",
     "text": [
      "[LightGBM] [Warning] min_data_in_leaf is set=10, min_child_samples=20 will be ignored. Current value: min_data_in_leaf=10\n",
      "[LightGBM] [Warning] lambda_l1 is set=0, reg_alpha=1.5 will be ignored. Current value: lambda_l1=0\n",
      "[LightGBM] [Warning] lambda_l2 is set=1, reg_lambda=1.5 will be ignored. Current value: lambda_l2=1\n",
      "[LightGBM] [Warning] min_data_in_leaf is set=10, min_child_samples=20 will be ignored. Current value: min_data_in_leaf=10\n",
      "[LightGBM] [Warning] lambda_l1 is set=0, reg_alpha=1.5 will be ignored. Current value: lambda_l1=0\n",
      "[LightGBM] [Warning] lambda_l2 is set=1, reg_lambda=1.5 will be ignored. Current value: lambda_l2=1\n",
      "[LightGBM] [Info] Number of positive: 5483, number of negative: 24923\n",
      "[LightGBM] [Warning] Auto-choosing col-wise multi-threading, the overhead of testing was 0.005048 seconds.\n",
      "You can set `force_col_wise=true` to remove the overhead.\n",
      "[LightGBM] [Info] Total Bins 9363\n",
      "[LightGBM] [Info] Number of data points in the train set: 30406, number of used features: 52\n",
      "[LightGBM] [Info] [binary:BoostFromScore]: pavg=0.180326 -> initscore=-1.514139\n",
      "[LightGBM] [Info] Start training from score -1.514139\n",
      "[LightGBM] [Warning] No further splits with positive gain, best gain: -inf\n",
      "[LightGBM] [Warning] No further splits with positive gain, best gain: -inf\n",
      "[LightGBM] [Warning] No further splits with positive gain, best gain: -inf\n"
     ]
    },
    {
     "name": "stderr",
     "output_type": "stream",
     "text": [
      "/opt/anaconda3/envs/gene/lib/python3.8/site-packages/sklearn/preprocessing/_label.py:98: DataConversionWarning: A column-vector y was passed when a 1d array was expected. Please change the shape of y to (n_samples, ), for example using ravel().\n",
      "  y = column_or_1d(y, warn=True)\n",
      "/opt/anaconda3/envs/gene/lib/python3.8/site-packages/sklearn/preprocessing/_label.py:133: DataConversionWarning: A column-vector y was passed when a 1d array was expected. Please change the shape of y to (n_samples, ), for example using ravel().\n",
      "  y = column_or_1d(y, warn=True)\n"
     ]
    },
    {
     "name": "stdout",
     "output_type": "stream",
     "text": [
      "[LightGBM] [Warning] min_data_in_leaf is set=10, min_child_samples=20 will be ignored. Current value: min_data_in_leaf=10\n",
      "[LightGBM] [Warning] lambda_l1 is set=0, reg_alpha=1.5 will be ignored. Current value: lambda_l1=0\n",
      "[LightGBM] [Warning] lambda_l2 is set=1, reg_lambda=1.5 will be ignored. Current value: lambda_l2=1\n",
      "[LightGBM] [Warning] min_data_in_leaf is set=10, min_child_samples=20 will be ignored. Current value: min_data_in_leaf=10\n",
      "[LightGBM] [Warning] lambda_l1 is set=0, reg_alpha=1.5 will be ignored. Current value: lambda_l1=0\n",
      "[LightGBM] [Warning] lambda_l2 is set=1, reg_lambda=1.5 will be ignored. Current value: lambda_l2=1\n",
      "[LightGBM] [Info] Number of positive: 5483, number of negative: 24923\n",
      "[LightGBM] [Warning] Auto-choosing col-wise multi-threading, the overhead of testing was 0.005305 seconds.\n",
      "You can set `force_col_wise=true` to remove the overhead.\n",
      "[LightGBM] [Info] Total Bins 9361\n",
      "[LightGBM] [Info] Number of data points in the train set: 30406, number of used features: 51\n",
      "[LightGBM] [Info] [binary:BoostFromScore]: pavg=0.180326 -> initscore=-1.514139\n",
      "[LightGBM] [Info] Start training from score -1.514139\n",
      "[LightGBM] [Warning] No further splits with positive gain, best gain: -inf\n",
      "[LightGBM] [Warning] No further splits with positive gain, best gain: -inf\n",
      "[LightGBM] [Warning] min_data_in_leaf is set=10, min_child_samples=20 will be ignored. Current value: min_data_in_leaf=10\n",
      "[LightGBM] [Warning] lambda_l1 is set=0, reg_alpha=1.5 will be ignored. Current value: lambda_l1=0\n",
      "[LightGBM] [Warning] lambda_l2 is set=1, reg_lambda=1.5 will be ignored. Current value: lambda_l2=1\n",
      "[LightGBM] [Warning] min_data_in_leaf is set=10, min_child_samples=20 will be ignored. Current value: min_data_in_leaf=10\n",
      "[LightGBM] [Warning] lambda_l1 is set=0, reg_alpha=1.5 will be ignored. Current value: lambda_l1=0\n",
      "[LightGBM] [Warning] lambda_l2 is set=1, reg_lambda=1.5 will be ignored. Current value: lambda_l2=1\n",
      "[LightGBM] [Info] Number of positive: 5483, number of negative: 24923\n",
      "[LightGBM] [Warning] Auto-choosing col-wise multi-threading, the overhead of testing was 0.004686 seconds.\n",
      "You can set `force_col_wise=true` to remove the overhead.\n",
      "[LightGBM] [Info] Total Bins 9359\n",
      "[LightGBM] [Info] Number of data points in the train set: 30406, number of used features: 50\n",
      "[LightGBM] [Info] [binary:BoostFromScore]: pavg=0.180326 -> initscore=-1.514139\n",
      "[LightGBM] [Info] Start training from score -1.514139\n"
     ]
    },
    {
     "name": "stderr",
     "output_type": "stream",
     "text": [
      "/opt/anaconda3/envs/gene/lib/python3.8/site-packages/sklearn/preprocessing/_label.py:98: DataConversionWarning: A column-vector y was passed when a 1d array was expected. Please change the shape of y to (n_samples, ), for example using ravel().\n",
      "  y = column_or_1d(y, warn=True)\n",
      "/opt/anaconda3/envs/gene/lib/python3.8/site-packages/sklearn/preprocessing/_label.py:133: DataConversionWarning: A column-vector y was passed when a 1d array was expected. Please change the shape of y to (n_samples, ), for example using ravel().\n",
      "  y = column_or_1d(y, warn=True)\n"
     ]
    },
    {
     "name": "stdout",
     "output_type": "stream",
     "text": [
      "[LightGBM] [Warning] No further splits with positive gain, best gain: -inf\n",
      "[LightGBM] [Warning] No further splits with positive gain, best gain: -inf\n",
      "[LightGBM] [Warning] No further splits with positive gain, best gain: -inf\n",
      "[LightGBM] [Warning] No further splits with positive gain, best gain: -inf\n"
     ]
    },
    {
     "name": "stderr",
     "output_type": "stream",
     "text": [
      "/opt/anaconda3/envs/gene/lib/python3.8/site-packages/sklearn/preprocessing/_label.py:98: DataConversionWarning: A column-vector y was passed when a 1d array was expected. Please change the shape of y to (n_samples, ), for example using ravel().\n",
      "  y = column_or_1d(y, warn=True)\n",
      "/opt/anaconda3/envs/gene/lib/python3.8/site-packages/sklearn/preprocessing/_label.py:133: DataConversionWarning: A column-vector y was passed when a 1d array was expected. Please change the shape of y to (n_samples, ), for example using ravel().\n",
      "  y = column_or_1d(y, warn=True)\n"
     ]
    },
    {
     "name": "stdout",
     "output_type": "stream",
     "text": [
      "[LightGBM] [Warning] min_data_in_leaf is set=10, min_child_samples=20 will be ignored. Current value: min_data_in_leaf=10\n",
      "[LightGBM] [Warning] lambda_l1 is set=0, reg_alpha=1.5 will be ignored. Current value: lambda_l1=0\n",
      "[LightGBM] [Warning] lambda_l2 is set=1, reg_lambda=1.5 will be ignored. Current value: lambda_l2=1\n",
      "[LightGBM] [Warning] min_data_in_leaf is set=10, min_child_samples=20 will be ignored. Current value: min_data_in_leaf=10\n",
      "[LightGBM] [Warning] lambda_l1 is set=0, reg_alpha=1.5 will be ignored. Current value: lambda_l1=0\n",
      "[LightGBM] [Warning] lambda_l2 is set=1, reg_lambda=1.5 will be ignored. Current value: lambda_l2=1\n",
      "[LightGBM] [Info] Number of positive: 5483, number of negative: 24923\n",
      "[LightGBM] [Warning] Auto-choosing col-wise multi-threading, the overhead of testing was 0.005162 seconds.\n",
      "You can set `force_col_wise=true` to remove the overhead.\n",
      "[LightGBM] [Info] Total Bins 9357\n",
      "[LightGBM] [Info] Number of data points in the train set: 30406, number of used features: 49\n",
      "[LightGBM] [Info] [binary:BoostFromScore]: pavg=0.180326 -> initscore=-1.514139\n",
      "[LightGBM] [Info] Start training from score -1.514139\n",
      "[LightGBM] [Warning] No further splits with positive gain, best gain: -inf\n",
      "[LightGBM] [Warning] No further splits with positive gain, best gain: -inf\n",
      "[LightGBM] [Warning] No further splits with positive gain, best gain: -inf\n",
      "[LightGBM] [Warning] min_data_in_leaf is set=10, min_child_samples=20 will be ignored. Current value: min_data_in_leaf=10\n",
      "[LightGBM] [Warning] lambda_l1 is set=0, reg_alpha=1.5 will be ignored. Current value: lambda_l1=0\n",
      "[LightGBM] [Warning] lambda_l2 is set=1, reg_lambda=1.5 will be ignored. Current value: lambda_l2=1\n"
     ]
    },
    {
     "name": "stderr",
     "output_type": "stream",
     "text": [
      "/opt/anaconda3/envs/gene/lib/python3.8/site-packages/sklearn/preprocessing/_label.py:98: DataConversionWarning: A column-vector y was passed when a 1d array was expected. Please change the shape of y to (n_samples, ), for example using ravel().\n",
      "  y = column_or_1d(y, warn=True)\n",
      "/opt/anaconda3/envs/gene/lib/python3.8/site-packages/sklearn/preprocessing/_label.py:133: DataConversionWarning: A column-vector y was passed when a 1d array was expected. Please change the shape of y to (n_samples, ), for example using ravel().\n",
      "  y = column_or_1d(y, warn=True)\n"
     ]
    },
    {
     "name": "stdout",
     "output_type": "stream",
     "text": [
      "[LightGBM] [Warning] min_data_in_leaf is set=10, min_child_samples=20 will be ignored. Current value: min_data_in_leaf=10\n",
      "[LightGBM] [Warning] lambda_l1 is set=0, reg_alpha=1.5 will be ignored. Current value: lambda_l1=0\n",
      "[LightGBM] [Warning] lambda_l2 is set=1, reg_lambda=1.5 will be ignored. Current value: lambda_l2=1\n",
      "[LightGBM] [Info] Number of positive: 5483, number of negative: 24923\n",
      "[LightGBM] [Warning] Auto-choosing col-wise multi-threading, the overhead of testing was 0.007398 seconds.\n",
      "You can set `force_col_wise=true` to remove the overhead.\n",
      "[LightGBM] [Info] Total Bins 9355\n",
      "[LightGBM] [Info] Number of data points in the train set: 30406, number of used features: 48\n",
      "[LightGBM] [Info] [binary:BoostFromScore]: pavg=0.180326 -> initscore=-1.514139\n",
      "[LightGBM] [Info] Start training from score -1.514139\n",
      "[LightGBM] [Warning] No further splits with positive gain, best gain: -inf\n",
      "[LightGBM] [Warning] No further splits with positive gain, best gain: -inf\n"
     ]
    },
    {
     "name": "stderr",
     "output_type": "stream",
     "text": [
      "/opt/anaconda3/envs/gene/lib/python3.8/site-packages/sklearn/preprocessing/_label.py:98: DataConversionWarning: A column-vector y was passed when a 1d array was expected. Please change the shape of y to (n_samples, ), for example using ravel().\n",
      "  y = column_or_1d(y, warn=True)\n",
      "/opt/anaconda3/envs/gene/lib/python3.8/site-packages/sklearn/preprocessing/_label.py:133: DataConversionWarning: A column-vector y was passed when a 1d array was expected. Please change the shape of y to (n_samples, ), for example using ravel().\n",
      "  y = column_or_1d(y, warn=True)\n"
     ]
    },
    {
     "name": "stdout",
     "output_type": "stream",
     "text": [
      "[LightGBM] [Warning] min_data_in_leaf is set=10, min_child_samples=20 will be ignored. Current value: min_data_in_leaf=10\n",
      "[LightGBM] [Warning] lambda_l1 is set=0, reg_alpha=1.5 will be ignored. Current value: lambda_l1=0\n",
      "[LightGBM] [Warning] lambda_l2 is set=1, reg_lambda=1.5 will be ignored. Current value: lambda_l2=1\n",
      "[LightGBM] [Warning] min_data_in_leaf is set=10, min_child_samples=20 will be ignored. Current value: min_data_in_leaf=10\n",
      "[LightGBM] [Warning] lambda_l1 is set=0, reg_alpha=1.5 will be ignored. Current value: lambda_l1=0\n",
      "[LightGBM] [Warning] lambda_l2 is set=1, reg_lambda=1.5 will be ignored. Current value: lambda_l2=1\n",
      "[LightGBM] [Info] Number of positive: 5483, number of negative: 24923\n",
      "[LightGBM] [Warning] Auto-choosing col-wise multi-threading, the overhead of testing was 0.004646 seconds.\n",
      "You can set `force_col_wise=true` to remove the overhead.\n",
      "[LightGBM] [Info] Total Bins 9353\n",
      "[LightGBM] [Info] Number of data points in the train set: 30406, number of used features: 47\n",
      "[LightGBM] [Info] [binary:BoostFromScore]: pavg=0.180326 -> initscore=-1.514139\n",
      "[LightGBM] [Info] Start training from score -1.514139\n",
      "[LightGBM] [Warning] No further splits with positive gain, best gain: -inf\n",
      "[LightGBM] [Warning] min_data_in_leaf is set=10, min_child_samples=20 will be ignored. Current value: min_data_in_leaf=10\n",
      "[LightGBM] [Warning] lambda_l1 is set=0, reg_alpha=1.5 will be ignored. Current value: lambda_l1=0\n",
      "[LightGBM] [Warning] lambda_l2 is set=1, reg_lambda=1.5 will be ignored. Current value: lambda_l2=1\n",
      "[LightGBM] [Warning] min_data_in_leaf is set=10, min_child_samples=20 will be ignored. Current value: min_data_in_leaf=10\n",
      "[LightGBM] [Warning] lambda_l1 is set=0, reg_alpha=1.5 will be ignored. Current value: lambda_l1=0\n",
      "[LightGBM] [Warning] lambda_l2 is set=1, reg_lambda=1.5 will be ignored. Current value: lambda_l2=1\n",
      "[LightGBM] [Info] Number of positive: 5483, number of negative: 24923\n",
      "[LightGBM] [Warning] Auto-choosing col-wise multi-threading, the overhead of testing was 0.007468 seconds.\n",
      "You can set `force_col_wise=true` to remove the overhead.\n",
      "[LightGBM] [Info] Total Bins 9351\n",
      "[LightGBM] [Info] Number of data points in the train set: 30406, number of used features: 46\n",
      "[LightGBM] [Info] [binary:BoostFromScore]: pavg=0.180326 -> initscore=-1.514139\n",
      "[LightGBM] [Info] Start training from score -1.514139\n"
     ]
    },
    {
     "name": "stderr",
     "output_type": "stream",
     "text": [
      "/opt/anaconda3/envs/gene/lib/python3.8/site-packages/sklearn/preprocessing/_label.py:98: DataConversionWarning: A column-vector y was passed when a 1d array was expected. Please change the shape of y to (n_samples, ), for example using ravel().\n",
      "  y = column_or_1d(y, warn=True)\n",
      "/opt/anaconda3/envs/gene/lib/python3.8/site-packages/sklearn/preprocessing/_label.py:133: DataConversionWarning: A column-vector y was passed when a 1d array was expected. Please change the shape of y to (n_samples, ), for example using ravel().\n",
      "  y = column_or_1d(y, warn=True)\n"
     ]
    },
    {
     "name": "stdout",
     "output_type": "stream",
     "text": [
      "[LightGBM] [Warning] No further splits with positive gain, best gain: -inf\n",
      "[LightGBM] [Warning] No further splits with positive gain, best gain: -inf\n",
      "[LightGBM] [Warning] No further splits with positive gain, best gain: -inf\n",
      "[LightGBM] [Warning] No further splits with positive gain, best gain: -inf\n",
      "[LightGBM] [Warning] min_data_in_leaf is set=10, min_child_samples=20 will be ignored. Current value: min_data_in_leaf=10\n",
      "[LightGBM] [Warning] lambda_l1 is set=0, reg_alpha=1.5 will be ignored. Current value: lambda_l1=0\n",
      "[LightGBM] [Warning] lambda_l2 is set=1, reg_lambda=1.5 will be ignored. Current value: lambda_l2=1\n",
      "[LightGBM] [Warning] min_data_in_leaf is set=10, min_child_samples=20 will be ignored. Current value: min_data_in_leaf=10\n",
      "[LightGBM] [Warning] lambda_l1 is set=0, reg_alpha=1.5 will be ignored. Current value: lambda_l1=0\n",
      "[LightGBM] [Warning] lambda_l2 is set=1, reg_lambda=1.5 will be ignored. Current value: lambda_l2=1\n",
      "[LightGBM] [Info] Number of positive: 5483, number of negative: 24923\n",
      "[LightGBM] [Warning] Auto-choosing col-wise multi-threading, the overhead of testing was 0.004887 seconds.\n",
      "You can set `force_col_wise=true` to remove the overhead.\n",
      "[LightGBM] [Info] Total Bins 9349\n",
      "[LightGBM] [Info] Number of data points in the train set: 30406, number of used features: 45\n",
      "[LightGBM] [Info] [binary:BoostFromScore]: pavg=0.180326 -> initscore=-1.514139\n",
      "[LightGBM] [Info] Start training from score -1.514139\n"
     ]
    },
    {
     "name": "stderr",
     "output_type": "stream",
     "text": [
      "/opt/anaconda3/envs/gene/lib/python3.8/site-packages/sklearn/preprocessing/_label.py:98: DataConversionWarning: A column-vector y was passed when a 1d array was expected. Please change the shape of y to (n_samples, ), for example using ravel().\n",
      "  y = column_or_1d(y, warn=True)\n",
      "/opt/anaconda3/envs/gene/lib/python3.8/site-packages/sklearn/preprocessing/_label.py:133: DataConversionWarning: A column-vector y was passed when a 1d array was expected. Please change the shape of y to (n_samples, ), for example using ravel().\n",
      "  y = column_or_1d(y, warn=True)\n"
     ]
    },
    {
     "name": "stdout",
     "output_type": "stream",
     "text": [
      "[LightGBM] [Warning] No further splits with positive gain, best gain: -inf\n",
      "[LightGBM] [Warning] min_data_in_leaf is set=10, min_child_samples=20 will be ignored. Current value: min_data_in_leaf=10\n",
      "[LightGBM] [Warning] lambda_l1 is set=0, reg_alpha=1.5 will be ignored. Current value: lambda_l1=0\n",
      "[LightGBM] [Warning] lambda_l2 is set=1, reg_lambda=1.5 will be ignored. Current value: lambda_l2=1\n"
     ]
    },
    {
     "name": "stderr",
     "output_type": "stream",
     "text": [
      "/opt/anaconda3/envs/gene/lib/python3.8/site-packages/sklearn/preprocessing/_label.py:98: DataConversionWarning: A column-vector y was passed when a 1d array was expected. Please change the shape of y to (n_samples, ), for example using ravel().\n",
      "  y = column_or_1d(y, warn=True)\n",
      "/opt/anaconda3/envs/gene/lib/python3.8/site-packages/sklearn/preprocessing/_label.py:133: DataConversionWarning: A column-vector y was passed when a 1d array was expected. Please change the shape of y to (n_samples, ), for example using ravel().\n",
      "  y = column_or_1d(y, warn=True)\n"
     ]
    },
    {
     "name": "stdout",
     "output_type": "stream",
     "text": [
      "[LightGBM] [Warning] min_data_in_leaf is set=10, min_child_samples=20 will be ignored. Current value: min_data_in_leaf=10\n",
      "[LightGBM] [Warning] lambda_l1 is set=0, reg_alpha=1.5 will be ignored. Current value: lambda_l1=0\n",
      "[LightGBM] [Warning] lambda_l2 is set=1, reg_lambda=1.5 will be ignored. Current value: lambda_l2=1\n",
      "[LightGBM] [Info] Number of positive: 5483, number of negative: 24923\n",
      "[LightGBM] [Warning] Auto-choosing col-wise multi-threading, the overhead of testing was 0.005731 seconds.\n",
      "You can set `force_col_wise=true` to remove the overhead.\n",
      "[LightGBM] [Info] Total Bins 9347\n",
      "[LightGBM] [Info] Number of data points in the train set: 30406, number of used features: 44\n",
      "[LightGBM] [Info] [binary:BoostFromScore]: pavg=0.180326 -> initscore=-1.514139\n",
      "[LightGBM] [Info] Start training from score -1.514139\n",
      "[LightGBM] [Warning] No further splits with positive gain, best gain: -inf\n",
      "[LightGBM] [Warning] min_data_in_leaf is set=10, min_child_samples=20 will be ignored. Current value: min_data_in_leaf=10\n",
      "[LightGBM] [Warning] lambda_l1 is set=0, reg_alpha=1.5 will be ignored. Current value: lambda_l1=0\n",
      "[LightGBM] [Warning] lambda_l2 is set=1, reg_lambda=1.5 will be ignored. Current value: lambda_l2=1\n",
      "[LightGBM] [Warning] min_data_in_leaf is set=10, min_child_samples=20 will be ignored. Current value: min_data_in_leaf=10\n",
      "[LightGBM] [Warning] lambda_l1 is set=0, reg_alpha=1.5 will be ignored. Current value: lambda_l1=0\n",
      "[LightGBM] [Warning] lambda_l2 is set=1, reg_lambda=1.5 will be ignored. Current value: lambda_l2=1\n",
      "[LightGBM] [Info] Number of positive: 5483, number of negative: 24923\n",
      "[LightGBM] [Warning] Auto-choosing col-wise multi-threading, the overhead of testing was 0.009154 seconds.\n",
      "You can set `force_col_wise=true` to remove the overhead.\n",
      "[LightGBM] [Info] Total Bins 9345\n",
      "[LightGBM] [Info] Number of data points in the train set: 30406, number of used features: 43\n",
      "[LightGBM] [Info] [binary:BoostFromScore]: pavg=0.180326 -> initscore=-1.514139\n",
      "[LightGBM] [Info] Start training from score -1.514139\n"
     ]
    },
    {
     "name": "stderr",
     "output_type": "stream",
     "text": [
      "/opt/anaconda3/envs/gene/lib/python3.8/site-packages/sklearn/preprocessing/_label.py:98: DataConversionWarning: A column-vector y was passed when a 1d array was expected. Please change the shape of y to (n_samples, ), for example using ravel().\n",
      "  y = column_or_1d(y, warn=True)\n",
      "/opt/anaconda3/envs/gene/lib/python3.8/site-packages/sklearn/preprocessing/_label.py:133: DataConversionWarning: A column-vector y was passed when a 1d array was expected. Please change the shape of y to (n_samples, ), for example using ravel().\n",
      "  y = column_or_1d(y, warn=True)\n"
     ]
    },
    {
     "name": "stdout",
     "output_type": "stream",
     "text": [
      "[LightGBM] [Warning] No further splits with positive gain, best gain: -inf\n",
      "[LightGBM] [Warning] No further splits with positive gain, best gain: -inf\n",
      "[LightGBM] [Warning] min_data_in_leaf is set=10, min_child_samples=20 will be ignored. Current value: min_data_in_leaf=10\n",
      "[LightGBM] [Warning] lambda_l1 is set=0, reg_alpha=1.5 will be ignored. Current value: lambda_l1=0\n",
      "[LightGBM] [Warning] lambda_l2 is set=1, reg_lambda=1.5 will be ignored. Current value: lambda_l2=1\n"
     ]
    },
    {
     "name": "stderr",
     "output_type": "stream",
     "text": [
      "/opt/anaconda3/envs/gene/lib/python3.8/site-packages/sklearn/preprocessing/_label.py:98: DataConversionWarning: A column-vector y was passed when a 1d array was expected. Please change the shape of y to (n_samples, ), for example using ravel().\n",
      "  y = column_or_1d(y, warn=True)\n",
      "/opt/anaconda3/envs/gene/lib/python3.8/site-packages/sklearn/preprocessing/_label.py:133: DataConversionWarning: A column-vector y was passed when a 1d array was expected. Please change the shape of y to (n_samples, ), for example using ravel().\n",
      "  y = column_or_1d(y, warn=True)\n"
     ]
    },
    {
     "name": "stdout",
     "output_type": "stream",
     "text": [
      "[LightGBM] [Warning] min_data_in_leaf is set=10, min_child_samples=20 will be ignored. Current value: min_data_in_leaf=10\n",
      "[LightGBM] [Warning] lambda_l1 is set=0, reg_alpha=1.5 will be ignored. Current value: lambda_l1=0\n",
      "[LightGBM] [Warning] lambda_l2 is set=1, reg_lambda=1.5 will be ignored. Current value: lambda_l2=1\n",
      "[LightGBM] [Info] Number of positive: 5483, number of negative: 24923\n",
      "[LightGBM] [Warning] Auto-choosing col-wise multi-threading, the overhead of testing was 0.008921 seconds.\n",
      "You can set `force_col_wise=true` to remove the overhead.\n",
      "[LightGBM] [Info] Total Bins 9343\n",
      "[LightGBM] [Info] Number of data points in the train set: 30406, number of used features: 42\n",
      "[LightGBM] [Info] [binary:BoostFromScore]: pavg=0.180326 -> initscore=-1.514139\n",
      "[LightGBM] [Info] Start training from score -1.514139\n",
      "[LightGBM] [Warning] No further splits with positive gain, best gain: -inf\n",
      "[LightGBM] [Warning] No further splits with positive gain, best gain: -inf\n",
      "[LightGBM] [Warning] No further splits with positive gain, best gain: -inf\n",
      "[LightGBM] [Warning] No further splits with positive gain, best gain: -inf\n",
      "[LightGBM] [Warning] No further splits with positive gain, best gain: -inf\n"
     ]
    },
    {
     "name": "stderr",
     "output_type": "stream",
     "text": [
      "/opt/anaconda3/envs/gene/lib/python3.8/site-packages/sklearn/preprocessing/_label.py:98: DataConversionWarning: A column-vector y was passed when a 1d array was expected. Please change the shape of y to (n_samples, ), for example using ravel().\n",
      "  y = column_or_1d(y, warn=True)\n",
      "/opt/anaconda3/envs/gene/lib/python3.8/site-packages/sklearn/preprocessing/_label.py:133: DataConversionWarning: A column-vector y was passed when a 1d array was expected. Please change the shape of y to (n_samples, ), for example using ravel().\n",
      "  y = column_or_1d(y, warn=True)\n"
     ]
    },
    {
     "name": "stdout",
     "output_type": "stream",
     "text": [
      "[LightGBM] [Warning] min_data_in_leaf is set=10, min_child_samples=20 will be ignored. Current value: min_data_in_leaf=10\n",
      "[LightGBM] [Warning] lambda_l1 is set=0, reg_alpha=1.5 will be ignored. Current value: lambda_l1=0\n",
      "[LightGBM] [Warning] lambda_l2 is set=1, reg_lambda=1.5 will be ignored. Current value: lambda_l2=1\n",
      "[LightGBM] [Warning] min_data_in_leaf is set=10, min_child_samples=20 will be ignored. Current value: min_data_in_leaf=10\n",
      "[LightGBM] [Warning] lambda_l1 is set=0, reg_alpha=1.5 will be ignored. Current value: lambda_l1=0\n",
      "[LightGBM] [Warning] lambda_l2 is set=1, reg_lambda=1.5 will be ignored. Current value: lambda_l2=1\n",
      "[LightGBM] [Info] Number of positive: 5483, number of negative: 24923\n",
      "[LightGBM] [Warning] Auto-choosing col-wise multi-threading, the overhead of testing was 0.009104 seconds.\n",
      "You can set `force_col_wise=true` to remove the overhead.\n",
      "[LightGBM] [Info] Total Bins 9341\n",
      "[LightGBM] [Info] Number of data points in the train set: 30406, number of used features: 41\n",
      "[LightGBM] [Info] [binary:BoostFromScore]: pavg=0.180326 -> initscore=-1.514139\n",
      "[LightGBM] [Info] Start training from score -1.514139\n",
      "[LightGBM] [Warning] No further splits with positive gain, best gain: -inf\n",
      "[LightGBM] [Warning] No further splits with positive gain, best gain: -inf\n",
      "[LightGBM] [Warning] min_data_in_leaf is set=10, min_child_samples=20 will be ignored. Current value: min_data_in_leaf=10\n",
      "[LightGBM] [Warning] lambda_l1 is set=0, reg_alpha=1.5 will be ignored. Current value: lambda_l1=0\n",
      "[LightGBM] [Warning] lambda_l2 is set=1, reg_lambda=1.5 will be ignored. Current value: lambda_l2=1\n"
     ]
    },
    {
     "name": "stderr",
     "output_type": "stream",
     "text": [
      "/opt/anaconda3/envs/gene/lib/python3.8/site-packages/sklearn/preprocessing/_label.py:98: DataConversionWarning: A column-vector y was passed when a 1d array was expected. Please change the shape of y to (n_samples, ), for example using ravel().\n",
      "  y = column_or_1d(y, warn=True)\n",
      "/opt/anaconda3/envs/gene/lib/python3.8/site-packages/sklearn/preprocessing/_label.py:133: DataConversionWarning: A column-vector y was passed when a 1d array was expected. Please change the shape of y to (n_samples, ), for example using ravel().\n",
      "  y = column_or_1d(y, warn=True)\n"
     ]
    },
    {
     "name": "stdout",
     "output_type": "stream",
     "text": [
      "[LightGBM] [Warning] min_data_in_leaf is set=10, min_child_samples=20 will be ignored. Current value: min_data_in_leaf=10\n",
      "[LightGBM] [Warning] lambda_l1 is set=0, reg_alpha=1.5 will be ignored. Current value: lambda_l1=0\n",
      "[LightGBM] [Warning] lambda_l2 is set=1, reg_lambda=1.5 will be ignored. Current value: lambda_l2=1\n",
      "[LightGBM] [Info] Number of positive: 5483, number of negative: 24923\n",
      "[LightGBM] [Warning] Auto-choosing col-wise multi-threading, the overhead of testing was 0.005300 seconds.\n",
      "You can set `force_col_wise=true` to remove the overhead.\n",
      "[LightGBM] [Info] Total Bins 9339\n",
      "[LightGBM] [Info] Number of data points in the train set: 30406, number of used features: 40\n",
      "[LightGBM] [Info] [binary:BoostFromScore]: pavg=0.180326 -> initscore=-1.514139\n",
      "[LightGBM] [Info] Start training from score -1.514139\n",
      "[LightGBM] [Warning] No further splits with positive gain, best gain: -inf\n",
      "[LightGBM] [Warning] No further splits with positive gain, best gain: -inf\n",
      "[LightGBM] [Warning] No further splits with positive gain, best gain: -inf\n"
     ]
    },
    {
     "name": "stderr",
     "output_type": "stream",
     "text": [
      "/opt/anaconda3/envs/gene/lib/python3.8/site-packages/sklearn/preprocessing/_label.py:98: DataConversionWarning: A column-vector y was passed when a 1d array was expected. Please change the shape of y to (n_samples, ), for example using ravel().\n",
      "  y = column_or_1d(y, warn=True)\n",
      "/opt/anaconda3/envs/gene/lib/python3.8/site-packages/sklearn/preprocessing/_label.py:133: DataConversionWarning: A column-vector y was passed when a 1d array was expected. Please change the shape of y to (n_samples, ), for example using ravel().\n",
      "  y = column_or_1d(y, warn=True)\n"
     ]
    },
    {
     "name": "stdout",
     "output_type": "stream",
     "text": [
      "[LightGBM] [Warning] min_data_in_leaf is set=10, min_child_samples=20 will be ignored. Current value: min_data_in_leaf=10\n",
      "[LightGBM] [Warning] lambda_l1 is set=0, reg_alpha=1.5 will be ignored. Current value: lambda_l1=0\n",
      "[LightGBM] [Warning] lambda_l2 is set=1, reg_lambda=1.5 will be ignored. Current value: lambda_l2=1\n",
      "[LightGBM] [Warning] min_data_in_leaf is set=10, min_child_samples=20 will be ignored. Current value: min_data_in_leaf=10\n",
      "[LightGBM] [Warning] lambda_l1 is set=0, reg_alpha=1.5 will be ignored. Current value: lambda_l1=0\n",
      "[LightGBM] [Warning] lambda_l2 is set=1, reg_lambda=1.5 will be ignored. Current value: lambda_l2=1\n",
      "[LightGBM] [Info] Number of positive: 5483, number of negative: 24923\n",
      "[LightGBM] [Warning] Auto-choosing col-wise multi-threading, the overhead of testing was 0.004639 seconds.\n",
      "You can set `force_col_wise=true` to remove the overhead.\n",
      "[LightGBM] [Info] Total Bins 9337\n",
      "[LightGBM] [Info] Number of data points in the train set: 30406, number of used features: 39\n",
      "[LightGBM] [Info] [binary:BoostFromScore]: pavg=0.180326 -> initscore=-1.514139\n",
      "[LightGBM] [Info] Start training from score -1.514139\n",
      "[LightGBM] [Warning] No further splits with positive gain, best gain: -inf\n",
      "[LightGBM] [Warning] No further splits with positive gain, best gain: -inf\n",
      "[LightGBM] [Warning] No further splits with positive gain, best gain: -inf\n",
      "[LightGBM] [Warning] No further splits with positive gain, best gain: -inf\n",
      "[LightGBM] [Warning] min_data_in_leaf is set=10, min_child_samples=20 will be ignored. Current value: min_data_in_leaf=10\n",
      "[LightGBM] [Warning] lambda_l1 is set=0, reg_alpha=1.5 will be ignored. Current value: lambda_l1=0\n",
      "[LightGBM] [Warning] lambda_l2 is set=1, reg_lambda=1.5 will be ignored. Current value: lambda_l2=1\n",
      "[LightGBM] [Warning] min_data_in_leaf is set=10, min_child_samples=20 will be ignored. Current value: min_data_in_leaf=10\n",
      "[LightGBM] [Warning] lambda_l1 is set=0, reg_alpha=1.5 will be ignored. Current value: lambda_l1=0\n",
      "[LightGBM] [Warning] lambda_l2 is set=1, reg_lambda=1.5 will be ignored. Current value: lambda_l2=1\n",
      "[LightGBM] [Info] Number of positive: 5483, number of negative: 24923\n",
      "[LightGBM] [Warning] Auto-choosing col-wise multi-threading, the overhead of testing was 0.006351 seconds.\n",
      "You can set `force_col_wise=true` to remove the overhead.\n",
      "[LightGBM] [Info] Total Bins 9335\n",
      "[LightGBM] [Info] Number of data points in the train set: 30406, number of used features: 38\n",
      "[LightGBM] [Info] [binary:BoostFromScore]: pavg=0.180326 -> initscore=-1.514139\n",
      "[LightGBM] [Info] Start training from score -1.514139\n"
     ]
    },
    {
     "name": "stderr",
     "output_type": "stream",
     "text": [
      "/opt/anaconda3/envs/gene/lib/python3.8/site-packages/sklearn/preprocessing/_label.py:98: DataConversionWarning: A column-vector y was passed when a 1d array was expected. Please change the shape of y to (n_samples, ), for example using ravel().\n",
      "  y = column_or_1d(y, warn=True)\n",
      "/opt/anaconda3/envs/gene/lib/python3.8/site-packages/sklearn/preprocessing/_label.py:133: DataConversionWarning: A column-vector y was passed when a 1d array was expected. Please change the shape of y to (n_samples, ), for example using ravel().\n",
      "  y = column_or_1d(y, warn=True)\n"
     ]
    },
    {
     "name": "stdout",
     "output_type": "stream",
     "text": [
      "[LightGBM] [Warning] No further splits with positive gain, best gain: -inf\n",
      "[LightGBM] [Warning] No further splits with positive gain, best gain: -inf\n",
      "[LightGBM] [Warning] No further splits with positive gain, best gain: -inf\n"
     ]
    },
    {
     "name": "stderr",
     "output_type": "stream",
     "text": [
      "/opt/anaconda3/envs/gene/lib/python3.8/site-packages/sklearn/preprocessing/_label.py:98: DataConversionWarning: A column-vector y was passed when a 1d array was expected. Please change the shape of y to (n_samples, ), for example using ravel().\n",
      "  y = column_or_1d(y, warn=True)\n",
      "/opt/anaconda3/envs/gene/lib/python3.8/site-packages/sklearn/preprocessing/_label.py:133: DataConversionWarning: A column-vector y was passed when a 1d array was expected. Please change the shape of y to (n_samples, ), for example using ravel().\n",
      "  y = column_or_1d(y, warn=True)\n"
     ]
    },
    {
     "name": "stdout",
     "output_type": "stream",
     "text": [
      "[LightGBM] [Warning] min_data_in_leaf is set=10, min_child_samples=20 will be ignored. Current value: min_data_in_leaf=10\n",
      "[LightGBM] [Warning] lambda_l1 is set=0, reg_alpha=1.5 will be ignored. Current value: lambda_l1=0\n",
      "[LightGBM] [Warning] lambda_l2 is set=1, reg_lambda=1.5 will be ignored. Current value: lambda_l2=1\n",
      "[LightGBM] [Warning] min_data_in_leaf is set=10, min_child_samples=20 will be ignored. Current value: min_data_in_leaf=10\n",
      "[LightGBM] [Warning] lambda_l1 is set=0, reg_alpha=1.5 will be ignored. Current value: lambda_l1=0\n",
      "[LightGBM] [Warning] lambda_l2 is set=1, reg_lambda=1.5 will be ignored. Current value: lambda_l2=1\n",
      "[LightGBM] [Info] Number of positive: 5483, number of negative: 24923\n",
      "[LightGBM] [Warning] Auto-choosing col-wise multi-threading, the overhead of testing was 0.005569 seconds.\n",
      "You can set `force_col_wise=true` to remove the overhead.\n",
      "[LightGBM] [Info] Total Bins 9333\n",
      "[LightGBM] [Info] Number of data points in the train set: 30406, number of used features: 37\n",
      "[LightGBM] [Info] [binary:BoostFromScore]: pavg=0.180326 -> initscore=-1.514139\n",
      "[LightGBM] [Info] Start training from score -1.514139\n",
      "[LightGBM] [Warning] No further splits with positive gain, best gain: -inf\n",
      "[LightGBM] [Warning] No further splits with positive gain, best gain: -inf\n",
      "[LightGBM] [Warning] No further splits with positive gain, best gain: -inf\n",
      "[LightGBM] [Warning] No further splits with positive gain, best gain: -inf\n",
      "[LightGBM] [Warning] No further splits with positive gain, best gain: -inf\n"
     ]
    },
    {
     "name": "stderr",
     "output_type": "stream",
     "text": [
      "/opt/anaconda3/envs/gene/lib/python3.8/site-packages/sklearn/preprocessing/_label.py:98: DataConversionWarning: A column-vector y was passed when a 1d array was expected. Please change the shape of y to (n_samples, ), for example using ravel().\n",
      "  y = column_or_1d(y, warn=True)\n",
      "/opt/anaconda3/envs/gene/lib/python3.8/site-packages/sklearn/preprocessing/_label.py:133: DataConversionWarning: A column-vector y was passed when a 1d array was expected. Please change the shape of y to (n_samples, ), for example using ravel().\n",
      "  y = column_or_1d(y, warn=True)\n"
     ]
    },
    {
     "name": "stdout",
     "output_type": "stream",
     "text": [
      "[LightGBM] [Warning] min_data_in_leaf is set=10, min_child_samples=20 will be ignored. Current value: min_data_in_leaf=10\n",
      "[LightGBM] [Warning] lambda_l1 is set=0, reg_alpha=1.5 will be ignored. Current value: lambda_l1=0\n",
      "[LightGBM] [Warning] lambda_l2 is set=1, reg_lambda=1.5 will be ignored. Current value: lambda_l2=1\n",
      "[LightGBM] [Warning] min_data_in_leaf is set=10, min_child_samples=20 will be ignored. Current value: min_data_in_leaf=10\n",
      "[LightGBM] [Warning] lambda_l1 is set=0, reg_alpha=1.5 will be ignored. Current value: lambda_l1=0\n",
      "[LightGBM] [Warning] lambda_l2 is set=1, reg_lambda=1.5 will be ignored. Current value: lambda_l2=1\n",
      "[LightGBM] [Info] Number of positive: 5483, number of negative: 24923\n",
      "[LightGBM] [Warning] Auto-choosing col-wise multi-threading, the overhead of testing was 0.006482 seconds.\n",
      "You can set `force_col_wise=true` to remove the overhead.\n",
      "[LightGBM] [Info] Total Bins 9078\n",
      "[LightGBM] [Info] Number of data points in the train set: 30406, number of used features: 36\n",
      "[LightGBM] [Info] [binary:BoostFromScore]: pavg=0.180326 -> initscore=-1.514139\n",
      "[LightGBM] [Info] Start training from score -1.514139\n",
      "[LightGBM] [Warning] No further splits with positive gain, best gain: -inf\n",
      "[LightGBM] [Warning] No further splits with positive gain, best gain: -inf\n",
      "[LightGBM] [Warning] No further splits with positive gain, best gain: -inf\n",
      "[LightGBM] [Warning] No further splits with positive gain, best gain: -inf\n",
      "[LightGBM] [Warning] No further splits with positive gain, best gain: -inf\n",
      "[LightGBM] [Warning] min_data_in_leaf is set=10, min_child_samples=20 will be ignored. Current value: min_data_in_leaf=10\n",
      "[LightGBM] [Warning] lambda_l1 is set=0, reg_alpha=1.5 will be ignored. Current value: lambda_l1=0\n",
      "[LightGBM] [Warning] lambda_l2 is set=1, reg_lambda=1.5 will be ignored. Current value: lambda_l2=1\n",
      "[LightGBM] [Warning] min_data_in_leaf is set=10, min_child_samples=20 will be ignored. Current value: min_data_in_leaf=10\n",
      "[LightGBM] [Warning] lambda_l1 is set=0, reg_alpha=1.5 will be ignored. Current value: lambda_l1=0\n",
      "[LightGBM] [Warning] lambda_l2 is set=1, reg_lambda=1.5 will be ignored. Current value: lambda_l2=1\n",
      "[LightGBM] [Info] Number of positive: 5483, number of negative: 24923\n",
      "[LightGBM] [Warning] Auto-choosing col-wise multi-threading, the overhead of testing was 0.004549 seconds.\n",
      "You can set `force_col_wise=true` to remove the overhead.\n",
      "[LightGBM] [Info] Total Bins 8838\n",
      "[LightGBM] [Info] Number of data points in the train set: 30406, number of used features: 35\n",
      "[LightGBM] [Info] [binary:BoostFromScore]: pavg=0.180326 -> initscore=-1.514139\n",
      "[LightGBM] [Info] Start training from score -1.514139\n"
     ]
    },
    {
     "name": "stderr",
     "output_type": "stream",
     "text": [
      "/opt/anaconda3/envs/gene/lib/python3.8/site-packages/sklearn/preprocessing/_label.py:98: DataConversionWarning: A column-vector y was passed when a 1d array was expected. Please change the shape of y to (n_samples, ), for example using ravel().\n",
      "  y = column_or_1d(y, warn=True)\n",
      "/opt/anaconda3/envs/gene/lib/python3.8/site-packages/sklearn/preprocessing/_label.py:133: DataConversionWarning: A column-vector y was passed when a 1d array was expected. Please change the shape of y to (n_samples, ), for example using ravel().\n",
      "  y = column_or_1d(y, warn=True)\n"
     ]
    },
    {
     "name": "stdout",
     "output_type": "stream",
     "text": [
      "[LightGBM] [Warning] No further splits with positive gain, best gain: -inf\n",
      "[LightGBM] [Warning] No further splits with positive gain, best gain: -inf\n",
      "[LightGBM] [Warning] No further splits with positive gain, best gain: -inf\n",
      "[LightGBM] [Warning] No further splits with positive gain, best gain: -inf\n",
      "[LightGBM] [Warning] No further splits with positive gain, best gain: -inf\n",
      "[LightGBM] [Warning] No further splits with positive gain, best gain: -inf\n",
      "[LightGBM] [Warning] min_data_in_leaf is set=10, min_child_samples=20 will be ignored. Current value: min_data_in_leaf=10\n",
      "[LightGBM] [Warning] lambda_l1 is set=0, reg_alpha=1.5 will be ignored. Current value: lambda_l1=0\n",
      "[LightGBM] [Warning] lambda_l2 is set=1, reg_lambda=1.5 will be ignored. Current value: lambda_l2=1\n"
     ]
    },
    {
     "name": "stderr",
     "output_type": "stream",
     "text": [
      "/opt/anaconda3/envs/gene/lib/python3.8/site-packages/sklearn/preprocessing/_label.py:98: DataConversionWarning: A column-vector y was passed when a 1d array was expected. Please change the shape of y to (n_samples, ), for example using ravel().\n",
      "  y = column_or_1d(y, warn=True)\n",
      "/opt/anaconda3/envs/gene/lib/python3.8/site-packages/sklearn/preprocessing/_label.py:133: DataConversionWarning: A column-vector y was passed when a 1d array was expected. Please change the shape of y to (n_samples, ), for example using ravel().\n",
      "  y = column_or_1d(y, warn=True)\n"
     ]
    },
    {
     "name": "stdout",
     "output_type": "stream",
     "text": [
      "[LightGBM] [Warning] min_data_in_leaf is set=10, min_child_samples=20 will be ignored. Current value: min_data_in_leaf=10\n",
      "[LightGBM] [Warning] lambda_l1 is set=0, reg_alpha=1.5 will be ignored. Current value: lambda_l1=0\n",
      "[LightGBM] [Warning] lambda_l2 is set=1, reg_lambda=1.5 will be ignored. Current value: lambda_l2=1\n",
      "[LightGBM] [Info] Number of positive: 5483, number of negative: 24923\n",
      "[LightGBM] [Warning] Auto-choosing col-wise multi-threading, the overhead of testing was 0.003607 seconds.\n",
      "You can set `force_col_wise=true` to remove the overhead.\n",
      "[LightGBM] [Info] Total Bins 8583\n",
      "[LightGBM] [Info] Number of data points in the train set: 30406, number of used features: 34\n",
      "[LightGBM] [Info] [binary:BoostFromScore]: pavg=0.180326 -> initscore=-1.514139\n",
      "[LightGBM] [Info] Start training from score -1.514139\n",
      "[LightGBM] [Warning] No further splits with positive gain, best gain: -inf\n",
      "[LightGBM] [Warning] No further splits with positive gain, best gain: -inf\n",
      "[LightGBM] [Warning] min_data_in_leaf is set=10, min_child_samples=20 will be ignored. Current value: min_data_in_leaf=10\n",
      "[LightGBM] [Warning] lambda_l1 is set=0, reg_alpha=1.5 will be ignored. Current value: lambda_l1=0\n",
      "[LightGBM] [Warning] lambda_l2 is set=1, reg_lambda=1.5 will be ignored. Current value: lambda_l2=1\n",
      "[LightGBM] [Warning] min_data_in_leaf is set=10, min_child_samples=20 will be ignored. Current value: min_data_in_leaf=10\n",
      "[LightGBM] [Warning] lambda_l1 is set=0, reg_alpha=1.5 will be ignored. Current value: lambda_l1=0\n",
      "[LightGBM] [Warning] lambda_l2 is set=1, reg_lambda=1.5 will be ignored. Current value: lambda_l2=1\n",
      "[LightGBM] [Info] Number of positive: 5483, number of negative: 24923\n",
      "[LightGBM] [Warning] Auto-choosing col-wise multi-threading, the overhead of testing was 0.004126 seconds.\n",
      "You can set `force_col_wise=true` to remove the overhead.\n",
      "[LightGBM] [Info] Total Bins 8328\n",
      "[LightGBM] [Info] Number of data points in the train set: 30406, number of used features: 33\n",
      "[LightGBM] [Info] [binary:BoostFromScore]: pavg=0.180326 -> initscore=-1.514139\n",
      "[LightGBM] [Info] Start training from score -1.514139\n"
     ]
    },
    {
     "name": "stderr",
     "output_type": "stream",
     "text": [
      "/opt/anaconda3/envs/gene/lib/python3.8/site-packages/sklearn/preprocessing/_label.py:98: DataConversionWarning: A column-vector y was passed when a 1d array was expected. Please change the shape of y to (n_samples, ), for example using ravel().\n",
      "  y = column_or_1d(y, warn=True)\n",
      "/opt/anaconda3/envs/gene/lib/python3.8/site-packages/sklearn/preprocessing/_label.py:133: DataConversionWarning: A column-vector y was passed when a 1d array was expected. Please change the shape of y to (n_samples, ), for example using ravel().\n",
      "  y = column_or_1d(y, warn=True)\n"
     ]
    },
    {
     "name": "stdout",
     "output_type": "stream",
     "text": [
      "[LightGBM] [Warning] No further splits with positive gain, best gain: -inf\n",
      "[LightGBM] [Warning] No further splits with positive gain, best gain: -inf\n",
      "[LightGBM] [Warning] No further splits with positive gain, best gain: -inf\n",
      "[LightGBM] [Warning] min_data_in_leaf is set=10, min_child_samples=20 will be ignored. Current value: min_data_in_leaf=10\n",
      "[LightGBM] [Warning] lambda_l1 is set=0, reg_alpha=1.5 will be ignored. Current value: lambda_l1=0\n",
      "[LightGBM] [Warning] lambda_l2 is set=1, reg_lambda=1.5 will be ignored. Current value: lambda_l2=1\n"
     ]
    },
    {
     "name": "stderr",
     "output_type": "stream",
     "text": [
      "/opt/anaconda3/envs/gene/lib/python3.8/site-packages/sklearn/preprocessing/_label.py:98: DataConversionWarning: A column-vector y was passed when a 1d array was expected. Please change the shape of y to (n_samples, ), for example using ravel().\n",
      "  y = column_or_1d(y, warn=True)\n",
      "/opt/anaconda3/envs/gene/lib/python3.8/site-packages/sklearn/preprocessing/_label.py:133: DataConversionWarning: A column-vector y was passed when a 1d array was expected. Please change the shape of y to (n_samples, ), for example using ravel().\n",
      "  y = column_or_1d(y, warn=True)\n"
     ]
    },
    {
     "name": "stdout",
     "output_type": "stream",
     "text": [
      "[LightGBM] [Warning] min_data_in_leaf is set=10, min_child_samples=20 will be ignored. Current value: min_data_in_leaf=10\n",
      "[LightGBM] [Warning] lambda_l1 is set=0, reg_alpha=1.5 will be ignored. Current value: lambda_l1=0\n",
      "[LightGBM] [Warning] lambda_l2 is set=1, reg_lambda=1.5 will be ignored. Current value: lambda_l2=1\n",
      "[LightGBM] [Info] Number of positive: 5483, number of negative: 24923\n",
      "[LightGBM] [Warning] Auto-choosing col-wise multi-threading, the overhead of testing was 0.005650 seconds.\n",
      "You can set `force_col_wise=true` to remove the overhead.\n",
      "[LightGBM] [Info] Total Bins 8090\n",
      "[LightGBM] [Info] Number of data points in the train set: 30406, number of used features: 32\n",
      "[LightGBM] [Info] [binary:BoostFromScore]: pavg=0.180326 -> initscore=-1.514139\n",
      "[LightGBM] [Info] Start training from score -1.514139\n",
      "[LightGBM] [Warning] No further splits with positive gain, best gain: -inf\n",
      "[LightGBM] [Warning] No further splits with positive gain, best gain: -inf\n",
      "[LightGBM] [Warning] No further splits with positive gain, best gain: -inf\n",
      "[LightGBM] [Warning] min_data_in_leaf is set=10, min_child_samples=20 will be ignored. Current value: min_data_in_leaf=10\n",
      "[LightGBM] [Warning] lambda_l1 is set=0, reg_alpha=1.5 will be ignored. Current value: lambda_l1=0\n",
      "[LightGBM] [Warning] lambda_l2 is set=1, reg_lambda=1.5 will be ignored. Current value: lambda_l2=1\n",
      "[LightGBM] [Warning] min_data_in_leaf is set=10, min_child_samples=20 will be ignored. Current value: min_data_in_leaf=10\n",
      "[LightGBM] [Warning] lambda_l1 is set=0, reg_alpha=1.5 will be ignored. Current value: lambda_l1=0\n",
      "[LightGBM] [Warning] lambda_l2 is set=1, reg_lambda=1.5 will be ignored. Current value: lambda_l2=1\n",
      "[LightGBM] [Info] Number of positive: 5483, number of negative: 24923\n",
      "[LightGBM] [Warning] Auto-choosing col-wise multi-threading, the overhead of testing was 0.003705 seconds.\n",
      "You can set `force_col_wise=true` to remove the overhead.\n",
      "[LightGBM] [Info] Total Bins 7835\n",
      "[LightGBM] [Info] Number of data points in the train set: 30406, number of used features: 31\n",
      "[LightGBM] [Info] [binary:BoostFromScore]: pavg=0.180326 -> initscore=-1.514139\n",
      "[LightGBM] [Info] Start training from score -1.514139\n"
     ]
    },
    {
     "name": "stderr",
     "output_type": "stream",
     "text": [
      "/opt/anaconda3/envs/gene/lib/python3.8/site-packages/sklearn/preprocessing/_label.py:98: DataConversionWarning: A column-vector y was passed when a 1d array was expected. Please change the shape of y to (n_samples, ), for example using ravel().\n",
      "  y = column_or_1d(y, warn=True)\n",
      "/opt/anaconda3/envs/gene/lib/python3.8/site-packages/sklearn/preprocessing/_label.py:133: DataConversionWarning: A column-vector y was passed when a 1d array was expected. Please change the shape of y to (n_samples, ), for example using ravel().\n",
      "  y = column_or_1d(y, warn=True)\n"
     ]
    },
    {
     "name": "stdout",
     "output_type": "stream",
     "text": [
      "[LightGBM] [Warning] No further splits with positive gain, best gain: -inf\n",
      "[LightGBM] [Warning] No further splits with positive gain, best gain: -inf\n",
      "[LightGBM] [Warning] No further splits with positive gain, best gain: -inf\n",
      "[LightGBM] [Warning] No further splits with positive gain, best gain: -inf\n",
      "[LightGBM] [Warning] No further splits with positive gain, best gain: -inf\n",
      "[LightGBM] [Warning] No further splits with positive gain, best gain: -inf\n"
     ]
    },
    {
     "name": "stderr",
     "output_type": "stream",
     "text": [
      "/opt/anaconda3/envs/gene/lib/python3.8/site-packages/sklearn/preprocessing/_label.py:98: DataConversionWarning: A column-vector y was passed when a 1d array was expected. Please change the shape of y to (n_samples, ), for example using ravel().\n",
      "  y = column_or_1d(y, warn=True)\n",
      "/opt/anaconda3/envs/gene/lib/python3.8/site-packages/sklearn/preprocessing/_label.py:133: DataConversionWarning: A column-vector y was passed when a 1d array was expected. Please change the shape of y to (n_samples, ), for example using ravel().\n",
      "  y = column_or_1d(y, warn=True)\n"
     ]
    },
    {
     "name": "stdout",
     "output_type": "stream",
     "text": [
      "[LightGBM] [Warning] min_data_in_leaf is set=10, min_child_samples=20 will be ignored. Current value: min_data_in_leaf=10\n",
      "[LightGBM] [Warning] lambda_l1 is set=0, reg_alpha=1.5 will be ignored. Current value: lambda_l1=0\n",
      "[LightGBM] [Warning] lambda_l2 is set=1, reg_lambda=1.5 will be ignored. Current value: lambda_l2=1\n",
      "[LightGBM] [Warning] min_data_in_leaf is set=10, min_child_samples=20 will be ignored. Current value: min_data_in_leaf=10\n",
      "[LightGBM] [Warning] lambda_l1 is set=0, reg_alpha=1.5 will be ignored. Current value: lambda_l1=0\n",
      "[LightGBM] [Warning] lambda_l2 is set=1, reg_lambda=1.5 will be ignored. Current value: lambda_l2=1\n",
      "[LightGBM] [Info] Number of positive: 5483, number of negative: 24923\n",
      "[LightGBM] [Warning] Auto-choosing col-wise multi-threading, the overhead of testing was 0.003122 seconds.\n",
      "You can set `force_col_wise=true` to remove the overhead.\n",
      "[LightGBM] [Info] Total Bins 7580\n",
      "[LightGBM] [Info] Number of data points in the train set: 30406, number of used features: 30\n",
      "[LightGBM] [Info] [binary:BoostFromScore]: pavg=0.180326 -> initscore=-1.514139\n",
      "[LightGBM] [Info] Start training from score -1.514139\n",
      "[LightGBM] [Warning] No further splits with positive gain, best gain: -inf\n",
      "[LightGBM] [Warning] No further splits with positive gain, best gain: -inf\n"
     ]
    },
    {
     "name": "stderr",
     "output_type": "stream",
     "text": [
      "/opt/anaconda3/envs/gene/lib/python3.8/site-packages/sklearn/preprocessing/_label.py:98: DataConversionWarning: A column-vector y was passed when a 1d array was expected. Please change the shape of y to (n_samples, ), for example using ravel().\n",
      "  y = column_or_1d(y, warn=True)\n",
      "/opt/anaconda3/envs/gene/lib/python3.8/site-packages/sklearn/preprocessing/_label.py:133: DataConversionWarning: A column-vector y was passed when a 1d array was expected. Please change the shape of y to (n_samples, ), for example using ravel().\n",
      "  y = column_or_1d(y, warn=True)\n"
     ]
    },
    {
     "name": "stdout",
     "output_type": "stream",
     "text": [
      "[LightGBM] [Warning] min_data_in_leaf is set=10, min_child_samples=20 will be ignored. Current value: min_data_in_leaf=10\n",
      "[LightGBM] [Warning] lambda_l1 is set=0, reg_alpha=1.5 will be ignored. Current value: lambda_l1=0\n",
      "[LightGBM] [Warning] lambda_l2 is set=1, reg_lambda=1.5 will be ignored. Current value: lambda_l2=1\n",
      "[LightGBM] [Warning] min_data_in_leaf is set=10, min_child_samples=20 will be ignored. Current value: min_data_in_leaf=10\n",
      "[LightGBM] [Warning] lambda_l1 is set=0, reg_alpha=1.5 will be ignored. Current value: lambda_l1=0\n",
      "[LightGBM] [Warning] lambda_l2 is set=1, reg_lambda=1.5 will be ignored. Current value: lambda_l2=1\n",
      "[LightGBM] [Info] Number of positive: 5483, number of negative: 24923\n",
      "[LightGBM] [Warning] Auto-choosing col-wise multi-threading, the overhead of testing was 0.002974 seconds.\n",
      "You can set `force_col_wise=true` to remove the overhead.\n",
      "[LightGBM] [Info] Total Bins 7325\n",
      "[LightGBM] [Info] Number of data points in the train set: 30406, number of used features: 29\n",
      "[LightGBM] [Info] [binary:BoostFromScore]: pavg=0.180326 -> initscore=-1.514139\n",
      "[LightGBM] [Info] Start training from score -1.514139\n",
      "[LightGBM] [Warning] No further splits with positive gain, best gain: -inf\n",
      "[LightGBM] [Warning] No further splits with positive gain, best gain: -inf\n",
      "[LightGBM] [Warning] No further splits with positive gain, best gain: -inf\n",
      "[LightGBM] [Warning] No further splits with positive gain, best gain: -inf\n",
      "[LightGBM] [Warning] No further splits with positive gain, best gain: -inf\n",
      "[LightGBM] [Warning] No further splits with positive gain, best gain: -inf\n",
      "[LightGBM] [Warning] min_data_in_leaf is set=10, min_child_samples=20 will be ignored. Current value: min_data_in_leaf=10\n",
      "[LightGBM] [Warning] lambda_l1 is set=0, reg_alpha=1.5 will be ignored. Current value: lambda_l1=0\n",
      "[LightGBM] [Warning] lambda_l2 is set=1, reg_lambda=1.5 will be ignored. Current value: lambda_l2=1\n"
     ]
    },
    {
     "name": "stderr",
     "output_type": "stream",
     "text": [
      "/opt/anaconda3/envs/gene/lib/python3.8/site-packages/sklearn/preprocessing/_label.py:98: DataConversionWarning: A column-vector y was passed when a 1d array was expected. Please change the shape of y to (n_samples, ), for example using ravel().\n",
      "  y = column_or_1d(y, warn=True)\n",
      "/opt/anaconda3/envs/gene/lib/python3.8/site-packages/sklearn/preprocessing/_label.py:133: DataConversionWarning: A column-vector y was passed when a 1d array was expected. Please change the shape of y to (n_samples, ), for example using ravel().\n",
      "  y = column_or_1d(y, warn=True)\n"
     ]
    },
    {
     "name": "stdout",
     "output_type": "stream",
     "text": [
      "[LightGBM] [Warning] min_data_in_leaf is set=10, min_child_samples=20 will be ignored. Current value: min_data_in_leaf=10\n",
      "[LightGBM] [Warning] lambda_l1 is set=0, reg_alpha=1.5 will be ignored. Current value: lambda_l1=0\n",
      "[LightGBM] [Warning] lambda_l2 is set=1, reg_lambda=1.5 will be ignored. Current value: lambda_l2=1\n",
      "[LightGBM] [Info] Number of positive: 5483, number of negative: 24923\n",
      "[LightGBM] [Warning] Auto-choosing col-wise multi-threading, the overhead of testing was 0.004925 seconds.\n",
      "You can set `force_col_wise=true` to remove the overhead.\n",
      "[LightGBM] [Info] Total Bins 7070\n",
      "[LightGBM] [Info] Number of data points in the train set: 30406, number of used features: 28\n",
      "[LightGBM] [Info] [binary:BoostFromScore]: pavg=0.180326 -> initscore=-1.514139\n",
      "[LightGBM] [Info] Start training from score -1.514139\n"
     ]
    },
    {
     "name": "stderr",
     "output_type": "stream",
     "text": [
      "/opt/anaconda3/envs/gene/lib/python3.8/site-packages/sklearn/preprocessing/_label.py:98: DataConversionWarning: A column-vector y was passed when a 1d array was expected. Please change the shape of y to (n_samples, ), for example using ravel().\n",
      "  y = column_or_1d(y, warn=True)\n",
      "/opt/anaconda3/envs/gene/lib/python3.8/site-packages/sklearn/preprocessing/_label.py:133: DataConversionWarning: A column-vector y was passed when a 1d array was expected. Please change the shape of y to (n_samples, ), for example using ravel().\n",
      "  y = column_or_1d(y, warn=True)\n"
     ]
    },
    {
     "name": "stdout",
     "output_type": "stream",
     "text": [
      "[LightGBM] [Warning] min_data_in_leaf is set=10, min_child_samples=20 will be ignored. Current value: min_data_in_leaf=10\n",
      "[LightGBM] [Warning] lambda_l1 is set=0, reg_alpha=1.5 will be ignored. Current value: lambda_l1=0\n",
      "[LightGBM] [Warning] lambda_l2 is set=1, reg_lambda=1.5 will be ignored. Current value: lambda_l2=1\n",
      "[LightGBM] [Warning] min_data_in_leaf is set=10, min_child_samples=20 will be ignored. Current value: min_data_in_leaf=10\n",
      "[LightGBM] [Warning] lambda_l1 is set=0, reg_alpha=1.5 will be ignored. Current value: lambda_l1=0\n",
      "[LightGBM] [Warning] lambda_l2 is set=1, reg_lambda=1.5 will be ignored. Current value: lambda_l2=1\n",
      "[LightGBM] [Info] Number of positive: 5483, number of negative: 24923\n",
      "[LightGBM] [Warning] Auto-choosing col-wise multi-threading, the overhead of testing was 0.003134 seconds.\n",
      "You can set `force_col_wise=true` to remove the overhead.\n",
      "[LightGBM] [Info] Total Bins 6815\n",
      "[LightGBM] [Info] Number of data points in the train set: 30406, number of used features: 27\n",
      "[LightGBM] [Info] [binary:BoostFromScore]: pavg=0.180326 -> initscore=-1.514139\n",
      "[LightGBM] [Info] Start training from score -1.514139\n",
      "[LightGBM] [Warning] No further splits with positive gain, best gain: -inf\n",
      "[LightGBM] [Warning] No further splits with positive gain, best gain: -inf\n",
      "[LightGBM] [Warning] No further splits with positive gain, best gain: -inf\n",
      "[LightGBM] [Warning] No further splits with positive gain, best gain: -inf\n",
      "[LightGBM] [Warning] No further splits with positive gain, best gain: -inf\n"
     ]
    },
    {
     "name": "stderr",
     "output_type": "stream",
     "text": [
      "/opt/anaconda3/envs/gene/lib/python3.8/site-packages/sklearn/preprocessing/_label.py:98: DataConversionWarning: A column-vector y was passed when a 1d array was expected. Please change the shape of y to (n_samples, ), for example using ravel().\n",
      "  y = column_or_1d(y, warn=True)\n",
      "/opt/anaconda3/envs/gene/lib/python3.8/site-packages/sklearn/preprocessing/_label.py:133: DataConversionWarning: A column-vector y was passed when a 1d array was expected. Please change the shape of y to (n_samples, ), for example using ravel().\n",
      "  y = column_or_1d(y, warn=True)\n"
     ]
    },
    {
     "name": "stdout",
     "output_type": "stream",
     "text": [
      "[LightGBM] [Warning] min_data_in_leaf is set=10, min_child_samples=20 will be ignored. Current value: min_data_in_leaf=10\n",
      "[LightGBM] [Warning] lambda_l1 is set=0, reg_alpha=1.5 will be ignored. Current value: lambda_l1=0\n",
      "[LightGBM] [Warning] lambda_l2 is set=1, reg_lambda=1.5 will be ignored. Current value: lambda_l2=1\n",
      "[LightGBM] [Warning] min_data_in_leaf is set=10, min_child_samples=20 will be ignored. Current value: min_data_in_leaf=10\n",
      "[LightGBM] [Warning] lambda_l1 is set=0, reg_alpha=1.5 will be ignored. Current value: lambda_l1=0\n",
      "[LightGBM] [Warning] lambda_l2 is set=1, reg_lambda=1.5 will be ignored. Current value: lambda_l2=1\n",
      "[LightGBM] [Info] Number of positive: 5483, number of negative: 24923\n",
      "[LightGBM] [Warning] Auto-choosing col-wise multi-threading, the overhead of testing was 0.002759 seconds.\n",
      "You can set `force_col_wise=true` to remove the overhead.\n",
      "[LightGBM] [Info] Total Bins 6586\n",
      "[LightGBM] [Info] Number of data points in the train set: 30406, number of used features: 26\n",
      "[LightGBM] [Info] [binary:BoostFromScore]: pavg=0.180326 -> initscore=-1.514139\n",
      "[LightGBM] [Info] Start training from score -1.514139\n",
      "[LightGBM] [Warning] No further splits with positive gain, best gain: -inf\n",
      "[LightGBM] [Warning] No further splits with positive gain, best gain: -inf\n"
     ]
    },
    {
     "name": "stderr",
     "output_type": "stream",
     "text": [
      "/opt/anaconda3/envs/gene/lib/python3.8/site-packages/sklearn/preprocessing/_label.py:98: DataConversionWarning: A column-vector y was passed when a 1d array was expected. Please change the shape of y to (n_samples, ), for example using ravel().\n",
      "  y = column_or_1d(y, warn=True)\n",
      "/opt/anaconda3/envs/gene/lib/python3.8/site-packages/sklearn/preprocessing/_label.py:133: DataConversionWarning: A column-vector y was passed when a 1d array was expected. Please change the shape of y to (n_samples, ), for example using ravel().\n",
      "  y = column_or_1d(y, warn=True)\n"
     ]
    },
    {
     "name": "stdout",
     "output_type": "stream",
     "text": [
      "[LightGBM] [Warning] min_data_in_leaf is set=10, min_child_samples=20 will be ignored. Current value: min_data_in_leaf=10\n",
      "[LightGBM] [Warning] lambda_l1 is set=0, reg_alpha=1.5 will be ignored. Current value: lambda_l1=0\n",
      "[LightGBM] [Warning] lambda_l2 is set=1, reg_lambda=1.5 will be ignored. Current value: lambda_l2=1\n",
      "[LightGBM] [Warning] min_data_in_leaf is set=10, min_child_samples=20 will be ignored. Current value: min_data_in_leaf=10\n",
      "[LightGBM] [Warning] lambda_l1 is set=0, reg_alpha=1.5 will be ignored. Current value: lambda_l1=0\n",
      "[LightGBM] [Warning] lambda_l2 is set=1, reg_lambda=1.5 will be ignored. Current value: lambda_l2=1\n",
      "[LightGBM] [Info] Number of positive: 5483, number of negative: 24923\n",
      "[LightGBM] [Warning] Auto-choosing col-wise multi-threading, the overhead of testing was 0.003476 seconds.\n",
      "You can set `force_col_wise=true` to remove the overhead.\n",
      "[LightGBM] [Info] Total Bins 6348\n",
      "[LightGBM] [Info] Number of data points in the train set: 30406, number of used features: 25\n",
      "[LightGBM] [Info] [binary:BoostFromScore]: pavg=0.180326 -> initscore=-1.514139\n",
      "[LightGBM] [Info] Start training from score -1.514139\n",
      "[LightGBM] [Warning] No further splits with positive gain, best gain: -inf\n",
      "[LightGBM] [Warning] No further splits with positive gain, best gain: -inf\n",
      "[LightGBM] [Warning] No further splits with positive gain, best gain: -inf\n"
     ]
    },
    {
     "name": "stderr",
     "output_type": "stream",
     "text": [
      "/opt/anaconda3/envs/gene/lib/python3.8/site-packages/sklearn/preprocessing/_label.py:98: DataConversionWarning: A column-vector y was passed when a 1d array was expected. Please change the shape of y to (n_samples, ), for example using ravel().\n",
      "  y = column_or_1d(y, warn=True)\n",
      "/opt/anaconda3/envs/gene/lib/python3.8/site-packages/sklearn/preprocessing/_label.py:133: DataConversionWarning: A column-vector y was passed when a 1d array was expected. Please change the shape of y to (n_samples, ), for example using ravel().\n",
      "  y = column_or_1d(y, warn=True)\n"
     ]
    },
    {
     "name": "stdout",
     "output_type": "stream",
     "text": [
      "[LightGBM] [Warning] min_data_in_leaf is set=10, min_child_samples=20 will be ignored. Current value: min_data_in_leaf=10\n",
      "[LightGBM] [Warning] lambda_l1 is set=0, reg_alpha=1.5 will be ignored. Current value: lambda_l1=0\n",
      "[LightGBM] [Warning] lambda_l2 is set=1, reg_lambda=1.5 will be ignored. Current value: lambda_l2=1\n",
      "[LightGBM] [Warning] min_data_in_leaf is set=10, min_child_samples=20 will be ignored. Current value: min_data_in_leaf=10\n",
      "[LightGBM] [Warning] lambda_l1 is set=0, reg_alpha=1.5 will be ignored. Current value: lambda_l1=0\n",
      "[LightGBM] [Warning] lambda_l2 is set=1, reg_lambda=1.5 will be ignored. Current value: lambda_l2=1\n",
      "[LightGBM] [Info] Number of positive: 5483, number of negative: 24923\n",
      "[LightGBM] [Warning] Auto-choosing col-wise multi-threading, the overhead of testing was 0.002888 seconds.\n",
      "You can set `force_col_wise=true` to remove the overhead.\n",
      "[LightGBM] [Info] Total Bins 6093\n",
      "[LightGBM] [Info] Number of data points in the train set: 30406, number of used features: 24\n",
      "[LightGBM] [Info] [binary:BoostFromScore]: pavg=0.180326 -> initscore=-1.514139\n",
      "[LightGBM] [Info] Start training from score -1.514139\n",
      "[LightGBM] [Warning] No further splits with positive gain, best gain: -inf\n",
      "[LightGBM] [Warning] No further splits with positive gain, best gain: -inf\n",
      "[LightGBM] [Warning] No further splits with positive gain, best gain: -inf\n",
      "[LightGBM] [Warning] min_data_in_leaf is set=10, min_child_samples=20 will be ignored. Current value: min_data_in_leaf=10\n",
      "[LightGBM] [Warning] lambda_l1 is set=0, reg_alpha=1.5 will be ignored. Current value: lambda_l1=0\n",
      "[LightGBM] [Warning] lambda_l2 is set=1, reg_lambda=1.5 will be ignored. Current value: lambda_l2=1\n"
     ]
    },
    {
     "name": "stderr",
     "output_type": "stream",
     "text": [
      "/opt/anaconda3/envs/gene/lib/python3.8/site-packages/sklearn/preprocessing/_label.py:98: DataConversionWarning: A column-vector y was passed when a 1d array was expected. Please change the shape of y to (n_samples, ), for example using ravel().\n",
      "  y = column_or_1d(y, warn=True)\n",
      "/opt/anaconda3/envs/gene/lib/python3.8/site-packages/sklearn/preprocessing/_label.py:133: DataConversionWarning: A column-vector y was passed when a 1d array was expected. Please change the shape of y to (n_samples, ), for example using ravel().\n",
      "  y = column_or_1d(y, warn=True)\n"
     ]
    },
    {
     "name": "stdout",
     "output_type": "stream",
     "text": [
      "[LightGBM] [Warning] min_data_in_leaf is set=10, min_child_samples=20 will be ignored. Current value: min_data_in_leaf=10\n",
      "[LightGBM] [Warning] lambda_l1 is set=0, reg_alpha=1.5 will be ignored. Current value: lambda_l1=0\n",
      "[LightGBM] [Warning] lambda_l2 is set=1, reg_lambda=1.5 will be ignored. Current value: lambda_l2=1\n",
      "[LightGBM] [Info] Number of positive: 5483, number of negative: 24923\n",
      "[LightGBM] [Warning] Auto-choosing col-wise multi-threading, the overhead of testing was 0.003494 seconds.\n",
      "You can set `force_col_wise=true` to remove the overhead.\n",
      "[LightGBM] [Info] Total Bins 5838\n",
      "[LightGBM] [Info] Number of data points in the train set: 30406, number of used features: 23\n",
      "[LightGBM] [Info] [binary:BoostFromScore]: pavg=0.180326 -> initscore=-1.514139\n",
      "[LightGBM] [Info] Start training from score -1.514139\n",
      "[LightGBM] [Warning] No further splits with positive gain, best gain: -inf\n",
      "[LightGBM] [Warning] No further splits with positive gain, best gain: -inf\n",
      "[LightGBM] [Warning] min_data_in_leaf is set=10, min_child_samples=20 will be ignored. Current value: min_data_in_leaf=10\n",
      "[LightGBM] [Warning] lambda_l1 is set=0, reg_alpha=1.5 will be ignored. Current value: lambda_l1=0\n",
      "[LightGBM] [Warning] lambda_l2 is set=1, reg_lambda=1.5 will be ignored. Current value: lambda_l2=1\n",
      "[LightGBM] [Warning] min_data_in_leaf is set=10, min_child_samples=20 will be ignored. Current value: min_data_in_leaf=10\n",
      "[LightGBM] [Warning] lambda_l1 is set=0, reg_alpha=1.5 will be ignored. Current value: lambda_l1=0\n",
      "[LightGBM] [Warning] lambda_l2 is set=1, reg_lambda=1.5 will be ignored. Current value: lambda_l2=1\n",
      "[LightGBM] [Info] Number of positive: 5483, number of negative: 24923\n",
      "[LightGBM] [Warning] Auto-choosing col-wise multi-threading, the overhead of testing was 0.003379 seconds.\n",
      "You can set `force_col_wise=true` to remove the overhead.\n",
      "[LightGBM] [Info] Total Bins 5583\n",
      "[LightGBM] [Info] Number of data points in the train set: 30406, number of used features: 22\n",
      "[LightGBM] [Info] [binary:BoostFromScore]: pavg=0.180326 -> initscore=-1.514139\n",
      "[LightGBM] [Info] Start training from score -1.514139\n"
     ]
    },
    {
     "name": "stderr",
     "output_type": "stream",
     "text": [
      "/opt/anaconda3/envs/gene/lib/python3.8/site-packages/sklearn/preprocessing/_label.py:98: DataConversionWarning: A column-vector y was passed when a 1d array was expected. Please change the shape of y to (n_samples, ), for example using ravel().\n",
      "  y = column_or_1d(y, warn=True)\n",
      "/opt/anaconda3/envs/gene/lib/python3.8/site-packages/sklearn/preprocessing/_label.py:133: DataConversionWarning: A column-vector y was passed when a 1d array was expected. Please change the shape of y to (n_samples, ), for example using ravel().\n",
      "  y = column_or_1d(y, warn=True)\n"
     ]
    },
    {
     "name": "stdout",
     "output_type": "stream",
     "text": [
      "[LightGBM] [Warning] No further splits with positive gain, best gain: -inf\n",
      "[LightGBM] [Warning] No further splits with positive gain, best gain: -inf\n",
      "[LightGBM] [Warning] min_data_in_leaf is set=10, min_child_samples=20 will be ignored. Current value: min_data_in_leaf=10\n",
      "[LightGBM] [Warning] lambda_l1 is set=0, reg_alpha=1.5 will be ignored. Current value: lambda_l1=0\n",
      "[LightGBM] [Warning] lambda_l2 is set=1, reg_lambda=1.5 will be ignored. Current value: lambda_l2=1\n",
      "[LightGBM] [Warning] min_data_in_leaf is set=10, min_child_samples=20 will be ignored. Current value: min_data_in_leaf=10\n",
      "[LightGBM] [Warning] lambda_l1 is set=0, reg_alpha=1.5 will be ignored. Current value: lambda_l1=0\n",
      "[LightGBM] [Warning] lambda_l2 is set=1, reg_lambda=1.5 will be ignored. Current value: lambda_l2=1\n",
      "[LightGBM] [Info] Number of positive: 5483, number of negative: 24923\n",
      "[LightGBM] [Warning] Auto-choosing col-wise multi-threading, the overhead of testing was 0.002234 seconds.\n",
      "You can set `force_col_wise=true` to remove the overhead.\n",
      "[LightGBM] [Info] Total Bins 5328\n",
      "[LightGBM] [Info] Number of data points in the train set: 30406, number of used features: 21\n",
      "[LightGBM] [Info] [binary:BoostFromScore]: pavg=0.180326 -> initscore=-1.514139\n",
      "[LightGBM] [Info] Start training from score -1.514139\n"
     ]
    },
    {
     "name": "stderr",
     "output_type": "stream",
     "text": [
      "/opt/anaconda3/envs/gene/lib/python3.8/site-packages/sklearn/preprocessing/_label.py:98: DataConversionWarning: A column-vector y was passed when a 1d array was expected. Please change the shape of y to (n_samples, ), for example using ravel().\n",
      "  y = column_or_1d(y, warn=True)\n",
      "/opt/anaconda3/envs/gene/lib/python3.8/site-packages/sklearn/preprocessing/_label.py:133: DataConversionWarning: A column-vector y was passed when a 1d array was expected. Please change the shape of y to (n_samples, ), for example using ravel().\n",
      "  y = column_or_1d(y, warn=True)\n"
     ]
    },
    {
     "name": "stdout",
     "output_type": "stream",
     "text": [
      "[LightGBM] [Warning] No further splits with positive gain, best gain: -inf\n",
      "[LightGBM] [Warning] min_data_in_leaf is set=10, min_child_samples=20 will be ignored. Current value: min_data_in_leaf=10\n",
      "[LightGBM] [Warning] lambda_l1 is set=0, reg_alpha=1.5 will be ignored. Current value: lambda_l1=0\n",
      "[LightGBM] [Warning] lambda_l2 is set=1, reg_lambda=1.5 will be ignored. Current value: lambda_l2=1\n",
      "[LightGBM] [Warning] min_data_in_leaf is set=10, min_child_samples=20 will be ignored. Current value: min_data_in_leaf=10\n",
      "[LightGBM] [Warning] lambda_l1 is set=0, reg_alpha=1.5 will be ignored. Current value: lambda_l1=0\n",
      "[LightGBM] [Warning] lambda_l2 is set=1, reg_lambda=1.5 will be ignored. Current value: lambda_l2=1\n",
      "[LightGBM] [Info] Number of positive: 5483, number of negative: 24923\n",
      "[LightGBM] [Warning] Auto-choosing col-wise multi-threading, the overhead of testing was 0.003736 seconds.\n",
      "You can set `force_col_wise=true` to remove the overhead.\n",
      "[LightGBM] [Info] Total Bins 5073\n",
      "[LightGBM] [Info] Number of data points in the train set: 30406, number of used features: 20\n",
      "[LightGBM] [Info] [binary:BoostFromScore]: pavg=0.180326 -> initscore=-1.514139\n",
      "[LightGBM] [Info] Start training from score -1.514139\n"
     ]
    },
    {
     "name": "stderr",
     "output_type": "stream",
     "text": [
      "/opt/anaconda3/envs/gene/lib/python3.8/site-packages/sklearn/preprocessing/_label.py:98: DataConversionWarning: A column-vector y was passed when a 1d array was expected. Please change the shape of y to (n_samples, ), for example using ravel().\n",
      "  y = column_or_1d(y, warn=True)\n",
      "/opt/anaconda3/envs/gene/lib/python3.8/site-packages/sklearn/preprocessing/_label.py:133: DataConversionWarning: A column-vector y was passed when a 1d array was expected. Please change the shape of y to (n_samples, ), for example using ravel().\n",
      "  y = column_or_1d(y, warn=True)\n"
     ]
    },
    {
     "name": "stdout",
     "output_type": "stream",
     "text": [
      "[LightGBM] [Warning] No further splits with positive gain, best gain: -inf\n",
      "[LightGBM] [Warning] min_data_in_leaf is set=10, min_child_samples=20 will be ignored. Current value: min_data_in_leaf=10\n",
      "[LightGBM] [Warning] lambda_l1 is set=0, reg_alpha=1.5 will be ignored. Current value: lambda_l1=0\n",
      "[LightGBM] [Warning] lambda_l2 is set=1, reg_lambda=1.5 will be ignored. Current value: lambda_l2=1\n",
      "[LightGBM] [Warning] min_data_in_leaf is set=10, min_child_samples=20 will be ignored. Current value: min_data_in_leaf=10\n",
      "[LightGBM] [Warning] lambda_l1 is set=0, reg_alpha=1.5 will be ignored. Current value: lambda_l1=0\n",
      "[LightGBM] [Warning] lambda_l2 is set=1, reg_lambda=1.5 will be ignored. Current value: lambda_l2=1\n",
      "[LightGBM] [Info] Number of positive: 5483, number of negative: 24923\n",
      "[LightGBM] [Warning] Auto-choosing col-wise multi-threading, the overhead of testing was 0.002574 seconds.\n",
      "You can set `force_col_wise=true` to remove the overhead.\n",
      "[LightGBM] [Info] Total Bins 4818\n",
      "[LightGBM] [Info] Number of data points in the train set: 30406, number of used features: 19\n",
      "[LightGBM] [Info] [binary:BoostFromScore]: pavg=0.180326 -> initscore=-1.514139\n",
      "[LightGBM] [Info] Start training from score -1.514139\n"
     ]
    },
    {
     "name": "stderr",
     "output_type": "stream",
     "text": [
      "/opt/anaconda3/envs/gene/lib/python3.8/site-packages/sklearn/preprocessing/_label.py:98: DataConversionWarning: A column-vector y was passed when a 1d array was expected. Please change the shape of y to (n_samples, ), for example using ravel().\n",
      "  y = column_or_1d(y, warn=True)\n",
      "/opt/anaconda3/envs/gene/lib/python3.8/site-packages/sklearn/preprocessing/_label.py:133: DataConversionWarning: A column-vector y was passed when a 1d array was expected. Please change the shape of y to (n_samples, ), for example using ravel().\n",
      "  y = column_or_1d(y, warn=True)\n"
     ]
    },
    {
     "name": "stdout",
     "output_type": "stream",
     "text": [
      "[LightGBM] [Warning] No further splits with positive gain, best gain: -inf\n",
      "[LightGBM] [Warning] No further splits with positive gain, best gain: -inf\n",
      "[LightGBM] [Warning] min_data_in_leaf is set=10, min_child_samples=20 will be ignored. Current value: min_data_in_leaf=10\n",
      "[LightGBM] [Warning] lambda_l1 is set=0, reg_alpha=1.5 will be ignored. Current value: lambda_l1=0\n",
      "[LightGBM] [Warning] lambda_l2 is set=1, reg_lambda=1.5 will be ignored. Current value: lambda_l2=1\n",
      "[LightGBM] [Warning] min_data_in_leaf is set=10, min_child_samples=20 will be ignored. Current value: min_data_in_leaf=10\n",
      "[LightGBM] [Warning] lambda_l1 is set=0, reg_alpha=1.5 will be ignored. Current value: lambda_l1=0\n",
      "[LightGBM] [Warning] lambda_l2 is set=1, reg_lambda=1.5 will be ignored. Current value: lambda_l2=1\n",
      "[LightGBM] [Info] Number of positive: 5483, number of negative: 24923\n",
      "[LightGBM] [Warning] Auto-choosing col-wise multi-threading, the overhead of testing was 0.001977 seconds.\n",
      "You can set `force_col_wise=true` to remove the overhead.\n",
      "[LightGBM] [Info] Total Bins 4563\n",
      "[LightGBM] [Info] Number of data points in the train set: 30406, number of used features: 18\n",
      "[LightGBM] [Info] [binary:BoostFromScore]: pavg=0.180326 -> initscore=-1.514139\n",
      "[LightGBM] [Info] Start training from score -1.514139\n"
     ]
    },
    {
     "name": "stderr",
     "output_type": "stream",
     "text": [
      "/opt/anaconda3/envs/gene/lib/python3.8/site-packages/sklearn/preprocessing/_label.py:98: DataConversionWarning: A column-vector y was passed when a 1d array was expected. Please change the shape of y to (n_samples, ), for example using ravel().\n",
      "  y = column_or_1d(y, warn=True)\n",
      "/opt/anaconda3/envs/gene/lib/python3.8/site-packages/sklearn/preprocessing/_label.py:133: DataConversionWarning: A column-vector y was passed when a 1d array was expected. Please change the shape of y to (n_samples, ), for example using ravel().\n",
      "  y = column_or_1d(y, warn=True)\n"
     ]
    },
    {
     "name": "stdout",
     "output_type": "stream",
     "text": [
      "[LightGBM] [Warning] No further splits with positive gain, best gain: -inf\n",
      "[LightGBM] [Warning] No further splits with positive gain, best gain: -inf\n",
      "[LightGBM] [Warning] No further splits with positive gain, best gain: -inf\n",
      "[LightGBM] [Warning] min_data_in_leaf is set=10, min_child_samples=20 will be ignored. Current value: min_data_in_leaf=10\n",
      "[LightGBM] [Warning] lambda_l1 is set=0, reg_alpha=1.5 will be ignored. Current value: lambda_l1=0\n",
      "[LightGBM] [Warning] lambda_l2 is set=1, reg_lambda=1.5 will be ignored. Current value: lambda_l2=1\n",
      "[LightGBM] [Warning] min_data_in_leaf is set=10, min_child_samples=20 will be ignored. Current value: min_data_in_leaf=10\n",
      "[LightGBM] [Warning] lambda_l1 is set=0, reg_alpha=1.5 will be ignored. Current value: lambda_l1=0\n",
      "[LightGBM] [Warning] lambda_l2 is set=1, reg_lambda=1.5 will be ignored. Current value: lambda_l2=1\n",
      "[LightGBM] [Info] Number of positive: 5483, number of negative: 24923\n",
      "[LightGBM] [Warning] Auto-choosing col-wise multi-threading, the overhead of testing was 0.001800 seconds.\n",
      "You can set `force_col_wise=true` to remove the overhead.\n",
      "[LightGBM] [Info] Total Bins 4308\n",
      "[LightGBM] [Info] Number of data points in the train set: 30406, number of used features: 17\n",
      "[LightGBM] [Info] [binary:BoostFromScore]: pavg=0.180326 -> initscore=-1.514139\n",
      "[LightGBM] [Info] Start training from score -1.514139\n"
     ]
    },
    {
     "name": "stderr",
     "output_type": "stream",
     "text": [
      "/opt/anaconda3/envs/gene/lib/python3.8/site-packages/sklearn/preprocessing/_label.py:98: DataConversionWarning: A column-vector y was passed when a 1d array was expected. Please change the shape of y to (n_samples, ), for example using ravel().\n",
      "  y = column_or_1d(y, warn=True)\n",
      "/opt/anaconda3/envs/gene/lib/python3.8/site-packages/sklearn/preprocessing/_label.py:133: DataConversionWarning: A column-vector y was passed when a 1d array was expected. Please change the shape of y to (n_samples, ), for example using ravel().\n",
      "  y = column_or_1d(y, warn=True)\n",
      "/opt/anaconda3/envs/gene/lib/python3.8/site-packages/sklearn/preprocessing/_label.py:98: DataConversionWarning: A column-vector y was passed when a 1d array was expected. Please change the shape of y to (n_samples, ), for example using ravel().\n",
      "  y = column_or_1d(y, warn=True)\n",
      "/opt/anaconda3/envs/gene/lib/python3.8/site-packages/sklearn/preprocessing/_label.py:133: DataConversionWarning: A column-vector y was passed when a 1d array was expected. Please change the shape of y to (n_samples, ), for example using ravel().\n",
      "  y = column_or_1d(y, warn=True)\n"
     ]
    },
    {
     "name": "stdout",
     "output_type": "stream",
     "text": [
      "[LightGBM] [Warning] min_data_in_leaf is set=10, min_child_samples=20 will be ignored. Current value: min_data_in_leaf=10\n",
      "[LightGBM] [Warning] lambda_l1 is set=0, reg_alpha=1.5 will be ignored. Current value: lambda_l1=0\n",
      "[LightGBM] [Warning] lambda_l2 is set=1, reg_lambda=1.5 will be ignored. Current value: lambda_l2=1\n",
      "[LightGBM] [Warning] min_data_in_leaf is set=10, min_child_samples=20 will be ignored. Current value: min_data_in_leaf=10\n",
      "[LightGBM] [Warning] lambda_l1 is set=0, reg_alpha=1.5 will be ignored. Current value: lambda_l1=0\n",
      "[LightGBM] [Warning] lambda_l2 is set=1, reg_lambda=1.5 will be ignored. Current value: lambda_l2=1\n",
      "[LightGBM] [Info] Number of positive: 5483, number of negative: 24923\n",
      "[LightGBM] [Warning] Auto-choosing col-wise multi-threading, the overhead of testing was 0.003007 seconds.\n",
      "You can set `force_col_wise=true` to remove the overhead.\n",
      "[LightGBM] [Info] Total Bins 4053\n",
      "[LightGBM] [Info] Number of data points in the train set: 30406, number of used features: 16\n",
      "[LightGBM] [Info] [binary:BoostFromScore]: pavg=0.180326 -> initscore=-1.514139\n",
      "[LightGBM] [Info] Start training from score -1.514139\n",
      "[LightGBM] [Warning] No further splits with positive gain, best gain: -inf\n"
     ]
    },
    {
     "name": "stderr",
     "output_type": "stream",
     "text": [
      "/opt/anaconda3/envs/gene/lib/python3.8/site-packages/sklearn/preprocessing/_label.py:98: DataConversionWarning: A column-vector y was passed when a 1d array was expected. Please change the shape of y to (n_samples, ), for example using ravel().\n",
      "  y = column_or_1d(y, warn=True)\n",
      "/opt/anaconda3/envs/gene/lib/python3.8/site-packages/sklearn/preprocessing/_label.py:133: DataConversionWarning: A column-vector y was passed when a 1d array was expected. Please change the shape of y to (n_samples, ), for example using ravel().\n",
      "  y = column_or_1d(y, warn=True)\n"
     ]
    },
    {
     "name": "stdout",
     "output_type": "stream",
     "text": [
      "[LightGBM] [Warning] min_data_in_leaf is set=10, min_child_samples=20 will be ignored. Current value: min_data_in_leaf=10\n",
      "[LightGBM] [Warning] lambda_l1 is set=0, reg_alpha=1.5 will be ignored. Current value: lambda_l1=0\n",
      "[LightGBM] [Warning] lambda_l2 is set=1, reg_lambda=1.5 will be ignored. Current value: lambda_l2=1\n",
      "[LightGBM] [Warning] min_data_in_leaf is set=10, min_child_samples=20 will be ignored. Current value: min_data_in_leaf=10\n",
      "[LightGBM] [Warning] lambda_l1 is set=0, reg_alpha=1.5 will be ignored. Current value: lambda_l1=0\n",
      "[LightGBM] [Warning] lambda_l2 is set=1, reg_lambda=1.5 will be ignored. Current value: lambda_l2=1\n",
      "[LightGBM] [Info] Number of positive: 5483, number of negative: 24923\n",
      "[LightGBM] [Warning] Auto-choosing col-wise multi-threading, the overhead of testing was 0.002990 seconds.\n",
      "You can set `force_col_wise=true` to remove the overhead.\n",
      "[LightGBM] [Info] Total Bins 3798\n",
      "[LightGBM] [Info] Number of data points in the train set: 30406, number of used features: 15\n",
      "[LightGBM] [Info] [binary:BoostFromScore]: pavg=0.180326 -> initscore=-1.514139\n",
      "[LightGBM] [Info] Start training from score -1.514139\n",
      "[LightGBM] [Warning] No further splits with positive gain, best gain: -inf\n",
      "[LightGBM] [Warning] No further splits with positive gain, best gain: -inf\n",
      "[LightGBM] [Warning] min_data_in_leaf is set=10, min_child_samples=20 will be ignored. Current value: min_data_in_leaf=10\n",
      "[LightGBM] [Warning] lambda_l1 is set=0, reg_alpha=1.5 will be ignored. Current value: lambda_l1=0\n",
      "[LightGBM] [Warning] lambda_l2 is set=1, reg_lambda=1.5 will be ignored. Current value: lambda_l2=1\n"
     ]
    },
    {
     "name": "stderr",
     "output_type": "stream",
     "text": [
      "/opt/anaconda3/envs/gene/lib/python3.8/site-packages/sklearn/preprocessing/_label.py:98: DataConversionWarning: A column-vector y was passed when a 1d array was expected. Please change the shape of y to (n_samples, ), for example using ravel().\n",
      "  y = column_or_1d(y, warn=True)\n",
      "/opt/anaconda3/envs/gene/lib/python3.8/site-packages/sklearn/preprocessing/_label.py:133: DataConversionWarning: A column-vector y was passed when a 1d array was expected. Please change the shape of y to (n_samples, ), for example using ravel().\n",
      "  y = column_or_1d(y, warn=True)\n"
     ]
    },
    {
     "name": "stdout",
     "output_type": "stream",
     "text": [
      "[LightGBM] [Warning] min_data_in_leaf is set=10, min_child_samples=20 will be ignored. Current value: min_data_in_leaf=10\n",
      "[LightGBM] [Warning] lambda_l1 is set=0, reg_alpha=1.5 will be ignored. Current value: lambda_l1=0\n",
      "[LightGBM] [Warning] lambda_l2 is set=1, reg_lambda=1.5 will be ignored. Current value: lambda_l2=1\n",
      "[LightGBM] [Info] Number of positive: 5483, number of negative: 24923\n",
      "[LightGBM] [Warning] Auto-choosing col-wise multi-threading, the overhead of testing was 0.001698 seconds.\n",
      "You can set `force_col_wise=true` to remove the overhead.\n",
      "[LightGBM] [Info] Total Bins 3543\n",
      "[LightGBM] [Info] Number of data points in the train set: 30406, number of used features: 14\n",
      "[LightGBM] [Info] [binary:BoostFromScore]: pavg=0.180326 -> initscore=-1.514139\n",
      "[LightGBM] [Info] Start training from score -1.514139\n",
      "[LightGBM] [Warning] No further splits with positive gain, best gain: -inf\n"
     ]
    },
    {
     "name": "stderr",
     "output_type": "stream",
     "text": [
      "/opt/anaconda3/envs/gene/lib/python3.8/site-packages/sklearn/preprocessing/_label.py:98: DataConversionWarning: A column-vector y was passed when a 1d array was expected. Please change the shape of y to (n_samples, ), for example using ravel().\n",
      "  y = column_or_1d(y, warn=True)\n",
      "/opt/anaconda3/envs/gene/lib/python3.8/site-packages/sklearn/preprocessing/_label.py:133: DataConversionWarning: A column-vector y was passed when a 1d array was expected. Please change the shape of y to (n_samples, ), for example using ravel().\n",
      "  y = column_or_1d(y, warn=True)\n"
     ]
    },
    {
     "name": "stdout",
     "output_type": "stream",
     "text": [
      "[LightGBM] [Warning] min_data_in_leaf is set=10, min_child_samples=20 will be ignored. Current value: min_data_in_leaf=10\n",
      "[LightGBM] [Warning] lambda_l1 is set=0, reg_alpha=1.5 will be ignored. Current value: lambda_l1=0\n",
      "[LightGBM] [Warning] lambda_l2 is set=1, reg_lambda=1.5 will be ignored. Current value: lambda_l2=1\n",
      "[LightGBM] [Warning] min_data_in_leaf is set=10, min_child_samples=20 will be ignored. Current value: min_data_in_leaf=10\n",
      "[LightGBM] [Warning] lambda_l1 is set=0, reg_alpha=1.5 will be ignored. Current value: lambda_l1=0\n",
      "[LightGBM] [Warning] lambda_l2 is set=1, reg_lambda=1.5 will be ignored. Current value: lambda_l2=1\n",
      "[LightGBM] [Info] Number of positive: 5483, number of negative: 24923\n",
      "[LightGBM] [Warning] Auto-choosing col-wise multi-threading, the overhead of testing was 0.001399 seconds.\n",
      "You can set `force_col_wise=true` to remove the overhead.\n",
      "[LightGBM] [Info] Total Bins 3288\n",
      "[LightGBM] [Info] Number of data points in the train set: 30406, number of used features: 13\n",
      "[LightGBM] [Info] [binary:BoostFromScore]: pavg=0.180326 -> initscore=-1.514139\n",
      "[LightGBM] [Info] Start training from score -1.514139\n",
      "[LightGBM] [Warning] No further splits with positive gain, best gain: -inf\n"
     ]
    },
    {
     "name": "stderr",
     "output_type": "stream",
     "text": [
      "/opt/anaconda3/envs/gene/lib/python3.8/site-packages/sklearn/preprocessing/_label.py:98: DataConversionWarning: A column-vector y was passed when a 1d array was expected. Please change the shape of y to (n_samples, ), for example using ravel().\n",
      "  y = column_or_1d(y, warn=True)\n",
      "/opt/anaconda3/envs/gene/lib/python3.8/site-packages/sklearn/preprocessing/_label.py:133: DataConversionWarning: A column-vector y was passed when a 1d array was expected. Please change the shape of y to (n_samples, ), for example using ravel().\n",
      "  y = column_or_1d(y, warn=True)\n"
     ]
    },
    {
     "name": "stdout",
     "output_type": "stream",
     "text": [
      "[LightGBM] [Warning] min_data_in_leaf is set=10, min_child_samples=20 will be ignored. Current value: min_data_in_leaf=10\n",
      "[LightGBM] [Warning] lambda_l1 is set=0, reg_alpha=1.5 will be ignored. Current value: lambda_l1=0\n",
      "[LightGBM] [Warning] lambda_l2 is set=1, reg_lambda=1.5 will be ignored. Current value: lambda_l2=1\n",
      "[LightGBM] [Warning] min_data_in_leaf is set=10, min_child_samples=20 will be ignored. Current value: min_data_in_leaf=10\n",
      "[LightGBM] [Warning] lambda_l1 is set=0, reg_alpha=1.5 will be ignored. Current value: lambda_l1=0\n",
      "[LightGBM] [Warning] lambda_l2 is set=1, reg_lambda=1.5 will be ignored. Current value: lambda_l2=1\n",
      "[LightGBM] [Info] Number of positive: 5483, number of negative: 24923\n",
      "[LightGBM] [Warning] Auto-choosing col-wise multi-threading, the overhead of testing was 0.002127 seconds.\n",
      "You can set `force_col_wise=true` to remove the overhead.\n",
      "[LightGBM] [Info] Total Bins 3033\n",
      "[LightGBM] [Info] Number of data points in the train set: 30406, number of used features: 12\n",
      "[LightGBM] [Info] [binary:BoostFromScore]: pavg=0.180326 -> initscore=-1.514139\n",
      "[LightGBM] [Info] Start training from score -1.514139\n",
      "[LightGBM] [Warning] No further splits with positive gain, best gain: -inf\n"
     ]
    },
    {
     "name": "stderr",
     "output_type": "stream",
     "text": [
      "/opt/anaconda3/envs/gene/lib/python3.8/site-packages/sklearn/preprocessing/_label.py:98: DataConversionWarning: A column-vector y was passed when a 1d array was expected. Please change the shape of y to (n_samples, ), for example using ravel().\n",
      "  y = column_or_1d(y, warn=True)\n",
      "/opt/anaconda3/envs/gene/lib/python3.8/site-packages/sklearn/preprocessing/_label.py:133: DataConversionWarning: A column-vector y was passed when a 1d array was expected. Please change the shape of y to (n_samples, ), for example using ravel().\n",
      "  y = column_or_1d(y, warn=True)\n"
     ]
    },
    {
     "name": "stdout",
     "output_type": "stream",
     "text": [
      "[LightGBM] [Warning] min_data_in_leaf is set=10, min_child_samples=20 will be ignored. Current value: min_data_in_leaf=10\n",
      "[LightGBM] [Warning] lambda_l1 is set=0, reg_alpha=1.5 will be ignored. Current value: lambda_l1=0\n",
      "[LightGBM] [Warning] lambda_l2 is set=1, reg_lambda=1.5 will be ignored. Current value: lambda_l2=1\n",
      "[LightGBM] [Warning] min_data_in_leaf is set=10, min_child_samples=20 will be ignored. Current value: min_data_in_leaf=10\n",
      "[LightGBM] [Warning] lambda_l1 is set=0, reg_alpha=1.5 will be ignored. Current value: lambda_l1=0\n",
      "[LightGBM] [Warning] lambda_l2 is set=1, reg_lambda=1.5 will be ignored. Current value: lambda_l2=1\n",
      "[LightGBM] [Info] Number of positive: 5483, number of negative: 24923\n",
      "[LightGBM] [Warning] Auto-choosing col-wise multi-threading, the overhead of testing was 0.001142 seconds.\n",
      "You can set `force_col_wise=true` to remove the overhead.\n",
      "[LightGBM] [Info] Total Bins 2799\n",
      "[LightGBM] [Info] Number of data points in the train set: 30406, number of used features: 11\n",
      "[LightGBM] [Info] [binary:BoostFromScore]: pavg=0.180326 -> initscore=-1.514139\n",
      "[LightGBM] [Info] Start training from score -1.514139\n"
     ]
    },
    {
     "name": "stderr",
     "output_type": "stream",
     "text": [
      "/opt/anaconda3/envs/gene/lib/python3.8/site-packages/sklearn/preprocessing/_label.py:98: DataConversionWarning: A column-vector y was passed when a 1d array was expected. Please change the shape of y to (n_samples, ), for example using ravel().\n",
      "  y = column_or_1d(y, warn=True)\n",
      "/opt/anaconda3/envs/gene/lib/python3.8/site-packages/sklearn/preprocessing/_label.py:133: DataConversionWarning: A column-vector y was passed when a 1d array was expected. Please change the shape of y to (n_samples, ), for example using ravel().\n",
      "  y = column_or_1d(y, warn=True)\n"
     ]
    },
    {
     "name": "stdout",
     "output_type": "stream",
     "text": [
      "[LightGBM] [Warning] min_data_in_leaf is set=10, min_child_samples=20 will be ignored. Current value: min_data_in_leaf=10\n",
      "[LightGBM] [Warning] lambda_l1 is set=0, reg_alpha=1.5 will be ignored. Current value: lambda_l1=0\n",
      "[LightGBM] [Warning] lambda_l2 is set=1, reg_lambda=1.5 will be ignored. Current value: lambda_l2=1\n",
      "[LightGBM] [Warning] min_data_in_leaf is set=10, min_child_samples=20 will be ignored. Current value: min_data_in_leaf=10\n",
      "[LightGBM] [Warning] lambda_l1 is set=0, reg_alpha=1.5 will be ignored. Current value: lambda_l1=0\n",
      "[LightGBM] [Warning] lambda_l2 is set=1, reg_lambda=1.5 will be ignored. Current value: lambda_l2=1\n",
      "[LightGBM] [Info] Number of positive: 5483, number of negative: 24923\n",
      "[LightGBM] [Warning] Auto-choosing col-wise multi-threading, the overhead of testing was 0.001033 seconds.\n",
      "You can set `force_col_wise=true` to remove the overhead.\n",
      "[LightGBM] [Info] Total Bins 2544\n",
      "[LightGBM] [Info] Number of data points in the train set: 30406, number of used features: 10\n",
      "[LightGBM] [Info] [binary:BoostFromScore]: pavg=0.180326 -> initscore=-1.514139\n",
      "[LightGBM] [Info] Start training from score -1.514139\n",
      "[ True False False False False False False  True False False False False\n",
      "  True False False  True False  True False False  True  True False False\n",
      " False False False False False False False  True False  True False  True\n",
      " False False False False False False False False False False False False\n",
      " False False False False False False False False False False False False\n",
      " False False False False False]\n"
     ]
    },
    {
     "data": {
      "text/html": [
       "<div>\n",
       "<style scoped>\n",
       "    .dataframe tbody tr th:only-of-type {\n",
       "        vertical-align: middle;\n",
       "    }\n",
       "\n",
       "    .dataframe tbody tr th {\n",
       "        vertical-align: top;\n",
       "    }\n",
       "\n",
       "    .dataframe thead th {\n",
       "        text-align: right;\n",
       "    }\n",
       "</style>\n",
       "<table border=\"1\" class=\"dataframe\">\n",
       "  <thead>\n",
       "    <tr style=\"text-align: right;\">\n",
       "      <th></th>\n",
       "      <th>cols</th>\n",
       "      <th>fea_rank</th>\n",
       "    </tr>\n",
       "  </thead>\n",
       "  <tbody>\n",
       "    <tr>\n",
       "      <th>0</th>\n",
       "      <td>reads_count</td>\n",
       "      <td>1</td>\n",
       "    </tr>\n",
       "    <tr>\n",
       "      <th>21</th>\n",
       "      <td>mean_0_25</td>\n",
       "      <td>1</td>\n",
       "    </tr>\n",
       "    <tr>\n",
       "      <th>20</th>\n",
       "      <td>std_0_mean</td>\n",
       "      <td>1</td>\n",
       "    </tr>\n",
       "    <tr>\n",
       "      <th>35</th>\n",
       "      <td>mean_+1_75</td>\n",
       "      <td>1</td>\n",
       "    </tr>\n",
       "    <tr>\n",
       "      <th>17</th>\n",
       "      <td>std_0_25</td>\n",
       "      <td>1</td>\n",
       "    </tr>\n",
       "    <tr>\n",
       "      <th>...</th>\n",
       "      <td>...</td>\n",
       "      <td>...</td>\n",
       "    </tr>\n",
       "    <tr>\n",
       "      <th>53</th>\n",
       "      <td>position_4_A</td>\n",
       "      <td>52</td>\n",
       "    </tr>\n",
       "    <tr>\n",
       "      <th>52</th>\n",
       "      <td>position_3_T</td>\n",
       "      <td>53</td>\n",
       "    </tr>\n",
       "    <tr>\n",
       "      <th>48</th>\n",
       "      <td>position_2_T</td>\n",
       "      <td>54</td>\n",
       "    </tr>\n",
       "    <tr>\n",
       "      <th>47</th>\n",
       "      <td>position_2_G</td>\n",
       "      <td>55</td>\n",
       "    </tr>\n",
       "    <tr>\n",
       "      <th>50</th>\n",
       "      <td>position_3_C</td>\n",
       "      <td>56</td>\n",
       "    </tr>\n",
       "  </tbody>\n",
       "</table>\n",
       "<p>65 rows × 2 columns</p>\n",
       "</div>"
      ],
      "text/plain": [
       "            cols  fea_rank\n",
       "0    reads_count         1\n",
       "21     mean_0_25         1\n",
       "20    std_0_mean         1\n",
       "35    mean_+1_75         1\n",
       "17      std_0_25         1\n",
       "..           ...       ...\n",
       "53  position_4_A        52\n",
       "52  position_3_T        53\n",
       "48  position_2_T        54\n",
       "47  position_2_G        55\n",
       "50  position_3_C        56\n",
       "\n",
       "[65 rows x 2 columns]"
      ]
     },
     "execution_count": 32,
     "metadata": {},
     "output_type": "execute_result"
    }
   ],
   "source": [
    "#Recursive Feature Elimination(RFE)\n",
    "from sklearn.feature_selection import RFE\n",
    "\n",
    "# create the RFE model and select 10 attributes\n",
    "rfe = RFE(model,n_features_to_select=10)\n",
    "rfe = rfe.fit(X_train, y_train)\n",
    "\n",
    "# summarize the selection of the attributes\n",
    "print(rfe.support_)\n",
    "\n",
    "# summarize the ranking of the attributes\n",
    "fea_rank_ = pd.DataFrame({'cols':X_train.columns, 'fea_rank':rfe.ranking_})\n",
    "fea_rank_.loc[fea_rank_.fea_rank > 0].sort_values(by=['fea_rank'], ascending = True)\n"
   ]
  },
  {
   "cell_type": "code",
   "execution_count": 39,
   "metadata": {},
   "outputs": [],
   "source": [
    "top_few_fe = fea_rank_.loc[fea_rank_.fea_rank < 20].sort_values(by=['fea_rank'], ascending = True)['cols'].unique()\n",
    "X_train_fe = X_train[top_few_fe]\n",
    "X_val_fe = X_val[top_few_fe]\n",
    "X_test_fe = X_test[top_few_fe]"
   ]
  },
  {
   "cell_type": "code",
   "execution_count": 45,
   "metadata": {},
   "outputs": [
    {
     "name": "stdout",
     "output_type": "stream",
     "text": [
      "[LightGBM] [Warning] min_data_in_leaf is set=10, min_child_samples=20 will be ignored. Current value: min_data_in_leaf=10\n",
      "[LightGBM] [Warning] lambda_l1 is set=0, reg_alpha=1.5 will be ignored. Current value: lambda_l1=0\n",
      "[LightGBM] [Warning] lambda_l2 is set=1, reg_lambda=1.5 will be ignored. Current value: lambda_l2=1\n",
      "[LightGBM] [Warning] min_data_in_leaf is set=10, min_child_samples=20 will be ignored. Current value: min_data_in_leaf=10\n",
      "[LightGBM] [Warning] lambda_l1 is set=0, reg_alpha=1.5 will be ignored. Current value: lambda_l1=0\n",
      "[LightGBM] [Warning] lambda_l2 is set=1, reg_lambda=1.5 will be ignored. Current value: lambda_l2=1\n",
      "[LightGBM] [Info] Number of positive: 5483, number of negative: 24923\n",
      "[LightGBM] [Warning] Auto-choosing col-wise multi-threading, the overhead of testing was 0.003347 seconds.\n",
      "You can set `force_col_wise=true` to remove the overhead.\n",
      "[LightGBM] [Info] Total Bins 7070\n",
      "[LightGBM] [Info] Number of data points in the train set: 30406, number of used features: 28\n",
      "[LightGBM] [Warning] min_data_in_leaf is set=10, min_child_samples=20 will be ignored. Current value: min_data_in_leaf=10\n",
      "[LightGBM] [Warning] lambda_l1 is set=0, reg_alpha=1.5 will be ignored. Current value: lambda_l1=0\n",
      "[LightGBM] [Warning] lambda_l2 is set=1, reg_lambda=1.5 will be ignored. Current value: lambda_l2=1\n",
      "[LightGBM] [Info] [binary:BoostFromScore]: pavg=0.180326 -> initscore=-1.514139\n",
      "[LightGBM] [Info] Start training from score -1.514139\n",
      "[1]\ttraining's binary_logloss: 0.415323\tvalid_0's binary_logloss: 0.271236\n",
      "[2]\ttraining's binary_logloss: 0.383197\tvalid_0's binary_logloss: 0.307377\n",
      "[3]\ttraining's binary_logloss: 0.360808\tvalid_0's binary_logloss: 0.301701\n",
      "[4]\ttraining's binary_logloss: 0.344297\tvalid_0's binary_logloss: 0.343109\n",
      "[5]\ttraining's binary_logloss: 0.331493\tvalid_0's binary_logloss: 0.390092\n",
      "[6]\ttraining's binary_logloss: 0.32123\tvalid_0's binary_logloss: 0.376925\n",
      "[7]\ttraining's binary_logloss: 0.313089\tvalid_0's binary_logloss: 0.352966\n",
      "[8]\ttraining's binary_logloss: 0.306023\tvalid_0's binary_logloss: 0.377408\n",
      "[9]\ttraining's binary_logloss: 0.300136\tvalid_0's binary_logloss: 0.40205\n",
      "[10]\ttraining's binary_logloss: 0.29451\tvalid_0's binary_logloss: 0.377173\n",
      "[11]\ttraining's binary_logloss: 0.289979\tvalid_0's binary_logloss: 0.365091\n",
      "[12]\ttraining's binary_logloss: 0.285759\tvalid_0's binary_logloss: 0.34857\n",
      "[13]\ttraining's binary_logloss: 0.281591\tvalid_0's binary_logloss: 0.334134\n",
      "[14]\ttraining's binary_logloss: 0.278212\tvalid_0's binary_logloss: 0.347978\n",
      "[15]\ttraining's binary_logloss: 0.274749\tvalid_0's binary_logloss: 0.328941\n",
      "[16]\ttraining's binary_logloss: 0.271525\tvalid_0's binary_logloss: 0.31672\n",
      "[17]\ttraining's binary_logloss: 0.267676\tvalid_0's binary_logloss: 0.313632\n",
      "[18]\ttraining's binary_logloss: 0.265055\tvalid_0's binary_logloss: 0.320661\n",
      "[19]\ttraining's binary_logloss: 0.261695\tvalid_0's binary_logloss: 0.321316\n",
      "[20]\ttraining's binary_logloss: 0.258831\tvalid_0's binary_logloss: 0.314317\n",
      "[21]\ttraining's binary_logloss: 0.256314\tvalid_0's binary_logloss: 0.319508\n",
      "[22]\ttraining's binary_logloss: 0.25402\tvalid_0's binary_logloss: 0.313396\n",
      "[23]\ttraining's binary_logloss: 0.251486\tvalid_0's binary_logloss: 0.301835\n",
      "[24]\ttraining's binary_logloss: 0.249216\tvalid_0's binary_logloss: 0.305081\n",
      "[25]\ttraining's binary_logloss: 0.246997\tvalid_0's binary_logloss: 0.286867\n",
      "[26]\ttraining's binary_logloss: 0.244349\tvalid_0's binary_logloss: 0.292863\n",
      "[27]\ttraining's binary_logloss: 0.242252\tvalid_0's binary_logloss: 0.277479\n",
      "[28]\ttraining's binary_logloss: 0.240146\tvalid_0's binary_logloss: 0.287886\n",
      "[29]\ttraining's binary_logloss: 0.237915\tvalid_0's binary_logloss: 0.310162\n",
      "[30]\ttraining's binary_logloss: 0.235858\tvalid_0's binary_logloss: 0.320672\n",
      "[31]\ttraining's binary_logloss: 0.233948\tvalid_0's binary_logloss: 0.307624\n",
      "[32]\ttraining's binary_logloss: 0.232095\tvalid_0's binary_logloss: 0.326715\n",
      "[33]\ttraining's binary_logloss: 0.229999\tvalid_0's binary_logloss: 0.352422\n",
      "[34]\ttraining's binary_logloss: 0.228376\tvalid_0's binary_logloss: 0.346267\n",
      "[35]\ttraining's binary_logloss: 0.226984\tvalid_0's binary_logloss: 0.355191\n",
      "[36]\ttraining's binary_logloss: 0.225188\tvalid_0's binary_logloss: 0.368526\n",
      "[37]\ttraining's binary_logloss: 0.22335\tvalid_0's binary_logloss: 0.393975\n",
      "[38]\ttraining's binary_logloss: 0.221761\tvalid_0's binary_logloss: 0.380215\n",
      "[39]\ttraining's binary_logloss: 0.220293\tvalid_0's binary_logloss: 0.353477\n",
      "[40]\ttraining's binary_logloss: 0.219013\tvalid_0's binary_logloss: 0.348885\n",
      "[41]\ttraining's binary_logloss: 0.217295\tvalid_0's binary_logloss: 0.341354\n",
      "[42]\ttraining's binary_logloss: 0.215783\tvalid_0's binary_logloss: 0.328226\n",
      "[43]\ttraining's binary_logloss: 0.214165\tvalid_0's binary_logloss: 0.317371\n",
      "[44]\ttraining's binary_logloss: 0.212844\tvalid_0's binary_logloss: 0.31787\n",
      "[45]\ttraining's binary_logloss: 0.211514\tvalid_0's binary_logloss: 0.299939\n",
      "[46]\ttraining's binary_logloss: 0.210308\tvalid_0's binary_logloss: 0.28226\n",
      "[47]\ttraining's binary_logloss: 0.208848\tvalid_0's binary_logloss: 0.265112\n",
      "[48]\ttraining's binary_logloss: 0.207429\tvalid_0's binary_logloss: 0.282362\n",
      "[49]\ttraining's binary_logloss: 0.205938\tvalid_0's binary_logloss: 0.269145\n",
      "[50]\ttraining's binary_logloss: 0.204641\tvalid_0's binary_logloss: 0.272961\n",
      "[51]\ttraining's binary_logloss: 0.203467\tvalid_0's binary_logloss: 0.259373\n",
      "[52]\ttraining's binary_logloss: 0.202187\tvalid_0's binary_logloss: 0.253281\n",
      "[53]\ttraining's binary_logloss: 0.200897\tvalid_0's binary_logloss: 0.243016\n",
      "[54]\ttraining's binary_logloss: 0.199545\tvalid_0's binary_logloss: 0.233351\n",
      "[55]\ttraining's binary_logloss: 0.198267\tvalid_0's binary_logloss: 0.233496\n",
      "[56]\ttraining's binary_logloss: 0.196697\tvalid_0's binary_logloss: 0.226513\n",
      "[57]\ttraining's binary_logloss: 0.195336\tvalid_0's binary_logloss: 0.232226\n",
      "[58]\ttraining's binary_logloss: 0.194137\tvalid_0's binary_logloss: 0.228824\n",
      "[59]\ttraining's binary_logloss: 0.192869\tvalid_0's binary_logloss: 0.228872\n",
      "[60]\ttraining's binary_logloss: 0.191829\tvalid_0's binary_logloss: 0.229014\n",
      "[61]\ttraining's binary_logloss: 0.190859\tvalid_0's binary_logloss: 0.222232\n",
      "[62]\ttraining's binary_logloss: 0.189703\tvalid_0's binary_logloss: 0.217702\n",
      "[63]\ttraining's binary_logloss: 0.18847\tvalid_0's binary_logloss: 0.217743\n",
      "[64]\ttraining's binary_logloss: 0.187087\tvalid_0's binary_logloss: 0.213584\n",
      "[65]\ttraining's binary_logloss: 0.186125\tvalid_0's binary_logloss: 0.209693\n",
      "[66]\ttraining's binary_logloss: 0.185063\tvalid_0's binary_logloss: 0.206624\n",
      "[67]\ttraining's binary_logloss: 0.183808\tvalid_0's binary_logloss: 0.203474\n",
      "[68]\ttraining's binary_logloss: 0.182698\tvalid_0's binary_logloss: 0.20446\n",
      "[69]\ttraining's binary_logloss: 0.181741\tvalid_0's binary_logloss: 0.204444\n",
      "[70]\ttraining's binary_logloss: 0.180599\tvalid_0's binary_logloss: 0.2045\n",
      "[71]\ttraining's binary_logloss: 0.179697\tvalid_0's binary_logloss: 0.202795\n",
      "[72]\ttraining's binary_logloss: 0.178507\tvalid_0's binary_logloss: 0.202071\n",
      "[73]\ttraining's binary_logloss: 0.177163\tvalid_0's binary_logloss: 0.201114\n",
      "[74]\ttraining's binary_logloss: 0.176082\tvalid_0's binary_logloss: 0.201739\n",
      "[75]\ttraining's binary_logloss: 0.175109\tvalid_0's binary_logloss: 0.202419\n",
      "[76]\ttraining's binary_logloss: 0.17412\tvalid_0's binary_logloss: 0.202455\n",
      "[77]\ttraining's binary_logloss: 0.173189\tvalid_0's binary_logloss: 0.202463\n",
      "[78]\ttraining's binary_logloss: 0.172109\tvalid_0's binary_logloss: 0.200966\n",
      "[79]\ttraining's binary_logloss: 0.171197\tvalid_0's binary_logloss: 0.200528\n",
      "[80]\ttraining's binary_logloss: 0.170329\tvalid_0's binary_logloss: 0.200696\n",
      "[81]\ttraining's binary_logloss: 0.169331\tvalid_0's binary_logloss: 0.200576\n",
      "[82]\ttraining's binary_logloss: 0.16848\tvalid_0's binary_logloss: 0.200504\n",
      "[83]\ttraining's binary_logloss: 0.167385\tvalid_0's binary_logloss: 0.200535\n",
      "[84]\ttraining's binary_logloss: 0.166309\tvalid_0's binary_logloss: 0.200816\n",
      "[85]\ttraining's binary_logloss: 0.165205\tvalid_0's binary_logloss: 0.200801\n",
      "[86]\ttraining's binary_logloss: 0.164357\tvalid_0's binary_logloss: 0.200451\n",
      "[87]\ttraining's binary_logloss: 0.163362\tvalid_0's binary_logloss: 0.200446\n",
      "[88]\ttraining's binary_logloss: 0.162517\tvalid_0's binary_logloss: 0.200616\n",
      "[89]\ttraining's binary_logloss: 0.161399\tvalid_0's binary_logloss: 0.200644\n",
      "[90]\ttraining's binary_logloss: 0.160425\tvalid_0's binary_logloss: 0.201182\n",
      "[91]\ttraining's binary_logloss: 0.159588\tvalid_0's binary_logloss: 0.201507\n",
      "[92]\ttraining's binary_logloss: 0.158647\tvalid_0's binary_logloss: 0.201853\n",
      "[93]\ttraining's binary_logloss: 0.15781\tvalid_0's binary_logloss: 0.201108\n",
      "[94]\ttraining's binary_logloss: 0.15679\tvalid_0's binary_logloss: 0.202443\n",
      "[95]\ttraining's binary_logloss: 0.15604\tvalid_0's binary_logloss: 0.203915\n",
      "[96]\ttraining's binary_logloss: 0.155172\tvalid_0's binary_logloss: 0.202918\n",
      "[97]\ttraining's binary_logloss: 0.154342\tvalid_0's binary_logloss: 0.202896\n",
      "[98]\ttraining's binary_logloss: 0.153651\tvalid_0's binary_logloss: 0.202068\n",
      "[99]\ttraining's binary_logloss: 0.152676\tvalid_0's binary_logloss: 0.203474\n",
      "[100]\ttraining's binary_logloss: 0.151982\tvalid_0's binary_logloss: 0.20511\n",
      "[101]\ttraining's binary_logloss: 0.151188\tvalid_0's binary_logloss: 0.207327\n",
      "[102]\ttraining's binary_logloss: 0.150494\tvalid_0's binary_logloss: 0.208145\n",
      "[103]\ttraining's binary_logloss: 0.149776\tvalid_0's binary_logloss: 0.211482\n",
      "[104]\ttraining's binary_logloss: 0.148918\tvalid_0's binary_logloss: 0.214743\n",
      "[105]\ttraining's binary_logloss: 0.147995\tvalid_0's binary_logloss: 0.214706\n",
      "[106]\ttraining's binary_logloss: 0.147189\tvalid_0's binary_logloss: 0.216876\n",
      "[107]\ttraining's binary_logloss: 0.146164\tvalid_0's binary_logloss: 0.220072\n",
      "[108]\ttraining's binary_logloss: 0.145384\tvalid_0's binary_logloss: 0.221957\n",
      "[109]\ttraining's binary_logloss: 0.144629\tvalid_0's binary_logloss: 0.219601\n",
      "[110]\ttraining's binary_logloss: 0.143905\tvalid_0's binary_logloss: 0.223821\n",
      "[111]\ttraining's binary_logloss: 0.143319\tvalid_0's binary_logloss: 0.227036\n",
      "[112]\ttraining's binary_logloss: 0.142689\tvalid_0's binary_logloss: 0.224482\n",
      "[113]\ttraining's binary_logloss: 0.142031\tvalid_0's binary_logloss: 0.223179\n",
      "[114]\ttraining's binary_logloss: 0.141239\tvalid_0's binary_logloss: 0.225371\n",
      "[115]\ttraining's binary_logloss: 0.140724\tvalid_0's binary_logloss: 0.230105\n",
      "[116]\ttraining's binary_logloss: 0.139972\tvalid_0's binary_logloss: 0.230137\n",
      "[117]\ttraining's binary_logloss: 0.139295\tvalid_0's binary_logloss: 0.22806\n",
      "[118]\ttraining's binary_logloss: 0.138554\tvalid_0's binary_logloss: 0.231988\n",
      "[119]\ttraining's binary_logloss: 0.137897\tvalid_0's binary_logloss: 0.230786\n",
      "[120]\ttraining's binary_logloss: 0.13719\tvalid_0's binary_logloss: 0.229437\n",
      "[121]\ttraining's binary_logloss: 0.136445\tvalid_0's binary_logloss: 0.228686\n",
      "[122]\ttraining's binary_logloss: 0.135865\tvalid_0's binary_logloss: 0.232095\n",
      "[123]\ttraining's binary_logloss: 0.13521\tvalid_0's binary_logloss: 0.230866\n",
      "[124]\ttraining's binary_logloss: 0.134177\tvalid_0's binary_logloss: 0.230581\n",
      "[125]\ttraining's binary_logloss: 0.133529\tvalid_0's binary_logloss: 0.227885\n",
      "[126]\ttraining's binary_logloss: 0.132681\tvalid_0's binary_logloss: 0.226709\n",
      "[127]\ttraining's binary_logloss: 0.131906\tvalid_0's binary_logloss: 0.230384\n",
      "[128]\ttraining's binary_logloss: 0.131192\tvalid_0's binary_logloss: 0.230835\n",
      "[129]\ttraining's binary_logloss: 0.130648\tvalid_0's binary_logloss: 0.234722\n",
      "[130]\ttraining's binary_logloss: 0.129873\tvalid_0's binary_logloss: 0.238555\n",
      "[131]\ttraining's binary_logloss: 0.129095\tvalid_0's binary_logloss: 0.241102\n",
      "[132]\ttraining's binary_logloss: 0.128447\tvalid_0's binary_logloss: 0.238698\n",
      "[133]\ttraining's binary_logloss: 0.127841\tvalid_0's binary_logloss: 0.241021\n",
      "[134]\ttraining's binary_logloss: 0.127212\tvalid_0's binary_logloss: 0.239388\n",
      "[135]\ttraining's binary_logloss: 0.126568\tvalid_0's binary_logloss: 0.23944\n",
      "Accuracy of random forest classifier on validation set using 25th quantile: 0.95\n",
      "Accuracy of random forest classifier on test set using 25th quantile: 0.95\n"
     ]
    },
    {
     "data": {
      "image/png": "[encoded data removed]",
      "text/plain": [
       "<Figure size 400x300 with 1 Axes>"
      ]
     },
     "metadata": {},
     "output_type": "display_data"
    },
    {
     "data": {
      "image/png": "[encoded data removed]",
      "text/plain": [
       "<Figure size 400x300 with 1 Axes>"
      ]
     },
     "metadata": {},
     "output_type": "display_data"
    }
   ],
   "source": [
    "lgbmodel(X_train_fe, y_train.values.ravel(), X_val_fe, y_val.values.ravel(), X_test_fe, y_test.values.ravel(), \"25th quantile\")"
   ]
  },
  {
   "cell_type": "code",
   "execution_count": 50,
   "metadata": {},
   "outputs": [],
   "source": [
    "#fea_imp_ = pd.DataFrame({'cols':X_train.columns, 'fea_imp':model.feature_importances_})\n",
    "top_few_imp = fea_imp_.loc[fea_imp_.fea_imp > 0].sort_values(by=['fea_imp'], ascending = False)['cols'].unique()\n",
    "X_train_imp = X_train[top_few_imp]\n",
    "X_val_imp = X_val[top_few_imp]\n",
    "X_test_imp = X_test[top_few_imp]"
   ]
  },
  {
   "cell_type": "code",
   "execution_count": 51,
   "metadata": {},
   "outputs": [
    {
     "name": "stdout",
     "output_type": "stream",
     "text": [
      "[LightGBM] [Warning] min_data_in_leaf is set=10, min_child_samples=20 will be ignored. Current value: min_data_in_leaf=10\n",
      "[LightGBM] [Warning] lambda_l1 is set=0, reg_alpha=1.5 will be ignored. Current value: lambda_l1=0\n",
      "[LightGBM] [Warning] lambda_l2 is set=1, reg_lambda=1.5 will be ignored. Current value: lambda_l2=1\n",
      "[LightGBM] [Warning] min_data_in_leaf is set=10, min_child_samples=20 will be ignored. Current value: min_data_in_leaf=10\n",
      "[LightGBM] [Warning] lambda_l1 is set=0, reg_alpha=1.5 will be ignored. Current value: lambda_l1=0\n",
      "[LightGBM] [Warning] lambda_l2 is set=1, reg_lambda=1.5 will be ignored. Current value: lambda_l2=1\n",
      "[LightGBM] [Info] Number of positive: 5483, number of negative: 24923\n",
      "[LightGBM] [Warning] Auto-choosing col-wise multi-threading, the overhead of testing was 0.004758 seconds.\n",
      "You can set `force_col_wise=true` to remove the overhead.\n",
      "[LightGBM] [Info] Total Bins 9363\n",
      "[LightGBM] [Info] Number of data points in the train set: 30406, number of used features: 52\n",
      "[LightGBM] [Warning] min_data_in_leaf is set=10, min_child_samples=20 will be ignored. Current value: min_data_in_leaf=10\n",
      "[LightGBM] [Warning] lambda_l1 is set=0, reg_alpha=1.5 will be ignored. Current value: lambda_l1=0\n",
      "[LightGBM] [Warning] lambda_l2 is set=1, reg_lambda=1.5 will be ignored. Current value: lambda_l2=1\n",
      "[LightGBM] [Info] [binary:BoostFromScore]: pavg=0.180326 -> initscore=-1.514139\n",
      "[LightGBM] [Info] Start training from score -1.514139\n",
      "[1]\ttraining's binary_logloss: 0.414036\tvalid_0's binary_logloss: 0.266213\n",
      "[2]\ttraining's binary_logloss: 0.378105\tvalid_0's binary_logloss: 0.253971\n",
      "[3]\ttraining's binary_logloss: 0.354219\tvalid_0's binary_logloss: 0.241831\n",
      "[4]\ttraining's binary_logloss: 0.336727\tvalid_0's binary_logloss: 0.231955\n",
      "[5]\ttraining's binary_logloss: 0.323609\tvalid_0's binary_logloss: 0.225072\n",
      "[6]\ttraining's binary_logloss: 0.312129\tvalid_0's binary_logloss: 0.219336\n",
      "[7]\ttraining's binary_logloss: 0.3038\tvalid_0's binary_logloss: 0.214036\n",
      "[8]\ttraining's binary_logloss: 0.295624\tvalid_0's binary_logloss: 0.210023\n",
      "[9]\ttraining's binary_logloss: 0.28975\tvalid_0's binary_logloss: 0.206308\n",
      "[10]\ttraining's binary_logloss: 0.283865\tvalid_0's binary_logloss: 0.207449\n",
      "[11]\ttraining's binary_logloss: 0.279054\tvalid_0's binary_logloss: 0.204491\n",
      "[12]\ttraining's binary_logloss: 0.274149\tvalid_0's binary_logloss: 0.20321\n",
      "[13]\ttraining's binary_logloss: 0.270106\tvalid_0's binary_logloss: 0.202674\n",
      "[14]\ttraining's binary_logloss: 0.265972\tvalid_0's binary_logloss: 0.200472\n",
      "[15]\ttraining's binary_logloss: 0.261985\tvalid_0's binary_logloss: 0.19803\n",
      "[16]\ttraining's binary_logloss: 0.257712\tvalid_0's binary_logloss: 0.196917\n",
      "[17]\ttraining's binary_logloss: 0.25434\tvalid_0's binary_logloss: 0.195228\n",
      "[18]\ttraining's binary_logloss: 0.251186\tvalid_0's binary_logloss: 0.197722\n",
      "[19]\ttraining's binary_logloss: 0.248316\tvalid_0's binary_logloss: 0.201392\n",
      "[20]\ttraining's binary_logloss: 0.245708\tvalid_0's binary_logloss: 0.203749\n",
      "[21]\ttraining's binary_logloss: 0.242388\tvalid_0's binary_logloss: 0.2025\n",
      "[22]\ttraining's binary_logloss: 0.240151\tvalid_0's binary_logloss: 0.201827\n",
      "[23]\ttraining's binary_logloss: 0.237748\tvalid_0's binary_logloss: 0.200131\n",
      "[24]\ttraining's binary_logloss: 0.234854\tvalid_0's binary_logloss: 0.200639\n",
      "[25]\ttraining's binary_logloss: 0.232834\tvalid_0's binary_logloss: 0.198649\n",
      "[26]\ttraining's binary_logloss: 0.230449\tvalid_0's binary_logloss: 0.198408\n",
      "[27]\ttraining's binary_logloss: 0.228447\tvalid_0's binary_logloss: 0.197837\n",
      "[28]\ttraining's binary_logloss: 0.226314\tvalid_0's binary_logloss: 0.196979\n",
      "[29]\ttraining's binary_logloss: 0.224477\tvalid_0's binary_logloss: 0.19814\n",
      "[30]\ttraining's binary_logloss: 0.222185\tvalid_0's binary_logloss: 0.196552\n",
      "[31]\ttraining's binary_logloss: 0.220145\tvalid_0's binary_logloss: 0.196311\n",
      "[32]\ttraining's binary_logloss: 0.218311\tvalid_0's binary_logloss: 0.196075\n",
      "[33]\ttraining's binary_logloss: 0.216319\tvalid_0's binary_logloss: 0.19605\n",
      "[34]\ttraining's binary_logloss: 0.214152\tvalid_0's binary_logloss: 0.196086\n",
      "[35]\ttraining's binary_logloss: 0.212089\tvalid_0's binary_logloss: 0.196032\n",
      "[36]\ttraining's binary_logloss: 0.210326\tvalid_0's binary_logloss: 0.195988\n",
      "[37]\ttraining's binary_logloss: 0.208669\tvalid_0's binary_logloss: 0.196281\n",
      "[38]\ttraining's binary_logloss: 0.206868\tvalid_0's binary_logloss: 0.196883\n",
      "[39]\ttraining's binary_logloss: 0.205426\tvalid_0's binary_logloss: 0.197593\n",
      "[40]\ttraining's binary_logloss: 0.204198\tvalid_0's binary_logloss: 0.199658\n",
      "[41]\ttraining's binary_logloss: 0.202454\tvalid_0's binary_logloss: 0.200646\n",
      "[42]\ttraining's binary_logloss: 0.200893\tvalid_0's binary_logloss: 0.199897\n",
      "[43]\ttraining's binary_logloss: 0.199209\tvalid_0's binary_logloss: 0.202039\n",
      "[44]\ttraining's binary_logloss: 0.19766\tvalid_0's binary_logloss: 0.205202\n",
      "[45]\ttraining's binary_logloss: 0.196432\tvalid_0's binary_logloss: 0.206052\n",
      "[46]\ttraining's binary_logloss: 0.194904\tvalid_0's binary_logloss: 0.20988\n",
      "[47]\ttraining's binary_logloss: 0.193333\tvalid_0's binary_logloss: 0.208408\n",
      "[48]\ttraining's binary_logloss: 0.192057\tvalid_0's binary_logloss: 0.212566\n",
      "[49]\ttraining's binary_logloss: 0.190334\tvalid_0's binary_logloss: 0.209685\n",
      "[50]\ttraining's binary_logloss: 0.188909\tvalid_0's binary_logloss: 0.210698\n",
      "[51]\ttraining's binary_logloss: 0.187604\tvalid_0's binary_logloss: 0.211589\n",
      "[52]\ttraining's binary_logloss: 0.186355\tvalid_0's binary_logloss: 0.212291\n",
      "[LightGBM] [Warning] No further splits with positive gain, best gain: -inf\n",
      "[53]\ttraining's binary_logloss: 0.185701\tvalid_0's binary_logloss: 0.212444\n",
      "[54]\ttraining's binary_logloss: 0.184386\tvalid_0's binary_logloss: 0.215267\n",
      "[55]\ttraining's binary_logloss: 0.182969\tvalid_0's binary_logloss: 0.215858\n",
      "[56]\ttraining's binary_logloss: 0.181684\tvalid_0's binary_logloss: 0.209535\n",
      "[57]\ttraining's binary_logloss: 0.180382\tvalid_0's binary_logloss: 0.210714\n",
      "[58]\ttraining's binary_logloss: 0.179337\tvalid_0's binary_logloss: 0.210716\n",
      "[59]\ttraining's binary_logloss: 0.177943\tvalid_0's binary_logloss: 0.210653\n",
      "[60]\ttraining's binary_logloss: 0.176307\tvalid_0's binary_logloss: 0.214786\n",
      "[61]\ttraining's binary_logloss: 0.175136\tvalid_0's binary_logloss: 0.213137\n",
      "[62]\ttraining's binary_logloss: 0.173753\tvalid_0's binary_logloss: 0.211997\n",
      "[63]\ttraining's binary_logloss: 0.17256\tvalid_0's binary_logloss: 0.213608\n",
      "[64]\ttraining's binary_logloss: 0.171438\tvalid_0's binary_logloss: 0.208482\n",
      "[65]\ttraining's binary_logloss: 0.170434\tvalid_0's binary_logloss: 0.211013\n",
      "[66]\ttraining's binary_logloss: 0.169379\tvalid_0's binary_logloss: 0.206608\n",
      "[67]\ttraining's binary_logloss: 0.168371\tvalid_0's binary_logloss: 0.209746\n",
      "[68]\ttraining's binary_logloss: 0.167279\tvalid_0's binary_logloss: 0.210829\n",
      "[69]\ttraining's binary_logloss: 0.166109\tvalid_0's binary_logloss: 0.209824\n",
      "[LightGBM] [Warning] No further splits with positive gain, best gain: -inf\n",
      "[70]\ttraining's binary_logloss: 0.165549\tvalid_0's binary_logloss: 0.211034\n",
      "[71]\ttraining's binary_logloss: 0.164658\tvalid_0's binary_logloss: 0.209004\n",
      "[72]\ttraining's binary_logloss: 0.163343\tvalid_0's binary_logloss: 0.208916\n",
      "[73]\ttraining's binary_logloss: 0.162285\tvalid_0's binary_logloss: 0.210114\n",
      "[74]\ttraining's binary_logloss: 0.160977\tvalid_0's binary_logloss: 0.210021\n",
      "[75]\ttraining's binary_logloss: 0.15992\tvalid_0's binary_logloss: 0.209917\n",
      "[76]\ttraining's binary_logloss: 0.158731\tvalid_0's binary_logloss: 0.214142\n",
      "[77]\ttraining's binary_logloss: 0.157815\tvalid_0's binary_logloss: 0.214145\n",
      "[78]\ttraining's binary_logloss: 0.156783\tvalid_0's binary_logloss: 0.218636\n",
      "[79]\ttraining's binary_logloss: 0.155673\tvalid_0's binary_logloss: 0.221568\n",
      "[80]\ttraining's binary_logloss: 0.15475\tvalid_0's binary_logloss: 0.22477\n",
      "[81]\ttraining's binary_logloss: 0.153836\tvalid_0's binary_logloss: 0.222703\n",
      "[82]\ttraining's binary_logloss: 0.152913\tvalid_0's binary_logloss: 0.227792\n",
      "[83]\ttraining's binary_logloss: 0.152064\tvalid_0's binary_logloss: 0.223164\n",
      "[84]\ttraining's binary_logloss: 0.151104\tvalid_0's binary_logloss: 0.225254\n",
      "[85]\ttraining's binary_logloss: 0.150225\tvalid_0's binary_logloss: 0.225799\n",
      "[LightGBM] [Warning] No further splits with positive gain, best gain: -inf\n",
      "[86]\ttraining's binary_logloss: 0.14983\tvalid_0's binary_logloss: 0.226764\n",
      "[87]\ttraining's binary_logloss: 0.148896\tvalid_0's binary_logloss: 0.225811\n",
      "[88]\ttraining's binary_logloss: 0.147925\tvalid_0's binary_logloss: 0.228759\n",
      "[89]\ttraining's binary_logloss: 0.147135\tvalid_0's binary_logloss: 0.22809\n",
      "[90]\ttraining's binary_logloss: 0.146261\tvalid_0's binary_logloss: 0.230621\n",
      "[91]\ttraining's binary_logloss: 0.145362\tvalid_0's binary_logloss: 0.22744\n",
      "[92]\ttraining's binary_logloss: 0.144232\tvalid_0's binary_logloss: 0.232452\n",
      "[93]\ttraining's binary_logloss: 0.14329\tvalid_0's binary_logloss: 0.237904\n",
      "[94]\ttraining's binary_logloss: 0.142529\tvalid_0's binary_logloss: 0.237209\n",
      "[95]\ttraining's binary_logloss: 0.141684\tvalid_0's binary_logloss: 0.23997\n",
      "[96]\ttraining's binary_logloss: 0.140876\tvalid_0's binary_logloss: 0.240005\n",
      "[97]\ttraining's binary_logloss: 0.140079\tvalid_0's binary_logloss: 0.245282\n",
      "[98]\ttraining's binary_logloss: 0.13907\tvalid_0's binary_logloss: 0.24518\n",
      "[99]\ttraining's binary_logloss: 0.138318\tvalid_0's binary_logloss: 0.24953\n",
      "[100]\ttraining's binary_logloss: 0.137434\tvalid_0's binary_logloss: 0.249448\n",
      "[101]\ttraining's binary_logloss: 0.136408\tvalid_0's binary_logloss: 0.252058\n",
      "[102]\ttraining's binary_logloss: 0.135598\tvalid_0's binary_logloss: 0.251175\n",
      "[103]\ttraining's binary_logloss: 0.134961\tvalid_0's binary_logloss: 0.254276\n",
      "[104]\ttraining's binary_logloss: 0.134156\tvalid_0's binary_logloss: 0.25481\n",
      "[105]\ttraining's binary_logloss: 0.133506\tvalid_0's binary_logloss: 0.249781\n",
      "[106]\ttraining's binary_logloss: 0.132639\tvalid_0's binary_logloss: 0.249881\n",
      "[107]\ttraining's binary_logloss: 0.131663\tvalid_0's binary_logloss: 0.249903\n",
      "[108]\ttraining's binary_logloss: 0.130778\tvalid_0's binary_logloss: 0.249746\n",
      "[109]\ttraining's binary_logloss: 0.129994\tvalid_0's binary_logloss: 0.253422\n",
      "[110]\ttraining's binary_logloss: 0.129083\tvalid_0's binary_logloss: 0.253731\n",
      "[111]\ttraining's binary_logloss: 0.128476\tvalid_0's binary_logloss: 0.257171\n",
      "[112]\ttraining's binary_logloss: 0.127598\tvalid_0's binary_logloss: 0.257074\n",
      "[113]\ttraining's binary_logloss: 0.12671\tvalid_0's binary_logloss: 0.260316\n",
      "[114]\ttraining's binary_logloss: 0.12576\tvalid_0's binary_logloss: 0.260211\n",
      "[115]\ttraining's binary_logloss: 0.125086\tvalid_0's binary_logloss: 0.260174\n",
      "[116]\ttraining's binary_logloss: 0.124444\tvalid_0's binary_logloss: 0.260158\n",
      "[117]\ttraining's binary_logloss: 0.123685\tvalid_0's binary_logloss: 0.265153\n",
      "[118]\ttraining's binary_logloss: 0.122839\tvalid_0's binary_logloss: 0.268254\n",
      "[119]\ttraining's binary_logloss: 0.122079\tvalid_0's binary_logloss: 0.268197\n",
      "[120]\ttraining's binary_logloss: 0.121544\tvalid_0's binary_logloss: 0.271437\n",
      "[LightGBM] [Warning] No further splits with positive gain, best gain: -inf\n",
      "[121]\ttraining's binary_logloss: 0.121035\tvalid_0's binary_logloss: 0.273909\n",
      "[LightGBM] [Warning] No further splits with positive gain, best gain: -inf\n",
      "[122]\ttraining's binary_logloss: 0.12072\tvalid_0's binary_logloss: 0.279315\n",
      "[123]\ttraining's binary_logloss: 0.120049\tvalid_0's binary_logloss: 0.278878\n",
      "[124]\ttraining's binary_logloss: 0.119242\tvalid_0's binary_logloss: 0.279736\n",
      "[125]\ttraining's binary_logloss: 0.118298\tvalid_0's binary_logloss: 0.283218\n",
      "[126]\ttraining's binary_logloss: 0.117557\tvalid_0's binary_logloss: 0.283173\n",
      "[127]\ttraining's binary_logloss: 0.116967\tvalid_0's binary_logloss: 0.28317\n",
      "[128]\ttraining's binary_logloss: 0.116433\tvalid_0's binary_logloss: 0.288281\n",
      "[129]\ttraining's binary_logloss: 0.115822\tvalid_0's binary_logloss: 0.288855\n",
      "[130]\ttraining's binary_logloss: 0.115074\tvalid_0's binary_logloss: 0.288909\n",
      "[131]\ttraining's binary_logloss: 0.114336\tvalid_0's binary_logloss: 0.288715\n",
      "[132]\ttraining's binary_logloss: 0.113784\tvalid_0's binary_logloss: 0.288672\n",
      "[133]\ttraining's binary_logloss: 0.113193\tvalid_0's binary_logloss: 0.288735\n",
      "[134]\ttraining's binary_logloss: 0.112636\tvalid_0's binary_logloss: 0.294846\n",
      "[135]\ttraining's binary_logloss: 0.112016\tvalid_0's binary_logloss: 0.293847\n",
      "Accuracy of random forest classifier on validation set using 25th quantile: 0.95\n",
      "Accuracy of random forest classifier on test set using 25th quantile: 0.95\n"
     ]
    },
    {
     "data": {
      "image/png": "[encoded data removed]",
      "text/plain": [
       "<Figure size 400x300 with 1 Axes>"
      ]
     },
     "metadata": {},
     "output_type": "display_data"
    },
    {
     "data": {
      "image/png": "[encoded data removed]",
      "text/plain": [
       "<Figure size 400x300 with 1 Axes>"
      ]
     },
     "metadata": {},
     "output_type": "display_data"
    }
   ],
   "source": [
    "lgbmodel(X_train_imp, y_train.values.ravel(), X_val_imp, y_val.values.ravel(), X_test_imp, y_test.values.ravel(), \"25th quantile\")"
   ]
  },
  {
   "cell_type": "markdown",
   "metadata": {},
   "source": [
    "# Exporting Datasets"
   ]
  },
  {
   "cell_type": "code",
   "execution_count": 20,
   "metadata": {},
   "outputs": [
    {
     "name": "stdout",
     "output_type": "stream",
     "text": [
      "c:\\Users\\lowmi\\OneDrive\\Desktop\\Uni\\DSA4262\\DSA4262-ACMXZ\\data\\preprocessed_data\n"
     ]
    }
   ],
   "source": [
    "%cd ../data/preprocessed_data"
   ]
  },
  {
   "cell_type": "code",
   "execution_count": 21,
   "metadata": {},
   "outputs": [],
   "source": [
    "df_all_features.to_parquet(\"df_all_features.parquet\") # df containing all features, before splitting/encoding\n",
    "df_train.to_parquet(\"df_train.parquet\") # df containing all features, after splitting, before encoding\n",
    "df_test.to_parquet(\"df_test.parquet\") # df containing all features, after splitting, before encoding\n",
    "df_val.to_parquet(\"df_val.parquet\") # df containing all features, after splitting, before encoding\n",
    "X_train.to_parquet(\"X_train.parquet\") # df containing all features, after splitting, before encoding\n",
    "y_train.to_parquet(\"y_train.parquet\") # df containing all features, after splitting, before encoding\n",
    "X_val.to_parquet(\"X_val.parquet\") # df containing all features, after splitting, before encoding\n",
    "y_val.to_parquet(\"y_val.parquet\") # df containing all features, after splitting, before encoding\n",
    "X_test.to_parquet(\"X_test.parquet\") # df containing all features, after splitting, before encoding\n",
    "y_test.to_parquet(\"y_test.parquet\") # df containing all features, after splitting, before encoding\n",
    "df_val_id.to_parquet(\"df_val_id.parquet\") # df containing all features, after splitting, before encoding\n",
    "X_train_enc.to_parquet(\"X_train_enc.parquet\") # df containing all features, after encoding and oversampling\n",
    "X_test_enc.to_parquet(\"X_test_enc.parquet\") # df containing all features, after encoding and oversampling\n",
    "X_val_enc.to_parquet(\"X_val_enc.parquet\") # df containing all features, after encoding and oversampling\n",
    "X_train_25.to_parquet(\"X_train_25.parquet\")  # final df containing 25 percentile features for modelling\n",
    "X_train_50.to_parquet(\"X_train_50.parquet\") # final df containing 50 percentile features for modelling\n",
    "X_train_75.to_parquet(\"X_train_75.parquet\") # final df containing 75 percentile features for modelling\n",
    "X_train_mean.to_parquet(\"X_train_mean.parquet\") # final df containing mean features for modelling\n"
   ]
  },
  {
   "cell_type": "code",
   "execution_count": null,
   "metadata": {},
   "outputs": [],
   "source": []
  },
  {
   "cell_type": "code",
   "execution_count": null,
   "metadata": {},
   "outputs": [],
   "source": []
  }
 ],
 "metadata": {
  "kernelspec": {
   "display_name": "Python 3.9.13 ('gene')",
   "language": "python",
   "name": "python3"
  },
  "language_info": {
   "codemirror_mode": {
    "name": "ipython",
    "version": 3
   },
   "file_extension": ".py",
   "mimetype": "text/x-python",
   "name": "python",
   "nbconvert_exporter": "python",
   "pygments_lexer": "ipython3",
   "version": "3.8.13"
  },
  "orig_nbformat": 4,
  "vscode": {
   "interpreter": {
    "hash": "5543608e2cf65d306e40f76a90ce0283f342cc58c97422798b100919ac591351"
   }
  }
 },
 "nbformat": 4,
 "nbformat_minor": 2
}
