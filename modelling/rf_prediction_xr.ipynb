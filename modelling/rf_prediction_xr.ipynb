{
 "cells": [
  {
   "cell_type": "code",
   "execution_count": 27,
   "metadata": {},
   "outputs": [],
   "source": [
    "import json\n",
    "import pandas as pd\n",
    "import numpy as np\n",
    "\n",
    "from imblearn.under_sampling import RandomUnderSampler\n",
    "from imblearn.over_sampling import SMOTENC\n",
    "from sklearn.pipeline import Pipeline\n",
    "from sklearn.preprocessing import MinMaxScaler\n",
    "from sklearn.compose import ColumnTransformer"
   ]
  },
  {
   "cell_type": "code",
   "execution_count": 1,
   "metadata": {},
   "outputs": [],
   "source": [
    "import pandas as pd\n",
    "import numpy as np\n",
    "from sklearn.ensemble import RandomForestClassifier\n",
    "from sklearn import metrics\n",
    "from sklearn.metrics import confusion_matrix, roc_auc_score, roc_curve, precision_recall_curve, auc\n",
    "import matplotlib.pyplot as plt"
   ]
  },
  {
   "cell_type": "code",
   "execution_count": 2,
   "metadata": {},
   "outputs": [],
   "source": [
    "## Load in Test Set\n",
    "X_test_path = \"X_test_enc.parquet\"\n",
    "X_test = pd.read_parquet(X_test_path)\n",
    "\n",
    "y_test_path = \"y_test.parquet\"\n",
    "y_test = pd.read_parquet(y_test_path)\n",
    "y_test = pd.DataFrame(y_test['label'].astype(int)) ## convert labels to int for roc auc calculation\n",
    "\n",
    "## Load in Validation Set\n",
    "X_val_path = \"X_val_enc.parquet\"\n",
    "X_val = pd.read_parquet(X_val_path)\n",
    "\n",
    "y_val_path = \"y_val.parquet\"\n",
    "y_val = pd.read_parquet(y_val_path)\n",
    "y_val = pd.DataFrame(y_val['label'].astype(int))\n",
    "\n",
    "y_train_path = \"y_train.parquet\"\n",
    "y_train = pd.read_parquet(y_train_path)\n",
    "y_train = pd.DataFrame(y_train['label'].astype(int))"
   ]
  },
  {
   "cell_type": "code",
   "execution_count": 3,
   "metadata": {},
   "outputs": [],
   "source": [
    "## function for basic classification\n",
    "def random_forest(x_train, y_train, x_val, y_val, x_test, y_test, variable, \n",
    "                    n_estimators = 100, max_features = \"sqrt\", max_depth = None,\n",
    "                    min_samples_split = 2, min_samples_leaf = 1, bootstrap = True):\n",
    "    ## create classifier\n",
    "    clf = RandomForestClassifier(random_state = 1, n_estimators = n_estimators, max_features = max_features, \n",
    "                                    max_depth = max_depth, min_samples_split = min_samples_split, min_samples_leaf = min_samples_leaf, bootstrap = bootstrap)\n",
    "\n",
    "    ## train the model\n",
    "    clf.fit(x_train, y_train)\n",
    "\n",
    "    ## get validation and test predicition\n",
    "    y_val_pred = clf.predict(x_val)\n",
    "    print('Accuracy of random forest classifier on validation set using {}: {:.2f}'.format(variable, metrics.accuracy_score(y_val, y_val_pred)))\n",
    "   \n",
    "    y_test_pred = clf.predict(x_test)\n",
    "    print('Accuracy of random forest classifier on test set using {}: {:.2f}'.format(variable, metrics.accuracy_score(y_test, y_test_pred)))\n",
    "\n",
    "    ## define metrics for roc\n",
    "    y_test_pred_proba = clf.predict_proba(x_test)[:,1]\n",
    "    fpr, tpr, thresholds = roc_curve(y_test, y_test_pred_proba)\n",
    "    rf_roc_auc = roc_auc_score(y_test, y_test_pred_proba)\n",
    "    \n",
    "    ## create roc curve   \n",
    "    plt.figure()\n",
    "    plt.plot(fpr, tpr, label = 'Random Forest Classifier (area = %0.2f)' % rf_roc_auc)\n",
    "    plt.plot([0, 1], [0, 1],'r--')\n",
    "    plt.xlim([0.0, 1.0])\n",
    "    plt.ylim([0.0, 1.05])\n",
    "    plt.xlabel('False Positive Rate')\n",
    "    plt.ylabel('True Positive Rate')\n",
    "    plt.title('Receiver operating characteristic')\n",
    "    plt.legend(loc = \"lower right\")\n",
    "    plt.show()\n",
    "\n",
    "    ## define metric for precision and recall\n",
    "    precision, recall, thresholds = precision_recall_curve(y_test, y_test_pred_proba)\n",
    "    auc_precision_recall = auc(recall, precision)\n",
    "\n",
    "    ## create pr curve   \n",
    "    plt.figure()\n",
    "    plt.plot(recall, precision, label = 'Random Forest Classifier (area = %0.2f)' % auc_precision_recall)\n",
    "    plt.xlim([0.0, 1.0])\n",
    "    plt.ylim([0.0, 1.05])\n",
    "    plt.xlabel('Recall')\n",
    "    plt.ylabel('Precision')\n",
    "    plt.title('Precision-Recall')\n",
    "    plt.legend(loc = \"lower right\")\n",
    "    plt.show()"
   ]
  },
  {
   "cell_type": "code",
   "execution_count": 4,
   "metadata": {},
   "outputs": [
    {
     "name": "stdout",
     "output_type": "stream",
     "text": [
      "{'n_estimators': [200, 210, 220, 230, 240, 250, 260, 270, 280, 290, 300], 'max_features': ['auto', 'sqrt'], 'max_depth': [10, 20, 30, 40, 50, 60, 70, 80, 90, 100, None], 'min_samples_split': [2, 5, 10], 'min_samples_leaf': [1, 2, 4], 'bootstrap': [True, False]}\n"
     ]
    }
   ],
   "source": [
    "## defining param_grid\n",
    "\n",
    "# Number of trees in random forest\n",
    "n_estimators = [int(x) for x in np.linspace(200, 300, num = 11)]\n",
    "\n",
    "# Number of features to consider at every split\n",
    "max_features = ['auto', 'sqrt']\n",
    "\n",
    "# Maximum number of levels in tree\n",
    "max_depth = [int(x) for x in np.linspace(10, 100, num = 10)]\n",
    "max_depth.append(None)\n",
    "\n",
    "# Minimum number of samples required to split a node\n",
    "min_samples_split = [2, 5, 10]\n",
    "\n",
    "# Minimum number of samples required at each leaf node\n",
    "min_samples_leaf = [1, 2, 4]\n",
    "\n",
    "# Method of selecting samples for training each tree\n",
    "bootstrap = [True, False]\n",
    "\n",
    "random_grid = {'n_estimators': n_estimators,\n",
    "               'max_features': max_features,\n",
    "               'max_depth': max_depth,\n",
    "               'min_samples_split': min_samples_split,\n",
    "               'min_samples_leaf': min_samples_leaf,\n",
    "               'bootstrap': bootstrap}\n",
    "\n",
    "print(random_grid)"
   ]
  },
  {
   "cell_type": "code",
   "execution_count": 5,
   "metadata": {},
   "outputs": [],
   "source": [
    "## function for hyperparameter tuning\n",
    "from sklearn.model_selection import RandomizedSearchCV\n",
    "\n",
    "\n",
    "def params_tuning(param_grid, X_train, y_train):\n",
    "    rf = RandomForestClassifier(random_state = 1)\n",
    "\n",
    "    ## random search of parameters using 3 fold cross validation\n",
    "    rf_random = RandomizedSearchCV(estimator = rf, param_distributions = param_grid, n_iter = 50, cv = 3, random_state = 7, n_jobs = -1)\n",
    "    rf_random.fit(X_train, y_train)\n",
    "\n",
    "    return rf_random.best_params_"
   ]
  },
  {
   "cell_type": "code",
   "execution_count": 6,
   "metadata": {},
   "outputs": [],
   "source": [
    "## function for feature selection\n",
    "from sklearn.feature_selection import SelectFromModel\n",
    "\n",
    "def var_selection(X_train, y_train, rf):\n",
    "    sel = SelectFromModel(rf)\n",
    "    sel.fit(X_train, y_train)\n",
    "\n",
    "    return X_train.columns[(sel.get_support())]"
   ]
  },
  {
   "cell_type": "code",
   "execution_count": 13,
   "metadata": {},
   "outputs": [],
   "source": [
    "## define columns to drop\n",
    "cols_to_drop_50 = ['dwelling_time_-1_25', 'dwelling_time_-1_75', 'dwelling_time_-1_mean', 'std_-1_25', 'std_-1_75', 'std_-1_mean', 'mean_-1_25', 'mean_-1_75', 'mean_-1_mean',\n",
    "                'dwelling_time_0_25', 'dwelling_time_0_75', 'dwelling_time_0_mean', 'std_0_25', 'std_0_75', 'std_0_mean', 'mean_0_25', 'mean_0_75', 'mean_0_mean',\n",
    "                'dwelling_time_+1_25', 'dwelling_time_+1_75', 'dwelling_time_+1_mean', 'std_+1_25', 'std_+1_75', 'std_+1_mean', 'mean_+1_25', 'mean_+1_75', 'mean_+1_mean']\n",
    "\n",
    "## dropping columns from X_validation set\n",
    "X_val_50 = X_val.drop(columns = cols_to_drop_50, axis = 1)\n",
    "\n",
    "## dropping columns from X_test set\n",
    "X_test_50 = X_test.drop(columns = cols_to_drop_50, axis = 1)\n",
    "\n",
    "## Load X_train_50\n",
    "X_train_50_path = \"X_train_50.parquet\" ## to edit file path\n",
    "X_train_50 = pd.read_parquet(X_train_50_path)"
   ]
  },
  {
   "cell_type": "code",
   "execution_count": 14,
   "metadata": {},
   "outputs": [
    {
     "name": "stdout",
     "output_type": "stream",
     "text": [
      "Number of Rows for X_train_50 and y_train: 30406, 30406\n",
      "Number of Rows for X_val_50 and y_val: 12143, 12143\n",
      "Number of Rows for X_test_50 and y_test: 11825, 11825\n"
     ]
    }
   ],
   "source": [
    "## check if training data are the same len\n",
    "print(f\"Number of Rows for X_train_50 and y_train: {len(X_train_50)}, {len(y_train)}\")\n",
    "\n",
    "## check if validation data are the same len\n",
    "print(f\"Number of Rows for X_val_50 and y_val: {len(X_val_50)}, {len(y_val)}\")\n",
    "\n",
    "## check if test data are the same len\n",
    "print(f\"Number of Rows for X_test_50 and y_test: {len(X_test_50)}, {len(y_test)}\")"
   ]
  },
  {
   "cell_type": "code",
   "execution_count": 15,
   "metadata": {},
   "outputs": [
    {
     "name": "stderr",
     "output_type": "stream",
     "text": [
      "<ipython-input-3-b649f2bdef8a>:10: DataConversionWarning: A column-vector y was passed when a 1d array was expected. Please change the shape of y to (n_samples,), for example using ravel().\n",
      "  clf.fit(x_train, y_train)\n"
     ]
    },
    {
     "name": "stdout",
     "output_type": "stream",
     "text": [
      "Accuracy of random forest classifier on validation set using 50th quantile: 0.95\n",
      "Accuracy of random forest classifier on test set using 50th quantile: 0.95\n"
     ]
    },
    {
     "data": {
      "image/png": "[encoded data removed]",
      "text/plain": [
       "<Figure size 432x288 with 1 Axes>"
      ]
     },
     "metadata": {
      "needs_background": "light"
     },
     "output_type": "display_data"
    },
    {
     "data": {
      "image/png": "[encoded data removed]",
      "text/plain": [
       "<Figure size 432x288 with 1 Axes>"
      ]
     },
     "metadata": {
      "needs_background": "light"
     },
     "output_type": "display_data"
    }
   ],
   "source": [
    "random_forest(X_train_50, y_train, X_val_50, y_val, X_test_50, y_test, \"50th quantile\")"
   ]
  },
  {
   "cell_type": "code",
   "execution_count": 16,
   "metadata": {},
   "outputs": [
    {
     "name": "stderr",
     "output_type": "stream",
     "text": [
      "<ipython-input-16-a5f1a169cd0d>:2: DataConversionWarning: A column-vector y was passed when a 1d array was expected. Please change the shape of y to (n_samples,), for example using ravel().\n",
      "  rf_fs_50.fit(X_train_50, y_train)\n",
      "/Users/xinrantao/opt/anaconda3/lib/python3.8/site-packages/sklearn/feature_selection/_from_model.py:355: DataConversionWarning: A column-vector y was passed when a 1d array was expected. Please change the shape of y to (n_samples,), for example using ravel().\n",
      "  self.estimator_.fit(X, y, **fit_params)\n"
     ]
    },
    {
     "name": "stdout",
     "output_type": "stream",
     "text": [
      "Index(['reads_count', 'dwelling_time_-1_50', 'std_-1_50', 'mean_-1_50',\n",
      "       'dwelling_time_0_50', 'std_0_50', 'mean_0_50', 'dwelling_time_+1_50',\n",
      "       'std_+1_50', 'mean_+1_50', 'position_1_G', 'position_5_T'],\n",
      "      dtype='object')\n"
     ]
    },
    {
     "name": "stderr",
     "output_type": "stream",
     "text": [
      "<ipython-input-3-b649f2bdef8a>:10: DataConversionWarning: A column-vector y was passed when a 1d array was expected. Please change the shape of y to (n_samples,), for example using ravel().\n",
      "  clf.fit(x_train, y_train)\n"
     ]
    },
    {
     "name": "stdout",
     "output_type": "stream",
     "text": [
      "Accuracy of random forest classifier on validation set using 50th quantile: 0.95\n",
      "Accuracy of random forest classifier on test set using 50th quantile: 0.95\n"
     ]
    },
    {
     "data": {
      "image/png": "[encoded data removed]",
      "text/plain": [
       "<Figure size 432x288 with 1 Axes>"
      ]
     },
     "metadata": {
      "needs_background": "light"
     },
     "output_type": "display_data"
    },
    {
     "data": {
      "image/png": "[encoded data removed]",
      "text/plain": [
       "<Figure size 432x288 with 1 Axes>"
      ]
     },
     "metadata": {
      "needs_background": "light"
     },
     "output_type": "display_data"
    }
   ],
   "source": [
    "rf_fs_50 = RandomForestClassifier(random_state = 1)\n",
    "rf_fs_50.fit(X_train_50, y_train)\n",
    "\n",
    "best_var_50 = var_selection(X_train_50, y_train, rf_fs_50)\n",
    "print(best_var_50)\n",
    "\n",
    "random_forest(X_train_50[list(best_var_50)], y_train, X_val_50[list(best_var_50)], y_val, X_test_50[list(best_var_50)], y_test, \"50th quantile\")"
   ]
  },
  {
   "cell_type": "code",
   "execution_count": 18,
   "metadata": {},
   "outputs": [
    {
     "name": "stderr",
     "output_type": "stream",
     "text": [
      "<ipython-input-3-b649f2bdef8a>:10: DataConversionWarning: A column-vector y was passed when a 1d array was expected. Please change the shape of y to (n_samples,), for example using ravel().\n",
      "  clf.fit(x_train, y_train)\n"
     ]
    },
    {
     "name": "stdout",
     "output_type": "stream",
     "text": [
      "Accuracy of random forest classifier on validation set using 50th quantile: 0.88\n",
      "Accuracy of random forest classifier on test set using 50th quantile: 0.88\n"
     ]
    },
    {
     "data": {
      "image/png": "[encoded data removed]",
      "text/plain": [
       "<Figure size 432x288 with 1 Axes>"
      ]
     },
     "metadata": {
      "needs_background": "light"
     },
     "output_type": "display_data"
    },
    {
     "data": {
      "image/png": "[encoded data removed]",
      "text/plain": [
       "<Figure size 432x288 with 1 Axes>"
      ]
     },
     "metadata": {
      "needs_background": "light"
     },
     "output_type": "display_data"
    }
   ],
   "source": [
    "random_forest(X_train_50[list(best_var_50)], y_train, \n",
    "                X_val_50[list(best_var_50)], y_val, \n",
    "                X_test_50[list(best_var_50)], y_test, \"50th quantile\",\n",
    "                n_estimators = 210, min_samples_split = 2, min_samples_leaf = 1, \n",
    "                max_features = 'sqrt', max_depth = 100, bootstrap = False)"
   ]
  },
  {
   "cell_type": "code",
   "execution_count": 19,
   "metadata": {},
   "outputs": [],
   "source": [
    "clf = RandomForestClassifier(random_state = 1, n_estimators = 210, min_samples_split = 2, min_samples_leaf = 1, \n",
    "                max_features = 'sqrt', max_depth = 100, bootstrap = False)\n"
   ]
  },
  {
   "cell_type": "code",
   "execution_count": 22,
   "metadata": {},
   "outputs": [
    {
     "name": "stderr",
     "output_type": "stream",
     "text": [
      "<ipython-input-22-9460d7b04476>:1: DataConversionWarning: A column-vector y was passed when a 1d array was expected. Please change the shape of y to (n_samples,), for example using ravel().\n",
      "  clf.fit(X_train_50[list(best_var_50)], y_train)\n"
     ]
    },
    {
     "name": "stdout",
     "output_type": "stream",
     "text": [
      "Accuracy of random forest classifier on validation set using 50th percentile: 0.88\n",
      "Accuracy of random forest classifier on test set using 50th percentile: 0.88\n"
     ]
    },
    {
     "data": {
      "image/png": "[encoded data removed]",
      "text/plain": [
       "<Figure size 432x288 with 1 Axes>"
      ]
     },
     "metadata": {
      "needs_background": "light"
     },
     "output_type": "display_data"
    },
    {
     "data": {
      "image/png": "[encoded data removed]",
      "text/plain": [
       "<Figure size 432x288 with 1 Axes>"
      ]
     },
     "metadata": {
      "needs_background": "light"
     },
     "output_type": "display_data"
    }
   ],
   "source": [
    "##here im just checking the clf model we fitting is the right one\n",
    "clf.fit(X_train_50[list(best_var_50)], y_train)\n",
    "variable = \"50th percentile\"\n",
    "    ## get validation and test predicition\n",
    "y_val_pred = clf.predict(X_val_50[list(best_var_50)])\n",
    "print('Accuracy of random forest classifier on validation set using {}: {:.2f}'.format(variable, metrics.accuracy_score(y_val, y_val_pred)))\n",
    "   \n",
    "y_test_pred = clf.predict(X_test_50[list(best_var_50)])\n",
    "print('Accuracy of random forest classifier on test set using {}: {:.2f}'.format(variable, metrics.accuracy_score(y_test, y_test_pred)))\n",
    "\n",
    "    ## define metrics for roc\n",
    "y_test_pred_proba = clf.predict_proba(X_test_50[list(best_var_50)])[:,1]\n",
    "fpr, tpr, thresholds = roc_curve(y_test, y_test_pred_proba)\n",
    "rf_roc_auc = roc_auc_score(y_test, y_test_pred_proba)\n",
    "    \n",
    "    ## create roc curve   \n",
    "plt.figure()\n",
    "plt.plot(fpr, tpr, label = 'Random Forest Classifier (area = %0.2f)' % rf_roc_auc)\n",
    "plt.plot([0, 1], [0, 1],'r--')\n",
    "plt.xlim([0.0, 1.0])\n",
    "plt.ylim([0.0, 1.05])\n",
    "plt.xlabel('False Positive Rate')\n",
    "plt.ylabel('True Positive Rate')\n",
    "plt.title('Receiver operating characteristic')\n",
    "plt.legend(loc = \"lower right\")\n",
    "plt.show()\n",
    "\n",
    "    ## define metric for precision and recall\n",
    "precision, recall, thresholds = precision_recall_curve(y_test, y_test_pred_proba)\n",
    "auc_precision_recall = auc(recall, precision)\n",
    "\n",
    "    ## create pr curve   \n",
    "plt.figure()\n",
    "plt.plot(recall, precision, label = 'Random Forest Classifier (area = %0.2f)' % auc_precision_recall)\n",
    "plt.xlim([0.0, 1.0])\n",
    "plt.ylim([0.0, 1.05])\n",
    "plt.xlabel('Recall')\n",
    "plt.ylabel('Precision')\n",
    "plt.title('Precision-Recall')\n",
    "plt.legend(loc = \"lower right\")\n",
    "plt.show()"
   ]
  },
  {
   "cell_type": "code",
   "execution_count": 25,
   "metadata": {},
   "outputs": [],
   "source": [
    "data_df11 = pd.read_parquet(\"dataset1_1.parquet\")\n",
    "data_df12 = pd.read_parquet(\"dataset1_2.parquet\")\n",
    "data_df13 = pd.read_parquet(\"dataset1_3.parquet\")\n",
    "data_df14 = pd.read_parquet(\"dataset1_4.parquet\")\n",
    "data_df15 = pd.read_parquet(\"dataset1_5.parquet\")\n",
    "data_df16 = pd.read_parquet(\"dataset1_6.parquet\")\n",
    "data_df17 = pd.read_parquet(\"dataset1_7.parquet\")\n",
    "data_df18 = pd.read_parquet(\"dataset1_8.parquet\")"
   ]
  },
  {
   "cell_type": "code",
   "execution_count": 29,
   "metadata": {},
   "outputs": [],
   "source": [
    "data_df21 = pd.read_parquet(\"dataset2_1.parquet\")\n",
    "data_df22 = pd.read_parquet(\"dataset2_2.parquet\")\n",
    "data_df23 = pd.read_parquet(\"dataset2_3.parquet\")\n",
    "data_df24 = pd.read_parquet(\"dataset2_4.parquet\")\n",
    "data_df25 = pd.read_parquet(\"dataset2_5.parquet\")\n",
    "data_df26 = pd.read_parquet(\"dataset2_6.parquet\")\n",
    "data_df27 = pd.read_parquet(\"dataset2_7.parquet\")"
   ]
  },
  {
   "cell_type": "code",
   "execution_count": 26,
   "metadata": {},
   "outputs": [],
   "source": [
    "raw_df =  pd.concat([data_df11, data_df12, data_df13,data_df14,data_df15,data_df16,data_df17,data_df18])"
   ]
  },
  {
   "cell_type": "code",
   "execution_count": 30,
   "metadata": {},
   "outputs": [],
   "source": [
    "raw_df2 = pd.concat([data_df21, data_df22, data_df23,data_df24,data_df25 ,data_df26 ,data_df27 ])"
   ]
  },
  {
   "cell_type": "code",
   "execution_count": 32,
   "metadata": {},
   "outputs": [],
   "source": [
    "def get_percent(n):\n",
    "    def percentile_(x):\n",
    "        return np.percentile(x, n)\n",
    "    percentile_.__name__ = 'percentile_%s' % n\n",
    "    return percentile_"
   ]
  },
  {
   "cell_type": "code",
   "execution_count": 33,
   "metadata": {},
   "outputs": [],
   "source": [
    "def feature_eng(df):\n",
    "    df = pd.DataFrame(df.groupby([ 'transcript', 'position', 'nucleotides', 'reads_count'], as_index=False)\n",
    "                            .agg({'dwellingtime_-1': [get_percent(25), get_percent(50), get_percent(75), np.mean],\n",
    "                                    'std_-1': [get_percent(25), get_percent(50), get_percent(75), np.mean],\n",
    "                                    'mean_-1': [get_percent(25), get_percent(50), get_percent(75), np.mean],\n",
    "                                    'dwellingtime_0': [get_percent(25), get_percent(50), get_percent(75), np.mean],\n",
    "                                    'std_0': [get_percent(25), get_percent(50), get_percent(75), np.mean],\n",
    "                                    'mean_0': [get_percent(25), get_percent(50), get_percent(75), np.mean],\n",
    "                                    'dwellingtime_+1': [get_percent(25), get_percent(50), get_percent(75), np.mean],\n",
    "                                    'std_+1': [get_percent(25), get_percent(50), get_percent(75), np.mean],\n",
    "                                    'mean_+1': [get_percent(25), get_percent(50), get_percent(75), np.mean]}))\n",
    "    df.columns = ['transcript', 'position', 'nucleotides', 'reads_count',\n",
    "                        'dwelling_time_-1_25', 'dwelling_time_-1_50', 'dwelling_time_-1_75', 'dwelling_time_-1_mean',\n",
    "                        'std_-1_25', 'std_-1_50', 'std_-1_75', 'std_-1_mean',\n",
    "                        'mean_-1_25', 'mean_-1_50', 'mean_-1_75', 'mean_-1_mean',\n",
    "                        'dwelling_time_0_25', 'dwelling_time_0_50', 'dwelling_time_0_75', 'dwelling_time_0_mean',\n",
    "                        'std_0_25', 'std_0_50', 'std_0_75', 'std_0_mean',\n",
    "                        'mean_0_25', 'mean_0_50', 'mean_0_75', 'mean_0_mean',\n",
    "                        'dwelling_time_+1_25', 'dwelling_time_+1_50', 'dwelling_time_+1_75', 'dwelling_time_+1_mean',\n",
    "                        'std_+1_25', 'std_+1_50', 'std_+1_75', 'std_+1_mean',\n",
    "                        'mean_+1_25', 'mean_+1_50', 'mean_+1_75', 'mean_+1_mean']\n",
    "    return df"
   ]
  },
  {
   "cell_type": "code",
   "execution_count": 34,
   "metadata": {},
   "outputs": [],
   "source": [
    "percentiles1 = feature_eng(raw_df)"
   ]
  },
  {
   "cell_type": "code",
   "execution_count": 35,
   "metadata": {},
   "outputs": [],
   "source": [
    "percentiles2 = feature_eng(raw_df2)"
   ]
  },
  {
   "cell_type": "code",
   "execution_count": 67,
   "metadata": {},
   "outputs": [],
   "source": [
    "X_test_enc_1 = pd.read_parquet(\"X_test_enc_1.parquet\")\n",
    "X_test_enc_2 = pd.read_parquet(\"X_test_enc_2.parquet\")"
   ]
  },
  {
   "cell_type": "code",
   "execution_count": 68,
   "metadata": {},
   "outputs": [
    {
     "data": {
      "text/plain": [
       "(11825, 38)"
      ]
     },
     "execution_count": 68,
     "metadata": {},
     "output_type": "execute_result"
    }
   ],
   "source": [
    "X_test_50.shape"
   ]
  },
  {
   "cell_type": "code",
   "execution_count": 43,
   "metadata": {},
   "outputs": [
    {
     "data": {
      "text/plain": [
       "(90810, 40)"
      ]
     },
     "execution_count": 43,
     "metadata": {},
     "output_type": "execute_result"
    }
   ],
   "source": [
    "percentiles1.shape"
   ]
  },
  {
   "cell_type": "code",
   "execution_count": 46,
   "metadata": {},
   "outputs": [
    {
     "data": {
      "text/html": [
       "<div>\n",
       "<style scoped>\n",
       "    .dataframe tbody tr th:only-of-type {\n",
       "        vertical-align: middle;\n",
       "    }\n",
       "\n",
       "    .dataframe tbody tr th {\n",
       "        vertical-align: top;\n",
       "    }\n",
       "\n",
       "    .dataframe thead th {\n",
       "        text-align: right;\n",
       "    }\n",
       "</style>\n",
       "<table border=\"1\" class=\"dataframe\">\n",
       "  <thead>\n",
       "    <tr style=\"text-align: right;\">\n",
       "      <th></th>\n",
       "      <th>reads_count</th>\n",
       "      <th>dwelling_time_-1_50</th>\n",
       "      <th>std_-1_50</th>\n",
       "      <th>mean_-1_50</th>\n",
       "      <th>dwelling_time_0_50</th>\n",
       "      <th>std_0_50</th>\n",
       "      <th>mean_0_50</th>\n",
       "      <th>dwelling_time_+1_50</th>\n",
       "      <th>std_+1_50</th>\n",
       "      <th>mean_+1_50</th>\n",
       "      <th>...</th>\n",
       "      <th>position_4_G</th>\n",
       "      <th>position_4_T</th>\n",
       "      <th>position_5_A</th>\n",
       "      <th>position_5_C</th>\n",
       "      <th>position_5_G</th>\n",
       "      <th>position_5_T</th>\n",
       "      <th>position_6_A</th>\n",
       "      <th>position_6_C</th>\n",
       "      <th>position_6_G</th>\n",
       "      <th>position_6_T</th>\n",
       "    </tr>\n",
       "  </thead>\n",
       "  <tbody>\n",
       "    <tr>\n",
       "      <th>0</th>\n",
       "      <td>28.0</td>\n",
       "      <td>0.007705</td>\n",
       "      <td>3.010</td>\n",
       "      <td>119.0</td>\n",
       "      <td>0.006970</td>\n",
       "      <td>7.680</td>\n",
       "      <td>123.0</td>\n",
       "      <td>0.006395</td>\n",
       "      <td>2.630</td>\n",
       "      <td>87.6</td>\n",
       "      <td>...</td>\n",
       "      <td>0</td>\n",
       "      <td>0</td>\n",
       "      <td>0</td>\n",
       "      <td>0</td>\n",
       "      <td>0</td>\n",
       "      <td>1</td>\n",
       "      <td>0</td>\n",
       "      <td>1</td>\n",
       "      <td>0</td>\n",
       "      <td>0</td>\n",
       "    </tr>\n",
       "    <tr>\n",
       "      <th>1</th>\n",
       "      <td>25.0</td>\n",
       "      <td>0.005980</td>\n",
       "      <td>3.500</td>\n",
       "      <td>119.0</td>\n",
       "      <td>0.006970</td>\n",
       "      <td>4.610</td>\n",
       "      <td>125.0</td>\n",
       "      <td>0.004720</td>\n",
       "      <td>2.860</td>\n",
       "      <td>86.7</td>\n",
       "      <td>...</td>\n",
       "      <td>0</td>\n",
       "      <td>0</td>\n",
       "      <td>0</td>\n",
       "      <td>0</td>\n",
       "      <td>0</td>\n",
       "      <td>1</td>\n",
       "      <td>0</td>\n",
       "      <td>0</td>\n",
       "      <td>0</td>\n",
       "      <td>1</td>\n",
       "    </tr>\n",
       "    <tr>\n",
       "      <th>2</th>\n",
       "      <td>30.0</td>\n",
       "      <td>0.007245</td>\n",
       "      <td>5.685</td>\n",
       "      <td>130.0</td>\n",
       "      <td>0.006655</td>\n",
       "      <td>3.375</td>\n",
       "      <td>104.0</td>\n",
       "      <td>0.006640</td>\n",
       "      <td>3.555</td>\n",
       "      <td>94.4</td>\n",
       "      <td>...</td>\n",
       "      <td>0</td>\n",
       "      <td>0</td>\n",
       "      <td>0</td>\n",
       "      <td>0</td>\n",
       "      <td>0</td>\n",
       "      <td>1</td>\n",
       "      <td>0</td>\n",
       "      <td>0</td>\n",
       "      <td>0</td>\n",
       "      <td>1</td>\n",
       "    </tr>\n",
       "    <tr>\n",
       "      <th>3</th>\n",
       "      <td>29.0</td>\n",
       "      <td>0.005930</td>\n",
       "      <td>3.860</td>\n",
       "      <td>102.0</td>\n",
       "      <td>0.007300</td>\n",
       "      <td>8.430</td>\n",
       "      <td>118.0</td>\n",
       "      <td>0.005310</td>\n",
       "      <td>2.880</td>\n",
       "      <td>77.2</td>\n",
       "      <td>...</td>\n",
       "      <td>0</td>\n",
       "      <td>0</td>\n",
       "      <td>0</td>\n",
       "      <td>1</td>\n",
       "      <td>0</td>\n",
       "      <td>0</td>\n",
       "      <td>0</td>\n",
       "      <td>0</td>\n",
       "      <td>0</td>\n",
       "      <td>1</td>\n",
       "    </tr>\n",
       "    <tr>\n",
       "      <th>4</th>\n",
       "      <td>29.0</td>\n",
       "      <td>0.006970</td>\n",
       "      <td>3.370</td>\n",
       "      <td>108.0</td>\n",
       "      <td>0.009770</td>\n",
       "      <td>3.840</td>\n",
       "      <td>105.0</td>\n",
       "      <td>0.006310</td>\n",
       "      <td>2.510</td>\n",
       "      <td>92.3</td>\n",
       "      <td>...</td>\n",
       "      <td>0</td>\n",
       "      <td>0</td>\n",
       "      <td>0</td>\n",
       "      <td>0</td>\n",
       "      <td>0</td>\n",
       "      <td>1</td>\n",
       "      <td>0</td>\n",
       "      <td>1</td>\n",
       "      <td>0</td>\n",
       "      <td>0</td>\n",
       "    </tr>\n",
       "  </tbody>\n",
       "</table>\n",
       "<p>5 rows × 38 columns</p>\n",
       "</div>"
      ],
      "text/plain": [
       "   reads_count  dwelling_time_-1_50  std_-1_50  mean_-1_50  \\\n",
       "0         28.0             0.007705      3.010       119.0   \n",
       "1         25.0             0.005980      3.500       119.0   \n",
       "2         30.0             0.007245      5.685       130.0   \n",
       "3         29.0             0.005930      3.860       102.0   \n",
       "4         29.0             0.006970      3.370       108.0   \n",
       "\n",
       "   dwelling_time_0_50  std_0_50  mean_0_50  dwelling_time_+1_50  std_+1_50  \\\n",
       "0            0.006970     7.680      123.0             0.006395      2.630   \n",
       "1            0.006970     4.610      125.0             0.004720      2.860   \n",
       "2            0.006655     3.375      104.0             0.006640      3.555   \n",
       "3            0.007300     8.430      118.0             0.005310      2.880   \n",
       "4            0.009770     3.840      105.0             0.006310      2.510   \n",
       "\n",
       "   mean_+1_50  ...  position_4_G  position_4_T  position_5_A  position_5_C  \\\n",
       "0        87.6  ...             0             0             0             0   \n",
       "1        86.7  ...             0             0             0             0   \n",
       "2        94.4  ...             0             0             0             0   \n",
       "3        77.2  ...             0             0             0             1   \n",
       "4        92.3  ...             0             0             0             0   \n",
       "\n",
       "   position_5_G  position_5_T  position_6_A  position_6_C  position_6_G  \\\n",
       "0             0             1             0             1             0   \n",
       "1             0             1             0             0             0   \n",
       "2             0             1             0             0             0   \n",
       "3             0             0             0             0             0   \n",
       "4             0             1             0             1             0   \n",
       "\n",
       "   position_6_T  \n",
       "0             0  \n",
       "1             1  \n",
       "2             1  \n",
       "3             1  \n",
       "4             0  \n",
       "\n",
       "[5 rows x 38 columns]"
      ]
     },
     "execution_count": 46,
     "metadata": {},
     "output_type": "execute_result"
    }
   ],
   "source": [
    "X_test_50.head()"
   ]
  },
  {
   "cell_type": "code",
   "execution_count": 66,
   "metadata": {},
   "outputs": [
    {
     "data": {
      "text/html": [
       "<div>\n",
       "<style scoped>\n",
       "    .dataframe tbody tr th:only-of-type {\n",
       "        vertical-align: middle;\n",
       "    }\n",
       "\n",
       "    .dataframe tbody tr th {\n",
       "        vertical-align: top;\n",
       "    }\n",
       "\n",
       "    .dataframe thead th {\n",
       "        text-align: right;\n",
       "    }\n",
       "</style>\n",
       "<table border=\"1\" class=\"dataframe\">\n",
       "  <thead>\n",
       "    <tr style=\"text-align: right;\">\n",
       "      <th></th>\n",
       "      <th>reads_count</th>\n",
       "      <th>dwelling_time_-1_25</th>\n",
       "      <th>dwelling_time_-1_50</th>\n",
       "      <th>dwelling_time_-1_75</th>\n",
       "      <th>dwelling_time_-1_mean</th>\n",
       "      <th>std_-1_25</th>\n",
       "      <th>std_-1_50</th>\n",
       "      <th>std_-1_75</th>\n",
       "      <th>std_-1_mean</th>\n",
       "      <th>mean_-1_25</th>\n",
       "      <th>...</th>\n",
       "      <th>position_4_G</th>\n",
       "      <th>position_4_T</th>\n",
       "      <th>position_5_A</th>\n",
       "      <th>position_5_C</th>\n",
       "      <th>position_5_G</th>\n",
       "      <th>position_5_T</th>\n",
       "      <th>position_6_A</th>\n",
       "      <th>position_6_C</th>\n",
       "      <th>position_6_G</th>\n",
       "      <th>position_6_T</th>\n",
       "    </tr>\n",
       "  </thead>\n",
       "  <tbody>\n",
       "    <tr>\n",
       "      <th>0</th>\n",
       "      <td>165.0</td>\n",
       "      <td>0.004320</td>\n",
       "      <td>0.006310</td>\n",
       "      <td>0.011000</td>\n",
       "      <td>0.008722</td>\n",
       "      <td>2.860</td>\n",
       "      <td>3.390</td>\n",
       "      <td>4.3800</td>\n",
       "      <td>3.990545</td>\n",
       "      <td>123.0</td>\n",
       "      <td>...</td>\n",
       "      <td>0</td>\n",
       "      <td>0</td>\n",
       "      <td>0</td>\n",
       "      <td>1</td>\n",
       "      <td>0</td>\n",
       "      <td>0</td>\n",
       "      <td>1</td>\n",
       "      <td>0</td>\n",
       "      <td>0</td>\n",
       "      <td>0</td>\n",
       "    </tr>\n",
       "    <tr>\n",
       "      <th>1</th>\n",
       "      <td>166.0</td>\n",
       "      <td>0.003650</td>\n",
       "      <td>0.005640</td>\n",
       "      <td>0.007970</td>\n",
       "      <td>0.006292</td>\n",
       "      <td>2.085</td>\n",
       "      <td>2.805</td>\n",
       "      <td>3.3675</td>\n",
       "      <td>2.849892</td>\n",
       "      <td>107.0</td>\n",
       "      <td>...</td>\n",
       "      <td>0</td>\n",
       "      <td>0</td>\n",
       "      <td>0</td>\n",
       "      <td>0</td>\n",
       "      <td>0</td>\n",
       "      <td>1</td>\n",
       "      <td>0</td>\n",
       "      <td>0</td>\n",
       "      <td>1</td>\n",
       "      <td>0</td>\n",
       "    </tr>\n",
       "    <tr>\n",
       "      <th>2</th>\n",
       "      <td>169.0</td>\n",
       "      <td>0.004100</td>\n",
       "      <td>0.005980</td>\n",
       "      <td>0.009300</td>\n",
       "      <td>0.007237</td>\n",
       "      <td>1.960</td>\n",
       "      <td>2.430</td>\n",
       "      <td>3.1800</td>\n",
       "      <td>2.782710</td>\n",
       "      <td>105.0</td>\n",
       "      <td>...</td>\n",
       "      <td>0</td>\n",
       "      <td>0</td>\n",
       "      <td>1</td>\n",
       "      <td>0</td>\n",
       "      <td>0</td>\n",
       "      <td>0</td>\n",
       "      <td>0</td>\n",
       "      <td>0</td>\n",
       "      <td>1</td>\n",
       "      <td>0</td>\n",
       "    </tr>\n",
       "    <tr>\n",
       "      <th>3</th>\n",
       "      <td>184.0</td>\n",
       "      <td>0.005885</td>\n",
       "      <td>0.009385</td>\n",
       "      <td>0.013425</td>\n",
       "      <td>0.010299</td>\n",
       "      <td>4.355</td>\n",
       "      <td>5.475</td>\n",
       "      <td>7.5725</td>\n",
       "      <td>6.042386</td>\n",
       "      <td>128.0</td>\n",
       "      <td>...</td>\n",
       "      <td>0</td>\n",
       "      <td>0</td>\n",
       "      <td>1</td>\n",
       "      <td>0</td>\n",
       "      <td>0</td>\n",
       "      <td>0</td>\n",
       "      <td>0</td>\n",
       "      <td>0</td>\n",
       "      <td>0</td>\n",
       "      <td>1</td>\n",
       "    </tr>\n",
       "    <tr>\n",
       "      <th>4</th>\n",
       "      <td>177.0</td>\n",
       "      <td>0.005810</td>\n",
       "      <td>0.010000</td>\n",
       "      <td>0.014600</td>\n",
       "      <td>0.011535</td>\n",
       "      <td>5.140</td>\n",
       "      <td>6.260</td>\n",
       "      <td>6.9400</td>\n",
       "      <td>6.031751</td>\n",
       "      <td>116.0</td>\n",
       "      <td>...</td>\n",
       "      <td>0</td>\n",
       "      <td>0</td>\n",
       "      <td>1</td>\n",
       "      <td>0</td>\n",
       "      <td>0</td>\n",
       "      <td>0</td>\n",
       "      <td>1</td>\n",
       "      <td>0</td>\n",
       "      <td>0</td>\n",
       "      <td>0</td>\n",
       "    </tr>\n",
       "  </tbody>\n",
       "</table>\n",
       "<p>5 rows × 65 columns</p>\n",
       "</div>"
      ],
      "text/plain": [
       "   reads_count  dwelling_time_-1_25  dwelling_time_-1_50  dwelling_time_-1_75  \\\n",
       "0        165.0             0.004320             0.006310             0.011000   \n",
       "1        166.0             0.003650             0.005640             0.007970   \n",
       "2        169.0             0.004100             0.005980             0.009300   \n",
       "3        184.0             0.005885             0.009385             0.013425   \n",
       "4        177.0             0.005810             0.010000             0.014600   \n",
       "\n",
       "   dwelling_time_-1_mean  std_-1_25  std_-1_50  std_-1_75  std_-1_mean  \\\n",
       "0               0.008722      2.860      3.390     4.3800     3.990545   \n",
       "1               0.006292      2.085      2.805     3.3675     2.849892   \n",
       "2               0.007237      1.960      2.430     3.1800     2.782710   \n",
       "3               0.010299      4.355      5.475     7.5725     6.042386   \n",
       "4               0.011535      5.140      6.260     6.9400     6.031751   \n",
       "\n",
       "   mean_-1_25  ...  position_4_G  position_4_T  position_5_A  position_5_C  \\\n",
       "0       123.0  ...             0             0             0             1   \n",
       "1       107.0  ...             0             0             0             0   \n",
       "2       105.0  ...             0             0             1             0   \n",
       "3       128.0  ...             0             0             1             0   \n",
       "4       116.0  ...             0             0             1             0   \n",
       "\n",
       "   position_5_G  position_5_T  position_6_A  position_6_C  position_6_G  \\\n",
       "0             0             0             1             0             0   \n",
       "1             0             1             0             0             1   \n",
       "2             0             0             0             0             1   \n",
       "3             0             0             0             0             0   \n",
       "4             0             0             1             0             0   \n",
       "\n",
       "   position_6_T  \n",
       "0             0  \n",
       "1             0  \n",
       "2             0  \n",
       "3             1  \n",
       "4             0  \n",
       "\n",
       "[5 rows x 65 columns]"
      ]
     },
     "execution_count": 66,
     "metadata": {},
     "output_type": "execute_result"
    }
   ],
   "source": [
    "X_test_enc_1.head()"
   ]
  },
  {
   "cell_type": "code",
   "execution_count": 69,
   "metadata": {},
   "outputs": [],
   "source": [
    "X_test_1_50 = X_test_enc_1.drop(columns = cols_to_drop_50, axis = 1)"
   ]
  },
  {
   "cell_type": "code",
   "execution_count": 70,
   "metadata": {},
   "outputs": [
    {
     "data": {
      "text/plain": [
       "(90810, 38)"
      ]
     },
     "execution_count": 70,
     "metadata": {},
     "output_type": "execute_result"
    }
   ],
   "source": [
    "X_test_1_50.shape"
   ]
  },
  {
   "cell_type": "code",
   "execution_count": 71,
   "metadata": {},
   "outputs": [],
   "source": [
    "y_test_pred_proba = clf.predict_proba(X_test_1_50[list(best_var_50)])[:,1]"
   ]
  },
  {
   "cell_type": "code",
   "execution_count": 72,
   "metadata": {},
   "outputs": [
    {
     "data": {
      "text/plain": [
       "(90810, 2)"
      ]
     },
     "execution_count": 72,
     "metadata": {},
     "output_type": "execute_result"
    }
   ],
   "source": [
    "id_val_1.shape"
   ]
  },
  {
   "cell_type": "code",
   "execution_count": 73,
   "metadata": {},
   "outputs": [
    {
     "data": {
      "text/plain": [
       "array([0.29047619, 0.38095238, 0.29047619, ..., 0.45714286, 0.45714286,\n",
       "       0.29047619])"
      ]
     },
     "execution_count": 73,
     "metadata": {},
     "output_type": "execute_result"
    }
   ],
   "source": [
    "y_test_pred_proba"
   ]
  },
  {
   "cell_type": "code",
   "execution_count": 74,
   "metadata": {},
   "outputs": [],
   "source": [
    "res = pd.DataFrame(y_test_pred_proba,columns=['score'])"
   ]
  },
  {
   "cell_type": "code",
   "execution_count": 75,
   "metadata": {},
   "outputs": [
    {
     "data": {
      "text/html": [
       "<div>\n",
       "<style scoped>\n",
       "    .dataframe tbody tr th:only-of-type {\n",
       "        vertical-align: middle;\n",
       "    }\n",
       "\n",
       "    .dataframe tbody tr th {\n",
       "        vertical-align: top;\n",
       "    }\n",
       "\n",
       "    .dataframe thead th {\n",
       "        text-align: right;\n",
       "    }\n",
       "</style>\n",
       "<table border=\"1\" class=\"dataframe\">\n",
       "  <thead>\n",
       "    <tr style=\"text-align: right;\">\n",
       "      <th></th>\n",
       "      <th>transcript</th>\n",
       "      <th>position</th>\n",
       "      <th>score</th>\n",
       "    </tr>\n",
       "  </thead>\n",
       "  <tbody>\n",
       "    <tr>\n",
       "      <th>0</th>\n",
       "      <td>ENST00000000233</td>\n",
       "      <td>244</td>\n",
       "      <td>0.290476</td>\n",
       "    </tr>\n",
       "    <tr>\n",
       "      <th>1</th>\n",
       "      <td>ENST00000000233</td>\n",
       "      <td>261</td>\n",
       "      <td>0.380952</td>\n",
       "    </tr>\n",
       "    <tr>\n",
       "      <th>2</th>\n",
       "      <td>ENST00000000233</td>\n",
       "      <td>316</td>\n",
       "      <td>0.290476</td>\n",
       "    </tr>\n",
       "    <tr>\n",
       "      <th>3</th>\n",
       "      <td>ENST00000000233</td>\n",
       "      <td>332</td>\n",
       "      <td>0.457143</td>\n",
       "    </tr>\n",
       "    <tr>\n",
       "      <th>4</th>\n",
       "      <td>ENST00000000233</td>\n",
       "      <td>368</td>\n",
       "      <td>0.457143</td>\n",
       "    </tr>\n",
       "    <tr>\n",
       "      <th>...</th>\n",
       "      <td>...</td>\n",
       "      <td>...</td>\n",
       "      <td>...</td>\n",
       "    </tr>\n",
       "    <tr>\n",
       "      <th>90805</th>\n",
       "      <td>ENST00000641834</td>\n",
       "      <td>610</td>\n",
       "      <td>0.519048</td>\n",
       "    </tr>\n",
       "    <tr>\n",
       "      <th>90806</th>\n",
       "      <td>ENST00000641834</td>\n",
       "      <td>697</td>\n",
       "      <td>0.290476</td>\n",
       "    </tr>\n",
       "    <tr>\n",
       "      <th>90807</th>\n",
       "      <td>ENST00000641834</td>\n",
       "      <td>864</td>\n",
       "      <td>0.457143</td>\n",
       "    </tr>\n",
       "    <tr>\n",
       "      <th>90808</th>\n",
       "      <td>ENST00000641834</td>\n",
       "      <td>926</td>\n",
       "      <td>0.457143</td>\n",
       "    </tr>\n",
       "    <tr>\n",
       "      <th>90809</th>\n",
       "      <td>ENST00000641834</td>\n",
       "      <td>976</td>\n",
       "      <td>0.290476</td>\n",
       "    </tr>\n",
       "  </tbody>\n",
       "</table>\n",
       "<p>90810 rows × 3 columns</p>\n",
       "</div>"
      ],
      "text/plain": [
       "            transcript position     score\n",
       "0      ENST00000000233      244  0.290476\n",
       "1      ENST00000000233      261  0.380952\n",
       "2      ENST00000000233      316  0.290476\n",
       "3      ENST00000000233      332  0.457143\n",
       "4      ENST00000000233      368  0.457143\n",
       "...                ...      ...       ...\n",
       "90805  ENST00000641834      610  0.519048\n",
       "90806  ENST00000641834      697  0.290476\n",
       "90807  ENST00000641834      864  0.457143\n",
       "90808  ENST00000641834      926  0.457143\n",
       "90809  ENST00000641834      976  0.290476\n",
       "\n",
       "[90810 rows x 3 columns]"
      ]
     },
     "execution_count": 75,
     "metadata": {},
     "output_type": "execute_result"
    }
   ],
   "source": [
    "pd.concat([id_val_1, res], axis=1)"
   ]
  },
  {
   "cell_type": "code",
   "execution_count": 76,
   "metadata": {},
   "outputs": [],
   "source": [
    "X_test_2_50 = X_test_enc_2.drop(columns = cols_to_drop_50, axis = 1)"
   ]
  },
  {
   "cell_type": "code",
   "execution_count": 77,
   "metadata": {},
   "outputs": [
    {
     "data": {
      "text/plain": [
       "(98830, 38)"
      ]
     },
     "execution_count": 77,
     "metadata": {},
     "output_type": "execute_result"
    }
   ],
   "source": [
    "X_test_2_50.shape"
   ]
  },
  {
   "cell_type": "code",
   "execution_count": 78,
   "metadata": {},
   "outputs": [],
   "source": [
    "y_test_pred_proba2 = clf.predict_proba(X_test_2_50[list(best_var_50)])[:,1]"
   ]
  },
  {
   "cell_type": "code",
   "execution_count": 79,
   "metadata": {},
   "outputs": [],
   "source": [
    "res2 = pd.DataFrame(y_test_pred_proba2,columns=['score'])"
   ]
  },
  {
   "cell_type": "code",
   "execution_count": 80,
   "metadata": {},
   "outputs": [
    {
     "data": {
      "text/html": [
       "<div>\n",
       "<style scoped>\n",
       "    .dataframe tbody tr th:only-of-type {\n",
       "        vertical-align: middle;\n",
       "    }\n",
       "\n",
       "    .dataframe tbody tr th {\n",
       "        vertical-align: top;\n",
       "    }\n",
       "\n",
       "    .dataframe thead th {\n",
       "        text-align: right;\n",
       "    }\n",
       "</style>\n",
       "<table border=\"1\" class=\"dataframe\">\n",
       "  <thead>\n",
       "    <tr style=\"text-align: right;\">\n",
       "      <th></th>\n",
       "      <th>transcript</th>\n",
       "      <th>position</th>\n",
       "      <th>score</th>\n",
       "    </tr>\n",
       "  </thead>\n",
       "  <tbody>\n",
       "    <tr>\n",
       "      <th>0</th>\n",
       "      <td>AT1G01050.1</td>\n",
       "      <td>155</td>\n",
       "      <td>0.380952</td>\n",
       "    </tr>\n",
       "    <tr>\n",
       "      <th>1</th>\n",
       "      <td>AT1G01050.1</td>\n",
       "      <td>165</td>\n",
       "      <td>0.290476</td>\n",
       "    </tr>\n",
       "    <tr>\n",
       "      <th>2</th>\n",
       "      <td>AT1G01050.1</td>\n",
       "      <td>347</td>\n",
       "      <td>0.290476</td>\n",
       "    </tr>\n",
       "    <tr>\n",
       "      <th>3</th>\n",
       "      <td>AT1G01050.1</td>\n",
       "      <td>435</td>\n",
       "      <td>0.290476</td>\n",
       "    </tr>\n",
       "    <tr>\n",
       "      <th>4</th>\n",
       "      <td>AT1G01050.1</td>\n",
       "      <td>549</td>\n",
       "      <td>0.290476</td>\n",
       "    </tr>\n",
       "    <tr>\n",
       "      <th>...</th>\n",
       "      <td>...</td>\n",
       "      <td>...</td>\n",
       "      <td>...</td>\n",
       "    </tr>\n",
       "    <tr>\n",
       "      <th>98825</th>\n",
       "      <td>AT5G67590.1</td>\n",
       "      <td>367</td>\n",
       "      <td>0.380952</td>\n",
       "    </tr>\n",
       "    <tr>\n",
       "      <th>98826</th>\n",
       "      <td>AT5G67590.1</td>\n",
       "      <td>444</td>\n",
       "      <td>0.290476</td>\n",
       "    </tr>\n",
       "    <tr>\n",
       "      <th>98827</th>\n",
       "      <td>AT5G67590.1</td>\n",
       "      <td>465</td>\n",
       "      <td>0.380952</td>\n",
       "    </tr>\n",
       "    <tr>\n",
       "      <th>98828</th>\n",
       "      <td>AT5G67590.1</td>\n",
       "      <td>663</td>\n",
       "      <td>0.290476</td>\n",
       "    </tr>\n",
       "    <tr>\n",
       "      <th>98829</th>\n",
       "      <td>AT5G67600.1</td>\n",
       "      <td>154</td>\n",
       "      <td>0.519048</td>\n",
       "    </tr>\n",
       "  </tbody>\n",
       "</table>\n",
       "<p>98830 rows × 3 columns</p>\n",
       "</div>"
      ],
      "text/plain": [
       "        transcript position     score\n",
       "0      AT1G01050.1      155  0.380952\n",
       "1      AT1G01050.1      165  0.290476\n",
       "2      AT1G01050.1      347  0.290476\n",
       "3      AT1G01050.1      435  0.290476\n",
       "4      AT1G01050.1      549  0.290476\n",
       "...            ...      ...       ...\n",
       "98825  AT5G67590.1      367  0.380952\n",
       "98826  AT5G67590.1      444  0.290476\n",
       "98827  AT5G67590.1      465  0.380952\n",
       "98828  AT5G67590.1      663  0.290476\n",
       "98829  AT5G67600.1      154  0.519048\n",
       "\n",
       "[98830 rows x 3 columns]"
      ]
     },
     "execution_count": 80,
     "metadata": {},
     "output_type": "execute_result"
    }
   ],
   "source": [
    "pd.concat([id_val_2, res2], axis=1)"
   ]
  }
 ],
 "metadata": {
  "kernelspec": {
   "display_name": "Python 3",
   "language": "python",
   "name": "python3"
  },
  "language_info": {
   "codemirror_mode": {
    "name": "ipython",
    "version": 3
   },
   "file_extension": ".py",
   "mimetype": "text/x-python",
   "name": "python",
   "nbconvert_exporter": "python",
   "pygments_lexer": "ipython3",
   "version": "3.8.5"
  }
 },
 "nbformat": 4,
 "nbformat_minor": 4
}
