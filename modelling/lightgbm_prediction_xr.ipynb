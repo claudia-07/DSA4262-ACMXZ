{
 "cells": [
  {
   "cell_type": "code",
   "execution_count": 7,
   "metadata": {},
   "outputs": [],
   "source": [
    "import pandas as pd\n",
    "import numpy as mp\n",
    "from sklearn import preprocessing\n",
    "from sklearn import metrics\n",
    "from sklearn.model_selection import train_test_split\n",
    "from sklearn.metrics import confusion_matrix, roc_auc_score, roc_curve, auc, precision_recall_curve, auc\n",
    "import statsmodels.api as sm\n",
    "import matplotlib.pyplot as plt\n",
    "\n",
    "import lightgbm as lgb"
   ]
  },
  {
   "cell_type": "code",
   "execution_count": 8,
   "metadata": {},
   "outputs": [],
   "source": [
    "## function for basic classification\n",
    "def lgbmodel(x_train, y_train, x_val, y_val, x_test, y_test, variable):\n",
    "    ## create classifier\n",
    "    model = lgb.LGBMClassifier(learning_rate=0.14048611339776612, max_depth=12,\n",
    "               min_child_weight=8.0, n_estimators=125, num_leaves=150,\n",
    "               random_state=42, reg_alpha=1.5, reg_lambda=2,\n",
    "               scale_pos_weight=5, verbosity=1, min_data_in_leaf=25,lambda_l2=0, lambda_l1 = 1.5)\n",
    "  \n",
    "               \n",
    "    #model.fit(x_train, y_train)\n",
    "    model.fit(x_train,y_train,eval_set=[(x_test,y_test),(x_train,y_train)],eval_metric='logloss')\n",
    "\n",
    "    ## get validation and test predicition\n",
    "    y_val_pred = model.predict(x_val)\n",
    "    print('Accuracy of random forest classifier on validation set using {}: {:.2f}'.format(variable, metrics.accuracy_score(y_val, y_val_pred)))\n",
    "   \n",
    "    y_test_pred = model.predict(x_test)\n",
    "    print('Accuracy of random forest classifier on test set using {}: {:.2f}'.format(variable, metrics.accuracy_score(y_test, y_test_pred)))\n",
    "\n",
    "    ## define metrics for roc\n",
    "    y_test_pred_proba = model.predict_proba(x_test)[:,1]\n",
    "    fpr, tpr, thresholds = roc_curve(y_test, y_test_pred_proba)\n",
    "    rf_roc_auc = roc_auc_score(y_test, y_test_pred_proba)\n",
    "    \n",
    "    ## create roc curve  \n",
    "    plt.rcParams[\"figure.figsize\"] = (4,3)\n",
    " \n",
    "    plt.figure()\n",
    "    plt.plot(fpr, tpr, label = 'LightGBM Classifier (area = %0.2f)' % rf_roc_auc)\n",
    "    plt.plot([0, 1], [0, 1],'r--')\n",
    "    plt.xlim([0.0, 1.0])\n",
    "    plt.ylim([0.0, 1.05])\n",
    "    plt.xlabel('False Positive Rate')\n",
    "    plt.ylabel('True Positive Rate')\n",
    "    plt.title('Receiver operating characteristic')\n",
    "    plt.legend(loc = \"lower right\")\n",
    "    plt.show()\n",
    "\n",
    "    ## define metric for precision and recall\n",
    "    precision, recall, thresholds = precision_recall_curve(y_test, y_test_pred_proba)\n",
    "    auc_precision_recall = auc(recall, precision)\n",
    "\n",
    "    ## create pr curve   \n",
    "    plt.figure()\n",
    "    plt.plot(recall, precision, label = 'LightGBM Classifier (area = %0.2f)' % auc_precision_recall)\n",
    "    plt.xlim([0.0, 1.0])\n",
    "    plt.ylim([0.0, 1.05])\n",
    "    plt.xlabel('Recall')\n",
    "    plt.ylabel('Precision')\n",
    "    plt.title('Precision-Recall')\n",
    "    plt.legend(loc = \"lower right\")\n",
    "    plt.show()"
   ]
  },
  {
   "cell_type": "code",
   "execution_count": 11,
   "metadata": {},
   "outputs": [],
   "source": [
    "## Load in Test Set\n",
    "X_test_path = \"X_test_enc.parquet\"\n",
    "X_test = pd.read_parquet(X_test_path)\n",
    "\n",
    "y_test_path = \"y_test.parquet\"\n",
    "y_test = pd.read_parquet(y_test_path)\n",
    "y_test = pd.DataFrame(y_test['label'].astype(int)) ## convert labels to int for roc auc calculation\n",
    "\n",
    "## Load in Validation Set\n",
    "X_val_path = \"X_val_enc.parquet\"\n",
    "X_val = pd.read_parquet(X_val_path)\n",
    "\n",
    "y_val_path = \"y_val.parquet\"\n",
    "y_val = pd.read_parquet(y_val_path)\n",
    "y_val = pd.DataFrame(y_val['label'].astype(int))\n",
    "\n",
    "y_train_path = \"y_train.parquet\"\n",
    "y_train = pd.read_parquet(y_train_path)\n",
    "y_train = pd.DataFrame(y_train['label'].astype(int))"
   ]
  },
  {
   "cell_type": "code",
   "execution_count": 12,
   "metadata": {},
   "outputs": [],
   "source": [
    "## define columns to drop\n",
    "cols_to_drop_25 = ['dwelling_time_-1_50', 'dwelling_time_-1_75', 'dwelling_time_-1_mean', 'std_-1_50', 'std_-1_75', 'std_-1_mean', 'mean_-1_50', 'mean_-1_75', 'mean_-1_mean',\n",
    "                'dwelling_time_0_50', 'dwelling_time_0_75', 'dwelling_time_0_mean', 'std_0_50', 'std_0_75', 'std_0_mean', 'mean_0_50', 'mean_0_75', 'mean_0_mean',\n",
    "                'dwelling_time_+1_50', 'dwelling_time_+1_75', 'dwelling_time_+1_mean', 'std_+1_50', 'std_+1_75', 'std_+1_mean', 'mean_+1_50', 'mean_+1_75', 'mean_+1_mean']\n",
    "\n",
    "## dropping columns from X_validation set\n",
    "X_val_25 = X_val.drop(columns = cols_to_drop_25, axis = 1)\n",
    "\n",
    "## dropping columns from X_test set\n",
    "X_test_25 = X_test.drop(columns = cols_to_drop_25, axis = 1)\n",
    "\n",
    "## Load X_train_25\n",
    "X_train_25_path = \"X_train_25.parquet\" ## to edit file path\n",
    "X_train_25 = pd.read_parquet(X_train_25_path)"
   ]
  },
  {
   "cell_type": "code",
   "execution_count": 13,
   "metadata": {},
   "outputs": [
    {
     "name": "stdout",
     "output_type": "stream",
     "text": [
      "[LightGBM] [Warning] min_data_in_leaf is set=25, min_child_samples=20 will be ignored. Current value: min_data_in_leaf=25\n",
      "[LightGBM] [Warning] lambda_l1 is set=1.5, reg_alpha=1.5 will be ignored. Current value: lambda_l1=1.5\n",
      "[LightGBM] [Warning] lambda_l2 is set=0, reg_lambda=2 will be ignored. Current value: lambda_l2=0\n",
      "[LightGBM] [Warning] min_data_in_leaf is set=25, min_child_samples=20 will be ignored. Current value: min_data_in_leaf=25\n",
      "[LightGBM] [Warning] lambda_l1 is set=1.5, reg_alpha=1.5 will be ignored. Current value: lambda_l1=1.5\n",
      "[LightGBM] [Warning] lambda_l2 is set=0, reg_lambda=2 will be ignored. Current value: lambda_l2=0\n",
      "[LightGBM] [Info] Number of positive: 5483, number of negative: 24923\n",
      "[LightGBM] [Warning] Auto-choosing col-wise multi-threading, the overhead of testing was 0.002523 seconds.\n",
      "You can set `force_col_wise=true` to remove the overhead.\n",
      "[LightGBM] [Info] Total Bins 2559\n",
      "[LightGBM] [Info] Number of data points in the train set: 30406, number of used features: 26\n",
      "[LightGBM] [Warning] min_data_in_leaf is set=25, min_child_samples=20 will be ignored. Current value: min_data_in_leaf=25\n",
      "[LightGBM] [Warning] lambda_l1 is set=1.5, reg_alpha=1.5 will be ignored. Current value: lambda_l1=1.5\n",
      "[LightGBM] [Warning] lambda_l2 is set=0, reg_lambda=2 will be ignored. Current value: lambda_l2=0\n",
      "[LightGBM] [Info] [binary:BoostFromScore]: pavg=0.180326 -> initscore=-1.514139\n",
      "[LightGBM] [Info] Start training from score -1.514139\n",
      "[1]\ttraining's binary_logloss: 0.403805\tvalid_0's binary_logloss: 0.27161\n",
      "[2]\ttraining's binary_logloss: 0.370365\tvalid_0's binary_logloss: 0.291173\n",
      "[3]\ttraining's binary_logloss: 0.349772\tvalid_0's binary_logloss: 0.283688\n",
      "[4]\ttraining's binary_logloss: 0.335447\tvalid_0's binary_logloss: 0.278871\n",
      "[5]\ttraining's binary_logloss: 0.32454\tvalid_0's binary_logloss: 0.259922\n",
      "[6]\ttraining's binary_logloss: 0.316981\tvalid_0's binary_logloss: 0.272013\n",
      "[7]\ttraining's binary_logloss: 0.310441\tvalid_0's binary_logloss: 0.258231\n",
      "[8]\ttraining's binary_logloss: 0.303844\tvalid_0's binary_logloss: 0.246945\n",
      "[9]\ttraining's binary_logloss: 0.298247\tvalid_0's binary_logloss: 0.240819\n",
      "[10]\ttraining's binary_logloss: 0.293269\tvalid_0's binary_logloss: 0.234468\n",
      "[11]\ttraining's binary_logloss: 0.289629\tvalid_0's binary_logloss: 0.233279\n",
      "[12]\ttraining's binary_logloss: 0.286019\tvalid_0's binary_logloss: 0.231376\n",
      "[13]\ttraining's binary_logloss: 0.28255\tvalid_0's binary_logloss: 0.223228\n",
      "[14]\ttraining's binary_logloss: 0.279154\tvalid_0's binary_logloss: 0.218245\n",
      "[15]\ttraining's binary_logloss: 0.275373\tvalid_0's binary_logloss: 0.211575\n",
      "[16]\ttraining's binary_logloss: 0.272601\tvalid_0's binary_logloss: 0.208163\n",
      "[17]\ttraining's binary_logloss: 0.26923\tvalid_0's binary_logloss: 0.202803\n",
      "[18]\ttraining's binary_logloss: 0.266488\tvalid_0's binary_logloss: 0.198737\n",
      "[19]\ttraining's binary_logloss: 0.263146\tvalid_0's binary_logloss: 0.193361\n",
      "[20]\ttraining's binary_logloss: 0.260525\tvalid_0's binary_logloss: 0.188948\n",
      "[21]\ttraining's binary_logloss: 0.25697\tvalid_0's binary_logloss: 0.185399\n",
      "[22]\ttraining's binary_logloss: 0.252688\tvalid_0's binary_logloss: 0.18454\n",
      "[23]\ttraining's binary_logloss: 0.249407\tvalid_0's binary_logloss: 0.183286\n",
      "[24]\ttraining's binary_logloss: 0.245805\tvalid_0's binary_logloss: 0.184292\n",
      "[25]\ttraining's binary_logloss: 0.2428\tvalid_0's binary_logloss: 0.182624\n",
      "[26]\ttraining's binary_logloss: 0.23984\tvalid_0's binary_logloss: 0.180603\n",
      "[27]\ttraining's binary_logloss: 0.236052\tvalid_0's binary_logloss: 0.180262\n",
      "[28]\ttraining's binary_logloss: 0.233252\tvalid_0's binary_logloss: 0.179767\n",
      "[29]\ttraining's binary_logloss: 0.230698\tvalid_0's binary_logloss: 0.179572\n",
      "[30]\ttraining's binary_logloss: 0.227988\tvalid_0's binary_logloss: 0.178498\n",
      "[31]\ttraining's binary_logloss: 0.225199\tvalid_0's binary_logloss: 0.179744\n",
      "[32]\ttraining's binary_logloss: 0.222574\tvalid_0's binary_logloss: 0.17951\n",
      "[33]\ttraining's binary_logloss: 0.220204\tvalid_0's binary_logloss: 0.178303\n",
      "[34]\ttraining's binary_logloss: 0.216607\tvalid_0's binary_logloss: 0.178303\n",
      "[35]\ttraining's binary_logloss: 0.213789\tvalid_0's binary_logloss: 0.17793\n",
      "[LightGBM] [Warning] No further splits with positive gain, best gain: -inf\n",
      "[36]\ttraining's binary_logloss: 0.212253\tvalid_0's binary_logloss: 0.17793\n",
      "[37]\ttraining's binary_logloss: 0.20912\tvalid_0's binary_logloss: 0.179272\n",
      "[LightGBM] [Warning] No further splits with positive gain, best gain: -inf\n",
      "[38]\ttraining's binary_logloss: 0.207161\tvalid_0's binary_logloss: 0.180863\n",
      "[39]\ttraining's binary_logloss: 0.204479\tvalid_0's binary_logloss: 0.181115\n",
      "[40]\ttraining's binary_logloss: 0.201186\tvalid_0's binary_logloss: 0.182731\n",
      "[41]\ttraining's binary_logloss: 0.198434\tvalid_0's binary_logloss: 0.182782\n",
      "[42]\ttraining's binary_logloss: 0.196021\tvalid_0's binary_logloss: 0.182891\n",
      "[43]\ttraining's binary_logloss: 0.193287\tvalid_0's binary_logloss: 0.182298\n",
      "[44]\ttraining's binary_logloss: 0.19048\tvalid_0's binary_logloss: 0.182323\n",
      "[45]\ttraining's binary_logloss: 0.187843\tvalid_0's binary_logloss: 0.183545\n",
      "[46]\ttraining's binary_logloss: 0.185561\tvalid_0's binary_logloss: 0.18348\n",
      "[47]\ttraining's binary_logloss: 0.183411\tvalid_0's binary_logloss: 0.186706\n",
      "[48]\ttraining's binary_logloss: 0.180868\tvalid_0's binary_logloss: 0.185954\n",
      "[49]\ttraining's binary_logloss: 0.17844\tvalid_0's binary_logloss: 0.187045\n",
      "[LightGBM] [Warning] No further splits with positive gain, best gain: -inf\n",
      "[50]\ttraining's binary_logloss: 0.177159\tvalid_0's binary_logloss: 0.18648\n",
      "[51]\ttraining's binary_logloss: 0.174914\tvalid_0's binary_logloss: 0.186688\n",
      "[52]\ttraining's binary_logloss: 0.17262\tvalid_0's binary_logloss: 0.190182\n",
      "[53]\ttraining's binary_logloss: 0.170473\tvalid_0's binary_logloss: 0.190195\n",
      "[54]\ttraining's binary_logloss: 0.168525\tvalid_0's binary_logloss: 0.190195\n",
      "[55]\ttraining's binary_logloss: 0.166441\tvalid_0's binary_logloss: 0.191886\n",
      "[56]\ttraining's binary_logloss: 0.164535\tvalid_0's binary_logloss: 0.195111\n",
      "[57]\ttraining's binary_logloss: 0.162528\tvalid_0's binary_logloss: 0.193301\n",
      "[58]\ttraining's binary_logloss: 0.160231\tvalid_0's binary_logloss: 0.192417\n",
      "[LightGBM] [Warning] No further splits with positive gain, best gain: -inf\n",
      "[59]\ttraining's binary_logloss: 0.159047\tvalid_0's binary_logloss: 0.19355\n",
      "[60]\ttraining's binary_logloss: 0.157003\tvalid_0's binary_logloss: 0.194292\n",
      "[LightGBM] [Warning] No further splits with positive gain, best gain: -inf\n",
      "[61]\ttraining's binary_logloss: 0.155239\tvalid_0's binary_logloss: 0.193739\n",
      "[LightGBM] [Warning] No further splits with positive gain, best gain: -inf\n",
      "[62]\ttraining's binary_logloss: 0.153875\tvalid_0's binary_logloss: 0.193739\n",
      "[63]\ttraining's binary_logloss: 0.152024\tvalid_0's binary_logloss: 0.193739\n",
      "[LightGBM] [Warning] No further splits with positive gain, best gain: -inf\n",
      "[64]\ttraining's binary_logloss: 0.15076\tvalid_0's binary_logloss: 0.193739\n",
      "[65]\ttraining's binary_logloss: 0.148977\tvalid_0's binary_logloss: 0.194823\n",
      "[LightGBM] [Warning] No further splits with positive gain, best gain: -inf\n",
      "[66]\ttraining's binary_logloss: 0.147734\tvalid_0's binary_logloss: 0.196789\n",
      "[LightGBM] [Warning] No further splits with positive gain, best gain: -inf\n",
      "[67]\ttraining's binary_logloss: 0.146393\tvalid_0's binary_logloss: 0.194806\n",
      "[68]\ttraining's binary_logloss: 0.144842\tvalid_0's binary_logloss: 0.196142\n",
      "[69]\ttraining's binary_logloss: 0.143121\tvalid_0's binary_logloss: 0.196146\n",
      "[70]\ttraining's binary_logloss: 0.14146\tvalid_0's binary_logloss: 0.198223\n",
      "[71]\ttraining's binary_logloss: 0.139586\tvalid_0's binary_logloss: 0.196533\n",
      "[LightGBM] [Warning] No further splits with positive gain, best gain: -inf\n",
      "[72]\ttraining's binary_logloss: 0.138569\tvalid_0's binary_logloss: 0.197014\n",
      "[LightGBM] [Warning] No further splits with positive gain, best gain: -inf\n",
      "[73]\ttraining's binary_logloss: 0.137661\tvalid_0's binary_logloss: 0.194131\n",
      "[74]\ttraining's binary_logloss: 0.136102\tvalid_0's binary_logloss: 0.19533\n",
      "[75]\ttraining's binary_logloss: 0.134471\tvalid_0's binary_logloss: 0.19533\n",
      "[LightGBM] [Warning] No further splits with positive gain, best gain: -inf\n",
      "[76]\ttraining's binary_logloss: 0.133222\tvalid_0's binary_logloss: 0.196145\n",
      "[LightGBM] [Warning] No further splits with positive gain, best gain: -inf\n",
      "[77]\ttraining's binary_logloss: 0.132119\tvalid_0's binary_logloss: 0.196145\n",
      "[78]\ttraining's binary_logloss: 0.130635\tvalid_0's binary_logloss: 0.198097\n",
      "[79]\ttraining's binary_logloss: 0.129087\tvalid_0's binary_logloss: 0.198639\n",
      "[80]\ttraining's binary_logloss: 0.127369\tvalid_0's binary_logloss: 0.198326\n",
      "[LightGBM] [Warning] No further splits with positive gain, best gain: -inf\n",
      "[81]\ttraining's binary_logloss: 0.126059\tvalid_0's binary_logloss: 0.198326\n",
      "[LightGBM] [Warning] No further splits with positive gain, best gain: -inf\n",
      "[82]\ttraining's binary_logloss: 0.125361\tvalid_0's binary_logloss: 0.199574\n",
      "[83]\ttraining's binary_logloss: 0.123753\tvalid_0's binary_logloss: 0.199899\n",
      "[LightGBM] [Warning] No further splits with positive gain, best gain: -inf\n",
      "[84]\ttraining's binary_logloss: 0.122718\tvalid_0's binary_logloss: 0.198676\n",
      "[LightGBM] [Warning] No further splits with positive gain, best gain: -inf\n",
      "[85]\ttraining's binary_logloss: 0.121755\tvalid_0's binary_logloss: 0.200836\n",
      "[LightGBM] [Warning] No further splits with positive gain, best gain: -inf\n",
      "[86]\ttraining's binary_logloss: 0.120772\tvalid_0's binary_logloss: 0.201657\n",
      "[LightGBM] [Warning] No further splits with positive gain, best gain: -inf\n",
      "[87]\ttraining's binary_logloss: 0.119862\tvalid_0's binary_logloss: 0.199665\n",
      "[88]\ttraining's binary_logloss: 0.118425\tvalid_0's binary_logloss: 0.200885\n",
      "[89]\ttraining's binary_logloss: 0.117114\tvalid_0's binary_logloss: 0.20247\n",
      "[LightGBM] [Warning] No further splits with positive gain, best gain: -inf\n",
      "[90]\ttraining's binary_logloss: 0.116046\tvalid_0's binary_logloss: 0.203839\n",
      "[91]\ttraining's binary_logloss: 0.11486\tvalid_0's binary_logloss: 0.204619\n"
     ]
    },
    {
     "name": "stdout",
     "output_type": "stream",
     "text": [
      "[92]\ttraining's binary_logloss: 0.11357\tvalid_0's binary_logloss: 0.205524\n",
      "[93]\ttraining's binary_logloss: 0.112307\tvalid_0's binary_logloss: 0.204141\n",
      "[94]\ttraining's binary_logloss: 0.111038\tvalid_0's binary_logloss: 0.204178\n",
      "[LightGBM] [Warning] No further splits with positive gain, best gain: -inf\n",
      "[95]\ttraining's binary_logloss: 0.109894\tvalid_0's binary_logloss: 0.202416\n",
      "[LightGBM] [Warning] No further splits with positive gain, best gain: -inf\n",
      "[96]\ttraining's binary_logloss: 0.108874\tvalid_0's binary_logloss: 0.202416\n",
      "[97]\ttraining's binary_logloss: 0.107763\tvalid_0's binary_logloss: 0.204367\n",
      "[98]\ttraining's binary_logloss: 0.106396\tvalid_0's binary_logloss: 0.204383\n",
      "[99]\ttraining's binary_logloss: 0.105345\tvalid_0's binary_logloss: 0.205193\n",
      "[100]\ttraining's binary_logloss: 0.103972\tvalid_0's binary_logloss: 0.205193\n",
      "[LightGBM] [Warning] No further splits with positive gain, best gain: -inf\n",
      "[101]\ttraining's binary_logloss: 0.10291\tvalid_0's binary_logloss: 0.207767\n",
      "[LightGBM] [Warning] No further splits with positive gain, best gain: -inf\n",
      "[102]\ttraining's binary_logloss: 0.101945\tvalid_0's binary_logloss: 0.208577\n",
      "[LightGBM] [Warning] No further splits with positive gain, best gain: -inf\n",
      "[103]\ttraining's binary_logloss: 0.101006\tvalid_0's binary_logloss: 0.208577\n",
      "[LightGBM] [Warning] No further splits with positive gain, best gain: -inf\n",
      "[104]\ttraining's binary_logloss: 0.100324\tvalid_0's binary_logloss: 0.212893\n",
      "[LightGBM] [Warning] No further splits with positive gain, best gain: -inf\n",
      "[105]\ttraining's binary_logloss: 0.0995488\tvalid_0's binary_logloss: 0.212893\n",
      "[LightGBM] [Warning] No further splits with positive gain, best gain: -inf\n",
      "[106]\ttraining's binary_logloss: 0.0987146\tvalid_0's binary_logloss: 0.213794\n",
      "[107]\ttraining's binary_logloss: 0.097765\tvalid_0's binary_logloss: 0.214012\n",
      "[LightGBM] [Warning] No further splits with positive gain, best gain: -inf\n",
      "[108]\ttraining's binary_logloss: 0.0970105\tvalid_0's binary_logloss: 0.215942\n",
      "[109]\ttraining's binary_logloss: 0.0960133\tvalid_0's binary_logloss: 0.214969\n",
      "[LightGBM] [Warning] No further splits with positive gain, best gain: -inf\n",
      "[110]\ttraining's binary_logloss: 0.0953687\tvalid_0's binary_logloss: 0.216614\n",
      "[111]\ttraining's binary_logloss: 0.0943886\tvalid_0's binary_logloss: 0.217276\n",
      "[LightGBM] [Warning] No further splits with positive gain, best gain: -inf\n",
      "[112]\ttraining's binary_logloss: 0.0934672\tvalid_0's binary_logloss: 0.215823\n",
      "[113]\ttraining's binary_logloss: 0.0923776\tvalid_0's binary_logloss: 0.215347\n",
      "[LightGBM] [Warning] No further splits with positive gain, best gain: -inf\n",
      "[114]\ttraining's binary_logloss: 0.0915858\tvalid_0's binary_logloss: 0.215322\n",
      "[LightGBM] [Warning] No further splits with positive gain, best gain: -inf\n",
      "[115]\ttraining's binary_logloss: 0.0906811\tvalid_0's binary_logloss: 0.214073\n",
      "[116]\ttraining's binary_logloss: 0.0898028\tvalid_0's binary_logloss: 0.213791\n",
      "[LightGBM] [Warning] No further splits with positive gain, best gain: -inf\n",
      "[117]\ttraining's binary_logloss: 0.0890842\tvalid_0's binary_logloss: 0.212733\n",
      "[LightGBM] [Warning] No further splits with positive gain, best gain: -inf\n",
      "[118]\ttraining's binary_logloss: 0.0883879\tvalid_0's binary_logloss: 0.212068\n",
      "[LightGBM] [Warning] No further splits with positive gain, best gain: -inf\n",
      "[119]\ttraining's binary_logloss: 0.0878576\tvalid_0's binary_logloss: 0.211789\n",
      "[120]\ttraining's binary_logloss: 0.0869745\tvalid_0's binary_logloss: 0.212249\n",
      "[LightGBM] [Warning] No further splits with positive gain, best gain: -inf\n",
      "[121]\ttraining's binary_logloss: 0.0861667\tvalid_0's binary_logloss: 0.214432\n",
      "[LightGBM] [Warning] No further splits with positive gain, best gain: -inf\n",
      "[122]\ttraining's binary_logloss: 0.0858055\tvalid_0's binary_logloss: 0.21468\n",
      "[123]\ttraining's binary_logloss: 0.0850064\tvalid_0's binary_logloss: 0.214432\n",
      "[LightGBM] [Warning] No further splits with positive gain, best gain: -inf\n",
      "[124]\ttraining's binary_logloss: 0.084458\tvalid_0's binary_logloss: 0.217032\n",
      "[125]\ttraining's binary_logloss: 0.0837256\tvalid_0's binary_logloss: 0.218568\n",
      "Accuracy of random forest classifier on validation set using 25th quantile: 0.95\n",
      "Accuracy of random forest classifier on test set using 25th quantile: 0.95\n"
     ]
    },
    {
     "data": {
      "image/png": "[encoded data removed]",
      "text/plain": [
       "<Figure size 288x216 with 1 Axes>"
      ]
     },
     "metadata": {
      "needs_background": "light"
     },
     "output_type": "display_data"
    },
    {
     "data": {
      "image/png": "[encoded data removed]",
      "text/plain": [
       "<Figure size 288x216 with 1 Axes>"
      ]
     },
     "metadata": {
      "needs_background": "light"
     },
     "output_type": "display_data"
    }
   ],
   "source": [
    "lgbmodel(X_train_25, y_train.values.ravel(), X_val_25, y_val.values.ravel(), X_test_25, y_test.values.ravel(), \"25th quantile\")"
   ]
  },
  {
   "cell_type": "code",
   "execution_count": 15,
   "metadata": {},
   "outputs": [],
   "source": [
    "X_test_enc_1 = pd.read_parquet(\"X_test_enc_1.parquet\")\n",
    "X_test_enc_2 = pd.read_parquet(\"X_test_enc_2.parquet\")\n",
    "id_val_1 = pd.read_parquet(\"df_id_val_1.parquet\")\n",
    "id_val_2 = pd.read_parquet(\"df_id_val_2.parquet\")"
   ]
  },
  {
   "cell_type": "code",
   "execution_count": 16,
   "metadata": {},
   "outputs": [],
   "source": [
    "X_test_1_25 = X_test_enc_1.drop(columns = cols_to_drop_25, axis = 1)"
   ]
  },
  {
   "cell_type": "code",
   "execution_count": 17,
   "metadata": {},
   "outputs": [
    {
     "data": {
      "text/plain": [
       "(90810, 38)"
      ]
     },
     "execution_count": 17,
     "metadata": {},
     "output_type": "execute_result"
    }
   ],
   "source": [
    "X_test_1_25.shape"
   ]
  },
  {
   "cell_type": "code",
   "execution_count": 19,
   "metadata": {},
   "outputs": [],
   "source": [
    "model = lgb.LGBMClassifier(learning_rate=0.14048611339776612, max_depth=12,\n",
    "               min_child_weight=8.0, n_estimators=125, num_leaves=150,\n",
    "               random_state=42, reg_alpha=1.5, reg_lambda=2,\n",
    "               scale_pos_weight=5, verbosity=1, min_data_in_leaf=25,lambda_l2=0, lambda_l1 = 1.5)"
   ]
  },
  {
   "cell_type": "code",
   "execution_count": 20,
   "metadata": {},
   "outputs": [
    {
     "name": "stdout",
     "output_type": "stream",
     "text": [
      "[LightGBM] [Warning] min_data_in_leaf is set=25, min_child_samples=20 will be ignored. Current value: min_data_in_leaf=25\n",
      "[LightGBM] [Warning] lambda_l1 is set=1.5, reg_alpha=1.5 will be ignored. Current value: lambda_l1=1.5\n",
      "[LightGBM] [Warning] lambda_l2 is set=0, reg_lambda=2 will be ignored. Current value: lambda_l2=0\n",
      "[LightGBM] [Warning] min_data_in_leaf is set=25, min_child_samples=20 will be ignored. Current value: min_data_in_leaf=25\n",
      "[LightGBM] [Warning] lambda_l1 is set=1.5, reg_alpha=1.5 will be ignored. Current value: lambda_l1=1.5\n",
      "[LightGBM] [Warning] lambda_l2 is set=0, reg_lambda=2 will be ignored. Current value: lambda_l2=0\n",
      "[LightGBM] [Info] Number of positive: 5483, number of negative: 24923\n",
      "[LightGBM] [Warning] Auto-choosing col-wise multi-threading, the overhead of testing was 0.002618 seconds.\n",
      "You can set `force_col_wise=true` to remove the overhead.\n",
      "[LightGBM] [Info] Total Bins 2559\n",
      "[LightGBM] [Info] Number of data points in the train set: 30406, number of used features: 26\n",
      "[LightGBM] [Info] [binary:BoostFromScore]: pavg=0.180326 -> initscore=-1.514139\n",
      "[LightGBM] [Info] Start training from score -1.514139\n",
      "[LightGBM] [Warning] No further splits with positive gain, best gain: -inf\n",
      "[LightGBM] [Warning] No further splits with positive gain, best gain: -inf\n",
      "[LightGBM] [Warning] No further splits with positive gain, best gain: -inf\n",
      "[LightGBM] [Warning] No further splits with positive gain, best gain: -inf\n",
      "[LightGBM] [Warning] No further splits with positive gain, best gain: -inf\n",
      "[LightGBM] [Warning] No further splits with positive gain, best gain: -inf\n",
      "[LightGBM] [Warning] No further splits with positive gain, best gain: -inf\n",
      "[LightGBM] [Warning] No further splits with positive gain, best gain: -inf\n",
      "[LightGBM] [Warning] No further splits with positive gain, best gain: -inf\n",
      "[LightGBM] [Warning] No further splits with positive gain, best gain: -inf\n",
      "[LightGBM] [Warning] No further splits with positive gain, best gain: -inf\n",
      "[LightGBM] [Warning] No further splits with positive gain, best gain: -inf\n",
      "[LightGBM] [Warning] No further splits with positive gain, best gain: -inf\n",
      "[LightGBM] [Warning] No further splits with positive gain, best gain: -inf\n",
      "[LightGBM] [Warning] No further splits with positive gain, best gain: -inf\n",
      "[LightGBM] [Warning] No further splits with positive gain, best gain: -inf\n",
      "[LightGBM] [Warning] No further splits with positive gain, best gain: -inf\n",
      "[LightGBM] [Warning] No further splits with positive gain, best gain: -inf\n",
      "[LightGBM] [Warning] No further splits with positive gain, best gain: -inf\n",
      "[LightGBM] [Warning] No further splits with positive gain, best gain: -inf\n",
      "[LightGBM] [Warning] No further splits with positive gain, best gain: -inf\n",
      "[LightGBM] [Warning] No further splits with positive gain, best gain: -inf\n",
      "[LightGBM] [Warning] No further splits with positive gain, best gain: -inf\n",
      "[LightGBM] [Warning] No further splits with positive gain, best gain: -inf\n",
      "[LightGBM] [Warning] No further splits with positive gain, best gain: -inf\n",
      "[LightGBM] [Warning] No further splits with positive gain, best gain: -inf\n",
      "[LightGBM] [Warning] No further splits with positive gain, best gain: -inf\n",
      "[LightGBM] [Warning] No further splits with positive gain, best gain: -inf\n",
      "[LightGBM] [Warning] No further splits with positive gain, best gain: -inf\n",
      "[LightGBM] [Warning] No further splits with positive gain, best gain: -inf\n",
      "[LightGBM] [Warning] No further splits with positive gain, best gain: -inf\n",
      "[LightGBM] [Warning] No further splits with positive gain, best gain: -inf\n",
      "[LightGBM] [Warning] No further splits with positive gain, best gain: -inf\n",
      "[LightGBM] [Warning] No further splits with positive gain, best gain: -inf\n",
      "[LightGBM] [Warning] No further splits with positive gain, best gain: -inf\n",
      "[LightGBM] [Warning] No further splits with positive gain, best gain: -inf\n",
      "[LightGBM] [Warning] No further splits with positive gain, best gain: -inf\n",
      "[LightGBM] [Warning] No further splits with positive gain, best gain: -inf\n",
      "[LightGBM] [Warning] No further splits with positive gain, best gain: -inf\n",
      "Accuracy of random forest classifier on validation set using 25th percentile: 0.95\n",
      "Accuracy of random forest classifier on test set using 25th percentile: 0.95\n"
     ]
    },
    {
     "data": {
      "image/png": "[encoded data removed]",
      "text/plain": [
       "<Figure size 288x216 with 1 Axes>"
      ]
     },
     "metadata": {
      "needs_background": "light"
     },
     "output_type": "display_data"
    },
    {
     "data": {
      "image/png": "[encoded data removed]",
      "text/plain": [
       "<Figure size 288x216 with 1 Axes>"
      ]
     },
     "metadata": {
      "needs_background": "light"
     },
     "output_type": "display_data"
    }
   ],
   "source": [
    "##here im just checking the clf model we fitting is the right one\n",
    "model.fit(X_train_25, y_train.values.ravel())\n",
    "variable = \"25th percentile\"\n",
    "    ## get validation and test predicition\n",
    "y_val_pred = model.predict(X_val_25)\n",
    "print('Accuracy of random forest classifier on validation set using {}: {:.2f}'.format(variable, metrics.accuracy_score(y_val, y_val_pred)))\n",
    "   \n",
    "y_test_pred = model.predict(X_test_25)\n",
    "print('Accuracy of random forest classifier on test set using {}: {:.2f}'.format(variable, metrics.accuracy_score(y_test, y_test_pred)))\n",
    "\n",
    "    ## define metrics for roc\n",
    "y_test_pred_proba = model.predict_proba(X_test_25)[:,1]\n",
    "fpr, tpr, thresholds = roc_curve(y_test, y_test_pred_proba)\n",
    "rf_roc_auc = roc_auc_score(y_test, y_test_pred_proba)\n",
    "    \n",
    "    ## create roc curve   \n",
    "plt.figure()\n",
    "plt.plot(fpr, tpr, label = 'Random Forest Classifier (area = %0.2f)' % rf_roc_auc)\n",
    "plt.plot([0, 1], [0, 1],'r--')\n",
    "plt.xlim([0.0, 1.0])\n",
    "plt.ylim([0.0, 1.05])\n",
    "plt.xlabel('False Positive Rate')\n",
    "plt.ylabel('True Positive Rate')\n",
    "plt.title('Receiver operating characteristic')\n",
    "plt.legend(loc = \"lower right\")\n",
    "plt.show()\n",
    "\n",
    "    ## define metric for precision and recall\n",
    "precision, recall, thresholds = precision_recall_curve(y_test, y_test_pred_proba)\n",
    "auc_precision_recall = auc(recall, precision)\n",
    "\n",
    "    ## create pr curve   \n",
    "plt.figure()\n",
    "plt.plot(recall, precision, label = 'Random Forest Classifier (area = %0.2f)' % auc_precision_recall)\n",
    "plt.xlim([0.0, 1.0])\n",
    "plt.ylim([0.0, 1.05])\n",
    "plt.xlabel('Recall')\n",
    "plt.ylabel('Precision')\n",
    "plt.title('Precision-Recall')\n",
    "plt.legend(loc = \"lower right\")\n",
    "plt.show()"
   ]
  },
  {
   "cell_type": "code",
   "execution_count": 21,
   "metadata": {},
   "outputs": [],
   "source": [
    "y_test_pred_proba = model.predict_proba(X_test_1_25)[:,1]"
   ]
  },
  {
   "cell_type": "code",
   "execution_count": 22,
   "metadata": {},
   "outputs": [],
   "source": [
    "res = pd.DataFrame(y_test_pred_proba,columns=['score'])"
   ]
  },
  {
   "cell_type": "code",
   "execution_count": 24,
   "metadata": {},
   "outputs": [],
   "source": [
    "final_sub2 = pd.concat([id_val_1, res], axis=1)"
   ]
  },
  {
   "cell_type": "code",
   "execution_count": 25,
   "metadata": {},
   "outputs": [],
   "source": [
    "final_sub2 = final_sub2.rename(columns={'transcript':'transcript_id','position':'transcript_position'})"
   ]
  },
  {
   "cell_type": "code",
   "execution_count": 26,
   "metadata": {},
   "outputs": [],
   "source": [
    "final_sub2.to_csv('dataset1_submission2.csv')"
   ]
  },
  {
   "cell_type": "code",
   "execution_count": 27,
   "metadata": {},
   "outputs": [],
   "source": [
    "X_test_2_25 = X_test_enc_2.drop(columns = cols_to_drop_25, axis = 1)"
   ]
  },
  {
   "cell_type": "code",
   "execution_count": 28,
   "metadata": {},
   "outputs": [],
   "source": [
    "y_test_pred_proba2 = model.predict_proba(X_test_2_25)[:,1]"
   ]
  },
  {
   "cell_type": "code",
   "execution_count": 29,
   "metadata": {},
   "outputs": [],
   "source": [
    "res2 = pd.DataFrame(y_test_pred_proba2,columns=['score'])"
   ]
  },
  {
   "cell_type": "code",
   "execution_count": 30,
   "metadata": {},
   "outputs": [],
   "source": [
    "final_sub2_data2 = pd.concat([id_val_2, res2], axis=1)"
   ]
  },
  {
   "cell_type": "code",
   "execution_count": 31,
   "metadata": {},
   "outputs": [],
   "source": [
    "final_sub22 = final_sub2_data2.rename(columns={'transcript':'transcript_id','position':'transcript_position'})"
   ]
  },
  {
   "cell_type": "code",
   "execution_count": 32,
   "metadata": {},
   "outputs": [],
   "source": [
    "final_sub22.to_csv('dataset2_submission2.csv')"
   ]
  },
  {
   "cell_type": "code",
   "execution_count": 33,
   "metadata": {},
   "outputs": [],
   "source": [
    "X_train_full = pd.read_parquet(\"X_train_full_enc.parquet\")\n",
    "df_id_val_full = pd.read_parquet(\"df_id_val_full.parquet\")\n",
    "X_train_full = X_train_full.drop(columns = cols_to_drop_25, axis = 1)\n",
    "y_train_full = model.predict_proba(X_train_full)[:,1]"
   ]
  },
  {
   "cell_type": "code",
   "execution_count": 34,
   "metadata": {},
   "outputs": [],
   "source": [
    "res0 = pd.DataFrame(y_train_full,columns=['score'])"
   ]
  },
  {
   "cell_type": "code",
   "execution_count": 35,
   "metadata": {},
   "outputs": [],
   "source": [
    "train_full = pd.concat([df_id_val_full, res0], axis=1)"
   ]
  },
  {
   "cell_type": "code",
   "execution_count": 38,
   "metadata": {},
   "outputs": [],
   "source": [
    "train_ful = train_full.rename(columns={'transcript':'transcript_id','position':'transcript_position'})"
   ]
  },
  {
   "cell_type": "code",
   "execution_count": 39,
   "metadata": {},
   "outputs": [],
   "source": [
    "train_ful.to_csv('proj-acmxz_dataset0_2.csv')"
   ]
  },
  {
   "cell_type": "code",
   "execution_count": 40,
   "metadata": {},
   "outputs": [
    {
     "data": {
      "text/plain": [
       "(54079, 3)"
      ]
     },
     "execution_count": 40,
     "metadata": {},
     "output_type": "execute_result"
    }
   ],
   "source": [
    "train_ful.shape"
   ]
  }
 ],
 "metadata": {
  "kernelspec": {
   "display_name": "Python 3",
   "language": "python",
   "name": "python3"
  },
  "language_info": {
   "codemirror_mode": {
    "name": "ipython",
    "version": 3
   },
   "file_extension": ".py",
   "mimetype": "text/x-python",
   "name": "python",
   "nbconvert_exporter": "python",
   "pygments_lexer": "ipython3",
   "version": "3.8.5"
  }
 },
 "nbformat": 4,
 "nbformat_minor": 4
}
