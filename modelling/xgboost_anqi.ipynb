{
 "cells": [
  {
   "cell_type": "code",
   "execution_count": 1,
   "metadata": {},
   "outputs": [
    {
     "name": "stderr",
     "output_type": "stream",
     "text": [
      "/Users/yuanqi/opt/anaconda3/envs/gene/lib/python3.8/site-packages/xgboost/compat.py:36: FutureWarning: pandas.Int64Index is deprecated and will be removed from pandas in a future version. Use pandas.Index with the appropriate dtype instead.\n",
      "  from pandas import MultiIndex, Int64Index\n"
     ]
    }
   ],
   "source": [
    "import pandas as pd\n",
    "import numpy as mp\n",
    "from sklearn import preprocessing\n",
    "from sklearn import metrics\n",
    "from sklearn.model_selection import train_test_split\n",
    "from sklearn.metrics import confusion_matrix, roc_auc_score, roc_curve, auc, precision_recall_curve, auc\n",
    "import statsmodels.api as sm\n",
    "import matplotlib.pyplot as plt\n",
    "import xgboost as xgb\n",
    "from xgboost import plot_importance"
   ]
  },
  {
   "cell_type": "code",
   "execution_count": 2,
   "metadata": {},
   "outputs": [
    {
     "data": {
      "text/plain": [
       "'/Users/yuanqi/Desktop/DSA4262-ACMXZ/modelling'"
      ]
     },
     "execution_count": 2,
     "metadata": {},
     "output_type": "execute_result"
    }
   ],
   "source": [
    "pwd"
   ]
  },
  {
   "cell_type": "code",
   "execution_count": null,
   "metadata": {},
   "outputs": [],
   "source": [
    "ROC: 0.7\n",
    "PR AUC: 0.3"
   ]
  },
  {
   "cell_type": "code",
   "execution_count": 2,
   "metadata": {},
   "outputs": [],
   "source": [
    "## Load in Test Set\n",
    "#X_test_path = \"../data/preprocessed_data/test/X_test_enc.parquet\"\n",
    "X_test_path = \"../data/new_preprocessed_data/test/X_test_enc.parquet\"\n",
    "X_test = pd.read_parquet(X_test_path)\n",
    "\n",
    "y_test_path = \"../data/new_preprocessed_data/test/y_test.parquet\"\n",
    "y_test = pd.read_parquet(y_test_path)\n",
    "y_test = pd.DataFrame(y_test['label'].astype(int)) ## convert labels to int for roc and auc calculation\n",
    "\n",
    "## Load in Validation Set\n",
    "X_val_path = \"../data/new_preprocessed_data/validation/X_val_enc.parquet\"\n",
    "X_val = pd.read_parquet(X_val_path)\n",
    "\n",
    "y_val_path = \"../data/new_preprocessed_data/validation/y_val.parquet\"\n",
    "y_val = pd.read_parquet(y_val_path)\n",
    "y_val = pd.DataFrame(y_val['label'].astype(int))"
   ]
  },
  {
   "cell_type": "code",
   "execution_count": 44,
   "metadata": {},
   "outputs": [],
   "source": [
    "def xgbmodel(x_train, y_train, x_val, y_val, x_test, y_test, variable):\n",
    "    \n",
    "    ## fit logistic regression on training data\n",
    "    model = xgb.XGBClassifier()\n",
    "    model.fit(x_train, y_train)\n",
    "\n",
    "    ## predicting validation set result and calculating accuracy\n",
    "    y_val_pred = model.predict(x_val)\n",
    "    print('Accuracy of logistic regression classifier on validation set using {}: {:.2f}'.format(variable, model.score(x_val, y_val)))\n",
    "\n",
    "    ## predicting test set result and calculating accuracy\n",
    "    y_test_pred = model.predict(x_test)\n",
    "    print('Accuracy of logistic regression classifier on test set using {}: {:.2f}'.format(variable, model.score(x_test, y_test)))\n",
    "\n",
    "    ## define metrics for roc\n",
    "    y_test_pred_proba = model.predict_proba(x_test)[:,1]\n",
    "    fpr, tpr, thresholds = roc_curve(y_test, y_test_pred_proba)\n",
    "    mlp_roc_auc = roc_auc_score(y_test, y_test_pred_proba)\n",
    "    # fpr, tpr, thresholds = roc_curve(y_test, y_test_pred_proba, pos_label=1)\n",
    "    print('auc: ', auc(fpr, tpr))   \n",
    "    # calculate the precision-recall auc\n",
    "    precision, recall, _ = precision_recall_curve(y_test, y_test_pred_proba)\n",
    "    auc_score = auc(recall, precision)\n",
    "    print('PR AUC: %.3f' % auc_score)\n",
    "    \n",
    "    ## create roc curve   \n",
    "    plt.figure()\n",
    "    plt.plot(fpr, tpr, label = 'XGBoost (area = %0.2f)' % mlp_roc_auc)\n",
    "    plt.plot([0, 1], [0, 1],'r--')\n",
    "    plt.xlim([0.0, 1.0])\n",
    "    plt.ylim([0.0, 1.05])\n",
    "    plt.xlabel('False Positive Rate')\n",
    "    plt.ylabel('True Positive Rate')\n",
    "    plt.title('Receiver operating characteristic')\n",
    "    plt.legend(loc = \"lower right\")\n",
    "    plt.show()\n",
    "\n",
    "\n",
    "    # plot\n",
    "    plt.bar(range(len(model.feature_importances_)), model.feature_importances_)\n",
    "    plt.show()\n",
    "\n",
    "\n",
    "    # plot feature importance\n",
    "    plot_importance(model)\n",
    "    plt.show()"
   ]
  },
  {
   "cell_type": "code",
   "execution_count": 3,
   "metadata": {},
   "outputs": [],
   "source": [
    "## function for basic classification\n",
    "def xgbmodel(x_train, y_train, x_val, y_val, x_test, y_test, variable):\n",
    "    \n",
    "    model = xgb.XGBClassifier()\n",
    "    model.fit(x_train, y_train)\n",
    "\n",
    "    ## get validation and test predicition\n",
    "    y_val_pred = model.predict(x_val)\n",
    "    print('Accuracy of random forest classifier on validation set using {}: {:.2f}'.format(variable, metrics.accuracy_score(y_val, y_val_pred)))\n",
    "   \n",
    "    y_test_pred = model.predict(x_test)\n",
    "    print('Accuracy of random forest classifier on test set using {}: {:.2f}'.format(variable, metrics.accuracy_score(y_test, y_test_pred)))\n",
    "\n",
    "    ## define metrics for roc\n",
    "    y_test_pred_proba = model.predict_proba(x_test)[:,1]\n",
    "    fpr, tpr, thresholds = roc_curve(y_test, y_test_pred_proba)\n",
    "    rf_roc_auc = roc_auc_score(y_test, y_test_pred_proba)\n",
    "    \n",
    "    ## create roc curve   \n",
    "    plt.figure()\n",
    "    plt.plot(fpr, tpr, label = 'Random Forest Classifier (area = %0.2f)' % rf_roc_auc)\n",
    "    plt.plot([0, 1], [0, 1],'r--')\n",
    "    plt.xlim([0.0, 1.0])\n",
    "    plt.ylim([0.0, 1.05])\n",
    "    plt.xlabel('False Positive Rate')\n",
    "    plt.ylabel('True Positive Rate')\n",
    "    plt.title('Receiver operating characteristic')\n",
    "    plt.legend(loc = \"lower right\")\n",
    "    plt.show()\n",
    "\n",
    "    ## define metric for precision and recall\n",
    "    precision, recall, thresholds = precision_recall_curve(y_test, y_test_pred_proba)\n",
    "    auc_precision_recall = auc(recall, precision)\n",
    "\n",
    "    ## create pr curve   \n",
    "    plt.figure()\n",
    "    plt.plot(recall, precision, label = 'Random Forest Classifier (area = %0.2f)' % auc_precision_recall)\n",
    "    plt.xlim([0.0, 1.0])\n",
    "    plt.ylim([0.0, 1.05])\n",
    "    plt.xlabel('Recall')\n",
    "    plt.ylabel('Precision')\n",
    "    plt.title('Precision-Recall')\n",
    "    plt.legend(loc = \"lower right\")\n",
    "    plt.show()"
   ]
  },
  {
   "cell_type": "code",
   "execution_count": 23,
   "metadata": {},
   "outputs": [
    {
     "data": {
      "text/plain": [
       "Index(['reads_count', 'dwelling_time_-1_25', 'dwelling_time_-1_50',\n",
       "       'dwelling_time_-1_75', 'dwelling_time_-1_mean', 'std_-1_25',\n",
       "       'std_-1_50', 'std_-1_75', 'std_-1_mean', 'mean_-1_25', 'mean_-1_50',\n",
       "       'mean_-1_75', 'mean_-1_mean', 'dwelling_time_0_25',\n",
       "       'dwelling_time_0_50', 'dwelling_time_0_75', 'dwelling_time_0_mean',\n",
       "       'std_0_25', 'std_0_50', 'std_0_75', 'std_0_mean', 'mean_0_25',\n",
       "       'mean_0_50', 'mean_0_75', 'mean_0_mean', 'dwelling_time_+1_25',\n",
       "       'dwelling_time_+1_50', 'dwelling_time_+1_75', 'dwelling_time_+1_mean',\n",
       "       'std_+1_25', 'std_+1_50', 'std_+1_75', 'std_+1_mean', 'mean_+1_25',\n",
       "       'mean_+1_50', 'mean_+1_75', 'mean_+1_mean', 'position_0_A',\n",
       "       'position_0_C', 'position_0_G', 'position_0_T', 'position_1_A',\n",
       "       'position_1_C', 'position_1_G', 'position_1_T', 'position_2_A',\n",
       "       'position_2_C', 'position_2_G', 'position_2_T', 'position_3_A',\n",
       "       'position_3_C', 'position_3_G', 'position_3_T', 'position_4_A',\n",
       "       'position_4_C', 'position_4_G', 'position_4_T', 'position_5_A',\n",
       "       'position_5_C', 'position_5_G', 'position_5_T', 'position_6_A',\n",
       "       'position_6_C', 'position_6_G', 'position_6_T'],\n",
       "      dtype='object')"
      ]
     },
     "execution_count": 23,
     "metadata": {},
     "output_type": "execute_result"
    }
   ],
   "source": [
    "X_val.columns"
   ]
  },
  {
   "cell_type": "code",
   "execution_count": 4,
   "metadata": {},
   "outputs": [],
   "source": [
    "## need to drop columns for X validation and test data\n",
    "\n",
    "X_val_25 = X_val.drop(['dwelling_time_-1_50','dwelling_time_-1_75', 'dwelling_time_-1_mean', \n",
    "        'std_-1_50', 'std_-1_75', 'std_-1_mean', \n",
    "        'mean_-1_50','mean_-1_75', 'mean_-1_mean',\n",
    "        'dwelling_time_0_50', 'dwelling_time_0_75', 'dwelling_time_0_mean',\n",
    "       'std_0_50', 'std_0_75', 'std_0_mean',\n",
    "       'mean_0_50', 'mean_0_75', 'mean_0_mean',\n",
    "       'dwelling_time_+1_50', 'dwelling_time_+1_75', 'dwelling_time_+1_mean',\n",
    "       'std_+1_50', 'std_+1_75', 'std_+1_mean',\n",
    "       'mean_+1_50', 'mean_+1_75', 'mean_+1_mean'], axis = 1)\n",
    "# X_train_25 = X_train_enc.drop(columns=['dwelling_time_-1_50', 'dwelling_time_-1_75', 'dwelling_time_-1_mean', 'std_-1_50', 'std_-1_75', 'std_-1_mean', 'mean_-1_50', 'mean_-1_75', 'mean_-1_mean',\n",
    "#                                         'dwelling_time_0_50', 'dwelling_time_0_75', 'dwelling_time_0_mean', 'std_0_50', 'std_0_75', 'std_0_mean', 'mean_0_50', 'mean_0_75', 'mean_0_mean',\n",
    "#                                         'dwelling_time_+1_50', 'dwelling_time_+1_75', 'dwelling_time_+1_mean', 'std_+1_50', 'std_+1_75', 'std_+1_mean', 'mean_+1_50', 'mean_+1_75', 'mean_+1_mean'])\n",
    "\n",
    "# X_val_50 = X_val.drop(['dwelling_time_25', 'dwelling_time_75', 'dwelling_time_mean', 'std_25', 'std_75', 'std_mean', 'mean_25', 'mean_75', 'mean_mean'], axis = 1)\n",
    "# X_val_75 = X_val.drop(['dwelling_time_25', 'dwelling_time_50', 'dwelling_time_mean', 'std_25', 'std_50', 'std_mean', 'mean_25', 'mean_50', 'mean_mean'], axis = 1)\n",
    "# X_val_mean = X_val.drop(['dwelling_time_25', 'dwelling_time_50', 'dwelling_time_75', 'std_25', 'std_50', 'std_75', 'mean_25', 'mean_50', 'mean_75'], axis = 1)\n",
    "\n",
    "X_test_25 = X_test.drop(['dwelling_time_-1_50','dwelling_time_-1_75', 'dwelling_time_-1_mean', \n",
    "        'std_-1_50', 'std_-1_75', 'std_-1_mean', \n",
    "        'mean_-1_50','mean_-1_75', 'mean_-1_mean',\n",
    "        'dwelling_time_0_50', 'dwelling_time_0_75', 'dwelling_time_0_mean',\n",
    "       'std_0_50', 'std_0_75', 'std_0_mean',\n",
    "       'mean_0_50', 'mean_0_75', 'mean_0_mean',\n",
    "       'dwelling_time_+1_50', 'dwelling_time_+1_75', 'dwelling_time_+1_mean',\n",
    "       'std_+1_50', 'std_+1_75', 'std_+1_mean',\n",
    "       'mean_+1_50', 'mean_+1_75', 'mean_+1_mean'], axis = 1)\n",
    "# X_test_50 = X_test.drop(['dwelling_time_25', 'dwelling_time_75', 'dwelling_time_mean', 'std_25', 'std_75', 'std_mean', 'mean_25', 'mean_75', 'mean_mean'], axis = 1)\n",
    "# X_test_75 = X_test.drop(['dwelling_time_25', 'dwelling_time_50', 'dwelling_time_mean', 'std_25', 'std_50', 'std_mean', 'mean_25', 'mean_50', 'mean_mean'], axis = 1)\n",
    "# X_test_mean = X_test.drop(['dwelling_time_25', 'dwelling_time_50', 'dwelling_time_75', 'std_25', 'std_50', 'std_75', 'mean_25', 'mean_50', 'mean_75'], axis = 1)"
   ]
  },
  {
   "cell_type": "code",
   "execution_count": 5,
   "metadata": {},
   "outputs": [],
   "source": [
    "## Load Datasets\n",
    "X_train_25_path = \"../data/new_preprocessed_data/training/X_train_25.parquet\" ## to edit file path\n",
    "X_train_25 = pd.read_parquet(X_train_25_path)\n",
    "\n",
    "y_train_path = \"../data/new_preprocessed_data/training/y_train.parquet\"\n",
    "y_train = pd.read_parquet(y_train_path)\n",
    "y_train = pd.DataFrame(y_train['label'].astype(int))"
   ]
  },
  {
   "cell_type": "code",
   "execution_count": 6,
   "metadata": {},
   "outputs": [
    {
     "name": "stdout",
     "output_type": "stream",
     "text": [
      "Number of Rows for X_train_25 and y_train: 30406, 30406\n",
      "Number of Rows for X_val_25 and y_val: 12143, 12143\n",
      "Number of Rows for X_test_25 and y_test: 11825, 11825\n"
     ]
    }
   ],
   "source": [
    "## check if training data are the same len\n",
    "print(f\"Number of Rows for X_train_25 and y_train: {len(X_train_25)}, {len(y_train)}\")\n",
    "\n",
    "## check if validation data are the same len\n",
    "print(f\"Number of Rows for X_val_25 and y_val: {len(X_val_25)}, {len(y_val)}\")\n",
    "\n",
    "## check if test data are the same len\n",
    "print(f\"Number of Rows for X_test_25 and y_test: {len(X_test_25)}, {len(y_test)}\")"
   ]
  },
  {
   "cell_type": "code",
   "execution_count": 7,
   "metadata": {},
   "outputs": [
    {
     "data": {
      "text/plain": [
       "Index(['reads_count', 'dwelling_time_-1_25', 'std_-1_25', 'mean_-1_25',\n",
       "       'dwelling_time_0_25', 'std_0_25', 'mean_0_25', 'dwelling_time_+1_25',\n",
       "       'std_+1_25', 'mean_+1_25', 'position_0_A', 'position_0_C',\n",
       "       'position_0_G', 'position_0_T', 'position_1_A', 'position_1_C',\n",
       "       'position_1_G', 'position_1_T', 'position_2_A', 'position_2_C',\n",
       "       'position_2_G', 'position_2_T', 'position_3_A', 'position_3_C',\n",
       "       'position_3_G', 'position_3_T', 'position_4_A', 'position_4_C',\n",
       "       'position_4_G', 'position_4_T', 'position_5_A', 'position_5_C',\n",
       "       'position_5_G', 'position_5_T', 'position_6_A', 'position_6_C',\n",
       "       'position_6_G', 'position_6_T'],\n",
       "      dtype='object')"
      ]
     },
     "execution_count": 7,
     "metadata": {},
     "output_type": "execute_result"
    }
   ],
   "source": [
    "X_val_25.columns"
   ]
  },
  {
   "cell_type": "code",
   "execution_count": 8,
   "metadata": {},
   "outputs": [
    {
     "data": {
      "text/plain": [
       "Index(['reads_count', 'dwelling_time_-1_25', 'std_-1_25', 'mean_-1_25',\n",
       "       'dwelling_time_0_25', 'std_0_25', 'mean_0_25', 'dwelling_time_+1_25',\n",
       "       'std_+1_25', 'mean_+1_25', 'position_0_A', 'position_0_C',\n",
       "       'position_0_G', 'position_0_T', 'position_1_A', 'position_1_C',\n",
       "       'position_1_G', 'position_1_T', 'position_2_A', 'position_2_C',\n",
       "       'position_2_G', 'position_2_T', 'position_3_A', 'position_3_C',\n",
       "       'position_3_G', 'position_3_T', 'position_4_A', 'position_4_C',\n",
       "       'position_4_G', 'position_4_T', 'position_5_A', 'position_5_C',\n",
       "       'position_5_G', 'position_5_T', 'position_6_A', 'position_6_C',\n",
       "       'position_6_G', 'position_6_T'],\n",
       "      dtype='object')"
      ]
     },
     "execution_count": 8,
     "metadata": {},
     "output_type": "execute_result"
    }
   ],
   "source": [
    "X_train_25.columns"
   ]
  },
  {
   "cell_type": "code",
   "execution_count": null,
   "metadata": {},
   "outputs": [],
   "source": [
    "X_train_25 = X_train_enc.drop(columns=['dwelling_time_-1_50', 'dwelling_time_-1_75', 'dwelling_time_-1_mean', 'std_-1_50', 'std_-1_75', 'std_-1_mean', 'mean_-1_50', 'mean_-1_75', 'mean_-1_mean',\n",
    "                                        'dwelling_time_0_50', 'dwelling_time_0_75', 'dwelling_time_0_mean', 'std_0_50', 'std_0_75', 'std_0_mean', 'mean_0_50', 'mean_0_75', 'mean_0_mean',\n",
    "                                        'dwelling_time_+1_50', 'dwelling_time_+1_75', 'dwelling_time_+1_mean', 'std_+1_50', 'std_+1_75', 'std_+1_mean', 'mean_+1_50', 'mean_+1_75', 'mean_+1_mean'])"
   ]
  },
  {
   "cell_type": "code",
   "execution_count": 9,
   "metadata": {},
   "outputs": [
    {
     "name": "stderr",
     "output_type": "stream",
     "text": [
      "/Users/yuanqi/opt/anaconda3/envs/gene/lib/python3.8/site-packages/xgboost/sklearn.py:1224: UserWarning: The use of label encoder in XGBClassifier is deprecated and will be removed in a future release. To remove this warning, do the following: 1) Pass option use_label_encoder=False when constructing XGBClassifier object; and 2) Encode your labels (y) as integers starting with 0, i.e. 0, 1, 2, ..., [num_class - 1].\n",
      "  warnings.warn(label_encoder_deprecation_msg, UserWarning)\n",
      "/Users/yuanqi/opt/anaconda3/envs/gene/lib/python3.8/site-packages/xgboost/data.py:250: FutureWarning: pandas.Int64Index is deprecated and will be removed from pandas in a future version. Use pandas.Index with the appropriate dtype instead.\n",
      "  elif isinstance(data.columns, (pd.Int64Index, pd.RangeIndex)):\n"
     ]
    },
    {
     "name": "stdout",
     "output_type": "stream",
     "text": [
      "[17:30:10] WARNING: /var/folders/sy/f16zz6x50xz3113nwtb9bvq00000gp/T/abs_44tbtwf8c1/croots/recipe/xgboost-split_1659548960882/work/src/learner.cc:1115: Starting in XGBoost 1.3.0, the default evaluation metric used with the objective 'binary:logistic' was changed from 'error' to 'logloss'. Explicitly set eval_metric if you'd like to restore the old behavior.\n",
      "Accuracy of random forest classifier on validation set using 25th quantile: 0.95\n",
      "Accuracy of random forest classifier on test set using 25th quantile: 0.95\n"
     ]
    },
    {
     "data": {
      "image/png": "[encoded data removed]",
      "text/plain": [
       "<Figure size 640x480 with 1 Axes>"
      ]
     },
     "metadata": {},
     "output_type": "display_data"
    },
    {
     "data": {
      "image/png": "[encoded data removed]",
      "text/plain": [
       "<Figure size 640x480 with 1 Axes>"
      ]
     },
     "metadata": {},
     "output_type": "display_data"
    }
   ],
   "source": [
    "xgbmodel(X_train_25, y_train.values.ravel(), X_val_25, y_val.values.ravel(), X_test_25, y_test.values.ravel(), \"25th quantile\")"
   ]
  },
  {
   "cell_type": "code",
   "execution_count": 12,
   "metadata": {},
   "outputs": [
    {
     "name": "stderr",
     "output_type": "stream",
     "text": [
      "/Users/yuanqi/opt/anaconda3/envs/gene/lib/python3.8/site-packages/xgboost/sklearn.py:1224: UserWarning: The use of label encoder in XGBClassifier is deprecated and will be removed in a future release. To remove this warning, do the following: 1) Pass option use_label_encoder=False when constructing XGBClassifier object; and 2) Encode your labels (y) as integers starting with 0, i.e. 0, 1, 2, ..., [num_class - 1].\n",
      "  warnings.warn(label_encoder_deprecation_msg, UserWarning)\n",
      "/Users/yuanqi/opt/anaconda3/envs/gene/lib/python3.8/site-packages/xgboost/data.py:250: FutureWarning: pandas.Int64Index is deprecated and will be removed from pandas in a future version. Use pandas.Index with the appropriate dtype instead.\n",
      "  elif isinstance(data.columns, (pd.Int64Index, pd.RangeIndex)):\n"
     ]
    },
    {
     "name": "stdout",
     "output_type": "stream",
     "text": [
      "[17:30:34] WARNING: /var/folders/sy/f16zz6x50xz3113nwtb9bvq00000gp/T/abs_44tbtwf8c1/croots/recipe/xgboost-split_1659548960882/work/src/learner.cc:1115: Starting in XGBoost 1.3.0, the default evaluation metric used with the objective 'binary:logistic' was changed from 'error' to 'logloss'. Explicitly set eval_metric if you'd like to restore the old behavior.\n",
      "Accuracy of random forest classifier on validation set using 25th quantile: 0.95\n",
      "Accuracy of random forest classifier on test set using 25th quantile: 0.95\n"
     ]
    },
    {
     "data": {
      "image/png": "[encoded data removed]",
      "text/plain": [
       "<Figure size 640x480 with 1 Axes>"
      ]
     },
     "metadata": {},
     "output_type": "display_data"
    },
    {
     "data": {
      "image/png": "[encoded data removed]",
      "text/plain": [
       "<Figure size 640x480 with 1 Axes>"
      ]
     },
     "metadata": {},
     "output_type": "display_data"
    }
   ],
   "source": [
    "xgbmodel(X_train_25_new, y_train.values.ravel(), X_val_25_new, y_val.values.ravel(), X_test_25_new, y_test.values.ravel(), \"25th quantile\")"
   ]
  },
  {
   "cell_type": "code",
   "execution_count": 11,
   "metadata": {},
   "outputs": [],
   "source": [
    "features = ['reads_count', 'std_-1_25', 'mean_-1_25', 'dwelling_time_0_25',\n",
    "       'std_0_25', 'mean_0_25', 'dwelling_time_+1_25', 'std_+1_25',\n",
    "       'mean_+1_25', 'position_0_A', 'position_0_C', 'position_0_G',\n",
    "       'position_0_T', 'position_1_A', 'position_1_G', 'position_1_T',\n",
    "       'position_2_A', 'position_5_A', 'position_5_C', 'position_5_T',\n",
    "       'position_6_A', 'position_6_C', 'position_6_G', 'position_6_T']\n",
    "X_train_25_new = X_train_25[features]\n",
    "X_test_25_new = X_test_25[features]\n",
    "X_val_25_new = X_val_25[features]"
   ]
  },
  {
   "cell_type": "code",
   "execution_count": 66,
   "metadata": {},
   "outputs": [
    {
     "data": {
      "text/html": [
       "<div>\n",
       "<style scoped>\n",
       "    .dataframe tbody tr th:only-of-type {\n",
       "        vertical-align: middle;\n",
       "    }\n",
       "\n",
       "    .dataframe tbody tr th {\n",
       "        vertical-align: top;\n",
       "    }\n",
       "\n",
       "    .dataframe thead th {\n",
       "        text-align: right;\n",
       "    }\n",
       "</style>\n",
       "<table border=\"1\" class=\"dataframe\">\n",
       "  <thead>\n",
       "    <tr style=\"text-align: right;\">\n",
       "      <th></th>\n",
       "      <th>reads_count</th>\n",
       "      <th>std_-1_25</th>\n",
       "      <th>mean_-1_25</th>\n",
       "      <th>dwelling_time_0_25</th>\n",
       "      <th>std_0_25</th>\n",
       "      <th>mean_0_25</th>\n",
       "      <th>dwelling_time_+1_25</th>\n",
       "      <th>std_+1_25</th>\n",
       "      <th>mean_+1_25</th>\n",
       "      <th>position_0_A</th>\n",
       "      <th>...</th>\n",
       "      <th>position_1_G</th>\n",
       "      <th>position_1_T</th>\n",
       "      <th>position_2_A</th>\n",
       "      <th>position_5_A</th>\n",
       "      <th>position_5_C</th>\n",
       "      <th>position_5_T</th>\n",
       "      <th>position_6_A</th>\n",
       "      <th>position_6_C</th>\n",
       "      <th>position_6_G</th>\n",
       "      <th>position_6_T</th>\n",
       "    </tr>\n",
       "  </thead>\n",
       "  <tbody>\n",
       "    <tr>\n",
       "      <th>0</th>\n",
       "      <td>0.100207</td>\n",
       "      <td>0.520839</td>\n",
       "      <td>0.670027</td>\n",
       "      <td>0.338710</td>\n",
       "      <td>0.406162</td>\n",
       "      <td>0.659660</td>\n",
       "      <td>0.282460</td>\n",
       "      <td>0.159468</td>\n",
       "      <td>0.694184</td>\n",
       "      <td>1</td>\n",
       "      <td>...</td>\n",
       "      <td>1</td>\n",
       "      <td>0</td>\n",
       "      <td>0</td>\n",
       "      <td>0</td>\n",
       "      <td>0</td>\n",
       "      <td>1</td>\n",
       "      <td>1</td>\n",
       "      <td>0</td>\n",
       "      <td>0</td>\n",
       "      <td>0</td>\n",
       "    </tr>\n",
       "    <tr>\n",
       "      <th>1</th>\n",
       "      <td>0.351240</td>\n",
       "      <td>0.519989</td>\n",
       "      <td>0.853346</td>\n",
       "      <td>0.167869</td>\n",
       "      <td>0.169468</td>\n",
       "      <td>0.121121</td>\n",
       "      <td>0.484217</td>\n",
       "      <td>0.106010</td>\n",
       "      <td>0.574109</td>\n",
       "      <td>1</td>\n",
       "      <td>...</td>\n",
       "      <td>1</td>\n",
       "      <td>0</td>\n",
       "      <td>1</td>\n",
       "      <td>1</td>\n",
       "      <td>0</td>\n",
       "      <td>0</td>\n",
       "      <td>0</td>\n",
       "      <td>0</td>\n",
       "      <td>1</td>\n",
       "      <td>0</td>\n",
       "    </tr>\n",
       "    <tr>\n",
       "      <th>2</th>\n",
       "      <td>0.045455</td>\n",
       "      <td>0.108874</td>\n",
       "      <td>0.468378</td>\n",
       "      <td>0.150467</td>\n",
       "      <td>0.142577</td>\n",
       "      <td>0.339339</td>\n",
       "      <td>0.650179</td>\n",
       "      <td>0.151314</td>\n",
       "      <td>0.812383</td>\n",
       "      <td>0</td>\n",
       "      <td>...</td>\n",
       "      <td>0</td>\n",
       "      <td>0</td>\n",
       "      <td>1</td>\n",
       "      <td>0</td>\n",
       "      <td>0</td>\n",
       "      <td>1</td>\n",
       "      <td>1</td>\n",
       "      <td>0</td>\n",
       "      <td>0</td>\n",
       "      <td>0</td>\n",
       "    </tr>\n",
       "    <tr>\n",
       "      <th>3</th>\n",
       "      <td>0.143595</td>\n",
       "      <td>0.521973</td>\n",
       "      <td>0.871677</td>\n",
       "      <td>0.134975</td>\n",
       "      <td>0.203361</td>\n",
       "      <td>0.261261</td>\n",
       "      <td>0.346892</td>\n",
       "      <td>0.105708</td>\n",
       "      <td>0.763602</td>\n",
       "      <td>1</td>\n",
       "      <td>...</td>\n",
       "      <td>1</td>\n",
       "      <td>0</td>\n",
       "      <td>1</td>\n",
       "      <td>0</td>\n",
       "      <td>0</td>\n",
       "      <td>1</td>\n",
       "      <td>0</td>\n",
       "      <td>0</td>\n",
       "      <td>0</td>\n",
       "      <td>1</td>\n",
       "    </tr>\n",
       "    <tr>\n",
       "      <th>4</th>\n",
       "      <td>0.007231</td>\n",
       "      <td>0.080805</td>\n",
       "      <td>0.385885</td>\n",
       "      <td>0.197793</td>\n",
       "      <td>0.140616</td>\n",
       "      <td>0.195195</td>\n",
       "      <td>0.444517</td>\n",
       "      <td>0.152824</td>\n",
       "      <td>0.538462</td>\n",
       "      <td>0</td>\n",
       "      <td>...</td>\n",
       "      <td>0</td>\n",
       "      <td>0</td>\n",
       "      <td>1</td>\n",
       "      <td>1</td>\n",
       "      <td>0</td>\n",
       "      <td>0</td>\n",
       "      <td>0</td>\n",
       "      <td>0</td>\n",
       "      <td>1</td>\n",
       "      <td>0</td>\n",
       "    </tr>\n",
       "    <tr>\n",
       "      <th>...</th>\n",
       "      <td>...</td>\n",
       "      <td>...</td>\n",
       "      <td>...</td>\n",
       "      <td>...</td>\n",
       "      <td>...</td>\n",
       "      <td>...</td>\n",
       "      <td>...</td>\n",
       "      <td>...</td>\n",
       "      <td>...</td>\n",
       "      <td>...</td>\n",
       "      <td>...</td>\n",
       "      <td>...</td>\n",
       "      <td>...</td>\n",
       "      <td>...</td>\n",
       "      <td>...</td>\n",
       "      <td>...</td>\n",
       "      <td>...</td>\n",
       "      <td>...</td>\n",
       "      <td>...</td>\n",
       "      <td>...</td>\n",
       "      <td>...</td>\n",
       "    </tr>\n",
       "    <tr>\n",
       "      <th>51562</th>\n",
       "      <td>0.076446</td>\n",
       "      <td>0.694739</td>\n",
       "      <td>0.667469</td>\n",
       "      <td>0.140917</td>\n",
       "      <td>0.125454</td>\n",
       "      <td>0.172940</td>\n",
       "      <td>0.219426</td>\n",
       "      <td>0.107642</td>\n",
       "      <td>0.567993</td>\n",
       "      <td>0</td>\n",
       "      <td>...</td>\n",
       "      <td>1</td>\n",
       "      <td>0</td>\n",
       "      <td>1</td>\n",
       "      <td>0</td>\n",
       "      <td>0</td>\n",
       "      <td>1</td>\n",
       "      <td>0</td>\n",
       "      <td>1</td>\n",
       "      <td>0</td>\n",
       "      <td>0</td>\n",
       "    </tr>\n",
       "    <tr>\n",
       "      <th>51563</th>\n",
       "      <td>0.027893</td>\n",
       "      <td>0.151027</td>\n",
       "      <td>0.688359</td>\n",
       "      <td>0.198628</td>\n",
       "      <td>0.393699</td>\n",
       "      <td>0.680232</td>\n",
       "      <td>0.304474</td>\n",
       "      <td>0.166279</td>\n",
       "      <td>0.653749</td>\n",
       "      <td>0</td>\n",
       "      <td>...</td>\n",
       "      <td>1</td>\n",
       "      <td>0</td>\n",
       "      <td>0</td>\n",
       "      <td>0</td>\n",
       "      <td>0</td>\n",
       "      <td>1</td>\n",
       "      <td>0</td>\n",
       "      <td>1</td>\n",
       "      <td>0</td>\n",
       "      <td>0</td>\n",
       "    </tr>\n",
       "    <tr>\n",
       "      <th>51564</th>\n",
       "      <td>0.263430</td>\n",
       "      <td>0.245713</td>\n",
       "      <td>0.431321</td>\n",
       "      <td>0.117942</td>\n",
       "      <td>0.424829</td>\n",
       "      <td>0.631288</td>\n",
       "      <td>0.273610</td>\n",
       "      <td>0.141926</td>\n",
       "      <td>0.482845</td>\n",
       "      <td>0</td>\n",
       "      <td>...</td>\n",
       "      <td>0</td>\n",
       "      <td>1</td>\n",
       "      <td>0</td>\n",
       "      <td>1</td>\n",
       "      <td>0</td>\n",
       "      <td>0</td>\n",
       "      <td>0</td>\n",
       "      <td>1</td>\n",
       "      <td>0</td>\n",
       "      <td>0</td>\n",
       "    </tr>\n",
       "    <tr>\n",
       "      <th>51565</th>\n",
       "      <td>0.104339</td>\n",
       "      <td>0.526291</td>\n",
       "      <td>0.869009</td>\n",
       "      <td>0.180325</td>\n",
       "      <td>0.187888</td>\n",
       "      <td>0.246069</td>\n",
       "      <td>0.229932</td>\n",
       "      <td>0.093805</td>\n",
       "      <td>0.799897</td>\n",
       "      <td>1</td>\n",
       "      <td>...</td>\n",
       "      <td>1</td>\n",
       "      <td>0</td>\n",
       "      <td>1</td>\n",
       "      <td>0</td>\n",
       "      <td>0</td>\n",
       "      <td>1</td>\n",
       "      <td>0</td>\n",
       "      <td>0</td>\n",
       "      <td>0</td>\n",
       "      <td>1</td>\n",
       "    </tr>\n",
       "    <tr>\n",
       "      <th>51566</th>\n",
       "      <td>0.053719</td>\n",
       "      <td>0.132989</td>\n",
       "      <td>0.620200</td>\n",
       "      <td>0.161642</td>\n",
       "      <td>0.392199</td>\n",
       "      <td>0.505144</td>\n",
       "      <td>0.378795</td>\n",
       "      <td>0.140888</td>\n",
       "      <td>0.304454</td>\n",
       "      <td>0</td>\n",
       "      <td>...</td>\n",
       "      <td>1</td>\n",
       "      <td>0</td>\n",
       "      <td>0</td>\n",
       "      <td>1</td>\n",
       "      <td>0</td>\n",
       "      <td>0</td>\n",
       "      <td>0</td>\n",
       "      <td>0</td>\n",
       "      <td>0</td>\n",
       "      <td>1</td>\n",
       "    </tr>\n",
       "  </tbody>\n",
       "</table>\n",
       "<p>51567 rows × 24 columns</p>\n",
       "</div>"
      ],
      "text/plain": [
       "       reads_count  std_-1_25  mean_-1_25  dwelling_time_0_25  std_0_25  \\\n",
       "0         0.100207   0.520839    0.670027            0.338710  0.406162   \n",
       "1         0.351240   0.519989    0.853346            0.167869  0.169468   \n",
       "2         0.045455   0.108874    0.468378            0.150467  0.142577   \n",
       "3         0.143595   0.521973    0.871677            0.134975  0.203361   \n",
       "4         0.007231   0.080805    0.385885            0.197793  0.140616   \n",
       "...            ...        ...         ...                 ...       ...   \n",
       "51562     0.076446   0.694739    0.667469            0.140917  0.125454   \n",
       "51563     0.027893   0.151027    0.688359            0.198628  0.393699   \n",
       "51564     0.263430   0.245713    0.431321            0.117942  0.424829   \n",
       "51565     0.104339   0.526291    0.869009            0.180325  0.187888   \n",
       "51566     0.053719   0.132989    0.620200            0.161642  0.392199   \n",
       "\n",
       "       mean_0_25  dwelling_time_+1_25  std_+1_25  mean_+1_25  position_0_A  \\\n",
       "0       0.659660             0.282460   0.159468    0.694184             1   \n",
       "1       0.121121             0.484217   0.106010    0.574109             1   \n",
       "2       0.339339             0.650179   0.151314    0.812383             0   \n",
       "3       0.261261             0.346892   0.105708    0.763602             1   \n",
       "4       0.195195             0.444517   0.152824    0.538462             0   \n",
       "...          ...                  ...        ...         ...           ...   \n",
       "51562   0.172940             0.219426   0.107642    0.567993             0   \n",
       "51563   0.680232             0.304474   0.166279    0.653749             0   \n",
       "51564   0.631288             0.273610   0.141926    0.482845             0   \n",
       "51565   0.246069             0.229932   0.093805    0.799897             1   \n",
       "51566   0.505144             0.378795   0.140888    0.304454             0   \n",
       "\n",
       "       ...  position_1_G  position_1_T  position_2_A  position_5_A  \\\n",
       "0      ...             1             0             0             0   \n",
       "1      ...             1             0             1             1   \n",
       "2      ...             0             0             1             0   \n",
       "3      ...             1             0             1             0   \n",
       "4      ...             0             0             1             1   \n",
       "...    ...           ...           ...           ...           ...   \n",
       "51562  ...             1             0             1             0   \n",
       "51563  ...             1             0             0             0   \n",
       "51564  ...             0             1             0             1   \n",
       "51565  ...             1             0             1             0   \n",
       "51566  ...             1             0             0             1   \n",
       "\n",
       "       position_5_C  position_5_T  position_6_A  position_6_C  position_6_G  \\\n",
       "0                 0             1             1             0             0   \n",
       "1                 0             0             0             0             1   \n",
       "2                 0             1             1             0             0   \n",
       "3                 0             1             0             0             0   \n",
       "4                 0             0             0             0             1   \n",
       "...             ...           ...           ...           ...           ...   \n",
       "51562             0             1             0             1             0   \n",
       "51563             0             1             0             1             0   \n",
       "51564             0             0             0             1             0   \n",
       "51565             0             1             0             0             0   \n",
       "51566             0             0             0             0             0   \n",
       "\n",
       "       position_6_T  \n",
       "0                 0  \n",
       "1                 0  \n",
       "2                 0  \n",
       "3                 1  \n",
       "4                 0  \n",
       "...             ...  \n",
       "51562             0  \n",
       "51563             0  \n",
       "51564             0  \n",
       "51565             1  \n",
       "51566             1  \n",
       "\n",
       "[51567 rows x 24 columns]"
      ]
     },
     "execution_count": 66,
     "metadata": {},
     "output_type": "execute_result"
    }
   ],
   "source": [
    "X_train_25_new"
   ]
  },
  {
   "cell_type": "code",
   "execution_count": 13,
   "metadata": {},
   "outputs": [
    {
     "name": "stderr",
     "output_type": "stream",
     "text": [
      "/Users/yuanqi/opt/anaconda3/envs/gene/lib/python3.8/site-packages/xgboost/sklearn.py:1224: UserWarning: The use of label encoder in XGBClassifier is deprecated and will be removed in a future release. To remove this warning, do the following: 1) Pass option use_label_encoder=False when constructing XGBClassifier object; and 2) Encode your labels (y) as integers starting with 0, i.e. 0, 1, 2, ..., [num_class - 1].\n",
      "  warnings.warn(label_encoder_deprecation_msg, UserWarning)\n",
      "/Users/yuanqi/opt/anaconda3/envs/gene/lib/python3.8/site-packages/xgboost/data.py:250: FutureWarning: pandas.Int64Index is deprecated and will be removed from pandas in a future version. Use pandas.Index with the appropriate dtype instead.\n",
      "  elif isinstance(data.columns, (pd.Int64Index, pd.RangeIndex)):\n"
     ]
    },
    {
     "name": "stdout",
     "output_type": "stream",
     "text": [
      "[17:30:50] WARNING: /var/folders/sy/f16zz6x50xz3113nwtb9bvq00000gp/T/abs_44tbtwf8c1/croots/recipe/xgboost-split_1659548960882/work/src/learner.cc:1115: Starting in XGBoost 1.3.0, the default evaluation metric used with the objective 'binary:logistic' was changed from 'error' to 'logloss'. Explicitly set eval_metric if you'd like to restore the old behavior.\n",
      "Accuracy: 94.93%\n",
      "[17:30:53] WARNING: /var/folders/sy/f16zz6x50xz3113nwtb9bvq00000gp/T/abs_44tbtwf8c1/croots/recipe/xgboost-split_1659548960882/work/src/learner.cc:1115: Starting in XGBoost 1.3.0, the default evaluation metric used with the objective 'binary:logistic' was changed from 'error' to 'logloss'. Explicitly set eval_metric if you'd like to restore the old behavior.\n"
     ]
    },
    {
     "name": "stderr",
     "output_type": "stream",
     "text": [
      "/Users/yuanqi/opt/anaconda3/envs/gene/lib/python3.8/site-packages/sklearn/base.py:443: UserWarning: X has feature names, but SelectFromModel was fitted without feature names\n",
      "  warnings.warn(\n",
      "/Users/yuanqi/opt/anaconda3/envs/gene/lib/python3.8/site-packages/xgboost/sklearn.py:1224: UserWarning: The use of label encoder in XGBClassifier is deprecated and will be removed in a future release. To remove this warning, do the following: 1) Pass option use_label_encoder=False when constructing XGBClassifier object; and 2) Encode your labels (y) as integers starting with 0, i.e. 0, 1, 2, ..., [num_class - 1].\n",
      "  warnings.warn(label_encoder_deprecation_msg, UserWarning)\n"
     ]
    },
    {
     "name": "stdout",
     "output_type": "stream",
     "text": [
      "Index(['reads_count', 'dwelling_time_-1_25', 'std_-1_25', 'mean_-1_25',\n",
      "       'dwelling_time_0_25', 'std_0_25', 'mean_0_25', 'dwelling_time_+1_25',\n",
      "       'std_+1_25', 'mean_+1_25', 'position_0_A', 'position_0_C',\n",
      "       'position_0_G', 'position_0_T', 'position_1_A', 'position_1_C',\n",
      "       'position_1_G', 'position_1_T', 'position_2_A', 'position_2_C',\n",
      "       'position_2_G', 'position_2_T', 'position_3_A', 'position_3_C',\n",
      "       'position_3_G', 'position_3_T', 'position_4_A', 'position_4_C',\n",
      "       'position_4_G', 'position_4_T', 'position_5_A', 'position_5_C',\n",
      "       'position_5_G', 'position_5_T', 'position_6_A', 'position_6_C',\n",
      "       'position_6_G', 'position_6_T'],\n",
      "      dtype='object')\n",
      "Thresh=0.000, n=38, Accuracy: 94.93%\n",
      "[17:30:55] WARNING: /var/folders/sy/f16zz6x50xz3113nwtb9bvq00000gp/T/abs_44tbtwf8c1/croots/recipe/xgboost-split_1659548960882/work/src/learner.cc:1115: Starting in XGBoost 1.3.0, the default evaluation metric used with the objective 'binary:logistic' was changed from 'error' to 'logloss'. Explicitly set eval_metric if you'd like to restore the old behavior.\n"
     ]
    },
    {
     "name": "stderr",
     "output_type": "stream",
     "text": [
      "/Users/yuanqi/opt/anaconda3/envs/gene/lib/python3.8/site-packages/sklearn/base.py:443: UserWarning: X has feature names, but SelectFromModel was fitted without feature names\n",
      "  warnings.warn(\n",
      "/Users/yuanqi/opt/anaconda3/envs/gene/lib/python3.8/site-packages/sklearn/base.py:443: UserWarning: X has feature names, but SelectFromModel was fitted without feature names\n",
      "  warnings.warn(\n",
      "/Users/yuanqi/opt/anaconda3/envs/gene/lib/python3.8/site-packages/xgboost/sklearn.py:1224: UserWarning: The use of label encoder in XGBClassifier is deprecated and will be removed in a future release. To remove this warning, do the following: 1) Pass option use_label_encoder=False when constructing XGBClassifier object; and 2) Encode your labels (y) as integers starting with 0, i.e. 0, 1, 2, ..., [num_class - 1].\n",
      "  warnings.warn(label_encoder_deprecation_msg, UserWarning)\n"
     ]
    },
    {
     "name": "stdout",
     "output_type": "stream",
     "text": [
      "Index(['reads_count', 'dwelling_time_-1_25', 'std_-1_25', 'mean_-1_25',\n",
      "       'dwelling_time_0_25', 'std_0_25', 'mean_0_25', 'dwelling_time_+1_25',\n",
      "       'std_+1_25', 'mean_+1_25', 'position_0_A', 'position_0_C',\n",
      "       'position_0_G', 'position_0_T', 'position_1_A', 'position_1_C',\n",
      "       'position_1_G', 'position_1_T', 'position_2_A', 'position_2_C',\n",
      "       'position_2_G', 'position_2_T', 'position_3_A', 'position_3_C',\n",
      "       'position_3_G', 'position_3_T', 'position_4_A', 'position_4_C',\n",
      "       'position_4_G', 'position_4_T', 'position_5_A', 'position_5_C',\n",
      "       'position_5_G', 'position_5_T', 'position_6_A', 'position_6_C',\n",
      "       'position_6_G', 'position_6_T'],\n",
      "      dtype='object')\n",
      "Thresh=0.000, n=38, Accuracy: 94.93%\n",
      "[17:30:58] WARNING: /var/folders/sy/f16zz6x50xz3113nwtb9bvq00000gp/T/abs_44tbtwf8c1/croots/recipe/xgboost-split_1659548960882/work/src/learner.cc:1115: Starting in XGBoost 1.3.0, the default evaluation metric used with the objective 'binary:logistic' was changed from 'error' to 'logloss'. Explicitly set eval_metric if you'd like to restore the old behavior.\n"
     ]
    },
    {
     "name": "stderr",
     "output_type": "stream",
     "text": [
      "/Users/yuanqi/opt/anaconda3/envs/gene/lib/python3.8/site-packages/sklearn/base.py:443: UserWarning: X has feature names, but SelectFromModel was fitted without feature names\n",
      "  warnings.warn(\n",
      "/Users/yuanqi/opt/anaconda3/envs/gene/lib/python3.8/site-packages/sklearn/base.py:443: UserWarning: X has feature names, but SelectFromModel was fitted without feature names\n",
      "  warnings.warn(\n",
      "/Users/yuanqi/opt/anaconda3/envs/gene/lib/python3.8/site-packages/xgboost/sklearn.py:1224: UserWarning: The use of label encoder in XGBClassifier is deprecated and will be removed in a future release. To remove this warning, do the following: 1) Pass option use_label_encoder=False when constructing XGBClassifier object; and 2) Encode your labels (y) as integers starting with 0, i.e. 0, 1, 2, ..., [num_class - 1].\n",
      "  warnings.warn(label_encoder_deprecation_msg, UserWarning)\n"
     ]
    },
    {
     "name": "stdout",
     "output_type": "stream",
     "text": [
      "Index(['reads_count', 'dwelling_time_-1_25', 'std_-1_25', 'mean_-1_25',\n",
      "       'dwelling_time_0_25', 'std_0_25', 'mean_0_25', 'dwelling_time_+1_25',\n",
      "       'std_+1_25', 'mean_+1_25', 'position_0_A', 'position_0_C',\n",
      "       'position_0_G', 'position_0_T', 'position_1_A', 'position_1_C',\n",
      "       'position_1_G', 'position_1_T', 'position_2_A', 'position_2_C',\n",
      "       'position_2_G', 'position_2_T', 'position_3_A', 'position_3_C',\n",
      "       'position_3_G', 'position_3_T', 'position_4_A', 'position_4_C',\n",
      "       'position_4_G', 'position_4_T', 'position_5_A', 'position_5_C',\n",
      "       'position_5_G', 'position_5_T', 'position_6_A', 'position_6_C',\n",
      "       'position_6_G', 'position_6_T'],\n",
      "      dtype='object')\n",
      "Thresh=0.000, n=38, Accuracy: 94.93%\n",
      "[17:31:01] WARNING: /var/folders/sy/f16zz6x50xz3113nwtb9bvq00000gp/T/abs_44tbtwf8c1/croots/recipe/xgboost-split_1659548960882/work/src/learner.cc:1115: Starting in XGBoost 1.3.0, the default evaluation metric used with the objective 'binary:logistic' was changed from 'error' to 'logloss'. Explicitly set eval_metric if you'd like to restore the old behavior.\n"
     ]
    },
    {
     "name": "stderr",
     "output_type": "stream",
     "text": [
      "/Users/yuanqi/opt/anaconda3/envs/gene/lib/python3.8/site-packages/sklearn/base.py:443: UserWarning: X has feature names, but SelectFromModel was fitted without feature names\n",
      "  warnings.warn(\n",
      "/Users/yuanqi/opt/anaconda3/envs/gene/lib/python3.8/site-packages/sklearn/base.py:443: UserWarning: X has feature names, but SelectFromModel was fitted without feature names\n",
      "  warnings.warn(\n",
      "/Users/yuanqi/opt/anaconda3/envs/gene/lib/python3.8/site-packages/xgboost/sklearn.py:1224: UserWarning: The use of label encoder in XGBClassifier is deprecated and will be removed in a future release. To remove this warning, do the following: 1) Pass option use_label_encoder=False when constructing XGBClassifier object; and 2) Encode your labels (y) as integers starting with 0, i.e. 0, 1, 2, ..., [num_class - 1].\n",
      "  warnings.warn(label_encoder_deprecation_msg, UserWarning)\n"
     ]
    },
    {
     "name": "stdout",
     "output_type": "stream",
     "text": [
      "Index(['reads_count', 'dwelling_time_-1_25', 'std_-1_25', 'mean_-1_25',\n",
      "       'dwelling_time_0_25', 'std_0_25', 'mean_0_25', 'dwelling_time_+1_25',\n",
      "       'std_+1_25', 'mean_+1_25', 'position_0_A', 'position_0_C',\n",
      "       'position_0_G', 'position_0_T', 'position_1_A', 'position_1_C',\n",
      "       'position_1_G', 'position_1_T', 'position_2_A', 'position_2_C',\n",
      "       'position_2_G', 'position_2_T', 'position_3_A', 'position_3_C',\n",
      "       'position_3_G', 'position_3_T', 'position_4_A', 'position_4_C',\n",
      "       'position_4_G', 'position_4_T', 'position_5_A', 'position_5_C',\n",
      "       'position_5_G', 'position_5_T', 'position_6_A', 'position_6_C',\n",
      "       'position_6_G', 'position_6_T'],\n",
      "      dtype='object')\n",
      "Thresh=0.000, n=38, Accuracy: 94.93%\n",
      "[17:31:04] WARNING: /var/folders/sy/f16zz6x50xz3113nwtb9bvq00000gp/T/abs_44tbtwf8c1/croots/recipe/xgboost-split_1659548960882/work/src/learner.cc:1115: Starting in XGBoost 1.3.0, the default evaluation metric used with the objective 'binary:logistic' was changed from 'error' to 'logloss'. Explicitly set eval_metric if you'd like to restore the old behavior.\n"
     ]
    },
    {
     "name": "stderr",
     "output_type": "stream",
     "text": [
      "/Users/yuanqi/opt/anaconda3/envs/gene/lib/python3.8/site-packages/sklearn/base.py:443: UserWarning: X has feature names, but SelectFromModel was fitted without feature names\n",
      "  warnings.warn(\n",
      "/Users/yuanqi/opt/anaconda3/envs/gene/lib/python3.8/site-packages/sklearn/base.py:443: UserWarning: X has feature names, but SelectFromModel was fitted without feature names\n",
      "  warnings.warn(\n",
      "/Users/yuanqi/opt/anaconda3/envs/gene/lib/python3.8/site-packages/xgboost/sklearn.py:1224: UserWarning: The use of label encoder in XGBClassifier is deprecated and will be removed in a future release. To remove this warning, do the following: 1) Pass option use_label_encoder=False when constructing XGBClassifier object; and 2) Encode your labels (y) as integers starting with 0, i.e. 0, 1, 2, ..., [num_class - 1].\n",
      "  warnings.warn(label_encoder_deprecation_msg, UserWarning)\n"
     ]
    },
    {
     "name": "stdout",
     "output_type": "stream",
     "text": [
      "Index(['reads_count', 'dwelling_time_-1_25', 'std_-1_25', 'mean_-1_25',\n",
      "       'dwelling_time_0_25', 'std_0_25', 'mean_0_25', 'dwelling_time_+1_25',\n",
      "       'std_+1_25', 'mean_+1_25', 'position_0_A', 'position_0_C',\n",
      "       'position_0_G', 'position_0_T', 'position_1_A', 'position_1_C',\n",
      "       'position_1_G', 'position_1_T', 'position_2_A', 'position_2_C',\n",
      "       'position_2_G', 'position_2_T', 'position_3_A', 'position_3_C',\n",
      "       'position_3_G', 'position_3_T', 'position_4_A', 'position_4_C',\n",
      "       'position_4_G', 'position_4_T', 'position_5_A', 'position_5_C',\n",
      "       'position_5_G', 'position_5_T', 'position_6_A', 'position_6_C',\n",
      "       'position_6_G', 'position_6_T'],\n",
      "      dtype='object')\n",
      "Thresh=0.000, n=38, Accuracy: 94.93%\n",
      "[17:31:07] WARNING: /var/folders/sy/f16zz6x50xz3113nwtb9bvq00000gp/T/abs_44tbtwf8c1/croots/recipe/xgboost-split_1659548960882/work/src/learner.cc:1115: Starting in XGBoost 1.3.0, the default evaluation metric used with the objective 'binary:logistic' was changed from 'error' to 'logloss'. Explicitly set eval_metric if you'd like to restore the old behavior.\n"
     ]
    },
    {
     "name": "stderr",
     "output_type": "stream",
     "text": [
      "/Users/yuanqi/opt/anaconda3/envs/gene/lib/python3.8/site-packages/sklearn/base.py:443: UserWarning: X has feature names, but SelectFromModel was fitted without feature names\n",
      "  warnings.warn(\n",
      "/Users/yuanqi/opt/anaconda3/envs/gene/lib/python3.8/site-packages/sklearn/base.py:443: UserWarning: X has feature names, but SelectFromModel was fitted without feature names\n",
      "  warnings.warn(\n",
      "/Users/yuanqi/opt/anaconda3/envs/gene/lib/python3.8/site-packages/xgboost/sklearn.py:1224: UserWarning: The use of label encoder in XGBClassifier is deprecated and will be removed in a future release. To remove this warning, do the following: 1) Pass option use_label_encoder=False when constructing XGBClassifier object; and 2) Encode your labels (y) as integers starting with 0, i.e. 0, 1, 2, ..., [num_class - 1].\n",
      "  warnings.warn(label_encoder_deprecation_msg, UserWarning)\n"
     ]
    },
    {
     "name": "stdout",
     "output_type": "stream",
     "text": [
      "Index(['reads_count', 'dwelling_time_-1_25', 'std_-1_25', 'mean_-1_25',\n",
      "       'dwelling_time_0_25', 'std_0_25', 'mean_0_25', 'dwelling_time_+1_25',\n",
      "       'std_+1_25', 'mean_+1_25', 'position_0_A', 'position_0_C',\n",
      "       'position_0_G', 'position_0_T', 'position_1_A', 'position_1_C',\n",
      "       'position_1_G', 'position_1_T', 'position_2_A', 'position_2_C',\n",
      "       'position_2_G', 'position_2_T', 'position_3_A', 'position_3_C',\n",
      "       'position_3_G', 'position_3_T', 'position_4_A', 'position_4_C',\n",
      "       'position_4_G', 'position_4_T', 'position_5_A', 'position_5_C',\n",
      "       'position_5_G', 'position_5_T', 'position_6_A', 'position_6_C',\n",
      "       'position_6_G', 'position_6_T'],\n",
      "      dtype='object')\n",
      "Thresh=0.000, n=38, Accuracy: 94.93%\n",
      "[17:31:10] WARNING: /var/folders/sy/f16zz6x50xz3113nwtb9bvq00000gp/T/abs_44tbtwf8c1/croots/recipe/xgboost-split_1659548960882/work/src/learner.cc:1115: Starting in XGBoost 1.3.0, the default evaluation metric used with the objective 'binary:logistic' was changed from 'error' to 'logloss'. Explicitly set eval_metric if you'd like to restore the old behavior.\n"
     ]
    },
    {
     "name": "stderr",
     "output_type": "stream",
     "text": [
      "/Users/yuanqi/opt/anaconda3/envs/gene/lib/python3.8/site-packages/sklearn/base.py:443: UserWarning: X has feature names, but SelectFromModel was fitted without feature names\n",
      "  warnings.warn(\n",
      "/Users/yuanqi/opt/anaconda3/envs/gene/lib/python3.8/site-packages/sklearn/base.py:443: UserWarning: X has feature names, but SelectFromModel was fitted without feature names\n",
      "  warnings.warn(\n",
      "/Users/yuanqi/opt/anaconda3/envs/gene/lib/python3.8/site-packages/xgboost/sklearn.py:1224: UserWarning: The use of label encoder in XGBClassifier is deprecated and will be removed in a future release. To remove this warning, do the following: 1) Pass option use_label_encoder=False when constructing XGBClassifier object; and 2) Encode your labels (y) as integers starting with 0, i.e. 0, 1, 2, ..., [num_class - 1].\n",
      "  warnings.warn(label_encoder_deprecation_msg, UserWarning)\n"
     ]
    },
    {
     "name": "stdout",
     "output_type": "stream",
     "text": [
      "Index(['reads_count', 'dwelling_time_-1_25', 'std_-1_25', 'mean_-1_25',\n",
      "       'dwelling_time_0_25', 'std_0_25', 'mean_0_25', 'dwelling_time_+1_25',\n",
      "       'std_+1_25', 'mean_+1_25', 'position_0_A', 'position_0_C',\n",
      "       'position_0_G', 'position_0_T', 'position_1_A', 'position_1_C',\n",
      "       'position_1_G', 'position_1_T', 'position_2_A', 'position_2_C',\n",
      "       'position_2_G', 'position_2_T', 'position_3_A', 'position_3_C',\n",
      "       'position_3_G', 'position_3_T', 'position_4_A', 'position_4_C',\n",
      "       'position_4_G', 'position_4_T', 'position_5_A', 'position_5_C',\n",
      "       'position_5_G', 'position_5_T', 'position_6_A', 'position_6_C',\n",
      "       'position_6_G', 'position_6_T'],\n",
      "      dtype='object')\n",
      "Thresh=0.000, n=38, Accuracy: 94.93%\n",
      "[17:31:13] WARNING: /var/folders/sy/f16zz6x50xz3113nwtb9bvq00000gp/T/abs_44tbtwf8c1/croots/recipe/xgboost-split_1659548960882/work/src/learner.cc:1115: Starting in XGBoost 1.3.0, the default evaluation metric used with the objective 'binary:logistic' was changed from 'error' to 'logloss'. Explicitly set eval_metric if you'd like to restore the old behavior.\n"
     ]
    },
    {
     "name": "stderr",
     "output_type": "stream",
     "text": [
      "/Users/yuanqi/opt/anaconda3/envs/gene/lib/python3.8/site-packages/sklearn/base.py:443: UserWarning: X has feature names, but SelectFromModel was fitted without feature names\n",
      "  warnings.warn(\n",
      "/Users/yuanqi/opt/anaconda3/envs/gene/lib/python3.8/site-packages/sklearn/base.py:443: UserWarning: X has feature names, but SelectFromModel was fitted without feature names\n",
      "  warnings.warn(\n",
      "/Users/yuanqi/opt/anaconda3/envs/gene/lib/python3.8/site-packages/xgboost/sklearn.py:1224: UserWarning: The use of label encoder in XGBClassifier is deprecated and will be removed in a future release. To remove this warning, do the following: 1) Pass option use_label_encoder=False when constructing XGBClassifier object; and 2) Encode your labels (y) as integers starting with 0, i.e. 0, 1, 2, ..., [num_class - 1].\n",
      "  warnings.warn(label_encoder_deprecation_msg, UserWarning)\n"
     ]
    },
    {
     "name": "stdout",
     "output_type": "stream",
     "text": [
      "Index(['reads_count', 'dwelling_time_-1_25', 'std_-1_25', 'mean_-1_25',\n",
      "       'dwelling_time_0_25', 'std_0_25', 'mean_0_25', 'dwelling_time_+1_25',\n",
      "       'std_+1_25', 'mean_+1_25', 'position_0_A', 'position_0_C',\n",
      "       'position_0_G', 'position_0_T', 'position_1_A', 'position_1_C',\n",
      "       'position_1_G', 'position_1_T', 'position_2_A', 'position_2_C',\n",
      "       'position_2_G', 'position_2_T', 'position_3_A', 'position_3_C',\n",
      "       'position_3_G', 'position_3_T', 'position_4_A', 'position_4_C',\n",
      "       'position_4_G', 'position_4_T', 'position_5_A', 'position_5_C',\n",
      "       'position_5_G', 'position_5_T', 'position_6_A', 'position_6_C',\n",
      "       'position_6_G', 'position_6_T'],\n",
      "      dtype='object')\n",
      "Thresh=0.000, n=38, Accuracy: 94.93%\n",
      "[17:31:16] WARNING: /var/folders/sy/f16zz6x50xz3113nwtb9bvq00000gp/T/abs_44tbtwf8c1/croots/recipe/xgboost-split_1659548960882/work/src/learner.cc:1115: Starting in XGBoost 1.3.0, the default evaluation metric used with the objective 'binary:logistic' was changed from 'error' to 'logloss'. Explicitly set eval_metric if you'd like to restore the old behavior.\n"
     ]
    },
    {
     "name": "stderr",
     "output_type": "stream",
     "text": [
      "/Users/yuanqi/opt/anaconda3/envs/gene/lib/python3.8/site-packages/sklearn/base.py:443: UserWarning: X has feature names, but SelectFromModel was fitted without feature names\n",
      "  warnings.warn(\n",
      "/Users/yuanqi/opt/anaconda3/envs/gene/lib/python3.8/site-packages/sklearn/base.py:443: UserWarning: X has feature names, but SelectFromModel was fitted without feature names\n",
      "  warnings.warn(\n",
      "/Users/yuanqi/opt/anaconda3/envs/gene/lib/python3.8/site-packages/xgboost/sklearn.py:1224: UserWarning: The use of label encoder in XGBClassifier is deprecated and will be removed in a future release. To remove this warning, do the following: 1) Pass option use_label_encoder=False when constructing XGBClassifier object; and 2) Encode your labels (y) as integers starting with 0, i.e. 0, 1, 2, ..., [num_class - 1].\n",
      "  warnings.warn(label_encoder_deprecation_msg, UserWarning)\n"
     ]
    },
    {
     "name": "stdout",
     "output_type": "stream",
     "text": [
      "Index(['reads_count', 'dwelling_time_-1_25', 'std_-1_25', 'mean_-1_25',\n",
      "       'dwelling_time_0_25', 'std_0_25', 'mean_0_25', 'dwelling_time_+1_25',\n",
      "       'std_+1_25', 'mean_+1_25', 'position_0_A', 'position_0_C',\n",
      "       'position_0_G', 'position_0_T', 'position_1_A', 'position_1_C',\n",
      "       'position_1_G', 'position_1_T', 'position_2_A', 'position_2_C',\n",
      "       'position_2_G', 'position_2_T', 'position_3_A', 'position_3_C',\n",
      "       'position_3_G', 'position_3_T', 'position_4_A', 'position_4_C',\n",
      "       'position_4_G', 'position_4_T', 'position_5_A', 'position_5_C',\n",
      "       'position_5_G', 'position_5_T', 'position_6_A', 'position_6_C',\n",
      "       'position_6_G', 'position_6_T'],\n",
      "      dtype='object')\n",
      "Thresh=0.000, n=38, Accuracy: 94.93%\n",
      "[17:31:19] WARNING: /var/folders/sy/f16zz6x50xz3113nwtb9bvq00000gp/T/abs_44tbtwf8c1/croots/recipe/xgboost-split_1659548960882/work/src/learner.cc:1115: Starting in XGBoost 1.3.0, the default evaluation metric used with the objective 'binary:logistic' was changed from 'error' to 'logloss'. Explicitly set eval_metric if you'd like to restore the old behavior.\n"
     ]
    },
    {
     "name": "stderr",
     "output_type": "stream",
     "text": [
      "/Users/yuanqi/opt/anaconda3/envs/gene/lib/python3.8/site-packages/sklearn/base.py:443: UserWarning: X has feature names, but SelectFromModel was fitted without feature names\n",
      "  warnings.warn(\n",
      "/Users/yuanqi/opt/anaconda3/envs/gene/lib/python3.8/site-packages/sklearn/base.py:443: UserWarning: X has feature names, but SelectFromModel was fitted without feature names\n",
      "  warnings.warn(\n",
      "/Users/yuanqi/opt/anaconda3/envs/gene/lib/python3.8/site-packages/xgboost/sklearn.py:1224: UserWarning: The use of label encoder in XGBClassifier is deprecated and will be removed in a future release. To remove this warning, do the following: 1) Pass option use_label_encoder=False when constructing XGBClassifier object; and 2) Encode your labels (y) as integers starting with 0, i.e. 0, 1, 2, ..., [num_class - 1].\n",
      "  warnings.warn(label_encoder_deprecation_msg, UserWarning)\n"
     ]
    },
    {
     "name": "stdout",
     "output_type": "stream",
     "text": [
      "Index(['reads_count', 'dwelling_time_-1_25', 'std_-1_25', 'mean_-1_25',\n",
      "       'dwelling_time_0_25', 'std_0_25', 'mean_0_25', 'dwelling_time_+1_25',\n",
      "       'std_+1_25', 'mean_+1_25', 'position_0_A', 'position_0_C',\n",
      "       'position_0_G', 'position_0_T', 'position_1_A', 'position_1_C',\n",
      "       'position_1_G', 'position_1_T', 'position_2_A', 'position_2_C',\n",
      "       'position_2_G', 'position_2_T', 'position_3_A', 'position_3_C',\n",
      "       'position_3_G', 'position_3_T', 'position_4_A', 'position_4_C',\n",
      "       'position_4_G', 'position_4_T', 'position_5_A', 'position_5_C',\n",
      "       'position_5_G', 'position_5_T', 'position_6_A', 'position_6_C',\n",
      "       'position_6_G', 'position_6_T'],\n",
      "      dtype='object')\n",
      "Thresh=0.000, n=38, Accuracy: 94.93%\n",
      "[17:31:21] WARNING: /var/folders/sy/f16zz6x50xz3113nwtb9bvq00000gp/T/abs_44tbtwf8c1/croots/recipe/xgboost-split_1659548960882/work/src/learner.cc:1115: Starting in XGBoost 1.3.0, the default evaluation metric used with the objective 'binary:logistic' was changed from 'error' to 'logloss'. Explicitly set eval_metric if you'd like to restore the old behavior.\n"
     ]
    },
    {
     "name": "stderr",
     "output_type": "stream",
     "text": [
      "/Users/yuanqi/opt/anaconda3/envs/gene/lib/python3.8/site-packages/sklearn/base.py:443: UserWarning: X has feature names, but SelectFromModel was fitted without feature names\n",
      "  warnings.warn(\n",
      "/Users/yuanqi/opt/anaconda3/envs/gene/lib/python3.8/site-packages/sklearn/base.py:443: UserWarning: X has feature names, but SelectFromModel was fitted without feature names\n",
      "  warnings.warn(\n",
      "/Users/yuanqi/opt/anaconda3/envs/gene/lib/python3.8/site-packages/xgboost/sklearn.py:1224: UserWarning: The use of label encoder in XGBClassifier is deprecated and will be removed in a future release. To remove this warning, do the following: 1) Pass option use_label_encoder=False when constructing XGBClassifier object; and 2) Encode your labels (y) as integers starting with 0, i.e. 0, 1, 2, ..., [num_class - 1].\n",
      "  warnings.warn(label_encoder_deprecation_msg, UserWarning)\n"
     ]
    },
    {
     "name": "stdout",
     "output_type": "stream",
     "text": [
      "Index(['reads_count', 'dwelling_time_-1_25', 'std_-1_25', 'mean_-1_25',\n",
      "       'dwelling_time_0_25', 'std_0_25', 'mean_0_25', 'dwelling_time_+1_25',\n",
      "       'std_+1_25', 'mean_+1_25', 'position_0_A', 'position_0_C',\n",
      "       'position_0_G', 'position_0_T', 'position_1_A', 'position_1_C',\n",
      "       'position_1_G', 'position_1_T', 'position_2_A', 'position_2_C',\n",
      "       'position_2_G', 'position_2_T', 'position_3_A', 'position_3_C',\n",
      "       'position_3_G', 'position_3_T', 'position_4_A', 'position_4_C',\n",
      "       'position_4_G', 'position_4_T', 'position_5_A', 'position_5_C',\n",
      "       'position_5_G', 'position_5_T', 'position_6_A', 'position_6_C',\n",
      "       'position_6_G', 'position_6_T'],\n",
      "      dtype='object')\n",
      "Thresh=0.000, n=38, Accuracy: 94.93%\n",
      "[17:31:25] WARNING: /var/folders/sy/f16zz6x50xz3113nwtb9bvq00000gp/T/abs_44tbtwf8c1/croots/recipe/xgboost-split_1659548960882/work/src/learner.cc:1115: Starting in XGBoost 1.3.0, the default evaluation metric used with the objective 'binary:logistic' was changed from 'error' to 'logloss'. Explicitly set eval_metric if you'd like to restore the old behavior.\n"
     ]
    },
    {
     "name": "stderr",
     "output_type": "stream",
     "text": [
      "/Users/yuanqi/opt/anaconda3/envs/gene/lib/python3.8/site-packages/sklearn/base.py:443: UserWarning: X has feature names, but SelectFromModel was fitted without feature names\n",
      "  warnings.warn(\n",
      "/Users/yuanqi/opt/anaconda3/envs/gene/lib/python3.8/site-packages/sklearn/base.py:443: UserWarning: X has feature names, but SelectFromModel was fitted without feature names\n",
      "  warnings.warn(\n",
      "/Users/yuanqi/opt/anaconda3/envs/gene/lib/python3.8/site-packages/xgboost/sklearn.py:1224: UserWarning: The use of label encoder in XGBClassifier is deprecated and will be removed in a future release. To remove this warning, do the following: 1) Pass option use_label_encoder=False when constructing XGBClassifier object; and 2) Encode your labels (y) as integers starting with 0, i.e. 0, 1, 2, ..., [num_class - 1].\n",
      "  warnings.warn(label_encoder_deprecation_msg, UserWarning)\n"
     ]
    },
    {
     "name": "stdout",
     "output_type": "stream",
     "text": [
      "Index(['reads_count', 'dwelling_time_-1_25', 'std_-1_25', 'mean_-1_25',\n",
      "       'dwelling_time_0_25', 'std_0_25', 'mean_0_25', 'dwelling_time_+1_25',\n",
      "       'std_+1_25', 'mean_+1_25', 'position_0_A', 'position_0_C',\n",
      "       'position_0_G', 'position_0_T', 'position_1_A', 'position_1_C',\n",
      "       'position_1_G', 'position_1_T', 'position_2_A', 'position_2_C',\n",
      "       'position_2_G', 'position_2_T', 'position_3_A', 'position_3_C',\n",
      "       'position_3_G', 'position_3_T', 'position_4_A', 'position_4_C',\n",
      "       'position_4_G', 'position_4_T', 'position_5_A', 'position_5_C',\n",
      "       'position_5_G', 'position_5_T', 'position_6_A', 'position_6_C',\n",
      "       'position_6_G', 'position_6_T'],\n",
      "      dtype='object')\n",
      "Thresh=0.000, n=38, Accuracy: 94.93%\n",
      "[17:31:28] WARNING: /var/folders/sy/f16zz6x50xz3113nwtb9bvq00000gp/T/abs_44tbtwf8c1/croots/recipe/xgboost-split_1659548960882/work/src/learner.cc:1115: Starting in XGBoost 1.3.0, the default evaluation metric used with the objective 'binary:logistic' was changed from 'error' to 'logloss'. Explicitly set eval_metric if you'd like to restore the old behavior.\n"
     ]
    },
    {
     "name": "stderr",
     "output_type": "stream",
     "text": [
      "/Users/yuanqi/opt/anaconda3/envs/gene/lib/python3.8/site-packages/sklearn/base.py:443: UserWarning: X has feature names, but SelectFromModel was fitted without feature names\n",
      "  warnings.warn(\n",
      "/Users/yuanqi/opt/anaconda3/envs/gene/lib/python3.8/site-packages/sklearn/base.py:443: UserWarning: X has feature names, but SelectFromModel was fitted without feature names\n",
      "  warnings.warn(\n",
      "/Users/yuanqi/opt/anaconda3/envs/gene/lib/python3.8/site-packages/xgboost/sklearn.py:1224: UserWarning: The use of label encoder in XGBClassifier is deprecated and will be removed in a future release. To remove this warning, do the following: 1) Pass option use_label_encoder=False when constructing XGBClassifier object; and 2) Encode your labels (y) as integers starting with 0, i.e. 0, 1, 2, ..., [num_class - 1].\n",
      "  warnings.warn(label_encoder_deprecation_msg, UserWarning)\n"
     ]
    },
    {
     "name": "stdout",
     "output_type": "stream",
     "text": [
      "Index(['reads_count', 'dwelling_time_-1_25', 'std_-1_25', 'mean_-1_25',\n",
      "       'dwelling_time_0_25', 'std_0_25', 'mean_0_25', 'dwelling_time_+1_25',\n",
      "       'std_+1_25', 'mean_+1_25', 'position_0_A', 'position_0_C',\n",
      "       'position_0_G', 'position_0_T', 'position_1_A', 'position_1_C',\n",
      "       'position_1_G', 'position_1_T', 'position_2_A', 'position_2_C',\n",
      "       'position_2_G', 'position_2_T', 'position_3_A', 'position_3_C',\n",
      "       'position_3_G', 'position_3_T', 'position_4_A', 'position_4_C',\n",
      "       'position_4_G', 'position_4_T', 'position_5_A', 'position_5_C',\n",
      "       'position_5_G', 'position_5_T', 'position_6_A', 'position_6_C',\n",
      "       'position_6_G', 'position_6_T'],\n",
      "      dtype='object')\n",
      "Thresh=0.000, n=38, Accuracy: 94.93%\n",
      "[17:31:33] WARNING: /var/folders/sy/f16zz6x50xz3113nwtb9bvq00000gp/T/abs_44tbtwf8c1/croots/recipe/xgboost-split_1659548960882/work/src/learner.cc:1115: Starting in XGBoost 1.3.0, the default evaluation metric used with the objective 'binary:logistic' was changed from 'error' to 'logloss'. Explicitly set eval_metric if you'd like to restore the old behavior.\n"
     ]
    },
    {
     "name": "stderr",
     "output_type": "stream",
     "text": [
      "/Users/yuanqi/opt/anaconda3/envs/gene/lib/python3.8/site-packages/sklearn/base.py:443: UserWarning: X has feature names, but SelectFromModel was fitted without feature names\n",
      "  warnings.warn(\n",
      "/Users/yuanqi/opt/anaconda3/envs/gene/lib/python3.8/site-packages/sklearn/base.py:443: UserWarning: X has feature names, but SelectFromModel was fitted without feature names\n",
      "  warnings.warn(\n",
      "/Users/yuanqi/opt/anaconda3/envs/gene/lib/python3.8/site-packages/xgboost/sklearn.py:1224: UserWarning: The use of label encoder in XGBClassifier is deprecated and will be removed in a future release. To remove this warning, do the following: 1) Pass option use_label_encoder=False when constructing XGBClassifier object; and 2) Encode your labels (y) as integers starting with 0, i.e. 0, 1, 2, ..., [num_class - 1].\n",
      "  warnings.warn(label_encoder_deprecation_msg, UserWarning)\n"
     ]
    },
    {
     "name": "stdout",
     "output_type": "stream",
     "text": [
      "Index(['reads_count', 'dwelling_time_-1_25', 'std_-1_25', 'mean_-1_25',\n",
      "       'dwelling_time_0_25', 'std_0_25', 'mean_0_25', 'dwelling_time_+1_25',\n",
      "       'std_+1_25', 'mean_+1_25', 'position_0_A', 'position_0_C',\n",
      "       'position_0_G', 'position_0_T', 'position_1_A', 'position_1_G',\n",
      "       'position_1_T', 'position_2_A', 'position_5_A', 'position_5_C',\n",
      "       'position_5_T', 'position_6_A', 'position_6_C', 'position_6_G',\n",
      "       'position_6_T'],\n",
      "      dtype='object')\n",
      "Thresh=0.005, n=25, Accuracy: 94.93%\n",
      "[17:31:40] WARNING: /var/folders/sy/f16zz6x50xz3113nwtb9bvq00000gp/T/abs_44tbtwf8c1/croots/recipe/xgboost-split_1659548960882/work/src/learner.cc:1115: Starting in XGBoost 1.3.0, the default evaluation metric used with the objective 'binary:logistic' was changed from 'error' to 'logloss'. Explicitly set eval_metric if you'd like to restore the old behavior.\n"
     ]
    },
    {
     "name": "stderr",
     "output_type": "stream",
     "text": [
      "/Users/yuanqi/opt/anaconda3/envs/gene/lib/python3.8/site-packages/sklearn/base.py:443: UserWarning: X has feature names, but SelectFromModel was fitted without feature names\n",
      "  warnings.warn(\n",
      "/Users/yuanqi/opt/anaconda3/envs/gene/lib/python3.8/site-packages/sklearn/base.py:443: UserWarning: X has feature names, but SelectFromModel was fitted without feature names\n",
      "  warnings.warn(\n",
      "/Users/yuanqi/opt/anaconda3/envs/gene/lib/python3.8/site-packages/xgboost/sklearn.py:1224: UserWarning: The use of label encoder in XGBClassifier is deprecated and will be removed in a future release. To remove this warning, do the following: 1) Pass option use_label_encoder=False when constructing XGBClassifier object; and 2) Encode your labels (y) as integers starting with 0, i.e. 0, 1, 2, ..., [num_class - 1].\n",
      "  warnings.warn(label_encoder_deprecation_msg, UserWarning)\n"
     ]
    },
    {
     "name": "stdout",
     "output_type": "stream",
     "text": [
      "Index(['reads_count', 'dwelling_time_-1_25', 'std_-1_25', 'mean_-1_25',\n",
      "       'dwelling_time_0_25', 'std_0_25', 'mean_0_25', 'dwelling_time_+1_25',\n",
      "       'std_+1_25', 'mean_+1_25', 'position_0_A', 'position_0_C',\n",
      "       'position_0_G', 'position_0_T', 'position_1_A', 'position_1_G',\n",
      "       'position_2_A', 'position_5_A', 'position_5_C', 'position_5_T',\n",
      "       'position_6_A', 'position_6_C', 'position_6_G', 'position_6_T'],\n",
      "      dtype='object')\n",
      "Thresh=0.007, n=24, Accuracy: 94.93%\n",
      "[17:31:45] WARNING: /var/folders/sy/f16zz6x50xz3113nwtb9bvq00000gp/T/abs_44tbtwf8c1/croots/recipe/xgboost-split_1659548960882/work/src/learner.cc:1115: Starting in XGBoost 1.3.0, the default evaluation metric used with the objective 'binary:logistic' was changed from 'error' to 'logloss'. Explicitly set eval_metric if you'd like to restore the old behavior.\n"
     ]
    },
    {
     "name": "stderr",
     "output_type": "stream",
     "text": [
      "/Users/yuanqi/opt/anaconda3/envs/gene/lib/python3.8/site-packages/sklearn/base.py:443: UserWarning: X has feature names, but SelectFromModel was fitted without feature names\n",
      "  warnings.warn(\n",
      "/Users/yuanqi/opt/anaconda3/envs/gene/lib/python3.8/site-packages/sklearn/base.py:443: UserWarning: X has feature names, but SelectFromModel was fitted without feature names\n",
      "  warnings.warn(\n",
      "/Users/yuanqi/opt/anaconda3/envs/gene/lib/python3.8/site-packages/xgboost/sklearn.py:1224: UserWarning: The use of label encoder in XGBClassifier is deprecated and will be removed in a future release. To remove this warning, do the following: 1) Pass option use_label_encoder=False when constructing XGBClassifier object; and 2) Encode your labels (y) as integers starting with 0, i.e. 0, 1, 2, ..., [num_class - 1].\n",
      "  warnings.warn(label_encoder_deprecation_msg, UserWarning)\n"
     ]
    },
    {
     "name": "stdout",
     "output_type": "stream",
     "text": [
      "Index(['reads_count', 'std_-1_25', 'mean_-1_25', 'dwelling_time_0_25',\n",
      "       'std_0_25', 'mean_0_25', 'dwelling_time_+1_25', 'std_+1_25',\n",
      "       'mean_+1_25', 'position_0_A', 'position_0_C', 'position_0_G',\n",
      "       'position_0_T', 'position_1_A', 'position_1_G', 'position_2_A',\n",
      "       'position_5_A', 'position_5_C', 'position_5_T', 'position_6_A',\n",
      "       'position_6_C', 'position_6_G', 'position_6_T'],\n",
      "      dtype='object')\n",
      "Thresh=0.007, n=23, Accuracy: 94.93%\n",
      "[17:31:48] WARNING: /var/folders/sy/f16zz6x50xz3113nwtb9bvq00000gp/T/abs_44tbtwf8c1/croots/recipe/xgboost-split_1659548960882/work/src/learner.cc:1115: Starting in XGBoost 1.3.0, the default evaluation metric used with the objective 'binary:logistic' was changed from 'error' to 'logloss'. Explicitly set eval_metric if you'd like to restore the old behavior.\n"
     ]
    },
    {
     "name": "stderr",
     "output_type": "stream",
     "text": [
      "/Users/yuanqi/opt/anaconda3/envs/gene/lib/python3.8/site-packages/sklearn/base.py:443: UserWarning: X has feature names, but SelectFromModel was fitted without feature names\n",
      "  warnings.warn(\n",
      "/Users/yuanqi/opt/anaconda3/envs/gene/lib/python3.8/site-packages/sklearn/base.py:443: UserWarning: X has feature names, but SelectFromModel was fitted without feature names\n",
      "  warnings.warn(\n",
      "/Users/yuanqi/opt/anaconda3/envs/gene/lib/python3.8/site-packages/xgboost/sklearn.py:1224: UserWarning: The use of label encoder in XGBClassifier is deprecated and will be removed in a future release. To remove this warning, do the following: 1) Pass option use_label_encoder=False when constructing XGBClassifier object; and 2) Encode your labels (y) as integers starting with 0, i.e. 0, 1, 2, ..., [num_class - 1].\n",
      "  warnings.warn(label_encoder_deprecation_msg, UserWarning)\n"
     ]
    },
    {
     "name": "stdout",
     "output_type": "stream",
     "text": [
      "Index(['reads_count', 'std_-1_25', 'mean_-1_25', 'dwelling_time_0_25',\n",
      "       'std_0_25', 'mean_0_25', 'std_+1_25', 'mean_+1_25', 'position_0_A',\n",
      "       'position_0_C', 'position_0_G', 'position_0_T', 'position_1_A',\n",
      "       'position_1_G', 'position_2_A', 'position_5_A', 'position_5_C',\n",
      "       'position_5_T', 'position_6_A', 'position_6_C', 'position_6_G',\n",
      "       'position_6_T'],\n",
      "      dtype='object')\n",
      "Thresh=0.007, n=22, Accuracy: 94.93%\n",
      "[17:31:50] WARNING: /var/folders/sy/f16zz6x50xz3113nwtb9bvq00000gp/T/abs_44tbtwf8c1/croots/recipe/xgboost-split_1659548960882/work/src/learner.cc:1115: Starting in XGBoost 1.3.0, the default evaluation metric used with the objective 'binary:logistic' was changed from 'error' to 'logloss'. Explicitly set eval_metric if you'd like to restore the old behavior.\n"
     ]
    },
    {
     "name": "stderr",
     "output_type": "stream",
     "text": [
      "/Users/yuanqi/opt/anaconda3/envs/gene/lib/python3.8/site-packages/sklearn/base.py:443: UserWarning: X has feature names, but SelectFromModel was fitted without feature names\n",
      "  warnings.warn(\n",
      "/Users/yuanqi/opt/anaconda3/envs/gene/lib/python3.8/site-packages/sklearn/base.py:443: UserWarning: X has feature names, but SelectFromModel was fitted without feature names\n",
      "  warnings.warn(\n",
      "/Users/yuanqi/opt/anaconda3/envs/gene/lib/python3.8/site-packages/xgboost/sklearn.py:1224: UserWarning: The use of label encoder in XGBClassifier is deprecated and will be removed in a future release. To remove this warning, do the following: 1) Pass option use_label_encoder=False when constructing XGBClassifier object; and 2) Encode your labels (y) as integers starting with 0, i.e. 0, 1, 2, ..., [num_class - 1].\n",
      "  warnings.warn(label_encoder_deprecation_msg, UserWarning)\n"
     ]
    },
    {
     "name": "stdout",
     "output_type": "stream",
     "text": [
      "Index(['reads_count', 'std_-1_25', 'mean_-1_25', 'dwelling_time_0_25',\n",
      "       'std_0_25', 'mean_0_25', 'mean_+1_25', 'position_0_A', 'position_0_C',\n",
      "       'position_0_G', 'position_0_T', 'position_1_A', 'position_1_G',\n",
      "       'position_2_A', 'position_5_A', 'position_5_C', 'position_5_T',\n",
      "       'position_6_A', 'position_6_C', 'position_6_G', 'position_6_T'],\n",
      "      dtype='object')\n",
      "Thresh=0.008, n=21, Accuracy: 94.93%\n",
      "[17:31:52] WARNING: /var/folders/sy/f16zz6x50xz3113nwtb9bvq00000gp/T/abs_44tbtwf8c1/croots/recipe/xgboost-split_1659548960882/work/src/learner.cc:1115: Starting in XGBoost 1.3.0, the default evaluation metric used with the objective 'binary:logistic' was changed from 'error' to 'logloss'. Explicitly set eval_metric if you'd like to restore the old behavior.\n"
     ]
    },
    {
     "name": "stderr",
     "output_type": "stream",
     "text": [
      "/Users/yuanqi/opt/anaconda3/envs/gene/lib/python3.8/site-packages/sklearn/base.py:443: UserWarning: X has feature names, but SelectFromModel was fitted without feature names\n",
      "  warnings.warn(\n",
      "/Users/yuanqi/opt/anaconda3/envs/gene/lib/python3.8/site-packages/sklearn/base.py:443: UserWarning: X has feature names, but SelectFromModel was fitted without feature names\n",
      "  warnings.warn(\n",
      "/Users/yuanqi/opt/anaconda3/envs/gene/lib/python3.8/site-packages/xgboost/sklearn.py:1224: UserWarning: The use of label encoder in XGBClassifier is deprecated and will be removed in a future release. To remove this warning, do the following: 1) Pass option use_label_encoder=False when constructing XGBClassifier object; and 2) Encode your labels (y) as integers starting with 0, i.e. 0, 1, 2, ..., [num_class - 1].\n",
      "  warnings.warn(label_encoder_deprecation_msg, UserWarning)\n"
     ]
    },
    {
     "name": "stdout",
     "output_type": "stream",
     "text": [
      "Index(['std_-1_25', 'mean_-1_25', 'dwelling_time_0_25', 'std_0_25',\n",
      "       'mean_0_25', 'mean_+1_25', 'position_0_A', 'position_0_C',\n",
      "       'position_0_G', 'position_0_T', 'position_1_A', 'position_1_G',\n",
      "       'position_2_A', 'position_5_A', 'position_5_C', 'position_5_T',\n",
      "       'position_6_A', 'position_6_C', 'position_6_G', 'position_6_T'],\n",
      "      dtype='object')\n",
      "Thresh=0.008, n=20, Accuracy: 94.93%\n",
      "[17:31:54] WARNING: /var/folders/sy/f16zz6x50xz3113nwtb9bvq00000gp/T/abs_44tbtwf8c1/croots/recipe/xgboost-split_1659548960882/work/src/learner.cc:1115: Starting in XGBoost 1.3.0, the default evaluation metric used with the objective 'binary:logistic' was changed from 'error' to 'logloss'. Explicitly set eval_metric if you'd like to restore the old behavior.\n"
     ]
    },
    {
     "name": "stderr",
     "output_type": "stream",
     "text": [
      "/Users/yuanqi/opt/anaconda3/envs/gene/lib/python3.8/site-packages/sklearn/base.py:443: UserWarning: X has feature names, but SelectFromModel was fitted without feature names\n",
      "  warnings.warn(\n",
      "/Users/yuanqi/opt/anaconda3/envs/gene/lib/python3.8/site-packages/sklearn/base.py:443: UserWarning: X has feature names, but SelectFromModel was fitted without feature names\n",
      "  warnings.warn(\n",
      "/Users/yuanqi/opt/anaconda3/envs/gene/lib/python3.8/site-packages/xgboost/sklearn.py:1224: UserWarning: The use of label encoder in XGBClassifier is deprecated and will be removed in a future release. To remove this warning, do the following: 1) Pass option use_label_encoder=False when constructing XGBClassifier object; and 2) Encode your labels (y) as integers starting with 0, i.e. 0, 1, 2, ..., [num_class - 1].\n",
      "  warnings.warn(label_encoder_deprecation_msg, UserWarning)\n"
     ]
    },
    {
     "name": "stdout",
     "output_type": "stream",
     "text": [
      "Index(['std_-1_25', 'mean_-1_25', 'std_0_25', 'mean_0_25', 'mean_+1_25',\n",
      "       'position_0_A', 'position_0_C', 'position_0_G', 'position_0_T',\n",
      "       'position_1_A', 'position_1_G', 'position_2_A', 'position_5_A',\n",
      "       'position_5_C', 'position_5_T', 'position_6_A', 'position_6_C',\n",
      "       'position_6_G', 'position_6_T'],\n",
      "      dtype='object')\n",
      "Thresh=0.009, n=19, Accuracy: 94.93%\n",
      "[17:31:56] WARNING: /var/folders/sy/f16zz6x50xz3113nwtb9bvq00000gp/T/abs_44tbtwf8c1/croots/recipe/xgboost-split_1659548960882/work/src/learner.cc:1115: Starting in XGBoost 1.3.0, the default evaluation metric used with the objective 'binary:logistic' was changed from 'error' to 'logloss'. Explicitly set eval_metric if you'd like to restore the old behavior.\n"
     ]
    },
    {
     "name": "stderr",
     "output_type": "stream",
     "text": [
      "/Users/yuanqi/opt/anaconda3/envs/gene/lib/python3.8/site-packages/sklearn/base.py:443: UserWarning: X has feature names, but SelectFromModel was fitted without feature names\n",
      "  warnings.warn(\n",
      "/Users/yuanqi/opt/anaconda3/envs/gene/lib/python3.8/site-packages/sklearn/base.py:443: UserWarning: X has feature names, but SelectFromModel was fitted without feature names\n",
      "  warnings.warn(\n",
      "/Users/yuanqi/opt/anaconda3/envs/gene/lib/python3.8/site-packages/xgboost/sklearn.py:1224: UserWarning: The use of label encoder in XGBClassifier is deprecated and will be removed in a future release. To remove this warning, do the following: 1) Pass option use_label_encoder=False when constructing XGBClassifier object; and 2) Encode your labels (y) as integers starting with 0, i.e. 0, 1, 2, ..., [num_class - 1].\n",
      "  warnings.warn(label_encoder_deprecation_msg, UserWarning)\n"
     ]
    },
    {
     "name": "stdout",
     "output_type": "stream",
     "text": [
      "Index(['std_-1_25', 'mean_-1_25', 'std_0_25', 'mean_0_25', 'mean_+1_25',\n",
      "       'position_0_A', 'position_0_C', 'position_0_T', 'position_1_A',\n",
      "       'position_1_G', 'position_2_A', 'position_5_A', 'position_5_C',\n",
      "       'position_5_T', 'position_6_A', 'position_6_C', 'position_6_G',\n",
      "       'position_6_T'],\n",
      "      dtype='object')\n",
      "Thresh=0.009, n=18, Accuracy: 94.93%\n",
      "[17:31:58] WARNING: /var/folders/sy/f16zz6x50xz3113nwtb9bvq00000gp/T/abs_44tbtwf8c1/croots/recipe/xgboost-split_1659548960882/work/src/learner.cc:1115: Starting in XGBoost 1.3.0, the default evaluation metric used with the objective 'binary:logistic' was changed from 'error' to 'logloss'. Explicitly set eval_metric if you'd like to restore the old behavior.\n"
     ]
    },
    {
     "name": "stderr",
     "output_type": "stream",
     "text": [
      "/Users/yuanqi/opt/anaconda3/envs/gene/lib/python3.8/site-packages/sklearn/base.py:443: UserWarning: X has feature names, but SelectFromModel was fitted without feature names\n",
      "  warnings.warn(\n",
      "/Users/yuanqi/opt/anaconda3/envs/gene/lib/python3.8/site-packages/sklearn/base.py:443: UserWarning: X has feature names, but SelectFromModel was fitted without feature names\n",
      "  warnings.warn(\n",
      "/Users/yuanqi/opt/anaconda3/envs/gene/lib/python3.8/site-packages/xgboost/sklearn.py:1224: UserWarning: The use of label encoder in XGBClassifier is deprecated and will be removed in a future release. To remove this warning, do the following: 1) Pass option use_label_encoder=False when constructing XGBClassifier object; and 2) Encode your labels (y) as integers starting with 0, i.e. 0, 1, 2, ..., [num_class - 1].\n",
      "  warnings.warn(label_encoder_deprecation_msg, UserWarning)\n"
     ]
    },
    {
     "name": "stdout",
     "output_type": "stream",
     "text": [
      "Index(['std_-1_25', 'mean_-1_25', 'std_0_25', 'mean_0_25', 'mean_+1_25',\n",
      "       'position_0_A', 'position_0_T', 'position_1_A', 'position_1_G',\n",
      "       'position_2_A', 'position_5_A', 'position_5_C', 'position_5_T',\n",
      "       'position_6_A', 'position_6_C', 'position_6_G', 'position_6_T'],\n",
      "      dtype='object')\n",
      "Thresh=0.009, n=17, Accuracy: 94.93%\n",
      "[17:32:00] WARNING: /var/folders/sy/f16zz6x50xz3113nwtb9bvq00000gp/T/abs_44tbtwf8c1/croots/recipe/xgboost-split_1659548960882/work/src/learner.cc:1115: Starting in XGBoost 1.3.0, the default evaluation metric used with the objective 'binary:logistic' was changed from 'error' to 'logloss'. Explicitly set eval_metric if you'd like to restore the old behavior.\n"
     ]
    },
    {
     "name": "stderr",
     "output_type": "stream",
     "text": [
      "/Users/yuanqi/opt/anaconda3/envs/gene/lib/python3.8/site-packages/sklearn/base.py:443: UserWarning: X has feature names, but SelectFromModel was fitted without feature names\n",
      "  warnings.warn(\n",
      "/Users/yuanqi/opt/anaconda3/envs/gene/lib/python3.8/site-packages/sklearn/base.py:443: UserWarning: X has feature names, but SelectFromModel was fitted without feature names\n",
      "  warnings.warn(\n",
      "/Users/yuanqi/opt/anaconda3/envs/gene/lib/python3.8/site-packages/xgboost/sklearn.py:1224: UserWarning: The use of label encoder in XGBClassifier is deprecated and will be removed in a future release. To remove this warning, do the following: 1) Pass option use_label_encoder=False when constructing XGBClassifier object; and 2) Encode your labels (y) as integers starting with 0, i.e. 0, 1, 2, ..., [num_class - 1].\n",
      "  warnings.warn(label_encoder_deprecation_msg, UserWarning)\n"
     ]
    },
    {
     "name": "stdout",
     "output_type": "stream",
     "text": [
      "Index(['std_-1_25', 'mean_-1_25', 'std_0_25', 'mean_0_25', 'mean_+1_25',\n",
      "       'position_0_A', 'position_0_T', 'position_1_A', 'position_1_G',\n",
      "       'position_2_A', 'position_5_C', 'position_5_T', 'position_6_A',\n",
      "       'position_6_C', 'position_6_G', 'position_6_T'],\n",
      "      dtype='object')\n",
      "Thresh=0.010, n=16, Accuracy: 94.93%\n",
      "[17:32:02] WARNING: /var/folders/sy/f16zz6x50xz3113nwtb9bvq00000gp/T/abs_44tbtwf8c1/croots/recipe/xgboost-split_1659548960882/work/src/learner.cc:1115: Starting in XGBoost 1.3.0, the default evaluation metric used with the objective 'binary:logistic' was changed from 'error' to 'logloss'. Explicitly set eval_metric if you'd like to restore the old behavior.\n"
     ]
    },
    {
     "name": "stderr",
     "output_type": "stream",
     "text": [
      "/Users/yuanqi/opt/anaconda3/envs/gene/lib/python3.8/site-packages/sklearn/base.py:443: UserWarning: X has feature names, but SelectFromModel was fitted without feature names\n",
      "  warnings.warn(\n",
      "/Users/yuanqi/opt/anaconda3/envs/gene/lib/python3.8/site-packages/sklearn/base.py:443: UserWarning: X has feature names, but SelectFromModel was fitted without feature names\n",
      "  warnings.warn(\n",
      "/Users/yuanqi/opt/anaconda3/envs/gene/lib/python3.8/site-packages/xgboost/sklearn.py:1224: UserWarning: The use of label encoder in XGBClassifier is deprecated and will be removed in a future release. To remove this warning, do the following: 1) Pass option use_label_encoder=False when constructing XGBClassifier object; and 2) Encode your labels (y) as integers starting with 0, i.e. 0, 1, 2, ..., [num_class - 1].\n",
      "  warnings.warn(label_encoder_deprecation_msg, UserWarning)\n"
     ]
    },
    {
     "name": "stdout",
     "output_type": "stream",
     "text": [
      "Index(['std_-1_25', 'mean_-1_25', 'std_0_25', 'mean_0_25', 'mean_+1_25',\n",
      "       'position_0_A', 'position_0_T', 'position_1_A', 'position_1_G',\n",
      "       'position_2_A', 'position_5_T', 'position_6_A', 'position_6_C',\n",
      "       'position_6_G', 'position_6_T'],\n",
      "      dtype='object')\n",
      "Thresh=0.012, n=15, Accuracy: 94.93%\n",
      "[17:32:04] WARNING: /var/folders/sy/f16zz6x50xz3113nwtb9bvq00000gp/T/abs_44tbtwf8c1/croots/recipe/xgboost-split_1659548960882/work/src/learner.cc:1115: Starting in XGBoost 1.3.0, the default evaluation metric used with the objective 'binary:logistic' was changed from 'error' to 'logloss'. Explicitly set eval_metric if you'd like to restore the old behavior.\n"
     ]
    },
    {
     "name": "stderr",
     "output_type": "stream",
     "text": [
      "/Users/yuanqi/opt/anaconda3/envs/gene/lib/python3.8/site-packages/sklearn/base.py:443: UserWarning: X has feature names, but SelectFromModel was fitted without feature names\n",
      "  warnings.warn(\n",
      "/Users/yuanqi/opt/anaconda3/envs/gene/lib/python3.8/site-packages/sklearn/base.py:443: UserWarning: X has feature names, but SelectFromModel was fitted without feature names\n",
      "  warnings.warn(\n",
      "/Users/yuanqi/opt/anaconda3/envs/gene/lib/python3.8/site-packages/xgboost/sklearn.py:1224: UserWarning: The use of label encoder in XGBClassifier is deprecated and will be removed in a future release. To remove this warning, do the following: 1) Pass option use_label_encoder=False when constructing XGBClassifier object; and 2) Encode your labels (y) as integers starting with 0, i.e. 0, 1, 2, ..., [num_class - 1].\n",
      "  warnings.warn(label_encoder_deprecation_msg, UserWarning)\n"
     ]
    },
    {
     "name": "stdout",
     "output_type": "stream",
     "text": [
      "Index(['std_-1_25', 'mean_-1_25', 'std_0_25', 'mean_0_25', 'mean_+1_25',\n",
      "       'position_0_T', 'position_1_A', 'position_1_G', 'position_2_A',\n",
      "       'position_5_T', 'position_6_A', 'position_6_C', 'position_6_G',\n",
      "       'position_6_T'],\n",
      "      dtype='object')\n",
      "Thresh=0.013, n=14, Accuracy: 94.93%\n",
      "[17:32:06] WARNING: /var/folders/sy/f16zz6x50xz3113nwtb9bvq00000gp/T/abs_44tbtwf8c1/croots/recipe/xgboost-split_1659548960882/work/src/learner.cc:1115: Starting in XGBoost 1.3.0, the default evaluation metric used with the objective 'binary:logistic' was changed from 'error' to 'logloss'. Explicitly set eval_metric if you'd like to restore the old behavior.\n"
     ]
    },
    {
     "name": "stderr",
     "output_type": "stream",
     "text": [
      "/Users/yuanqi/opt/anaconda3/envs/gene/lib/python3.8/site-packages/sklearn/base.py:443: UserWarning: X has feature names, but SelectFromModel was fitted without feature names\n",
      "  warnings.warn(\n",
      "/Users/yuanqi/opt/anaconda3/envs/gene/lib/python3.8/site-packages/sklearn/base.py:443: UserWarning: X has feature names, but SelectFromModel was fitted without feature names\n",
      "  warnings.warn(\n",
      "/Users/yuanqi/opt/anaconda3/envs/gene/lib/python3.8/site-packages/xgboost/sklearn.py:1224: UserWarning: The use of label encoder in XGBClassifier is deprecated and will be removed in a future release. To remove this warning, do the following: 1) Pass option use_label_encoder=False when constructing XGBClassifier object; and 2) Encode your labels (y) as integers starting with 0, i.e. 0, 1, 2, ..., [num_class - 1].\n",
      "  warnings.warn(label_encoder_deprecation_msg, UserWarning)\n"
     ]
    },
    {
     "name": "stdout",
     "output_type": "stream",
     "text": [
      "Index(['std_-1_25', 'mean_-1_25', 'std_0_25', 'mean_0_25', 'mean_+1_25',\n",
      "       'position_0_T', 'position_1_A', 'position_1_G', 'position_2_A',\n",
      "       'position_5_T', 'position_6_A', 'position_6_G', 'position_6_T'],\n",
      "      dtype='object')\n",
      "Thresh=0.013, n=13, Accuracy: 94.93%\n",
      "[17:32:08] WARNING: /var/folders/sy/f16zz6x50xz3113nwtb9bvq00000gp/T/abs_44tbtwf8c1/croots/recipe/xgboost-split_1659548960882/work/src/learner.cc:1115: Starting in XGBoost 1.3.0, the default evaluation metric used with the objective 'binary:logistic' was changed from 'error' to 'logloss'. Explicitly set eval_metric if you'd like to restore the old behavior.\n"
     ]
    },
    {
     "name": "stderr",
     "output_type": "stream",
     "text": [
      "/Users/yuanqi/opt/anaconda3/envs/gene/lib/python3.8/site-packages/sklearn/base.py:443: UserWarning: X has feature names, but SelectFromModel was fitted without feature names\n",
      "  warnings.warn(\n",
      "/Users/yuanqi/opt/anaconda3/envs/gene/lib/python3.8/site-packages/sklearn/base.py:443: UserWarning: X has feature names, but SelectFromModel was fitted without feature names\n",
      "  warnings.warn(\n",
      "/Users/yuanqi/opt/anaconda3/envs/gene/lib/python3.8/site-packages/xgboost/sklearn.py:1224: UserWarning: The use of label encoder in XGBClassifier is deprecated and will be removed in a future release. To remove this warning, do the following: 1) Pass option use_label_encoder=False when constructing XGBClassifier object; and 2) Encode your labels (y) as integers starting with 0, i.e. 0, 1, 2, ..., [num_class - 1].\n",
      "  warnings.warn(label_encoder_deprecation_msg, UserWarning)\n"
     ]
    },
    {
     "name": "stdout",
     "output_type": "stream",
     "text": [
      "Index(['mean_-1_25', 'std_0_25', 'mean_0_25', 'mean_+1_25', 'position_0_T',\n",
      "       'position_1_A', 'position_1_G', 'position_2_A', 'position_5_T',\n",
      "       'position_6_A', 'position_6_G', 'position_6_T'],\n",
      "      dtype='object')\n",
      "Thresh=0.014, n=12, Accuracy: 94.93%\n",
      "[17:32:10] WARNING: /var/folders/sy/f16zz6x50xz3113nwtb9bvq00000gp/T/abs_44tbtwf8c1/croots/recipe/xgboost-split_1659548960882/work/src/learner.cc:1115: Starting in XGBoost 1.3.0, the default evaluation metric used with the objective 'binary:logistic' was changed from 'error' to 'logloss'. Explicitly set eval_metric if you'd like to restore the old behavior.\n"
     ]
    },
    {
     "name": "stderr",
     "output_type": "stream",
     "text": [
      "/Users/yuanqi/opt/anaconda3/envs/gene/lib/python3.8/site-packages/sklearn/base.py:443: UserWarning: X has feature names, but SelectFromModel was fitted without feature names\n",
      "  warnings.warn(\n",
      "/Users/yuanqi/opt/anaconda3/envs/gene/lib/python3.8/site-packages/sklearn/base.py:443: UserWarning: X has feature names, but SelectFromModel was fitted without feature names\n",
      "  warnings.warn(\n",
      "/Users/yuanqi/opt/anaconda3/envs/gene/lib/python3.8/site-packages/xgboost/sklearn.py:1224: UserWarning: The use of label encoder in XGBClassifier is deprecated and will be removed in a future release. To remove this warning, do the following: 1) Pass option use_label_encoder=False when constructing XGBClassifier object; and 2) Encode your labels (y) as integers starting with 0, i.e. 0, 1, 2, ..., [num_class - 1].\n",
      "  warnings.warn(label_encoder_deprecation_msg, UserWarning)\n"
     ]
    },
    {
     "name": "stdout",
     "output_type": "stream",
     "text": [
      "Index(['std_0_25', 'mean_0_25', 'mean_+1_25', 'position_0_T', 'position_1_A',\n",
      "       'position_1_G', 'position_2_A', 'position_5_T', 'position_6_A',\n",
      "       'position_6_G', 'position_6_T'],\n",
      "      dtype='object')\n",
      "Thresh=0.014, n=11, Accuracy: 94.93%\n",
      "[17:32:12] WARNING: /var/folders/sy/f16zz6x50xz3113nwtb9bvq00000gp/T/abs_44tbtwf8c1/croots/recipe/xgboost-split_1659548960882/work/src/learner.cc:1115: Starting in XGBoost 1.3.0, the default evaluation metric used with the objective 'binary:logistic' was changed from 'error' to 'logloss'. Explicitly set eval_metric if you'd like to restore the old behavior.\n"
     ]
    },
    {
     "name": "stderr",
     "output_type": "stream",
     "text": [
      "/Users/yuanqi/opt/anaconda3/envs/gene/lib/python3.8/site-packages/sklearn/base.py:443: UserWarning: X has feature names, but SelectFromModel was fitted without feature names\n",
      "  warnings.warn(\n",
      "/Users/yuanqi/opt/anaconda3/envs/gene/lib/python3.8/site-packages/sklearn/base.py:443: UserWarning: X has feature names, but SelectFromModel was fitted without feature names\n",
      "  warnings.warn(\n",
      "/Users/yuanqi/opt/anaconda3/envs/gene/lib/python3.8/site-packages/xgboost/sklearn.py:1224: UserWarning: The use of label encoder in XGBClassifier is deprecated and will be removed in a future release. To remove this warning, do the following: 1) Pass option use_label_encoder=False when constructing XGBClassifier object; and 2) Encode your labels (y) as integers starting with 0, i.e. 0, 1, 2, ..., [num_class - 1].\n",
      "  warnings.warn(label_encoder_deprecation_msg, UserWarning)\n"
     ]
    },
    {
     "name": "stdout",
     "output_type": "stream",
     "text": [
      "Index(['std_0_25', 'mean_0_25', 'mean_+1_25', 'position_1_A', 'position_1_G',\n",
      "       'position_2_A', 'position_5_T', 'position_6_A', 'position_6_G',\n",
      "       'position_6_T'],\n",
      "      dtype='object')\n",
      "Thresh=0.015, n=10, Accuracy: 94.93%\n",
      "[17:32:13] WARNING: /var/folders/sy/f16zz6x50xz3113nwtb9bvq00000gp/T/abs_44tbtwf8c1/croots/recipe/xgboost-split_1659548960882/work/src/learner.cc:1115: Starting in XGBoost 1.3.0, the default evaluation metric used with the objective 'binary:logistic' was changed from 'error' to 'logloss'. Explicitly set eval_metric if you'd like to restore the old behavior.\n"
     ]
    },
    {
     "name": "stderr",
     "output_type": "stream",
     "text": [
      "/Users/yuanqi/opt/anaconda3/envs/gene/lib/python3.8/site-packages/sklearn/base.py:443: UserWarning: X has feature names, but SelectFromModel was fitted without feature names\n",
      "  warnings.warn(\n",
      "/Users/yuanqi/opt/anaconda3/envs/gene/lib/python3.8/site-packages/sklearn/base.py:443: UserWarning: X has feature names, but SelectFromModel was fitted without feature names\n",
      "  warnings.warn(\n",
      "/Users/yuanqi/opt/anaconda3/envs/gene/lib/python3.8/site-packages/xgboost/sklearn.py:1224: UserWarning: The use of label encoder in XGBClassifier is deprecated and will be removed in a future release. To remove this warning, do the following: 1) Pass option use_label_encoder=False when constructing XGBClassifier object; and 2) Encode your labels (y) as integers starting with 0, i.e. 0, 1, 2, ..., [num_class - 1].\n",
      "  warnings.warn(label_encoder_deprecation_msg, UserWarning)\n"
     ]
    },
    {
     "name": "stdout",
     "output_type": "stream",
     "text": [
      "Index(['std_0_25', 'mean_0_25', 'mean_+1_25', 'position_1_A', 'position_1_G',\n",
      "       'position_2_A', 'position_5_T', 'position_6_A', 'position_6_G'],\n",
      "      dtype='object')\n",
      "Thresh=0.018, n=9, Accuracy: 94.93%\n",
      "[17:32:15] WARNING: /var/folders/sy/f16zz6x50xz3113nwtb9bvq00000gp/T/abs_44tbtwf8c1/croots/recipe/xgboost-split_1659548960882/work/src/learner.cc:1115: Starting in XGBoost 1.3.0, the default evaluation metric used with the objective 'binary:logistic' was changed from 'error' to 'logloss'. Explicitly set eval_metric if you'd like to restore the old behavior.\n"
     ]
    },
    {
     "name": "stderr",
     "output_type": "stream",
     "text": [
      "/Users/yuanqi/opt/anaconda3/envs/gene/lib/python3.8/site-packages/sklearn/base.py:443: UserWarning: X has feature names, but SelectFromModel was fitted without feature names\n",
      "  warnings.warn(\n",
      "/Users/yuanqi/opt/anaconda3/envs/gene/lib/python3.8/site-packages/sklearn/base.py:443: UserWarning: X has feature names, but SelectFromModel was fitted without feature names\n",
      "  warnings.warn(\n",
      "/Users/yuanqi/opt/anaconda3/envs/gene/lib/python3.8/site-packages/xgboost/sklearn.py:1224: UserWarning: The use of label encoder in XGBClassifier is deprecated and will be removed in a future release. To remove this warning, do the following: 1) Pass option use_label_encoder=False when constructing XGBClassifier object; and 2) Encode your labels (y) as integers starting with 0, i.e. 0, 1, 2, ..., [num_class - 1].\n",
      "  warnings.warn(label_encoder_deprecation_msg, UserWarning)\n"
     ]
    },
    {
     "name": "stdout",
     "output_type": "stream",
     "text": [
      "Index(['std_0_25', 'mean_0_25', 'mean_+1_25', 'position_1_G', 'position_2_A',\n",
      "       'position_5_T', 'position_6_A', 'position_6_G'],\n",
      "      dtype='object')\n",
      "Thresh=0.021, n=8, Accuracy: 94.93%\n",
      "[17:32:16] WARNING: /var/folders/sy/f16zz6x50xz3113nwtb9bvq00000gp/T/abs_44tbtwf8c1/croots/recipe/xgboost-split_1659548960882/work/src/learner.cc:1115: Starting in XGBoost 1.3.0, the default evaluation metric used with the objective 'binary:logistic' was changed from 'error' to 'logloss'. Explicitly set eval_metric if you'd like to restore the old behavior.\n"
     ]
    },
    {
     "name": "stderr",
     "output_type": "stream",
     "text": [
      "/Users/yuanqi/opt/anaconda3/envs/gene/lib/python3.8/site-packages/sklearn/base.py:443: UserWarning: X has feature names, but SelectFromModel was fitted without feature names\n",
      "  warnings.warn(\n",
      "/Users/yuanqi/opt/anaconda3/envs/gene/lib/python3.8/site-packages/sklearn/base.py:443: UserWarning: X has feature names, but SelectFromModel was fitted without feature names\n",
      "  warnings.warn(\n",
      "/Users/yuanqi/opt/anaconda3/envs/gene/lib/python3.8/site-packages/xgboost/sklearn.py:1224: UserWarning: The use of label encoder in XGBClassifier is deprecated and will be removed in a future release. To remove this warning, do the following: 1) Pass option use_label_encoder=False when constructing XGBClassifier object; and 2) Encode your labels (y) as integers starting with 0, i.e. 0, 1, 2, ..., [num_class - 1].\n",
      "  warnings.warn(label_encoder_deprecation_msg, UserWarning)\n"
     ]
    },
    {
     "name": "stdout",
     "output_type": "stream",
     "text": [
      "Index(['mean_0_25', 'mean_+1_25', 'position_1_G', 'position_2_A',\n",
      "       'position_5_T', 'position_6_A', 'position_6_G'],\n",
      "      dtype='object')\n",
      "Thresh=0.022, n=7, Accuracy: 94.93%\n",
      "[17:32:17] WARNING: /var/folders/sy/f16zz6x50xz3113nwtb9bvq00000gp/T/abs_44tbtwf8c1/croots/recipe/xgboost-split_1659548960882/work/src/learner.cc:1115: Starting in XGBoost 1.3.0, the default evaluation metric used with the objective 'binary:logistic' was changed from 'error' to 'logloss'. Explicitly set eval_metric if you'd like to restore the old behavior.\n"
     ]
    },
    {
     "name": "stderr",
     "output_type": "stream",
     "text": [
      "/Users/yuanqi/opt/anaconda3/envs/gene/lib/python3.8/site-packages/sklearn/base.py:443: UserWarning: X has feature names, but SelectFromModel was fitted without feature names\n",
      "  warnings.warn(\n",
      "/Users/yuanqi/opt/anaconda3/envs/gene/lib/python3.8/site-packages/sklearn/base.py:443: UserWarning: X has feature names, but SelectFromModel was fitted without feature names\n",
      "  warnings.warn(\n",
      "/Users/yuanqi/opt/anaconda3/envs/gene/lib/python3.8/site-packages/xgboost/sklearn.py:1224: UserWarning: The use of label encoder in XGBClassifier is deprecated and will be removed in a future release. To remove this warning, do the following: 1) Pass option use_label_encoder=False when constructing XGBClassifier object; and 2) Encode your labels (y) as integers starting with 0, i.e. 0, 1, 2, ..., [num_class - 1].\n",
      "  warnings.warn(label_encoder_deprecation_msg, UserWarning)\n"
     ]
    },
    {
     "name": "stdout",
     "output_type": "stream",
     "text": [
      "Index(['mean_0_25', 'position_1_G', 'position_2_A', 'position_5_T',\n",
      "       'position_6_A', 'position_6_G'],\n",
      "      dtype='object')\n",
      "Thresh=0.025, n=6, Accuracy: 94.93%\n",
      "[17:32:18] WARNING: /var/folders/sy/f16zz6x50xz3113nwtb9bvq00000gp/T/abs_44tbtwf8c1/croots/recipe/xgboost-split_1659548960882/work/src/learner.cc:1115: Starting in XGBoost 1.3.0, the default evaluation metric used with the objective 'binary:logistic' was changed from 'error' to 'logloss'. Explicitly set eval_metric if you'd like to restore the old behavior.\n"
     ]
    },
    {
     "name": "stderr",
     "output_type": "stream",
     "text": [
      "/Users/yuanqi/opt/anaconda3/envs/gene/lib/python3.8/site-packages/sklearn/base.py:443: UserWarning: X has feature names, but SelectFromModel was fitted without feature names\n",
      "  warnings.warn(\n",
      "/Users/yuanqi/opt/anaconda3/envs/gene/lib/python3.8/site-packages/sklearn/base.py:443: UserWarning: X has feature names, but SelectFromModel was fitted without feature names\n",
      "  warnings.warn(\n",
      "/Users/yuanqi/opt/anaconda3/envs/gene/lib/python3.8/site-packages/xgboost/sklearn.py:1224: UserWarning: The use of label encoder in XGBClassifier is deprecated and will be removed in a future release. To remove this warning, do the following: 1) Pass option use_label_encoder=False when constructing XGBClassifier object; and 2) Encode your labels (y) as integers starting with 0, i.e. 0, 1, 2, ..., [num_class - 1].\n",
      "  warnings.warn(label_encoder_deprecation_msg, UserWarning)\n"
     ]
    },
    {
     "name": "stdout",
     "output_type": "stream",
     "text": [
      "Index(['mean_0_25', 'position_1_G', 'position_2_A', 'position_5_T',\n",
      "       'position_6_G'],\n",
      "      dtype='object')\n",
      "Thresh=0.026, n=5, Accuracy: 94.93%\n",
      "[17:32:19] WARNING: /var/folders/sy/f16zz6x50xz3113nwtb9bvq00000gp/T/abs_44tbtwf8c1/croots/recipe/xgboost-split_1659548960882/work/src/learner.cc:1115: Starting in XGBoost 1.3.0, the default evaluation metric used with the objective 'binary:logistic' was changed from 'error' to 'logloss'. Explicitly set eval_metric if you'd like to restore the old behavior.\n"
     ]
    },
    {
     "name": "stderr",
     "output_type": "stream",
     "text": [
      "/Users/yuanqi/opt/anaconda3/envs/gene/lib/python3.8/site-packages/sklearn/base.py:443: UserWarning: X has feature names, but SelectFromModel was fitted without feature names\n",
      "  warnings.warn(\n",
      "/Users/yuanqi/opt/anaconda3/envs/gene/lib/python3.8/site-packages/sklearn/base.py:443: UserWarning: X has feature names, but SelectFromModel was fitted without feature names\n",
      "  warnings.warn(\n",
      "/Users/yuanqi/opt/anaconda3/envs/gene/lib/python3.8/site-packages/xgboost/sklearn.py:1224: UserWarning: The use of label encoder in XGBClassifier is deprecated and will be removed in a future release. To remove this warning, do the following: 1) Pass option use_label_encoder=False when constructing XGBClassifier object; and 2) Encode your labels (y) as integers starting with 0, i.e. 0, 1, 2, ..., [num_class - 1].\n",
      "  warnings.warn(label_encoder_deprecation_msg, UserWarning)\n"
     ]
    },
    {
     "name": "stdout",
     "output_type": "stream",
     "text": [
      "Index(['position_1_G', 'position_2_A', 'position_5_T', 'position_6_G'], dtype='object')\n",
      "Thresh=0.032, n=4, Accuracy: 92.42%\n",
      "[17:32:19] WARNING: /var/folders/sy/f16zz6x50xz3113nwtb9bvq00000gp/T/abs_44tbtwf8c1/croots/recipe/xgboost-split_1659548960882/work/src/learner.cc:1115: Starting in XGBoost 1.3.0, the default evaluation metric used with the objective 'binary:logistic' was changed from 'error' to 'logloss'. Explicitly set eval_metric if you'd like to restore the old behavior.\n"
     ]
    },
    {
     "name": "stderr",
     "output_type": "stream",
     "text": [
      "/Users/yuanqi/opt/anaconda3/envs/gene/lib/python3.8/site-packages/sklearn/base.py:443: UserWarning: X has feature names, but SelectFromModel was fitted without feature names\n",
      "  warnings.warn(\n",
      "/Users/yuanqi/opt/anaconda3/envs/gene/lib/python3.8/site-packages/sklearn/base.py:443: UserWarning: X has feature names, but SelectFromModel was fitted without feature names\n",
      "  warnings.warn(\n",
      "/Users/yuanqi/opt/anaconda3/envs/gene/lib/python3.8/site-packages/xgboost/sklearn.py:1224: UserWarning: The use of label encoder in XGBClassifier is deprecated and will be removed in a future release. To remove this warning, do the following: 1) Pass option use_label_encoder=False when constructing XGBClassifier object; and 2) Encode your labels (y) as integers starting with 0, i.e. 0, 1, 2, ..., [num_class - 1].\n",
      "  warnings.warn(label_encoder_deprecation_msg, UserWarning)\n"
     ]
    },
    {
     "name": "stdout",
     "output_type": "stream",
     "text": [
      "Index(['position_1_G', 'position_2_A', 'position_5_T'], dtype='object')\n",
      "Thresh=0.039, n=3, Accuracy: 92.42%\n",
      "[17:32:20] WARNING: /var/folders/sy/f16zz6x50xz3113nwtb9bvq00000gp/T/abs_44tbtwf8c1/croots/recipe/xgboost-split_1659548960882/work/src/learner.cc:1115: Starting in XGBoost 1.3.0, the default evaluation metric used with the objective 'binary:logistic' was changed from 'error' to 'logloss'. Explicitly set eval_metric if you'd like to restore the old behavior.\n"
     ]
    },
    {
     "name": "stderr",
     "output_type": "stream",
     "text": [
      "/Users/yuanqi/opt/anaconda3/envs/gene/lib/python3.8/site-packages/sklearn/base.py:443: UserWarning: X has feature names, but SelectFromModel was fitted without feature names\n",
      "  warnings.warn(\n",
      "/Users/yuanqi/opt/anaconda3/envs/gene/lib/python3.8/site-packages/sklearn/base.py:443: UserWarning: X has feature names, but SelectFromModel was fitted without feature names\n",
      "  warnings.warn(\n",
      "/Users/yuanqi/opt/anaconda3/envs/gene/lib/python3.8/site-packages/xgboost/sklearn.py:1224: UserWarning: The use of label encoder in XGBClassifier is deprecated and will be removed in a future release. To remove this warning, do the following: 1) Pass option use_label_encoder=False when constructing XGBClassifier object; and 2) Encode your labels (y) as integers starting with 0, i.e. 0, 1, 2, ..., [num_class - 1].\n",
      "  warnings.warn(label_encoder_deprecation_msg, UserWarning)\n"
     ]
    },
    {
     "name": "stdout",
     "output_type": "stream",
     "text": [
      "Index(['position_1_G', 'position_5_T'], dtype='object')\n",
      "Thresh=0.251, n=2, Accuracy: 94.93%\n",
      "[17:32:20] WARNING: /var/folders/sy/f16zz6x50xz3113nwtb9bvq00000gp/T/abs_44tbtwf8c1/croots/recipe/xgboost-split_1659548960882/work/src/learner.cc:1115: Starting in XGBoost 1.3.0, the default evaluation metric used with the objective 'binary:logistic' was changed from 'error' to 'logloss'. Explicitly set eval_metric if you'd like to restore the old behavior.\n"
     ]
    },
    {
     "name": "stderr",
     "output_type": "stream",
     "text": [
      "/Users/yuanqi/opt/anaconda3/envs/gene/lib/python3.8/site-packages/sklearn/base.py:443: UserWarning: X has feature names, but SelectFromModel was fitted without feature names\n",
      "  warnings.warn(\n",
      "/Users/yuanqi/opt/anaconda3/envs/gene/lib/python3.8/site-packages/sklearn/base.py:443: UserWarning: X has feature names, but SelectFromModel was fitted without feature names\n",
      "  warnings.warn(\n",
      "/Users/yuanqi/opt/anaconda3/envs/gene/lib/python3.8/site-packages/xgboost/sklearn.py:1224: UserWarning: The use of label encoder in XGBClassifier is deprecated and will be removed in a future release. To remove this warning, do the following: 1) Pass option use_label_encoder=False when constructing XGBClassifier object; and 2) Encode your labels (y) as integers starting with 0, i.e. 0, 1, 2, ..., [num_class - 1].\n",
      "  warnings.warn(label_encoder_deprecation_msg, UserWarning)\n"
     ]
    },
    {
     "name": "stdout",
     "output_type": "stream",
     "text": [
      "Index(['position_1_G'], dtype='object')\n",
      "Thresh=0.408, n=1, Accuracy: 94.93%\n"
     ]
    },
    {
     "name": "stderr",
     "output_type": "stream",
     "text": [
      "/Users/yuanqi/opt/anaconda3/envs/gene/lib/python3.8/site-packages/sklearn/base.py:443: UserWarning: X has feature names, but SelectFromModel was fitted without feature names\n",
      "  warnings.warn(\n"
     ]
    }
   ],
   "source": [
    "# use feature importance for feature selection\n",
    "from numpy import loadtxt\n",
    "from numpy import sort\n",
    "from xgboost import XGBClassifier\n",
    "from sklearn.model_selection import train_test_split\n",
    "from sklearn.metrics import accuracy_score\n",
    "from sklearn.feature_selection import SelectFromModel\n",
    "\n",
    "# fit model on all training data\n",
    "model = XGBClassifier()\n",
    "model.fit(X_train_25, y_train.values.ravel())\n",
    "# make predictions for test data and evaluate\n",
    "y_pred = model.predict(X_test_25)\n",
    "predictions = [round(value) for value in y_pred]\n",
    "accuracy = accuracy_score(y_test, predictions)\n",
    "print(\"Accuracy: %.2f%%\" % (accuracy * 100.0))\n",
    "# Fit model using each importance as a threshold\n",
    "thresholds = sort(model.feature_importances_)\n",
    "for thresh in thresholds:\n",
    "\t# select features using threshold\n",
    "\tselection = SelectFromModel(model, threshold=thresh, prefit=True)\n",
    "\tselect_X_train = selection.transform(X_train_25)\n",
    "\n",
    "\t# train model\n",
    "\tselection_model = XGBClassifier()\n",
    "\tselection_model.fit(select_X_train, y_train.values.ravel())\n",
    "\tprint(X_train_25.columns[selection.get_support()]) \n",
    "\n",
    "\t# eval model\n",
    "\tselect_X_test = selection.transform(X_test_25)\n",
    "\ty_pred = selection_model.predict(select_X_test)\n",
    "\tpredictions = [round(value) for value in y_pred]\n",
    "\taccuracy = accuracy_score(y_test, predictions)\n",
    "\tprint(\"Thresh=%.3f, n=%d, Accuracy: %.2f%%\" % (thresh, select_X_train.shape[1], accuracy*100.0))"
   ]
  },
  {
   "cell_type": "code",
   "execution_count": null,
   "metadata": {},
   "outputs": [],
   "source": [
    "#Thresh=0.008, n=24, Accuracy: 93.62%\n",
    "model = SelectFromModel(lsvc, prefit=True) \n",
    "X_new = model.transform(X) \n",
    "print(X.columns[model.get_support()]) "
   ]
  },
  {
   "cell_type": "code",
   "execution_count": 20,
   "metadata": {},
   "outputs": [],
   "source": [
    "## Load Datasets\n",
    "X_train_50_path = \"../data/new_preprocessed_data/training/X_train_50.parquet\" ## to edit file path\n",
    "X_train_50 = pd.read_parquet(X_train_50_path)"
   ]
  },
  {
   "cell_type": "code",
   "execution_count": 21,
   "metadata": {},
   "outputs": [
    {
     "name": "stdout",
     "output_type": "stream",
     "text": [
      "Number of Rows for X_train_50 and y_train: 51567, 51567\n",
      "Number of Rows for X_val_50 and y_val: 17434, 17434\n",
      "Number of Rows for X_test_50 and y_test: 16275, 16275\n"
     ]
    }
   ],
   "source": [
    "## check if training data are the same len\n",
    "print(f\"Number of Rows for X_train_50 and y_train: {len(X_train_50)}, {len(y_train)}\")\n",
    "\n",
    "## check if validation data are the same len\n",
    "print(f\"Number of Rows for X_val_50 and y_val: {len(X_val_50)}, {len(y_val)}\")\n",
    "\n",
    "## check if test data are the same len\n",
    "print(f\"Number of Rows for X_test_50 and y_test: {len(X_test_50)}, {len(y_test)}\")"
   ]
  },
  {
   "cell_type": "code",
   "execution_count": 13,
   "metadata": {},
   "outputs": [
    {
     "ename": "NameError",
     "evalue": "name 'X_train_50' is not defined",
     "output_type": "error",
     "traceback": [
      "\u001b[0;31m---------------------------------------------------------------------------\u001b[0m",
      "\u001b[0;31mNameError\u001b[0m                                 Traceback (most recent call last)",
      "\u001b[1;32m/Users/yuanqi/Desktop/DSA4262-ACMXZ/modelling/xgboost_anqi.ipynb Cell 13\u001b[0m in \u001b[0;36m<cell line: 1>\u001b[0;34m()\u001b[0m\n\u001b[0;32m----> <a href='vscode-notebook-cell:/Users/yuanqi/Desktop/DSA4262-ACMXZ/modelling/xgboost_anqi.ipynb#X15sZmlsZQ%3D%3D?line=0'>1</a>\u001b[0m xgboost(X_train_50, y_train, X_val_50, y_val, X_test_50, y_test, \u001b[39m\"\u001b[39m\u001b[39m50th quantile\u001b[39m\u001b[39m\"\u001b[39m)\n",
      "\u001b[0;31mNameError\u001b[0m: name 'X_train_50' is not defined"
     ]
    }
   ],
   "source": [
    "xgboost(X_train_50, y_train, X_val_50, y_val, X_test_50, y_test, \"50th quantile\")"
   ]
  },
  {
   "cell_type": "code",
   "execution_count": 23,
   "metadata": {},
   "outputs": [],
   "source": [
    "## Load Datasets\n",
    "X_train_75_path = \"../data/preprocessed_data/training/X_train_75.parquet\" ## to edit file path\n",
    "X_train_75 = pd.read_parquet(X_train_75_path)"
   ]
  },
  {
   "cell_type": "code",
   "execution_count": 24,
   "metadata": {},
   "outputs": [
    {
     "name": "stderr",
     "output_type": "stream",
     "text": [
      "/Users/yuanqi/opt/anaconda3/envs/gene/lib/python3.8/site-packages/xgboost/sklearn.py:1224: UserWarning: The use of label encoder in XGBClassifier is deprecated and will be removed in a future release. To remove this warning, do the following: 1) Pass option use_label_encoder=False when constructing XGBClassifier object; and 2) Encode your labels (y) as integers starting with 0, i.e. 0, 1, 2, ..., [num_class - 1].\n",
      "  warnings.warn(label_encoder_deprecation_msg, UserWarning)\n",
      "/Users/yuanqi/opt/anaconda3/envs/gene/lib/python3.8/site-packages/sklearn/preprocessing/_label.py:98: DataConversionWarning: A column-vector y was passed when a 1d array was expected. Please change the shape of y to (n_samples, ), for example using ravel().\n",
      "  y = column_or_1d(y, warn=True)\n",
      "/Users/yuanqi/opt/anaconda3/envs/gene/lib/python3.8/site-packages/sklearn/preprocessing/_label.py:133: DataConversionWarning: A column-vector y was passed when a 1d array was expected. Please change the shape of y to (n_samples, ), for example using ravel().\n",
      "  y = column_or_1d(y, warn=True)\n",
      "/Users/yuanqi/opt/anaconda3/envs/gene/lib/python3.8/site-packages/xgboost/data.py:250: FutureWarning: pandas.Int64Index is deprecated and will be removed from pandas in a future version. Use pandas.Index with the appropriate dtype instead.\n",
      "  elif isinstance(data.columns, (pd.Int64Index, pd.RangeIndex)):\n"
     ]
    },
    {
     "name": "stdout",
     "output_type": "stream",
     "text": [
      "[20:57:50] WARNING: /var/folders/sy/f16zz6x50xz3113nwtb9bvq00000gp/T/abs_44tbtwf8c1/croots/recipe/xgboost-split_1659548960882/work/src/learner.cc:1115: Starting in XGBoost 1.3.0, the default evaluation metric used with the objective 'binary:logistic' was changed from 'error' to 'logloss'. Explicitly set eval_metric if you'd like to restore the old behavior.\n",
      "Accuracy of logistic regression classifier on validation set using 50th quantile: 0.93\n",
      "Accuracy of logistic regression classifier on test set using 50th quantile: 0.94\n"
     ]
    },
    {
     "data": {
      "image/png": "[encoded data removed]",
      "text/plain": [
       "<Figure size 640x480 with 1 Axes>"
      ]
     },
     "metadata": {},
     "output_type": "display_data"
    }
   ],
   "source": [
    "xgboost(X_train_75, y_train, X_val_75, y_val, X_test_75, y_test, \"50th quantile\")"
   ]
  },
  {
   "cell_type": "code",
   "execution_count": 25,
   "metadata": {},
   "outputs": [],
   "source": [
    "## Load Datasets\n",
    "X_train_mean_path = \"../data/preprocessed_data/training/X_train_mean.parquet\" ## to edit file path\n",
    "X_train_mean = pd.read_parquet(X_train_mean_path)"
   ]
  },
  {
   "cell_type": "code",
   "execution_count": 26,
   "metadata": {},
   "outputs": [
    {
     "name": "stderr",
     "output_type": "stream",
     "text": [
      "/Users/yuanqi/opt/anaconda3/envs/gene/lib/python3.8/site-packages/xgboost/sklearn.py:1224: UserWarning: The use of label encoder in XGBClassifier is deprecated and will be removed in a future release. To remove this warning, do the following: 1) Pass option use_label_encoder=False when constructing XGBClassifier object; and 2) Encode your labels (y) as integers starting with 0, i.e. 0, 1, 2, ..., [num_class - 1].\n",
      "  warnings.warn(label_encoder_deprecation_msg, UserWarning)\n",
      "/Users/yuanqi/opt/anaconda3/envs/gene/lib/python3.8/site-packages/sklearn/preprocessing/_label.py:98: DataConversionWarning: A column-vector y was passed when a 1d array was expected. Please change the shape of y to (n_samples, ), for example using ravel().\n",
      "  y = column_or_1d(y, warn=True)\n",
      "/Users/yuanqi/opt/anaconda3/envs/gene/lib/python3.8/site-packages/sklearn/preprocessing/_label.py:133: DataConversionWarning: A column-vector y was passed when a 1d array was expected. Please change the shape of y to (n_samples, ), for example using ravel().\n",
      "  y = column_or_1d(y, warn=True)\n",
      "/Users/yuanqi/opt/anaconda3/envs/gene/lib/python3.8/site-packages/xgboost/data.py:250: FutureWarning: pandas.Int64Index is deprecated and will be removed from pandas in a future version. Use pandas.Index with the appropriate dtype instead.\n",
      "  elif isinstance(data.columns, (pd.Int64Index, pd.RangeIndex)):\n"
     ]
    },
    {
     "name": "stdout",
     "output_type": "stream",
     "text": [
      "[20:58:50] WARNING: /var/folders/sy/f16zz6x50xz3113nwtb9bvq00000gp/T/abs_44tbtwf8c1/croots/recipe/xgboost-split_1659548960882/work/src/learner.cc:1115: Starting in XGBoost 1.3.0, the default evaluation metric used with the objective 'binary:logistic' was changed from 'error' to 'logloss'. Explicitly set eval_metric if you'd like to restore the old behavior.\n",
      "Accuracy of logistic regression classifier on validation set using mean: 0.93\n",
      "Accuracy of logistic regression classifier on test set using mean: 0.94\n"
     ]
    },
    {
     "data": {
      "image/png": "[encoded data removed]",
      "text/plain": [
       "<Figure size 640x480 with 1 Axes>"
      ]
     },
     "metadata": {},
     "output_type": "display_data"
    }
   ],
   "source": [
    "xgboost(X_train_mean, y_train, X_val_mean, y_val, X_test_mean, y_test, \"mean\")"
   ]
  },
  {
   "cell_type": "markdown",
   "metadata": {},
   "source": [
    "## Hyperparameters Tuning"
   ]
  },
  {
   "cell_type": "code",
   "execution_count": 2,
   "metadata": {},
   "outputs": [],
   "source": [
    "param_grid = {\n",
    "    \"max_depth\": [3, 4, 5, 7],\n",
    "    \"learning_rate\": [0.1, 0.01, 0.05],\n",
    "    \"gamma\": [0, 0.25, 1],\n",
    "    \"reg_lambda\": [0, 1, 10],\n",
    "    \"scale_pos_weight\": [1, 3, 5],\n",
    "    \"subsample\": [0.8],\n",
    "    \"colsample_bytree\": [0.5],\n",
    "}"
   ]
  },
  {
   "cell_type": "code",
   "execution_count": null,
   "metadata": {},
   "outputs": [],
   "source": [
    "from sklearn.model_selection import GridSearchCV\n",
    "\n",
    "# Init classifier\n",
    "xgb_cl = xgb.XGBClassifier(objective=\"binary:logistic\")\n",
    "\n",
    "# Init Grid Search\n",
    "grid_cv = GridSearchCV(xgb_cl, param_grid, n_jobs=-1, cv=3, scoring=\"roc_auc\")\n",
    "\n",
    "# Fit\n",
    "_ = grid_cv.fit(X_train_25, y_train.values.ravel())"
   ]
  },
  {
   "cell_type": "code",
   "execution_count": 37,
   "metadata": {},
   "outputs": [
    {
     "data": {
      "text/plain": [
       "0.8940306247072698"
      ]
     },
     "execution_count": 37,
     "metadata": {},
     "output_type": "execute_result"
    }
   ],
   "source": [
    "grid_cv.best_score_"
   ]
  },
  {
   "cell_type": "code",
   "execution_count": 38,
   "metadata": {},
   "outputs": [
    {
     "data": {
      "text/plain": [
       "{'colsample_bytree': 0.5,\n",
       " 'gamma': 0,\n",
       " 'learning_rate': 0.1,\n",
       " 'max_depth': 7,\n",
       " 'reg_lambda': 10,\n",
       " 'scale_pos_weight': 5,\n",
       " 'subsample': 0.8}"
      ]
     },
     "execution_count": 38,
     "metadata": {},
     "output_type": "execute_result"
    }
   ],
   "source": [
    "grid_cv.best_params_"
   ]
  },
  {
   "cell_type": "code",
   "execution_count": 39,
   "metadata": {},
   "outputs": [
    {
     "data": {
      "text/plain": [
       "{'max_depth': [3, 4, 5, 7],\n",
       " 'learning_rate': [0.1, 0.01, 0.05],\n",
       " 'gamma': [0, 0.25, 1],\n",
       " 'reg_lambda': [0, 1, 10],\n",
       " 'scale_pos_weight': [1, 3, 5],\n",
       " 'subsample': [0.8],\n",
       " 'colsample_bytree': [0.5]}"
      ]
     },
     "execution_count": 39,
     "metadata": {},
     "output_type": "execute_result"
    }
   ],
   "source": [
    "param_grid"
   ]
  },
  {
   "cell_type": "code",
   "execution_count": 5,
   "metadata": {},
   "outputs": [],
   "source": [
    "# Insert the new fixed values to the grid\n",
    "#param_grid[\"scale_pos_weight\"] = [3]\n",
    "param_grid[\"subsample\"] = [0.8]\n",
    "param_grid[\"colsample_bytree\"] = [0.5]\n",
    "param_grid[\"gamma\"] = [0]\n",
    "\n",
    "# Give new value ranges to other params\n",
    "#param_grid[\"gamma\"] = [3, 5, 7]\n",
    "param_grid[\"scale_pos_weight\"] = [5, 7, 9]\n",
    "param_grid[\"max_depth\"] = [9, 15, 20]\n",
    "param_grid[\"reg_lambda\"] = [10, 30, 50]\n",
    "param_grid[\"learning_rate\"] = [0.3, 0.5, 0.7, 1]"
   ]
  },
  {
   "cell_type": "code",
   "execution_count": null,
   "metadata": {},
   "outputs": [],
   "source": [
    "from sklearn.model_selection import GridSearchCV\n",
    "\n",
    "# Init classifier\n",
    "xgb_cl = xgb.XGBClassifier(objective=\"binary:logistic\")\n",
    "\n",
    "grid_cv_2 = GridSearchCV(xgb_cl, param_grid, \n",
    "                         cv=3, scoring=\"roc_auc\", n_jobs=-1)\n",
    "\n",
    "_ = grid_cv_2.fit(X_train_25, y_train.values.ravel())"
   ]
  },
  {
   "cell_type": "code",
   "execution_count": 12,
   "metadata": {},
   "outputs": [
    {
     "data": {
      "text/plain": [
       "0.8892375222791186"
      ]
     },
     "execution_count": 12,
     "metadata": {},
     "output_type": "execute_result"
    }
   ],
   "source": [
    "grid_cv_2.best_score_"
   ]
  },
  {
   "cell_type": "code",
   "execution_count": 14,
   "metadata": {},
   "outputs": [
    {
     "data": {
      "text/plain": [
       "{'colsample_bytree': 0.5,\n",
       " 'gamma': 0,\n",
       " 'learning_rate': 0.3,\n",
       " 'max_depth': 9,\n",
       " 'reg_lambda': 50,\n",
       " 'scale_pos_weight': 5,\n",
       " 'subsample': 0.8}"
      ]
     },
     "execution_count": 14,
     "metadata": {},
     "output_type": "execute_result"
    }
   ],
   "source": [
    "grid_cv_2.best_params_"
   ]
  },
  {
   "cell_type": "code",
   "execution_count": null,
   "metadata": {},
   "outputs": [],
   "source": [
    "# randomized search\n",
    "# bayesian search"
   ]
  }
 ],
 "metadata": {
  "kernelspec": {
   "display_name": "Python 3.8.13 ('gene')",
   "language": "python",
   "name": "python3"
  },
  "language_info": {
   "codemirror_mode": {
    "name": "ipython",
    "version": 3
   },
   "file_extension": ".py",
   "mimetype": "text/x-python",
   "name": "python",
   "nbconvert_exporter": "python",
   "pygments_lexer": "ipython3",
   "version": "3.8.13"
  },
  "orig_nbformat": 4,
  "vscode": {
   "interpreter": {
    "hash": "b627dbac6ce1d59438a9c6b78997f27a2623cb1f98b78c61dc84feb6742159e0"
   }
  }
 },
 "nbformat": 4,
 "nbformat_minor": 2
}
