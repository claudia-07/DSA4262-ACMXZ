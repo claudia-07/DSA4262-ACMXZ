{
 "cells": [
  {
   "cell_type": "markdown",
   "metadata": {},
   "source": [
    "### Import Libraries"
   ]
  },
  {
   "cell_type": "code",
   "execution_count": 1,
   "metadata": {},
   "outputs": [],
   "source": [
    "import pandas as pd\n",
    "import numpy as mp\n",
    "from sklearn.linear_model import LogisticRegression\n",
    "from sklearn import metrics\n",
    "from sklearn.metrics import confusion_matrix, roc_auc_score, roc_curve, precision_recall_curve, auc\n",
    "import matplotlib.pyplot as plt"
   ]
  },
  {
   "cell_type": "markdown",
   "metadata": {},
   "source": [
    "### Load in Test and Validation Datasets"
   ]
  },
  {
   "cell_type": "code",
   "execution_count": 2,
   "metadata": {},
   "outputs": [],
   "source": [
    "## Load in Test Set\n",
    "X_test_path = \"/Users/claudia/DSA4262-ACMXZ/data/new_preprocessed_data/test/X_test_enc.parquet\"\n",
    "X_test = pd.read_parquet(X_test_path)\n",
    "\n",
    "y_test_path = \"/Users/claudia/DSA4262-ACMXZ/data/new_preprocessed_data/test/y_test.parquet\"\n",
    "y_test = pd.read_parquet(y_test_path)\n",
    "y_test = pd.DataFrame(y_test['label'].astype(int)) ## convert labels to int for roc auc calculation\n",
    "\n",
    "## Load in Validation Set\n",
    "X_val_path = \"/Users/claudia/DSA4262-ACMXZ/data/new_preprocessed_data/validation/X_val_enc.parquet\"\n",
    "X_val = pd.read_parquet(X_val_path)\n",
    "\n",
    "y_val_path = \"/Users/claudia/DSA4262-ACMXZ/data/new_preprocessed_data/validation/y_val.parquet\"\n",
    "y_val = pd.read_parquet(y_val_path)\n",
    "y_val = pd.DataFrame(y_val['label'].astype(int))\n",
    "\n",
    "y_train_path = \"/Users/claudia/DSA4262-ACMXZ/data/new_preprocessed_data/training/y_train.parquet\"\n",
    "y_train = pd.read_parquet(y_train_path)\n",
    "y_train = pd.DataFrame(y_train['label'].astype(int))"
   ]
  },
  {
   "cell_type": "markdown",
   "metadata": {},
   "source": [
    "### Create function for Basic Logistic Regression\n",
    "\n",
    "Uses sklearn\n",
    "\n",
    "https://towardsdatascience.com/building-a-logistic-regression-in-python-step-by-step-becd4d56c9c8"
   ]
  },
  {
   "cell_type": "code",
   "execution_count": 9,
   "metadata": {},
   "outputs": [],
   "source": [
    "def log_reg(x_train, y_train, x_val, y_val, x_test, y_test, variable):\n",
    "\n",
    "    ## fit logistic regression on training data\n",
    "    logreg = LogisticRegression()\n",
    "    logreg.fit(x_train, y_train)\n",
    "\n",
    "    ## predicting validation set result and calculating accuracy\n",
    "    y_val_pred = logreg.predict(x_val)\n",
    "    print('Accuracy of logistic regression classifier on validation set using {}: {:.2f}'.format(variable, logreg.score(x_val, y_val)))\n",
    "\n",
    "    ## predicting test set result and calculating accuracy\n",
    "    y_test_pred = logreg.predict(x_test)\n",
    "    print('Accuracy of logistic regression classifier on test set using {}: {:.2f}'.format(variable, logreg.score(x_test, y_test)))\n",
    "\n",
    "    ## define metrics for roc\n",
    "    y_test_pred_proba = logreg.predict_proba(x_test)[:,1]\n",
    "    fpr, tpr, thresholds = roc_curve(y_test, y_test_pred_proba)\n",
    "    logreg_roc_auc = roc_auc_score(y_test, y_test_pred_proba)\n",
    "    \n",
    "    ## create roc curve   \n",
    "    plt.figure()\n",
    "    plt.plot(fpr, tpr, label = 'Logistic Regression Classifier (area = %0.2f)' % logreg_roc_auc)\n",
    "    plt.plot([0, 1], [0, 1],'r--')\n",
    "    plt.xlim([0.0, 1.0])\n",
    "    plt.ylim([0.0, 1.05])\n",
    "    plt.xlabel('False Positive Rate')\n",
    "    plt.ylabel('True Positive Rate')\n",
    "    plt.title('Receiver operating characteristic')\n",
    "    plt.legend(loc = \"lower right\")\n",
    "    plt.show()\n",
    "\n",
    "    ## define metric for precision and recall\n",
    "    precision, recall, thresholds = precision_recall_curve(y_test, y_test_pred_proba)\n",
    "    auc_precision_recall = auc(recall, precision)\n",
    "\n",
    "    ## create pr curve   \n",
    "    plt.figure()\n",
    "    plt.plot(recall, precision, label = 'Logistic Regression Classifier (area = %0.2f)' % auc_precision_recall)\n",
    "    plt.xlim([0.0, 1.0])\n",
    "    plt.ylim([0.0, 1.05])\n",
    "    plt.xlabel('Recall')\n",
    "    plt.ylabel('Precision')\n",
    "    plt.title('Precision-Recall')\n",
    "    plt.legend(loc = \"lower right\")\n",
    "    plt.show()"
   ]
  },
  {
   "cell_type": "markdown",
   "metadata": {},
   "source": [
    "# Modelling on 25th Quantile"
   ]
  },
  {
   "cell_type": "code",
   "execution_count": 11,
   "metadata": {},
   "outputs": [],
   "source": [
    "## define columns to drop\n",
    "cols_to_drop_25 = ['dwelling_time_-1_50', 'dwelling_time_-1_75', 'dwelling_time_-1_mean', 'std_-1_50', 'std_-1_75', 'std_-1_mean', 'mean_-1_50', 'mean_-1_75', 'mean_-1_mean',\n",
    "                'dwelling_time_0_50', 'dwelling_time_0_75', 'dwelling_time_0_mean', 'std_0_50', 'std_0_75', 'std_0_mean', 'mean_0_50', 'mean_0_75', 'mean_0_mean',\n",
    "                'dwelling_time_+1_50', 'dwelling_time_+1_75', 'dwelling_time_+1_mean', 'std_+1_50', 'std_+1_75', 'std_+1_mean', 'mean_+1_50', 'mean_+1_75', 'mean_+1_mean']\n",
    "\n",
    "## dropping columns from X_validation set\n",
    "X_val_25 = X_val.drop(columns = cols_to_drop_25, axis = 1)\n",
    "\n",
    "## dropping columns from X_test set\n",
    "X_test_25 = X_test.drop(columns = cols_to_drop_25, axis = 1)\n",
    "\n",
    "## Load X_train_25\n",
    "X_train_25_path = \"/Users/claudia/DSA4262-ACMXZ/data/new_preprocessed_data/training/X_train_25.parquet\" ## to edit file path\n",
    "X_train_25 = pd.read_parquet(X_train_25_path)"
   ]
  },
  {
   "cell_type": "code",
   "execution_count": 7,
   "metadata": {},
   "outputs": [
    {
     "name": "stdout",
     "output_type": "stream",
     "text": [
      "Number of Rows for X_train_25 and y_train: 51567, 51567\n",
      "Number of Rows for X_val_25 and y_val: 17434, 17434\n",
      "Number of Rows for X_test_25 and y_test: 16275, 16275\n"
     ]
    }
   ],
   "source": [
    "print(f\"Number of Rows for X_train_25 and y_train: {len(X_train_25)}, {len(y_train)}\")\n",
    "print(f\"Number of Rows for X_test_25 and y_test: {len(X_test_25)}, {len(y_test)}\")\n",
    "print(f\"Number of Rows for X_val_25 and y_val: {len(X_val_25)}, {len(y_val)}\")"
   ]
  },
  {
   "cell_type": "code",
   "execution_count": 10,
   "metadata": {},
   "outputs": [
    {
     "name": "stderr",
     "output_type": "stream",
     "text": [
      "/opt/anaconda3/lib/python3.8/site-packages/sklearn/utils/validation.py:63: DataConversionWarning: A column-vector y was passed when a 1d array was expected. Please change the shape of y to (n_samples, ), for example using ravel().\n",
      "  return f(*args, **kwargs)\n",
      "/opt/anaconda3/lib/python3.8/site-packages/sklearn/linear_model/_logistic.py:763: ConvergenceWarning: lbfgs failed to converge (status=1):\n",
      "STOP: TOTAL NO. of ITERATIONS REACHED LIMIT.\n",
      "\n",
      "Increase the number of iterations (max_iter) or scale the data as shown in:\n",
      "    https://scikit-learn.org/stable/modules/preprocessing.html\n",
      "Please also refer to the documentation for alternative solver options:\n",
      "    https://scikit-learn.org/stable/modules/linear_model.html#logistic-regression\n",
      "  n_iter_i = _check_optimize_result(\n"
     ]
    },
    {
     "name": "stdout",
     "output_type": "stream",
     "text": [
      "Accuracy of logistic regression classifier on validation set using 25th quantile: 0.93\n",
      "Accuracy of logistic regression classifier on test set using 25th quantile: 0.94\n"
     ]
    },
    {
     "data": {
      "image/png": "[encoded data removed]",
      "text/plain": [
       "<Figure size 432x288 with 1 Axes>"
      ]
     },
     "metadata": {
      "needs_background": "light"
     },
     "output_type": "display_data"
    },
    {
     "data": {
      "image/png": "[encoded data removed]",
      "text/plain": [
       "<Figure size 432x288 with 1 Axes>"
      ]
     },
     "metadata": {
      "needs_background": "light"
     },
     "output_type": "display_data"
    }
   ],
   "source": [
    "log_reg(X_train_25, y_train, X_val_25, y_val, X_test_25, y_test, \"25th quantile\")"
   ]
  },
  {
   "cell_type": "markdown",
   "metadata": {},
   "source": [
    "# Modelling on 50th Quantile"
   ]
  },
  {
   "cell_type": "code",
   "execution_count": null,
   "metadata": {},
   "outputs": [],
   "source": [
    "## define columns to drop\n",
    "cols_to_drop_50 = ['dwelling_time_-1_25', 'dwelling_time_-1_75', 'dwelling_time_-1_mean', 'std_-1_25', 'std_-1_75', 'std_-1_mean', 'mean_-1_25', 'mean_-1_75', 'mean_-1_mean',\n",
    "                'dwelling_time_0_25', 'dwelling_time_0_75', 'dwelling_time_0_mean', 'std_0_25', 'std_0_75', 'std_0_mean', 'mean_0_25', 'mean_0_75', 'mean_0_mean',\n",
    "                'dwelling_time_+1_25', 'dwelling_time_+1_75', 'dwelling_time_+1_mean', 'std_+1_25', 'std_+1_75', 'std_+1_mean', 'mean_+1_25', 'mean_+1_75', 'mean_+1_mean']\n",
    "\n",
    "## dropping columns from X_validation set\n",
    "X_val_50 = X_val.drop(columns = cols_to_drop_50, axis = 1)\n",
    "\n",
    "## dropping columns from X_test set\n",
    "X_test_50 = X_test.drop(columns = cols_to_drop_50, axis = 1)\n",
    "\n",
    "## Load X_train_50\n",
    "X_train_50_path = \"/Users/claudia/DSA4262-ACMXZ/data/new_preprocessed_data/training/X_train_50.parquet\" ## to edit file path\n",
    "X_train_50 = pd.read_parquet(X_train_50_path)"
   ]
  },
  {
   "cell_type": "code",
   "execution_count": 14,
   "metadata": {},
   "outputs": [
    {
     "name": "stdout",
     "output_type": "stream",
     "text": [
      "Number of Rows for X_train_50 and y_train: 51567, 51567\n",
      "Number of Rows for X_val_50 and y_val: 17434, 17434\n",
      "Number of Rows for X_test_50 and y_test: 16275, 16275\n"
     ]
    }
   ],
   "source": [
    "## check if training data are the same len\n",
    "print(f\"Number of Rows for X_train_50 and y_train: {len(X_train_50)}, {len(y_train)}\")\n",
    "\n",
    "## check if validation data are the same len\n",
    "print(f\"Number of Rows for X_val_50 and y_val: {len(X_val_50)}, {len(y_val)}\")\n",
    "\n",
    "## check if test data are the same len\n",
    "print(f\"Number of Rows for X_test_50 and y_test: {len(X_test_50)}, {len(y_test)}\")"
   ]
  },
  {
   "cell_type": "code",
   "execution_count": 15,
   "metadata": {},
   "outputs": [
    {
     "name": "stderr",
     "output_type": "stream",
     "text": [
      "/opt/anaconda3/lib/python3.8/site-packages/sklearn/utils/validation.py:63: DataConversionWarning: A column-vector y was passed when a 1d array was expected. Please change the shape of y to (n_samples, ), for example using ravel().\n",
      "  return f(*args, **kwargs)\n"
     ]
    },
    {
     "name": "stdout",
     "output_type": "stream",
     "text": [
      "Accuracy of logistic regression classifier on validation set using 50th quantile: 0.93\n",
      "Accuracy of logistic regression classifier on test set using 50th quantile: 0.94\n"
     ]
    },
    {
     "data": {
      "image/png": "[encoded data removed]",
      "text/plain": [
       "<Figure size 432x288 with 1 Axes>"
      ]
     },
     "metadata": {
      "needs_background": "light"
     },
     "output_type": "display_data"
    }
   ],
   "source": [
    "log_reg(X_train_50, y_train, X_val_50, y_val, X_test_50, y_test, \"50th quantile\")"
   ]
  },
  {
   "cell_type": "markdown",
   "metadata": {},
   "source": [
    "# Modelling on 75th Quantile"
   ]
  },
  {
   "cell_type": "code",
   "execution_count": null,
   "metadata": {},
   "outputs": [],
   "source": [
    "## define columns to drop\n",
    "cols_to_drop_75 = ['dwelling_time_-1_25', 'dwelling_time_-1_50', 'dwelling_time_-1_mean', 'std_-1_25', 'std_-1_50', 'std_-1_mean', 'mean_-1_25', 'mean_-1_50', 'mean_-1_mean',\n",
    "                    'dwelling_time_0_25', 'dwelling_time_0_50', 'dwelling_time_0_mean', 'std_0_25', 'std_0_50', 'std_0_mean', 'mean_0_25', 'mean_0_50', 'mean_0_mean',\n",
    "                    'dwelling_time_+1_25', 'dwelling_time_+1_50', 'dwelling_time_+1_mean', 'std_+1_25', 'std_+1_50', 'std_+1_mean', 'mean_+1_25', 'mean_+1_50', 'mean_+1_mean']\n",
    "\n",
    "## dropping columns from X_validation set\n",
    "X_val_75 = X_val.drop(columns = cols_to_drop_75, axis = 1)\n",
    "\n",
    "## dropping columns from X_test set\n",
    "X_test_75 = X_test.drop(columns = cols_to_drop_75, axis = 1)\n",
    "\n",
    "## Load X_train_75\n",
    "X_train_75_path = \"/Users/claudia/DSA4262-ACMXZ/data/new_preprocessed_data/training/X_train_75.parquet\" ## to edit file path\n",
    "X_train_75 = pd.read_parquet(X_train_75_path)"
   ]
  },
  {
   "cell_type": "code",
   "execution_count": 17,
   "metadata": {},
   "outputs": [
    {
     "name": "stdout",
     "output_type": "stream",
     "text": [
      "Number of Rows for X_train_75 and y_train: 51567, 51567\n",
      "Number of Rows for X_val_75 and y_val: 17434, 17434\n",
      "Number of Rows for X_test_75 and y_test: 16275, 16275\n"
     ]
    }
   ],
   "source": [
    "## check if training data are the same len\n",
    "print(f\"Number of Rows for X_train_75 and y_train: {len(X_train_75)}, {len(y_train)}\")\n",
    "\n",
    "## check if validation data are the same len\n",
    "print(f\"Number of Rows for X_val_75 and y_val: {len(X_val_75)}, {len(y_val)}\")\n",
    "\n",
    "## check if test data are the same len\n",
    "print(f\"Number of Rows for X_test_75 and y_test: {len(X_test_75)}, {len(y_test)}\")"
   ]
  },
  {
   "cell_type": "code",
   "execution_count": 18,
   "metadata": {},
   "outputs": [
    {
     "name": "stderr",
     "output_type": "stream",
     "text": [
      "/opt/anaconda3/lib/python3.8/site-packages/sklearn/utils/validation.py:63: DataConversionWarning: A column-vector y was passed when a 1d array was expected. Please change the shape of y to (n_samples, ), for example using ravel().\n",
      "  return f(*args, **kwargs)\n"
     ]
    },
    {
     "name": "stdout",
     "output_type": "stream",
     "text": [
      "Accuracy of logistic regression classifier on validation set using 75th quantile: 0.93\n",
      "Accuracy of logistic regression classifier on test set using 75th quantile: 0.94\n"
     ]
    },
    {
     "data": {
      "image/png": "[encoded data removed]",
      "text/plain": [
       "<Figure size 432x288 with 1 Axes>"
      ]
     },
     "metadata": {
      "needs_background": "light"
     },
     "output_type": "display_data"
    }
   ],
   "source": [
    "log_reg(X_train_75, y_train, X_val_75, y_val, X_test_75, y_test, \"75th quantile\")"
   ]
  },
  {
   "cell_type": "markdown",
   "metadata": {},
   "source": [
    "# Modelling on Mean"
   ]
  },
  {
   "cell_type": "code",
   "execution_count": null,
   "metadata": {},
   "outputs": [],
   "source": [
    "## define columns to drop\n",
    "cols_to_drop_mean = ['dwelling_time_-1_25', 'dwelling_time_-1_50', 'dwelling_time_-1_75', 'std_-1_25', 'std_-1_50', 'std_-1_75', 'mean_-1_25', 'mean_-1_50', 'mean_-1_75',\n",
    "                    'dwelling_time_0_25', 'dwelling_time_0_50', 'dwelling_time_0_75', 'std_0_25', 'std_0_50', 'std_0_75', 'mean_0_25', 'mean_0_50', 'mean_0_75',\n",
    "                    'dwelling_time_+1_25', 'dwelling_time_+1_50', 'dwelling_time_+1_75', 'std_+1_25', 'std_+1_50', 'std_+1_75', 'mean_+1_25', 'mean_+1_50', 'mean_+1_75']\n",
    "\n",
    "## dropping columns from X_validation set\n",
    "X_val_mean = X_val.drop(columns = cols_to_drop_mean, axis = 1)\n",
    "\n",
    "## dropping columns from X_test set\n",
    "X_test_mean = X_test.drop(columns = cols_to_drop_mean, axis = 1)\n",
    "\n",
    "## Load X_train_mean\n",
    "X_train_mean_path = \"/Users/claudia/DSA4262-ACMXZ/data/new_preprocessed_data/training/X_train_mean.parquet\" ## to edit file path\n",
    "X_train_mean = pd.read_parquet(X_train_mean_path)"
   ]
  },
  {
   "cell_type": "code",
   "execution_count": 20,
   "metadata": {},
   "outputs": [
    {
     "name": "stdout",
     "output_type": "stream",
     "text": [
      "Number of Rows for X_train_mean and y_train: 51567, 51567\n",
      "Number of Rows for X_val_mean and y_val: 17434, 17434\n",
      "Number of Rows for X_test_mean and y_test: 16275, 16275\n"
     ]
    }
   ],
   "source": [
    "## check if training data are the same len\n",
    "print(f\"Number of Rows for X_train_mean and y_train: {len(X_train_mean)}, {len(y_train)}\")\n",
    "\n",
    "## check if validation data are the same len\n",
    "print(f\"Number of Rows for X_val_mean and y_val: {len(X_val_mean)}, {len(y_val)}\")\n",
    "\n",
    "## check if test data are the same len\n",
    "print(f\"Number of Rows for X_test_mean and y_test: {len(X_test_mean)}, {len(y_test)}\")"
   ]
  },
  {
   "cell_type": "code",
   "execution_count": 21,
   "metadata": {},
   "outputs": [
    {
     "name": "stderr",
     "output_type": "stream",
     "text": [
      "/opt/anaconda3/lib/python3.8/site-packages/sklearn/utils/validation.py:63: DataConversionWarning: A column-vector y was passed when a 1d array was expected. Please change the shape of y to (n_samples, ), for example using ravel().\n",
      "  return f(*args, **kwargs)\n"
     ]
    },
    {
     "name": "stdout",
     "output_type": "stream",
     "text": [
      "Accuracy of logistic regression classifier on validation set using mean: 0.93\n",
      "Accuracy of logistic regression classifier on test set using mean: 0.94\n"
     ]
    },
    {
     "data": {
      "image/png": "[encoded data removed]",
      "text/plain": [
       "<Figure size 432x288 with 1 Axes>"
      ]
     },
     "metadata": {
      "needs_background": "light"
     },
     "output_type": "display_data"
    }
   ],
   "source": [
    "log_reg(X_train_mean, y_train, X_val_mean, y_val, X_test_mean, y_test, \"mean\")"
   ]
  },
  {
   "cell_type": "markdown",
   "metadata": {},
   "source": [
    "### Methods to improve accuracy\n",
    "\n",
    "clustering certain variables\n",
    "\n",
    "https://towardsdatascience.com/how-to-improve-the-accuracy-of-a-regression-model-3517accf8604"
   ]
  },
  {
   "cell_type": "code",
   "execution_count": null,
   "metadata": {},
   "outputs": [],
   "source": [
    "### clustering\n",
    "\n",
    "from sklearn.cluster import KMeans\n",
    "\n",
    "## features that we want to consider when clustering\n",
    "features = [] \n",
    "\n",
    "## fitting the cluster\n",
    "kmeans = KMeans(n_cluster = 2) ## can edit the number of clusters\n",
    "kmeans.fit(data[features])\n",
    "\n",
    "## create a new column in data df to tell us which cluster it belongs to\n",
    "data['cluster'] = kmeans.predict(data[features]) "
   ]
  },
  {
   "cell_type": "markdown",
   "metadata": {},
   "source": [
    "### Re-fit the Model"
   ]
  },
  {
   "cell_type": "code",
   "execution_count": null,
   "metadata": {},
   "outputs": [],
   "source": [
    "## to define the variables used for prediction (X) and the result (y)\n",
    "\n",
    "X = data[] \n",
    "y = data[] \n",
    "\n",
    "## split data into test and training set\n",
    "\n",
    "X_train_cluster, X_test_cluster, y_train_cluster, y_test_cluster = train_test_split(X, y, \n",
    "                                    test_size = 0.3, ## proportion of dataset to be used as test \n",
    "                                    random_state = 0) ## for reproducibility"
   ]
  },
  {
   "cell_type": "code",
   "execution_count": null,
   "metadata": {},
   "outputs": [],
   "source": [
    "## fitting the model\n",
    "\n",
    "logreg_cluster = LogisticRegression()\n",
    "logreg_cluster.fit(X_train_cluster, y_train_cluster)"
   ]
  },
  {
   "cell_type": "code",
   "execution_count": null,
   "metadata": {},
   "outputs": [],
   "source": [
    "## predicting test set result and calculating accuracy\n",
    "\n",
    "y_pred_cluster = logreg_cluster.predict(X_test_cluster)\n",
    "print('Accuracy of logistic regression classifier with clustering on test set: {:.2f}'.format(logreg_cluster.score(X_test_cluster, y_test_cluster)))"
   ]
  },
  {
   "cell_type": "code",
   "execution_count": null,
   "metadata": {},
   "outputs": [],
   "source": [
    "## printing confusion matrix\n",
    "\n",
    "confusion_matrix_cluster = confusion_matrix(y_test_cluster, y_pred_cluster)\n",
    "print(confusion_matrix_cluster)"
   ]
  },
  {
   "cell_type": "code",
   "execution_count": null,
   "metadata": {},
   "outputs": [],
   "source": [
    "## roc curve\n",
    "\n",
    "logit_roc_auc_cluster = roc_auc_score(y_test_cluster, y_pred_cluster)\n",
    "\n",
    "## fpr = false positive rate\n",
    "## tpr = true positive rate\n",
    "fpr_cluster, tpr_cluster, thresholds_cluster = roc_curve(y_test_cluster, logreg_cluster.predict_proba(X_test_cluster)[:,1])\n",
    "plt.rc(\"font\", size = 14)\n",
    "plt.figure()\n",
    "plt.plot(fpr_cluster, tpr_cluster, label = 'Logistic Regression Cluster (area = %0.2f)' % logit_roc_auc_cluster)\n",
    "plt.plot([0, 1], [0, 1],'r--')\n",
    "plt.xlim([0.0, 1.0])\n",
    "plt.ylim([0.0, 1.05])\n",
    "plt.xlabel('False Positive Rate with Clustering')\n",
    "plt.ylabel('True Positive Rate with Clustering')\n",
    "plt.title('Receiver operating characteristic with Clustering')\n",
    "plt.legend(loc = \"lower right\")\n",
    "plt.savefig('Log_ROC')\n",
    "plt.show()"
   ]
  }
 ],
 "metadata": {
  "kernelspec": {
   "display_name": "Python 3.8.8 ('base')",
   "language": "python",
   "name": "python3"
  },
  "language_info": {
   "codemirror_mode": {
    "name": "ipython",
    "version": 3
   },
   "file_extension": ".py",
   "mimetype": "text/x-python",
   "name": "python",
   "nbconvert_exporter": "python",
   "pygments_lexer": "ipython3",
   "version": "3.8.8"
  },
  "orig_nbformat": 4,
  "vscode": {
   "interpreter": {
    "hash": "40d3a090f54c6569ab1632332b64b2c03c39dcf918b08424e98f38b5ae0af88f"
   }
  }
 },
 "nbformat": 4,
 "nbformat_minor": 2
}
